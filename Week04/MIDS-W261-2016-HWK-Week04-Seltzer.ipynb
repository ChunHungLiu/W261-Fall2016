{
 "cells": [
  {
   "cell_type": "markdown",
   "metadata": {},
   "source": [
    "# DATASCI W261: Machine Learning at Scale\n",
    "## Assignment Week 4\n",
    "Miki Seltzer (miki.seltzer@berkeley.edu)<br>\n",
    "W261-2, Spring 2016<br>\n",
    "Submission: "
   ]
  },
  {
   "cell_type": "markdown",
   "metadata": {
    "collapsed": true
   },
   "source": [
    "## HW 4.0\n",
    "\n",
    "### What is MrJob? How is it different to Hadoop MapReduce? \n",
    "MRJob is a framework for running MapReduce jobs. It is flexible and allows you to run jobs locally, using Hadoop, or even on AWS. It allows for chaining MapReduce jobs together, while Hadoop MapReduce only allows running one job at a time. Similarly to the Hadoop Streaming API, we can write MapReduce jobs in Python, and utilize all of the libraries available to Python.\n",
    "\n",
    "### What are the mapper_init(), mapper_final(), combiner_final(), reducer_final() methods? When are they called?\n",
    "- mapper_init(): This runs before the mapper processes any input. It can be used to initialize mapper-specific helper structures.\n",
    "- mapper_final(): This runs after the mapper gets to the end of the input stream. This can be used to store variables that should only be emitted after all data has been processed, such as a total.\n",
    "- combiner_final(): This is similar to mapper_final(), but runs at the end of the input stream in the combiner.\n",
    "- reducer_final(): Also similar to mapper_final(), but runs at the end of the input stream in the reducer."
   ]
  },
  {
   "cell_type": "markdown",
   "metadata": {},
   "source": [
    "## HW 4.1\n",
    "\n",
    "### What is serialization in the context of MrJob or Hadoop? \n",
    "Serialization is the process of translating an object into a series of bytes for sending it where it's needed.\n",
    "\n",
    "### When it used in these frameworks? \n",
    "Each job has specified protocols that serialize and deserialize bytes as they are sent between different steps of the MapReduce jobs.\n",
    "\n",
    "### What is the default serialization mode for input and outputs for MrJob? \n",
    "The default protocol for serialization is RawValueProtocol, which just reads each record as a string."
   ]
  },
  {
   "cell_type": "markdown",
   "metadata": {},
   "source": [
    "## HW4.2: Write the Python code to preprocess the Microsoft logfile data on a single node into the appropriate format."
   ]
  },
  {
   "cell_type": "code",
   "execution_count": 17,
   "metadata": {
    "collapsed": false
   },
   "outputs": [],
   "source": [
    "import csv\n",
    "\n",
    "# Create files to write the processed data to\n",
    "outfile = open('anonymous-msweb-preprocess.data', 'wb')\n",
    "outWriter = csv.writer(outfile)\n",
    "attributes = open('attributes.csv', 'wb')\n",
    "attWriter = csv.writer(attributes)\n",
    "\n",
    "with open('anonymous-msweb.data', 'r') as infile:\n",
    "    for line in csv.reader(infile):\n",
    "        \n",
    "        # Check if this line is an attribute\n",
    "        # If it is, write to the attributes file\n",
    "        if line[0] == 'A':\n",
    "            attWriter.writerow([line[1], line[3], line[4]])\n",
    "            \n",
    "        # Check if this line is a visitor ID\n",
    "        # If it is, save it to memory\n",
    "        elif line[0] == 'C':\n",
    "            visitor_id = line[2]\n",
    "        \n",
    "        # Check if this line is a visit with a page ID\n",
    "        # If it is, write it with the current visitor_id\n",
    "        elif line[0] == 'V':\n",
    "            outWriter.writerow([line[0], line[1], line[2], 'C', visitor_id])\n",
    "\n",
    "outfile.close()\n",
    "attributes.close()"
   ]
  },
  {
   "cell_type": "code",
   "execution_count": 1,
   "metadata": {
    "collapsed": false,
    "scrolled": true
   },
   "outputs": [
    {
     "name": "stdout",
     "output_type": "stream",
     "text": [
      "V,1000,1,C,10001\r\n",
      "V,1001,1,C,10001\r\n",
      "V,1002,1,C,10001\r\n",
      "V,1001,1,C,10002\r\n",
      "V,1003,1,C,10002\r\n",
      "V,1001,1,C,10003\r\n",
      "V,1003,1,C,10003\r\n",
      "V,1004,1,C,10003\r\n",
      "V,1005,1,C,10004\r\n",
      "V,1006,1,C,10005\r\n"
     ]
    }
   ],
   "source": [
    "# Test out our code above\n",
    "!head anonymous-msweb-preprocess.data"
   ]
  },
  {
   "cell_type": "markdown",
   "metadata": {},
   "source": [
    "## HW 4.3: Find the 5 most frequently visited pages using MrJob from the output of 4.2 (i.e., transformed log file)."
   ]
  },
  {
   "cell_type": "code",
   "execution_count": 1,
   "metadata": {
    "collapsed": false
   },
   "outputs": [],
   "source": [
    "%load_ext autoreload\n",
    "%autoreload 2"
   ]
  },
  {
   "cell_type": "code",
   "execution_count": 55,
   "metadata": {
    "collapsed": false
   },
   "outputs": [
    {
     "name": "stdout",
     "output_type": "stream",
     "text": [
      "Overwriting mr_pageCount.py\n"
     ]
    }
   ],
   "source": [
    "%%writefile mr_pageCount.py\n",
    "from mrjob.job import MRJob\n",
    "from mrjob.step import MRStep\n",
    "import csv\n",
    "\n",
    "def read_csvLine(line):\n",
    "    # Given a comma delimited string, return fields\n",
    "    for row in csv.reader([line]):\n",
    "        return row\n",
    "\n",
    "class MRPageFreqCount(MRJob):\n",
    "    \n",
    "    # Mapper1: emit page_id, 1\n",
    "    def mapper_count(self, _, line):\n",
    "        fields = read_csvLine(line)\n",
    "        yield fields[1], 1\n",
    "\n",
    "    # Combiner1: aggregate page_id\n",
    "    def combiner_count(self, page, counts):\n",
    "        yield page, sum(counts)\n",
    "\n",
    "    # Reducer1: aggregate page_id\n",
    "    def reducer_count(self, page, counts):\n",
    "        yield page, sum(counts)\n",
    "    \n",
    "    # Mapper2: invert page and counts to sort\n",
    "    def mapper_sort(self, page, counts):\n",
    "        yield '%010d' % counts, page\n",
    "        \n",
    "    # Reducer2: identity\n",
    "    def reducer_sort(self, counts, page):\n",
    "        for p in page:\n",
    "            yield int(counts), p\n",
    "                \n",
    "    # Multi-step pipeline definition\n",
    "    def steps(self):\n",
    "        return [\n",
    "            MRStep(mapper=self.mapper_count, \n",
    "                   combiner=self.combiner_count, \n",
    "                   reducer=self.reducer_count),\n",
    "            MRStep(mapper=self.mapper_sort,\n",
    "                   reducer=self.reducer_sort)]\n",
    "    \n",
    "    \n",
    "    \n",
    "\n",
    "if __name__ == '__main__':\n",
    "    MRPageFreqCount.run()"
   ]
  },
  {
   "cell_type": "code",
   "execution_count": 67,
   "metadata": {
    "collapsed": false
   },
   "outputs": [
    {
     "name": "stderr",
     "output_type": "stream",
     "text": [
      "WARNING:mrjob.runner:\n",
      "WARNING:mrjob.runner:PLEASE NOTE: Starting in mrjob v0.5.0, protocols will be strict by default. It's recommended you run your job with --strict-protocols or set up mrjob.conf as described at https://pythonhosted.org/mrjob/whats-new.html#ready-for-strict-protocols\n",
      "WARNING:mrjob.runner:\n"
     ]
    }
   ],
   "source": [
    "from mr_pageCount import MRPageFreqCount\n",
    "\n",
    "mr_job = MRPageFreqCount(args=['anonymous-msweb-preprocess.data'])\n",
    "output = []\n",
    "\n",
    "with mr_job.make_runner() as runner: \n",
    "    # Run MRJob\n",
    "    runner.run()\n",
    "    \n",
    "    # Write stream_output to file\n",
    "    for line in runner.stream_output():\n",
    "        output.append(mr_job.parse_output_line(line))"
   ]
  },
  {
   "cell_type": "code",
   "execution_count": 72,
   "metadata": {
    "collapsed": false
   },
   "outputs": [
    {
     "name": "stdout",
     "output_type": "stream",
     "text": [
      "page_id   count\n",
      "----------------\n",
      "1008     10,836\n",
      "1034      9,383\n",
      "1004      8,463\n",
      "1018      5,330\n",
      "1017      5,108\n"
     ]
    }
   ],
   "source": [
    "print '{:8s}{:>7s}'.format('page_id', 'count')\n",
    "print '----------------'\n",
    "for i in range(5):\n",
    "    print '{:8s}{:7,d}'.format(output[-i-1][1], output[-i-1][0])"
   ]
  },
  {
   "cell_type": "markdown",
   "metadata": {},
   "source": [
    "## HW 4.4: Find the most frequent visitor of each page using MrJob and the output of 4.2  (i.e., transformed log file). In this output please include the webpage URL, webpageID and Visitor ID."
   ]
  },
  {
   "cell_type": "code",
   "execution_count": 111,
   "metadata": {
    "collapsed": false
   },
   "outputs": [
    {
     "name": "stdout",
     "output_type": "stream",
     "text": [
      "Overwriting mr_visitorCount.py\n"
     ]
    }
   ],
   "source": [
    "%%writefile mr_visitorCount.py\n",
    "from mrjob.job import MRJob\n",
    "from mrjob.step import MRStep\n",
    "from collections import Counter\n",
    "import csv\n",
    "\n",
    "def read_csvLine(line):\n",
    "    # Given a comma delimited string, return fields\n",
    "    for row in csv.reader([line]):\n",
    "        return row\n",
    "\n",
    "class MRTopVisitorCount(MRJob):\n",
    "    \n",
    "    # Mapper1: emit page_id, 1\n",
    "    def mapper_count(self, _, line):\n",
    "        fields = read_csvLine(line)\n",
    "        yield fields[1], (fields[4], 1)\n",
    "\n",
    "    # Reducer1: aggregate page_id\n",
    "    def reducer_count(self, page, counts):\n",
    "        count = Counter()\n",
    "        for visitor in counts:\n",
    "            count.update({visitor[0]:visitor[1]})\n",
    "        yield page, count\n",
    "    \n",
    "    # Mapper2: invert page and counts to sort\n",
    "    def mapper_sort(self, page, counts):\n",
    "        top = Counter(counts).most_common(1)\n",
    "        yield page, (top[0][0], top[0][1])\n",
    "        \n",
    "    # Reducer2: identity\n",
    "    def reducer_sort(self, page, visitor_count):\n",
    "        for v in visitor_count:\n",
    "            yield page, v\n",
    "                \n",
    "    # Multi-step pipeline definition\n",
    "    def steps(self):\n",
    "        return [\n",
    "            MRStep(mapper=self.mapper_count,\n",
    "                   reducer=self.reducer_count),\n",
    "            MRStep(mapper=self.mapper_sort,\n",
    "                   reducer=self.reducer_sort)]\n",
    "    \n",
    "    \n",
    "    \n",
    "\n",
    "if __name__ == '__main__':\n",
    "    MRPageFreqCount.run()"
   ]
  },
  {
   "cell_type": "code",
   "execution_count": 113,
   "metadata": {
    "collapsed": false
   },
   "outputs": [
    {
     "name": "stderr",
     "output_type": "stream",
     "text": [
      "WARNING:mrjob.runner:\n",
      "WARNING:mrjob.runner:PLEASE NOTE: Starting in mrjob v0.5.0, protocols will be strict by default. It's recommended you run your job with --strict-protocols or set up mrjob.conf as described at https://pythonhosted.org/mrjob/whats-new.html#ready-for-strict-protocols\n",
      "WARNING:mrjob.runner:\n"
     ]
    }
   ],
   "source": [
    "from mr_visitorCount import MRTopVisitorCount\n",
    "\n",
    "mr_job = MRTopVisitorCount(args=['anonymous-msweb-preprocess.data'])\n",
    "output = []\n",
    "\n",
    "with mr_job.make_runner() as runner: \n",
    "    # Run MRJob\n",
    "    runner.run()\n",
    "    \n",
    "    # Write stream_output to file\n",
    "    for line in runner.stream_output():\n",
    "        output.append(mr_job.parse_output_line(line))"
   ]
  },
  {
   "cell_type": "code",
   "execution_count": 135,
   "metadata": {
    "collapsed": false
   },
   "outputs": [
    {
     "name": "stdout",
     "output_type": "stream",
     "text": [
      "page id   page URL                     visitor id  count\n",
      "---------------------------------------------------------\n",
      "1000      /regwiz                           36585      1\n",
      "1001      /support                          35232      1\n",
      "1002      /athome                           35235      1\n",
      "1003      /kb                               35546      1\n",
      "1004      /search                           35540      1\n",
      "1005      /norge                            10004      1\n",
      "1006      /misc                             27495      1\n",
      "1007      /ie_intl                          19492      1\n",
      "1008      /msdownload                       35236      1\n",
      "1009      /windows                          16073      1\n",
      "1010      /vbasic                           20915      1\n",
      "1011      /officedev                        40152      1\n",
      "1012      /outlookdev                       23657      1\n",
      "1013      /vbasicsupport                    32727      1\n",
      "1014      /officefreestuff                  20914      1\n",
      "1015      /msexcel                          15125      1\n",
      "1016      /excel                            35542      1\n",
      "1017      /products                         35234      1\n",
      "1018      /isapi                            35237      1\n",
      "1019      /mspowerpoint                     16765      1\n",
      "1020      /msdn                             23991      1\n",
      "1021      /visualc                          25260      1\n",
      "1022      /truetype                         15906      1\n",
      "1023      /spain                            16079      1\n",
      "1024      /iis                              20447      1\n",
      "1025      /gallery                          35234      1\n",
      "1026      /sitebuilder                      23990      1\n",
      "1027      /intdev                           15450      1\n",
      "1028      /oledev                           11191      1\n",
      "1029      /clipgallerylive                  33083      1\n",
      "1030      /ntserver                         22468      1\n",
      "1031      /msoffice                         22505      1\n",
      "1032      /games                            35542      1\n",
      "1033      /logostore                        19483      1\n",
      "1034      /ie                               35540      1\n",
      "1035      /windowssupport                   35546      1\n",
      "1036      /organizations                    22505      1\n",
      "1037      /windows95                        19490      1\n",
      "1038      /sbnmember                        32230      1\n",
      "1039      /isp                              26948      1\n",
      "1040      /office                           39325      1\n",
      "1041      /workshop                         35234      1\n",
      "1042      /vstudio                          40159      1\n",
      "1043      /smallbiz                         33738      1\n",
      "1044      /mediadev                         40224      1\n",
      "1045      /netmeeting                       20917      1\n",
      "1046      /iesupport                        18496      1\n",
      "1048      /publisher                        33083      1\n",
      "1049      /supportnet                       33329      1\n",
      "1050      /macoffice                        30757      1\n",
      "1051      /scheduleplus                     32702      1\n",
      "1052      /word                             20914      1\n",
      "1053      /visualj                          36585      1\n",
      "1054      /exchange                         42285      1\n",
      "1055      /kids                             33326      1\n",
      "1056      /sports                           15907      1\n",
      "1057      /powerpoint                       39792      1\n",
      "1058      /referral                         19490      1\n",
      "1059      /sverige                          33081      1\n",
      "1060      /msword                           20914      1\n",
      "1061      /promo                            20916      1\n",
      "1062      /msaccess                         36585      1\n",
      "1063      /intranet                         39793      1\n",
      "1064      /activeplatform                   23990      1\n",
      "1065      /java                             33080      1\n",
      "1066      /musicproducer                    19805      1\n",
      "1067      /frontpage                        33738      1\n",
      "1068      /vbscript                         19548      1\n",
      "1069      /windowsce                        32702      1\n",
      "1070      /activex                          35234      1\n",
      "1071      /automap                          35237      1\n",
      "1072      /vinterdev                        35708      1\n",
      "1073      /taiwan                           26095      1\n",
      "1074      /ntworkstation                    11520      1\n",
      "1075      /jobs                             35541      1\n",
      "1076      /ntwkssupport                     33328      1\n",
      "1077      /msofficesupport                  40554      1\n",
      "1078      /ntserversupport                  14174      1\n",
      "1079      /australia                        40557      1\n",
      "1080      /brasil                           31789      1\n",
      "1081      /accessdev                        36585      1\n",
      "1082      /access                           36581      1\n",
      "1083      /msaccesssupport                  16523      1\n",
      "1084      /uk                               18312      1\n",
      "1085      /exchangesupport                  25179      1\n",
      "1086      /oem                              27590      1\n",
      "1087      /proxy                            14344      1\n",
      "1088      /outlook                          42285      1\n",
      "1089      /officereference                  40152      1\n",
      "1090      /gamessupport                     18725      1\n",
      "1091      /hwdev                            13971      1\n",
      "1092      /vfoxpro                          25332      1\n",
      "1093      /vba                              18053      1\n",
      "1094      /mshome                           16325      1\n",
      "1095      /catalog                          39791      1\n",
      "1096      /mspress                          19490      1\n",
      "1097      /latam                            18646      1\n",
      "1098      /devonly                          21485      1\n",
      "1099      /cio                              20887      1\n",
      "1100      /education                        14918      1\n",
      "1101      /oledb                            20067      1\n",
      "1102      /homeessentials                   30059      1\n",
      "1103      /works                            10168      1\n",
      "1104      /hk                               18889      1\n",
      "1105      /france                           30323      1\n",
      "1106      /cze                              35548      1\n",
      "1107      /slovakia                         17654      1\n",
      "1108      /teammanager                      16745      1\n",
      "1109      /technet                          22777      1\n",
      "1110      /mastering                        20931      1\n",
      "1111      /ssafe                            35353      1\n",
      "1112      /canada                           19263      1\n",
      "1113      /security                         26781      1\n",
      "1114      /servad                           27596      1\n",
      "1115      /hun                              14980      1\n",
      "1116      /switzerland                      27868      1\n",
      "1117      /sidewinder                       41101      1\n",
      "1118      /sql                              14347      1\n",
      "1119      /corpinfo                         33738      1\n",
      "1120      /switch                           10241      1\n",
      "1121      /magazine                         41018      1\n",
      "1122      /mindshare                        25185      1\n",
      "1123      /germany                          22506      1\n",
      "1124      /industry                         30187      1\n",
      "1125      /imagecomposer                    27594      1\n",
      "1126      /mediamanager                     38950      1\n",
      "1127      /netshow                          39790      1\n",
      "1128      /msf                              10286      1\n",
      "1129      /ado                              20067      1\n",
      "1130      /syspro                           18495      1\n",
      "1131      /moneyzone                        33738      1\n",
      "1132      /msmoneysupport                   20613      1\n",
      "1133      /frontpagesupport                 17209      1\n",
      "1134      /backoffice                       16071      1\n",
      "1135      /mswordsupport                    16523      1\n",
      "1136      /usa                              26659      1\n",
      "1137      /mscorp                           20346      1\n",
      "1138      /mind                             17452      1\n",
      "1139      /k-12                             23476      1\n",
      "1140      /netherlands                      33245      1\n",
      "1141      /europe                           41073      1\n",
      "1142      /southafrica                      40197      1\n",
      "1143      /workshoop                        42286      1\n",
      "1144      /devnews                          41640      1\n",
      "1145      /vfoxprosupport                   33490      1\n",
      "1146      /msp                              20674      1\n",
      "1147      /msft                             38899      1\n",
      "1148      /channel_resources                27595      1\n",
      "1149      /adc                              19852      1\n",
      "1150      /infoserv                         11191      1\n",
      "1151      /mspowerpointsupport              32892      1\n",
      "1152      /rus                              34046      1\n",
      "1153      /venezuela                        18646      1\n",
      "1154      /project                          22773      1\n",
      "1155      /sidewalk                         33364      1\n",
      "1156      /powered                          27595      1\n",
      "1157      /win32dev                         34779      1\n",
      "1158      /imedia                           29597      1\n",
      "1159      /transaction                      35319      1\n",
      "1160      /visualcsupport                   39694      1\n",
      "1161      /workssupport                     32483      1\n",
      "1162      /infoservsupport                  42285      1\n",
      "1163      /opentype                         14851      1\n",
      "1164      /smsmgmt                          24181      1\n",
      "1165      /poland                           40203      1\n",
      "1166      /mexico                           25153      1\n",
      "1167      /hwtest                           33328      1\n",
      "1168      /salesinfo                        38486      1\n",
      "1169      /msproject                        22773      1\n",
      "1170      /mail                             33486      1\n",
      "1171      /merchant                         26782      1\n",
      "1172      /belgium                          32769      1\n",
      "1173      /moli                             10842      1\n",
      "1174      /nz                               28627      1\n",
      "1175      /msprojectsupport                 18943      1\n",
      "1176      /jscript                          31408      1\n",
      "1177      /events                           23205      1\n",
      "1178      /msdownload.                      31500      1\n",
      "1179      /colombia                         18041      1\n",
      "1180      /slovenija                        28362      1\n",
      "1181      /kidssupport                      14189      1\n",
      "1182      /fortran                          38633      1\n",
      "1183      /italy                            19718      1\n",
      "1184      /msexcelsupport                   40341      1\n",
      "1185      /sna                              32655      1\n",
      "1186      /college                          40197      1\n",
      "1187      /odbc                             32493      1\n",
      "1188      /korea                            11190      1\n",
      "1189      /internet                         18110      1\n",
      "1190      /repository                       29884      1\n",
      "1191      /management                       11331      1\n",
      "1192      /visualjsupport                   36912      1\n",
      "1193      /offdevsupport                    16994      1\n",
      "1194      /china                            18981      1\n",
      "1195      /portugal                         26790      1\n",
      "1196      /ie40                             11431      1\n",
      "1197      /sqlsupport                       42285      1\n",
      "1198      /pictureit                        14963      1\n",
      "1199      /feedback                         11644      1\n",
      "1200      /benelux                          18997      1\n",
      "1201      /hardware                         16073      1\n",
      "1202      /advtech                          41172      1\n",
      "1203      /danmark                          25260      1\n",
      "1204      /msscheduleplus                   29534      1\n",
      "1205      /hardwaresupport                  20089      1\n",
      "1206      /select                           35471      1\n",
      "1207      /icp                              21353      1\n",
      "1208      /israel                           40662      1\n",
      "1209      /turkey                           41593      1\n",
      "1210      /snasupport                       20598      1\n",
      "1211      /smsmgmtsupport                   23461      1\n",
      "1212      /worldwide                        19367      1\n",
      "1213      /corporate_solutions              12472      1\n",
      "1214      /finserv                          12515      1\n",
      "1215      /developer                        40224      1\n",
      "1216      /vrml                             32725      1\n",
      "1217      /ireland                          32021      1\n",
      "1218      /publishersupport                 15722      1\n",
      "1219      /ads                              14961      1\n",
      "1220      /macofficesupport                 27922      1\n",
      "1221      /mstv                             19514      1\n",
      "1222      /msofc                            14138      1\n",
      "1223      /finland                          16996      1\n",
      "1224      /atec                             19514      1\n",
      "1225      /piracy                           17980      1\n",
      "1226      /msschedplussupport               32170      1\n",
      "1227      /argentina                        18603      1\n",
      "1228      /vtest                            40428      1\n",
      "1229      /uruguay                          26913      1\n",
      "1230      /mailsupport                      31314      1\n",
      "1231      /win32devsupport                  23471      1\n",
      "1232      /standards                        13926      1\n",
      "1233      /vbscripts                        14363      1\n",
      "1234      /off97cat                         42626      1\n",
      "1235      /onlineeval                       30514      1\n",
      "1236      /globaldev                        14738      1\n",
      "1237      /devdays                          14764      1\n",
      "1238      /exceldev                         26885      1\n",
      "1239      /msconsult                        38020      1\n",
      "1240      /thailand                         21961      1\n",
      "1241      /india                            19165      1\n",
      "1242      /msgarden                         16289      1\n",
      "1243      /usability                        28084      1\n",
      "1244      /devwire                          38662      1\n",
      "1245      /ofc                              31934      1\n",
      "1246      /gamesdev                         25085      1\n",
      "1247      /wineguide                        30024      1\n",
      "1248      /softimage                        18347      1\n",
      "1249      /fortransupport                   41914      1\n",
      "1250      /middleeast                       23902      1\n",
      "1251      /referencesupport                 18941      1\n",
      "1252      /giving                           23781      1\n",
      "1253      /worddev                          31926      1\n",
      "1254      /ie3                              20190      1\n",
      "1255      /msmq                             22674      1\n",
      "1256      /sia                              20832      1\n",
      "1257      /devvideos                        25717      1\n",
      "1258      /peru                             30514      1\n",
      "1259      /controls                         21424      1\n",
      "1260      /trial                            21894      1\n",
      "1261      /diyguide                         22485      1\n",
      "1262      /chile                            37425      1\n",
      "1263      /services                         27503      1\n",
      "1264      /se_partners                      40427      1\n",
      "1265      /ssafesupport                     39038      1\n",
      "1266      /licenses                         26815      1\n",
      "1267      /caribbean                        27482      1\n",
      "1268      /javascript                       27503      1\n",
      "1269      /business                         41054      1\n",
      "1270      /developr                         28493      1\n",
      "1271      /mdsn                             28493      1\n",
      "1272      /softlib                          28493      1\n",
      "1273      /mdn                              28493      1\n",
      "1274      /pdc                              28493      1\n",
      "1275      /security.                        28903      1\n",
      "1276      /vtestsupport                     40810      1\n",
      "1277      /stream                           30111      1\n",
      "1278      /hed                              30460      1\n",
      "1279      /msgolf                           31062      1\n",
      "1280      /music                            41643      1\n",
      "1281      /intellimouse                     37099      1\n",
      "1282      /home                             41244      1\n",
      "1283      /cinemania                        41033      1\n",
      "1284      /partner                          41108      1\n",
      "1295      /train_cert                       19490      1\n"
     ]
    }
   ],
   "source": [
    "import csv\n",
    "\n",
    "attributes = {}\n",
    "\n",
    "with open('attributes.csv','r') as myfile:\n",
    "    for fields in csv.reader(myfile):\n",
    "        attributes[fields[0]] = fields[2]\n",
    "        \n",
    "print '{:10s}{:<28s}{:>11s}{:>7s}'.format('page id', \n",
    "                                          'page URL', \n",
    "                                          'visitor id', \n",
    "                                          'count')\n",
    "print '---------------------------------------------------------'\n",
    "for item in output:\n",
    "    print '{:10s}{:<28s}{:>11s}{:7d}'.format(item[0], \n",
    "                                             attributes[item[0]], \n",
    "                                             item[1][0], \n",
    "                                             item[1][1])"
   ]
  },
  {
   "cell_type": "markdown",
   "metadata": {},
   "source": [
    "Note that in this data set, every visitor goes to each page a maximum of one time. Thus, there really is no \"most frequent visitor\" for each page, since the top visitor is tied with every other visitor who has been to the page."
   ]
  },
  {
   "cell_type": "markdown",
   "metadata": {},
   "source": [
    "## HW 4.5: Here you will use a different dataset consisting of word-frequency distributions for 1,000 Twitter users."
   ]
  },
  {
   "cell_type": "code",
   "execution_count": 17,
   "metadata": {
    "collapsed": false
   },
   "outputs": [],
   "source": [
    "# First we need to normalize the data\n",
    "infile = open('topUsers_Apr-Jul_2014_1000-words.txt', 'r')\n",
    "outfile = open('topUsers_normalized.txt', 'w')\n",
    "\n",
    "for line in infile:\n",
    "    line = line.split(',')\n",
    "    user_id = line[0]\n",
    "    true_class = line[1]\n",
    "    total = float(line[2])\n",
    "    data = line[3:]\n",
    "    data = [int(d) / total for d in data]\n",
    "    outfile.write(','.join(str(j) for j in data) + '\\n')\n",
    "\n",
    "infile.close()\n",
    "outfile.close()"
   ]
  },
  {
   "cell_type": "code",
   "execution_count": 2,
   "metadata": {
    "collapsed": false
   },
   "outputs": [],
   "source": [
    "from numpy import random\n",
    "def generate_centroids(centroid_type, k):\n",
    "    # Generate initial centroids using uniform distribution\n",
    "    centroid_points = []\n",
    "    num = []\n",
    "    \n",
    "    # We want to randomly select a user to initialize each cluster\n",
    "    if centroid_type == \"uniform\":\n",
    "        data = []\n",
    "        with open('topUsers_normalized.txt', 'r') as myfile:\n",
    "            for line in csv.reader(myfile):\n",
    "                fields = [float(i) for i in line]\n",
    "                data.append(fields)\n",
    "\n",
    "        seeds = [random.randint(0,1000) for i in range(k)]\n",
    "\n",
    "        for i in range(k):\n",
    "            centroid_points.append(data[seeds[i]])\n",
    "            \n",
    "    # We want to find the centroid for each true class using the summary file\n",
    "    elif centroid_type == \"trained\":        \n",
    "        with open('topUsers_Apr-Jul_2014_1000-words_summaries.txt','r') as myfile:\n",
    "            for line in csv.reader(myfile):\n",
    "                if line[0] == 'CODE':\n",
    "                    total = float(line[2])\n",
    "                    point = [int(i)/total for i in line[3:]]\n",
    "                    centroid_points.append(point)\n",
    "    \n",
    "    # We need to find the data-wide centroid first\n",
    "    # Add random noise to this data-wide centroid to get the second centroid\n",
    "    elif centroid_type == \"perturbed\":\n",
    "        \n",
    "        # Read in the user-wide aggregate, then normalize\n",
    "        with open('topUsers_Apr-Jul_2014_1000-words_summaries.txt','r') as myfile:\n",
    "            for line in csv.reader(myfile):\n",
    "                if line[0] == \"ALL_CODES\":\n",
    "                    total = float(line[2])\n",
    "                    point = [int(i)/total for i in line[3:]]     \n",
    "        \n",
    "        # Perturb the original centroid\n",
    "        for i in range(k):\n",
    "#             perturbed_centroid = [sum(x) for x in zip(point, [random.uniform(-1,1)/100 for i in range(1000)])]\n",
    "            perturbed_centroid = [sum(x) for x in zip(point, random.sample(1000)/100)]\n",
    "            normed = [i/sum(perturbed_centroid) for i in perturbed_centroid]\n",
    "            centroid_points.append(normed)\n",
    "                        \n",
    "    with open('Centroids.txt', 'w+') as f:\n",
    "            f.writelines(','.join(str(j) for j in i) + '\\n' for i in centroid_points)\n",
    "            \n",
    "    return centroid_points"
   ]
  },
  {
   "cell_type": "code",
   "execution_count": 7,
   "metadata": {
    "collapsed": false
   },
   "outputs": [],
   "source": [
    "import csv\n",
    "def report_composition():\n",
    "    myfile = open('Centroids.txt','r')\n",
    "    final_centroids = [map(float,s.split('\\n')[0].split(',')) for s in myfile.readlines()]\n",
    "    myfile.close()\n",
    "\n",
    "    k = len(final_centroids)\n",
    "    true_k = 4\n",
    "    counts = [[0 for x in range(k)] for y in range(true_k)]\n",
    "    pred_count = [0 for x in range(k)]\n",
    "    cluster_id = ['A','B','C','D']\n",
    "    \n",
    "    with open('topUsers_Apr-Jul_2014_1000-words.txt') as myfile:\n",
    "        for line in csv.reader(myfile):\n",
    "            true_class = int(line[1])\n",
    "            point = [float(i) for i in line[3:]]\n",
    "            pred_class = int(MinDist(point, final_centroids))\n",
    "            counts[true_class][pred_class] += 1.0\n",
    "            pred_count[pred_class] += 1.0\n",
    "    \n",
    "    print '{:>4s}   |{:>10s}'.format('','pred')\n",
    "    print '{:>4s}   |'.format('true'),\n",
    "    for i in range(k):\n",
    "        print '{:>10s}'.format(cluster_id[i]),\n",
    "    print '\\n-----------------------------------------------------',\n",
    "    for i in range(true_k):\n",
    "        print '\\n{:4d}   |'.format(i),\n",
    "        for j in range(k):\n",
    "            print '{:10.2%}'.format(counts[i][j] / pred_count[j]),\n",
    "    print '\\n-----------------------------------------------------'\n",
    "    print '{:4s}   |'.format(''),\n",
    "    for i in range(k):\n",
    "        print '{:10.2%}'.format(1),"
   ]
  },
  {
   "cell_type": "markdown",
   "metadata": {},
   "source": [
    "### Kmeans code provided:"
   ]
  },
  {
   "cell_type": "code",
   "execution_count": 6,
   "metadata": {
    "collapsed": false
   },
   "outputs": [
    {
     "name": "stdout",
     "output_type": "stream",
     "text": [
      "Overwriting Kmeans.py\n"
     ]
    }
   ],
   "source": [
    "%%writefile Kmeans.py\n",
    "from numpy import argmin, array, random\n",
    "from mrjob.job import MRJob\n",
    "from mrjob.step import MRStep\n",
    "from itertools import chain\n",
    "import os\n",
    "\n",
    "#Calculate find the nearest centroid for data point \n",
    "def MinDist(datapoint, centroid_points):\n",
    "    datapoint = array(datapoint)\n",
    "    centroid_points = array(centroid_points)\n",
    "    diff = datapoint - centroid_points \n",
    "    diffsq = diff*diff\n",
    "    # Get the nearest centroid for each instance\n",
    "    minidx = argmin(list(diffsq.sum(axis = 1)))\n",
    "    return minidx\n",
    "\n",
    "#Check whether centroids converge\n",
    "def stop_criterion(centroid_points_old, centroid_points_new, T):\n",
    "    oldvalue = list(chain(*centroid_points_old))\n",
    "    newvalue = list(chain(*centroid_points_new))\n",
    "    Diff = [abs(x-y) for x, y in zip(oldvalue, newvalue)]\n",
    "    Flag = True\n",
    "    for i in Diff:\n",
    "        if(i > T):\n",
    "            Flag = False\n",
    "            break\n",
    "    return Flag\n",
    "\n",
    "\n",
    "class MRKmeans(MRJob):\n",
    "    \n",
    "    centroid_points=[]\n",
    "    k = 4\n",
    "    n = 1000\n",
    "    \n",
    "    def steps(self):\n",
    "        return [\n",
    "            MRStep(mapper_init = self.mapper_init, \n",
    "                   mapper=self.mapper,\n",
    "                   combiner = self.combiner,\n",
    "                   reducer=self.reducer)\n",
    "               ]\n",
    "    \n",
    "    #load centroids info from file\n",
    "    def mapper_init(self):\n",
    "        myfile = open('Centroids.txt','r')\n",
    "        self.centroid_points = [map(float,s.split('\\n')[0].split(',')) for s in myfile.readlines()]\n",
    "        myfile.close()\n",
    "        self.k = len(self.centroid_points)\n",
    "    \n",
    "    #load data and output the nearest centroid index and data point \n",
    "    def mapper(self, _, line):\n",
    "        D = (map(float,line.split(',')))\n",
    "        value = list(D)\n",
    "        value.append(1)\n",
    "        yield int(MinDist(D,self.centroid_points)), tuple(value)\n",
    "    \n",
    "    #Combine sum of data points locally\n",
    "    def combiner(self, idx, inputdata):\n",
    "        sums = [0 for i in range(self.n+1)]\n",
    "        for point in inputdata:\n",
    "            for i in range(self.n+1):\n",
    "                sums[i] += point[i]\n",
    "        yield idx, tuple(sums)\n",
    "            \n",
    "    #Aggregate sum for each cluster and then calculate the new centroids\n",
    "    def reducer(self, idx, inputdata): \n",
    "        centroids = []\n",
    "        num = [0]*self.k \n",
    "        for i in range(self.k):\n",
    "            centroids.append([0 for i in range(self.n)])\n",
    "        for point in inputdata:\n",
    "            count = float(point[-1])\n",
    "            num[idx] += count\n",
    "            for i in range(self.n):       \n",
    "                centroids[idx][i] += point[i]\n",
    "\n",
    "        for i in range(len(centroids[idx])):\n",
    "            centroids[idx][i] = centroids[idx][i]/num[idx]\n",
    "        with open('/tmp/Centroids.txt', 'a') as f:\n",
    "            f.writelines(','.join(str(j) for j in centroids[idx]) + '\\n')\n",
    "        yield idx, tuple(centroids[idx])\n",
    "      \n",
    "if __name__ == '__main__':\n",
    "    MRKmeans.run()"
   ]
  },
  {
   "cell_type": "markdown",
   "metadata": {},
   "source": [
    "### Driver provided:"
   ]
  },
  {
   "cell_type": "code",
   "execution_count": 5,
   "metadata": {
    "collapsed": false
   },
   "outputs": [],
   "source": [
    "from numpy import random\n",
    "from Kmeans import MRKmeans, stop_criterion, MinDist\n",
    "#mr_job = MRKmeans(args=['topUsers_normalized.txt', '-r', 'hadoop', '--hadoop-home','/usr/'])\n",
    "mr_job = MRKmeans(args=['topUsers_normalized.txt', '--file', 'Centroids.txt'])\n",
    "\n",
    "# Turn this into a function so that we can run it easily\n",
    "# Function takes centroids created by generate_centroids function\n",
    "\n",
    "def run_kmeans(centroid_points):\n",
    "    # Update centroids iteratively    \n",
    "    i = 0\n",
    "    while(1):\n",
    "        # save previous centoids to check convergency\n",
    "        centroid_points_old = centroid_points[:]\n",
    "#         print \"iteration\"+str(i)+\":\"\n",
    "        with mr_job.make_runner() as runner: \n",
    "            runner.run()\n",
    "\n",
    "            # stream_output: get access of the output \n",
    "            for line in runner.stream_output():\n",
    "                key, value =  mr_job.parse_output_line(line)\n",
    "#                 print key, value\n",
    "                centroid_points[key] = value\n",
    "#         print \"\\n\"\n",
    "        i = i + 1\n",
    "        if(stop_criterion(centroid_points_old,centroid_points,0.001)):\n",
    "            break\n",
    "        !mv /tmp/Centroids.txt .\n",
    "    report_composition()\n",
    "#     print \"Converged after\", i, \"iterations!\"\n",
    "#     print \"Centroids\\n\"\n",
    "#     print centroid_points"
   ]
  },
  {
   "cell_type": "code",
   "execution_count": 8,
   "metadata": {
    "collapsed": false
   },
   "outputs": [
    {
     "name": "stderr",
     "output_type": "stream",
     "text": [
      "WARNING:mrjob.runner:\n",
      "WARNING:mrjob.runner:PLEASE NOTE: Starting in mrjob v0.5.0, protocols will be strict by default. It's recommended you run your job with --strict-protocols or set up mrjob.conf as described at https://pythonhosted.org/mrjob/whats-new.html#ready-for-strict-protocols\n",
      "WARNING:mrjob.runner:\n",
      "WARNING:mrjob.runner:\n",
      "WARNING:mrjob.runner:PLEASE NOTE: Starting in mrjob v0.5.0, protocols will be strict by default. It's recommended you run your job with --strict-protocols or set up mrjob.conf as described at https://pythonhosted.org/mrjob/whats-new.html#ready-for-strict-protocols\n",
      "WARNING:mrjob.runner:\n"
     ]
    },
    {
     "name": "stdout",
     "output_type": "stream",
     "text": [
      "       |      pred\n",
      "true   |          A          B          C          D \n",
      "----------------------------------------------------- \n",
      "   0   |    100.00%     74.42%     80.33%     79.41% \n",
      "   1   |      0.00%     10.37%      0.00%      1.47% \n",
      "   2   |      0.00%      4.95%      1.64%     14.71% \n",
      "   3   |      0.00%     10.25%     18.03%      4.41% \n",
      "-----------------------------------------------------\n",
      "       |    100.00%    100.00%    100.00%    100.00%\n"
     ]
    }
   ],
   "source": [
    "run_kmeans(generate_centroids(\"uniform\", 4))"
   ]
  },
  {
   "cell_type": "code",
   "execution_count": 9,
   "metadata": {
    "collapsed": false
   },
   "outputs": [
    {
     "name": "stderr",
     "output_type": "stream",
     "text": [
      "WARNING:mrjob.runner:\n",
      "WARNING:mrjob.runner:PLEASE NOTE: Starting in mrjob v0.5.0, protocols will be strict by default. It's recommended you run your job with --strict-protocols or set up mrjob.conf as described at https://pythonhosted.org/mrjob/whats-new.html#ready-for-strict-protocols\n",
      "WARNING:mrjob.runner:\n",
      "WARNING:mrjob.runner:\n",
      "WARNING:mrjob.runner:PLEASE NOTE: Starting in mrjob v0.5.0, protocols will be strict by default. It's recommended you run your job with --strict-protocols or set up mrjob.conf as described at https://pythonhosted.org/mrjob/whats-new.html#ready-for-strict-protocols\n",
      "WARNING:mrjob.runner:\n"
     ]
    },
    {
     "name": "stdout",
     "output_type": "stream",
     "text": [
      "       |      pred\n",
      "true   |          A          B \n",
      "----------------------------------------------------- \n",
      "   0   |     69.49%     78.33% \n",
      "   1   |     15.82%      5.42% \n",
      "   2   |      6.21%      4.95% \n",
      "   3   |      8.47%     11.30% \n",
      "-----------------------------------------------------\n",
      "       |    100.00%    100.00%\n"
     ]
    }
   ],
   "source": [
    "run_kmeans(generate_centroids(\"perturbed\", 2))"
   ]
  },
  {
   "cell_type": "code",
   "execution_count": 10,
   "metadata": {
    "collapsed": false
   },
   "outputs": [
    {
     "name": "stderr",
     "output_type": "stream",
     "text": [
      "WARNING:mrjob.runner:\n",
      "WARNING:mrjob.runner:PLEASE NOTE: Starting in mrjob v0.5.0, protocols will be strict by default. It's recommended you run your job with --strict-protocols or set up mrjob.conf as described at https://pythonhosted.org/mrjob/whats-new.html#ready-for-strict-protocols\n",
      "WARNING:mrjob.runner:\n",
      "WARNING:mrjob.runner:\n",
      "WARNING:mrjob.runner:PLEASE NOTE: Starting in mrjob v0.5.0, protocols will be strict by default. It's recommended you run your job with --strict-protocols or set up mrjob.conf as described at https://pythonhosted.org/mrjob/whats-new.html#ready-for-strict-protocols\n",
      "WARNING:mrjob.runner:\n"
     ]
    },
    {
     "name": "stdout",
     "output_type": "stream",
     "text": [
      "       |      pred\n",
      "true   |          A          B          C          D \n",
      "----------------------------------------------------- \n",
      "   0   |     89.75%     15.46%     28.07%      6.52% \n",
      "   1   |      1.50%     56.70%     29.82%     15.22% \n",
      "   2   |      1.38%     14.43%     36.84%     17.39% \n",
      "   3   |      7.38%     13.40%      5.26%     60.87% \n",
      "-----------------------------------------------------\n",
      "       |    100.00%    100.00%    100.00%    100.00%\n"
     ]
    }
   ],
   "source": [
    "run_kmeans(generate_centroids(\"perturbed\", 4))"
   ]
  },
  {
   "cell_type": "code",
   "execution_count": 11,
   "metadata": {
    "collapsed": false,
    "scrolled": true
   },
   "outputs": [
    {
     "name": "stderr",
     "output_type": "stream",
     "text": [
      "WARNING:mrjob.runner:\n",
      "WARNING:mrjob.runner:PLEASE NOTE: Starting in mrjob v0.5.0, protocols will be strict by default. It's recommended you run your job with --strict-protocols or set up mrjob.conf as described at https://pythonhosted.org/mrjob/whats-new.html#ready-for-strict-protocols\n",
      "WARNING:mrjob.runner:\n",
      "WARNING:mrjob.runner:\n",
      "WARNING:mrjob.runner:PLEASE NOTE: Starting in mrjob v0.5.0, protocols will be strict by default. It's recommended you run your job with --strict-protocols or set up mrjob.conf as described at https://pythonhosted.org/mrjob/whats-new.html#ready-for-strict-protocols\n",
      "WARNING:mrjob.runner:\n"
     ]
    },
    {
     "name": "stdout",
     "output_type": "stream",
     "text": [
      "       |      pred\n",
      "true   |          A          B          C          D \n",
      "----------------------------------------------------- \n",
      "   0   |     97.46%      3.28%      0.00%     19.80% \n",
      "   1   |      0.40%     72.13%      0.00%      0.00% \n",
      "   2   |      0.27%     18.03%    100.00%      0.00% \n",
      "   3   |      1.87%      6.56%      0.00%     80.20% \n",
      "-----------------------------------------------------\n",
      "       |    100.00%    100.00%    100.00%    100.00%\n"
     ]
    }
   ],
   "source": [
    "run_kmeans(generate_centroids(\"trained\", 4))"
   ]
  },
  {
   "cell_type": "markdown",
   "metadata": {
    "collapsed": true
   },
   "source": [
    "### Discuss your findings and any differences in outcomes across parts A-D.\n",
    "\n",
    "The trained centroids have the highest purity out of the 4 different centroid initializations. However, it is unlikely that we will have the true class of the documents that we are clustering on -- thus it is not a methodology that we can reliably use in all situations.\n",
    "\n",
    "Choosing random cluster intializations from a uniform distribution have wildly different results depending on the initial clusters chosen. It is easy to see that one could get significantly different results due to random differences in the points chosen as cluster seeds.\n",
    "\n",
    "Comparatively, the perturbation centroids did not vary as widely as part A. When only two clusters were used, the highest percentage class in each cluster was class 0 (human). However, when four clusters were used, the four clusters each had a different highest percentage class."
   ]
  }
 ],
 "metadata": {
  "kernelspec": {
   "display_name": "Python 2",
   "language": "python",
   "name": "python2"
  },
  "language_info": {
   "codemirror_mode": {
    "name": "ipython",
    "version": 2
   },
   "file_extension": ".py",
   "mimetype": "text/x-python",
   "name": "python",
   "nbconvert_exporter": "python",
   "pygments_lexer": "ipython2",
   "version": "2.7.11"
  }
 },
 "nbformat": 4,
 "nbformat_minor": 0
}
