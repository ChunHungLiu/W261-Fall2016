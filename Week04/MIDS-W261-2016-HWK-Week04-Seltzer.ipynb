{
 "cells": [
  {
   "cell_type": "markdown",
   "metadata": {},
   "source": [
    "# DATASCI W261: Machine Learning at Scale\n",
    "## Assignment Week 4\n",
    "Miki Seltzer (miki.seltzer@berkeley.edu)<br>\n",
    "W261-2, Spring 2016<br>\n",
    "Submission: "
   ]
  },
  {
   "cell_type": "markdown",
   "metadata": {
    "collapsed": true
   },
   "source": [
    "## HW 4.0\n",
    "\n",
    "### What is MrJob? How is it different to Hadoop MapReduce? \n",
    "MRJob is a framework for running MapReduce jobs. It is flexible and allows you to run jobs locally, using Hadoop, or even on AWS. It allows for chaining MapReduce jobs together, while Hadoop MapReduce only allows running one job at a time. Similarly to the Hadoop Streaming API, we can write MapReduce jobs in Python, and utilize all of the libraries available to Python.\n",
    "\n",
    "### What are the mapper_init(), mapper_final(), combiner_final(), reducer_final() methods? When are they called?\n",
    "- mapper_init(): This runs before the mapper processes any input. It can be used to initialize mapper-specific helper structures.\n",
    "- mapper_final(): This runs after the mapper gets to the end of the input stream. This can be used to store variables that should only be emitted after all data has been processed, such as a total.\n",
    "- combiner_final(): This is similar to mapper_final(), but runs at the end of the input stream in the combiner.\n",
    "- reducer_final(): Also similar to mapper_final(), but runs at the end of the input stream in the reducer."
   ]
  },
  {
   "cell_type": "markdown",
   "metadata": {},
   "source": [
    "## HW 4.1\n",
    "\n",
    "### What is serialization in the context of MrJob or Hadoop? \n",
    "Serialization is the process of translating an object into a series of bytes for sending it where it's needed.\n",
    "\n",
    "### When it used in these frameworks? \n",
    "Each job has specified protocols that serialize and deserialize bytes as they are sent between different steps of the MapReduce jobs.\n",
    "\n",
    "### What is the default serialization mode for input and outputs for MrJob? \n",
    "The default protocol for serialization is RawValueProtocol, which just reads each record as a string."
   ]
  },
  {
   "cell_type": "markdown",
   "metadata": {},
   "source": [
    "## HW4.2: Write the Python code to preprocess the Microsoft logfile data on a single node into the appropriate format."
   ]
  },
  {
   "cell_type": "code",
   "execution_count": 17,
   "metadata": {
    "collapsed": false
   },
   "outputs": [],
   "source": [
    "import csv\n",
    "\n",
    "# Create files to write the processed data to\n",
    "outfile = open('anonymous-msweb-preprocess.data', 'wb')\n",
    "outWriter = csv.writer(outfile)\n",
    "attributes = open('attributes.csv', 'wb')\n",
    "attWriter = csv.writer(attributes)\n",
    "\n",
    "with open('anonymous-msweb.data', 'r') as infile:\n",
    "    for line in csv.reader(infile):\n",
    "        \n",
    "        # Check if this line is an attribute\n",
    "        # If it is, write to the attributes file\n",
    "        if line[0] == 'A':\n",
    "            attWriter.writerow([line[1], line[3], line[4]])\n",
    "            \n",
    "        # Check if this line is a visitor ID\n",
    "        # If it is, save it to memory\n",
    "        elif line[0] == 'C':\n",
    "            visitor_id = line[2]\n",
    "        \n",
    "        # Check if this line is a visit with a page ID\n",
    "        # If it is, write it with the current visitor_id\n",
    "        elif line[0] == 'V':\n",
    "            outWriter.writerow([line[0], line[1], line[2], 'C', visitor_id])\n",
    "\n",
    "outfile.close()\n",
    "attributes.close()"
   ]
  },
  {
   "cell_type": "code",
   "execution_count": 18,
   "metadata": {
    "collapsed": false
   },
   "outputs": [],
   "source": [
    "# Test out our code above"
   ]
  }
 ],
 "metadata": {
  "kernelspec": {
   "display_name": "Python 2",
   "language": "python",
   "name": "python2"
  },
  "language_info": {
   "codemirror_mode": {
    "name": "ipython",
    "version": 2
   },
   "file_extension": ".py",
   "mimetype": "text/x-python",
   "name": "python",
   "nbconvert_exporter": "python",
   "pygments_lexer": "ipython2",
   "version": "2.7.9"
  }
 },
 "nbformat": 4,
 "nbformat_minor": 0
}
