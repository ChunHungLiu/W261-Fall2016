








<!DOCTYPE html>
<html lang="en">

<head>
  <meta charset="utf-8">
  <title>Jupyter Notebook Viewer</title>
  <meta name="viewport" content="width=device-width, initial-scale=1.0">
  <meta name="description" content="">
  <meta name="author" content="">
  
  <meta name="robots" content="noindex,nofollow">
  

  <!--NEW RELIC Start Perf Measurement-->
  
  <!--NREND-->

  <!-- Le styles -->
  <script type="text/javascript">
//<![CDATA[
try{if (!window.CloudFlare) {var CloudFlare=[{verbose:0,p:0,byc:0,owlid:"cf",bag2:1,mirage2:0,oracle:0,paths:{cloudflare:"/cdn-cgi/nexp/dok3v=1613a3a185/"},atok:"4057b928698f73b1f2d67f34e949ea68",petok:"00fc536c4c2e1f750ea619f9eeb1dfa0b24e59f2-1454371216-1800",zone:"jupyter.org",rocket:"0",apps:{"ga_key":{"ua":"UA-52617120-5","ga_bs":"2"}},sha2test:0}];!function(a,b){a=document.createElement("script"),b=document.getElementsByTagName("script")[0],a.async=!0,a.src="//ajax.cloudflare.com/cdn-cgi/nexp/dok3v=38857570ac/cloudflare.min.js",b.parentNode.insertBefore(a,b)}()}}catch(e){};
//]]>
</script>
<link href="/static/build/styles.css" rel="stylesheet">

  <!-- Le HTML5 shim, for IE6-8 support of HTML5 elements -->
  <!--[if lt IE 9]>
    <script src="http://html5shim.googlecode.com/svn/trunk/html5.js"></script>
  <![endif]-->

  <!-- Le fav and touch icons -->
  <link rel="shortcut icon" href="/static/ico/ipynb_icon_16x16.png">
  <link rel="apple-touch-icon-precomposed" sizes="144x144"
        href="/static/ico/apple-touch-icon-144-precomposed.png">
  <link rel="apple-touch-icon-precomposed" sizes="114x114"
        href="/static/ico/apple-touch-icon-114-precomposed.png">
  <link rel="apple-touch-icon-precomposed" sizes="72x72"
        href="/static/ico/apple-touch-icon-72-precomposed.png">
  <link rel="apple-touch-icon-precomposed"
        href="/static/ico/apple-touch-icon-57-precomposed.png">
  
  

  

  
  <meta name="twitter:card" content="summary">
  <meta name="twitter:title" content="Notebook on nbviewer">
  <meta name="twitter:description" content="Check out this Jupyter notebook!">

  
  <meta name="twitter:domain" content="nbviewer.ipython.org">
  <meta name="twitter:image:src" content="http://ipython.org/ipython-doc/dev/_images/ipynb_icon_128x128.png">

  
    <link href="/static/build/notebook.css" rel="stylesheet">
  

  

  
    <script src="https://cdn.mathjax.org/mathjax/latest/MathJax.js?config=TeX-AMS_HTML" type="text/javascript">
    </script>
    <script type="text/javascript">
      init_mathjax = function() {
        if (window.MathJax) {
          // MathJax loaded
          MathJax.Hub.Config({
            TeX: {
              equationNumbers: {
                autoNumber: "AMS",
                useLabelIds: true
              }
            },
            tex2jax: {
              inlineMath: [ ['$','$'], ["\\(","\\)"] ],
              displayMath: [ ['$$','$$'], ["\\[","\\]"] ],
              processEscapes: true,
              processEnvironments: true
            },
            displayAlign: 'center',
            "HTML-CSS": {
              styles: {'.MathJax_Display': {"margin": 0}},
              linebreaks: { automatic: true }
            }
          });
          MathJax.Hub.Queue(["Typeset", MathJax.Hub]);
        }
      }
      init_mathjax();
    </script>
  

<script type="text/javascript">
/* <![CDATA[ */
var _gaq = _gaq || [];
_gaq.push(['_setAccount', 'UA-52617120-5']);
_gaq.push(['_trackPageview']);

(function() {
var ga = document.createElement('script'); ga.type = 'text/javascript'; ga.async = true;
ga.src = ('https:' == document.location.protocol ? 'https://ssl' : 'http://www') + '.google-analytics.com/ga.js';
var s = document.getElementsByTagName('script')[0]; s.parentNode.insertBefore(ga, s);
})();

(function(b){(function(a){"__CF"in b&&"DJS"in b.__CF?b.__CF.DJS.push(a):"addEventListener"in b?b.addEventListener("load",a,!1):b.attachEvent("onload",a)})(function(){"FB"in b&&"Event"in FB&&"subscribe"in FB.Event&&(FB.Event.subscribe("edge.create",function(a){_gaq.push(["_trackSocial","facebook","like",a])}),FB.Event.subscribe("edge.remove",function(a){_gaq.push(["_trackSocial","facebook","unlike",a])}),FB.Event.subscribe("message.send",function(a){_gaq.push(["_trackSocial","facebook","send",a])}));"twttr"in b&&"events"in twttr&&"bind"in twttr.events&&twttr.events.bind("tweet",function(a){if(a){var b;if(a.target&&a.target.nodeName=="IFRAME")a:{if(a=a.target.src){a=a.split("#")[0].match(/[^?=&]+=([^&]*)?/g);b=0;for(var c;c=a[b];++b)if(c.indexOf("url")===0){b=unescape(c.split("=")[1]);break a}}b=void 0}_gaq.push(["_trackSocial","twitter","tweet",b])}})})})(window);
/* ]]> */
</script>
</head>

<body>

  <!-- These are loaded at the top of the body so they are available to
       notebook cells when they are loaded below. -->
  <script src="/static/components/jquery/dist/jquery.min.js"></script>
  <script src="/static/components/requirejs/require.js"></script>
  <script src="/static/components/moment/min/moment.min.js"></script>

<!-- Navbar
================================================== -->
  <nav id="menubar" class="navbar navbar-default navbar-fixed-top" data-spy="affix">
    <div class="container">
      <div class="navbar-header">
        <button type="button" class="navbar-toggle collapsed" data-toggle="collapse" data-target=".navbar-collapse">
          <span class="sr-only">Toggle navigation</span>
          <i class="fa fa-bars"></i>
        </button>
        <a class="navbar-brand" href="/">
          <img src="/static/img/nav_logo.svg" width="159"/>
        </a>
      </div>

      <div class="collapse navbar-collapse">
        <ul class="nav navbar-nav navbar-right">
          <li>
            <a class="active" href="http://jupyter.org">JUPYTER</a>
          </li>
          <li>
    <a href="/faq" title="FAQ" >
      
        <span>FAQ</span>
      
    </a>
  </li>

          
  
    
  

  
    <li>
    <a href="#" title="Python 2 Kernel" >
      <span class="fa fa-server fa-2x menu-icon"></span>
      <span class="menu-text">Python 2 Kernel</span>
    </a>
  </li>
  

  

  <li>
    <a href="https://dl.dropbox.com/s/5qwejmygaievrzt/MrJobKmeans.ipynb" title="Download Notebook" download>
      <span class="fa fa-download fa-2x menu-icon"></span>
      <span class="menu-text">Download Notebook</span>
    </a>
  </li>

        </ul>
      </div><!-- /.navbar-collapse -->
      
      
    </div>
  </nav>

  <div class="container container-main">
    
  
  <div id="notebook">
    <div id="notebook-container">
      
<div class="cell border-box-sizing text_cell rendered">
<div class="prompt input_prompt">
</div>
<div class="inner_cell">
<div class="text_cell_render border-box-sizing rendered_html">
<h1 id="DATASCI-W261:-Machine-Learning-at-Scale">DATASCI W261: Machine Learning at Scale<a class="anchor-link" href="#DATASCI-W261:-Machine-Learning-at-Scale">&#182;</a></h1>
</div>
</div>
</div>
<div class="cell border-box-sizing text_cell rendered">
<div class="prompt input_prompt">
</div>
<div class="inner_cell">
<div class="text_cell_render border-box-sizing rendered_html">
<h1 id="Data-Generation">Data Generation<a class="anchor-link" href="#Data-Generation">&#182;</a></h1>
</div>
</div>
</div>
<div class="cell border-box-sizing text_cell rendered">
<div class="prompt input_prompt">
</div>
<div class="inner_cell">
<div class="text_cell_render border-box-sizing rendered_html">
<p>1.Generate data: 2.Three clusters 3.True centroids (4,0), (6,6), (0,4)</p>

</div>
</div>
</div>
<div class="cell border-box-sizing code_cell rendered">
<div class="input">
<div class="prompt input_prompt">In&nbsp;[1]:</div>
<div class="inner_cell">
    <div class="input_area">
<div class=" highlight hl-ipython2"><pre> <span class="o">%</span><span class="k">matplotlib</span> inline
<span class="kn">import</span> <span class="nn">numpy</span> <span class="kn">as</span> <span class="nn">np</span>
<span class="kn">import</span> <span class="nn">pylab</span> 
<span class="n">size1</span> <span class="o">=</span> <span class="n">size2</span> <span class="o">=</span> <span class="n">size3</span> <span class="o">=</span> <span class="mi">10000</span>
<span class="n">samples1</span> <span class="o">=</span> <span class="n">np</span><span class="o">.</span><span class="n">random</span><span class="o">.</span><span class="n">multivariate_normal</span><span class="p">([</span><span class="mi">4</span><span class="p">,</span> <span class="mi">0</span><span class="p">],</span> <span class="p">[[</span><span class="mi">1</span><span class="p">,</span> <span class="mi">0</span><span class="p">],[</span><span class="mi">0</span><span class="p">,</span> <span class="mi">1</span><span class="p">]],</span> <span class="n">size1</span><span class="p">)</span>
<span class="n">data</span> <span class="o">=</span> <span class="n">samples1</span>
<span class="n">samples2</span> <span class="o">=</span> <span class="n">np</span><span class="o">.</span><span class="n">random</span><span class="o">.</span><span class="n">multivariate_normal</span><span class="p">([</span><span class="mi">6</span><span class="p">,</span> <span class="mi">6</span><span class="p">],</span> <span class="p">[[</span><span class="mi">1</span><span class="p">,</span> <span class="mi">0</span><span class="p">],[</span><span class="mi">0</span><span class="p">,</span> <span class="mi">1</span><span class="p">]],</span> <span class="n">size2</span><span class="p">)</span>
<span class="n">data</span> <span class="o">=</span> <span class="n">np</span><span class="o">.</span><span class="n">append</span><span class="p">(</span><span class="n">data</span><span class="p">,</span><span class="n">samples2</span><span class="p">,</span> <span class="n">axis</span><span class="o">=</span><span class="mi">0</span><span class="p">)</span>
<span class="n">samples3</span> <span class="o">=</span> <span class="n">np</span><span class="o">.</span><span class="n">random</span><span class="o">.</span><span class="n">multivariate_normal</span><span class="p">([</span><span class="mi">0</span><span class="p">,</span> <span class="mi">4</span><span class="p">],</span> <span class="p">[[</span><span class="mi">1</span><span class="p">,</span> <span class="mi">0</span><span class="p">],[</span><span class="mi">0</span><span class="p">,</span> <span class="mi">1</span><span class="p">]],</span> <span class="n">size3</span><span class="p">)</span>
<span class="n">data</span> <span class="o">=</span> <span class="n">np</span><span class="o">.</span><span class="n">append</span><span class="p">(</span><span class="n">data</span><span class="p">,</span><span class="n">samples3</span><span class="p">,</span> <span class="n">axis</span><span class="o">=</span><span class="mi">0</span><span class="p">)</span>
<span class="c1"># Randomlize data</span>
<span class="n">data</span> <span class="o">=</span> <span class="n">data</span><span class="p">[</span><span class="n">np</span><span class="o">.</span><span class="n">random</span><span class="o">.</span><span class="n">permutation</span><span class="p">(</span><span class="n">size1</span><span class="o">+</span><span class="n">size2</span><span class="o">+</span><span class="n">size3</span><span class="p">),]</span>
<span class="n">np</span><span class="o">.</span><span class="n">savetxt</span><span class="p">(</span><span class="s1">&#39;Kmeandata.csv&#39;</span><span class="p">,</span><span class="n">data</span><span class="p">,</span><span class="n">delimiter</span> <span class="o">=</span> <span class="s2">&quot;,&quot;</span><span class="p">)</span>
</pre></div>

</div>
</div>
</div>

</div>
<div class="cell border-box-sizing text_cell rendered">
<div class="prompt input_prompt">
</div>
<div class="inner_cell">
<div class="text_cell_render border-box-sizing rendered_html">
<h1 id="Data-Visualiazation">Data Visualiazation<a class="anchor-link" href="#Data-Visualiazation">&#182;</a></h1>
</div>
</div>
</div>
<div class="cell border-box-sizing code_cell rendered">
<div class="input">
<div class="prompt input_prompt">In&nbsp;[2]:</div>
<div class="inner_cell">
    <div class="input_area">
<div class=" highlight hl-ipython2"><pre><span class="n">pylab</span><span class="o">.</span><span class="n">plot</span><span class="p">(</span><span class="n">samples1</span><span class="p">[:,</span> <span class="mi">0</span><span class="p">],</span> <span class="n">samples1</span><span class="p">[:,</span> <span class="mi">1</span><span class="p">],</span><span class="s1">&#39;*&#39;</span><span class="p">,</span> <span class="n">color</span> <span class="o">=</span> <span class="s1">&#39;red&#39;</span><span class="p">)</span>
<span class="n">pylab</span><span class="o">.</span><span class="n">plot</span><span class="p">(</span><span class="n">samples2</span><span class="p">[:,</span> <span class="mi">0</span><span class="p">],</span> <span class="n">samples2</span><span class="p">[:,</span> <span class="mi">1</span><span class="p">],</span><span class="s1">&#39;o&#39;</span><span class="p">,</span><span class="n">color</span> <span class="o">=</span> <span class="s1">&#39;blue&#39;</span><span class="p">)</span>
<span class="n">pylab</span><span class="o">.</span><span class="n">plot</span><span class="p">(</span><span class="n">samples3</span><span class="p">[:,</span> <span class="mi">0</span><span class="p">],</span> <span class="n">samples3</span><span class="p">[:,</span> <span class="mi">1</span><span class="p">],</span><span class="s1">&#39;+&#39;</span><span class="p">,</span><span class="n">color</span> <span class="o">=</span> <span class="s1">&#39;green&#39;</span><span class="p">)</span>
<span class="n">pylab</span><span class="o">.</span><span class="n">show</span><span class="p">()</span>
</pre></div>

</div>
</div>
</div>

<div class="output_wrapper">
<div class="output">


<div class="output_area"><div class="prompt"></div>


<div class="output_png output_subarea ">
<img src="data:image/png;base64,iVBORw0KGgoAAAANSUhEUgAAAXMAAAEACAYAAABBDJb9AAAABHNCSVQICAgIfAhkiAAAAAlwSFlz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"
>
</div>

</div>

</div>
</div>

</div>
<div class="cell border-box-sizing text_cell rendered">
<div class="prompt input_prompt">
</div>
<div class="inner_cell">
<div class="text_cell_render border-box-sizing rendered_html">
<h1 id="MrJob-class-for-Kmeans">MrJob class for Kmeans<a class="anchor-link" href="#MrJob-class-for-Kmeans">&#182;</a></h1>
</div>
</div>
</div>
<div class="cell border-box-sizing text_cell rendered">
<div class="prompt input_prompt">
</div>
<div class="inner_cell">
<div class="text_cell_render border-box-sizing rendered_html">
<h3 id="If-you-want-to-change-the-code,-please-edit-Kmeans.py-directly">If you want to change the code, please edit Kmeans.py directly<a class="anchor-link" href="#If-you-want-to-change-the-code,-please-edit-Kmeans.py-directly">&#182;</a></h3>
</div>
</div>
</div>
<div class="cell border-box-sizing code_cell rendered">
<div class="input">
<div class="prompt input_prompt">In&nbsp;[3]:</div>
<div class="inner_cell">
    <div class="input_area">
<div class=" highlight hl-ipython2"><pre><span class="o">%%</span><span class="k">writefile</span> Kmeans.py
from numpy import argmin, array, random
from mrjob.job import MRJob
from mrjob.step import MRJobStep
from itertools import chain

#Calculate find the nearest centroid for data point 
def MinDist(datapoint, centroid_points):
    datapoint = array(datapoint)
    centroid_points = array(centroid_points)
    diff = datapoint - centroid_points 
    diffsq = diff*diff
    # Get the nearest centroid for each instance
    minidx = argmin(list(diffsq.sum(axis = 1)))
    return minidx

#Check whether centroids converge
def stop_criterion(centroid_points_old, centroid_points_new,T):
    oldvalue = list(chain(*centroid_points_old))
    newvalue = list(chain(*centroid_points_new))
    Diff = [abs(x-y) for x, y in zip(oldvalue, newvalue)]
    Flag = True
    for i in Diff:
        if(i&gt;T):
            Flag = False
            break
    return Flag

class MRKmeans(MRJob):
    centroid_points=[]
    k=3    
    def steps(self):
        return [
            MRJobStep(mapper_init = self.mapper_init, mapper=self.mapper,combiner = self.combiner,reducer=self.reducer)
               ]
    #load centroids info from file
    def mapper_init(self):
        self.centroid_points = [map(float,s.split(&#39;\n&#39;)[0].split(&#39;,&#39;)) for s in open(&quot;Centroids.txt&quot;).readlines()]
        open(&#39;Centroids.txt&#39;, &#39;w&#39;).close()
    #load data and output the nearest centroid index and data point 
    def mapper(self, _, line):
        D = (map(float,line.split(&#39;,&#39;)))
        yield int(MinDist(D,self.centroid_points)), (D[0],D[1],1)
    #Combine sum of data points locally
    def combiner(self, idx, inputdata):
        sumx = sumy = num = 0
        for x,y,n in inputdata:
            num = num + n
            sumx = sumx + x
            sumy = sumy + y
        yield idx,(sumx,sumy,num)
    #Aggregate sum for each cluster and then calculate the new centroids
    def reducer(self, idx, inputdata): 
        centroids = []
        num = [0]*self.k 
        for i in range(self.k):
            centroids.append([0,0])
        for x, y, n in inputdata:
            num[idx] = num[idx] + n
            centroids[idx][0] = centroids[idx][0] + x
            centroids[idx][1] = centroids[idx][1] + y
        centroids[idx][0] = centroids[idx][0]/num[idx]
        centroids[idx][1] = centroids[idx][1]/num[idx]
        with open(&#39;Centroids.txt&#39;, &#39;a&#39;) as f:
            f.writelines(str(centroids[idx][0]) + &#39;,&#39; + str(centroids[idx][1]) + &#39;\n&#39;)
        yield idx,(centroids[idx][0],centroids[idx][1])
      
if __name__ == &#39;__main__&#39;:
    MRKmeans.run()
</pre></div>

</div>
</div>
</div>

<div class="output_wrapper">
<div class="output">


<div class="output_area"><div class="prompt"></div>
<div class="output_subarea output_stream output_stdout output_text">
<pre>Writing Kmeans.py
</pre>
</div>
</div>

</div>
</div>

</div>
<div class="cell border-box-sizing text_cell rendered">
<div class="prompt input_prompt">
</div>
<div class="inner_cell">
<div class="text_cell_render border-box-sizing rendered_html">
<h1 id="Driver:">Driver:<a class="anchor-link" href="#Driver:">&#182;</a></h1>
</div>
</div>
</div>
<div class="cell border-box-sizing text_cell rendered">
<div class="prompt input_prompt">
</div>
<div class="inner_cell">
<div class="text_cell_render border-box-sizing rendered_html">
<p>Generate random initial centroids</p>
<p>New Centroids = initial centroids</p>
<p>While(1)：</p>
<ul>
<li>Cacluate new centroids</li>
<li>stop if new centroids close to old centroids</li>
<li>Updates centroids </li>
</ul>

</div>
</div>
</div>
<div class="cell border-box-sizing code_cell rendered">
<div class="input">
<div class="prompt input_prompt">In&nbsp;[4]:</div>
<div class="inner_cell">
    <div class="input_area">
<div class=" highlight hl-ipython2"><pre><span class="kn">from</span> <span class="nn">numpy</span> <span class="kn">import</span> <span class="n">random</span>
<span class="kn">from</span> <span class="nn">Kmeans</span> <span class="kn">import</span> <span class="n">MRKmeans</span><span class="p">,</span> <span class="n">stop_criterion</span>
<span class="n">mr_job</span> <span class="o">=</span> <span class="n">MRKmeans</span><span class="p">(</span><span class="n">args</span><span class="o">=</span><span class="p">[</span><span class="s1">&#39;Kmeandata.csv&#39;</span><span class="p">])</span>

<span class="c1">#Geneate initial centroids</span>
<span class="n">centroid_points</span> <span class="o">=</span> <span class="p">[]</span>
<span class="n">k</span> <span class="o">=</span> <span class="mi">3</span>
<span class="k">for</span> <span class="n">i</span> <span class="ow">in</span> <span class="nb">range</span><span class="p">(</span><span class="n">k</span><span class="p">):</span>
    <span class="n">centroid_points</span><span class="o">.</span><span class="n">append</span><span class="p">([</span><span class="n">random</span><span class="o">.</span><span class="n">uniform</span><span class="p">(</span><span class="o">-</span><span class="mi">3</span><span class="p">,</span><span class="mi">3</span><span class="p">),</span><span class="n">random</span><span class="o">.</span><span class="n">uniform</span><span class="p">(</span><span class="o">-</span><span class="mi">3</span><span class="p">,</span><span class="mi">3</span><span class="p">)])</span>
<span class="k">with</span> <span class="nb">open</span><span class="p">(</span><span class="s1">&#39;Centroids.txt&#39;</span><span class="p">,</span> <span class="s1">&#39;w+&#39;</span><span class="p">)</span> <span class="k">as</span> <span class="n">f</span><span class="p">:</span>
        <span class="n">f</span><span class="o">.</span><span class="n">writelines</span><span class="p">(</span><span class="s1">&#39;,&#39;</span><span class="o">.</span><span class="n">join</span><span class="p">(</span><span class="nb">str</span><span class="p">(</span><span class="n">j</span><span class="p">)</span> <span class="k">for</span> <span class="n">j</span> <span class="ow">in</span> <span class="n">i</span><span class="p">)</span> <span class="o">+</span> <span class="s1">&#39;</span><span class="se">\n</span><span class="s1">&#39;</span> <span class="k">for</span> <span class="n">i</span> <span class="ow">in</span> <span class="n">centroid_points</span><span class="p">)</span>

<span class="c1"># Update centroids iteratively</span>
<span class="n">i</span> <span class="o">=</span> <span class="mi">0</span>
<span class="k">while</span><span class="p">(</span><span class="mi">1</span><span class="p">):</span>
    <span class="c1"># save previous centoids to check convergency</span>
    <span class="n">centroid_points_old</span> <span class="o">=</span> <span class="n">centroid_points</span><span class="p">[:]</span>
    <span class="k">print</span> <span class="s2">&quot;iteration&quot;</span><span class="o">+</span><span class="nb">str</span><span class="p">(</span><span class="n">i</span><span class="p">)</span><span class="o">+</span><span class="s2">&quot;:&quot;</span>
    <span class="k">with</span> <span class="n">mr_job</span><span class="o">.</span><span class="n">make_runner</span><span class="p">()</span> <span class="k">as</span> <span class="n">runner</span><span class="p">:</span> 
        <span class="n">runner</span><span class="o">.</span><span class="n">run</span><span class="p">()</span>
        <span class="c1"># stream_output: get access of the output </span>
        <span class="k">for</span> <span class="n">line</span> <span class="ow">in</span> <span class="n">runner</span><span class="o">.</span><span class="n">stream_output</span><span class="p">():</span>
            <span class="n">key</span><span class="p">,</span><span class="n">value</span> <span class="o">=</span>  <span class="n">mr_job</span><span class="o">.</span><span class="n">parse_output_line</span><span class="p">(</span><span class="n">line</span><span class="p">)</span>
            <span class="k">print</span> <span class="n">key</span><span class="p">,</span> <span class="n">value</span>
            <span class="n">centroid_points</span><span class="p">[</span><span class="n">key</span><span class="p">]</span> <span class="o">=</span> <span class="n">value</span>
    <span class="k">print</span> <span class="s2">&quot;</span><span class="se">\n</span><span class="s2">&quot;</span>
    <span class="n">i</span> <span class="o">=</span> <span class="n">i</span> <span class="o">+</span> <span class="mi">1</span>
    <span class="k">if</span><span class="p">(</span><span class="n">stop_criterion</span><span class="p">(</span><span class="n">centroid_points_old</span><span class="p">,</span><span class="n">centroid_points</span><span class="p">,</span><span class="mf">0.01</span><span class="p">)):</span>
        <span class="k">break</span>
<span class="k">print</span> <span class="s2">&quot;Centroids</span><span class="se">\n</span><span class="s2">&quot;</span>
<span class="k">print</span> <span class="n">centroid_points</span>
</pre></div>

</div>
</div>
</div>

<div class="output_wrapper">
<div class="output">


<div class="output_area"><div class="prompt"></div>
<div class="output_subarea output_stream output_stdout output_text">
<pre>iteration0:
0 [-2.0346556730459464, 2.6844949844288597]
1 [4.013933429097964, -0.3662183665020468]
2 [3.140748469016723, 4.67560776738735]


iteration1:
0 [-0.5370399581660201, 3.7971705299432674]
1 [4.012304309507917, -0.037451039456548776]
2 [4.6920824689977065, 5.548774471441985]


iteration2:
0 [-0.04072725205104783, 3.994537550423039]
1 [4.006415638113598, -0.007576040453031855]
2 [5.929088620628575, 5.964970619964463]


iteration3:
0 [-0.0005235374616978293, 4.003794058191368]
1 [4.010224585818982, -0.005887128658357607]
2 [5.984797466398908, 5.98853456048546]


iteration4:
0 [0.0019655680120348384, 4.00325162592219]
1 [4.010988522297424, -0.007129879201237387]
2 [5.985944904544916, 5.989109694429493]


Centroids

[[0.0019655680120348384, 4.00325162592219], [4.010988522297424, -0.007129879201237387], [5.985944904544916, 5.989109694429493]]
</pre>
</div>
</div>

</div>
</div>

</div>
    </div>
  </div>

  </div>


  
    <footer class="footer hidden-print">
      <div class="container">
        <div class="col-md-4">
          <p>
            This web site does not host notebooks, it only renders notebooks
            available on other websites.
          </p>
        </div>

        <div class="col-md-4">
          <p>
            Delivered by <a href="http://www.fastly.com/">Fastly</a>,
            Rendered by <a href="https://developer.rackspace.com/?nbviewer=awesome">Rackspace</a>
          </p>
          <p>
            nbviewer GitHub <a href="https://github.com/jupyter/nbviewer">repository</a>.
          </p>
        </div>

        <div class="col-md-4">
          
  
            
              <p>
                nbviewer version:
                <a href="https://github.com/jupyter/nbviewer/commit/b280baed69d99f104c8d5bfd8d9ad0f9b24c85e5">
                  b280bae
                </a>
              </p>
            
          
  
  <p>
    notebook version: <a href="https://github.com/jupyter/notebook/releases/tag/4.1.0">
      4.1.0
    </a>
  </p>
  <p>
    nbconvert version: <a href="https://github.com/jupyter/nbconvert/releases/tag/4.1.0">
      4.1.0
    </a>
  </p>
  

          
  
  
  <p>
    Rendered
    <span class='date' data-date='Tue, 02 Feb 2016 00:00:16 UTC' title='Tue, 02 Feb 2016 00:00:16 UTC'>(Tue, 02 Feb 2016 00:00:16 UTC)</span>
  </p>
  

        </div>
      </div>
    </footer>
  

  <script src="/static/components/bootstrap/js/bootstrap.min.js"></script>
  <script src="/static/components/headroom.js/dist/headroom.min.js"></script>
  <script src="/static/components/headroom.js/dist/jQuery.headroom.min.js"></script>

  
  
  <script>
    $(function(){ $("#menubar").headroom({
      tolerance: 5,
      offset: 205,
      classes: {
        initial: "animated",
        pinned: "slideInDown",
        unpinned: "slideOutUp"
      }
    })});
  </script>


  <script>
    (function(i,s,o,g,r,a,m){i['GoogleAnalyticsObject']=r;i[r]=i[r]||function(){
      (i[r].q=i[r].q||[]).push(arguments)},i[r].l=1*new Date();a=s.createElement(o),
      m=s.getElementsByTagName(o)[0];a.async=1;a.src=g;m.parentNode.insertBefore(a,m)
    })(window,document,'script','//www.google-analytics.com/analytics.js','ga');
    ga('create', 'UA-38683231-2', 'auto');
    ga('send', 'pageview');
  </script>
  <script>
    require({
        paths: {
          moment: "/static/components/moment/min/moment.min.js"
        }
      }, ["moment"], function(moment){
      var date = $("footer .date"),
        m = moment(new Date(date.data('date'))),
        update = function(){ date.text(m.fromNow()); };
      setInterval(update, 61*1000);
      update();
      var w = $(window).scroll(function(event){
        $("body").toggleClass("scrolled", w.scrollTop() > 0);
      });
    });
  </script>
  <!--NEW RELIC Stop Perf Measurement-->
  
  <!--NEW RELIC End-->
</body>
</html>