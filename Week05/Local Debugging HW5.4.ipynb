{
 "cells": [
  {
   "cell_type": "code",
   "execution_count": 8,
   "metadata": {
    "collapsed": false
   },
   "outputs": [
    {
     "name": "stdout",
     "output_type": "stream",
     "text": [
      "The autoreload extension is already loaded. To reload it, use:\n",
      "  %reload_ext autoreload\n"
     ]
    }
   ],
   "source": [
    "# We will need these so we can reload modules as we modify them\n",
    "%load_ext autoreload\n",
    "%autoreload 2"
   ]
  },
  {
   "cell_type": "code",
   "execution_count": 15,
   "metadata": {
    "collapsed": false
   },
   "outputs": [
    {
     "name": "stdout",
     "output_type": "stream",
     "text": [
      "Overwriting MRJob5_4.py\n"
     ]
    }
   ],
   "source": [
    "%%writefile MRJob5_4.py\n",
    "from mrjob.job import MRJob\n",
    "from mrjob.step import MRStep\n",
    "\n",
    "class stripes(MRJob):\n",
    "    \n",
    "    \"\"\"\n",
    "    Build stripes\n",
    "    - Read in basis words from basisWords.txt\n",
    "    - Emit stripes where the key and each value's key is in the basis\n",
    "    \"\"\"\n",
    "    \n",
    "    def mapper_buildStripe_init(self):\n",
    "        self.vocab = set()\n",
    "        with open('basisWords.txt','r') as myfile:\n",
    "            for word in myfile:\n",
    "                self.vocab.add(word.strip())\n",
    "        \n",
    "    def mapper_buildStripe(self, _, line):\n",
    "        fields = line.strip().split('\\t')\n",
    "        words = fields[0].lower().split()\n",
    "        wordList = sorted(list(set(words)))\n",
    "        for index1 in range(len(wordList)-1):\n",
    "            stripe = {}\n",
    "            if wordList[index1] in self.vocab:\n",
    "                for index2 in range(index1+1,len(wordList)):\n",
    "                    if wordList[index2] in self.vocab:\n",
    "                        stripe[wordList[index2]] = 1\n",
    "            if len(stripe) > 0:\n",
    "                yield wordList[index1], stripe\n",
    "            \n",
    "    def combiner_buildStripe(self, key, values):\n",
    "        stripe = {}\n",
    "        for val in values:\n",
    "            for word in val:\n",
    "                if word in stripe:\n",
    "                    stripe[word] += val[word]\n",
    "                else:\n",
    "                    stripe[word] = val[word]\n",
    "        yield key, stripe\n",
    "        \n",
    "    def reducer_buildStripe(self, key, values):\n",
    "        stripe = {}\n",
    "        for val in values:\n",
    "            for word in val:\n",
    "                if word in stripe:\n",
    "                    stripe[word] += val[word]\n",
    "                else:\n",
    "                    stripe[word] = val[word]\n",
    "        yield key, stripe\n",
    "    \n",
    "            \n",
    "        \n",
    "    \"\"\"\n",
    "    Multi-step pipeline definitions\n",
    "    Based on user input when calling runner function\n",
    "    \"\"\"\n",
    "    def steps(self):\n",
    "        return [\n",
    "            MRStep(mapper_init=self.mapper_buildStripe_init,\n",
    "                   mapper=self.mapper_buildStripe,\n",
    "                   combiner=self.combiner_buildStripe,\n",
    "                   reducer=self.reducer_buildStripe,\n",
    "                   jobconf={'mapred.reduce.tasks': 2})\n",
    "        ]\n",
    "    \n",
    "\n",
    "if __name__ == '__main__':\n",
    "    stripes.run()"
   ]
  },
  {
   "cell_type": "code",
   "execution_count": 16,
   "metadata": {
    "collapsed": true
   },
   "outputs": [],
   "source": [
    "from MRJob5_4 import stripes\n",
    "\n",
    "def runJob5_4(filename):\n",
    "\n",
    "    mr_job = stripes(args=[filename, '--file', 'basisWords.txt'])\n",
    "    #mr_job = stripes(args=[filename, '-r', 'hadoop', '--hadoop-home', '/usr/', '--file', 'basisWords.txt'])\n",
    "    output = []\n",
    "\n",
    "    with mr_job.make_runner() as runner: \n",
    "        # Run MRJob\n",
    "        runner.run()\n",
    "\n",
    "        # Write stream_output to file\n",
    "        for line in runner.stream_output():\n",
    "            output.append(mr_job.parse_output_line(line))\n",
    "    \n",
    "    return output"
   ]
  },
  {
   "cell_type": "code",
   "execution_count": 23,
   "metadata": {
    "collapsed": false
   },
   "outputs": [
    {
     "name": "stdout",
     "output_type": "stream",
     "text": [
      "among {'human': 2, 'brought': 1, 'something': 1, 'want': 1, 'sense': 1, 'subject': 1, 'god': 2, 'least': 3, 'better': 1, 'going': 1, 'interest': 1, 'themselves': 9, 'ever': 3, 'body': 1, 'took': 2, 'known': 5, 'law': 1, 'states': 2, 'kind': 1, 'whether': 2, 'value': 1, 'common': 7, 'become': 1, 'side': 1} \n",
      "\n",
      "another {'body': 1, 'often': 2, 'certain': 2, 'nothing': 1, 'done': 1, 'want': 2, 'sense': 1, 'subject': 2, 'god': 1, 'away': 1, 'question': 2, 'going': 1, 'themselves': 3, 'ever': 3, 'development': 2, 'human': 3, 'effect': 2, 'here': 2, 'took': 1, 'cannot': 1, 'known': 1, 'law': 1, 'change': 1, 'kind': 5, 'necessary': 1, 'study': 1, 'value': 1, 'person': 10, 'common': 1, 'become': 1, 'went': 2, 'side': 4, 'once': 1} \n",
      "\n",
      "away {'often': 2, 'certain': 1, 'mind': 2, 'states': 1, 'done': 3, 'want': 1, 'subject': 1, 'god': 4, 'question': 1, 'enough': 3, 'going': 5, 'ever': 1, 'body': 1, 'took': 6, 'hand': 2, 'water': 1, 'cannot': 2, 'nothing': 2, 'off': 1, 'whether': 1, 'went': 10, 'fact': 1} \n",
      "\n",
      "become {'kind': 1, 'united': 1, 'necessary': 2, 'once': 1, 'god': 1, 'question': 2, 'effect': 1, 'least': 2, 'better': 1, 'person': 2, 'enough': 2, 'common': 2, 'sense': 1, 'known': 2, 'themselves': 1, 'law': 2, 'ever': 1, 'subject': 3} \n",
      "\n",
      "better {'known': 10, 'going': 1, 'off': 11, 'often': 1, 'something': 5, 'fact': 2, 'study': 1, 'mind': 1, 'least': 1, 'person': 1, 'cannot': 1, 'done': 2, 'here': 1, 'want': 1, 'sense': 2, 'nothing': 7, 'seen': 2, 'themselves': 2, 'ever': 2, 'change': 1, 'once': 1} \n",
      "\n",
      "body {'information': 1, 'united': 1, 'mind': 5, 'took': 1, 'brought': 1, 'person': 2, 'enough': 1, 'cannot': 3, 'common': 2, 'human': 12, 'water': 3, 'seen': 1, 'law': 1, 'change': 2, 'subject': 1} \n",
      "\n",
      "brought {'states': 1, 'united': 1, 'often': 2, 'once': 3, 'certain': 2, 'study': 1, 'question': 2, 'here': 2, 'hand': 2, 'water': 2, 'enough': 1, 'cannot': 1, 'least': 2, 'human': 1, 'sense': 1, 'themselves': 3, 'law': 2, 'mind': 5, 'subject': 2} \n",
      "\n",
      "cannot {'often': 1, 'certain': 1, 'mind': 2, 'known': 2, 'done': 4, 'something': 1, 'human': 1, 'seen': 3, 'god': 2, 'question': 1, 'least': 1, 'themselves': 4, 'ever': 1, 'effect': 1, 'here': 6, 'hand': 1, 'nothing': 1, 'change': 1, 'kind': 1, 'off': 1, 'whether': 1, 'value': 2, 'person': 2, 'fact': 2} \n",
      "\n",
      "certain {'often': 1, 'mind': 2, 'states': 2, 'known': 2, 'human': 1, 'sense': 2, 'subject': 4, 'information': 3, 'want': 2, 'least': 1, 'enough': 1, 'interest': 2, 'took': 1, 'water': 1, 'nothing': 3, 'law': 1, 'change': 1, 'kind': 4, 'off': 2, 'whether': 3, 'common': 1, 'went': 1, 'fact': 4, 'once': 2} \n",
      "\n",
      "change {'development': 1, 'necessary': 3, 'mind': 3, 'effect': 2, 'least': 1, 'states': 1, 'person': 1, 'enough': 1, 'value': 4, 'want': 2, 'nothing': 1, 'seen': 1, 'themselves': 1, 'law': 1, 'ever': 1, 'subject': 1} \n",
      "\n",
      "common {'development': 1, 'united': 1, 'necessary': 1, 'often': 2, 'human': 1, 'took': 1, 'least': 2, 'hand': 1, 'states': 1, 'person': 1, 'enough': 5, 'done': 1, 'value': 2, 'interest': 5, 'sense': 13, 'nothing': 2, 'law': 23, 'side': 1, 'subject': 1} \n",
      "\n",
      "development {'information': 2, 'united': 1, 'study': 1, 'took': 2, 'done': 1, 'human': 6, 'sense': 1, 'law': 1, 'side': 1, 'fact': 1, 'subject': 2} \n",
      "\n",
      "done {'kind': 2, 'necessary': 1, 'often': 3, 'whether': 2, 'god': 2, 'study': 3, 'mind': 1, 'effect': 1, 'value': 1, 'here': 2, 'person': 2, 'enough': 3, 'subject': 1, 'least': 3, 'nothing': 11, 'law': 1, 'ever': 4, 'something': 8} \n",
      "\n",
      "effect {'whether': 1, 'study': 3, 'took': 1, 'least': 2, 'human': 1, 'law': 1, 'side': 2} \n",
      "\n",
      "enough {'information': 4, 'kind': 3, 'off': 1, 'often': 4, 'whether': 2, 'god': 1, 'here': 2, 'water': 2, 'person': 1, 'states': 1, 'going': 1, 'least': 5, 'human': 1, 'sense': 1, 'known': 1, 'seen': 2, 'themselves': 1, 'law': 1, 'ever': 1, 'subject': 1} \n",
      "\n",
      "ever {'known': 4, 'kind': 1, 'united': 1, 'off': 1, 'whether': 2, 'god': 1, 'mind': 2, 'question': 1, 'hand': 1, 'person': 2, 'going': 3, 'something': 1, 'want': 2, 'nothing': 3, 'seen': 8, 'went': 1, 'once': 1} \n",
      "\n",
      "fact {'known': 5, 'information': 1, 'kind': 1, 'necessary': 1, 'often': 3, 'something': 2, 'whether': 1, 'mind': 1, 'question': 3, 'took': 2, 'least': 2, 'value': 2, 'person': 1, 'going': 1, 'here': 2, 'human': 1, 'sense': 1, 'nothing': 2, 'themselves': 2, 'law': 1, 'once': 1} \n",
      "\n",
      "god {'often': 1, 'whether': 1, 'question': 2, 'mind': 1, 'took': 1, 'here': 1, 'hand': 1, 'person': 1, 'human': 4, 'sense': 2, 'nothing': 1, 'seen': 1} \n",
      "\n",
      "going {'off': 6, 'whether': 1, 'study': 1, 'question': 1, 'took': 1, 'here': 3, 'person': 1, 'something': 2, 'interest': 1, 'nothing': 2, 'law': 1, 'once': 1} \n",
      "\n",
      "hand {'off': 4, 'often': 1, 'took': 5, 'person': 1, 'want': 1, 'seen': 1, 'went': 2, 'side': 4} \n",
      "\n",
      "here {'kind': 1, 'necessary': 2, 'whether': 2, 'mind': 2, 'question': 3, 'least': 1, 'something': 2, 'want': 1, 'sense': 2, 'nothing': 4, 'off': 1, 'once': 1, 'side': 2, 'subject': 1} \n",
      "\n",
      "human {'kind': 1, 'united': 1, 'necessary': 1, 'study': 1, 'mind': 17, 'value': 1, 'person': 1, 'least': 1, 'something': 1, 'interest': 4, 'sense': 3, 'nothing': 3, 'seen': 3, 'once': 1, 'subject': 4} \n",
      "\n",
      "information {'states': 1, 'necessary': 3, 'whether': 4, 'question': 1, 'least': 1, 'water': 1, 'person': 1, 'value': 2, 'want': 3, 'nothing': 1, 'themselves': 2, 'once': 1, 'subject': 1} \n",
      "\n",
      "interest {'kind': 2, 'least': 1, 'necessary': 1, 'often': 1, 'question': 4, 'took': 9, 'value': 2, 'something': 1, 'themselves': 2, 'law': 1, 'subject': 1} \n",
      "\n",
      "kind {'whether': 1, 'study': 1, 'mind': 1, 'took': 1, 'value': 1, 'water': 1, 'person': 3, 'want': 2, 'nothing': 1, 'seen': 1, 'law': 2, 'once': 1} \n",
      "\n",
      "known {'once': 2, 'whether': 5, 'mind': 1, 'water': 1, 'person': 2, 'something': 1, 'nothing': 5, 'law': 2, 'subject': 1} \n",
      "\n",
      "law {'united': 1, 'necessary': 1, 'question': 1, 'study': 4, 'mind': 1, 'something': 1, 'seen': 1, 'themselves': 1, 'side': 1, 'subject': 2} \n",
      "\n",
      "least {'took': 1, 'states': 1, 'person': 1, 'something': 1, 'want': 1, 'once': 3} \n",
      "\n",
      "mind {'united': 1, 'off': 1, 'often': 4, 'question': 1, 'took': 2, 'states': 5, 'person': 1, 'something': 1, 'nothing': 2, 'went': 2, 'once': 1, 'subject': 1} \n",
      "\n",
      "necessary {'states': 1, 'united': 1, 'often': 2, 'whether': 2, 'study': 1, 'water': 2, 'sense': 2, 'seen': 1} \n",
      "\n",
      "nothing {'question': 1, 'want': 2, 'sense': 1, 'seen': 3, 'themselves': 1, 'subject': 1} \n",
      "\n",
      "off {'took': 6, 'value': 1, 'side': 4, 'water': 3, 'person': 1, 'seen': 1, 'went': 9, 'subject': 1, 'themselves': 1, 'once': 3} \n",
      "\n",
      "often {'study': 1, 'question': 1, 'something': 1, 'want': 1, 'seen': 6, 'themselves': 3, 'went': 3} \n",
      "\n",
      "once {'united': 1, 'study': 1, 'took': 4, 'states': 2, 'seen': 6, 'went': 1, 'subject': 2} \n",
      "\n",
      "person {'whether': 9, 'question': 1, 'value': 1, 'states': 1, 'something': 2, 'seen': 1, 'subject': 2} \n",
      "\n",
      "question {'united': 1, 'whether': 43, 'study': 2, 'took': 1, 'side': 3, 'states': 1, 'went': 1, 'themselves': 1} \n",
      "\n",
      "seen {'whether': 1, 'study': 1, 'value': 2, 'water': 1, 'something': 1, 'themselves': 1, 'side': 3} \n",
      "\n",
      "sense {'themselves': 1, 'united': 1, 'something': 3, 'value': 2} \n",
      "\n",
      "side {'water': 2, 'themselves': 1, 'went': 2, 'value': 1} \n",
      "\n",
      "something {'whether': 1, 'went': 1, 'want': 6, 'subject': 1} \n",
      "\n",
      "states {'study': 1, 'united': 295, 'took': 1} \n",
      "\n",
      "study {'themselves': 1, 'went': 1, 'want': 1, 'subject': 2} \n",
      "\n",
      "subject {'went': 1, 'took': 1} \n",
      "\n",
      "themselves {'water': 1, 'whether': 1, 'united': 1, 'took': 1, 'want': 2} \n",
      "\n",
      "took {'water': 1, 'went': 2} \n",
      "\n",
      "value {'water': 1} \n",
      "\n",
      "want {'water': 1, 'whether': 5} \n",
      "\n"
     ]
    }
   ],
   "source": [
    "myfile = './filtered-5Grams/googlebooks-eng-all-5gram-20090715-0-filtered.txt'\n",
    "#myfile = './filtered-5Grams/short-5gram.txt'\n",
    "\n",
    "# output = runJob5_4(myfile)\n",
    "for item in output:\n",
    "    print item[0], item[1], '\\n'"
   ]
  }
 ],
 "metadata": {
  "kernelspec": {
   "display_name": "Python 2",
   "language": "python",
   "name": "python2"
  },
  "language_info": {
   "codemirror_mode": {
    "name": "ipython",
    "version": 2
   },
   "file_extension": ".py",
   "mimetype": "text/x-python",
   "name": "python",
   "nbconvert_exporter": "python",
   "pygments_lexer": "ipython2",
   "version": "2.7.11"
  }
 },
 "nbformat": 4,
 "nbformat_minor": 0
}
