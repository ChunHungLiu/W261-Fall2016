{
 "cells": [
  {
   "cell_type": "code",
   "execution_count": 24,
   "metadata": {
    "collapsed": false
   },
   "outputs": [
    {
     "name": "stdout",
     "output_type": "stream",
     "text": [
      "The autoreload extension is already loaded. To reload it, use:\n",
      "  %reload_ext autoreload\n"
     ]
    }
   ],
   "source": [
    "# We will need these so we can reload modules as we modify them\n",
    "%load_ext autoreload\n",
    "%autoreload 2"
   ]
  },
  {
   "cell_type": "code",
   "execution_count": 78,
   "metadata": {
    "collapsed": false
   },
   "outputs": [
    {
     "name": "stdout",
     "output_type": "stream",
     "text": [
      "Overwriting MRJob5_4_1.py\n"
     ]
    }
   ],
   "source": [
    "%%writefile MRJob5_4_1.py\n",
    "from mrjob.job import MRJob\n",
    "from mrjob.step import MRStep\n",
    "\n",
    "class stripes(MRJob):\n",
    "    \n",
    "    \"\"\"\n",
    "    Build stripes\n",
    "    - Read in basis words from basisWords.txt\n",
    "    - For each 5-gram:\n",
    "       - Deduplicate the words in the 5-gram, then sort alphabetically\n",
    "       - Extract count\n",
    "       - Build stripe: (word1, {word2: x, word3: y, ...})\n",
    "       \n",
    "    \"\"\"\n",
    "    \n",
    "    def mapper_buildStripe_init(self):\n",
    "        self.numDocuments = 0\n",
    "        self.vocab = set()\n",
    "        with open('basisWords.txt','r') as myfile:\n",
    "            for word in myfile:\n",
    "                self.vocab.add(word.strip())\n",
    "        \n",
    "    def mapper_buildStripe(self, _, line):\n",
    "        fields = line.strip().split('\\t')\n",
    "        words = fields[0].lower().split()\n",
    "        wordList = sorted(list(set(words)))\n",
    "        count = float(fields[1])\n",
    "        self.numDocuments += count\n",
    "        for index1 in range(len(wordList)-1):\n",
    "            stripe = {}\n",
    "            if wordList[index1] in self.vocab:\n",
    "                for index2 in range(index1+1,len(wordList)):\n",
    "                    if wordList[index2] in self.vocab:\n",
    "                        stripe[wordList[index2]] = count\n",
    "            if len(stripe) > 0:\n",
    "                yield wordList[index1], stripe\n",
    "                \n",
    "    def mapper_buildStripe_final(self):\n",
    "        yield '*total', {'*total':self.numDocuments}\n",
    "            \n",
    "    def combiner_buildStripe(self, key, values):\n",
    "        stripe = {}\n",
    "        for val in values:\n",
    "            for word in val:\n",
    "                if word in stripe:\n",
    "                    stripe[word] += val[word]\n",
    "                else:\n",
    "                    stripe[word] = val[word]\n",
    "        yield key, stripe\n",
    "        \n",
    "    def reducer_buildStripe_init(self):\n",
    "        self.numDocs = 0\n",
    "    \n",
    "    def reducer_buildStripe(self, key, values):\n",
    "        stripe = {}\n",
    "        for val in values:\n",
    "            for word in val:\n",
    "                if word in stripe:\n",
    "                    stripe[word] += val[word]\n",
    "                else:\n",
    "                    stripe[word] = val[word]\n",
    "        if key == '*total':\n",
    "            self.numDocs = stripe['*total']\n",
    "        else:\n",
    "            for word in stripe:\n",
    "                stripe[word] /= self.numDocs\n",
    "            yield key, stripe\n",
    "    \n",
    "            \n",
    "        \n",
    "    \"\"\"\n",
    "    Multi-step pipeline definitions\n",
    "    Based on user input when calling runner function\n",
    "    \"\"\"\n",
    "    def steps(self):\n",
    "        return [\n",
    "            MRStep(mapper_init=self.mapper_buildStripe_init,\n",
    "                   mapper=self.mapper_buildStripe,\n",
    "                   mapper_final=self.mapper_buildStripe_final,\n",
    "                   combiner=self.combiner_buildStripe,\n",
    "                   reducer_init=self.reducer_buildStripe_init,\n",
    "                   reducer=self.reducer_buildStripe,\n",
    "                   jobconf={'mapred.reduce.tasks': 1})\n",
    "        ]\n",
    "    \n",
    "\n",
    "if __name__ == '__main__':\n",
    "    stripes.run()"
   ]
  },
  {
   "cell_type": "code",
   "execution_count": 79,
   "metadata": {
    "collapsed": false
   },
   "outputs": [],
   "source": [
    "from MRJob5_4_1 import stripes\n",
    "\n",
    "def runJob5_4_1(filename, s3bucket, basis):\n",
    "\n",
    "    #mr_job = stripes(args=[filename, '--file', basis])\n",
    "    mr_job = stripes(args=[filename, '-r', 'hadoop', '--hadoop-home', '/usr/', '--file', basis])\n",
    "    \n",
    "    with mr_job.make_runner() as runner: \n",
    "        # Run MRJob\n",
    "        runner.run()\n",
    "\n",
    "        # Write stream_output to file\n",
    "        for line in runner.stream_output():\n",
    "            out = mr_job.parse_output_line(line)"
   ]
  },
  {
   "cell_type": "code",
   "execution_count": 80,
   "metadata": {
    "collapsed": false
   },
   "outputs": [
    {
     "name": "stderr",
     "output_type": "stream",
     "text": [
      "WARNING:mrjob.runner:\n",
      "WARNING:mrjob.runner:PLEASE NOTE: Starting in mrjob v0.5.0, protocols will be strict by default. It's recommended you run your job with --strict-protocols or set up mrjob.conf as described at https://pythonhosted.org/mrjob/whats-new.html#ready-for-strict-protocols\n",
      "WARNING:mrjob.runner:\n"
     ]
    },
    {
     "name": "stdout",
     "output_type": "stream",
     "text": [
      "alternate {'viewing': 1.6005761449506742e-06} \n",
      "\n",
      "alzheimer's {'dementia': 3.532979051659415e-06} \n",
      "\n",
      "amidst {'tumult': 1.5615377023909016e-06, 'restless': 8.393265150351096e-07} \n",
      "\n",
      "ammonium {'hydroxide': 1.522499259831129e-06} \n",
      "\n",
      "anemia {'pernicious': 1.1321148342334037e-06} \n",
      "\n",
      "annum {'thereon': 1.3468262683121526e-06} \n",
      "\n",
      "approximated {'subcutaneous': 2.3423065535863526e-06} \n",
      "\n",
      "architectural {'decoration': 8.978841788747684e-07} \n",
      "\n",
      "articular {'cartilage': 9.954802852741998e-07} \n",
      "\n",
      "authoritative {'interpreter': 9.759610639943135e-07} \n",
      "\n",
      "balcony {'overlooking': 2.7131717579041916e-06} \n",
      "\n",
      "bottles {'necks': 1.2687493831926076e-06} \n",
      "\n",
      "brightest {'diamond': 1.3858647108719252e-06} \n",
      "\n",
      "bursting {'shells': 1.0735571703937448e-06} \n",
      "\n",
      "canons {'commonest': 8.393265150351096e-07} \n",
      "\n",
      "careless {'hasty': 1.1321148342334037e-06} \n",
      "\n",
      "cartilage {'localized': 9.954802852741998e-07} \n",
      "\n",
      "ce {'qui': 9.36922621434541e-07} \n",
      "\n",
      "commence {'qui': 1.229710940632835e-06, 'palestinian': 1.2101917193529487e-06} \n",
      "\n",
      "commonplace {'feathers': 1.6396145875104466e-06} \n",
      "\n",
      "complexion {'darker': 1.6786530300702192e-06} \n",
      "\n",
      "contradictory {'predicate': 3.3377868388605524e-06} \n",
      "\n",
      "conveying {'pipes': 3.025479298382372e-06} \n",
      "\n",
      "dame {'habitation': 1.2882686044724939e-06} \n",
      "\n",
      "darkest {'superstition': 2.1471143407874896e-06} \n",
      "\n",
      "deliberations {'trent': 9.174034001546547e-07} \n",
      "\n",
      "discomfort {'localized': 8.393265150351096e-07} \n",
      "\n",
      "dividend {'shareholders': 8.393265150351096e-07} \n",
      "\n",
      "dumb {'pretending': 1.3468262683121526e-06} \n",
      "\n",
      "endowment {'unstable': 1.6396145875104466e-06} \n",
      "\n",
      "est {'qui': 1.6200953662305603e-06} \n",
      "\n",
      "establishments {'sanitary': 9.564418427144272e-07} \n",
      "\n",
      "flexor {'sheath': 3.962401919816913e-06} \n",
      "\n",
      "flocks {'herds': 1.8914125420209797e-05} \n",
      "\n",
      "flourish {'jungle': 2.674133315344419e-06} \n",
      "\n",
      "fossil {'shells': 2.0104797918282857e-06} \n",
      "\n",
      "hasty {'impatience': 8.002880724753371e-07} \n",
      "\n",
      "herds {'restless': 8.393265150351096e-07} \n",
      "\n",
      "humiliation {'intolerable': 2.4789411025455565e-06, 'rejoiced': 2.5765372089449878e-06} \n",
      "\n",
      "hydroxide {'soda': 8.198072937552233e-07} \n",
      "\n",
      "indiana {'linguistics': 2.4984603238254426e-06} \n",
      "\n",
      "inspector {'sanitary': 8.978841788747684e-07} \n",
      "\n",
      "irresistible {'speedily': 8.588457363149959e-07} \n",
      "\n",
      "jones {'summon': 1.6200953662305603e-06} \n",
      "\n",
      "laden {'spoils': 1.3077878257523802e-06} \n",
      "\n",
      "magnificence {'sketches': 1.2882686044724939e-06} \n",
      "\n",
      "matthew {'sayings': 1.4834608172713565e-06} \n",
      "\n",
      "meridian {'zenith': 2.7522102004639642e-06} \n",
      "\n",
      "operative {'wholesale': 8.393265150351096e-07} \n",
      "\n",
      "peritoneal {'sac': 1.5029800385512428e-06} \n",
      "\n",
      "pink {'replacing': 9.174034001546547e-07, 'wax': 8.022399946033257e-06} \n",
      "\n",
      "pitched {'tents': 2.4008642174260113e-06} \n",
      "\n",
      "polished {'shells': 1.15163405551329e-06} \n",
      "\n",
      "relaxed {'vigilance': 2.830287085583509e-06} \n",
      "\n",
      "resembling {'shells': 2.088556676947831e-06} \n",
      "\n",
      "sac {'uterine': 9.36922621434541e-07} \n",
      "\n",
      "telescope {'viewing': 1.8152875790294231e-06} \n",
      "\n"
     ]
    }
   ],
   "source": [
    "myfile = './filtered-5Grams/googlebooks-eng-all-5gram-20090715-0-filtered.txt'\n",
    "#myfile = './filtered-5Grams/short-5gram.txt'\n",
    "#myfile = 'outputUnit.txt'\n",
    "mybasis = 'basisWords.txt'\n",
    "output_bucket = 'none'\n",
    "\n",
    "output = runJob5_4(myfile, output_bucket, mybasis)\n",
    "\n"
   ]
  },
  {
   "cell_type": "code",
   "execution_count": 95,
   "metadata": {
    "collapsed": false
   },
   "outputs": [
    {
     "name": "stdout",
     "output_type": "stream",
     "text": [
      "('X', 'Y') (1, 1, 1)\n",
      "('X', 'Z') (1, 1, 1)\n",
      "('Y', 'Z') (1, 1, 1)\n",
      "('X', 'Y') (1, 1, 1)\n",
      "('M', 'N') (1, 1, 1)\n",
      "('M', 'Z') (1, 1, 1)\n",
      "('N', 'Z') (1, 1, 1)\n"
     ]
    }
   ],
   "source": [
    "from itertools import combinations\n",
    "\n",
    "with open('outputUnit.txt','r') as myfile:\n",
    "    for line in myfile:\n",
    "        fields = line.strip().split('\\t')\n",
    "        stripe = eval(fields[1])\n",
    "        pairs = combinations(sorted(stripe.keys()),2)\n",
    "\n",
    "        for item in pairs:\n",
    "            i = (stripe[item[0]] > 0) + 0\n",
    "            j = (stripe[item[1]] > 0) + 0\n",
    "            print (item[0], item[1]), (i and j, i, j)"
   ]
  },
  {
   "cell_type": "code",
   "execution_count": 108,
   "metadata": {
    "collapsed": false
   },
   "outputs": [
    {
     "name": "stdout",
     "output_type": "stream",
     "text": [
      "0 1\n",
      "0 2\n",
      "1 2\n",
      "0 1\n",
      "0 1\n",
      "0 2\n",
      "1 2\n"
     ]
    }
   ],
   "source": [
    "with open('outputUnit.txt', 'r') as myfile:\n",
    "    for line in myfile:\n",
    "        key, value = line.strip().split('\\t')\n",
    "        value = eval(value)\n",
    "        "
   ]
  },
  {
   "cell_type": "markdown",
   "metadata": {},
   "source": [
    "# 5.3"
   ]
  },
  {
   "cell_type": "code",
   "execution_count": 70,
   "metadata": {
    "collapsed": false
   },
   "outputs": [
    {
     "name": "stderr",
     "output_type": "stream",
     "text": [
      "WARNING:mrjob.runner:\n",
      "WARNING:mrjob.runner:PLEASE NOTE: Starting in mrjob v0.5.0, protocols will be strict by default. It's recommended you run your job with --strict-protocols or set up mrjob.conf as described at https://pythonhosted.org/mrjob/whats-new.html#ready-for-strict-protocols\n",
      "WARNING:mrjob.runner:\n",
      "WARNING:mrjob.compat:Detected hadoop configuration property names that do not match hadoop version 2.6.0:\n",
      "The have been translated as follows\n",
      " mapred.text.key.comparator.options: mapreduce.partition.keycomparator.options\n",
      "mapred.text.key.partitioner.options: mapreduce.partition.keypartitioner.options\n",
      "mapred.reduce.tasks: mapreduce.job.reduces\n",
      "mapred.output.key.comparator.class: mapreduce.job.output.key.comparator.class\n"
     ]
    }
   ],
   "source": [
    "from MRJob5_3 import job\n",
    "\n",
    "def runJob5_3(filename, part, s3bucket):\n",
    "\n",
    "    #mr_job = job(args=[filename, '--part', str(part)])\n",
    "    mr_job = job(args=[filename, '--part', str(part), '-r', 'hadoop', '--hadoop-home', '/usr/'])\n",
    "#     mr_job = job(args=[filename, '--part', str(part), '--no-output', '--output-dir', s3bucket,\n",
    "#                        '-r', 'emr', '--emr-job-flow-id', 'j-98XEIC78B7U2'])\n",
    "    \n",
    "    output = []\n",
    "\n",
    "    with mr_job.make_runner() as runner: \n",
    "        # Run MRJob\n",
    "        runner.run()\n",
    "\n",
    "        # Write stream_output to file\n",
    "        for line in runner.stream_output():\n",
    "            output.append(mr_job.parse_output_line(line))\n",
    "    \n",
    "    return output\n",
    "\n",
    "output = runJob5_3('./filtered-5Grams/googlebooks-eng-all-5gram-20090715-0-filtered.txt', 4, 'none')"
   ]
  },
  {
   "cell_type": "code",
   "execution_count": 66,
   "metadata": {
    "collapsed": false
   },
   "outputs": [],
   "source": [
    "%matplotlib inline\n",
    "\n",
    "import numpy as np\n",
    "import pandas\n",
    "import matplotlib.pyplot as plt"
   ]
  },
  {
   "cell_type": "code",
   "execution_count": 77,
   "metadata": {
    "collapsed": false
   },
   "outputs": [
    {
     "data": {
      "image/png": "[encoded data removed]",
      "text/plain": [
       "<matplotlib.figure.Figure at 0x7f546a594650>"
      ]
     },
     "metadata": {},
     "output_type": "display_data"
    }
   ],
   "source": [
    "%matplotlib inline\n",
    "\n",
    "import numpy as np\n",
    "import pandas\n",
    "import matplotlib.pyplot as plt\n",
    "\n",
    "def plot_hist():\n",
    "    frequencies = np.array(output)\n",
    "    density = np.column_stack((frequencies[:,1], frequencies[:,0] / sum(frequencies[:,0])))\n",
    "\n",
    "    plt.figure(figsize=(16, 6))\n",
    "    plt.bar(density[:,0], density[:,1], color='#797f8b', edgecolor=\"none\")\n",
    "    plt.xlabel(\"Length of 5gram\")\n",
    "    plt.ylabel(\"Relative frequency\")\n",
    "    plt.title(\"Histogram of 5gram lengths\")\n",
    "    \n",
    "plot_hist()"
   ]
  }
 ],
 "metadata": {
  "kernelspec": {
   "display_name": "Python 2",
   "language": "python",
   "name": "python2"
  },
  "language_info": {
   "codemirror_mode": {
    "name": "ipython",
    "version": 2
   },
   "file_extension": ".py",
   "mimetype": "text/x-python",
   "name": "python",
   "nbconvert_exporter": "python",
   "pygments_lexer": "ipython2",
   "version": "2.7.11"
  }
 },
 "nbformat": 4,
 "nbformat_minor": 0
}
