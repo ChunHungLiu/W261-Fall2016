{
 "cells": [
  {
   "cell_type": "markdown",
   "metadata": {},
   "source": [
    "# DATASCI W261: Machine Learning at Scale\n",
    "## Assignment Week 5\n",
    "Miki Seltzer (miki.seltzer@berkeley.edu)<br>\n",
    "W261-2, Spring 2016<br>\n",
    "Submission: "
   ]
  },
  {
   "cell_type": "markdown",
   "metadata": {
    "collapsed": true
   },
   "source": [
    "## HW5.0:\n",
    "### What is a data warehouse?\n",
    "A data warehouse is a repository for one or multiple data sources. Data warehouses can contain relational databases.\n",
    "\n",
    "### What is a star schema?\n",
    "A star schema relates multiple fact and dimension tables, and is similar to the snowflake schema. In both schemas, fact tables are referenced by dimension tables (one or multiple). However, star schemas are denormalized, whereas snowflake schemas are normalized.\n",
    "\n",
    "### When is it used?\n",
    "A star schema is used to organize the meta data of a relational database, such as which tables can be joined, and the keys on which they can be joined."
   ]
  },
  {
   "cell_type": "markdown",
   "metadata": {},
   "source": [
    "## HW5.1:\n",
    "### In the database world, what is 3NF?\n",
    "3NF is shorthand for third normal form. A table is in third normal form if the following conditions hold:\n",
    "- The table is already in second normal form\n",
    "- Non-prime attributes of the table are non-transitively dependent on every key in the table\n",
    "\n",
    "### Does machine learning use data in 3NF?\n",
    "ML can, but does not always use data in 3NF.\n",
    "\n",
    "### If so, why?\n",
    "3NF can save a significant amount of disk space because data duplication is avoided. Additionally, if data is denormalized, then fields in the data set might be related to each other and create dependencies. This may be problematic if we are using algorithms that require independent features.\n",
    "\n",
    "### In what form does ML consume data?\n",
    "Typically, ML requires all data to be fed into an algorithm to be collected into a single source. Thus, the easiest way for ML to ingest data is for it to be denormalized.\n",
    "\n",
    "### Why would one use log files that are denormalized?\n",
    "If one needs to perform real-time analysis on log files, it may be too time consuming to join normalized log files with other tables. If log files are denormalized, they may not need any further processing (joins) to be fed into other steps of a pipeline."
   ]
  },
  {
   "cell_type": "markdown",
   "metadata": {},
   "source": [
    "## HW 5.2: Using MRJob, implement a hashside join (memory-backed map-side) for left, right and inner joins. Run your code on the  data used in HW 4.4.\n",
    "\n",
    "### Justify which table you chose as left table in this hashside join\n",
    "The two tables used were:\n",
    "- **anonymous-msweb-preprocess.data:** The log file of visitors and each page that they visited (processed rows prefixed by 'C' or 'V')\n",
    "- **attributes.csv:** The page ID, page name and URL of each page (prefixed by 'A' in the original data)\n",
    "\n",
    "The attributes.csv file was very small (only 294 lines), so this is the file that I chose to store in memory. This became my **right** table.\n",
    "\n",
    "The log file was much larger, so I streamed through this file, and used it as the **left** table."
   ]
  },
  {
   "cell_type": "code",
   "execution_count": 142,
   "metadata": {
    "collapsed": false
   },
   "outputs": [],
   "source": [
    "# We will need these so we can reload modules as we modify them\n",
    "%load_ext autoreload\n",
    "%autoreload 2"
   ]
  },
  {
   "cell_type": "code",
   "execution_count": 64,
   "metadata": {
    "collapsed": false
   },
   "outputs": [
    {
     "name": "stdout",
     "output_type": "stream",
     "text": [
      "Overwriting mapSideJoin.py\n"
     ]
    }
   ],
   "source": [
    "%%writefile mapSideJoin.py\n",
    "from mrjob.job import MRJob\n",
    "from mrjob.step import MRStep\n",
    " \n",
    "class join(MRJob):\n",
    "    \n",
    "    # Specify some custom options so we only have to write one MRJob class for each join\n",
    "    def configure_options(self):\n",
    "        super(join, self).configure_options()\n",
    "        self.add_passthrough_option('--joinType', default='inner', )\n",
    "    \n",
    "    # Store attributes.csv into memory\n",
    "    #  - account for multiple occurrences of keys\n",
    "    #  - self.pages is dict with a list of [pageName, pageURL] pairs\n",
    "    # Set joinType variable\n",
    "    def mapper_init(self):\n",
    "        self.pages = {}\n",
    "        with open('attributes.csv','r') as myfile:\n",
    "            for line in myfile:\n",
    "                fields = line.strip().split(',')\n",
    "                if fields[0] not in self.pages:\n",
    "                    self.pages[fields[0]]=[]\n",
    "                self.pages[fields[0]].append([fields[1], fields[2]])\n",
    "        self.joinType = self.options.joinType\n",
    "        self.seenRight = set()\n",
    "    \n",
    "    # RIGHT table is stored in memory (self.pages)\n",
    "    # LEFT table is streamed\n",
    "    # We need so keep track of which RIGHT keys we have seen\n",
    "    def mapper(self, _, line):\n",
    "        fields = line.split(',')\n",
    "        key = fields[0]\n",
    "        self.seenRight.add(key)\n",
    "        if key in self.pages:\n",
    "            for i in self.pages[key]:\n",
    "                yield key, (fields[1], fields[2], i[0], i[1])\n",
    "        elif self.joinType == 'left':\n",
    "            yield key, (fields[1], fields[2], None, None)\n",
    "\n",
    "    # We need to emit all of the RIGHT keys that we never saw while streaming through LEFT\n",
    "    # We will need to deduplicate these in the reducer in case we have multiple mappers\n",
    "    def mapper_final(self):\n",
    "        if self.joinType == 'right':\n",
    "            for key in self.pages:\n",
    "                if key not in self.seenRight:\n",
    "                    for value in self.pages[key]:\n",
    "                        yield key, (None, None, value[0], value[1])\n",
    "    \n",
    "    # Need to persist variables\n",
    "    def reducer_init(self):\n",
    "        self.joinType = self.options.joinType\n",
    "    \n",
    "    # We need to unpack and emit each record\n",
    "    # We also need to do some work emitting records for the right join\n",
    "    def reducer(self, key, values):\n",
    "        emptyRight = True\n",
    "        for val in values:\n",
    "            if self.joinType == 'inner' or self.joinType == 'left':\n",
    "                yield key, val\n",
    "            elif self.joinType == 'right':\n",
    "                if val[:2] != [None]*2:\n",
    "                    emptyRight = False\n",
    "                    yield key, val\n",
    "                else: emptyRecord = val\n",
    "        if emptyRight and self.joinType == 'right':\n",
    "            yield key, emptyRecord\n",
    "\n",
    "\n",
    "if __name__ == '__main__':\n",
    "    join.run()"
   ]
  },
  {
   "cell_type": "code",
   "execution_count": 12,
   "metadata": {
    "collapsed": false
   },
   "outputs": [
    {
     "name": "stderr",
     "output_type": "stream",
     "text": [
      "WARNING:mrjob.runner:\n",
      "WARNING:mrjob.runner:PLEASE NOTE: Starting in mrjob v0.5.0, protocols will be strict by default. It's recommended you run your job with --strict-protocols or set up mrjob.conf as described at https://pythonhosted.org/mrjob/whats-new.html#ready-for-strict-protocols\n",
      "WARNING:mrjob.runner:\n",
      "WARNING:mrjob.runner:\n",
      "WARNING:mrjob.runner:PLEASE NOTE: Starting in mrjob v0.5.0, protocols will be strict by default. It's recommended you run your job with --strict-protocols or set up mrjob.conf as described at https://pythonhosted.org/mrjob/whats-new.html#ready-for-strict-protocols\n",
      "WARNING:mrjob.runner:\n",
      "WARNING:mrjob.runner:\n",
      "WARNING:mrjob.runner:PLEASE NOTE: Starting in mrjob v0.5.0, protocols will be strict by default. It's recommended you run your job with --strict-protocols or set up mrjob.conf as described at https://pythonhosted.org/mrjob/whats-new.html#ready-for-strict-protocols\n",
      "WARNING:mrjob.runner:\n"
     ]
    }
   ],
   "source": [
    "from mapSideJoin import join\n",
    "\n",
    "def runJoin(joinType):\n",
    "\n",
    "    mr_job = join(args=['TopVisitors.txt', '--file', 'attributes.csv', '--joinType', joinType])\n",
    "    output = []\n",
    "\n",
    "    with mr_job.make_runner() as runner: \n",
    "        # Run MRJob\n",
    "        runner.run()\n",
    "\n",
    "        # Write stream_output to file\n",
    "        for line in runner.stream_output():\n",
    "            output.append(mr_job.parse_output_line(line))\n",
    "    \n",
    "    return output\n",
    "            \n",
    "outInner = runJoin('inner')\n",
    "outLeft = runJoin('left')\n",
    "outRight = runJoin('right')"
   ]
  },
  {
   "cell_type": "code",
   "execution_count": 13,
   "metadata": {
    "collapsed": false
   },
   "outputs": [
    {
     "name": "stdout",
     "output_type": "stream",
     "text": [
      "Rows resulting from join type:\n",
      "\n",
      "inner   285\n",
      "left    285\n",
      "right   294\n"
     ]
    }
   ],
   "source": [
    "print \"Rows resulting from join type:\\n\"\n",
    "for joinType in ['inner', 'left', 'right']:\n",
    "    if joinType == 'inner': out = outInner\n",
    "    elif joinType == 'left': out = outLeft\n",
    "    elif joinType == 'right': out = outRight\n",
    "    \n",
    "    print \"{:7s}{:>4,d}\".format(joinType, len(out))\n"
   ]
  },
  {
   "cell_type": "markdown",
   "metadata": {},
   "source": [
    "## HW5.3: Do some EDA on this data set using MRJob:\n",
    "1. Longest 5-gram (number of characters)\n",
    "2. Top 10 most frequent words (count), i.e., unigrams\n",
    "3. Top 20 most/least densely appearing words (count/pages_count) sorted in decreasing order\n",
    "4. Distribution of 5-gram sizes (counts) sorted in decreasing order"
   ]
  },
  {
   "cell_type": "code",
   "execution_count": 22,
   "metadata": {
    "collapsed": false
   },
   "outputs": [
    {
     "name": "stdout",
     "output_type": "stream",
     "text": [
      "Overwriting MRJob5_3.py\n"
     ]
    }
   ],
   "source": [
    "%%writefile MRJob5_3.py\n",
    "from mrjob.job import MRJob\n",
    "from mrjob.step import MRStep\n",
    "\n",
    "class job(MRJob):\n",
    "    \n",
    "    # Specify some custom options so we only have to write one MRJob class for each part\n",
    "    def configure_options(self):\n",
    "        super(job, self).configure_options()\n",
    "        self.add_passthrough_option('--part', default='1')\n",
    "    \n",
    "    \"\"\"\n",
    "    Find the longest 5-gram\n",
    "    - In this case, in each mapper, we only need to store the length of the longest 5-gram we have seen\n",
    "    - After the mapper has run, we emit the longest 5-gram from this mapper\n",
    "    - All results will be sent to the same reducer (we specify this)\n",
    "    - Then we loop through the records in the reducer and emit the remaining longest 5-gram\n",
    "    \"\"\"\n",
    "    \n",
    "    def mapper_longest5Gram_init(self):\n",
    "        self.maxLength = 0\n",
    "        self.longest5Gram = None\n",
    "    \n",
    "    def mapper_longest5Gram(self, _, line):\n",
    "        fields = line.strip().split('\\t')\n",
    "        if len(fields[0]) > self.maxLength: \n",
    "            self.maxLength = len(fields[0])\n",
    "            self.longest5Gram = fields[0]\n",
    "            \n",
    "    def mapper_longest5Gram_final(self):\n",
    "        yield self.longest5Gram, self.maxLength\n",
    "     \n",
    "    def reducer_longest5Gram_init(self):\n",
    "        self.maxLength = 0\n",
    "        self.longest5Gram = None\n",
    "    \n",
    "    def reducer_longest5Gram(self, key, values):\n",
    "        for val in values:\n",
    "            if val > self.maxLength:\n",
    "                self.maxLength = val\n",
    "                self.longest5Gram = key\n",
    "        \n",
    "    def reducer_longest5Gram_final(self):\n",
    "        yield self.maxLength, self.longest5Gram\n",
    "    \n",
    "    \"\"\"\n",
    "    Top 10 most frequent words\n",
    "    - This is our standard word count\n",
    "    - Loop through each word in the 5-gram and emit (word, 1)\n",
    "    \"\"\"\n",
    "    \n",
    "    def mapper_topWords(self, _, line):\n",
    "        fields = line.strip().split('\\t')\n",
    "        words = fields[0].lower().split()\n",
    "        count, pages_count, books_count = int(fields[1]), int(fields[2]), int(fields[3])\n",
    "        for word in words:\n",
    "            self.increment_counter('total', 'words', count)\n",
    "            yield word, count\n",
    "        \n",
    "    def combiner_topWords(self, key, values):\n",
    "        yield key, sum(values)\n",
    "        \n",
    "    def reducer_topWords(self, key, values):\n",
    "        yield key, sum(values)\n",
    " \n",
    "    \"\"\"\n",
    "    Densely appearing words\n",
    "    - For each word, emit count and pages_count\n",
    "    - Combiner sums count and pages_count\n",
    "    - Reducer sums count and pages_count, then emits count/pages_count\n",
    "    \"\"\"\n",
    "    \n",
    "    def mapper_denseWords(self, _, line):\n",
    "        fields = line.strip().split('\\t')\n",
    "        words = fields[0].lower().split()\n",
    "        count, pages_count, books_count = int(fields[1]), int(fields[2]), int(fields[3])\n",
    "        for word in words:\n",
    "            yield word, (count, pages_count)\n",
    "        \n",
    "    def combiner_denseWords(self, key, values):\n",
    "        count, pages_count = 0.0, 0.0\n",
    "        for val in values:\n",
    "            count += val[0]\n",
    "            pages_count += val[1]\n",
    "        yield key, (count, pages_count)\n",
    "        \n",
    "    def reducer_denseWords(self, key, values):\n",
    "        count, pages_count = 0.0, 0.0\n",
    "        for val in values:\n",
    "            count += val[0]\n",
    "            pages_count += val[1]\n",
    "        yield key, count/pages_count\n",
    "\n",
    "    \"\"\"\n",
    "    Frequent5-grams\n",
    "    - Use count to determine the most frequent 5-gram\n",
    "    - Sum counts in combiner and reducer\n",
    "    \"\"\"\n",
    "        \n",
    "    def mapper_frequent5Gram(self, _, line):\n",
    "        fields = line.strip().split('\\t')\n",
    "        yield len(fields[0]), float(fields[1])\n",
    "        \n",
    "    def combiner_frequent5Gram(self, key, values):\n",
    "        yield key, sum(values)\n",
    "        \n",
    "    def reducer_frequent5Gram(self, key, values):\n",
    "        yield key, sum(values)\n",
    "        \n",
    "    \"\"\"\n",
    "    Sorting functions\n",
    "    - We need these to get the top and bottom values\n",
    "    - Utilize only one reducer instead of writing a custom partitioner\n",
    "    \"\"\"\n",
    "    def mapper_sort(self, key, value):\n",
    "        yield float(value), key\n",
    "        \n",
    "    def reducer_sort_init(self):\n",
    "        self.count = 0\n",
    "    \n",
    "    def reducer_top10(self, key, values):\n",
    "        for val in values:\n",
    "            if self.count < 10:\n",
    "                yield key, val\n",
    "                self.count += 1\n",
    "                \n",
    "    def reducer_top100(self, key, values):\n",
    "        for val in values:\n",
    "            if self.count < 100:\n",
    "                yield key, val\n",
    "                self.count += 1\n",
    "                \n",
    "    def reducer_top10000(self, key, values):\n",
    "        for val in values:\n",
    "            if self.count < 10000:\n",
    "                yield key, val\n",
    "                self.count += 1\n",
    "                \n",
    "    def reducer_all(self, key, values):\n",
    "        for val in values:\n",
    "            yield key, val\n",
    "\n",
    "    \"\"\"\n",
    "    Multi-step pipeline definitions\n",
    "    Based on user input when calling runner function\n",
    "    \"\"\"\n",
    "    def steps(self):\n",
    "        self.part = self.options.part\n",
    "        if self.part == '1':\n",
    "            return [\n",
    "                MRStep(mapper_init=self.mapper_longest5Gram_init,\n",
    "                       mapper=self.mapper_longest5Gram,\n",
    "                       mapper_final=self.mapper_longest5Gram_final,\n",
    "                       reducer_init=self.reducer_longest5Gram_init,\n",
    "                       reducer=self.reducer_longest5Gram,\n",
    "                       reducer_final=self.reducer_longest5Gram_final,\n",
    "                       jobconf={'mapred.reduce.tasks': 1})\n",
    "            ]\n",
    "        elif self.part == '2':\n",
    "            return [\n",
    "                MRStep(mapper=self.mapper_topWords,\n",
    "                       combiner=self.combiner_topWords,\n",
    "                       reducer=self.reducer_topWords),\n",
    "                MRStep(mapper=self.mapper_sort,\n",
    "                       reducer_init=self.reducer_sort_init,\n",
    "                       reducer=self.reducer_all,\n",
    "                       jobconf={'mapred.output.key.comparator.class':'org.apache.hadoop.mapred.lib.KeyFieldBasedComparator',\n",
    "                                'mapred.text.key.partitioner.options':'-k1,1',\n",
    "                                'stream.num.map.output.key.fields':1,\n",
    "                                'mapred.text.key.comparator.options':'-k1,1nr',\n",
    "                                'mapred.reduce.tasks': 1})\n",
    "            ]\n",
    "        elif self.part == '3':\n",
    "            return [\n",
    "                MRStep(mapper=self.mapper_denseWords,\n",
    "                       combiner=self.combiner_denseWords,\n",
    "                       reducer=self.reducer_denseWords),\n",
    "                MRStep(mapper=self.mapper_sort,\n",
    "                       reducer_init=self.reducer_sort_init,\n",
    "                       reducer=self.reducer_all,\n",
    "                       jobconf={'mapred.output.key.comparator.class':'org.apache.hadoop.mapred.lib.KeyFieldBasedComparator',\n",
    "                                'mapred.text.key.partitioner.options':'-k1,1',\n",
    "                                'stream.num.map.output.key.fields':1,\n",
    "                                'mapred.text.key.comparator.options':'-k1,1nr',\n",
    "                                'mapred.reduce.tasks': 1})\n",
    "            ]\n",
    "        elif self.part == '4':\n",
    "            return [\n",
    "                MRStep(mapper=self.mapper_frequent5Gram,\n",
    "                       combiner=self.combiner_frequent5Gram,\n",
    "                       reducer=self.reducer_frequent5Gram),\n",
    "                MRStep(mapper=self.mapper_sort,\n",
    "                       reducer_init=self.reducer_sort_init,\n",
    "                       reducer=self.reducer_all,\n",
    "                       jobconf={'mapred.output.key.comparator.class':'org.apache.hadoop.mapred.lib.KeyFieldBasedComparator',\n",
    "                                'mapred.text.key.partitioner.options':'-k1,1',\n",
    "                                'stream.num.map.output.key.fields':1,\n",
    "                                'mapred.text.key.comparator.options':'-k1,1nr',\n",
    "                                'mapred.reduce.tasks': 1})\n",
    "            ]\n",
    "\n",
    "\n",
    "if __name__ == '__main__':\n",
    "    job.run()"
   ]
  },
  {
   "cell_type": "code",
   "execution_count": 295,
   "metadata": {
    "collapsed": false
   },
   "outputs": [
    {
     "name": "stdout",
     "output_type": "stream",
     "text": [
      "using configs in /etc/mrjob.conf\n",
      "using existing scratch bucket mrjob-ac40f1afcc0b86ce\n",
      "using s3://mrjob-ac40f1afcc0b86ce/tmp/ as our scratch dir on S3\n",
      "Creating persistent job flow to run several jobs in...\n",
      "creating tmp directory /tmp/no_script.cloudera.20160216.000045.000938\n",
      "writing master bootstrap script to /tmp/no_script.cloudera.20160216.000045.000938/b.py\n",
      "Copying non-input files into s3://mrjob-ac40f1afcc0b86ce/tmp/no_script.cloudera.20160216.000045.000938/files/\n",
      "Waiting 5.0s for S3 eventual consistency\n",
      "Creating Elastic MapReduce job flow\n",
      "Job flow created with ID: j-2GY8DK2A59MD0\n",
      "j-2GY8DK2A59MD0\n"
     ]
    }
   ],
   "source": [
    "# Create job flow so that we don't need to keep spinning up clusters\n",
    "!python -m mrjob.tools.emr.create_job_flow"
   ]
  },
  {
   "cell_type": "code",
   "execution_count": 297,
   "metadata": {
    "collapsed": true
   },
   "outputs": [],
   "source": [
    "clusterId = 'j-2GY8DK2A59MD0'"
   ]
  },
  {
   "cell_type": "markdown",
   "metadata": {},
   "source": [
    "### Create our runner and supporting functions"
   ]
  },
  {
   "cell_type": "code",
   "execution_count": 23,
   "metadata": {
    "collapsed": false
   },
   "outputs": [],
   "source": [
    "from MRJob5_3 import job\n",
    "\n",
    "def runJob5_3(filename, part, s3bucket):\n",
    "\n",
    "    #mr_job = job(args=[filename, '--part', str(part)])\n",
    "    #mr_job = job(args=[filename, '--part', str(part), '-r', 'hadoop', '--hadoop-home', '/usr/'])\n",
    "    mr_job = job(args=[filename, '--part', str(part), '--no-output', '--output-dir', s3bucket,\n",
    "                       '-r', 'emr', '--emr-job-flow-id', clusterId])\n",
    "    \n",
    "    output = []\n",
    "\n",
    "    with mr_job.make_runner() as runner: \n",
    "        # Run MRJob\n",
    "        runner.run()\n",
    "\n",
    "        # Write stream_output to file\n",
    "        for line in runner.stream_output():\n",
    "            output.append(mr_job.parse_output_line(line))\n",
    "    \n",
    "    return output"
   ]
  },
  {
   "cell_type": "code",
   "execution_count": 19,
   "metadata": {
    "collapsed": true
   },
   "outputs": [],
   "source": [
    "def format_output(output, part):\n",
    "    if part == 1:\n",
    "        print \"Longest 5-gram (number of characters)\"\n",
    "        print '{:>21s}   {:<10s}'.format('length', '5gram')\n",
    "    elif part == 2:\n",
    "        print \"Top 10 words (using count information)\"\n",
    "        print '{:>21s}   {:<10s}'.format('count', 'word')\n",
    "    elif part == 3:\n",
    "        print \"Top 20 most/least dense words\"\n",
    "        print '{:>21s}   {:<10s}'.format('density', 'word')\n",
    "    elif part == 4:\n",
    "        print \"Distribution of 5gram sizes\"\n",
    "        print '{:>21s}   {:<10s}'.format('count', 'length')\n",
    "    \n",
    "    print '-------------------------------------------------------'\n",
    "    \n",
    "    for item in output:\n",
    "        if part == 3:\n",
    "            print '{:21.5f}   {:<50s}'.format(item[0], item[1])\n",
    "        elif part == 4:\n",
    "            print '{:21,d}   {:<50d}'.format(int(item[0]), item[1])\n",
    "        else:\n",
    "            print '{:21,d}   {:<50s}'.format(int(item[0]), item[1])"
   ]
  },
  {
   "cell_type": "markdown",
   "metadata": {},
   "source": [
    "### Run each part of the script on the full 5gram dataset on EMR"
   ]
  },
  {
   "cell_type": "code",
   "execution_count": 143,
   "metadata": {
    "collapsed": true
   },
   "outputs": [],
   "source": [
    "myfile = 's3://filtered-5grams/'\n",
    "#myfile = './filtered-5Grams/short-5gram.txt'"
   ]
  },
  {
   "cell_type": "markdown",
   "metadata": {},
   "source": [
    "#### Longest 5-gram"
   ]
  },
  {
   "cell_type": "code",
   "execution_count": 78,
   "metadata": {
    "collapsed": false,
    "scrolled": true
   },
   "outputs": [
    {
     "name": "stdout",
     "output_type": "stream",
     "text": [
      "Longest 5-gram (number of characters)\n",
      "               length   5gram     \n",
      "-------------------------------------------------------\n",
      "                  159   AIOPJUMRXUYVASLYHYPSIBEMAPODIKR UFRYDIUUOLBIGASUAURUSREXLISNAYE RNOONDQSRUNSUBUNOUGRABBERYAIRTC UTAHRAPTOREDILEIPMILBDUMMYUVERI SYEVRAHVELOCYALLOSAURUSLINROTSR\n"
     ]
    }
   ],
   "source": [
    "output_bucket = 's3://ms-w261-hw05/hw5_3a'\n",
    "\n",
    "!aws s3 rm --recursive {output_bucket}\n",
    "\n",
    "part = 1\n",
    "output = runJob5_3(myfile, part, output_bucket)\n",
    "format_output(output, part)\n"
   ]
  },
  {
   "cell_type": "markdown",
   "metadata": {},
   "source": [
    "#### Top 10 words"
   ]
  },
  {
   "cell_type": "code",
   "execution_count": 21,
   "metadata": {
    "collapsed": false
   },
   "outputs": [
    {
     "name": "stdout",
     "output_type": "stream",
     "text": [
      "Top 10 words (using count information)\n",
      "                count   word      \n",
      "-------------------------------------------------------\n",
      "        5,490,815,394   the                                               \n",
      "        3,698,583,299   of                                                \n",
      "        2,227,866,570   to                                                \n",
      "        1,421,312,776   in                                                \n",
      "        1,361,123,022   a                                                 \n",
      "        1,149,577,477   and                                               \n",
      "          802,921,147   that                                              \n",
      "          758,328,796   is                                                \n",
      "          688,707,130   be                                                \n",
      "          492,170,314   as                                                \n"
     ]
    }
   ],
   "source": [
    "output_bucket = 's3://ms-w261-hw05/hw5_3b'\n",
    "\n",
    "!aws s3 rm --recursive {output_bucket}\n",
    "\n",
    "part = 2\n",
    "output = runJob5_3(myfile, part, output_bucket)\n",
    "format_output(output[:10], part)"
   ]
  },
  {
   "cell_type": "markdown",
   "metadata": {},
   "source": [
    "#### Top 20 most/least dense words"
   ]
  },
  {
   "cell_type": "code",
   "execution_count": 32,
   "metadata": {
    "collapsed": false
   },
   "outputs": [
    {
     "name": "stdout",
     "output_type": "stream",
     "text": [
      "Top 20 most/least dense words\n",
      "              density   word      \n",
      "-------------------------------------------------------\n",
      "             11.55729   xxxx                                              \n",
      "              8.07416   blah                                              \n",
      "              7.53333   nnn                                               \n",
      "              6.20175   na                                                \n",
      "              4.92188   oooooooooooooooo                                  \n",
      "              4.85431   nd                                                \n",
      "              4.51163   llll                                              \n",
      "              4.16965   oooooo                                            \n",
      "              3.85864   ooooo                                             \n",
      "              3.76245   lillelu                                           \n",
      "              3.57692   pfeffermann                                       \n",
      "              3.57692   madarassy                                         \n",
      "              3.56000   meteoritical                                      \n",
      "              3.50000   xxxxxxxx                                          \n",
      "              3.22904   beep                                              \n",
      "              3.18868   latha                                             \n",
      "              2.91912   iyengar                                           \n",
      "              2.82500   counterfeiteth                                    \n",
      "              2.81982   nonmorular                                        \n",
      "              2.81982   nonsquamous                                       \n",
      "\n",
      "\n",
      "Top 20 most/least dense words\n",
      "              density   word      \n",
      "-------------------------------------------------------\n",
      "              1.00000   hosier's                                          \n",
      "              1.00000   hosp                                              \n",
      "              1.00000   hospites                                          \n",
      "              1.00000   hostein                                           \n",
      "              1.00000   hostelrie                                         \n",
      "              1.00000   hostelries                                        \n",
      "              1.00000   hostlers                                          \n",
      "              1.00000   hostus                                            \n",
      "              1.00000   hote                                              \n",
      "              1.00000   hotest                                            \n",
      "              1.00000   hotheaded                                         \n",
      "              1.00000   hothouse                                          \n",
      "              1.00000   hothoused                                         \n",
      "              1.00000   hothouses                                         \n",
      "              1.00000   hotsumi                                           \n",
      "              1.00000   hott                                              \n",
      "              1.00000   hottse                                            \n",
      "              1.00000   houard's                                          \n",
      "              1.00000   houbraken                                         \n",
      "              1.00000   houbraken's                                       \n"
     ]
    }
   ],
   "source": [
    "output_bucket = 's3://ms-w261-hw05/hw5_3c'\n",
    "\n",
    "!aws s3 rm --recursive {output_bucket}\n",
    "\n",
    "part = 3\n",
    "output = runJob5_3(myfile, part, output_bucket)\n",
    "format_output(output[:20], part)\n",
    "print '\\n'\n",
    "format_output(output[-20:], part)"
   ]
  },
  {
   "cell_type": "markdown",
   "metadata": {},
   "source": [
    "#### Histogram of 5-gram lengths"
   ]
  },
  {
   "cell_type": "code",
   "execution_count": 33,
   "metadata": {
    "collapsed": false
   },
   "outputs": [
    {
     "name": "stderr",
     "output_type": "stream",
     "text": [
      "WARNING:mrjob.conf:Got unexpected keyword arguments: ssh_tunnel\n",
      "WARNING:mrjob.runner:\n",
      "WARNING:mrjob.runner:PLEASE NOTE: Starting in mrjob v0.5.0, protocols will be strict by default. It's recommended you run your job with --strict-protocols or set up mrjob.conf as described at https://pythonhosted.org/mrjob/whats-new.html#ready-for-strict-protocols\n",
      "WARNING:mrjob.runner:\n"
     ]
    }
   ],
   "source": [
    "output_bucket = 's3://ms-w261-hw05/hw5_3d'\n",
    "\n",
    "!aws s3 rm --recursive {output_bucket}\n",
    "\n",
    "part = 4\n",
    "output = runJob5_3(myfile, part, output_bucket)"
   ]
  },
  {
   "cell_type": "code",
   "execution_count": 34,
   "metadata": {
    "collapsed": false
   },
   "outputs": [
    {
     "data": {
      "image/png": "[encoded data removed]",
      "text/plain": [
       "<matplotlib.figure.Figure at 0x7fcbd3ad7550>"
      ]
     },
     "metadata": {},
     "output_type": "display_data"
    }
   ],
   "source": [
    "%matplotlib inline\n",
    "\n",
    "import numpy as np\n",
    "import pandas\n",
    "import matplotlib.pyplot as plt\n",
    "\n",
    "def plot_hist(output):\n",
    "    frequencies = np.array(output)\n",
    "    density = np.column_stack((frequencies[:,1], frequencies[:,0] / sum(frequencies[:,0])))\n",
    "\n",
    "    plt.figure(figsize=(16, 6))\n",
    "    plt.bar(density[:,0], density[:,1], color='#797f8b', edgecolor=\"none\")\n",
    "    plt.xlabel(\"Length of 5gram\")\n",
    "    plt.ylabel(\"Relative frequency\")\n",
    "    plt.title(\"Histogram of 5gram lengths\")\n",
    "    \n",
    "plot_hist(output)"
   ]
  },
  {
   "cell_type": "markdown",
   "metadata": {},
   "source": [
    "## HW5.4: Synonym detection"
   ]
  },
  {
   "cell_type": "markdown",
   "metadata": {},
   "source": [
    "### Build stripes of word co-occurrence for the 9,000 words ranked 1,001 - 10,000\n",
    "\n",
    "#### First we need to extract our basis using data from a previous job"
   ]
  },
  {
   "cell_type": "code",
   "execution_count": 30,
   "metadata": {
    "collapsed": false
   },
   "outputs": [
    {
     "name": "stdout",
     "output_type": "stream",
     "text": [
      "download: s3://ms-w261-hw05/hw5_3b/part-00000 to ./topWords.txt\r\n"
     ]
    }
   ],
   "source": [
    "# Copy results from S3 so we can extract our basis\n",
    "!aws s3 cp s3://ms-w261-hw05/hw5_3b/part-00000 topWords.txt"
   ]
  },
  {
   "cell_type": "code",
   "execution_count": 321,
   "metadata": {
    "collapsed": true
   },
   "outputs": [],
   "source": [
    "basis = []\n",
    "\n",
    "with open('topWords.txt','r') as myfile:\n",
    "    count = 0\n",
    "    for line in myfile:\n",
    "        if count > 9000 and count <= 10000:\n",
    "            fields = line.strip().split('\\t')\n",
    "            word = eval(fields[1])\n",
    "            basis.append(word)\n",
    "        count += 1\n",
    "\n",
    "with open('basisWords.txt','w') as myfile:\n",
    "    for word in basis:\n",
    "        myfile.write(word+'\\n')"
   ]
  },
  {
   "cell_type": "markdown",
   "metadata": {},
   "source": [
    "#### We also need to create our unit testing files"
   ]
  },
  {
   "cell_type": "code",
   "execution_count": 36,
   "metadata": {
    "collapsed": true
   },
   "outputs": [],
   "source": [
    "output = [['A', {'X':20, 'Y':30, 'Z':5}],\n",
    "          ['B', {'X':100, 'Y':20}],\n",
    "          ['C', {'M':5, 'N':20, 'Z':5}]]\n",
    "\n",
    "with open('outputUnit.txt', 'w') as myfile:\n",
    "    for out in output:\n",
    "        myfile.write(str(out[0])+'\\t'+str(out[1])+'\\n')"
   ]
  },
  {
   "cell_type": "code",
   "execution_count": 37,
   "metadata": {
    "collapsed": false
   },
   "outputs": [
    {
     "name": "stdout",
     "output_type": "stream",
     "text": [
      "Overwriting unitBasis.txt\n"
     ]
    }
   ],
   "source": [
    "%%writefile unitBasis.txt\n",
    "A\n",
    "B\n",
    "C\n",
    "M\n",
    "N\n",
    "X\n",
    "Y\n",
    "Z"
   ]
  },
  {
   "cell_type": "markdown",
   "metadata": {},
   "source": [
    "#### Create co-occurrence matrix (only top right of matrix, matrix will be symmetric)"
   ]
  },
  {
   "cell_type": "code",
   "execution_count": 322,
   "metadata": {
    "collapsed": false
   },
   "outputs": [
    {
     "name": "stdout",
     "output_type": "stream",
     "text": [
      "Overwriting MRJob5_4_1.py\n"
     ]
    }
   ],
   "source": [
    "%%writefile MRJob5_4_1.py\n",
    "from mrjob.job import MRJob\n",
    "from mrjob.step import MRStep\n",
    "\n",
    "class stripes(MRJob):\n",
    "    \n",
    "    \"\"\"\n",
    "    Build stripes\n",
    "    - Read in basis words from basisWords.txt\n",
    "    - For each 5-gram:\n",
    "       - Deduplicate the words in the 5-gram, then sort alphabetically\n",
    "       - Extract count\n",
    "       - Build stripe: (word1, {word2: x, word3: y, ...})\n",
    "       \n",
    "    \"\"\"\n",
    "    \n",
    "    def mapper_buildStripe_init(self):\n",
    "        self.numDocuments = 0\n",
    "        self.vocab = set()\n",
    "        with open('basisWords.txt','r') as myfile:\n",
    "            for word in myfile:\n",
    "                self.vocab.add(word.strip())\n",
    "        \n",
    "    def mapper_buildStripe(self, _, line):\n",
    "        fields = line.strip().split('\\t')\n",
    "        words = fields[0].lower().split()\n",
    "        wordList = sorted(list(set(words)))\n",
    "        count = float(fields[1])\n",
    "        self.numDocuments += count\n",
    "        for index1 in range(len(wordList)-1):\n",
    "            stripe = {}\n",
    "            if wordList[index1] in self.vocab:\n",
    "                for index2 in range(index1+1,len(wordList)):\n",
    "                    if wordList[index2] in self.vocab:\n",
    "                        stripe[wordList[index2]] = count\n",
    "            if len(stripe) > 0:\n",
    "                yield wordList[index1], stripe\n",
    "                \n",
    "    def mapper_buildStripe_final(self):\n",
    "        yield '*total', {'*total':self.numDocuments}\n",
    "            \n",
    "    def combiner_buildStripe(self, key, values):\n",
    "        stripe = {}\n",
    "        for val in values:\n",
    "            for word in val:\n",
    "                if word in stripe:\n",
    "                    stripe[word] += val[word]\n",
    "                else:\n",
    "                    stripe[word] = val[word]\n",
    "        yield key, stripe\n",
    "        \n",
    "    def reducer_buildStripe_init(self):\n",
    "        self.numDocs = 0\n",
    "    \n",
    "    def reducer_buildStripe(self, key, values):\n",
    "        stripe = {}\n",
    "        for val in values:\n",
    "            for word in val:\n",
    "                if word in stripe:\n",
    "                    stripe[word] += val[word]\n",
    "                else:\n",
    "                    stripe[word] = val[word]\n",
    "        if key == '*total':\n",
    "            self.numDocs = stripe['*total']\n",
    "        else:\n",
    "            for word in stripe:\n",
    "                stripe[word] /= self.numDocs\n",
    "            yield key, stripe\n",
    "    \n",
    "            \n",
    "        \n",
    "    \"\"\"\n",
    "    Multi-step pipeline definitions\n",
    "    Based on user input when calling runner function\n",
    "    \"\"\"\n",
    "    def steps(self):\n",
    "        return [\n",
    "            MRStep(mapper_init=self.mapper_buildStripe_init,\n",
    "                   mapper=self.mapper_buildStripe,\n",
    "                   mapper_final=self.mapper_buildStripe_final,\n",
    "                   combiner=self.combiner_buildStripe,\n",
    "                   reducer_init=self.reducer_buildStripe_init,\n",
    "                   reducer=self.reducer_buildStripe,\n",
    "                   jobconf={'mapred.reduce.tasks': 1})\n",
    "        ]\n",
    "    \n",
    "\n",
    "if __name__ == '__main__':\n",
    "    stripes.run()"
   ]
  },
  {
   "cell_type": "code",
   "execution_count": 323,
   "metadata": {
    "collapsed": true
   },
   "outputs": [],
   "source": [
    "from MRJob5_4_1 import stripes\n",
    "\n",
    "def runJob5_4_1(filename, s3bucket, basis):\n",
    "\n",
    "    #mr_job = stripes(args=[filename, '--file', basis])\n",
    "    #mr_job = stripes(args=[filename, '-r', 'hadoop', '--hadoop-home', '/usr/', '--file', basis])\n",
    "    mr_job = stripes(args=[filename, '-r', 'emr', '--file', basis, '--no-output', '--output-dir', s3bucket,\n",
    "                           '--emr-job-flow-id', clusterId])\n",
    "    \n",
    "    output = []\n",
    "    \n",
    "    with mr_job.make_runner() as runner: \n",
    "        # Run MRJob\n",
    "        runner.run()\n",
    "\n",
    "        # Write stream_output to file\n",
    "        for line in runner.stream_output():\n",
    "            out = mr_job.parse_output_line(line)\n",
    "            output.append(out)\n",
    "            \n",
    "    return output"
   ]
  },
  {
   "cell_type": "code",
   "execution_count": 44,
   "metadata": {
    "collapsed": false
   },
   "outputs": [
    {
     "name": "stderr",
     "output_type": "stream",
     "text": [
      "WARNING:mrjob.runner:\n",
      "WARNING:mrjob.runner:PLEASE NOTE: Starting in mrjob v0.5.0, protocols will be strict by default. It's recommended you run your job with --strict-protocols or set up mrjob.conf as described at https://pythonhosted.org/mrjob/whats-new.html#ready-for-strict-protocols\n",
      "WARNING:mrjob.runner:\n",
      "WARNING:mrjob.compat:Detected hadoop configuration property names that do not match hadoop version 2.6.0:\n",
      "The have been translated as follows\n",
      " mapred.reduce.tasks: mapreduce.job.reduces\n"
     ]
    }
   ],
   "source": [
    "# Test our matrix creation on a small subset of data\n",
    "output = runJob5_4_1('./filtered-5Grams/googlebooks-eng-all-5gram-20090715-0-filtered.txt', 'none', 'basisWords.txt')"
   ]
  },
  {
   "cell_type": "code",
   "execution_count": 47,
   "metadata": {
    "collapsed": false,
    "scrolled": true
   },
   "outputs": [
    {
     "name": "stdout",
     "output_type": "stream",
     "text": [
      "('alternate', {'viewing': 1.6005761449506742e-06})\n",
      "(\"alzheimer's\", {'dementia': 3.532979051659415e-06})\n",
      "('amidst', {'tumult': 1.5615377023909016e-06, 'restless': 8.393265150351096e-07})\n",
      "('ammonium', {'hydroxide': 1.522499259831129e-06})\n",
      "('anemia', {'pernicious': 1.1321148342334037e-06})\n",
      "('annum', {'thereon': 1.3468262683121526e-06})\n",
      "('approximated', {'subcutaneous': 2.3423065535863526e-06})\n",
      "('architectural', {'decoration': 8.978841788747684e-07})\n",
      "('articular', {'cartilage': 9.954802852741998e-07})\n",
      "('authoritative', {'interpreter': 9.759610639943135e-07})\n"
     ]
    }
   ],
   "source": [
    "for i in range(10):\n",
    "    print output[i]"
   ]
  },
  {
   "cell_type": "markdown",
   "metadata": {},
   "source": [
    "#### Run on EMR on full data set -- this will get us the top right of the co-occurrence matrix"
   ]
  },
  {
   "cell_type": "code",
   "execution_count": 324,
   "metadata": {
    "collapsed": false
   },
   "outputs": [
    {
     "name": "stderr",
     "output_type": "stream",
     "text": [
      "WARNING:mrjob.conf:Got unexpected keyword arguments: ssh_tunnel\n",
      "WARNING:mrjob.runner:\n",
      "WARNING:mrjob.runner:PLEASE NOTE: Starting in mrjob v0.5.0, protocols will be strict by default. It's recommended you run your job with --strict-protocols or set up mrjob.conf as described at https://pythonhosted.org/mrjob/whats-new.html#ready-for-strict-protocols\n",
      "WARNING:mrjob.runner:\n"
     ]
    }
   ],
   "source": [
    "myfile = 's3://filtered-5grams/'\n",
    "mybasis = 'basisWords.txt'\n",
    "output_bucket = 's3://ms-w261-hw05/hw5_4_1_1000basis'\n",
    "\n",
    "!aws s3 rm --recursive {output_bucket}\n",
    "\n",
    "output = runJob5_4_1(myfile, output_bucket, mybasis)"
   ]
  },
  {
   "cell_type": "code",
   "execution_count": 325,
   "metadata": {
    "collapsed": false
   },
   "outputs": [
    {
     "name": "stdout",
     "output_type": "stream",
     "text": [
      "('abnormalities', {'mitral': 7.064920460541209e-08, 'lymphocytes': 5.853791238734144e-09, 'plexus': 1.1202945301715345e-08, 'lobes': 1.2515001958672997e-08, 'esophagus': 2.9672665934273075e-08, 'dysfunction': 4.541734581776491e-09, \"alzheimer's\": 6.762138155089442e-09, 'screening': 5.450081498131789e-09, 'babies': 1.2615929393823586e-08, 'congestive': 1.3524276310178884e-08, 'resembling': 6.257500979336498e-09, 'cleft': 2.1800325992527156e-08, 'uterine': 8.578831987800039e-09, 'indicators': 6.358428414487087e-09, 'cage': 1.3019639134425941e-08, 'placenta': 6.863065590240031e-09, 'correlate': 1.4129840921082417e-08, 'skeletal': 4.703218478017433e-08, 'diabetic': 2.775504466641189e-08, 'schizophrenia': 1.998363215981656e-08, 'unstable': 6.358428414487087e-09, 'cartilage': 9.285324033854159e-09, 'ovary': 1.2716856828974174e-08, 'pathological': 7.67048507144474e-09})\n"
     ]
    }
   ],
   "source": [
    "# Check the first record\n",
    "print output[0]"
   ]
  },
  {
   "cell_type": "markdown",
   "metadata": {},
   "source": [
    "### Using two (symmetric) comparison methods of your choice, pairwise compare all stripes"
   ]
  },
  {
   "cell_type": "code",
   "execution_count": 389,
   "metadata": {
    "collapsed": false
   },
   "outputs": [
    {
     "name": "stdout",
     "output_type": "stream",
     "text": [
      "Overwriting MRJob5_4_2.py\n"
     ]
    }
   ],
   "source": [
    "%%writefile MRJob5_4_2.py\n",
    "from mrjob.job import MRJob\n",
    "from mrjob.step import MRStep\n",
    "import math\n",
    "from itertools import combinations, product, chain\n",
    "\n",
    "class similarity(MRJob):\n",
    "    \n",
    "    \"\"\"\n",
    "    Specify some custom options so we only have to write one MRJob class for each part\n",
    "    \"\"\"\n",
    "    def configure_options(self):\n",
    "        super(similarity, self).configure_options()\n",
    "        self.add_passthrough_option('--method', default='jaccard')\n",
    "    \n",
    "    \"\"\"\n",
    "    Build the full co-occurrence matrix\n",
    "    - For each partial stripe, emit the stripe and the inverse stripe\n",
    "    - Example: (dog, {cat:2, bird:3})\n",
    "       - Emit original (dog, {cat:2, bird:3})\n",
    "       - Emit inverse (cat, {dog:2}), (bird, {dog:3})\n",
    "    \"\"\"\n",
    "    \n",
    "    def mapper_buildFullMatrix(self, _, line):\n",
    "        fields = line.strip().split('\\t')\n",
    "        word1 = eval(fields[0])\n",
    "        stripe = eval(fields[1])\n",
    "        yield word1, stripe\n",
    "        for word2 in stripe:\n",
    "            yield word2, {word1: stripe[word2]}\n",
    "        \n",
    "    def reducer_buildFullMatrix(self, key, values):\n",
    "        stripe = {}\n",
    "        for val in values:\n",
    "            for word in val:\n",
    "                if word in stripe:\n",
    "                    stripe[word] += val[word]\n",
    "                else:\n",
    "                    stripe[word] = val[word]\n",
    "        yield key, stripe\n",
    "    \n",
    "    \"\"\"\n",
    "    Jaccard similarity\n",
    "    - We need to only create the pairs we know we want to emit\n",
    "    - We only emit anything if one item in the pair has a value\n",
    "    - We binarize on whether the co-occurrence support is in the list of values\n",
    "    - There will be no values of zero in the list of values\n",
    "    - bin1 = true/false if word1 is > 0 (if word1 is in set, bin1=1)\n",
    "    - Emit (word1, word2), (bin1 and bin2, bin1, bin2)\n",
    "    \"\"\"\n",
    "    \n",
    "    def mapper_Jaccard_init(self):\n",
    "        self.vocab = set()\n",
    "        with open('basisWords.txt','r') as myfile:\n",
    "            for word in myfile:\n",
    "                self.vocab.add(word.strip())\n",
    "        \n",
    "    def mapper_Jaccard(self, key, value):\n",
    "        valueSet = set(value.keys())\n",
    "        allPairs = chain(product(valueSet, self.vocab.difference(valueSet)),\n",
    "                         combinations(self.vocab.intersection(valueSet), 2))\n",
    "\n",
    "        for pair in allPairs:\n",
    "            sortedPair = sorted(pair)\n",
    "            if sortedPair[0] in value or sortedPair[1] in value:\n",
    "                i = sortedPair[0] in value\n",
    "                j = sortedPair[1] in value\n",
    "                yield (sortedPair[0], sortedPair[1]), ((i and j)+0, i+0, j+0)\n",
    "                \n",
    "    def combiner_Jaccard(self, key, values):\n",
    "        intersect = 0\n",
    "        i = 0\n",
    "        j = 0\n",
    "        for val in values:\n",
    "            intersect += val[0]\n",
    "            i += val[1]\n",
    "            j += val[2]\n",
    "        yield key, (intersect, i, j)\n",
    "        \n",
    "    def reducer_Jaccard(self, key, values):\n",
    "        intersect = 0.0\n",
    "        i = 0.0\n",
    "        j = 0.0\n",
    "        for val in values:\n",
    "            intersect += val[0]\n",
    "            i += val[1]\n",
    "            j += val[2]\n",
    "        yield key, intersect / (i + j - intersect)       \n",
    "    \n",
    "    \"\"\"\n",
    "    Cosine similarity\n",
    "    - Similar to Jaccard, but do not binarize\n",
    "    - We can use the same mapper_init as Jaccard\n",
    "    - For each pair, we have word1 and word2\n",
    "    - count1 is the matrix entry for word1\n",
    "    - In the mapper, emit (word1, word2), (count1*count2, count1^2, count2^2)\n",
    "    - We can use the same combiner as Jaccard\n",
    "    \"\"\"\n",
    "    \n",
    "    def mapper_Cosine(self, key, value):\n",
    "        valueSet = set(value.keys())\n",
    "        allPairs = chain(product(valueSet, self.vocab.difference(valueSet)),\n",
    "                         combinations(self.vocab.intersection(valueSet), 2))\n",
    "\n",
    "        for pair in allPairs:\n",
    "            sortedPair = sorted(pair)\n",
    "            if sortedPair[0] in value or sortedPair[1] in value:\n",
    "                if sortedPair[0] in value:\n",
    "                    i = value[sortedPair[0]]\n",
    "                else: i = 0.0\n",
    "                if sortedPair[1] in value:\n",
    "                    j = value[sortedPair[1]]\n",
    "                else: j = 0.0\n",
    "                yield (sortedPair[0], sortedPair[1]), (i*j, i**2, j**2)\n",
    "                    \n",
    "    def reducer_Cosine(self, key, values):\n",
    "        dotprod = 0.0\n",
    "        i = 0.0\n",
    "        j = 0.0\n",
    "        for val in values:\n",
    "            dotprod += val[0]\n",
    "            i += val[1]\n",
    "            j += val[2]\n",
    "        if i == 0 or j == 0:\n",
    "            yield key, None\n",
    "        else:\n",
    "            yield key, dotprod / ((i ** 0.5) * (j ** 0.5))\n",
    "    \n",
    "    \"\"\"\n",
    "    Multi-step pipeline definitions\n",
    "    Based on user input when calling runner function\n",
    "    \"\"\"\n",
    "    def steps(self):\n",
    "        self.method = self.options.method\n",
    "        if self.method == 'jaccard':\n",
    "            return [\n",
    "                MRStep(mapper=self.mapper_buildFullMatrix,\n",
    "                       combiner=self.reducer_buildFullMatrix,\n",
    "                       reducer=self.reducer_buildFullMatrix),\n",
    "                MRStep(mapper_init=self.mapper_Jaccard_init,\n",
    "                       mapper=self.mapper_Jaccard,\n",
    "                       combiner=self.combiner_Jaccard,\n",
    "                       reducer=self.reducer_Jaccard)\n",
    "            ]\n",
    "        elif self.method == 'cosine':\n",
    "            return [\n",
    "                MRStep(mapper=self.mapper_buildFullMatrix,\n",
    "                       combiner=self.reducer_buildFullMatrix,\n",
    "                       reducer=self.reducer_buildFullMatrix),\n",
    "                MRStep(mapper_init=self.mapper_Jaccard_init,\n",
    "                       mapper=self.mapper_Cosine,\n",
    "                       combiner=self.combiner_Jaccard,\n",
    "                       reducer=self.reducer_Cosine)\n",
    "            ]\n",
    "    \n",
    "\n",
    "if __name__ == '__main__':\n",
    "    similarity.run()"
   ]
  },
  {
   "cell_type": "code",
   "execution_count": 390,
   "metadata": {
    "collapsed": false
   },
   "outputs": [],
   "source": [
    "from MRJob5_4_2 import similarity\n",
    "\n",
    "def runJob5_4_2(filename, s3bucket, basis, method):\n",
    "\n",
    "    \"\"\"\n",
    "    Here are some switches for running the job locally, in local Hadoop or on EMR\n",
    "    \"\"\"\n",
    "    #mr_job = similarity(args=[filename, '--file', basis, '--method', method])\n",
    "    #mr_job = similarity(args=[filename, '-r', 'hadoop', '--hadoop-home', '/usr/', '--file', basis, '--method', method])\n",
    "    mr_job = similarity(args=[filename, '-r', 'emr', '--file', basis, '--no-output', '--output-dir', s3bucket,\n",
    "                              '--emr-job-flow-id', clusterId, '--method', method])\n",
    "    \n",
    "    output = []\n",
    "#     outfile = open('hw5_4_2_output.txt','w')\n",
    "    \n",
    "    with mr_job.make_runner() as runner: \n",
    "        # Run MRJob\n",
    "        runner.run()\n",
    "\n",
    "        # Write stream_output to file\n",
    "        for line in runner.stream_output():\n",
    "            out = mr_job.parse_output_line(line)\n",
    "#             output.append(out)\n",
    "#             outfile.write(str(out)+'\\n')\n",
    "    \n",
    "#     outfile.close()\n",
    "            \n",
    "#     return output"
   ]
  },
  {
   "cell_type": "code",
   "execution_count": 310,
   "metadata": {
    "collapsed": false
   },
   "outputs": [
    {
     "name": "stderr",
     "output_type": "stream",
     "text": [
      "WARNING:mrjob.runner:\n",
      "WARNING:mrjob.runner:PLEASE NOTE: Starting in mrjob v0.5.0, protocols will be strict by default. It's recommended you run your job with --strict-protocols or set up mrjob.conf as described at https://pythonhosted.org/mrjob/whats-new.html#ready-for-strict-protocols\n",
      "WARNING:mrjob.runner:\n"
     ]
    }
   ],
   "source": [
    "myfile = 'outputUnit.txt'\n",
    "mybasis = 'unitBasis.txt'\n",
    "\n",
    "runJob5_4_2(myfile, 'none', mybasis, 'jaccard')"
   ]
  },
  {
   "cell_type": "code",
   "execution_count": 311,
   "metadata": {
    "collapsed": false,
    "scrolled": true
   },
   "outputs": [
    {
     "name": "stdout",
     "output_type": "stream",
     "text": [
      "(['A', 'B'], 0.6666666666666666)\r\n",
      "(['A', 'C'], 0.2)\r\n",
      "(['A', 'M'], 0.0)\r\n",
      "(['A', 'N'], 0.0)\r\n",
      "(['A', 'X'], 0.0)\r\n",
      "(['A', 'Y'], 0.0)\r\n",
      "(['A', 'Z'], 0.0)\r\n",
      "(['B', 'C'], 0.0)\r\n",
      "(['B', 'M'], 0.0)\r\n",
      "(['B', 'N'], 0.0)\r\n"
     ]
    }
   ],
   "source": [
    "!head hw5_4_2_output.txt"
   ]
  },
  {
   "cell_type": "markdown",
   "metadata": {
    "collapsed": true
   },
   "source": [
    "#### Check some hand calculations to be sure\n",
    "\n",
    "Full co-occurrence matrix:\n",
    "\n",
    " |A|B|C|M|N|X|Y|Z\n",
    "-|-|-|-|-|-|-|-|-\n",
    "**A**|0|0|0|0|0|20|30|5\n",
    "**B**|0|0|0|0|0|100|20|0\n",
    "**C**|0|0|0|5|20|0|0|0\n",
    "**M**|0|0|5|0|0|0|0|0\n",
    "**N**|0|0|20|0|0|0|0|0\n",
    "**X**|20|100|0|0|0|0|0|0\n",
    "**Y**|30|20|0|0|0|0|0|0\n",
    "**Z**|5|0|5|0|0|0|0|0\n",
    "\n",
    "Let's check the Jaccard similarity between A and B:\n",
    "\n",
    "$\\frac{|A \\cap B|}{|A|+|B|-|A \\cap B|} = \\frac{2}{3+2-2}=\\frac{2}{3}$\n",
    "\n",
    "Let's check the Jaccard similarity between A and C:\n",
    "\n",
    "$\\frac{|A \\cap C|}{|A|+|C|-|A \\cap C|} = \\frac{1}{3+3-1}=\\frac{1}{5}$\n",
    "\n",
    "Both of these calculations check out!\n"
   ]
  },
  {
   "cell_type": "code",
   "execution_count": 364,
   "metadata": {
    "collapsed": false
   },
   "outputs": [
    {
     "name": "stderr",
     "output_type": "stream",
     "text": [
      "WARNING:mrjob.runner:\n",
      "WARNING:mrjob.runner:PLEASE NOTE: Starting in mrjob v0.5.0, protocols will be strict by default. It's recommended you run your job with --strict-protocols or set up mrjob.conf as described at https://pythonhosted.org/mrjob/whats-new.html#ready-for-strict-protocols\n",
      "WARNING:mrjob.runner:\n"
     ]
    }
   ],
   "source": [
    "myfile = 'outputUnit.txt'\n",
    "mybasis = 'unitBasis.txt'\n",
    "\n",
    "runJob5_4_2(myfile, 'none', mybasis, 'cosine')"
   ]
  },
  {
   "cell_type": "code",
   "execution_count": 365,
   "metadata": {
    "collapsed": false,
    "scrolled": true
   },
   "outputs": [
    {
     "name": "stdout",
     "output_type": "stream",
     "text": [
      "(['A', 'B'], 0.7004041959724749)\r\n",
      "(['A', 'C'], 0.0323761954119088)\r\n",
      "(['A', 'M'], 0.0)\r\n",
      "(['A', 'N'], 0.0)\r\n",
      "(['A', 'X'], 0.0)\r\n",
      "(['A', 'Y'], 0.0)\r\n",
      "(['A', 'Z'], 0.0)\r\n",
      "(['B', 'C'], 0.0)\r\n",
      "(['B', 'M'], 0.0)\r\n",
      "(['B', 'N'], 0.0)\r\n"
     ]
    }
   ],
   "source": [
    "!head hw5_4_2_output.txt"
   ]
  },
  {
   "cell_type": "markdown",
   "metadata": {},
   "source": [
    "#### Run on the whole dataset in EMR"
   ]
  },
  {
   "cell_type": "code",
   "execution_count": 381,
   "metadata": {
    "collapsed": false,
    "scrolled": true
   },
   "outputs": [
    {
     "name": "stdout",
     "output_type": "stream",
     "text": [
      "delete: s3://ms-w261-hw05/hw5_4_2jaccard/_SUCCESS\n",
      "delete: s3://ms-w261-hw05/hw5_4_2jaccard/part-00001\n",
      "delete: s3://ms-w261-hw05/hw5_4_2jaccard/part-00002\n",
      "delete: s3://ms-w261-hw05/hw5_4_2jaccard/part-00000\n",
      "delete: s3://ms-w261-hw05/hw5_4_2jaccard/part-00004\n",
      "delete: s3://ms-w261-hw05/hw5_4_2jaccard/part-00003\n"
     ]
    },
    {
     "name": "stderr",
     "output_type": "stream",
     "text": [
      "WARNING:mrjob.conf:Got unexpected keyword arguments: ssh_tunnel\n",
      "WARNING:mrjob.runner:\n",
      "WARNING:mrjob.runner:PLEASE NOTE: Starting in mrjob v0.5.0, protocols will be strict by default. It's recommended you run your job with --strict-protocols or set up mrjob.conf as described at https://pythonhosted.org/mrjob/whats-new.html#ready-for-strict-protocols\n",
      "WARNING:mrjob.runner:\n"
     ]
    }
   ],
   "source": [
    "myfile = 's3://ms-w261-hw05/hw5_4_1_1000basis/part-00000'\n",
    "mybasis = 'basisWords.txt'\n",
    "output_bucket = 's3://ms-w261-hw05/hw5_4_2jaccard'\n",
    "\n",
    "!aws s3 rm --recursive {output_bucket}\n",
    "\n",
    "runJob5_4_2(myfile, output_bucket, mybasis, 'jaccard')"
   ]
  },
  {
   "cell_type": "code",
   "execution_count": 392,
   "metadata": {
    "collapsed": false,
    "scrolled": true
   },
   "outputs": [
    {
     "name": "stdout",
     "output_type": "stream",
     "text": [
      "delete: s3://ms-w261-hw05/hw5_4_2cosine/_SUCCESS\n",
      "delete: s3://ms-w261-hw05/hw5_4_2cosine/part-00003\n",
      "delete: s3://ms-w261-hw05/hw5_4_2cosine/part-00000\n",
      "delete: s3://ms-w261-hw05/hw5_4_2cosine/part-00001\n",
      "delete: s3://ms-w261-hw05/hw5_4_2cosine/part-00004\n",
      "delete: s3://ms-w261-hw05/hw5_4_2cosine/part-00002\n"
     ]
    },
    {
     "name": "stderr",
     "output_type": "stream",
     "text": [
      "WARNING:mrjob.conf:Got unexpected keyword arguments: ssh_tunnel\n",
      "WARNING:mrjob.runner:\n",
      "WARNING:mrjob.runner:PLEASE NOTE: Starting in mrjob v0.5.0, protocols will be strict by default. It's recommended you run your job with --strict-protocols or set up mrjob.conf as described at https://pythonhosted.org/mrjob/whats-new.html#ready-for-strict-protocols\n",
      "WARNING:mrjob.runner:\n"
     ]
    }
   ],
   "source": [
    "myfile = 's3://ms-w261-hw05/hw5_4_1_1000basis/part-00000'\n",
    "mybasis = 'basisWords.txt'\n",
    "output_bucket = 's3://ms-w261-hw05/hw5_4_2cosine'\n",
    "\n",
    "!aws s3 rm --recursive {output_bucket}\n",
    "\n",
    "runJob5_4_2(myfile, output_bucket, mybasis, 'cosine')"
   ]
  },
  {
   "cell_type": "code",
   "execution_count": 457,
   "metadata": {
    "collapsed": false
   },
   "outputs": [
    {
     "name": "stdout",
     "output_type": "stream",
     "text": [
      "using configs in /etc/mrjob.conf\n",
      "using existing scratch bucket mrjob-ac40f1afcc0b86ce\n",
      "using s3://mrjob-ac40f1afcc0b86ce/tmp/ as our scratch dir on S3\n",
      "Terminated job flow j-2GY8DK2A59MD0\n"
     ]
    }
   ],
   "source": [
    "# Terminate job flow so we don't rack up AWS expenses\n",
    "!python -m mrjob.tools.emr.terminate_job_flow {clusterId}"
   ]
  },
  {
   "cell_type": "markdown",
   "metadata": {},
   "source": [
    "## HW5.5\n",
    "In this part of the assignment you will evaluate the success of you synonym detector.\n",
    "Take the top 1,000 closest/most similar/correlative pairs of words as determined by your measure in (2), and use the synonyms function in the accompanying python code (nltk_synonyms.py).\n",
    "\n",
    "For each (word1,word2) pair, check to see if word1 is in the list, synonyms(word2), and vice-versa. If one of the two is a synonym of the other, then consider this pair a 'hit', and then report the precision, recall, and F1 measure  of your detector across your 1,000 best guesses. Report the macro averages of these measures."
   ]
  },
  {
   "cell_type": "code",
   "execution_count": 11,
   "metadata": {
    "collapsed": true
   },
   "outputs": [],
   "source": [
    "# From nltk_synonyms.py\n",
    "from nltk.corpus import wordnet as wn\n",
    "import sys\n",
    "#print all the synset element of an element\n",
    "def synonyms(string):\n",
    "    syndict = {}\n",
    "    for i,j in enumerate(wn.synsets(string)):\n",
    "        syns = j.lemma_names()\n",
    "        for syn in syns:\n",
    "            syndict.setdefault(syn,1)\n",
    "    return syndict.keys()"
   ]
  },
  {
   "cell_type": "code",
   "execution_count": 382,
   "metadata": {
    "collapsed": false
   },
   "outputs": [
    {
     "name": "stdout",
     "output_type": "stream",
     "text": [
      "download: s3://ms-w261-hw05/hw5_4_2jaccard/_SUCCESS to pairs_jaccard/_SUCCESS\n",
      "download: s3://ms-w261-hw05/hw5_4_2jaccard/part-00000 to pairs_jaccard/part-00000\n",
      "download: s3://ms-w261-hw05/hw5_4_2jaccard/part-00003 to pairs_jaccard/part-00003\n",
      "download: s3://ms-w261-hw05/hw5_4_2jaccard/part-00004 to pairs_jaccard/part-00004\n",
      "download: s3://ms-w261-hw05/hw5_4_2jaccard/part-00001 to pairs_jaccard/part-00001\n",
      "download: s3://ms-w261-hw05/hw5_4_2jaccard/part-00002 to pairs_jaccard/part-00002\n"
     ]
    }
   ],
   "source": [
    "# Let's download the data, since we can now work locally with only 1000 term pairs\n",
    "!aws s3 cp --recursive s3://ms-w261-hw05/hw5_4_2jaccard/ ./pairs_jaccard/\n",
    "!cat ./pairs_jaccard/part-* >> jaccard.txt"
   ]
  },
  {
   "cell_type": "code",
   "execution_count": 383,
   "metadata": {
    "collapsed": false
   },
   "outputs": [
    {
     "name": "stdout",
     "output_type": "stream",
     "text": [
      "[\"abnormalities\", \"abyss\"]\t0.0\r\n",
      "[\"abnormalities\", \"actuated\"]\t0.0\r\n",
      "[\"abnormalities\", \"acutely\"]\t0.029411764705882353\r\n",
      "[\"abnormalities\", \"adopting\"]\t0.0\r\n",
      "[\"abnormalities\", \"advertisement\"]\t0.0\r\n",
      "[\"abnormalities\", \"affiliated\"]\t0.0\r\n",
      "[\"abnormalities\", \"amazement\"]\t0.0\r\n",
      "[\"abnormalities\", \"analysed\"]\t0.0\r\n",
      "[\"abnormalities\", \"antiquities\"]\t0.0\r\n",
      "[\"abnormalities\", \"armistice\"]\t0.0\r\n"
     ]
    }
   ],
   "source": [
    "!head jaccard.txt"
   ]
  },
  {
   "cell_type": "code",
   "execution_count": 393,
   "metadata": {
    "collapsed": false
   },
   "outputs": [
    {
     "name": "stdout",
     "output_type": "stream",
     "text": [
      "download: s3://ms-w261-hw05/hw5_4_2cosine/_SUCCESS to pairs_cosine/_SUCCESS\n",
      "download: s3://ms-w261-hw05/hw5_4_2cosine/part-00003 to pairs_cosine/part-00003\n",
      "download: s3://ms-w261-hw05/hw5_4_2cosine/part-00002 to pairs_cosine/part-00002\n",
      "download: s3://ms-w261-hw05/hw5_4_2cosine/part-00001 to pairs_cosine/part-00001\n",
      "download: s3://ms-w261-hw05/hw5_4_2cosine/part-00004 to pairs_cosine/part-00004\n",
      "download: s3://ms-w261-hw05/hw5_4_2cosine/part-00000 to pairs_cosine/part-00000\n"
     ]
    }
   ],
   "source": [
    "# Let's download the data, since we can now work locally with only 1000 term pairs\n",
    "!aws s3 cp --recursive s3://ms-w261-hw05/hw5_4_2cosine/ ./pairs_cosine/\n",
    "!cat ./pairs_cosine/part-* >> cosine.txt"
   ]
  },
  {
   "cell_type": "code",
   "execution_count": 394,
   "metadata": {
    "collapsed": false
   },
   "outputs": [
    {
     "name": "stdout",
     "output_type": "stream",
     "text": [
      "[\"abnormalities\", \"abyss\"]\t0.0\r\n",
      "[\"abnormalities\", \"actuated\"]\t0.0\r\n",
      "[\"abnormalities\", \"acutely\"]\t0.070793526557697245\r\n",
      "[\"abnormalities\", \"adopting\"]\t0.0\r\n",
      "[\"abnormalities\", \"advertisement\"]\t0.0\r\n",
      "[\"abnormalities\", \"affiliated\"]\t0.0\r\n",
      "[\"abnormalities\", \"amazement\"]\t0.0\r\n",
      "[\"abnormalities\", \"analysed\"]\t0.0\r\n",
      "[\"abnormalities\", \"antiquities\"]\t0.0\r\n",
      "[\"abnormalities\", \"armistice\"]\t0.0\r\n"
     ]
    }
   ],
   "source": [
    "!head cosine.txt"
   ]
  },
  {
   "cell_type": "code",
   "execution_count": 2,
   "metadata": {
    "collapsed": false
   },
   "outputs": [
    {
     "name": "stdout",
     "output_type": "stream",
     "text": [
      "499497\n"
     ]
    }
   ],
   "source": [
    "jaccard1000 = []\n",
    "count = 0\n",
    "with open('jaccard.txt','r') as myfile:\n",
    "    for line in myfile:\n",
    "        count += 1\n",
    "        fields = line.strip().split('\\t')\n",
    "        pair = eval(fields[0])\n",
    "        sim = float(fields[1])\n",
    "        jaccard1000.append([pair,sim])\n",
    "        \n",
    "jaccard1000 = sorted(jaccard1000, key=lambda x: x[1], reverse=True)\n",
    "jaccard1000 = jaccard1000[:1000]\n",
    "\n",
    "print count\n",
    "\n",
    "with open('top1000Jaccard.txt','w') as myfile:\n",
    "    for item in jaccard1000:\n",
    "        myfile.write(str(item)+'\\n')"
   ]
  },
  {
   "cell_type": "code",
   "execution_count": 36,
   "metadata": {
    "collapsed": false
   },
   "outputs": [
    {
     "name": "stdout",
     "output_type": "stream",
     "text": [
      "499497\n"
     ]
    }
   ],
   "source": [
    "cosine1000 = []\n",
    "count = 0\n",
    "with open('cosine.txt','r') as myfile:\n",
    "    for line in myfile:\n",
    "        count += 1\n",
    "        fields = line.strip().split('\\t')\n",
    "        pair = eval(fields[0])\n",
    "        sim = fields[1]\n",
    "        if sim != 'null':\n",
    "            cosine1000.append([pair,float(sim)])\n",
    "        \n",
    "cosine1000 = sorted(cosine1000, key=lambda x: x[1], reverse=True)\n",
    "cosine1000 = cosine1000[:1000]\n",
    "\n",
    "print count\n",
    "\n",
    "with open('top1000Cosine.txt','w') as myfile:\n",
    "    for item in cosine1000:\n",
    "        myfile.write(str(item)+'\\n')"
   ]
  },
  {
   "cell_type": "code",
   "execution_count": 40,
   "metadata": {
    "collapsed": false
   },
   "outputs": [],
   "source": [
    "def summary_stats(jaccard1000):\n",
    "    synList = {}\n",
    "    vocab = set()\n",
    "\n",
    "    for item in jaccard1000:\n",
    "        word1 = item[0][0]\n",
    "        word2 = item[0][1]\n",
    "        if word1 not in synList:\n",
    "            synList[word1] = [word2]\n",
    "        else:\n",
    "            synList[word1].append(word2)\n",
    "        if word2 not in synList:\n",
    "            synList[word2] = [word1]\n",
    "        else:\n",
    "            synList[word2].append(word1)\n",
    "\n",
    "    with open('basisWords.txt','r') as myfile:\n",
    "        for word in myfile:\n",
    "            vocab.add(word.strip())\n",
    "\n",
    "    precisions = []\n",
    "    recalls = []\n",
    "\n",
    "    print 'Words where there are >0 true positives:\\n'\n",
    "    print '{:<15s}{:>10s}{:>10s}{:>10s}{:>10s}{:>10s}{:>10s}{:>10s}'.format('word', \n",
    "                                                                            'truePos', \n",
    "                                                                            'falsePos', \n",
    "                                                                            'falseNeg', \n",
    "                                                                            'trueNeg',\n",
    "                                                                            'precision', \n",
    "                                                                            'recall', \n",
    "                                                                            'f1')  \n",
    "    print '-------------------------------------------------------------------------------------'\n",
    "\n",
    "    for i in synList:\n",
    "        trueSyn = synonyms(i)\n",
    "        truePos = len(set(trueSyn).intersection(synList[i]))\n",
    "        falsePos = len(set(synList[i]).difference(trueSyn))\n",
    "        falseNeg = len(set(trueSyn).difference(synList[i]))\n",
    "        trueNeg = len(vocab.difference(trueSyn, synList[i]))\n",
    "\n",
    "        try:\n",
    "            precision = truePos / (truePos + falsePos)\n",
    "            precisions.append(precision)\n",
    "            precisionStr = '{:6.3f}'.format(precision)\n",
    "        except:\n",
    "            precisionStr = None\n",
    "\n",
    "        try:\n",
    "            recall = truePos / (truePos + falseNeg)\n",
    "            recalls.append(recall)\n",
    "            recallStr = '{:6.3f}'.format(recall)\n",
    "        except: \n",
    "            recallStr = None\n",
    "\n",
    "        try:\n",
    "            f1 = 2 * precision * recall / (precision + recall)\n",
    "            f1Str = '{:6.3f}'.format(f1)\n",
    "        except:\n",
    "            f1Str = None\n",
    "\n",
    "        if truePos != 0:\n",
    "            print '{:<15s}{:10,d}{:10,d}{:10,d}{:10,d}{:>10s}{:>10s}{:>10s}'.format(i,\n",
    "                                                                                    truePos,\n",
    "                                                                                    falsePos, \n",
    "                                                                                    falseNeg,\n",
    "                                                                                    trueNeg,\n",
    "                                                                                    precisionStr,\n",
    "                                                                                    recallStr, \n",
    "                                                                                    f1Str)  \n",
    "\n",
    "    recallMacro = sum(recalls) / len(recalls)\n",
    "    precisionMacro = sum(precisions) / len(precisions)\n",
    "\n",
    "    print '\\n\\nSummary stats'\n",
    "    print '--------------------------'\n",
    "    print '{:<17s} {:2.4f}'.format('Precision:', precisionMacro)\n",
    "    print '{:<17s} {:2.4f}'.format('Recall:', recallMacro)\n",
    "    if precisionMacro + recallMacro != 0:\n",
    "        f1Macro = 2 * 2 * precisionMacro * recallMacro / (precisionMacro + recallMacro)\n",
    "        print '{:<17s} {:2.4f}'.format('F1:', f1)\n",
    "    else:\n",
    "        f1 = None\n",
    "        print '{:<17s} {:7s}'.format('F1:', f1) "
   ]
  },
  {
   "cell_type": "code",
   "execution_count": 41,
   "metadata": {
    "collapsed": false
   },
   "outputs": [
    {
     "name": "stdout",
     "output_type": "stream",
     "text": [
      "Words where there are >0 true positives:\n",
      "\n",
      "word              truePos  falsePos  falseNeg   trueNeg precision    recall        f1\n",
      "-------------------------------------------------------------------------------------\n",
      "benevolent              1         1        10       997     0.000     0.000      None\n",
      "provoked                1         2        22       994     0.000     0.000      None\n",
      "charitable              1         1         6       997     0.000     0.000      None\n",
      "wept                    1         2         1       997     0.000     0.000      None\n",
      "sinners                 1         1         1       998     0.000     0.000      None\n",
      "\n",
      "\n",
      "Summary stats\n",
      "--------------------------\n",
      "Precision:        0.0000\n",
      "Recall:           0.0000\n",
      "F1:               None   \n"
     ]
    }
   ],
   "source": [
    "summary_stats(jaccard1000)"
   ]
  },
  {
   "cell_type": "code",
   "execution_count": 42,
   "metadata": {
    "collapsed": false
   },
   "outputs": [
    {
     "name": "stdout",
     "output_type": "stream",
     "text": [
      "Words where there are >0 true positives:\n",
      "\n",
      "word              truePos  falsePos  falseNeg   trueNeg precision    recall        f1\n",
      "-------------------------------------------------------------------------------------\n",
      "transparent             1         0        16       998     1.000     0.000     0.000\n",
      "sinners                 1         3         1       996     0.000     0.000      None\n",
      "aggravated              1         2         5       996     0.000     0.000      None\n",
      "tumult                  1         5         9       993     0.000     0.000      None\n",
      "turmoil                 1         5         6       993     0.000     0.000      None\n",
      "crystalline             1         2         5       996     0.000     0.000      None\n",
      "provoked                2         3        21       993     0.000     0.000      None\n",
      "wept                    1         1         1       998     0.000     0.000      None\n",
      "spoils                  1         2        57       996     0.000     0.000      None\n",
      "\n",
      "\n",
      "Summary stats\n",
      "--------------------------\n",
      "Precision:        0.0000\n",
      "Recall:           0.0000\n",
      "F1:               None   \n"
     ]
    }
   ],
   "source": [
    "summary_stats(cosine1000)"
   ]
  },
  {
   "cell_type": "code",
   "execution_count": null,
   "metadata": {
    "collapsed": true
   },
   "outputs": [],
   "source": []
  }
 ],
 "metadata": {
  "kernelspec": {
   "display_name": "Python 2",
   "language": "python",
   "name": "python2"
  },
  "language_info": {
   "codemirror_mode": {
    "name": "ipython",
    "version": 2
   },
   "file_extension": ".py",
   "mimetype": "text/x-python",
   "name": "python",
   "nbconvert_exporter": "python",
   "pygments_lexer": "ipython2",
   "version": "2.7.11"
  }
 },
 "nbformat": 4,
 "nbformat_minor": 0
}
