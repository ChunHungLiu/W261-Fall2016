{
 "cells": [
  {
   "cell_type": "markdown",
   "metadata": {},
   "source": [
    "* **Student**: Minhchau Dang\n",
    "* **Email Address**: minhchau.dang@berkeley.edu\n",
    "* **Course**: 2016-0111 DATASCI W261: Machine Learning at Scale\n",
    "* **Section**: Spring 2016, Section 2\n",
    "* **Assignment**: Homework 0, Week 0\n",
    "* **Submission Date**: Month 0, 2016"
   ]
  },
  {
   "cell_type": "markdown",
   "metadata": {},
   "source": [
    "This notebook requires some nbextensions.\n",
    "\n",
    "* [toc2](https://github.com/ipython-contrib/IPython-notebook-extensions/tree/master/nbextensions/usability/toc2) provides a button to create a floating table of contents\n",
    "* [toggle_all_line_numbers](https://github.com/ipython-contrib/IPython-notebook-extensions/tree/master/nbextensions/usability/toggle_all_line_numbers) provides a button to see line numbers for all code cells\n",
    "* [autosaveclasses](https://github.com/holatuwol/jupyter-magic/tree/master/nbextensions/autosaveclasses.js) avoids usage of `%%writefile` (cells with a class definition are saved to disk when run)\n",
    "\n",
    "If they are not yet installed, run the following cell and restart the notebook server."
   ]
  },
  {
   "cell_type": "code",
   "execution_count": null,
   "metadata": {
    "collapsed": false
   },
   "outputs": [],
   "source": [
    "%%bash\n",
    "IPYTHON_PROFILE_HOME=$(ipython locate)\n",
    "\n",
    "nbextdl() {\n",
    "    if [ ! -f $IPYTHON_PROFILE_HOME/nbextensions/$2/$3 ]; then\n",
    "        mkdir -p $IPYTHON_PROFILE_HOME/nbextensions/$2\n",
    "        curl --silent -L \\\n",
    "            \"https://raw.githubusercontent.com/$1/master/nbextensions/$2/$3\" \\\n",
    "            > \"$IPYTHON_PROFILE_HOME/nbextensions/$2/$3\"\n",
    "    fi\n",
    "}\n",
    "\n",
    "nbextdl ipython-contrib/IPython-notebook-extensions usability/toc2 main.js\n",
    "nbextdl ipython-contrib/IPython-notebook-extensions usability/toc2 main.css\n",
    "nbextdl ipython-contrib/IPython-notebook-extensions usability/toc2 icon.png\n",
    "nbextdl ipython-contrib/IPython-notebook-extensions usability/toc2 image.png\n",
    "\n",
    "nbextdl ipython-contrib/IPython-notebook-extensions usability/toggle_all_line_numbers main.js\n",
    "nbextdl ipython-contrib/IPython-notebook-extensions usability/toggle_all_line_numbers icon.png\n",
    "\n",
    "nbextdl holatuwol/jupyter-magic . autosaveclasses.js"
   ]
  },
  {
   "cell_type": "markdown",
   "metadata": {},
   "source": [
    "Autoload the extensions."
   ]
  },
  {
   "cell_type": "code",
   "execution_count": null,
   "metadata": {
    "collapsed": false
   },
   "outputs": [
    {
     "data": {
      "application/javascript": [
       "require(['base/js/utils'], function(utils) {\n",
       "    utils.load_extensions('usability/toc2/main');\n",
       "    utils.load_extensions('usability/toggle_all_line_numbers/main');\n",
       "    utils.load_extensions('autosaveclasses');\n",
       "});"
      ],
      "text/plain": [
       "<IPython.core.display.Javascript object>"
      ]
     },
     "metadata": {},
     "output_type": "display_data"
    }
   ],
   "source": [
    "%%javascript\n",
    "require(['base/js/utils'], function(utils) {\n",
    "    utils.load_extensions('usability/toc2/main');\n",
    "    utils.load_extensions('usability/toggle_all_line_numbers/main');\n",
    "    utils.load_extensions('autosaveclasses');\n",
    "});"
   ]
  },
  {
   "cell_type": "markdown",
   "metadata": {},
   "source": [
    "# HW 6.0"
   ]
  },
  {
   "cell_type": "markdown",
   "metadata": {},
   "source": [
    "> In mathematics, computer science, economics, or management science what is mathematical optimization?"
   ]
  },
  {
   "cell_type": "markdown",
   "metadata": {},
   "source": [
    "Mathematical optimization is the process of selecting the \"best\" value for a set of *decision variables* with respect to the value of some *objective function*.\n",
    "\n",
    "In our case, we are maximizing or minimizing an objective function, such as minimizing the mean squared error to find the best parameters for linear regression."
   ]
  },
  {
   "cell_type": "markdown",
   "metadata": {},
   "source": [
    "> Give an example of a optimization problem that you have worked with directly or that your organization has worked on. Please describe the objective function and the decision variables."
   ]
  },
  {
   "cell_type": "markdown",
   "metadata": {},
   "source": [
    "At a previous job, an optimization project that we worked on was to find the best way to word promotional banners on an e-commerce website. The objective \"function\" was how much revenue the promotion drove, and the decision variable was the wording of the headline on the promo banner."
   ]
  },
  {
   "cell_type": "markdown",
   "metadata": {},
   "source": [
    "> Was the project successful (deployed in the real world)? Describe."
   ]
  },
  {
   "cell_type": "markdown",
   "metadata": {},
   "source": [
    "In this case, the project was not 100% successful, as A/B testing can be difficult to get statistically significant results.  If we had unlimited time to run the A/B test, we may have been able to iterate on the wording of the promotion for optimization."
   ]
  },
  {
   "cell_type": "markdown",
   "metadata": {},
   "source": [
    "# HW 6.1 Optimization Theory"
   ]
  },
  {
   "cell_type": "markdown",
   "metadata": {},
   "source": [
    "## Unconstrained univariate optimization"
   ]
  },
  {
   "cell_type": "markdown",
   "metadata": {},
   "source": [
    "Let $f : \\mathbb{R} \\rightarrow \\mathbb{R}$ in class $C^1$ and $C^2$ (its first derivative and second derivative are continuous functions). Let $\\nabla f : \\mathbb{R} \\rightarrow \\mathbb{R}$ be the gradient function (first derivative) and let $\\nabla^2 f : \\mathbb{R} \\rightarrow \\mathbb{R}$ be the gradient of the gradient function (second derivative).\n",
    "\n",
    "If there is a value $x_0$ for the decision variable satisfying the condition that there exists a neighborhood $\\mathcal{N}$ consisting of the points within $\\epsilon > 0$ of $x_0$ for which $\\forall x \\in \\mathcal{N}: f(x_0) < f(x)$, then we define that as a *local minimum* of $f$. If there is a value $x_0$ for the decision variable satisfying the condition that there exists a neighborhood $\\mathcal{N}$ consisting of the points within $\\epsilon > 0$ of $x_0$ for which $\\forall x \\in \\mathcal{N}: f(x_0) > f(x)$, then we define that as a *local maximum* of $f$.\n",
    "\n",
    "Define a local extrema as a point that is either a local minimum or a local maximum."
   ]
  },
  {
   "cell_type": "markdown",
   "metadata": {},
   "source": [
    "> For unconstrained univariate optimization what are the first order Necessary Conditions for Optimality (FOC)? Give a mathematical definition."
   ]
  },
  {
   "cell_type": "markdown",
   "metadata": {},
   "source": [
    "Let $x_0$ be a local extrema. $x_0$ occurs when the first derivative of $f$ evaluated at $x_0$ is zero ($\\nabla f(x_0) = 0$)."
   ]
  },
  {
   "cell_type": "markdown",
   "metadata": {},
   "source": [
    ">  What are the second order optimality conditions (SOC)? Give a mathematical defintion."
   ]
  },
  {
   "cell_type": "markdown",
   "metadata": {},
   "source": [
    "Let $x_0$ be a local extrema. $x_0$ is a local minimum if the second derivative of $f$ evaluated at $x_0$ is positive ($\\nabla^2 f(x_0) > 0$), and a local maximum of $f$ if the second derivative at $f$ evaluated at $x_0$ is negative ($\\nabla^2 f(x_0) < 0$)."
   ]
  },
  {
   "cell_type": "markdown",
   "metadata": {},
   "source": [
    "> Also in python, plot the univariate function $x^3 -12x^2-6$ defined over the real domain -6 to +6. Also plot its corresponding first and second derivative functions. Eyeballing these graphs, identify candidate optimal points and then classify them as local minimums or maximums. Highlight and label these points in your graphs."
   ]
  },
  {
   "cell_type": "code",
   "execution_count": null,
   "metadata": {
    "collapsed": false
   },
   "outputs": [
    {
     "data": {
      "image/png": "[encoded data removed]",
      "text/plain": []
     },
     "metadata": {},
     "output_type": "display_data"
    }
   ],
   "source": [
    "%matplotlib inline\n",
    "\n",
    "import numpy as np\n",
    "import matplotlib.pyplot as plt\n",
    "\n",
    "def plot_61():\n",
    "    x = np.arange(-6, 6, 0.1)\n",
    "    y = x ** 3 - 12 * x ** 2 - 6\n",
    "    y_prime = 3 * x ** 2 - 24 * x\n",
    "    y_2prime = 6 * x - 24\n",
    "\n",
    "    plt.figure(figsize=(8,12))\n",
    "    plt.subplots_adjust(hspace=0.35)\n",
    "\n",
    "    plt.axhline(y=0, color='k')\n",
    "\n",
    "    # Plot the objective function\n",
    "\n",
    "    plt.subplot(3, 1, 1)\n",
    "    plt.grid(True)\n",
    "    plt.axhline(0, color='grey')\n",
    "    plt.axvline(0, color='grey')\n",
    "    plt.plot(x, y)\n",
    "    plt.ylabel(r\"$f(x)$\")\n",
    "    plt.xlabel(r\"$x$\")\n",
    "    plt.title(r\"Objective function: $f(x)=x^3-12x^2-6$\")\n",
    "    plt.annotate(r'Local Max: $f(0)=-6$',\n",
    "        xy = (0, -6), xytext = (20, -20),\n",
    "        textcoords = 'offset points', ha = 'left', va = 'top',\n",
    "        bbox = dict(boxstyle = 'round,pad=0.5', fc = 'yellow', alpha = 0.5),\n",
    "        arrowprops = dict(arrowstyle = '->', connectionstyle = 'arc3,rad=0'))\n",
    "\n",
    "    # Plot the first derivative function\n",
    "\n",
    "    plt.subplot(3, 1, 2)\n",
    "    plt.grid(True)\n",
    "    plt.axhline(0, color='grey')\n",
    "    plt.axvline(0, color='grey')\n",
    "    plt.plot(x, y_prime, color='green')\n",
    "    plt.ylabel(r\"$\\nabla f(x)$\")\n",
    "    plt.xlabel(r\"$x$\")\n",
    "    plt.title(r\"First derivative: $\\nabla f(x)=3x^2-24x$\")\n",
    "    plt.annotate(r'$\\nabla f(0)=0$',\n",
    "        xy = (0, -6), xytext = (20, 20),\n",
    "        textcoords = 'offset points', ha = 'left', va = 'bottom',\n",
    "        bbox = dict(boxstyle = 'round,pad=0.5', fc = 'yellow', alpha = 0.5),\n",
    "        arrowprops = dict(arrowstyle = '->', connectionstyle = 'arc3,rad=0'))\n",
    "\n",
    "    # Plot the second derivative\n",
    "\n",
    "    plt.subplot(3, 1, 3)\n",
    "    plt.grid(True)\n",
    "    plt.axhline(0, color='grey')\n",
    "    plt.axvline(0, color='grey')\n",
    "    plt.plot(x, y_2prime, color='red')\n",
    "    plt.ylabel(r\"$\\nabla^2 f(x)$\")\n",
    "    plt.xlabel(r\"$x$\")\n",
    "    plt.title(r\"Second derivative: $\\nabla^2 f(x)=6x-24$\")\n",
    "    plt.annotate(r'$\\nabla^2 f(0)<0$',\n",
    "        xy = (0, -24), xytext = (-20, 20),\n",
    "        textcoords = 'offset points', ha = 'right', va = 'bottom',\n",
    "        bbox = dict(boxstyle = 'round,pad=0.5', fc = 'yellow', alpha = 0.5),\n",
    "        arrowprops = dict(arrowstyle = '->', connectionstyle = 'arc3,rad=0'))\n",
    "\n",
    "plot_61()"
   ]
  },
  {
   "cell_type": "markdown",
   "metadata": {},
   "source": [
    "> Justify your responses using the FOC and SOC."
   ]
  },
  {
   "cell_type": "markdown",
   "metadata": {},
   "source": [
    "The objective function evaluated at 0 $f(0) = -6$ is a local maximum of $f(x)$, as indicated by the first derivative evaluated at 0 $\\nabla f(0) = 0$ (satisfying the first order condition), the second drivative evaluated at 0 $\\nabla^2 f(x) < 0$ (satisfying the second order condition)."
   ]
  },
  {
   "cell_type": "markdown",
   "metadata": {},
   "source": [
    "## Unconstrained multivariate optimization"
   ]
  },
  {
   "cell_type": "markdown",
   "metadata": {},
   "source": [
    "Let $f : \\mathbb{R}^n \\rightarrow \\mathbb{R}$ in class $C^1$ and $C^2$ (its first derivative and second derivative are continuous functions). Let $\\nabla f : \\mathbb{R}^n \\rightarrow \\mathbb{R}^n$ be the gradient function (first derivative) and let $\\nabla^2 f : \\mathbb{R}^n \\rightarrow \\mathbb{R}^{n \\times n}$ be the gradient of the gradient function (second derivative)."
   ]
  },
  {
   "cell_type": "markdown",
   "metadata": {},
   "source": [
    "> For unconstrained multi-variate optimization what are the first order Necessary Conditions for Optimality (FOC). Give a mathematical definition."
   ]
  },
  {
   "cell_type": "markdown",
   "metadata": {},
   "source": [
    "Let $\\mathbf{x}_0$ be a local extrema. $\\mathbf{x}_0$ occurs when the first derivative (Jacobian matrix) has all entries equal to zero, or $J(\\mathbf{x}_0) = \\mathbf{0}$."
   ]
  },
  {
   "cell_type": "markdown",
   "metadata": {},
   "source": [
    "> What are the second order optimality conditions (SOC)? > What is the Hessian matrix in this context? Give a mathematical definition. "
   ]
  },
  {
   "cell_type": "markdown",
   "metadata": {},
   "source": [
    "Let $\\mathbf{x}_0$ be a local extrema. $\\mathbf{x}_0$ is a local minimum if the second derivative (Hessian matrix) evaluated at that point has all entries non-negative (i.e., $H(\\mathbf{x})$ is positive semidefinite), and a local maximum if the second derivative evaluated at that point has all entries non-positive (i.e., $H(\\mathbf{x}$) is negative semidefinite)."
   ]
  },
  {
   "cell_type": "markdown",
   "metadata": {},
   "source": [
    "# HW 6.2"
   ]
  },
  {
   "cell_type": "markdown",
   "metadata": {},
   "source": [
    "> Taking $x=1$ as the first approximation ($x_1$) of a root of $x^3 + 2x -4 = 0$, use the Newton-Raphson method to calculate the second approximation (denoted as $x_2$) of this root. (Hint: the solution is $x_2 = 1.2$)"
   ]
  },
  {
   "cell_type": "markdown",
   "metadata": {},
   "source": [
    "## Visual intuition"
   ]
  },
  {
   "cell_type": "code",
   "execution_count": null,
   "metadata": {
    "collapsed": false
   },
   "outputs": [
    {
     "data": {
      "image/png": "[encoded data removed]",
      "text/plain": []
     },
     "metadata": {},
     "output_type": "display_data"
    }
   ],
   "source": [
    "%matplotlib inline\n",
    "\n",
    "def plot_62():\n",
    "    x = np.arange(0, 2, 0.1)\n",
    "    y = x ** 3 + 2 * x - 4\n",
    "    tangent = 5 * x - 6\n",
    "\n",
    "    plt.figure(figsize=(6,6))\n",
    "\n",
    "    plt.grid(True)\n",
    "    plt.axhline(0, color='grey')\n",
    "    plt.axvline(0, color='grey')\n",
    "    plt.plot(x, y)\n",
    "    plt.plot(x, tangent, color=\"red\")\n",
    "    plt.ylabel(r\"$f(x)$\")\n",
    "    plt.xlabel(r\"$x$\")\n",
    "    plt.title(r\"Newton-Raphson: iteration #1\")\n",
    "    plt.annotate(r'Find tangent at point $x_1$',\n",
    "        xy = (1,-1), xytext = (-20, 20),\n",
    "        textcoords = 'offset points', ha = 'right', va = 'bottom',\n",
    "        bbox = dict(boxstyle = 'round,pad=0.5', fc = 'yellow', alpha = 0.5),\n",
    "        arrowprops = dict(arrowstyle = '->', connectionstyle = 'arc3,rad=0'))\n",
    "    plt.annotate(r'New approximation $x_2$',\n",
    "        xy = (1.2,0), xytext = (20, -20),\n",
    "        textcoords = 'offset points', ha = 'left', va = 'top',\n",
    "        bbox = dict(boxstyle = 'round,pad=0.5', fc = 'yellow', alpha = 0.5),\n",
    "        arrowprops = dict(arrowstyle = '->', connectionstyle = 'arc3,rad=0'))\n",
    "\n",
    "plot_62()"
   ]
  },
  {
   "cell_type": "markdown",
   "metadata": {},
   "source": [
    "## Computation process"
   ]
  },
  {
   "cell_type": "markdown",
   "metadata": {},
   "source": [
    "Find value of $f(x)$ at $x_1$\n",
    "$$\n",
    "\\begin{equation}\n",
    "\\begin{split}\n",
    "f(x) & = x^3+2x-4 \\\\\n",
    "f(1) & = (1)^3+2(1)-4 \\\\\n",
    "f(1) & = -1 \\\\\n",
    "\\end{split}\n",
    "\\end{equation}\n",
    "$$\n",
    "\n",
    "Find value of $\\nabla f(x)$ at $x_{1}$:\n",
    "$$\n",
    "\\begin{equation}\n",
    "\\begin{split}\n",
    "\\nabla f(x) & = 3x^2+2 \\\\\n",
    "\\nabla f(1) & = 3(1)^2+2 \\\\\n",
    "\\nabla f(1) & = 5 \\\\\n",
    "\\end{split}\n",
    "\\end{equation}\n",
    "$$\n",
    "\n",
    "Define line with $m = \\nabla f(x_1)$ containing point $(x_1, f(x_1))$:\n",
    "$$\n",
    "\\begin{equation}\n",
    "\\begin{split}\n",
    "f(x)-f(x_1) & = (\\nabla f(x_1))(x-x_1) \\\\\n",
    "f(x)-(-1) & = (5)(x-(1)) \\\\\n",
    "f(x)+1 & = 5(x-1) \\\\\n",
    "f(x) & = 5x - 6\n",
    "\\end{split}\n",
    "\\end{equation}\n",
    "$$\n",
    "\n",
    "Find $x_2$ when $f(x_2) = 0$, which is the $x$-intercept of that line:\n",
    "$$\n",
    "\\begin{equation}\n",
    "\\begin{split}\n",
    "f(x_2) &= 5x_2 - 6 \\\\\n",
    "(0) &= 5x_2 - 6 \\\\\n",
    "5x_2 &= 6 \\\\\n",
    "x_2 &= 1.2\n",
    "\\end{split}\n",
    "\\end{equation}\n",
    "$$"
   ]
  },
  {
   "cell_type": "markdown",
   "metadata": {},
   "source": [
    "## Computation shortcut"
   ]
  },
  {
   "cell_type": "markdown",
   "metadata": {},
   "source": [
    "To cross-check our answer, if we start with the assumption that we are always going to find the $x$-intercept, we can derive a simplified version of the Newton-Raphson approach:\n",
    "\n",
    "\\begin{equation}\n",
    "\\begin{split}\n",
    "f(x_2)-f(x_1) & = (\\nabla f(x_1))(x_2-x_1) \\\\\n",
    "(0)-f(x_1) & = (\\nabla f(x_1))(x_2-x_1) \\\\\n",
    "-f(x_1) & = (\\nabla f(x_1))(x_2-x_1) \\\\\n",
    "-\\frac{f(x_1)}{\\nabla f(x_1)} & = x_2-x_1 \\\\\n",
    "x_2 & = x_1 - \\frac{f(x_1)}{\\nabla f(x_1)} \\\\\n",
    "\\end{split}\n",
    "\\end{equation}\n",
    "\n",
    "Since we know $x_1 = 1$ and we've already computed $f(x_1) = -1$ and $\\nabla f(x_1) = 5$:\n",
    "\n",
    "\\begin{equation}\n",
    "\\begin{split}\n",
    "x_2 & = x_1 - \\frac{f(x_1)}{\\nabla f(x_1)} \\\\\n",
    "x_2 & = (1) - \\frac{(-1)}{(5)} \\\\\n",
    "x_2 & = 1.2 \\\\\n",
    "\\end{split}\n",
    "\\end{equation}\n"
   ]
  },
  {
   "cell_type": "markdown",
   "metadata": {},
   "source": [
    "# HW 6.3 Convex Optimization"
   ]
  },
  {
   "cell_type": "markdown",
   "metadata": {},
   "source": [
    "> What makes an optimization problem convex?"
   ]
  },
  {
   "cell_type": "markdown",
   "metadata": {},
   "source": [
    "An optimization problem is convex if the objective function we are minimizing is convex. In two dimensions, we can think of a convex function as follows:\n",
    "\n",
    "- If we look at the function and a tangent line at a specific point, the function globally lies above the tangent line\n",
    "- If this is true for all points, the function is globally convex"
   ]
  },
  {
   "cell_type": "markdown",
   "metadata": {},
   "source": [
    ">  What are the first order Necessary Conditions for Optimality in convex optimization."
   ]
  },
  {
   "cell_type": "markdown",
   "metadata": {},
   "source": [
    "Let $\\mathbf{x}_0$ be a global extrema. Just like in the general case of mathematical optimization, $\\mathbf{x}_0$ occurs when the first derivative (Jacobian matrix) has all entries equal to zero, or $J(\\mathbf{x}_0) = \\mathbf{0}$."
   ]
  },
  {
   "cell_type": "markdown",
   "metadata": {},
   "source": [
    "> What are the second order optimality conditions for convex optimization?"
   ]
  },
  {
   "cell_type": "markdown",
   "metadata": {},
   "source": [
    "In a convex function, the second derivative (Hessian matrix) evaluated at any point has all entries non-negative (i.e., $H(\\mathbf{x})$ is positive semidefinite). Therefore, once we identify an extrema $\\mathbf{x}_0$ from the first order condition, we know that $\\mathbf{x}_0$ is a minimum."
   ]
  },
  {
   "cell_type": "markdown",
   "metadata": {},
   "source": [
    "> Are both necessary to determine the maximum or minimum of candidate optimal solutions?"
   ]
  },
  {
   "cell_type": "markdown",
   "metadata": {},
   "source": [
    "If the objective function is convex, we only need the first order condition to know that an optimal solution is a minimum.\n",
    "\n",
    "If the objective function is concave, the second derivative (Hessian matrix) evaluated at any point has all entries non-positive (i.e., $H(\\mathbf{x})$ is negative semidefinite). In this case, once we identify an extrema $\\mathbf{x}_0$ from the first order condition, we know that $\\mathbf{x}_0$ is a global maximum."
   ]
  },
  {
   "cell_type": "markdown",
   "metadata": {},
   "source": [
    "> Fill in the BLANKS here: Convex minimization, a subfield of optimization, studies the problem of minimizing BLANK functions over BLANK sets. The BLANK property can make optimization in some sense \"easier\" than the general case - for example, any local minimum must be a global minimum."
   ]
  },
  {
   "cell_type": "markdown",
   "metadata": {
    "collapsed": true
   },
   "source": [
    "All the BLANKS are filled in with **convex** (or some variant of that word). This results in the following quote from the Wikipedia article on convex optimization ([reference](https://en.wikipedia.org/wiki/Convex_optimization)):\n",
    "\n",
    "Convex minimization, a subfield of optimization, studies the problem of minimizing **convex** functions over **convex** sets. The **convexity** property can make optimization in some sense \"easier\" than the general case - for example, any local minimum must be a global minimum."
   ]
  },
  {
   "cell_type": "markdown",
   "metadata": {},
   "source": [
    "# HW 6.4"
   ]
  },
  {
   "cell_type": "markdown",
   "metadata": {},
   "source": [
    "> The learning objective function for weighted ordinary least squares (WOLS) (aka weight linear regression) is defined as follows:\n",
    "\n",
    "> $$0.5 \\sum_{i} (weight)_i \\cdot (\\mathbf{W} \\cdot \\mathbf{X}_i - y_i)^2$$\n",
    "\n",
    "> Where training set consists of input variables $\\mathbf{X}$ (in vector form) and a target variable $y$, and $\\mathbf{X}$ is the vector of coefficients for the linear regression model.\n",
    "\n",
    "> Derive the gradient for this weighted OLS by hand; showing each step and also explaining each step."
   ]
  },
  {
   "cell_type": "markdown",
   "metadata": {},
   "source": [
    "## WOLS closed form solution"
   ]
  },
  {
   "cell_type": "markdown",
   "metadata": {},
   "source": [
    "To simplify our notation, let $\\mathbf{\\beta}$ be the vector of weight values, with elements $(weight)_i$. We are given matrices of the following dimensions, when we have N observations with M variables:\n",
    "\n",
    "$$\n",
    "\\mathbf{Y}=\\begin{bmatrix}\n",
    "y_1 \\\\\n",
    "y_2 \\\\\n",
    "\\vdots \\\\\n",
    "y_N\n",
    "\\end{bmatrix}\n",
    ", \\mathbf{X}=\\begin{bmatrix}\n",
    "x_{11} & x_{12} & \\ldots & x_{1M} \\\\\n",
    "x_{21} & x_{22} & \\ldots & x_{2M} \\\\\n",
    "\\vdots & \\vdots & \\ddots & \\vdots \\\\\n",
    "x_{N1} & x_{N2} & \\ldots & x_{NM}\n",
    "\\end{bmatrix}\n",
    ", \\mathbf{W}=\\begin{bmatrix}\n",
    "W_1 \\\\\n",
    "W_2 \\\\\n",
    "\\vdots \\\\\n",
    "W_M\n",
    "\\end{bmatrix}\n",
    ", \\boldsymbol{\\beta}=\\begin{bmatrix}\n",
    "\\beta_1 \\\\\n",
    "\\beta_2 \\\\\n",
    "\\vdots \\\\\n",
    "\\beta_N\n",
    "\\end{bmatrix}\n",
    "$$\n",
    "\n",
    "We want to minimize the learning objective function:\n",
    "$$\n",
    "\\begin{equation}\n",
    "\\begin{split}\n",
    "\\mathbf{W^*} &= \\underset{x}{\\text{min}} \\bigg(\\frac{1}{2} \\sum_i \\beta_i (\\mathbf{X_i} \\mathbf{W} - \\mathbf{Y_i})^2\\bigg) \\\\\n",
    "&= \\underset{\\mathbf{W}}{\\text{min}} \\bigg(\\frac{1}{2} \\sum_i \\beta_i (\\mathbf{X_i} \\mathbf{W} - \\mathbf{Y_i})^T (\\mathbf{X_i} \\mathbf{W} - \\mathbf{Y_i})\\bigg) \\\\\n",
    "&= \\underset{\\mathbf{W}}{\\text{min}} \\bigg(\\frac{1}{2} \\sum_i \\beta_i (\\mathbf{W}^T \\mathbf{X_i}^T - \\mathbf{Y_i}^T)  (\\mathbf{X_i} \\mathbf{W} - \\mathbf{Y_i})\\bigg) \\\\\n",
    "&= \\underset{\\mathbf{W}}{\\text{min}} \\bigg(\\frac{1}{2} \\sum_i \\beta_i (\\mathbf{W}^T\\mathbf{X_i}^T\\mathbf{X_i}\\mathbf{W} - \\mathbf{W}^T\\mathbf{X_i}^T\\mathbf{Y_i} - \\mathbf{Y_i}^T\\mathbf{X_i}\\mathbf{W} + \\mathbf{Y_i}^T\\mathbf{Y_i})\\bigg)\n",
    "\\end{split}\n",
    "\\end{equation}\n",
    "$$\n",
    "\n",
    "To find the minimum, we differentiate with respect to $\\mathbf{W}$ to get the gradient:\n",
    "\n",
    "$$\n",
    "\\begin{equation}\n",
    "\\begin{split}\n",
    "\\nabla &= \\frac{1}{2} \\sum_i \\beta_i \\bigg(2\\mathbf{X_i}^T\\mathbf{X_i}\\mathbf{W} - 2 \\mathbf{X_i}^T\\mathbf{Y_i} \\bigg) \\\\\n",
    "&= \\sum_i \\beta_i \\bigg(\\mathbf{X_i}^T\\mathbf{X_i}\\mathbf{W} - \\mathbf{X_i}^T\\mathbf{Y_i} \\bigg) \\\\\n",
    "&= \\sum_i \\beta_i \\mathbf{X_i}^T \\bigg(\\mathbf{X_i}\\mathbf{W} - \\mathbf{Y_i} \\bigg)\n",
    "\\end{split}\n",
    "\\end{equation}\n",
    "$$"
   ]
  },
  {
   "cell_type": "markdown",
   "metadata": {},
   "source": [
    "## WOLS EM gradient function"
   ]
  },
  {
   "cell_type": "markdown",
   "metadata": {
    "collapsed": true
   },
   "source": [
    "We can use the same approach as documented in the class notes for CS 229 at Stanford University ([reference](http://cs229.stanford.edu/notes/cs229-notes1.pdf)), which computes each element of the gradient vector separately.\n",
    "\n",
    "First, if we take the partial derivative with respect to the $j$-th element of the cost vector and apply the chain rule, we have the following:\n",
    "\n",
    "$$0.5 \\sum_{i} (weight)_i \\cdot ((2) (\\mathbf{W} \\cdot \\mathbf{X}_i - y_i)) \\cdot\n",
    "    \\frac{\\partial}{\\partial \\mathbf{W}_j} (\\mathbf{W} \\cdot \\mathbf{X}_i - y_i)$$\n",
    "\n",
    "Simplifying by multiplying the (0.5) and the (2), we have the following:\n",
    "\n",
    "$$\\sum_{i} (weight)_i \\cdot (\\mathbf{W} \\cdot \\mathbf{X}_i - y_i) \\cdot\n",
    "    \\frac{\\partial}{\\partial \\mathbf{W}_j} (\\mathbf{W} \\cdot \\mathbf{X}_i - y_i)$$\n",
    "\n",
    "Observe that when we take the partial derivative of $\\mathbf{W} \\cdot \\mathbf{X}_i - y_i)$ with respect to $\\mathbf{W}_j$, most of the weights in $\\mathbf{W}$ are zero. This results in us only being left with $\\mathbf{X}_{ij}$, or the $j$-th element of $\\mathbf{X}$ (or simply 1 for the intercept term).\n",
    "\n",
    "This simplifies to the following:\n",
    "\n",
    "$$\\sum_{i} (weight)_i \\cdot (\\mathbf{W} \\cdot \\mathbf{X}_i - y_i) \\cdot \\mathbf{X}_{ij}$$"
   ]
  },
  {
   "cell_type": "markdown",
   "metadata": {},
   "source": [
    "# HW 6.5"
   ]
  },
  {
   "cell_type": "markdown",
   "metadata": {},
   "source": [
    "## Generate HW6.5 data"
   ]
  },
  {
   "cell_type": "markdown",
   "metadata": {},
   "source": [
    "> Generate one million datapoints just like in the following notebook:\n",
    "\n",
    "> http://nbviewer.ipython.org/urls/dl.dropbox.com/s/kritdm3mo1daolj/MrJobLinearRegressionGD.ipynb\n",
    "\n",
    "> Weight each example as follows: $\\text{weight}(x)= \\big|\\frac{1}{x}\\big|$"
   ]
  },
  {
   "cell_type": "code",
   "execution_count": null,
   "metadata": {
    "collapsed": false
   },
   "outputs": [
    {
     "name": "stdout",
     "output_type": "stream",
     "text": [
      "1000000 LinearRegression.csv\r\n"
     ]
    },
    {
     "data": {
      "image/png": "[encoded data removed]",
      "text/plain": []
     },
     "metadata": {},
     "output_type": "display_data"
    }
   ],
   "source": [
    "%matplotlib inline\n",
    "\n",
    "import numpy as np\n",
    "import matplotlib.pyplot as plt\n",
    "\n",
    "# Create LinearRegression.csv\n",
    "\n",
    "size = 1000000\n",
    "x = np.random.uniform(-4, 4, size)\n",
    "y = x * 1.0 - 4 + np.random.normal(0, 0.5, size)\n",
    "weight = abs(1/x)\n",
    "data = zip(y, x, weight)\n",
    "np.savetxt('LinearRegression.csv', data, delimiter = \",\")\n",
    "\n",
    "# Confirm that we created a file of the right size\n",
    "\n",
    "!wc -l LinearRegression.csv\n",
    "\n",
    "# Plot the first 1000 points\n",
    "\n",
    "def plot_points():\n",
    "    plt.figure(figsize=(8,4))\n",
    "    plt.grid(True)\n",
    "    plt.axhline(0, color='grey')\n",
    "    plt.axvline(0, color='grey')\n",
    "    plt.scatter(x[:1000], y[:1000], marker='o', alpha=0.5)\n",
    "    plt.title('Generated data set (only 1000 observations)')\n",
    "    plt.xlabel('x')\n",
    "    plt.ylabel('y')\n",
    "\n",
    "plot_points()"
   ]
  },
  {
   "cell_type": "markdown",
   "metadata": {},
   "source": [
    "## Create HW6.5 job"
   ]
  },
  {
   "cell_type": "markdown",
   "metadata": {},
   "source": [
    "> Write a MapReduce job in MRJob to do the training at scale of a weighted OLS model using gradient descent."
   ]
  },
  {
   "cell_type": "code",
   "execution_count": null,
   "metadata": {
    "collapsed": false
   },
   "outputs": [],
   "source": [
    "import csv\n",
    "import sys\n",
    "\n",
    "from mrjob.job import MRJob\n",
    "from mrjob.protocol import RawProtocol\n",
    "\n",
    "class WeightedOrdinaryLeastSquaresJob(MRJob):\n",
    "\n",
    "    \"\"\"\n",
    "    Load the learning factor.\n",
    "    \"\"\"\n",
    "    def configure_options(self):\n",
    "        super(WeightedOrdinaryLeastSquaresJob, self).configure_options()\n",
    "\n",
    "        self.add_passthrough_option(\n",
    "            '--learning-factor', type = 'float', default = 0.001)\n",
    "\n",
    "    \"\"\"\n",
    "    Load the regression model from the previous iteration and initialize the\n",
    "    partial sums.\n",
    "    \"\"\"\n",
    "    def mapper_init(self):\n",
    "        self.load_model()\n",
    "        self.gradient = [0.0] * len(self.coef)\n",
    "\n",
    "    \"\"\"\n",
    "    Compute the error term and use the weighted error value to update the tally.\n",
    "    \"\"\"\n",
    "    def mapper(self, _, line):\n",
    "        row = csv.reader([line]).next()\n",
    "\n",
    "        # First element is y, all middle elements are part of the vector x_i,\n",
    "        # and the last element is the weight.\n",
    "\n",
    "        y = float(row[0])\n",
    "        x_i = [1.0] + [float(x) for x in row[1:-1]]\n",
    "        weight = float(row[-1])\n",
    "\n",
    "        # Compute the value predicted by the model by computing the dot product.\n",
    "        # For now, avoid using numpy due to MRJob import issues.\n",
    "\n",
    "        dot_product = sum([coef_j * x_ij for coef_j, x_ij in zip(self.coef, x_i)])\n",
    "        error = dot_product - y\n",
    "\n",
    "        # Update the gradient tally.\n",
    "\n",
    "        for j in range(len(self.gradient)):\n",
    "            self.gradient[j] += weight * error * x_i[j]\n",
    "\n",
    "    \"\"\"\n",
    "    Yield the computed tally.\n",
    "    \"\"\"\n",
    "    def mapper_final(self):\n",
    "        for j in range(len(self.gradient)):\n",
    "            yield j, self.gradient[j]\n",
    "\n",
    "    \"\"\"\n",
    "    Load the regression model from the previous iteration.\n",
    "    \"\"\"\n",
    "    def reducer_init(self):\n",
    "        self.load_model()\n",
    "\n",
    "    \"\"\"\n",
    "    Yield the new coefficients by subtracting the gradient change from the\n",
    "    original coefficient.\n",
    "    \"\"\"\n",
    "    def reducer(self, j, gradients):\n",
    "        total_gradient = sum(gradients)\n",
    "        adjusted_gradient = self.options.learning_factor * total_gradient\n",
    "\n",
    "        new_coef = self.coef[j] - adjusted_gradient\n",
    "        yield j, new_coef\n",
    "\n",
    "    \"\"\"\n",
    "    Load the regression model from the previous iteration.\n",
    "    \"\"\"\n",
    "    def load_model(self):\n",
    "\n",
    "        # The model is not guaranteed to be in order since it can be emitted\n",
    "        # by multiple reducers, so pad the array if we get an index that is\n",
    "        # too far into the array.\n",
    "\n",
    "        self.coef = []\n",
    "\n",
    "        with open('wols_model.txt', 'r') as model_file:\n",
    "            for key, value in csv.reader(model_file):\n",
    "                index = int(key)\n",
    "\n",
    "                for i in range(len(self.coef), index + 1):\n",
    "                    self.coef.append(0.0)\n",
    "\n",
    "                self.coef[index] = float(value)\n",
    "\n",
    "if __name__ == '__main__' and sys.argv[0].find('ipykernel') == -1:\n",
    "    WeightedOrdinaryLeastSquaresJob().run()"
   ]
  },
  {
   "cell_type": "markdown",
   "metadata": {},
   "source": [
    "## Create a generic driver"
   ]
  },
  {
   "cell_type": "code",
   "execution_count": null,
   "metadata": {
    "collapsed": true
   },
   "outputs": [],
   "source": [
    "import numpy\n",
    "import os\n",
    "import shutil\n",
    "import time\n",
    "\n",
    "class ConvergingModelDriver:\n",
    "\n",
    "    def __init__(self, model_file, input_file):\n",
    "        self.model_file = model_file\n",
    "        self.input_file = input_file\n",
    "\n",
    "    \"\"\"\n",
    "    Stores the given model to a file.\n",
    "    \"\"\"\n",
    "    def store_iteration(self, file_name, model):\n",
    "        with open(file_name, 'w') as iteration_file:\n",
    "            for key, point in model.iteritems():\n",
    "                print >> iteration_file, str(key) + ',' + ','.join([str(x) for x in point])\n",
    "\n",
    "    \"\"\"\n",
    "    Iterates until the threshold for convergence has been satisfied.\n",
    "    \"\"\"\n",
    "    def run(self, runner_type, output_folder, threshold):\n",
    "\n",
    "        # Create the output directory locally.\n",
    "\n",
    "        if os.path.isdir(output_folder):\n",
    "            shutil.rmtree(output_folder)\n",
    "\n",
    "        os.mkdir(output_folder)\n",
    "\n",
    "        # Initialize the model.\n",
    "\n",
    "        pre_model = None\n",
    "        post_model = self.get_initial_model()\n",
    "\n",
    "        # Iterate until we have converged.\n",
    "\n",
    "        converged = False\n",
    "        iteration = 0\n",
    "\n",
    "        self.log_iteration(0, post_model, None)\n",
    "\n",
    "        time_start = time.time()\n",
    "        base_args = [\n",
    "            '-r', runner_type,\n",
    "            '--strict-protocols',\n",
    "            '--file=' + self.model_file,\n",
    "            self.input_file\n",
    "        ]\n",
    "\n",
    "        while not converged:\n",
    "            iteration += 1\n",
    "            pre_model = post_model\n",
    "\n",
    "            # Write the model.txt file for the next iteration.\n",
    "\n",
    "            iteration_file_name = '%s/%04d.txt' % (output_folder, iteration)\n",
    "\n",
    "            self.store_iteration(iteration_file_name, post_model)\n",
    "            shutil.copyfile(iteration_file_name, self.model_file)\n",
    "\n",
    "            # Run the next iteration.\n",
    "\n",
    "            iteration_output_folder = '%s/%04d' % (output_folder, iteration)\n",
    "\n",
    "            iteration_args = ['--output-dir=' + iteration_output_folder]\n",
    "\n",
    "            mr_job = self.get_job(base_args + iteration_args)\n",
    "\n",
    "            with mr_job.make_runner() as runner:\n",
    "                runner.run()\n",
    "\n",
    "                # Retrieve the model from the streaming output.\n",
    "\n",
    "                post_model = {}\n",
    "\n",
    "                for line in runner.stream_output():\n",
    "                    key, point = mr_job.parse_output_line(line)\n",
    "\n",
    "                    if isinstance(point, float):\n",
    "                        point = [point]\n",
    "\n",
    "                    post_model[key] = point\n",
    "\n",
    "                # Account for when some class no longer gets emitted\n",
    "\n",
    "                for key, point in pre_model.iteritems():\n",
    "                    if key not in post_model:\n",
    "                        post_model[key] = point\n",
    "\n",
    "            # Log iteration results and check for convergence.\n",
    "\n",
    "            maximum_change = self.get_maximum_change(pre_model, post_model)\n",
    "            self.log_iteration(iteration, post_model, maximum_change)\n",
    "            converged = maximum_change <= threshold\n",
    "\n",
    "        time_end = time.time()\n",
    "        duration = time_end - time_start\n",
    "\n",
    "        print 'Converged in', iteration, 'iteration(s), which required', duration, 'second(s)'\n",
    "\n",
    "    \"\"\"\n",
    "    Returns the maximum change for any feature in the model.\n",
    "    \"\"\"\n",
    "    def get_maximum_change(self, pre_model, post_model):\n",
    "        best_point_difference = 0\n",
    "\n",
    "        for key, pre_point in pre_model.iteritems():\n",
    "            post_point = post_model[key]\n",
    "\n",
    "            point_difference = numpy.array(pre_point) - numpy.array(post_point)\n",
    "            max_point_difference = max(numpy.abs(point_difference))\n",
    "\n",
    "            if max_point_difference > best_point_difference:\n",
    "                best_point_difference = max_point_difference\n",
    "\n",
    "        return best_point_difference"
   ]
  },
  {
   "cell_type": "markdown",
   "metadata": {},
   "source": [
    "## Create HW6.5 driver"
   ]
  },
  {
   "cell_type": "code",
   "execution_count": null,
   "metadata": {
    "collapsed": true
   },
   "outputs": [],
   "source": [
    "import sys\n",
    "import numpy\n",
    "\n",
    "from ConvergingModelDriver import ConvergingModelDriver\n",
    "from WeightedOrdinaryLeastSquaresJob import WeightedOrdinaryLeastSquaresJob\n",
    "\n",
    "class WeightedOrdinaryLeastSquaresDriver(ConvergingModelDriver):\n",
    "\n",
    "    def __init__(self, input_file):\n",
    "        ConvergingModelDriver.__init__(self, 'wols_model.txt', input_file)\n",
    "\n",
    "    \"\"\"\n",
    "    For reproducibility, we'll start at (0,0)\n",
    "    \"\"\"\n",
    "    def get_initial_model(self):\n",
    "        print '{:10s}{:>10s}{:>10s}'.format('Iteration', 'Intercept', 'Slope')\n",
    "        print '-------------------------------'\n",
    "\n",
    "        return {\n",
    "            0: [0.0],\n",
    "            1: [0.0]\n",
    "        }\n",
    "\n",
    "    \"\"\"\n",
    "    Return a job with a maximum weight set to 1000 and a learning rate set\n",
    "    to 2 * 10^-7\n",
    "    \"\"\"\n",
    "    def get_job(self, iteration_args):\n",
    "        learning_factor = 1.0 / (1000.0 * 1000.0 * 20)\n",
    "\n",
    "        extra_args = [\n",
    "            '--learning-factor=' + str(learning_factor)\n",
    "        ]\n",
    "\n",
    "        jobs_args = iteration_args + extra_args\n",
    "        return WeightedOrdinaryLeastSquaresJob(args = jobs_args)\n",
    "\n",
    "    \"\"\"\n",
    "    Logs the model.\n",
    "    \"\"\"\n",
    "    def log_iteration(self, iteration, model, maximum_change):\n",
    "        print '{:<10d}{:>10.4f}{:>10.4f}'.format(iteration, model[0][0], model[1][0])\n",
    "\n",
    "if __name__ == '__main__' and sys.argv[0].find('ipykernel') == -1:\n",
    "    driver = WeightedOrdinaryLeastSquaresDriver('LinearRegression.csv')\n",
    "    driver.run(sys.argv[1], sys.argv[2], float(sys.argv[3]))"
   ]
  },
  {
   "cell_type": "markdown",
   "metadata": {},
   "source": [
    "## Run HW6.5 job"
   ]
  },
  {
   "cell_type": "code",
   "execution_count": null,
   "metadata": {
    "collapsed": false
   },
   "outputs": [
    {
     "name": "stdout",
     "output_type": "stream",
     "text": [
      "Iteration  Intercept     Slope\n",
      "-------------------------------\n",
      "0             0.0000    0.0000\n",
      "1            -0.6714    0.1001\n",
      "2            -1.2306    0.1902\n",
      "3            -1.6964    0.2713\n",
      "4            -2.0842    0.3442\n",
      "5            -2.4073    0.4098\n",
      "6            -2.6763    0.4689\n",
      "7            -2.9004    0.5220\n",
      "8            -3.0870    0.5698\n",
      "9            -3.2424    0.6129\n",
      "10           -3.3719    0.6516\n",
      "11           -3.4797    0.6865\n",
      "12           -3.5695    0.7178\n",
      "13           -3.6442    0.7460\n",
      "14           -3.7065    0.7714\n",
      "15           -3.7584    0.7943\n",
      "16           -3.8016    0.8149\n",
      "17           -3.8375    0.8334\n",
      "18           -3.8675    0.8500\n",
      "19           -3.8924    0.8650\n",
      "20           -3.9132    0.8785\n",
      "21           -3.9305    0.8907\n",
      "22           -3.9449    0.9016\n",
      "23           -3.9569    0.9114\n",
      "24           -3.9669    0.9203\n",
      "25           -3.9753    0.9282\n",
      "26           -3.9822    0.9354\n",
      "27           -3.9880    0.9419\n",
      "28           -3.9928    0.9477\n",
      "29           -3.9968    0.9529\n",
      "30           -4.0001    0.9576\n",
      "31           -4.0029    0.9618\n",
      "32           -4.0052    0.9657\n",
      "33           -4.0071    0.9691\n",
      "34           -4.0087    0.9722\n",
      "35           -4.0101    0.9749\n",
      "36           -4.0112    0.9774\n",
      "37           -4.0121    0.9797\n",
      "38           -4.0129    0.9817\n",
      "39           -4.0135    0.9835\n",
      "40           -4.0141    0.9852\n",
      "41           -4.0145    0.9867\n",
      "42           -4.0149    0.9880\n",
      "43           -4.0152    0.9892\n",
      "44           -4.0154    0.9903\n",
      "45           -4.0157    0.9912\n",
      "Converged in 45 iteration(s), which required 423.192610979 second(s)\n"
     ]
    }
   ],
   "source": [
    "!python WeightedOrdinaryLeastSquaresDriver.py local mrjob_65_output 0.001 2> /dev/null"
   ]
  },
  {
   "cell_type": "markdown",
   "metadata": {},
   "source": [
    "# HW 6.5a"
   ]
  },
  {
   "cell_type": "markdown",
   "metadata": {},
   "source": [
    "> Sample 1% of the data in MapReduce."
   ]
  },
  {
   "cell_type": "markdown",
   "metadata": {},
   "source": [
    "## Create a job to sample data"
   ]
  },
  {
   "cell_type": "code",
   "execution_count": null,
   "metadata": {
    "collapsed": false
   },
   "outputs": [],
   "source": [
    "import random\n",
    "import sys\n",
    "\n",
    "from mrjob.job import MRJob\n",
    "from mrjob.protocol import RawValueProtocol\n",
    "\n",
    "class RandomSampleJob(MRJob):\n",
    "\n",
    "    OUTPUT_PROTOCOL = RawValueProtocol\n",
    "\n",
    "    \"\"\"\n",
    "    Load the sampling factor.\n",
    "    \"\"\"\n",
    "    def configure_options(self):\n",
    "        super(RandomSampleJob, self).configure_options()\n",
    "\n",
    "        self.add_passthrough_option(\n",
    "            '--sampling-factor', type = 'float', default = 0.01)\n",
    "\n",
    "    \"\"\"\n",
    "    Yield the line with the sampling probability.\n",
    "    \"\"\"\n",
    "    def mapper(self, _, line):\n",
    "        if random.random() <= self.options.sampling_factor:\n",
    "            yield None, line\n",
    "\n",
    "if __name__ == '__main__' and sys.argv[0].find('ipykernel') == -1:\n",
    "    RandomSampleJob().run()"
   ]
  },
  {
   "cell_type": "markdown",
   "metadata": {},
   "source": [
    "## Run the sampling job"
   ]
  },
  {
   "cell_type": "code",
   "execution_count": null,
   "metadata": {
    "collapsed": false
   },
   "outputs": [],
   "source": [
    "!rm -rf mrjob_65a_output\n",
    "!python RandomSampleJob.py -r local \\\n",
    "    --strict-protocols \\\n",
    "    --sampling-factor=0.01 \\\n",
    "    --output-dir=mrjob_65a_output \\\n",
    "    LinearRegression.csv \\\n",
    "    --no-output \\\n",
    "    > /dev/null 2>&1"
   ]
  },
  {
   "cell_type": "code",
   "execution_count": null,
   "metadata": {
    "collapsed": false
   },
   "outputs": [
    {
     "name": "stdout",
     "output_type": "stream",
     "text": [
      "10025 LinearRegression.sample.csv\r\n"
     ]
    }
   ],
   "source": [
    "!cat mrjob_65a_output/* > LinearRegression.sample.csv\n",
    "!wc -l LinearRegression.sample.csv"
   ]
  },
  {
   "cell_type": "markdown",
   "metadata": {},
   "source": [
    "## Check HW6.5 against scikit-learn"
   ]
  },
  {
   "cell_type": "markdown",
   "metadata": {},
   "source": [
    "> Use the sampled dataset to train a (weighted if available in SciKit-Learn) linear regression model locally using  SciKit-Learn (http://scikit-learn.org/stable/modules/generated/sklearn.linear_model.LinearRegression.html)"
   ]
  },
  {
   "cell_type": "code",
   "execution_count": null,
   "metadata": {
    "collapsed": false
   },
   "outputs": [
    {
     "data": {
      "text/html": [
       "<div>\n",
       "<table border=\"1\" class=\"dataframe\">\n",
       "  <thead>\n",
       "    <tr style=\"text-align: right;\">\n",
       "      <th></th>\n",
       "      <th>Intercept</th>\n",
       "      <th>Slope</th>\n",
       "    </tr>\n",
       "  </thead>\n",
       "  <tbody>\n",
       "    <tr>\n",
       "      <th>True Function</th>\n",
       "      <td>-4.000000</td>\n",
       "      <td>1.000000</td>\n",
       "    </tr>\n",
       "    <tr>\n",
       "      <th>SKLearn Estimate</th>\n",
       "      <td>-4.034818</td>\n",
       "      <td>0.999240</td>\n",
       "    </tr>\n",
       "    <tr>\n",
       "      <th>MRJob Estimate</th>\n",
       "      <td>-4.015442</td>\n",
       "      <td>0.990267</td>\n",
       "    </tr>\n",
       "  </tbody>\n",
       "</table>\n",
       "</div>"
      ],
      "text/plain": [
       "                  Intercept     Slope\n",
       "True Function     -4.000000  1.000000\n",
       "SKLearn Estimate  -4.034818  0.999240\n",
       "MRJob Estimate    -4.015442  0.990267"
      ]
     },
     "execution_count": null,
     "metadata": {},
     "output_type": "execute_result"
    }
   ],
   "source": [
    "import numpy\n",
    "import pandas\n",
    "from sklearn.linear_model import LinearRegression\n",
    "\n",
    "# Load the model using numpy\n",
    "\n",
    "y_sample, x_sample, weight_sample = numpy.loadtxt('LinearRegression.sample.csv', delimiter = ',').T\n",
    "\n",
    "lr = LinearRegression()\n",
    "lr.fit(x_sample.reshape(-1, 1), y_sample, weight_sample)\n",
    "\n",
    "mrjob = WeightedOrdinaryLeastSquaresJob()\n",
    "mrjob.load_model()\n",
    "\n",
    "true_coefs = [-4.0, 1.0]\n",
    "lr_coefs = [lr.intercept_, lr.coef_[0]]\n",
    "mrjob_coefs = mrjob.coef\n",
    "\n",
    "pandas.DataFrame(\n",
    "    [true_coefs, lr_coefs, mrjob_coefs],\n",
    "    index = ['True Function', 'SKLearn Estimate', 'MRJob Estimate'],\n",
    "    columns = ['Intercept', 'Slope'])"
   ]
  },
  {
   "cell_type": "markdown",
   "metadata": {},
   "source": [
    "## Plot 6.5 model"
   ]
  },
  {
   "cell_type": "markdown",
   "metadata": {},
   "source": [
    "> Plot the resulting weighted linear regression model versus the original model that you used to generate the data."
   ]
  },
  {
   "cell_type": "code",
   "execution_count": null,
   "metadata": {
    "collapsed": false
   },
   "outputs": [
    {
     "data": {
      "image/png": "[encoded data removed]",
      "text/plain": []
     },
     "metadata": {},
     "output_type": "display_data"
    }
   ],
   "source": [
    "def plot_65():\n",
    "    xStep = np.arange(-4, 4, 0.1)\n",
    "    y_True = -4 + xStep\n",
    "    y_MRJob = mrjob_coefs[0] + mrjob_coefs[1] * xStep\n",
    "    y_SKLearn = lr_coefs[0] + lr_coefs[1] * xStep\n",
    "\n",
    "    plt.figure(figsize=(12,8))\n",
    "    plt.grid(True)\n",
    "    plt.axhline(0, color='grey')\n",
    "    plt.axvline(0, color='grey')\n",
    "    plt.scatter(x_sample, y_sample, marker='o', color='grey', alpha=0.02, label='Observations')\n",
    "    trueFunction = plt.plot(xStep, y_True, color='black', ls='dashed', label='True Function')\n",
    "    MRJobFunction = plt.plot(xStep, y_MRJob, color='deepskyblue', label='MRJob Estimate')\n",
    "    SKLearnFunction = plt.plot(xStep, y_SKLearn, color='darkmagenta', label='SKLearn Estimate')\n",
    "    plt.title('Estimated WOLS, true functions and sample of underlying data')\n",
    "    plt.xlabel('x')\n",
    "    plt.ylabel('y')\n",
    "    plt.legend(loc='upper left')\n",
    "\n",
    "plot_65()"
   ]
  },
  {
   "cell_type": "markdown",
   "metadata": {},
   "source": [
    "> Comment on your findings."
   ]
  },
  {
   "cell_type": "markdown",
   "metadata": {},
   "source": [
    "Visually, all the estimates are very similar to each other (the lines are barely distinguishable). We see more of a difference when we look at the table of values where `scikit-learn` has a better estimate of the slope while the MapReduce implementation has a better estimate of the intercept term."
   ]
  },
  {
   "cell_type": "markdown",
   "metadata": {},
   "source": [
    "# HW 6.5.1 (Optional)"
   ]
  },
  {
   "cell_type": "markdown",
   "metadata": {},
   "source": [
    "> Using MRJob and in Python, plot the error surface for the weighted linear regression model using a heatmap and contour plot. Also plot the current model in the original domain space.  (Plot them side by side if possible)"
   ]
  },
  {
   "cell_type": "code",
   "execution_count": null,
   "metadata": {
    "collapsed": true
   },
   "outputs": [],
   "source": []
  },
  {
   "cell_type": "markdown",
   "metadata": {},
   "source": [
    "> Plot the path to convergence (during training) for the weighted linear regression model in plot error space and in the original domain space. Make sure to label your plots with iteration numbers, function, model space versus original domain space, etc."
   ]
  },
  {
   "cell_type": "code",
   "execution_count": null,
   "metadata": {
    "collapsed": true
   },
   "outputs": [],
   "source": []
  },
  {
   "cell_type": "markdown",
   "metadata": {},
   "source": [
    "> Comment on convergence and on the mean squared error using your weighted OLS algorithm on the weighted dataset versus using the weighted OLS algorithm on the uniformly weighted dataset."
   ]
  },
  {
   "cell_type": "markdown",
   "metadata": {},
   "source": []
  },
  {
   "cell_type": "markdown",
   "metadata": {},
   "source": [
    "# HW 6.6 Clean up notebook for GMM via EM"
   ]
  },
  {
   "cell_type": "markdown",
   "metadata": {},
   "source": [
    "> Using the following notebook as a starting point:\n",
    "\n",
    "> http://nbviewer.jupyter.org/urls/dl.dropbox.com/s/0t7985e40fovlkw/EM-GMM-MapReduce%20Design%201.ipynb\n",
    "\n",
    "> Improve this notebook as follows:\n",
    "> - Add in equations into the notebook (not images of equations)\n",
    "> - Number the equations\n",
    "> - Make sure the equation notation matches the code and the code and comments refer to the equations numbers\n",
    "> - Comment the code\n",
    "> - Rename/Reorganize the code to make it more readable\n",
    "> - Rerun the examples similar graphics (or possibly better graphics)"
   ]
  },
  {
   "cell_type": "markdown",
   "metadata": {},
   "source": [
    "Standalone notebook located here: [MIDS-W261-2016-HWK-Week06-Seltzer_GMMviaEM.ipynb](http://nbviewer.jupyter.org/github/mseltz/W261-Fall2016/blob/master/Week06/MIDS-W261-2016-HWK-Week06-Seltzer_GMMviaEM.ipynb)"
   ]
  },
  {
   "cell_type": "markdown",
   "metadata": {},
   "source": [
    "# HW 6.7 Implement Bernoulli Mixture Model via EM"
   ]
  },
  {
   "cell_type": "markdown",
   "metadata": {},
   "source": [
    "## BMM Equation Review"
   ]
  },
  {
   "cell_type": "markdown",
   "metadata": {},
   "source": [
    "Let $t_i$ denote the $i$-th term from our vocabulary consisting of $N$ terms. Let $\\omega_k$ denote the set of documents that are members of the $k$-th cluster (or class) of documents, with there being $K$ total clusters in all. Let $\\pi_k$ denote the prior probability that any given document is a member of $\\omega_k$ (i.e., the current proportion of all documents that are in $\\omega_k$).\n",
    "\n",
    "Let $d$ denote a document, and let the vector $\\mathbf{x}$ be a description of terms in $d$. Let $x_i = 1$ when $t_i \\in d$, and $x_i = 0$ when $t_i \\notin d$. Let $\\mu_{ik} = P(x_i = 1 \\mid \\omega_k)$ be the probability that a document from cluster (or class) $\\omega_k$ contains $t_i$.\n",
    "\n",
    "Let $L(d \\mid \\omega_k; \\theta)$ denote the likelihood that cluster $\\omega_k$ generated document $d$. Let $P(d \\mid \\omega_k; \\theta)$ denote the probability that cluster $\\omega_k$ generated document $d$. If we combine this across all $K$ classes, we derive the following for the probability that $\\omega_k$ generated document $d$:\n",
    "\n",
    "$$\n",
    "\\begin{split}\n",
    "P(d \\mid \\omega_k; \\theta) = \\frac{L(d \\mid \\omega_k; \\theta)}{\\sum_{i=1}^K L(d \\mid \\omega_i; \\theta)}\n",
    "\\end{split}\n",
    "$$\n",
    "\n",
    "In a Bernoulli Mixture Model, the likelihood that $\\omega_k$ generated document $d$ is defined using the Bernoulli probability density function:\n",
    "\n",
    "$$L(d \\mid \\omega_k; \\theta) = \\pi_k \\prod_{i=1}^N \\mu_{ik}^{x_i} (1-\\mu_{ik})^{1-x_{i}}$$\n",
    "\n",
    "Since the number of terms in our vocabulary $N$ can be large, we use log-likelihoods to prevent underflow:\n",
    "\n",
    "$$\\log(L(d \\mid \\omega_k; \\theta)) = \\log(\\pi_k) + \\sum_{i=1}^N \\big[ x_i \\cdot \\log(\\mu_{ik}) + (1-x_i) \\cdot \\log(1-\\mu_{ik})\\big]$$"
   ]
  },
  {
   "cell_type": "markdown",
   "metadata": {},
   "source": [
    "## BMM Implementation"
   ]
  },
  {
   "cell_type": "markdown",
   "metadata": {},
   "source": [
    "> Implement the EM clustering algorithm to determine Bernoulli Mixture Model for discrete data in MRJob."
   ]
  },
  {
   "cell_type": "code",
   "execution_count": null,
   "metadata": {
    "collapsed": false
   },
   "outputs": [],
   "source": [
    "import csv\n",
    "import math\n",
    "import sys\n",
    "\n",
    "from mrjob.job import MRJob\n",
    "\n",
    "class BernoulliMixtureModelJob(MRJob):\n",
    "\n",
    "    \"\"\"\n",
    "    Load the smoothing factor.\n",
    "    \"\"\"\n",
    "    def configure_options(self):\n",
    "        super(BernoulliMixtureModelJob, self).configure_options()\n",
    "\n",
    "        self.add_passthrough_option(\n",
    "            '--smoothing-factor', type = 'float', default = 0.0001)\n",
    "\n",
    "    \"\"\"\n",
    "    Load the Bernoulli Mixture Model from the previous iteration and initialize\n",
    "    the class counts (for the priors) and the weighted feature tallies.\n",
    "    \"\"\"\n",
    "    def mapper_init(self):\n",
    "        self.load_model()\n",
    "\n",
    "        self.total_examples = 0\n",
    "        self.class_examples = []\n",
    "        self.weighted_true = []\n",
    "        self.weighted_false = []\n",
    "\n",
    "        # There is a strange pass by reference issue in initializing 2D arrays\n",
    "        # using the multiplication operator, so iterate and append 1D arrays.\n",
    "\n",
    "        for i in range(self.class_count):\n",
    "            self.class_examples.append(0.0)\n",
    "            self.weighted_true.append([0.0] * self.feature_count)\n",
    "            self.weighted_false.append([0.0] * self.feature_count)\n",
    "\n",
    "    \"\"\"\n",
    "    Compute the probability for each class and update our internal tallies of\n",
    "    how many true/false values on each feature for each class.\n",
    "    \"\"\"\n",
    "    def mapper(self, _, line):\n",
    "        features = [int(x) for x in csv.reader([line]).next()]\n",
    "\n",
    "        # First, compute the log likelihood that the feature is in any given\n",
    "        # feature class.\n",
    "\n",
    "        log_likelihoods = self.get_log_likelihoods(features)\n",
    "\n",
    "        # Identify the numerators by exponentiating all the values. Compute\n",
    "        # the denominator by adding the numerators together.\n",
    "\n",
    "        numerators = [math.exp(x) for x in log_likelihoods]\n",
    "        denominator = sum(numerators)\n",
    "        class_probabilities = [numerator / denominator for numerator in numerators]\n",
    "\n",
    "        # Compute the class probabilities so that we can tally the weighted\n",
    "        # feature occurrencies.\n",
    "\n",
    "        self.total_examples += 1\n",
    "\n",
    "        for i in range(self.class_count):\n",
    "            class_probability = class_probabilities[i]\n",
    "            self.class_examples[i] += class_probability\n",
    "\n",
    "            for j in range(self.feature_count):\n",
    "                if features[j]:\n",
    "                    self.weighted_true[i][j] += class_probability\n",
    "                else:\n",
    "                    self.weighted_false[i][j] += class_probability\n",
    "\n",
    "    \"\"\"\n",
    "    Emit the weighted probabilities.\n",
    "    \"\"\"\n",
    "    def mapper_final(self):\n",
    "        for i in range(self.class_count):\n",
    "            emit_class_id = self.class_ids[i]\n",
    "\n",
    "            class_summary = {\n",
    "                'class_examples': self.class_examples[i],\n",
    "                'total_examples': self.total_examples,\n",
    "                'weighted_true': self.weighted_true[i],\n",
    "                'weighted_false': self.weighted_false[i]\n",
    "            }\n",
    "\n",
    "            yield emit_class_id, class_summary\n",
    "\n",
    "    \"\"\"\n",
    "    Load the Bernoulli Mixture Model from the previous iteration.\n",
    "    \"\"\"\n",
    "    def reducer_init(self):\n",
    "        self.load_model()\n",
    "\n",
    "    \"\"\"\n",
    "    Combine the summaries for each class in order to compute the new priors and\n",
    "    conditional probabilities / likelihoods.\n",
    "    \"\"\"\n",
    "    def reducer(self, class_id, class_summaries):\n",
    "        class_examples = 0\n",
    "        total_examples = 0\n",
    "        total_weighted_true = [0.0] * self.feature_count\n",
    "        total_weighted_false = [0.0] * self.feature_count\n",
    "\n",
    "        # Combine the counts and weighted counts.\n",
    "\n",
    "        for class_summary in class_summaries:\n",
    "            class_examples += class_summary['class_examples']\n",
    "            total_examples += class_summary['total_examples']\n",
    "\n",
    "            for i in range(self.feature_count):\n",
    "                total_weighted_true[i] += class_summary['weighted_true'][i]\n",
    "                total_weighted_false[i] += class_summary['weighted_false'][i]\n",
    "\n",
    "        # Compute the priors and likelihoods\n",
    "\n",
    "        class_prior = float(class_examples) / total_examples\n",
    "        likelihoods = []\n",
    "\n",
    "        for weighted_true, weighted_false in zip(total_weighted_true, total_weighted_false):\n",
    "            weighted_total = (weighted_true + weighted_false)\n",
    "\n",
    "            # Account for any smoothing\n",
    "\n",
    "            weighted_true = weighted_true + self.options.smoothing_factor\n",
    "            weighted_total += self.options.smoothing_factor * self.class_count\n",
    "\n",
    "            likelihood = weighted_true / weighted_total\n",
    "            likelihoods.append(likelihood)\n",
    "\n",
    "        # Yield the priors concatenated to the likelihoods as the model for this class\n",
    "\n",
    "        yield class_id, [class_prior] + likelihoods\n",
    "\n",
    "    \"\"\"\n",
    "    Load the Bernoulli Mixture Model from the previous iteration.\n",
    "    \"\"\"\n",
    "    def load_model(self):\n",
    "        self.class_ids = []\n",
    "        self.class_priors = []\n",
    "        self.likelihoods = []\n",
    "\n",
    "        # Initialize the class IDs, the priors, and the per-class likelihoods.\n",
    "\n",
    "        with open('bmm_model.txt', 'r') as model_file:\n",
    "            for row in csv.reader(model_file):\n",
    "                class_id = row[0]\n",
    "                class_prior = float(row[1])\n",
    "                likelihoods = [float(x) for x in row[2:]]\n",
    "\n",
    "                self.class_ids.append(class_id)\n",
    "                self.class_priors.append(class_prior)\n",
    "                self.likelihoods.append(likelihoods)\n",
    "\n",
    "        # For convenience, set the class counts and feature counts.\n",
    "\n",
    "        self.class_count = len(self.class_ids)\n",
    "        self.feature_count = len(self.likelihoods[0])\n",
    "\n",
    "        # The unit test has a situation where there are variables that have not\n",
    "        # been initialized. Track that here.\n",
    "\n",
    "        self.ignore = [True for i in range(self.feature_count)]\n",
    "\n",
    "        for likelihood in self.likelihoods:\n",
    "            for j in range(self.feature_count):\n",
    "                if likelihood[j] != 0.0:\n",
    "                    self.ignore[j] = False\n",
    "\n",
    "    \"\"\"\n",
    "    Utility method to get the log likelihood for a single class.\n",
    "    \"\"\"\n",
    "    def get_log_likelihood(self, class_prior, likelihoods, binarized_features):\n",
    "\n",
    "        # If this cluster no longer has any members in it, assume that we can ignore\n",
    "        # this class altogether for our computations.\n",
    "\n",
    "        if class_prior == 0.0:\n",
    "            return float('-inf')\n",
    "\n",
    "        log_likelihood = math.log(class_prior)\n",
    "\n",
    "        for j in range(self.feature_count):\n",
    "\n",
    "            # Ignore features that we have never seen (as they do not affect our\n",
    "            # belief / probability).\n",
    "\n",
    "            if self.ignore[j]:\n",
    "                continue\n",
    "\n",
    "            # Take advantage of the fact that one of the things we're adding is zero.\n",
    "\n",
    "            likelihood = likelihoods[j] if binarized_features[j] else 1 - likelihoods[j]\n",
    "\n",
    "            # If the likelihood is somehow zero, assume that it's not possible to\n",
    "            # be in the class and return -inf\n",
    "\n",
    "            if likelihood <= 0.0:\n",
    "                return float('-inf')\n",
    "\n",
    "            log_likelihood += math.log(likelihood)\n",
    "\n",
    "        # Finished computing the log likelihood, return it!\n",
    "\n",
    "        return log_likelihood\n",
    "\n",
    "    \"\"\"\n",
    "    Utility method to get all the likelihoods for all classes\n",
    "    \"\"\"\n",
    "    def get_log_likelihoods(self, features):\n",
    "        binarized_features = [bool(x) for x in features]\n",
    "\n",
    "        log_likelihoods = []\n",
    "\n",
    "        for class_prior, likelihoods in zip(self.class_priors, self.likelihoods):\n",
    "            log_likelihood = self.get_log_likelihood(class_prior, likelihoods, binarized_features)\n",
    "            log_likelihoods.append(log_likelihood)\n",
    "\n",
    "        # If we wound up with a max likelihood of negative infinity, that means\n",
    "        # everything is zero (so everything has the same probability).\n",
    "\n",
    "        max_log_likelihood = max(log_likelihoods)\n",
    "\n",
    "        if max_log_likelihood == float('-inf'):\n",
    "            return [0 for i in range(len(log_likelihoods))]\n",
    "\n",
    "        # Shift the log likelihoods to avoid getting an underflow when we\n",
    "        # convert them to exponents. Note that everything is negative, so you\n",
    "        # will want to subtract.\n",
    "\n",
    "        shifted_log_likelihoods = [x - max_log_likelihood for x in log_likelihoods]\n",
    "\n",
    "        return shifted_log_likelihoods\n",
    "\n",
    "if __name__ == '__main__' and sys.argv[0].find('ipykernel') == -1:\n",
    "    BernoulliMixtureModelJob().run()"
   ]
  },
  {
   "cell_type": "markdown",
   "metadata": {},
   "source": [
    "# HW 6.7a Unit Test"
   ]
  },
  {
   "cell_type": "markdown",
   "metadata": {},
   "source": [
    "> As a unit test use the dataset in the following slides:\n",
    "\n",
    "> https://www.dropbox.com/s/maoj9jidxj1xf5l/MIDS-Live-Lecture-06-EM-Bernouilli-MM-Systems-Test.pdf?dl=0"
   ]
  },
  {
   "cell_type": "markdown",
   "metadata": {},
   "source": [
    "## Create IR data set"
   ]
  },
  {
   "cell_type": "code",
   "execution_count": null,
   "metadata": {
    "collapsed": true
   },
   "outputs": [],
   "source": [
    "import numpy\n",
    "from sklearn.feature_extraction.text import CountVectorizer\n",
    "\n",
    "vectorizer = CountVectorizer()\n",
    "\n",
    "documents = [\n",
    "    \"hot chocolate cocoa beans\",\n",
    "    \"cocoa ghana africa\",\n",
    "    \"beans harvest ghana\",\n",
    "    \"cocoa butter\",\n",
    "    \"butter truffles\",\n",
    "    \"sweet chocolate\",\n",
    "    \"sweet sugar\",\n",
    "    \"sugar cane brazil\",\n",
    "    \"sweet sugar beet\",\n",
    "    \"sweet cake icing\",\n",
    "    \"cake black frost\"\n",
    "]\n",
    "\n",
    "data = vectorizer.fit_transform(documents)\n",
    "\n",
    "with open('IR_input_data.csv', 'w') as output_file:\n",
    "    for row in data.toarray():\n",
    "        print >> output_file, ','.join([str(int(x)) for x in row])"
   ]
  },
  {
   "cell_type": "markdown",
   "metadata": {},
   "source": [
    "## Cross-check against IR data set"
   ]
  },
  {
   "cell_type": "markdown",
   "metadata": {},
   "source": [
    "> Cross-check that you get the same cluster assignments and cluster Bernouilli models as presented in the slides after 25 iterations. Don't forget the smoothing."
   ]
  },
  {
   "cell_type": "markdown",
   "metadata": {},
   "source": [
    "### Add single iteration"
   ]
  },
  {
   "cell_type": "code",
   "execution_count": null,
   "metadata": {
    "collapsed": true
   },
   "outputs": [],
   "source": [
    "import pandas\n",
    "\n",
    "pandas.set_option('display.float_format', lambda x: '%.3f' % x)\n",
    "\n",
    "\"\"\"\n",
    "Utility function which runs once and stores the model to model.txt\n",
    "\"\"\"\n",
    "def run_iteration(input_file):\n",
    "\n",
    "    # Clean up the original output folder and run the MRJob\n",
    "\n",
    "    !rm -rf mrjob_67a_output\n",
    "    !python BernoulliMixtureModelJob.py -r local \\\n",
    "        --strict-protocols \\\n",
    "        --file=bmm_model.txt \\\n",
    "        --output-dir=mrjob_67a_output \\\n",
    "        --no-output \\\n",
    "        $input_file \\\n",
    "        > /dev/null 2>&1\n",
    "\n",
    "    # Convert the JSON output into a CSV using the UNIX tr command\n",
    "\n",
    "    !cat mrjob_67a_output/* | tr '[' ',' | tr -d ']' | tr -d '\"' | tr -d '\\t' | tr -d ' ' > bmm_model.txt\n",
    "\n",
    "\"\"\"\n",
    "Utility function which returns the data frame corresponding to the model,\n",
    "selecting only those columns which appear in the IR text.\n",
    "\"\"\"\n",
    "def check_ir_model():\n",
    "    header_names = ['priors'] + vectorizer.get_feature_names()\n",
    "    df = pandas.read_csv('bmm_model.txt', header = None, names = header_names)\n",
    "\n",
    "    return df[['priors', 'africa', 'brazil', 'cocoa', 'sugar', 'sweet']]"
   ]
  },
  {
   "cell_type": "markdown",
   "metadata": {},
   "source": [
    "### Cross-check first iteration"
   ]
  },
  {
   "cell_type": "markdown",
   "metadata": {},
   "source": [
    "The first iteration is special in that it only has lines 6 and 7 from the input."
   ]
  },
  {
   "cell_type": "code",
   "execution_count": null,
   "metadata": {
    "collapsed": false
   },
   "outputs": [
    {
     "name": "stdout",
     "output_type": "stream",
     "text": [
      "0,0,0,0,0,0,0,0,1,0,0,0,0,0,0,0,1,0\r\n",
      "0,0,0,0,0,0,0,0,0,0,0,0,0,0,0,1,1,0\r\n"
     ]
    }
   ],
   "source": [
    "!sed -n '6,7p' IR_input_data.csv | tee IR_input_data_iter1.csv"
   ]
  },
  {
   "cell_type": "markdown",
   "metadata": {},
   "source": [
    "We can use these values for the $\\mu_{ik}$ used in the initial iterations of our initial model."
   ]
  },
  {
   "cell_type": "code",
   "execution_count": null,
   "metadata": {
    "collapsed": false
   },
   "outputs": [
    {
     "name": "stdout",
     "output_type": "stream",
     "text": [
      "Overwriting bmm_model.txt\n"
     ]
    }
   ],
   "source": [
    "%%writefile bmm_model.txt\n",
    "Class1,0.5,0,0,0,0,0,0,0,0,1,0,0,0,0,0,0,0,1,0\n",
    "Class2,0.5,0,0,0,0,0,0,0,0,0,0,0,0,0,0,0,1,1,0"
   ]
  },
  {
   "cell_type": "markdown",
   "metadata": {},
   "source": [
    "While this is not what the Information Retrieval text does, all the code is greatly simplified if the first iteration generates a new model with the smoothing factor applied."
   ]
  },
  {
   "cell_type": "code",
   "execution_count": null,
   "metadata": {
    "collapsed": false
   },
   "outputs": [
    {
     "name": "stdout",
     "output_type": "stream",
     "text": [
      "Iteration 1\n"
     ]
    },
    {
     "data": {
      "text/html": [
       "<div>\n",
       "<table border=\"1\" class=\"dataframe\">\n",
       "  <thead>\n",
       "    <tr style=\"text-align: right;\">\n",
       "      <th></th>\n",
       "      <th>priors</th>\n",
       "      <th>africa</th>\n",
       "      <th>brazil</th>\n",
       "      <th>cocoa</th>\n",
       "      <th>sugar</th>\n",
       "      <th>sweet</th>\n",
       "    </tr>\n",
       "  </thead>\n",
       "  <tbody>\n",
       "    <tr>\n",
       "      <th>Class1</th>\n",
       "      <td>0.500</td>\n",
       "      <td>0.000</td>\n",
       "      <td>0.000</td>\n",
       "      <td>0.000</td>\n",
       "      <td>0.000</td>\n",
       "      <td>1.000</td>\n",
       "    </tr>\n",
       "    <tr>\n",
       "      <th>Class2</th>\n",
       "      <td>0.500</td>\n",
       "      <td>0.000</td>\n",
       "      <td>0.000</td>\n",
       "      <td>0.000</td>\n",
       "      <td>1.000</td>\n",
       "      <td>1.000</td>\n",
       "    </tr>\n",
       "  </tbody>\n",
       "</table>\n",
       "</div>"
      ],
      "text/plain": [
       "        priors  africa  brazil  cocoa  sugar  sweet\n",
       "Class1   0.500   0.000   0.000  0.000  0.000  1.000\n",
       "Class2   0.500   0.000   0.000  0.000  1.000  1.000"
      ]
     },
     "execution_count": null,
     "metadata": {},
     "output_type": "execute_result"
    }
   ],
   "source": [
    "run_iteration('IR_input_data_iter1.csv')\n",
    "print 'Iteration 1'\n",
    "check_ir_model()"
   ]
  },
  {
   "cell_type": "markdown",
   "metadata": {},
   "source": [
    "### Cross check later iterations"
   ]
  },
  {
   "cell_type": "code",
   "execution_count": null,
   "metadata": {
    "collapsed": false
   },
   "outputs": [
    {
     "name": "stdout",
     "output_type": "stream",
     "text": [
      "Iteration 2\n"
     ]
    },
    {
     "data": {
      "text/html": [
       "<div>\n",
       "<table border=\"1\" class=\"dataframe\">\n",
       "  <thead>\n",
       "    <tr style=\"text-align: right;\">\n",
       "      <th></th>\n",
       "      <th>priors</th>\n",
       "      <th>africa</th>\n",
       "      <th>brazil</th>\n",
       "      <th>cocoa</th>\n",
       "      <th>sugar</th>\n",
       "      <th>sweet</th>\n",
       "    </tr>\n",
       "  </thead>\n",
       "  <tbody>\n",
       "    <tr>\n",
       "      <th>Class1</th>\n",
       "      <td>0.455</td>\n",
       "      <td>0.100</td>\n",
       "      <td>0.000</td>\n",
       "      <td>0.400</td>\n",
       "      <td>0.000</td>\n",
       "      <td>0.300</td>\n",
       "    </tr>\n",
       "    <tr>\n",
       "      <th>Class2</th>\n",
       "      <td>0.545</td>\n",
       "      <td>0.083</td>\n",
       "      <td>0.167</td>\n",
       "      <td>0.167</td>\n",
       "      <td>0.500</td>\n",
       "      <td>0.417</td>\n",
       "    </tr>\n",
       "  </tbody>\n",
       "</table>\n",
       "</div>"
      ],
      "text/plain": [
       "        priors  africa  brazil  cocoa  sugar  sweet\n",
       "Class1   0.455   0.100   0.000  0.400  0.000  0.300\n",
       "Class2   0.545   0.083   0.167  0.167  0.500  0.417"
      ]
     },
     "metadata": {},
     "output_type": "display_data"
    },
    {
     "name": "stdout",
     "output_type": "stream",
     "text": [
      "Iteration 3\n"
     ]
    },
    {
     "data": {
      "text/html": [
       "<div>\n",
       "<table border=\"1\" class=\"dataframe\">\n",
       "  <thead>\n",
       "    <tr style=\"text-align: right;\">\n",
       "      <th></th>\n",
       "      <th>priors</th>\n",
       "      <th>africa</th>\n",
       "      <th>brazil</th>\n",
       "      <th>cocoa</th>\n",
       "      <th>sugar</th>\n",
       "      <th>sweet</th>\n",
       "    </tr>\n",
       "  </thead>\n",
       "  <tbody>\n",
       "    <tr>\n",
       "      <th>Class1</th>\n",
       "      <td>0.534</td>\n",
       "      <td>0.134</td>\n",
       "      <td>0.000</td>\n",
       "      <td>0.432</td>\n",
       "      <td>0.000</td>\n",
       "      <td>0.238</td>\n",
       "    </tr>\n",
       "    <tr>\n",
       "      <th>Class2</th>\n",
       "      <td>0.466</td>\n",
       "      <td>0.042</td>\n",
       "      <td>0.195</td>\n",
       "      <td>0.090</td>\n",
       "      <td>0.585</td>\n",
       "      <td>0.507</td>\n",
       "    </tr>\n",
       "  </tbody>\n",
       "</table>\n",
       "</div>"
      ],
      "text/plain": [
       "        priors  africa  brazil  cocoa  sugar  sweet\n",
       "Class1   0.534   0.134   0.000  0.432  0.000  0.238\n",
       "Class2   0.466   0.042   0.195  0.090  0.585  0.507"
      ]
     },
     "metadata": {},
     "output_type": "display_data"
    },
    {
     "name": "stdout",
     "output_type": "stream",
     "text": [
      "Iteration 4\n"
     ]
    },
    {
     "data": {
      "text/html": [
       "<div>\n",
       "<table border=\"1\" class=\"dataframe\">\n",
       "  <thead>\n",
       "    <tr style=\"text-align: right;\">\n",
       "      <th></th>\n",
       "      <th>priors</th>\n",
       "      <th>africa</th>\n",
       "      <th>brazil</th>\n",
       "      <th>cocoa</th>\n",
       "      <th>sugar</th>\n",
       "      <th>sweet</th>\n",
       "    </tr>\n",
       "  </thead>\n",
       "  <tbody>\n",
       "    <tr>\n",
       "      <th>Class1</th>\n",
       "      <td>0.574</td>\n",
       "      <td>0.158</td>\n",
       "      <td>0.000</td>\n",
       "      <td>0.465</td>\n",
       "      <td>0.000</td>\n",
       "      <td>0.180</td>\n",
       "    </tr>\n",
       "    <tr>\n",
       "      <th>Class2</th>\n",
       "      <td>0.426</td>\n",
       "      <td>0.001</td>\n",
       "      <td>0.213</td>\n",
       "      <td>0.014</td>\n",
       "      <td>0.640</td>\n",
       "      <td>0.610</td>\n",
       "    </tr>\n",
       "  </tbody>\n",
       "</table>\n",
       "</div>"
      ],
      "text/plain": [
       "        priors  africa  brazil  cocoa  sugar  sweet\n",
       "Class1   0.574   0.158   0.000  0.465  0.000  0.180\n",
       "Class2   0.426   0.001   0.213  0.014  0.640  0.610"
      ]
     },
     "metadata": {},
     "output_type": "display_data"
    },
    {
     "name": "stdout",
     "output_type": "stream",
     "text": [
      "Iteration 5\n"
     ]
    },
    {
     "data": {
      "text/html": [
       "<div>\n",
       "<table border=\"1\" class=\"dataframe\">\n",
       "  <thead>\n",
       "    <tr style=\"text-align: right;\">\n",
       "      <th></th>\n",
       "      <th>priors</th>\n",
       "      <th>africa</th>\n",
       "      <th>brazil</th>\n",
       "      <th>cocoa</th>\n",
       "      <th>sugar</th>\n",
       "      <th>sweet</th>\n",
       "    </tr>\n",
       "  </thead>\n",
       "  <tbody>\n",
       "    <tr>\n",
       "      <th>Class1</th>\n",
       "      <td>0.575</td>\n",
       "      <td>0.158</td>\n",
       "      <td>0.000</td>\n",
       "      <td>0.474</td>\n",
       "      <td>0.000</td>\n",
       "      <td>0.159</td>\n",
       "    </tr>\n",
       "    <tr>\n",
       "      <th>Class2</th>\n",
       "      <td>0.425</td>\n",
       "      <td>0.000</td>\n",
       "      <td>0.214</td>\n",
       "      <td>0.001</td>\n",
       "      <td>0.642</td>\n",
       "      <td>0.640</td>\n",
       "    </tr>\n",
       "  </tbody>\n",
       "</table>\n",
       "</div>"
      ],
      "text/plain": [
       "        priors  africa  brazil  cocoa  sugar  sweet\n",
       "Class1   0.575   0.158   0.000  0.474  0.000  0.159\n",
       "Class2   0.425   0.000   0.214  0.001  0.642  0.640"
      ]
     },
     "metadata": {},
     "output_type": "display_data"
    },
    {
     "name": "stdout",
     "output_type": "stream",
     "text": [
      "Iteration 15\n"
     ]
    },
    {
     "data": {
      "text/html": [
       "<div>\n",
       "<table border=\"1\" class=\"dataframe\">\n",
       "  <thead>\n",
       "    <tr style=\"text-align: right;\">\n",
       "      <th></th>\n",
       "      <th>priors</th>\n",
       "      <th>africa</th>\n",
       "      <th>brazil</th>\n",
       "      <th>cocoa</th>\n",
       "      <th>sugar</th>\n",
       "      <th>sweet</th>\n",
       "    </tr>\n",
       "  </thead>\n",
       "  <tbody>\n",
       "    <tr>\n",
       "      <th>Class1</th>\n",
       "      <td>0.537</td>\n",
       "      <td>0.169</td>\n",
       "      <td>0.000</td>\n",
       "      <td>0.508</td>\n",
       "      <td>0.000</td>\n",
       "      <td>0.153</td>\n",
       "    </tr>\n",
       "    <tr>\n",
       "      <th>Class2</th>\n",
       "      <td>0.463</td>\n",
       "      <td>0.000</td>\n",
       "      <td>0.196</td>\n",
       "      <td>0.000</td>\n",
       "      <td>0.589</td>\n",
       "      <td>0.608</td>\n",
       "    </tr>\n",
       "  </tbody>\n",
       "</table>\n",
       "</div>"
      ],
      "text/plain": [
       "        priors  africa  brazil  cocoa  sugar  sweet\n",
       "Class1   0.537   0.169   0.000  0.508  0.000  0.153\n",
       "Class2   0.463   0.000   0.196  0.000  0.589  0.608"
      ]
     },
     "metadata": {},
     "output_type": "display_data"
    },
    {
     "name": "stdout",
     "output_type": "stream",
     "text": [
      "Iteration 25\n"
     ]
    },
    {
     "data": {
      "text/html": [
       "<div>\n",
       "<table border=\"1\" class=\"dataframe\">\n",
       "  <thead>\n",
       "    <tr style=\"text-align: right;\">\n",
       "      <th></th>\n",
       "      <th>priors</th>\n",
       "      <th>africa</th>\n",
       "      <th>brazil</th>\n",
       "      <th>cocoa</th>\n",
       "      <th>sugar</th>\n",
       "      <th>sweet</th>\n",
       "    </tr>\n",
       "  </thead>\n",
       "  <tbody>\n",
       "    <tr>\n",
       "      <th>Class1</th>\n",
       "      <td>0.455</td>\n",
       "      <td>0.200</td>\n",
       "      <td>0.000</td>\n",
       "      <td>0.600</td>\n",
       "      <td>0.000</td>\n",
       "      <td>0.000</td>\n",
       "    </tr>\n",
       "    <tr>\n",
       "      <th>Class2</th>\n",
       "      <td>0.545</td>\n",
       "      <td>0.000</td>\n",
       "      <td>0.167</td>\n",
       "      <td>0.000</td>\n",
       "      <td>0.500</td>\n",
       "      <td>0.667</td>\n",
       "    </tr>\n",
       "  </tbody>\n",
       "</table>\n",
       "</div>"
      ],
      "text/plain": [
       "        priors  africa  brazil  cocoa  sugar  sweet\n",
       "Class1   0.455   0.200   0.000  0.600  0.000  0.000\n",
       "Class2   0.545   0.000   0.167  0.000  0.500  0.667"
      ]
     },
     "metadata": {},
     "output_type": "display_data"
    }
   ],
   "source": [
    "from IPython.display import display\n",
    "\n",
    "for i in range(1, 25):\n",
    "    run_iteration('IR_input_data.csv')\n",
    "\n",
    "    if (i + 1) in [2, 3, 4, 5, 15, 25]:\n",
    "        print 'Iteration', i + 1\n",
    "        display(check_ir_model())"
   ]
  },
  {
   "cell_type": "markdown",
   "metadata": {},
   "source": [
    "Move the model so that it does not get mistaken in future iterations."
   ]
  },
  {
   "cell_type": "code",
   "execution_count": null,
   "metadata": {
    "collapsed": true
   },
   "outputs": [],
   "source": [
    "!mv bmm_model.txt ir_model.txt"
   ]
  },
  {
   "cell_type": "markdown",
   "metadata": {},
   "source": [
    "# HW 6.7b Tweet Dataset"
   ]
  },
  {
   "cell_type": "markdown",
   "metadata": {},
   "source": [
    "> As a test: use the same dataset from HW 4.5, the Tweet Dataset.\n",
    "Using this data, you will implement a 1000-dimensional EM-based Bernoulli Mixture Model  algorithm in MrJob on the users by their 1000-dimensional word stripes/vectors using K = 4."
   ]
  },
  {
   "cell_type": "markdown",
   "metadata": {},
   "source": [
    "## Create HW6.7b driver"
   ]
  },
  {
   "cell_type": "code",
   "execution_count": null,
   "metadata": {
    "collapsed": false
   },
   "outputs": [],
   "source": [
    "import sys\n",
    "import numpy\n",
    "\n",
    "from ConvergingModelDriver import ConvergingModelDriver\n",
    "from BernoulliMixtureModelJob import BernoulliMixtureModelJob\n",
    "\n",
    "class BernoulliMixtureModelDriver(ConvergingModelDriver):\n",
    "\n",
    "    def __init__(self, input_file, k):\n",
    "        ConvergingModelDriver.__init__(self, 'bmm_model.txt', input_file)\n",
    "\n",
    "        self.k = k\n",
    "\n",
    "    \"\"\"\n",
    "    For reproducibility, we'll start at everything evenly spaced at values\n",
    "    that are not too extreme (between 1/4 and 3/4)\n",
    "    \"\"\"\n",
    "    def get_initial_model(self):\n",
    "        self.class_ids = ['Cluster' + str(i + 1) for i in range(self.k)]\n",
    "\n",
    "        string_format = '{:10s}' + ''.join(['{:>10s}' for i in range(self.k)])\n",
    "        string_values = ['Iteration'] + self.class_ids\n",
    "\n",
    "        print string_format.format(*string_values)\n",
    "        print '-' * (10 * (self.k + 1))\n",
    "\n",
    "        initial_model = {}\n",
    "        priors = [1.0 / self.k] * self.k\n",
    "\n",
    "        for class_id, prior in zip(self.class_ids, priors):\n",
    "            initial_model[class_id] = [prior]\n",
    "            initial_model[class_id].extend(numpy.random.random(1000))\n",
    "\n",
    "        return initial_model\n",
    "\n",
    "    \"\"\"\n",
    "    Return the job with a smoothing factor argument.\n",
    "    \"\"\"\n",
    "    def get_job(self, iteration_args):\n",
    "        smoothing_factor = 0.0001\n",
    "\n",
    "        extra_args = ['--smoothing-factor=' + str(smoothing_factor)]\n",
    "        job_args = iteration_args + extra_args\n",
    "\n",
    "        return BernoulliMixtureModelJob(args = job_args)\n",
    "\n",
    "    \"\"\"\n",
    "    Logs the model.\n",
    "    \"\"\"\n",
    "    def log_iteration(self, iteration, model, maximum_change):\n",
    "        class_priors = [model[class_id][0] for class_id in self.class_ids]\n",
    "\n",
    "        string_format = '{:10d}' + ''.join(['{:>10.4f}' for i in range(self.k)])\n",
    "        string_values = [iteration] + class_priors\n",
    "\n",
    "        print string_format.format(*string_values)\n",
    "\n",
    "if __name__ == '__main__' and sys.argv[0].find('ipykernel') == -1:\n",
    "    driver = BernoulliMixtureModelDriver(sys.argv[2], int(4))\n",
    "    driver.run(sys.argv[1], sys.argv[3], float(sys.argv[4]))"
   ]
  },
  {
   "cell_type": "markdown",
   "metadata": {},
   "source": [
    "## Download HW4.5 data"
   ]
  },
  {
   "cell_type": "code",
   "execution_count": null,
   "metadata": {
    "collapsed": true
   },
   "outputs": [],
   "source": [
    "import os\n",
    "\n",
    "if not os.path.isfile('topUsers_features.txt'):\n",
    "    !wget --quiet https://www.dropbox.com/sh/5bex8l871t0bg3a/AAChDHmBbudx6E807bx5f_m0a/topUsers_Apr-Jul_2014_1000-words.txt\n",
    "    !cut -d',' -f 4- topUsers_Apr-Jul_2014_1000-words.txt > topUsers_features.txt"
   ]
  },
  {
   "cell_type": "markdown",
   "metadata": {},
   "source": [
    "## Run HW6.7b job"
   ]
  },
  {
   "cell_type": "code",
   "execution_count": null,
   "metadata": {
    "collapsed": false
   },
   "outputs": [
    {
     "name": "stdout",
     "output_type": "stream",
     "text": [
      "Iteration   Cluster1  Cluster2  Cluster3  Cluster4\n",
      "--------------------------------------------------\n",
      "         0    0.2500    0.2500    0.2500    0.2500\n",
      "         1    0.1023    0.0174    0.8633    0.0170\n",
      "         2    0.0413    0.0687    0.8770    0.0130\n",
      "         3    0.0380    0.0740    0.8760    0.0120\n",
      "         4    0.0390    0.0750    0.8740    0.0120\n",
      "         5    0.0409    0.0750    0.8721    0.0120\n",
      "         6    0.0400    0.0760    0.8720    0.0120\n",
      "         7    0.0406    0.0760    0.8714    0.0120\n",
      "         8    0.0420    0.0760    0.8700    0.0120\n",
      "         9    0.0442    0.0760    0.8678    0.0120\n",
      "        10    0.0450    0.0760    0.8670    0.0120\n",
      "        11    0.0330    0.0880    0.8670    0.0120\n",
      "        12    0.0431    0.0910    0.8539    0.0120\n",
      "        13    0.0666    0.0910    0.8304    0.0120\n",
      "        14    0.0870    0.0910    0.8100    0.0120\n",
      "        15    0.0961    0.0910    0.8009    0.0120\n",
      "        16    0.1022    0.0910    0.7948    0.0120\n",
      "        17    0.1064    0.0910    0.7906    0.0120\n",
      "        18    0.1110    0.0910    0.7860    0.0120\n",
      "        19    0.1138    0.0910    0.7832    0.0120\n",
      "        20    0.1150    0.0910    0.7820    0.0120\n",
      "        21    0.1151    0.0910    0.7819    0.0120\n",
      "Converged in 21 iteration(s), which required 81.3749620914 second(s)\n"
     ]
    }
   ],
   "source": [
    "!python BernoulliMixtureModelDriver.py local topUsers_features.txt mrjob_65b_output 0.001 2> /dev/null"
   ]
  },
  {
   "cell_type": "markdown",
   "metadata": {},
   "source": [
    "## Check against class counts"
   ]
  },
  {
   "cell_type": "markdown",
   "metadata": {},
   "source": [
    "The class identifier is stored in the second column. If we use `sort` and `uniq -c`, we can get the number of occurrences of each class."
   ]
  },
  {
   "cell_type": "code",
   "execution_count": null,
   "metadata": {
    "collapsed": false
   },
   "outputs": [
    {
     "name": "stdout",
     "output_type": "stream",
     "text": [
      "    752 0\r\n",
      "     91 1\r\n",
      "     54 2\r\n",
      "    103 3\r\n"
     ]
    }
   ],
   "source": [
    "!cut -d',' -f 2 topUsers_Apr-Jul_2014_1000-words.txt > topUsers_true_classes.txt\n",
    "!sort topUsers_true_classes.txt | uniq -c"
   ]
  },
  {
   "cell_type": "markdown",
   "metadata": {},
   "source": [
    "# HW 6.7c Check vs. K-Means"
   ]
  },
  {
   "cell_type": "markdown",
   "metadata": {},
   "source": [
    "## Load true classes for comparison"
   ]
  },
  {
   "cell_type": "code",
   "execution_count": null,
   "metadata": {
    "collapsed": true
   },
   "outputs": [],
   "source": [
    "import numpy\n",
    "\n",
    "Xfreq = numpy.loadtxt('topUsers_features.txt', delimiter = ',')\n",
    "Y = numpy.loadtxt('topUsers_true_classes.txt')"
   ]
  },
  {
   "cell_type": "markdown",
   "metadata": {},
   "source": [
    "## Retrieve centroids from HW4.5"
   ]
  },
  {
   "cell_type": "markdown",
   "metadata": {},
   "source": [
    "> Repeat this experiment using your KMeans MRJob implementation from HW4."
   ]
  },
  {
   "cell_type": "markdown",
   "metadata": {},
   "source": [
    "Rather than re-running the jobs, we still have the output from HW4!"
   ]
  },
  {
   "cell_type": "code",
   "execution_count": null,
   "metadata": {
    "collapsed": true
   },
   "outputs": [],
   "source": [
    "!wget --quiet https://raw.githubusercontent.com/mseltz/W261-Fall2016/master/Week04/Centroids.txt"
   ]
  },
  {
   "cell_type": "markdown",
   "metadata": {},
   "source": [
    "## Identify the clusters for k-means"
   ]
  },
  {
   "cell_type": "code",
   "execution_count": null,
   "metadata": {
    "collapsed": false
   },
   "outputs": [],
   "source": [
    "import numpy\n",
    "\n",
    "# Use the centroids generated in HW4 KMeans as one benchmark\n",
    "# Remember that this KMeans was done on the frequency counts, not the binarized data\n",
    "\n",
    "# Calculate find the nearest centroid for data point\n",
    "def MinDist(datapoint, centroid_points):\n",
    "    datapoint = numpy.array(datapoint)\n",
    "    centroid_points = numpy.array(centroid_points)\n",
    "    diff = datapoint - centroid_points\n",
    "    diffsq = diff*diff\n",
    "    # Get the nearest centroid for each instance\n",
    "    minidx = numpy.argmin(list(diffsq.sum(axis = 1)))\n",
    "    return minidx\n",
    "\n",
    "with open('Centroids.txt', 'r') as model_file:\n",
    "    centroids_KMeans = [map(float, line.split(',')) for line in model_file]\n",
    "\n",
    "Y_KMeans = [int(MinDist(x,centroids_KMeans)) for x in Xfreq]"
   ]
  },
  {
   "cell_type": "markdown",
   "metadata": {},
   "source": [
    "## Identify the clusters for BMM"
   ]
  },
  {
   "cell_type": "code",
   "execution_count": null,
   "metadata": {
    "collapsed": false
   },
   "outputs": [],
   "source": [
    "from BernoulliMixtureModelJob import BernoulliMixtureModelJob\n",
    "\n",
    "bmm_job = BernoulliMixtureModelJob()\n",
    "bmm_job.load_model()\n",
    "\n",
    "# Go through all the weights and pick out the index of the max probability\n",
    "# If there is a tie, go with the class that occurs the most frequently\n",
    "\n",
    "Y_BMM = [numpy.argmax(bmm_job.get_log_likelihoods(x)) for x in Xfreq]"
   ]
  },
  {
   "cell_type": "markdown",
   "metadata": {},
   "source": [
    "## Compare using rand score"
   ]
  },
  {
   "cell_type": "markdown",
   "metadata": {},
   "source": [
    "> Report the rand index score using the class code as ground truth label for both algorithms and comment on your findings."
   ]
  },
  {
   "cell_type": "code",
   "execution_count": null,
   "metadata": {
    "collapsed": false
   },
   "outputs": [
    {
     "name": "stdout",
     "output_type": "stream",
     "text": [
      "Comparing Y (truth) to BMM:    0.6815226747\n",
      "Comparing Y (truth) to KMeans: 0.705458214192\n"
     ]
    }
   ],
   "source": [
    "from sklearn.metrics.cluster import adjusted_rand_score\n",
    "\n",
    "print \"Comparing Y (truth) to BMM:   \", adjusted_rand_score(Y, Y_BMM)\n",
    "print \"Comparing Y (truth) to KMeans:\", adjusted_rand_score(Y, Y_KMeans)"
   ]
  },
  {
   "cell_type": "markdown",
   "metadata": {},
   "source": [
    "In this case, the KMeans algorithm (using trained centroid initialization) has a larger Rand index than the Bernoulli Mixture Model via EM. This is expected, since we are \"cheating\" in a way by using the true classes to initialize the centroids in the KMeans algorithm. Both algorithms are heavily dependent on the initialization methods used, so the Rand index of the BMM may fluctuate greatly depending on the starting centroids used."
   ]
  }
 ],
 "metadata": {
  "kernelspec": {
   "display_name": "Python 2",
   "language": "python",
   "name": "python2"
  },
  "language_info": {
   "codemirror_mode": {
    "name": "ipython",
    "version": 2
   },
   "file_extension": ".py",
   "mimetype": "text/x-python",
   "name": "python",
   "nbconvert_exporter": "python",
   "pygments_lexer": "ipython2",
   "version": "2.7.11"
  },
  "toc": {
   "toc_cell": false,
   "toc_number_sections": false,
   "toc_threshold": 4,
   "toc_window_display": true
  }
 },
 "nbformat": 4,
 "nbformat_minor": 0
}
