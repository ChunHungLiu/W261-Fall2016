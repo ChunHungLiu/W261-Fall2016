{
 "cells": [
  {
   "cell_type": "markdown",
   "metadata": {},
   "source": [
    "* **Student**: Minhchau Dang\n",
    "* **Email Address**: minhchau.dang@berkeley.edu\n",
    "* **Course**: 2016-0111 DATASCI W261: Machine Learning at Scale\n",
    "* **Section**: Spring 2016, Section 2\n",
    "* **Assignment**: Homework 0, Week 0\n",
    "* **Submission Date**: Month 0, 2016"
   ]
  },
  {
   "cell_type": "markdown",
   "metadata": {},
   "source": [
    "This notebook requires some nbextensions.\n",
    "\n",
    "* [toc2](https://github.com/ipython-contrib/IPython-notebook-extensions/tree/master/nbextensions/usability/toc2) provides a button to create a floating table of contents\n",
    "* [toggle_all_line_numbers](https://github.com/ipython-contrib/IPython-notebook-extensions/tree/master/nbextensions/usability/toggle_all_line_numbers) provides a button to see line numbers for all code cells\n",
    "* [autosaveclasses](https://github.com/holatuwol/jupyter-magic/tree/master/nbextensions/autosaveclasses.js) avoids usage of `%%writefile` (cells with a class definition are saved to disk when run)\n",
    "\n",
    "If they are not yet installed, run the following cell and restart the notebook server."
   ]
  },
  {
   "cell_type": "code",
   "execution_count": 1,
   "metadata": {
    "collapsed": false
   },
   "outputs": [],
   "source": [
    "%%bash\n",
    "IPYTHON_PROFILE_HOME=$(ipython locate)\n",
    "\n",
    "nbextdl() {\n",
    "    if [ ! -f $IPYTHON_PROFILE_HOME/nbextensions/$2/$3 ]; then\n",
    "        mkdir -p $IPYTHON_PROFILE_HOME/nbextensions/$2\n",
    "        curl --silent -L \\\n",
    "            \"https://raw.githubusercontent.com/$1/master/nbextensions/$2/$3\" \\\n",
    "            > \"$IPYTHON_PROFILE_HOME/nbextensions/$2/$3\"\n",
    "    fi\n",
    "}\n",
    "\n",
    "nbextdl ipython-contrib/IPython-notebook-extensions usability/toc2 main.js\n",
    "nbextdl ipython-contrib/IPython-notebook-extensions usability/toc2 main.css\n",
    "nbextdl ipython-contrib/IPython-notebook-extensions usability/toc2 icon.png\n",
    "nbextdl ipython-contrib/IPython-notebook-extensions usability/toc2 image.png\n",
    "\n",
    "nbextdl ipython-contrib/IPython-notebook-extensions usability/toggle_all_line_numbers main.js\n",
    "nbextdl ipython-contrib/IPython-notebook-extensions usability/toggle_all_line_numbers icon.png\n",
    "\n",
    "nbextdl holatuwol/jupyter-magic . autosaveclasses.js"
   ]
  },
  {
   "cell_type": "markdown",
   "metadata": {},
   "source": [
    "Autoload the extensions."
   ]
  },
  {
   "cell_type": "code",
   "execution_count": 2,
   "metadata": {
    "collapsed": false
   },
   "outputs": [
    {
     "data": {
      "application/javascript": [
       "require(['base/js/utils'], function(utils) {\n",
       "    utils.load_extensions('usability/toc2/main');\n",
       "    utils.load_extensions('usability/toggle_all_line_numbers/main');\n",
       "    utils.load_extensions('autosaveclasses');\n",
       "});"
      ],
      "text/plain": [
       "<IPython.core.display.Javascript object>"
      ]
     },
     "metadata": {},
     "output_type": "display_data"
    }
   ],
   "source": [
    "%%javascript\n",
    "require(['base/js/utils'], function(utils) {\n",
    "    utils.load_extensions('usability/toc2/main');\n",
    "    utils.load_extensions('usability/toggle_all_line_numbers/main');\n",
    "    utils.load_extensions('autosaveclasses');\n",
    "});"
   ]
  },
  {
   "cell_type": "markdown",
   "metadata": {},
   "source": [
    "# HW 6.0"
   ]
  },
  {
   "cell_type": "markdown",
   "metadata": {},
   "source": [
    "> In mathematics, computer science, economics, or management science what is mathematical optimization?"
   ]
  },
  {
   "cell_type": "markdown",
   "metadata": {},
   "source": []
  },
  {
   "cell_type": "markdown",
   "metadata": {},
   "source": [
    "> Give an example of a optimization problem that you have worked with directly or that your organization has worked on. Please describe the objective function and the decision variables."
   ]
  },
  {
   "cell_type": "markdown",
   "metadata": {},
   "source": []
  },
  {
   "cell_type": "markdown",
   "metadata": {},
   "source": [
    "> Was the project successful (deployed in the real world)? Describe."
   ]
  },
  {
   "cell_type": "markdown",
   "metadata": {},
   "source": []
  },
  {
   "cell_type": "markdown",
   "metadata": {},
   "source": [
    "# HW 6.1 Optimization Theory"
   ]
  },
  {
   "cell_type": "code",
   "execution_count": 4,
   "metadata": {
    "collapsed": false
   },
   "outputs": [],
   "source": [
    "%matplotlib inline"
   ]
  },
  {
   "cell_type": "markdown",
   "metadata": {},
   "source": [
    "## Unconstrained univariate optimization"
   ]
  },
  {
   "cell_type": "markdown",
   "metadata": {},
   "source": [
    "Let $f : \\mathbb{R} \\rightarrow \\mathbb{R}$ in class $C^1$ and $C^2$ (its first derivative and second derivative are continuous functions). Let $\\nabla f$ be the gradient function (first derivative) and let $\\nabla^2 f$ be the gradient of the gradient function (second derivative).\n",
    "\n",
    "Define the local minimum $x_0$ as a value satisfying the condition that there exists some neighborhood $\\mathcal{N}$ consisting of all the points within $\\epsilon > 0$ of $x_0$ for which $\\forall x \\in \\mathcal{N}: f(x_0) < f(x)$."
   ]
  },
  {
   "cell_type": "markdown",
   "metadata": {},
   "source": [
    "> For unconstrained univariate optimization what are the first order Necessary Conditions for Optimality (FOC)? Give a mathematical definition."
   ]
  },
  {
   "cell_type": "markdown",
   "metadata": {},
   "source": [
    "If $f(x_0)$ is a local minimum of $f$, then $\\nabla f(x_0) = 0$."
   ]
  },
  {
   "cell_type": "markdown",
   "metadata": {},
   "source": [
    ">  What are the second order optimality conditions (SOC)? Give a mathematical defintion."
   ]
  },
  {
   "cell_type": "markdown",
   "metadata": {},
   "source": [
    "If $f(x_0)$ is a local minimum of $f$, then $\\nabla^2 f(x_0) > 0$."
   ]
  },
  {
   "cell_type": "markdown",
   "metadata": {},
   "source": [
    "> Also in python, plot the univariate function $x^3 -12x^2-6$ defined over the real domain -6 to +6. Also plot its corresponding first and second derivative functions. Eyeballing these graphs, identify candidate optimal points and then classify them as local minimums or maximums. Highlight and label these points in your graphs."
   ]
  },
  {
   "cell_type": "code",
   "execution_count": 36,
   "metadata": {
    "collapsed": false
   },
   "outputs": [
    {
     "data": {
      "image/png": "[encoded data removed]",
      "text/plain": [
       "<matplotlib.figure.Figure at 0x7f2f3ad91350>"
      ]
     },
     "metadata": {},
     "output_type": "display_data"
    }
   ],
   "source": [
    "from matplotlib import pyplot\n",
    "import numpy\n",
    "\n",
    "\"\"\"\n",
    "Utility function for plotting the line.\n",
    "\"\"\"\n",
    "def plot_line(subplot, x_values, y_values, function_name, function_value):\n",
    "    subplot.plot(x_values, y_values, color = 'gray')\n",
    "\n",
    "    subplot.grid(True)\n",
    "    subplot.set_title('$' + function_name + ' = ' + function_value + '$')\n",
    "    subplot.set_xlabel('$x$')\n",
    "    subplot.set_ylabel('$' + function_name + '$')\n",
    "\n",
    "\"\"\"\n",
    "Utility function for adding a boxed annotation.\n",
    "\"\"\"\n",
    "def annotate_plot(subplot, point, text, position):\n",
    "    subplot.annotate(\n",
    "        text, xy = point, xytext = position,\n",
    "        bbox = {'boxstyle': 'round', 'fc': 'white'},\n",
    "        arrowprops = {'arrowstyle': '->'})\n",
    "\n",
    "# Generate the x-values and initialize the subplots\n",
    "\n",
    "x0 = numpy.linspace(-6, 6, 50)    \n",
    "fig = pyplot.figure(figsize = (15, 4))\n",
    "subplots = [fig.add_subplot(1, 3, i + 1) for i in range(3)]\n",
    "\n",
    "# Plot the function: x^3 - 12x^2 - 6\n",
    "\n",
    "y0 = [x**3 - 12 * x**2 - 6 for x in x0]\n",
    "plot_line(subplots[0], x0, y0, 'f(x)', 'x^3 - 12x^2 - 6')\n",
    "annotate_plot(subplots[0], (0, -6), '$\\\\forall x \\in \\mathcal{N} : f(0) > f(x)$', (-1.5, -150))\n",
    "\n",
    "# Plot the gradient function: 3x^2 - 24x\n",
    "\n",
    "y1 = [3 * x**2 - 24 * x for x in x0]\n",
    "plot_line(subplots[1], x0, y1, '\\\\nabla f(x)', '3x^2 - 24x')\n",
    "annotate_plot(subplots[1], (0, 0), '$\\\\nabla f(0) = 0$', (0, 100))\n",
    "\n",
    "# Plot the gradient function: 3x^2 - 24x\n",
    "\n",
    "y2 = [6 * x - 24 for x in x0]\n",
    "plot_line(subplots[2], x0, y2, '\\\\nabla^2 f(x)', '6x - 24')\n",
    "annotate_plot(subplots[2], (0, -24), '$\\\\nabla^2 f(0) < 0$', (-3, 0))"
   ]
  },
  {
   "cell_type": "markdown",
   "metadata": {},
   "source": [
    "> Justify your responses using the FOC and SOC."
   ]
  },
  {
   "cell_type": "markdown",
   "metadata": {},
   "source": []
  },
  {
   "cell_type": "markdown",
   "metadata": {},
   "source": [
    "## Unconstrained multivariate optimization"
   ]
  },
  {
   "cell_type": "markdown",
   "metadata": {},
   "source": [
    "> For unconstrained multi-variate optimization what are the first order Necessary Conditions for Optimality (FOC). Give a mathematical definition."
   ]
  },
  {
   "cell_type": "markdown",
   "metadata": {},
   "source": []
  },
  {
   "cell_type": "markdown",
   "metadata": {},
   "source": [
    "> What are the second order optimality conditions (SOC)? Give a mathematical definition. "
   ]
  },
  {
   "cell_type": "markdown",
   "metadata": {},
   "source": []
  },
  {
   "cell_type": "markdown",
   "metadata": {},
   "source": [
    "> What is the Hessian matrix in this context?"
   ]
  },
  {
   "cell_type": "markdown",
   "metadata": {},
   "source": []
  },
  {
   "cell_type": "markdown",
   "metadata": {},
   "source": [
    "# HW 6.2"
   ]
  },
  {
   "cell_type": "markdown",
   "metadata": {},
   "source": [
    "> Taking $x=1$ as the first approximation ($x_{t_1}$) of a root of $x^3 + 2x -4 = 0$, use the Newton-Raphson method to calculate the second approximation (denoted as $x_{t_2}$) of this root. (Hint: the solution is $x_{t_2} = 1.2$)"
   ]
  },
  {
   "cell_type": "markdown",
   "metadata": {},
   "source": []
  },
  {
   "cell_type": "markdown",
   "metadata": {},
   "source": [
    "# HW 6.3 Convex Optimization"
   ]
  },
  {
   "cell_type": "markdown",
   "metadata": {},
   "source": [
    "> What makes an optimization problem convex?"
   ]
  },
  {
   "cell_type": "markdown",
   "metadata": {},
   "source": []
  },
  {
   "cell_type": "markdown",
   "metadata": {},
   "source": [
    ">  What are the first order Necessary Conditions for Optimality in convex optimization."
   ]
  },
  {
   "cell_type": "markdown",
   "metadata": {},
   "source": []
  },
  {
   "cell_type": "markdown",
   "metadata": {},
   "source": [
    "> What are the second order optimality conditions for convex optimization?"
   ]
  },
  {
   "cell_type": "markdown",
   "metadata": {},
   "source": []
  },
  {
   "cell_type": "markdown",
   "metadata": {},
   "source": [
    "> Are both necessary to determine the maximum or minimum of candidate optimal solutions?"
   ]
  },
  {
   "cell_type": "markdown",
   "metadata": {},
   "source": []
  },
  {
   "cell_type": "markdown",
   "metadata": {},
   "source": [
    "> Fill in the BLANKS here: Convex minimization, a subfield of optimization, studies the problem of minimizing BLANK functions over BLANK sets. The BLANK property can make optimization in some sense \"easier\" than the general case - for example, any local minimum must be a global minimum."
   ]
  },
  {
   "cell_type": "markdown",
   "metadata": {
    "collapsed": true
   },
   "source": []
  },
  {
   "cell_type": "markdown",
   "metadata": {},
   "source": [
    "# HW 6.4"
   ]
  },
  {
   "cell_type": "markdown",
   "metadata": {},
   "source": [
    "> The learning objective function for weighted ordinary least squares (WOLS) (aka weight linear regression) is defined as follows:\n",
    "\n",
    "> $$0.5 \\sum_{i} (weight)_i \\cdot (\\mathbf{W} \\cdot \\mathbf{X}_i - y_i)^2$$\n",
    "\n",
    "> Where training set consists of input variables $\\mathbf{X}$ (in vector form) and a target variable $y$, and $\\mathbf{X}$ is the vector of coefficients for the linear regression model.\n",
    "\n",
    "> Derive the gradient for this weighted OLS by hand; showing each step and also explaining each step."
   ]
  },
  {
   "cell_type": "markdown",
   "metadata": {
    "collapsed": true
   },
   "source": [
    "We can use the same approach as documented in the class notes for CS 229 at Stanford University ([reference](http://cs229.stanford.edu/notes/cs229-notes1.pdf)), which computes each element of the gradient vector separately.\n",
    "\n",
    "First, if we take the partial derivative with respect to the $j$-th element of the cost vector and apply the chain rule, we have the following:\n",
    "\n",
    "$$0.5 \\sum_{i} (weight)_i \\cdot ((2) (\\mathbf{W} \\cdot \\mathbf{X}_i - y_i)) \\cdot\n",
    "    \\frac{\\partial}{\\partial \\mathbf{W}_j} (\\mathbf{W} \\cdot \\mathbf{X}_i - y_i)$$\n",
    "\n",
    "Simplifying by multiplying the (0.5) and the (2), we have the following:\n",
    "\n",
    "$$\\sum_{i} (weight)_i \\cdot (\\mathbf{W} \\cdot \\mathbf{X}_i - y_i) \\cdot\n",
    "    \\frac{\\partial}{\\partial \\mathbf{W}_j} (\\mathbf{W} \\cdot \\mathbf{X}_i - y_i)$$\n",
    "\n",
    "Observe that when we take the partial derivative of $\\mathbf{W} \\cdot \\mathbf{X}_i - y_i)$ with respect to $\\mathbf{W}_j$, most of the weights in $\\mathbf{W}$ are zero. This results in us only being left with $\\mathbf{X}_{ij}$, or the $j$-th element of $\\mathbf{X}$ (or simply 1 for the intercept term).\n",
    "\n",
    "This simplifies to the following:\n",
    "\n",
    "$$\\sum_{i} (weight)_i \\cdot (\\mathbf{W} \\cdot \\mathbf{X}_i - y_i) \\cdot \\mathbf{X}_{ij}$$"
   ]
  },
  {
   "cell_type": "markdown",
   "metadata": {},
   "source": [
    "# HW 6.5"
   ]
  },
  {
   "cell_type": "markdown",
   "metadata": {},
   "source": [
    "## Generate HW6.5 data"
   ]
  },
  {
   "cell_type": "markdown",
   "metadata": {},
   "source": [
    "> Generate one million datapoints just like in the following notebook: \n",
    "\n",
    "> http://nbviewer.ipython.org/urls/dl.dropbox.com/s/kritdm3mo1daolj/MrJobLinearRegressionGD.ipynb\n",
    "\n",
    "> Weight each example as follows: $weight(x) = abs(x^{-1})$"
   ]
  },
  {
   "cell_type": "code",
   "execution_count": 5,
   "metadata": {
    "collapsed": false
   },
   "outputs": [
    {
     "name": "stdout",
     "output_type": "stream",
     "text": [
      "1000000 LinearRegression.csv\r\n"
     ]
    }
   ],
   "source": [
    "import numpy\n",
    "import os\n",
    "\n",
    "if not os.path.isfile('LinearRegression.csv'):\n",
    "    size = 1000 * 1000\n",
    "    x = numpy.random.uniform(-4, 4, size)\n",
    "    y = x * 1.0 - 4 + numpy.random.normal(0, 0.5, size)\n",
    "    weights = numpy.divide(numpy.ones(size), numpy.abs(x))\n",
    "\n",
    "    data = zip(y, x, weights)\n",
    "    numpy.savetxt('LinearRegression.csv', data, delimiter = ',')\n",
    "\n",
    "# Confirm that we created the file\n",
    "\n",
    "!wc -l LinearRegression.csv"
   ]
  },
  {
   "cell_type": "markdown",
   "metadata": {},
   "source": [
    "## Create HW6.5 job"
   ]
  },
  {
   "cell_type": "markdown",
   "metadata": {},
   "source": [
    "> Write a MapReduce job in MRJob to do the training at scale of a weighted OLS model using gradient descent."
   ]
  },
  {
   "cell_type": "code",
   "execution_count": 178,
   "metadata": {
    "collapsed": false
   },
   "outputs": [],
   "source": [
    "import csv\n",
    "import sys\n",
    "\n",
    "from mrjob.job import MRJob\n",
    "from mrjob.protocol import RawProtocol\n",
    "\n",
    "class WeightedOrdinaryLeastSquaresJob(MRJob):\n",
    "    \n",
    "    \"\"\"\n",
    "    Load the learning factor.\n",
    "    \"\"\"\n",
    "    def configure_options(self):\n",
    "        super(WeightedOrdinaryLeastSquaresJob, self).configure_options()\n",
    "\n",
    "        self.add_passthrough_option(\n",
    "            '--learning-factor', type = 'float', default = 0.001)\n",
    "    \n",
    "    \"\"\"\n",
    "    Load the regression model from the previous iteration and initialize the\n",
    "    partial sums.\n",
    "    \"\"\"\n",
    "    def mapper_init(self):\n",
    "        self.load_model()\n",
    "        self.gradient = [0.0] * len(self.coef)\n",
    "    \n",
    "    \"\"\"\n",
    "    Compute the error term and use the weighted error value to update the tally.\n",
    "    \"\"\"\n",
    "    def mapper(self, _, line):\n",
    "        row = csv.reader([line]).next()\n",
    "        \n",
    "        # First element is y, all middle elements are part of the vector x_i,\n",
    "        # and the last element is the weight.\n",
    "\n",
    "        y = float(row[0])\n",
    "        x_i = [1.0] + [float(x) for x in row[1:-1]]\n",
    "        weight = float(row[-1])\n",
    "        \n",
    "        # Compute the value predicted by the model by computing the dot product.\n",
    "        # For now, avoid using numpy due to MRJob import issues.\n",
    "  \n",
    "        dot_product = sum([coef_j * x_ij for coef_j, x_ij in zip(self.coef, x_i)])\n",
    "        error = dot_product - y\n",
    "\n",
    "        # Update the gradient tally.\n",
    "\n",
    "        for j in range(len(self.gradient)):\n",
    "            self.gradient[j] += weight * error * x_i[j]\n",
    "\n",
    "    \"\"\"\n",
    "    Yield the computed tally.\n",
    "    \"\"\"\n",
    "    def mapper_final(self):\n",
    "        for j in range(len(self.gradient)):\n",
    "            yield j, self.gradient[j]\n",
    "\n",
    "    \"\"\"\n",
    "    Load the regression model from the previous iteration.\n",
    "    \"\"\"\n",
    "    def reducer_init(self):\n",
    "        self.load_model()\n",
    "    \n",
    "    \"\"\"\n",
    "    Yield the new coefficients by subtracting the gradient change from the\n",
    "    original coefficient.\n",
    "    \"\"\"\n",
    "    def reducer(self, j, gradients):        \n",
    "        total_gradient = sum(gradients)\n",
    "        adjusted_gradient = self.options.learning_factor * total_gradient\n",
    "\n",
    "        new_coef = self.coef[j] - adjusted_gradient\n",
    "        yield j, new_coef\n",
    "\n",
    "    \"\"\"\n",
    "    Load the regression model from the previous iteration.\n",
    "    \"\"\"\n",
    "    def load_model(self):\n",
    "\n",
    "        # The model is not guaranteed to be in order since it can be emitted\n",
    "        # by multiple reducers, so pad the array if we get an index that is\n",
    "        # too far into the array.\n",
    "        \n",
    "        self.coef = []\n",
    "        \n",
    "        with open('model.txt', 'r') as model_file:\n",
    "            for key, value in csv.reader(model_file):\n",
    "                index = int(key)\n",
    "                \n",
    "                for i in range(len(self.coef), index + 1):\n",
    "                    self.coef.append(0.0)\n",
    "            \n",
    "                self.coef[index] = float(value)\n",
    "\n",
    "if __name__ == '__main__' and sys.argv[0].find('ipykernel') == -1:\n",
    "    WeightedOrdinaryLeastSquaresJob().run()"
   ]
  },
  {
   "cell_type": "markdown",
   "metadata": {},
   "source": [
    "## Create a generic driver"
   ]
  },
  {
   "cell_type": "code",
   "execution_count": 48,
   "metadata": {
    "collapsed": true
   },
   "outputs": [],
   "source": [
    "import numpy\n",
    "import os\n",
    "import shutil\n",
    "import time\n",
    "\n",
    "class ConvergingModelDriver:\n",
    "\n",
    "    \"\"\"\n",
    "    Stores the given model to a file.\n",
    "    \"\"\"\n",
    "    def store_model(self, file_name, model):\n",
    "        with open(file_name, 'w') as model_file:\n",
    "            for key, point in model.iteritems():\n",
    "                print >> model_file, str(key) + ',' + ','.join([str(x) for x in point])\n",
    "\n",
    "    \"\"\"\n",
    "    Iterates until the threshold for convergence has been satisfied.\n",
    "    \"\"\"\n",
    "    def run(self, runner_type, input_file, output_folder, threshold):\n",
    "\n",
    "        # Create the output directory locally.\n",
    "        \n",
    "        if os.path.isdir(output_folder):\n",
    "            shutil.rmtree(output_folder)\n",
    "        \n",
    "        os.mkdir(output_folder)\n",
    "        \n",
    "        # Initialize the model.\n",
    "\n",
    "        pre_model = None\n",
    "        post_model = self.get_initial_model()\n",
    "\n",
    "        # Iterate until we have converged.\n",
    "\n",
    "        converged = False\n",
    "        iteration = 0\n",
    "\n",
    "        self.log_iteration(0, post_model, None)\n",
    "        \n",
    "        time_start = time.time()\n",
    "        base_args = ['-r', runner_type, '--strict-protocols', '--file=model.txt', input_file]\n",
    "        \n",
    "        while not converged:\n",
    "            iteration += 1\n",
    "            pre_model = post_model\n",
    "\n",
    "            # Write the model.txt file for the next iteration.\n",
    "\n",
    "            iteration_file_name = '%s/%04d.txt' % (output_folder, iteration)\n",
    "\n",
    "            self.store_model(iteration_file_name, post_model)\n",
    "            shutil.copyfile(iteration_file_name, 'model.txt')\n",
    "\n",
    "            # Run the next iteration.\n",
    "\n",
    "            iteration_output_folder = '%s/%04d' % (output_folder, iteration)\n",
    "\n",
    "            iteration_args = ['--output-dir=' + iteration_output_folder]\n",
    "            \n",
    "            mr_job = self.get_job(base_args + iteration_args)\n",
    "\n",
    "            with mr_job.make_runner() as runner:\n",
    "                runner.run()\n",
    "\n",
    "                # Retrieve the model from the streaming output.\n",
    "                \n",
    "                post_model = {}\n",
    "\n",
    "                for line in runner.stream_output():\n",
    "                    key, point = mr_job.parse_output_line(line)\n",
    "                    \n",
    "                    if isinstance(point, float):\n",
    "                        point = [point]\n",
    "                        \n",
    "                    post_model[key] = point\n",
    "\n",
    "                # Account for when some class no longer gets emitted\n",
    "\n",
    "                for key, point in pre_model.iteritems():\n",
    "                    if key not in post_model:\n",
    "                        post_model[key] = point\n",
    "\n",
    "            # Log iteration results and check for convergence.\n",
    "\n",
    "            maximum_change = self.get_maximum_change(pre_model, post_model)\n",
    "            self.log_iteration(iteration, post_model, maximum_change)\n",
    "            converged = maximum_change <= threshold\n",
    "\n",
    "        time_end = time.time()\n",
    "        duration = time_end - time_start\n",
    "\n",
    "        print 'Converged in', iteration, 'iteration(s), which required', duration, 'second(s)'\n",
    "\n",
    "    \"\"\"\n",
    "    Returns the maximum change for any feature in the model.\n",
    "    \"\"\"\n",
    "    def get_maximum_change(self, pre_model, post_model):\n",
    "        best_point_difference = 0\n",
    "\n",
    "        for key, pre_point in pre_model.iteritems():\n",
    "            post_point = post_model[key]\n",
    "\n",
    "            point_difference = numpy.array(pre_point) - numpy.array(post_point)\n",
    "            max_point_difference = max(numpy.abs(point_difference))\n",
    "\n",
    "            if max_point_difference > best_point_difference:\n",
    "                best_point_difference = max_point_difference\n",
    "\n",
    "        return best_point_difference"
   ]
  },
  {
   "cell_type": "markdown",
   "metadata": {},
   "source": [
    "## Create HW6.5 driver"
   ]
  },
  {
   "cell_type": "code",
   "execution_count": 185,
   "metadata": {
    "collapsed": true
   },
   "outputs": [],
   "source": [
    "import sys\n",
    "import numpy\n",
    "\n",
    "from ConvergingModelDriver import ConvergingModelDriver\n",
    "from WeightedOrdinaryLeastSquaresJob import WeightedOrdinaryLeastSquaresJob\n",
    "\n",
    "class WeightedOrdinaryLeastSquaresDriver(ConvergingModelDriver):\n",
    "\n",
    "    \"\"\"\n",
    "    For reproducibility, we'll start at (0,0)\n",
    "    \"\"\"\n",
    "    def get_initial_model(self):\n",
    "        return {\n",
    "            0: [0.0],\n",
    "            1: [0.0]\n",
    "        }\n",
    "\n",
    "    \"\"\"\n",
    "    Return a job with a maximum weight set to 1000 and a learning rate set\n",
    "    to 2 * 10^-7\n",
    "    \"\"\"\n",
    "    def get_job(self, iteration_args):\n",
    "        learning_factor = 1.0 / (1000.0 * 1000.0 * 20)\n",
    "        \n",
    "        extra_args = [\n",
    "            '--learning-factor=' + str(learning_factor)\n",
    "        ]\n",
    "        \n",
    "        jobs_args = iteration_args + extra_args\n",
    "        return WeightedOrdinaryLeastSquaresJob(args = jobs_args)\n",
    "\n",
    "    \"\"\"\n",
    "    Logs the model.\n",
    "    \"\"\"\n",
    "    def log_iteration(self, iteration, model, maximum_change):\n",
    "        print '%04d\\t%f\\t%f' % (iteration, model[0][0], model[1][0])\n",
    "\n",
    "if __name__ == '__main__' and sys.argv[0].find('ipykernel') == -1:\n",
    "    driver = WeightedOrdinaryLeastSquaresDriver()\n",
    "    driver.run(sys.argv[1], sys.argv[2], sys.argv[3], float(sys.argv[4]))"
   ]
  },
  {
   "cell_type": "markdown",
   "metadata": {},
   "source": [
    "## Run HW6.5 job"
   ]
  },
  {
   "cell_type": "code",
   "execution_count": 186,
   "metadata": {
    "collapsed": false
   },
   "outputs": [
    {
     "name": "stdout",
     "output_type": "stream",
     "text": [
      "0000\t0.000000\t0.000000\n",
      "No handlers could be found for logger \"mrjob.local\"\n",
      "0001\t-1.187683\t0.100324\n",
      "0002\t-2.014406\t0.190528\n",
      "0003\t-2.589871\t0.271652\n",
      "0004\t-2.990438\t0.344620\n",
      "0005\t-3.269263\t0.410261\n",
      "0006\t-3.463344\t0.469316\n",
      "0007\t-3.598437\t0.522450\n",
      "0008\t-3.692470\t0.570259\n",
      "0009\t-3.757922\t0.613279\n",
      "0010\t-3.803479\t0.651992\n",
      "0011\t-3.835188\t0.686828\n",
      "0012\t-3.857257\t0.718177\n",
      "0013\t-3.872618\t0.746389\n",
      "0014\t-3.883308\t0.771778\n",
      "0015\t-3.890747\t0.794626\n",
      "0016\t-3.895924\t0.815188\n",
      "0017\t-3.899526\t0.833693\n",
      "0018\t-3.902032\t0.850346\n",
      "0019\t-3.903776\t0.865334\n",
      "0020\t-3.904988\t0.878822\n",
      "0021\t-3.905831\t0.890960\n",
      "0022\t-3.906417\t0.901885\n",
      "0023\t-3.906824\t0.911716\n",
      "0024\t-3.907107\t0.920564\n",
      "0025\t-3.907303\t0.928527\n",
      "0026\t-3.907439\t0.935693\n",
      "0027\t-3.907533\t0.942143\n",
      "0028\t-3.907598\t0.947947\n",
      "0029\t-3.907643\t0.953170\n",
      "0030\t-3.907674\t0.957871\n",
      "0031\t-3.907695\t0.962102\n",
      "0032\t-3.907710\t0.965910\n",
      "0033\t-3.907720\t0.969336\n",
      "0034\t-3.907726\t0.972420\n",
      "0035\t-3.907730\t0.975196\n",
      "0036\t-3.907733\t0.977694\n",
      "0037\t-3.907735\t0.979941\n",
      "0038\t-3.907736\t0.981964\n",
      "0039\t-3.907737\t0.983785\n",
      "0040\t-3.907737\t0.985424\n",
      "0041\t-3.907737\t0.986898\n",
      "0042\t-3.907737\t0.988225\n",
      "0043\t-3.907737\t0.989420\n",
      "0044\t-3.907737\t0.990495\n",
      "0045\t-3.907737\t0.991462\n",
      "Converged in 45 iteration(s), which required 453.469545126 second(s)\n"
     ]
    }
   ],
   "source": [
    "!python WeightedOrdinaryLeastSquaresDriver.py local LinearRegression.csv mrjob_65_output 0.001"
   ]
  },
  {
   "cell_type": "markdown",
   "metadata": {},
   "source": [
    "# HW 6.5a"
   ]
  },
  {
   "cell_type": "markdown",
   "metadata": {},
   "source": [
    "> Sample 1% of the data in MapReduce and use the sampled dataset to train a (weighted if available in SciKit-Learn) linear regression model locally using  SciKit-Learn (http://scikit-learn.org/stable/modules/generated/sklearn.linear_model.LinearRegression.html)"
   ]
  },
  {
   "cell_type": "markdown",
   "metadata": {},
   "source": [
    "## Create a job to sample data"
   ]
  },
  {
   "cell_type": "code",
   "execution_count": 41,
   "metadata": {
    "collapsed": false
   },
   "outputs": [],
   "source": [
    "import random\n",
    "import sys\n",
    "\n",
    "from mrjob.job import MRJob\n",
    "from mrjob.protocol import RawValueProtocol\n",
    "\n",
    "class RandomSampleJob(MRJob):\n",
    "    \n",
    "    OUTPUT_PROTOCOL = RawValueProtocol\n",
    "\n",
    "    \"\"\"\n",
    "    Load the sampling factor.\n",
    "    \"\"\"\n",
    "    def configure_options(self):\n",
    "        super(RandomSampleJob, self).configure_options()\n",
    "\n",
    "        self.add_passthrough_option(\n",
    "            '--sampling-factor', type = 'float', default = 0.01)\n",
    "\n",
    "    \"\"\"\n",
    "    Yield the line with the sampling probability.\n",
    "    \"\"\"\n",
    "    def mapper(self, _, line):\n",
    "        if random.random() <= self.options.sampling_factor:\n",
    "            yield None, line\n",
    "\n",
    "if __name__ == '__main__' and sys.argv[0].find('ipykernel') == -1:\n",
    "    RandomSampleJob().run()"
   ]
  },
  {
   "cell_type": "markdown",
   "metadata": {},
   "source": [
    "## Run the sampling job"
   ]
  },
  {
   "cell_type": "code",
   "execution_count": 42,
   "metadata": {
    "collapsed": false
   },
   "outputs": [],
   "source": [
    "!rm -rf mrjob_65a_output\n",
    "!python RandomSampleJob.py -r local \\\n",
    "    --strict-protocols \\\n",
    "    --sampling-factor=0.01 \\\n",
    "    --output-dir=mrjob_65a_output \\\n",
    "    LinearRegression.csv \\\n",
    "    --no-output \\\n",
    "    > /dev/null 2>&1"
   ]
  },
  {
   "cell_type": "code",
   "execution_count": 43,
   "metadata": {
    "collapsed": false
   },
   "outputs": [
    {
     "name": "stdout",
     "output_type": "stream",
     "text": [
      "9953 LinearRegression.sample.csv\r\n"
     ]
    }
   ],
   "source": [
    "!cat mrjob_65a_output/* > LinearRegression.sample.csv\n",
    "!wc -l LinearRegression.sample.csv"
   ]
  },
  {
   "cell_type": "markdown",
   "metadata": {},
   "source": [
    "## Check HW6.5 against scikit-learn"
   ]
  },
  {
   "cell_type": "code",
   "execution_count": 40,
   "metadata": {
    "collapsed": false
   },
   "outputs": [],
   "source": []
  },
  {
   "cell_type": "markdown",
   "metadata": {},
   "source": [
    "## Plot 6.5 model"
   ]
  },
  {
   "cell_type": "markdown",
   "metadata": {},
   "source": [
    "> Plot the resulting weighted linear regression model versus the original model that you used to generate the data."
   ]
  },
  {
   "cell_type": "code",
   "execution_count": null,
   "metadata": {
    "collapsed": true
   },
   "outputs": [],
   "source": []
  },
  {
   "cell_type": "markdown",
   "metadata": {},
   "source": [
    "> Comment on your findings."
   ]
  },
  {
   "cell_type": "markdown",
   "metadata": {},
   "source": []
  },
  {
   "cell_type": "markdown",
   "metadata": {},
   "source": [
    "# HW 6.5.1 (Optional)"
   ]
  },
  {
   "cell_type": "markdown",
   "metadata": {},
   "source": [
    "> Using MRJob and in Python, plot the error surface for the weighted linear regression model using a heatmap and contour plot. Also plot the current model in the original domain space.  (Plot them side by side if possible)"
   ]
  },
  {
   "cell_type": "code",
   "execution_count": null,
   "metadata": {
    "collapsed": true
   },
   "outputs": [],
   "source": []
  },
  {
   "cell_type": "markdown",
   "metadata": {},
   "source": [
    "> Plot the path to convergence (during training) for the weighted linear regression model in plot error space and in the original domain space. Make sure to label your plots with iteration numbers, function, model space versus original domain space, etc."
   ]
  },
  {
   "cell_type": "code",
   "execution_count": null,
   "metadata": {
    "collapsed": true
   },
   "outputs": [],
   "source": []
  },
  {
   "cell_type": "markdown",
   "metadata": {},
   "source": [
    "> Comment on convergence and on the mean squared error using your weighted OLS algorithm on the weighted dataset versus using the weighted OLS algorithm on the uniformly weighted dataset."
   ]
  },
  {
   "cell_type": "markdown",
   "metadata": {},
   "source": []
  },
  {
   "cell_type": "markdown",
   "metadata": {},
   "source": [
    "# HW 6.6 Clean up notebook for GMM via EM"
   ]
  },
  {
   "cell_type": "markdown",
   "metadata": {},
   "source": [
    "> Using the following notebook as a starting point:\n",
    "\n",
    "> http://nbviewer.jupyter.org/urls/dl.dropbox.com/s/0t7985e40fovlkw/EM-GMM-MapReduce%20Design%201.ipynb \n",
    "\n",
    "> Improve this notebook as follows:\n",
    "> - Add in equations into the notebook (not images of equations) \n",
    "> - Number the equations\n",
    "> - Make sure the equation notation matches the code and the code and comments refer to the equations numbers\n",
    "> - Comment the code\n",
    "> - Rename/Reorganize the code to make it more readable\n",
    "> - Rerun the examples similar graphics (or possibly better graphics)"
   ]
  },
  {
   "cell_type": "markdown",
   "metadata": {},
   "source": []
  },
  {
   "cell_type": "markdown",
   "metadata": {},
   "source": [
    "# HW 6.7 Implement Bernoulli Mixture Model via EM"
   ]
  },
  {
   "cell_type": "markdown",
   "metadata": {},
   "source": [
    "## Create HW6.7 job"
   ]
  },
  {
   "cell_type": "markdown",
   "metadata": {},
   "source": [
    "> Implement the EM clustering algorithm to determine Bernoulli Mixture Model for discrete data in MRJob."
   ]
  },
  {
   "cell_type": "code",
   "execution_count": 128,
   "metadata": {
    "collapsed": false
   },
   "outputs": [],
   "source": [
    "import csv\n",
    "import math\n",
    "import sys\n",
    "\n",
    "from mrjob.job import MRJob\n",
    "\n",
    "class BernoulliMixtureModelJob(MRJob):\n",
    "\n",
    "    \"\"\"\n",
    "    Load the smoothing factor.\n",
    "    \"\"\"\n",
    "    def configure_options(self):\n",
    "        super(BernoulliMixtureModelJob, self).configure_options()\n",
    "\n",
    "        self.add_passthrough_option(\n",
    "            '--smoothing-factor', type = 'float', default = 0.0001)\n",
    "    \n",
    "    \"\"\"\n",
    "    Load the Bernoulli Mixture Model from the previous iteration and initialize\n",
    "    the class counts (for the priors) and the weighted feature tallies.\n",
    "    \"\"\"\n",
    "    def mapper_init(self):\n",
    "        self.load_model()\n",
    "\n",
    "        self.total_examples = 0\n",
    "        self.class_examples = []\n",
    "        self.weighted_true = []\n",
    "        self.weighted_false = []\n",
    "        \n",
    "        # There is a strange pass by reference issue in initializing 2D arrays\n",
    "        # using the multiplication operator, so iterate and append 1D arrays.\n",
    "        \n",
    "        for i in range(self.class_count):\n",
    "            self.class_examples.append(0)\n",
    "            self.weighted_true.append([0.0] * self.feature_count)\n",
    "            self.weighted_false.append([0.0] * self.feature_count)\n",
    "        \n",
    "    \"\"\"\n",
    "    Compute the probability for each class and update our internal tallies of\n",
    "    how many true/false values on each feature for each class.\n",
    "    \"\"\"\n",
    "    def mapper(self, _, line):\n",
    "        features = [bool(int(x)) for x in csv.reader([line]).next()]\n",
    "        \n",
    "        # First, compute the log likelihood that the feature is in any given\n",
    "        # feature class.\n",
    "        \n",
    "        log_likelihoods = []\n",
    "        \n",
    "        for class_prior, likelihoods in zip(self.class_priors, self.likelihoods):\n",
    "            if class_prior == 0.0:\n",
    "                log_likelihoods.append(float('-inf'))\n",
    "                continue\n",
    "            \n",
    "            log_likelihood = math.log(class_prior)\n",
    "        \n",
    "            for feature, likelihood in zip(features, likelihoods):\n",
    "                if feature:\n",
    "                    log_likelihood += math.log(likelihood)\n",
    "                else:\n",
    "                    log_likelihood += math.log(1 - likelihood)\n",
    "            \n",
    "            log_likelihoods.append(log_likelihood)\n",
    "        \n",
    "        # Identify the maximum probability value and update the class example\n",
    "        # count for the corresponding class.\n",
    "        \n",
    "        max_log_likelihood = max(log_likelihoods)\n",
    "        class_id = log_likelihoods.index(max_log_likelihood)\n",
    "\n",
    "        self.total_examples += 1\n",
    "        self.class_examples[class_id] += 1\n",
    "        \n",
    "        # Shift the log likelihoods to avoid getting an underflow when we\n",
    "        # convert them to exponents. Note that everything is negative, so you\n",
    "        # will want to subtract.\n",
    "        \n",
    "        shifted_log_likelihoods = [x - max_log_likelihood for x in log_likelihoods]\n",
    "        \n",
    "        # Identify the numerators by exponentiating all the values. Compute\n",
    "        # the denominator by adding the numerators together.\n",
    "        \n",
    "        numerators = [math.exp(x) for x in shifted_log_likelihoods]\n",
    "        denominator = sum(numerators)\n",
    "        \n",
    "        # Compute the class probabilities so that we can tally the weighted\n",
    "        # feature occurrencies.\n",
    "\n",
    "        for i in range(self.class_count):\n",
    "            class_probability = numerators[i] / denominator\n",
    "            \n",
    "            for j in range(self.feature_count):\n",
    "                if features[j]:\n",
    "                    self.weighted_true[i][j] += class_probability\n",
    "                else:\n",
    "                    self.weighted_false[i][j] += class_probability\n",
    "\n",
    "    \"\"\"\n",
    "    Emit the weighted probabilities.\n",
    "    \"\"\"\n",
    "    def mapper_final(self):\n",
    "        for i in range(self.class_count):\n",
    "            class_id = self.class_ids[i]\n",
    "            \n",
    "            class_summary = {\n",
    "                'class_examples': self.class_examples[i],\n",
    "                'total_examples': self.total_examples,\n",
    "                'weighted_true': self.weighted_true[i],\n",
    "                'weighted_false': self.weighted_false[i]\n",
    "            }\n",
    "\n",
    "            yield class_id, class_summary\n",
    "\n",
    "    \"\"\"\n",
    "    Load the Bernoulli Mixture Model from the previous iteration.\n",
    "    \"\"\"\n",
    "    def reducer_init(self):\n",
    "        self.load_model()\n",
    "\n",
    "    \"\"\"\n",
    "    Combine the summaries for each class in order to compute the new priors and\n",
    "    conditional probabilities / likelihoods.\n",
    "    \"\"\"\n",
    "    def reducer(self, class_id, class_summaries):\n",
    "        class_examples = 0\n",
    "        total_examples = 0\n",
    "        total_weighted_true = [0.0] * self.feature_count\n",
    "        total_weighted_false = [0.0] * self.feature_count\n",
    "        \n",
    "        # Combine the counts and weighted counts.\n",
    "        \n",
    "        for class_summary in class_summaries:\n",
    "            class_examples += class_summary['class_examples']\n",
    "            total_examples += class_summary['total_examples']\n",
    "            \n",
    "            for i in range(self.feature_count):\n",
    "                total_weighted_true[i] += class_summary['weighted_true'][i]\n",
    "                total_weighted_false[i] += class_summary['weighted_false'][i]\n",
    "        \n",
    "        # Compute the priors and likelihoods\n",
    "        \n",
    "        class_prior = float(class_examples) / total_examples\n",
    "        likelihoods = []\n",
    "        \n",
    "        for weighted_true, weighted_false in zip(total_weighted_true, total_weighted_false):\n",
    "            weighted_true = weighted_true + self.options.smoothing_factor\n",
    "            weighted_total = (weighted_true + weighted_false) + (self.options.smoothing_factor * self.class_count)\n",
    "            \n",
    "            likelihood = weighted_true / weighted_total\n",
    "            likelihoods.append(likelihood)\n",
    "\n",
    "        # Yield the priors concatenated to the likelihoods as the model for this class\n",
    "            \n",
    "        yield class_id, [class_prior] + likelihoods\n",
    "        \n",
    "    \"\"\"\n",
    "    Load the Bernoulli Mixture Model from the previous iteration.\n",
    "    \"\"\"\n",
    "    def load_model(self):\n",
    "        self.class_ids = []\n",
    "        self.class_priors = []\n",
    "        self.likelihoods = []\n",
    "        \n",
    "        # Initialize the class IDs, the priors, and the per-class likelihoods.\n",
    "        \n",
    "        with open('model.txt', 'r') as model_file:\n",
    "            for row in csv.reader(model_file):\n",
    "                class_id = row[0]\n",
    "                class_prior = float(row[1])\n",
    "                likelihoods = [float(x) for x in row[2:]]\n",
    "                \n",
    "                self.class_ids.append(class_id)\n",
    "                self.class_priors.append(class_prior)\n",
    "                self.likelihoods.append(likelihoods)\n",
    "        \n",
    "        # For convenience\n",
    "        \n",
    "        self.class_count = len(self.class_ids)\n",
    "        self.feature_count = len(self.likelihoods[0])\n",
    "\n",
    "if __name__ == '__main__' and sys.argv[0].find('ipykernel') == -1:\n",
    "    BernoulliMixtureModelJob().run()"
   ]
  },
  {
   "cell_type": "markdown",
   "metadata": {},
   "source": [
    "## Create HW6.7 driver"
   ]
  },
  {
   "cell_type": "code",
   "execution_count": 96,
   "metadata": {
    "collapsed": false
   },
   "outputs": [],
   "source": [
    "import sys\n",
    "import numpy\n",
    "\n",
    "from ConvergingModelDriver import ConvergingModelDriver\n",
    "from BernoulliMixtureModelJob import BernoulliMixtureModelJob\n",
    "\n",
    "class BernoulliMixtureModelDriver(ConvergingModelDriver):\n",
    "\n",
    "    \"\"\"\n",
    "    For reproducibility, we'll start at everything evenly spaced at values\n",
    "    that are not too extreme (between 1/4 and 3/4)\n",
    "    \"\"\"\n",
    "    def get_initial_model(self):\n",
    "        \n",
    "        initial_model = {}\n",
    "        \n",
    "        class_ids = ['ClusterA', 'ClusterB', 'ClusterC', 'ClusterD']\n",
    "        priors = [1.0 / len(class_ids)] * len(class_ids)\n",
    "        \n",
    "        for class_id, prior in zip(class_ids, priors):\n",
    "            initial_model[class_id] = [prior]\n",
    "            initial_model[class_id].extend(numpy.random.random(1000))\n",
    "        \n",
    "        return initial_model        \n",
    "\n",
    "    \"\"\"\n",
    "    Return the job with a smoothing factor argument.\n",
    "    \"\"\"\n",
    "    def get_job(self, iteration_args):\n",
    "        smoothing_factor = 0.0001\n",
    "        \n",
    "        extra_args = ['--smoothing-factor=' + str(smoothing_factor)]\n",
    "        job_args = iteration_args + extra_args\n",
    "        \n",
    "        return BernoulliMixtureModelJob(args = job_args)\n",
    "\n",
    "    \"\"\"\n",
    "    Logs the model.\n",
    "    \"\"\"\n",
    "    def log_iteration(self, iteration, model, maximum_change):\n",
    "        class_priors = [\n",
    "            model[class_id][0] for class_id in ['ClusterA', 'ClusterB', 'ClusterC', 'ClusterD']\n",
    "        ]\n",
    "\n",
    "        print '%04d\\t%f\\t%f\\t%f\\t%f' % (\n",
    "            iteration, model['ClusterA'][0], model['ClusterB'][0], model['ClusterC'][0],\n",
    "            model['ClusterD'][0]\n",
    "        )\n",
    "\n",
    "if __name__ == '__main__' and sys.argv[0].find('ipykernel') == -1:\n",
    "    driver = BernoulliMixtureModelDriver()\n",
    "    driver.run(sys.argv[1], sys.argv[2], sys.argv[3], float(sys.argv[4]))"
   ]
  },
  {
   "cell_type": "markdown",
   "metadata": {},
   "source": [
    "## Download HW4.5 data"
   ]
  },
  {
   "cell_type": "markdown",
   "metadata": {},
   "source": [
    "> As a test: use the same dataset from HW 4.5, the Tweet Dataset. \n",
    "Using this data, you will implement a 1000-dimensional EM-based Bernoulli Mixture Model  algorithm in MrJob on the users by their 1000-dimensional word stripes/vectors using K = 4."
   ]
  },
  {
   "cell_type": "code",
   "execution_count": 69,
   "metadata": {
    "collapsed": true
   },
   "outputs": [],
   "source": [
    "import os\n",
    "\n",
    "if not os.path.isfile('topUsers_features.txt'):\n",
    "    !wget --quiet https://www.dropbox.com/sh/5bex8l871t0bg3a/AAChDHmBbudx6E807bx5f_m0a/topUsers_Apr-Jul_2014_1000-words.txt\n",
    "    !cut -d',' -f 4- topUsers_Apr-Jul_2014_1000-words.txt > topUsers_features.txt"
   ]
  },
  {
   "cell_type": "markdown",
   "metadata": {},
   "source": [
    "## Run HW6.7 job"
   ]
  },
  {
   "cell_type": "code",
   "execution_count": 126,
   "metadata": {
    "collapsed": false
   },
   "outputs": [
    {
     "name": "stdout",
     "output_type": "stream",
     "text": [
      "0000\t0.250000\t0.250000\t0.250000\t0.250000\n",
      "No handlers could be found for logger \"mrjob.local\"\n",
      "0001\t0.692000\t0.135000\t0.151000\t0.022000\n",
      "0002\t0.713000\t0.165000\t0.048000\t0.074000\n",
      "0003\t0.700000\t0.182000\t0.043000\t0.075000\n",
      "0004\t0.693000\t0.190000\t0.042000\t0.075000\n",
      "0005\t0.688000\t0.195000\t0.042000\t0.075000\n",
      "0006\t0.685000\t0.198000\t0.042000\t0.075000\n",
      "0007\t0.682000\t0.201000\t0.042000\t0.075000\n",
      "0008\t0.682000\t0.201000\t0.042000\t0.075000\n",
      "0009\t0.681000\t0.202000\t0.042000\t0.075000\n",
      "0010\t0.681000\t0.202000\t0.042000\t0.075000\n",
      "Converged in 10 iteration(s), which required 33.4158351421 second(s)\n"
     ]
    }
   ],
   "source": [
    "!python BernoulliMixtureModelDriver.py local topUsers_features.txt mrjob_65_output 0.001"
   ]
  },
  {
   "cell_type": "markdown",
   "metadata": {},
   "source": [
    "Let's compare this to the original class probabilities."
   ]
  },
  {
   "cell_type": "code",
   "execution_count": 127,
   "metadata": {
    "collapsed": false
   },
   "outputs": [
    {
     "name": "stdout",
     "output_type": "stream",
     "text": [
      "    752 0\r\n",
      "     91 1\r\n",
      "     54 2\r\n",
      "    103 3\r\n"
     ]
    }
   ],
   "source": [
    "!cut -d',' -f 2 topUsers_Apr-Jul_2014_1000-words.txt | sort | uniq -c"
   ]
  },
  {
   "cell_type": "markdown",
   "metadata": {},
   "source": [
    "## Run HW4.5 job"
   ]
  },
  {
   "cell_type": "markdown",
   "metadata": {},
   "source": [
    "> Repeat this experiment using your KMeans MRJob implementation fron HW4."
   ]
  },
  {
   "cell_type": "code",
   "execution_count": null,
   "metadata": {
    "collapsed": true
   },
   "outputs": [],
   "source": []
  },
  {
   "cell_type": "markdown",
   "metadata": {},
   "source": [
    "## Report HW6.7 results"
   ]
  },
  {
   "cell_type": "markdown",
   "metadata": {},
   "source": [
    "> Report the rand index score using the class code as ground truth label for both algorithms and comment on your findings."
   ]
  },
  {
   "cell_type": "code",
   "execution_count": null,
   "metadata": {
    "collapsed": true
   },
   "outputs": [],
   "source": []
  }
 ],
 "metadata": {
  "kernelspec": {
   "display_name": "Python 2",
   "language": "python",
   "name": "python2"
  },
  "language_info": {
   "codemirror_mode": {
    "name": "ipython",
    "version": 2
   },
   "file_extension": ".py",
   "mimetype": "text/x-python",
   "name": "python",
   "nbconvert_exporter": "python",
   "pygments_lexer": "ipython2",
   "version": "2.7.11"
  },
  "toc": {
   "toc_cell": false,
   "toc_number_sections": false,
   "toc_threshold": 4,
   "toc_window_display": true
  }
 },
 "nbformat": 4,
 "nbformat_minor": 0
}
