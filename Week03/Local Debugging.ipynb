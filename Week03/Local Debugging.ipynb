{
 "cells": [
  {
   "cell_type": "code",
   "execution_count": 25,
   "metadata": {
    "collapsed": false
   },
   "outputs": [],
   "source": [
    "from csv import reader\n",
    "import string\n",
    "\n",
    "issue_length = []\n",
    "\n",
    "with open('Consumer_Complaints.csv','r') as myfile:\n",
    "    for line in reader(myfile):\n",
    "        issue = line[3].lower()\n",
    "        issue = issue.replace(',', ' ')\n",
    "        issue = issue.translate(string.maketrans(\"\",\"\"), string.punctuation)\n",
    "        "
   ]
  },
  {
   "cell_type": "code",
   "execution_count": 22,
   "metadata": {
    "collapsed": false
   },
   "outputs": [
    {
     "name": "stdout",
     "output_type": "stream",
     "text": [
      "\n"
     ]
    }
   ],
   "source": [
    "test = ''\n",
    "print test.strip()"
   ]
  },
  {
   "cell_type": "code",
   "execution_count": 26,
   "metadata": {
    "collapsed": false
   },
   "outputs": [
    {
     "name": "stdout",
     "output_type": "stream",
     "text": [
      "ELE17451\t{'FRO12685': [1, 3.215330696762162e-05], 'ELE26917': [1, 3.215330696762162e-05], 'SNA11465': [1, 3.215330696762162e-05], 'SNA90258': [1, 3.215330696762162e-05], 'GRO12298': [1, 3.215330696762162e-05], 'ELE89019': [1, 3.215330696762162e-05], 'FRO11987': [1, 3.215330696762162e-05], 'SNA30755': [1, 3.215330696762162e-05], 'SNA80192': [1, 3.215330696762162e-05], 'ELE52966': [1, 3.215330696762162e-05], 'ELE91550': [1, 3.215330696762162e-05], 'GRO99222': [2, 6.430661393524324e-05], 'FRO84225': [1, 3.215330696762162e-05], 'FRO90334': [1, 3.215330696762162e-05]}\n",
      "ELE26917\t{'FRO12685': [1, 3.215330696762162e-05], 'SNA30755': [1, 3.215330696762162e-05], 'ELE52966': [1, 3.215330696762162e-05], 'SNA11465': [1, 3.215330696762162e-05], 'SNA80192': [1, 3.215330696762162e-05], 'FRO84225': [1, 3.215330696762162e-05], 'ELE91550': [1, 3.215330696762162e-05], 'GRO12298': [1, 3.215330696762162e-05], 'GRO99222': [1, 3.215330696762162e-05], 'FRO90334': [1, 3.215330696762162e-05]}\n",
      "ELE52966\t{'FRO12685': [1, 3.215330696762162e-05], 'SNA30755': [1, 3.215330696762162e-05], 'SNA11465': [1, 3.215330696762162e-05], 'SNA80192': [1, 3.215330696762162e-05], 'FRO84225': [1, 3.215330696762162e-05], 'ELE91550': [1, 3.215330696762162e-05], 'GRO12298': [1, 3.215330696762162e-05], 'GRO99222': [1, 3.215330696762162e-05], 'FRO90334': [1, 3.215330696762162e-05]}\n",
      "ELE89019\t{'SNA90258': [1, 3.215330696762162e-05], 'FRO11987': [1, 3.215330696762162e-05], 'GRO99222': [1, 3.215330696762162e-05]}\n",
      "ELE91550\t{'FRO12685': [1, 3.215330696762162e-05], 'SNA30755': [1, 3.215330696762162e-05], 'SNA11465': [1, 3.215330696762162e-05], 'SNA80192': [1, 3.215330696762162e-05], 'FRO84225': [1, 3.215330696762162e-05], 'GRO99222': [1, 3.215330696762162e-05], 'GRO12298': [1, 3.215330696762162e-05], 'FRO90334': [1, 3.215330696762162e-05]}\n",
      "FRO11987\t{'SNA90258': [1, 3.215330696762162e-05], 'GRO99222': [1, 3.215330696762162e-05]}\n",
      "FRO12685\t{'SNA80192': [1, 3.215330696762162e-05], 'GRO12298': [1, 3.215330696762162e-05], 'SNA11465': [1, 3.215330696762162e-05], 'SNA30755': [1, 3.215330696762162e-05], 'GRO99222': [1, 3.215330696762162e-05], 'FRO84225': [1, 3.215330696762162e-05], 'FRO90334': [1, 3.215330696762162e-05]}\n",
      "FRO84225\t{'SNA80192': [1, 3.215330696762162e-05], 'SNA11465': [1, 3.215330696762162e-05], 'SNA30755': [1, 3.215330696762162e-05], 'GRO99222': [1, 3.215330696762162e-05], 'GRO12298': [1, 3.215330696762162e-05], 'FRO90334': [1, 3.215330696762162e-05]}\n",
      "FRO90334\t{'SNA80192': [1, 3.215330696762162e-05], 'SNA11465': [1, 3.215330696762162e-05], 'GRO99222': [1, 3.215330696762162e-05], 'GRO12298': [1, 3.215330696762162e-05], 'SNA30755': [1, 3.215330696762162e-05]}\n",
      "GRO12298\t{'SNA80192': [1, 3.215330696762162e-05], 'SNA11465': [1, 3.215330696762162e-05], 'GRO99222': [1, 3.215330696762162e-05], 'SNA30755': [1, 3.215330696762162e-05]}\n",
      "GRO99222\t{'SNA90258': [1, 3.215330696762162e-05], 'SNA80192': [1, 3.215330696762162e-05], 'SNA30755': [1, 3.215330696762162e-05], 'SNA11465': [1, 3.215330696762162e-05]}\n",
      "SNA11465\t{'SNA80192': [1, 3.215330696762162e-05], 'SNA30755': [1, 3.215330696762162e-05]}\n",
      "SNA30755\t{'SNA80192': 1}\n"
     ]
    }
   ],
   "source": [
    "prev_word = None\n",
    "prev_stripe = {}\n",
    "total = 0\n",
    "\n",
    "myfile = open('HW3_5_input.txt','r')\n",
    "\n",
    "for line in myfile:\n",
    "    # Define our key and value\n",
    "    fields = line.replace('\\n','').split('\\t')\n",
    "    word = fields[0]\n",
    "    stripe = eval(fields[1])\n",
    "\n",
    "    # Check if we've moved to a new word\n",
    "    if prev_word == word:\n",
    "        # We need to move through the dictionary and update counts\n",
    "        for item in stripe:\n",
    "            if item in prev_stripe:\n",
    "                prev_stripe[item] += stripe[item]\n",
    "            else:\n",
    "                prev_stripe[item] = stripe[item]\n",
    "        \n",
    "    else:\n",
    "        if len(prev_stripe) > 0:\n",
    "            if prev_word == '*total':\n",
    "                # We have just summed the total count to compute relative frequency\n",
    "                total = float(prev_stripe['*total'])\n",
    "                \n",
    "            else:\n",
    "                # We are at a new pair, need to get rel freq and print previous pair sum\n",
    "                for item in prev_stripe:\n",
    "                    prev_stripe[item] = [prev_stripe[item], prev_stripe[item]/total]\n",
    "                print '%s\\t%s' % (prev_word, prev_stripe)\n",
    "        prev_stripe = stripe\n",
    "        prev_word = word\n",
    "\n",
    "# Output the last line\n",
    "if prev_stripe == stripe:\n",
    "    print '%s\\t%s' % (prev_word, prev_stripe)"
   ]
  },
  {
   "cell_type": "code",
   "execution_count": 8,
   "metadata": {
    "collapsed": false
   },
   "outputs": [],
   "source": [
    "fields = ['DAI11153', \"{'DAI94921': 1, 'DAI83801': 1, 'GRO41067': 1, 'GRO41988': 1, 'FRO35904': 1, 'DAI69036': 1}\"]\n",
    "word = fields[0]\n",
    "stripe = eval(fields[1])\n",
    "# for items in stripe:\n",
    "#     print items, stripe[items]"
   ]
  }
 ],
 "metadata": {
  "kernelspec": {
   "display_name": "Python 2",
   "language": "python",
   "name": "python2"
  },
  "language_info": {
   "codemirror_mode": {
    "name": "ipython",
    "version": 2
   },
   "file_extension": ".py",
   "mimetype": "text/x-python",
   "name": "python",
   "nbconvert_exporter": "python",
   "pygments_lexer": "ipython2",
   "version": "2.7.11"
  }
 },
 "nbformat": 4,
 "nbformat_minor": 0
}
