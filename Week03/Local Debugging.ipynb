{
 "cells": [
  {
   "cell_type": "code",
   "execution_count": 25,
   "metadata": {
    "collapsed": false
   },
   "outputs": [],
   "source": [
    "from csv import reader\n",
    "import string\n",
    "\n",
    "issue_length = []\n",
    "\n",
    "with open('Consumer_Complaints.csv','r') as myfile:\n",
    "    for line in reader(myfile):\n",
    "        issue = line[3].lower()\n",
    "        issue = issue.replace(',', ' ')\n",
    "        issue = issue.translate(string.maketrans(\"\",\"\"), string.punctuation)\n",
    "        "
   ]
  },
  {
   "cell_type": "code",
   "execution_count": 22,
   "metadata": {
    "collapsed": false
   },
   "outputs": [
    {
     "name": "stdout",
     "output_type": "stream",
     "text": [
      "\n"
     ]
    }
   ],
   "source": [
    "test = ''\n",
    "print test.strip()"
   ]
  },
  {
   "cell_type": "code",
   "execution_count": 100,
   "metadata": {
    "collapsed": false
   },
   "outputs": [
    {
     "name": "stdout",
     "output_type": "stream",
     "text": [
      "ELE17451\t{'SNA90258': 1, 'FRO11987': 1, 'GRO99222': 1, 'ELE89019': 1}\n",
      "ELE89019\t{'SNA90258': 1, 'FRO11987': 1, 'GRO99222': 1}\n",
      "FRO11987\t{'SNA90258': 1, 'GRO99222': 1}\n",
      "GRO99222\t{'SNA90258': 1}\n",
      "ELE17451\t{'FRO12685': 1, 'ELE26917': 1, 'SNA80192': 1, 'GRO12298': 1, 'SNA11465': 1, 'SNA30755': 1, 'ELE52966': 1, 'ELE91550': 1, 'GRO99222': 1, 'FRO84225': 1, 'FRO90334': 1}\n",
      "ELE26917\t{'FRO12685': 1, 'SNA80192': 1, 'GRO12298': 1, 'SNA11465': 1, 'SNA30755': 1, 'ELE52966': 1, 'ELE91550': 1, 'GRO99222': 1, 'FRO84225': 1, 'FRO90334': 1}\n",
      "ELE52966\t{'FRO12685': 1, 'SNA80192': 1, 'GRO12298': 1, 'SNA11465': 1, 'SNA30755': 1, 'ELE91550': 1, 'GRO99222': 1, 'FRO84225': 1, 'FRO90334': 1}\n",
      "ELE91550\t{'FRO12685': 1, 'SNA80192': 1, 'GRO12298': 1, 'SNA11465': 1, 'SNA30755': 1, 'GRO99222': 1, 'FRO84225': 1, 'FRO90334': 1}\n",
      "FRO12685\t{'SNA80192': 1, 'FRO84225': 1, 'SNA11465': 1, 'SNA30755': 1, 'GRO99222': 1, 'GRO12298': 1, 'FRO90334': 1}\n",
      "FRO84225\t{'SNA80192': 1, 'SNA11465': 1, 'SNA30755': 1, 'GRO99222': 1, 'GRO12298': 1, 'FRO90334': 1}\n",
      "FRO90334\t{'SNA80192': 1, 'SNA11465': 1, 'GRO99222': 1, 'GRO12298': 1, 'SNA30755': 1}\n",
      "GRO12298\t{'SNA80192': 1, 'SNA11465': 1, 'GRO99222': 1, 'SNA30755': 1}\n",
      "GRO99222\t{'SNA80192': 1, 'SNA11465': 1, 'SNA30755': 1}\n",
      "SNA11465\t{'SNA80192': 1, 'SNA30755': 1}\n",
      "SNA30755\t{'SNA80192': 1}\n"
     ]
    }
   ],
   "source": [
    "total = 0\n",
    "stripes = {}\n",
    "\n",
    "import pprint\n",
    "\n",
    "myfile = open('ProductPurchaseData_shortest.txt','r')\n",
    "\n",
    "for line in myfile:\n",
    "    # Split our line into products\n",
    "    products = line.replace('\\n','').split()\n",
    "    \n",
    "    # Get all combinations of products:\n",
    "    #  - Use a set to remove duplicate products\n",
    "    #  - Combinations finds tuples of length 2 with no repeats\n",
    "    items = sorted(list(set(products)))\n",
    "\n",
    "    for i in range(len(items)-1):\n",
    "        for j in range(i+1, len(items)):\n",
    "            stripes[items[j]] = 1\n",
    "        print '%s\\t%s' % (items[i], stripes)\n",
    "        stripes = {}\n",
    "        \n",
    "    # Increment total number of baskets\n",
    "    total += 1\n",
    "    \n",
    "#print total"
   ]
  },
  {
   "cell_type": "code",
   "execution_count": 82,
   "metadata": {
    "collapsed": false
   },
   "outputs": [
    {
     "name": "stdout",
     "output_type": "stream",
     "text": [
      "{'item1': {'item2': 1}}\n"
     ]
    }
   ],
   "source": [
    "stripes = {}\n",
    "stripes['item1'] = {}\n",
    "stripes['item1']['item2'] = 1\n",
    "print stripes"
   ]
  }
 ],
 "metadata": {
  "kernelspec": {
   "display_name": "Python 2",
   "language": "python",
   "name": "python2"
  },
  "language_info": {
   "codemirror_mode": {
    "name": "ipython",
    "version": 2
   },
   "file_extension": ".py",
   "mimetype": "text/x-python",
   "name": "python",
   "nbconvert_exporter": "python",
   "pygments_lexer": "ipython2",
   "version": "2.7.11"
  }
 },
 "nbformat": 4,
 "nbformat_minor": 0
}
