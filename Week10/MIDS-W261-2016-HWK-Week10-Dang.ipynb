{
 "cells": [
  {
   "cell_type": "markdown",
   "metadata": {},
   "source": [
    "* **Student**: Minhchau Dang\n",
    "* **Email Address**: minhchau.dang@berkeley.edu\n",
    "* **Course**: 2016-0111 DATASCI W261: Machine Learning at Scale\n",
    "* **Section**: Spring 2016, Section 2\n",
    "* **Assignment**: Homework 10, Week 10\n",
    "* **Submission Date**: March 29, 2016"
   ]
  },
  {
   "cell_type": "markdown",
   "metadata": {},
   "source": [
    "This notebook requires some nbextensions.\n",
    "\n",
    "* [ruler](https://github.com/ipython-contrib/IPython-notebook-extensions/tree/master/nbextensions/usability/ruler) highlights a maximum line number so that you can avoid writing code that exceeds that character count\n",
    "* [toc2](https://github.com/ipython-contrib/IPython-notebook-extensions/tree/master/nbextensions/usability/toc2) provides a button to create a floating table of contents\n",
    "* [toggle_all_line_numbers](https://github.com/ipython-contrib/IPython-notebook-extensions/tree/master/nbextensions/usability/toggle_all_line_numbers) provides a button to see line numbers for all code cells\n",
    "* [autosaveclasses](https://github.com/holatuwol/jupyter-magic/tree/master/nbextensions/autosaveclasses.js) avoids usage of `%%writefile` (cells with a class definition are saved to disk when run)"
   ]
  },
  {
   "cell_type": "code",
   "execution_count": 1,
   "metadata": {
    "collapsed": false
   },
   "outputs": [
    {
     "data": {
      "application/javascript": [
       "require(['base/js/utils'], function(utils) {\n",
       "    utils.load_extensions('usability/ruler/main');\n",
       "    utils.load_extensions('usability/toc2/main');\n",
       "    utils.load_extensions('usability/toggle_all_line_numbers/main');\n",
       "    utils.load_extensions('autosaveclasses');\n",
       "});"
      ],
      "text/plain": [
       "<IPython.core.display.Javascript object>"
      ]
     },
     "metadata": {},
     "output_type": "display_data"
    }
   ],
   "source": [
    "%%javascript\n",
    "require(['base/js/utils'], function(utils) {\n",
    "    utils.load_extensions('usability/ruler/main');\n",
    "    utils.load_extensions('usability/toc2/main');\n",
    "    utils.load_extensions('usability/toggle_all_line_numbers/main');\n",
    "    utils.load_extensions('autosaveclasses');\n",
    "});"
   ]
  },
  {
   "cell_type": "markdown",
   "metadata": {},
   "source": [
    "# Initialize Spark Context"
   ]
  },
  {
   "cell_type": "code",
   "execution_count": 3,
   "metadata": {
    "collapsed": false
   },
   "outputs": [
    {
     "ename": "IndexError",
     "evalue": "list index out of range",
     "output_type": "error",
     "traceback": [
      "\u001b[1;31m---------------------------------------------------------------------------\u001b[0m",
      "\u001b[1;31mIndexError\u001b[0m                                Traceback (most recent call last)",
      "\u001b[1;32m<ipython-input-3-cfed870c317c>\u001b[0m in \u001b[0;36m<module>\u001b[1;34m()\u001b[0m\n\u001b[0;32m      1\u001b[0m \u001b[1;32mimport\u001b[0m \u001b[0mfindspark\u001b[0m\u001b[1;33m\u001b[0m\u001b[0m\n\u001b[1;32m----> 2\u001b[1;33m \u001b[0mfindspark\u001b[0m\u001b[1;33m.\u001b[0m\u001b[0minit\u001b[0m\u001b[1;33m(\u001b[0m\u001b[1;33m)\u001b[0m\u001b[1;33m\u001b[0m\u001b[0m\n\u001b[0m",
      "\u001b[1;32m/usr/local/lib/python2.7/dist-packages/findspark.pyc\u001b[0m in \u001b[0;36minit\u001b[1;34m(spark_home, edit_rc, edit_profile)\u001b[0m\n\u001b[0;32m    125\u001b[0m     \u001b[1;31m# add pyspark to sys.path\u001b[0m\u001b[1;33m\u001b[0m\u001b[1;33m\u001b[0m\u001b[0m\n\u001b[0;32m    126\u001b[0m     \u001b[0mspark_python\u001b[0m \u001b[1;33m=\u001b[0m \u001b[0mos\u001b[0m\u001b[1;33m.\u001b[0m\u001b[0mpath\u001b[0m\u001b[1;33m.\u001b[0m\u001b[0mjoin\u001b[0m\u001b[1;33m(\u001b[0m\u001b[0mspark_home\u001b[0m\u001b[1;33m,\u001b[0m \u001b[1;34m'python'\u001b[0m\u001b[1;33m)\u001b[0m\u001b[1;33m\u001b[0m\u001b[0m\n\u001b[1;32m--> 127\u001b[1;33m     \u001b[0mpy4j\u001b[0m \u001b[1;33m=\u001b[0m \u001b[0mglob\u001b[0m\u001b[1;33m(\u001b[0m\u001b[0mos\u001b[0m\u001b[1;33m.\u001b[0m\u001b[0mpath\u001b[0m\u001b[1;33m.\u001b[0m\u001b[0mjoin\u001b[0m\u001b[1;33m(\u001b[0m\u001b[0mspark_python\u001b[0m\u001b[1;33m,\u001b[0m \u001b[1;34m'lib'\u001b[0m\u001b[1;33m,\u001b[0m \u001b[1;34m'py4j-*.zip'\u001b[0m\u001b[1;33m)\u001b[0m\u001b[1;33m)\u001b[0m\u001b[1;33m[\u001b[0m\u001b[1;36m0\u001b[0m\u001b[1;33m]\u001b[0m\u001b[1;33m\u001b[0m\u001b[0m\n\u001b[0m\u001b[0;32m    128\u001b[0m     \u001b[0msys\u001b[0m\u001b[1;33m.\u001b[0m\u001b[0mpath\u001b[0m\u001b[1;33m[\u001b[0m\u001b[1;33m:\u001b[0m\u001b[1;36m0\u001b[0m\u001b[1;33m]\u001b[0m \u001b[1;33m=\u001b[0m \u001b[1;33m[\u001b[0m\u001b[0mspark_python\u001b[0m\u001b[1;33m,\u001b[0m \u001b[0mpy4j\u001b[0m\u001b[1;33m]\u001b[0m\u001b[1;33m\u001b[0m\u001b[0m\n\u001b[0;32m    129\u001b[0m \u001b[1;33m\u001b[0m\u001b[0m\n",
      "\u001b[1;31mIndexError\u001b[0m: list index out of range"
     ]
    }
   ],
   "source": [
    "import findspark\n",
    "findspark.init()"
   ]
  },
  {
   "cell_type": "code",
   "execution_count": 3,
   "metadata": {
    "collapsed": true
   },
   "outputs": [],
   "source": [
    "import pyspark\n",
    "sc = pyspark.SparkContext(appName=\"hw10\")"
   ]
  },
  {
   "cell_type": "markdown",
   "metadata": {},
   "source": [
    "# HW 10.0: Short answer questions"
   ]
  },
  {
   "cell_type": "markdown",
   "metadata": {
    "collapsed": true
   },
   "source": [
    "> What is Apache Spark and how is it different to Apache Hadoop?"
   ]
  },
  {
   "cell_type": "markdown",
   "metadata": {},
   "source": [
    "Like Apache Hadoop, Apache Spark is a distributed computing framework for handling big data problems.\n",
    "\n",
    "Spark differs from Hadoop in that it is strictly focused on the computing aspect of distributed computing. As a result, Spark does not try to solve the problem of distributed storage and it does not attempt to solve distributed resource management, but rather builds on top of the pre-existing solutions."
   ]
  },
  {
   "cell_type": "markdown",
   "metadata": {},
   "source": [
    "> Fill in the blanks."
   ]
  },
  {
   "cell_type": "markdown",
   "metadata": {},
   "source": [
    "From [Learn Spark in a Day](http://www.learnr.pro/content/66198-1/12#1811984487:19445.931329847488):\n",
    "\n",
    "Spark API consists of interfaces to develop applications based on it in Java, **Python, and Scala** languages. Using Spark, resource management can be done either in a single server instance or using a framework such as Mesos or **YARN** in a distributed manner."
   ]
  },
  {
   "cell_type": "markdown",
   "metadata": {},
   "source": [
    "> What is an RDD?"
   ]
  },
  {
   "cell_type": "markdown",
   "metadata": {},
   "source": [
    "As noted in the Java documentation ([reference](https://spark.apache.org/docs/1.6.0/api/java/org/apache/spark/rdd/RDD.html)), RDD stands for Resilient Distributed Dataset. RDD represents an immutable, lazy-evaluated collection of tuples, where each tuple is often interpreted as keys and their corresponding values. This is similar to how one might interpret a line in Hadoop MapReduce or a row in a data frame, though RDDs are different from both in that they are lazy-evaluated and thus not necessarily materialized.\n",
    "\n",
    "As RDDs are lazy-evaluated, they also contain information on how they were derived. This information takes the form of a directed graph called a lineage graph, which can be used during failure recovery."
   ]
  },
  {
   "cell_type": "markdown",
   "metadata": {},
   "source": [
    "> Show a fun example of creating one and bringing the first element back to the driver program."
   ]
  },
  {
   "cell_type": "code",
   "execution_count": 4,
   "metadata": {
    "collapsed": false
   },
   "outputs": [
    {
     "data": {
      "text/plain": [
       "'once'"
      ]
     },
     "execution_count": 4,
     "metadata": {},
     "output_type": "execute_result"
    }
   ],
   "source": [
    "# Let's pretend we have an array of elements\n",
    "\n",
    "story = ['once', 'upon', 'a', 'time']\n",
    "\n",
    "# We convert it into an RDD simply by using \"parallelize\"\n",
    "\n",
    "story_rdd = sc.parallelize(story)\n",
    "\n",
    "# We can retrieve the first element by asking for it with \"first\"\n",
    "\n",
    "story_rdd.first()"
   ]
  },
  {
   "cell_type": "markdown",
   "metadata": {},
   "source": [
    "> What is lazy evaluation and give an intuitive example of lazy evaluation and comment on the massive computational savings to be had from lazy evaluation."
   ]
  },
  {
   "cell_type": "markdown",
   "metadata": {},
   "source": [
    "Lazy evaluation is the notion that you only perform work when a result is actually needed.\n",
    "\n",
    "One example of lazy evaluation is if you are attempting to find 10 documents containing the word \"spark\" in a subset of the web graph consisting of a billion nodes. You might write the following Spark code which declares the web graph as an RDD, declare that you wish to `map` to associate each node with its actual task, `filter` the RDD for a document containing the word \"spark\", and `take` any 10 documents that match:\n",
    "\n",
    "    web_graph_rdd.map(load_page_text).filter(has_text('spark')).take(10)\n",
    "\n",
    "Without lazy evaluation (for example, if this was a Node.js array), the very first transformation attempts to load all text for all billion nodes in the web graph, and the very next transformation would then search all text on all billion nodes in the web graph to find the word \"spark\", and then you would wind up with only grabbing any 10 that matched.\n",
    "\n",
    "With lazy evaluation, once 10 documents are found, all further computation is no longer necessary and computation ends, potentially processing only a few thousand pages and web graph nodes instead of a billion pages."
   ]
  },
  {
   "cell_type": "markdown",
   "metadata": {},
   "source": [
    "# HW 10.1"
   ]
  },
  {
   "cell_type": "markdown",
   "metadata": {},
   "source": [
    "## HW 10.1.0"
   ]
  },
  {
   "cell_type": "markdown",
   "metadata": {},
   "source": [
    "### Acquire word count test document"
   ]
  },
  {
   "cell_type": "markdown",
   "metadata": {},
   "source": [
    "> In Spark write the code to count how often each word appears in a text document (or set of documents). Please use this homework document as a the example document to run an experiment. "
   ]
  },
  {
   "cell_type": "markdown",
   "metadata": {},
   "source": [
    "First, we need to acquire the homework document as an example document."
   ]
  },
  {
   "cell_type": "code",
   "execution_count": 5,
   "metadata": {
    "collapsed": true
   },
   "outputs": [],
   "source": [
    "import os\n",
    "\n",
    "input_file = 'MIDS-MLS-HW-10.txt'\n",
    "\n",
    "if not os.path.isfile(input_file):\n",
    "    !curl -Ls https://www.dropbox.com/s/0vnj77z74piklsy/MIDS-MLS-HW-10.txt > $input_file\n",
    "    !hdfs dfs -copyFromLocal $input_file"
   ]
  },
  {
   "cell_type": "markdown",
   "metadata": {},
   "source": [
    "### Execute word count against test document"
   ]
  },
  {
   "cell_type": "markdown",
   "metadata": {},
   "source": [
    "> Report the following: provide a sorted list of tokens in decreasing order of frequency of occurence."
   ]
  },
  {
   "cell_type": "markdown",
   "metadata": {},
   "source": [
    "Next, we write a Spark program to perform the word count on the example document and store it in the desired output folder."
   ]
  },
  {
   "cell_type": "code",
   "execution_count": 6,
   "metadata": {
    "collapsed": false
   },
   "outputs": [
    {
     "data": {
      "text/plain": [
       "[(u'the', 46),\n",
       " (u'and', 24),\n",
       " (u'in', 18),\n",
       " (u'of', 17),\n",
       " (u'10', 15),\n",
       " (u'HW', 13),\n",
       " (u'a', 13),\n",
       " (u'data', 11),\n",
       " (u'for', 11),\n",
       " (u'code', 10),\n",
       " (u'clusters', 9),\n",
       " (u'to', 9),\n",
       " (u'KMeans', 8),\n",
       " (u'is', 8),\n",
       " (u'1', 7),\n",
       " (u'2', 7),\n",
       " (u'3', 7),\n",
       " (u'HW10', 7),\n",
       " (u'Using', 7),\n",
       " (u'on', 7),\n",
       " (u'this', 7),\n",
       " (u'with', 7),\n",
       " (u'your', 7),\n",
       " (u'X', 6),\n",
       " (u'com', 6),\n",
       " (u'https', 6),\n",
       " (u's', 6),\n",
       " (u'x', 6),\n",
       " (u'0', 5),\n",
       " (u'as', 5),\n",
       " (u'from', 5),\n",
       " (u'iterations', 5),\n",
       " (u'kmeans_data', 5),\n",
       " (u'point', 5),\n",
       " (u'regression', 5),\n",
       " (u'txt', 5),\n",
       " (u'6', 4),\n",
       " (u'Comment', 4),\n",
       " (u'Set', 4),\n",
       " (u'Spark', 4),\n",
       " (u'Squared', 4),\n",
       " (u'Sum', 4),\n",
       " (u'What', 4),\n",
       " (u'Within', 4),\n",
       " (u'dl', 4),\n",
       " (u'dropbox', 4),\n",
       " (u'each', 4),\n",
       " (u'example', 4),\n",
       " (u'following', 4),\n",
       " (u'linear', 4),\n",
       " (u'model', 4),\n",
       " (u'one', 4),\n",
       " (u'provided', 4),\n",
       " (u'set', 4),\n",
       " (u'using', 4),\n",
       " (u'words', 4),\n",
       " (u'www', 4),\n",
       " (u'100', 3),\n",
       " (u'Errors', 3),\n",
       " (u'NOTE', 3),\n",
       " (u'Please', 3),\n",
       " (u'after', 3),\n",
       " (u'an', 3),\n",
       " (u'available', 3),\n",
       " (u'count', 3),\n",
       " (u'document', 3),\n",
       " (u'evaluation', 3),\n",
       " (u'findings', 3),\n",
       " (u'import', 3),\n",
       " (u'it', 3),\n",
       " (u'lambda', 3),\n",
       " (u'lazy', 3),\n",
       " (u'list', 3),\n",
       " (u'notebook', 3),\n",
       " (u'or', 3),\n",
       " (u'parsedData', 3),\n",
       " (u'plot', 3),\n",
       " (u'plots', 3),\n",
       " (u'report', 3),\n",
       " (u'results', 3),\n",
       " (u'sc', 3),\n",
       " (u'training', 3),\n",
       " (u'4', 2),\n",
       " (u'5', 2),\n",
       " (u'Apache', 2),\n",
       " (u'Explain', 2),\n",
       " (u'Fill', 2),\n",
       " (u'Generate', 2),\n",
       " (u'In', 2),\n",
       " (u'KMeansModel', 2),\n",
       " (u'LASS0', 2),\n",
       " (u'MLLib', 2),\n",
       " (u'MLlib', 2),\n",
       " (u'OPTIONAL', 2),\n",
       " (u'RIDGE', 2),\n",
       " (u'Report', 2),\n",
       " (u'SQRT', 2),\n",
       " (u'WSSSE', 2),\n",
       " (u'X1', 2),\n",
       " (u'X2', 2),\n",
       " (u'any', 2),\n",
       " (u'array', 2),\n",
       " (u'at', 2),\n",
       " (u'be', 2),\n",
       " (u'between', 2),\n",
       " (u'blanks', 2),\n",
       " (u'center', 2),\n",
       " (u'cluster', 2),\n",
       " (u'clustering', 2),\n",
       " (u'd', 2),\n",
       " (u'decreasing', 2),\n",
       " (u'differences', 2),\n",
       " (u'docs', 2),\n",
       " (u'error', 2),\n",
       " (u'follows', 2),\n",
       " (u'found', 2),\n",
       " (u'frequency', 2),\n",
       " (u'google', 2),\n",
       " (u'here', 2),\n",
       " (u'homework', 2),\n",
       " (u'how', 2),\n",
       " (u'ipynb', 2),\n",
       " (u'languages', 2),\n",
       " (u'line', 2),\n",
       " (u'load', 2),\n",
       " (u'map', 2),\n",
       " (u'myModelPath', 2),\n",
       " (u'order', 2),\n",
       " (u'per', 2),\n",
       " (u'points', 2),\n",
       " (u'provide', 2),\n",
       " (u'q85t0ytb9apggnh', 2),\n",
       " (u'repeat', 2),\n",
       " (u'run', 2),\n",
       " (u'runs', 2),\n",
       " (u'snippet', 2),\n",
       " (u'sqrt', 2),\n",
       " (u'team', 2),\n",
       " (u'testing', 2),\n",
       " (u'that', 2),\n",
       " (u'train', 2),\n",
       " (u'up', 2),\n",
       " (u'usp', 2),\n",
       " (u'vector', 2),\n",
       " (u'via', 2),\n",
       " (u'word', 2),\n",
       " (u'y', 2),\n",
       " (u'03', 1),\n",
       " (u'15', 1),\n",
       " (u'16slD8mYjP_nzMTPSfiGeLLzW8v_sMjg', 1),\n",
       " (u'1ZOr9RnIe_A06AcZDB6K1mJN4vrLeSmS2PD6Xm3eOiis', 1),\n",
       " (u'1ncFQl5Tovn', 1),\n",
       " (u'20', 1),\n",
       " (u'2016', 1),\n",
       " (u'3nsthvp8g2rrrdh', 1),\n",
       " (u'API', 1),\n",
       " (u'ASSIGNMENT', 1),\n",
       " (u'Again', 1),\n",
       " (u'Assignments', 1),\n",
       " (u'Berkeley', 1),\n",
       " (u'Build', 1),\n",
       " (u'Call', 1),\n",
       " (u'Challenge', 1),\n",
       " (u'DATA', 1),\n",
       " (u'DATSCI', 1),\n",
       " (u'Download', 1),\n",
       " (u'DropBox', 1),\n",
       " (u'EM', 1),\n",
       " (u'END', 1),\n",
       " (u'Error', 1),\n",
       " (u'Euclidean', 1),\n",
       " (u'Evaluate', 1),\n",
       " (u'Final', 1),\n",
       " (u'Gradient', 1),\n",
       " (u'Hadoop', 1),\n",
       " (u'Here', 1),\n",
       " (u'Homeworks', 1),\n",
       " (u'INSTURCTIONS', 1),\n",
       " (u'ISVC', 1),\n",
       " (u'Java', 1),\n",
       " (u'Justify', 1),\n",
       " (u'KMEans', 1),\n",
       " (u'Kmean', 1),\n",
       " (u'Kmeans', 1),\n",
       " (u'Learning', 1),\n",
       " (u'Linear', 1),\n",
       " (u'LinearRegression', 1),\n",
       " (u'LinearRegressionWithSGD', 1),\n",
       " (u'Load', 1),\n",
       " (u'MIDS', 1),\n",
       " (u'Machine', 1),\n",
       " (u'Mesos', 1),\n",
       " (u'Modify', 1),\n",
       " (u'Notebook', 1),\n",
       " (u'Plot', 1),\n",
       " (u'RDD', 1),\n",
       " (u'Regression', 1),\n",
       " (u'Run', 1),\n",
       " (u'SPECIAL', 1),\n",
       " (u'Save', 1),\n",
       " (u'Scale', 1),\n",
       " (u'See', 1),\n",
       " (u'Short', 1),\n",
       " (u'Team', 1),\n",
       " (u'Teams', 1),\n",
       " (u'Then', 1),\n",
       " (u'This', 1),\n",
       " (u'UC', 1),\n",
       " (u'V1', 1),\n",
       " (u'W261', 1),\n",
       " (u'Weight', 1),\n",
       " (u'Your', 1),\n",
       " (u'above', 1),\n",
       " (u'algorithms', 1),\n",
       " (u'all', 1),\n",
       " (u'answer', 1),\n",
       " (u'appears', 1),\n",
       " (u'applications', 1),\n",
       " (u'are', 1),\n",
       " (u'assignment', 1),\n",
       " (u'assignments', 1),\n",
       " (u'atzqkc0p1eajuz6', 1),\n",
       " (u'back', 1),\n",
       " (u'based', 1),\n",
       " (u'begin', 1),\n",
       " (u'bringing', 1),\n",
       " (u'by', 1),\n",
       " (u'can', 1),\n",
       " (u'carefully', 1),\n",
       " (u'case', 1),\n",
       " (u'cell', 1),\n",
       " (u'centers', 1),\n",
       " (u'centric', 1),\n",
       " (u'column', 1),\n",
       " (u'comment', 1),\n",
       " (u'completing', 1),\n",
       " (u'computational', 1),\n",
       " (u'compute', 1),\n",
       " (u'computing', 1),\n",
       " (u'consists', 1),\n",
       " (u'creating', 1),\n",
       " (u'dataset', 1),\n",
       " (u'def', 1),\n",
       " (u'descent', 1),\n",
       " (u'develop', 1),\n",
       " (u'different', 1),\n",
       " (u'distributed', 1),\n",
       " (u'do', 1),\n",
       " (u'documents', 1),\n",
       " (u'done', 1),\n",
       " (u'driver', 1),\n",
       " (u'edit', 1),\n",
       " (u'either', 1),\n",
       " (u'element', 1),\n",
       " (u'evaluate', 1),\n",
       " (u'exercise', 1),\n",
       " (u'experiements', 1),\n",
       " (u'experiment', 1),\n",
       " (u'experiments', 1),\n",
       " (u'find', 1),\n",
       " (u'first', 1),\n",
       " (u'float', 1),\n",
       " (u'follow', 1),\n",
       " (u'form', 1),\n",
       " (u'forms', 1),\n",
       " (u'forward', 1),\n",
       " (u'framework', 1),\n",
       " (u'fun', 1),\n",
       " (u'generation', 1),\n",
       " (u'get', 1),\n",
       " (u'give', 1),\n",
       " (u'going', 1),\n",
       " (u'good', 1),\n",
       " (u'group', 1),\n",
       " (u'had', 1),\n",
       " (u'homegrown', 1),\n",
       " (u'homeworks', 1),\n",
       " (u'hundred', 1),\n",
       " (u'hyper', 1),\n",
       " (u'implementation', 1),\n",
       " (u'initializationMode', 1),\n",
       " (u'instance', 1),\n",
       " (u'instructions', 1),\n",
       " (u'interfaces', 1),\n",
       " (u'intuitoive', 1),\n",
       " (u'inverse', 1),\n",
       " (u'iteration', 1),\n",
       " (u'la', 1),\n",
       " (u'labeled', 1),\n",
       " (u'length', 1),\n",
       " (u'letters', 1),\n",
       " (u'links', 1),\n",
       " (u'located', 1),\n",
       " (u'lower', 1),\n",
       " (u'made', 1),\n",
       " (u'management', 1),\n",
       " (u'manner', 1),\n",
       " (u'massive', 1),\n",
       " (u'math', 1),\n",
       " (u'maxIterations', 1),\n",
       " (u'measure', 1),\n",
       " (u'mllib', 1),\n",
       " (u'modify', 1),\n",
       " (u'more', 1),\n",
       " (u'norm', 1),\n",
       " (u'not', 1),\n",
       " (u'number', 1),\n",
       " (u'numpy', 1),\n",
       " (u'occurence', 1),\n",
       " (u'often', 1),\n",
       " (u'other', 1),\n",
       " (u'output', 1),\n",
       " (u'parameters', 1),\n",
       " (u'parse', 1),\n",
       " (u'please', 1),\n",
       " (u'predict', 1),\n",
       " (u'print', 1),\n",
       " (u'program', 1),\n",
       " (u'progress', 1),\n",
       " (u'pyspark', 1),\n",
       " (u'questions', 1),\n",
       " (u'random', 1),\n",
       " (u'reduce', 1),\n",
       " (u'regularization', 1),\n",
       " (u'resource', 1),\n",
       " (u'resulting', 1),\n",
       " (u'return', 1),\n",
       " (u'sameModel', 1),\n",
       " (u'save', 1),\n",
       " (u'savings', 1),\n",
       " (u'send_form', 1),\n",
       " (u'separate', 1),\n",
       " (u'server', 1),\n",
       " (u'sets', 1),\n",
       " (u'sharing', 1),\n",
       " (u'show', 1),\n",
       " (u'single', 1),\n",
       " (u'sort', 1),\n",
       " (u'sorted', 1),\n",
       " (u'split', 1),\n",
       " (u'spreadsheets', 1),\n",
       " (u'str', 1),\n",
       " (u'submissions', 1),\n",
       " (u'submit', 1),\n",
       " (u'such', 1),\n",
       " (u'sum', 1),\n",
       " (u'tab', 1),\n",
       " (u'text', 1),\n",
       " (u'textFile', 1),\n",
       " (u'thru', 1),\n",
       " (u'tokens', 1),\n",
       " (u'tune', 1),\n",
       " (u'use', 1),\n",
       " (u'viewform', 1),\n",
       " (u'weeks', 1),\n",
       " (u'weight', 1),\n",
       " (u'weighted', 1),\n",
       " (u'where', 1),\n",
       " (u'work', 1),\n",
       " (u'write', 1),\n",
       " (u'z', 1)]"
      ]
     },
     "execution_count": 6,
     "metadata": {},
     "output_type": "execute_result"
    }
   ],
   "source": [
    "import operator\n",
    "import re\n",
    "\n",
    "# Construct an RDD for the word count\n",
    "\n",
    "word_count_rdd = sc.textFile(input_file) \\\n",
    "    .flatMap(lambda x: re.findall('\\w+', x)) \\\n",
    "    .map(lambda x: (x, 1)) \\\n",
    "    .reduceByKey(operator.add) \\\n",
    "    .sortBy(lambda x: (-1 * x[1], x[0]))\n",
    "\n",
    "# Take all tuples\n",
    "    \n",
    "word_count_rdd.collect()"
   ]
  },
  {
   "cell_type": "markdown",
   "metadata": {},
   "source": [
    "## HW 10.1.1"
   ]
  },
  {
   "cell_type": "markdown",
   "metadata": {},
   "source": [
    "### Add filter to original word-count code"
   ]
  },
  {
   "cell_type": "markdown",
   "metadata": {},
   "source": [
    "> Modify the above word count code to count words that begin with lower case letters (a-z) and report your findings. Again sort the output words in decreasing order of frequency."
   ]
  },
  {
   "cell_type": "markdown",
   "metadata": {},
   "source": [
    "While we could modify the regular expression used to extract words so that it specifically looks for lowercase ASCII letters as the first character, we can also use `filter` in order to check if the first character for any matching word matches our new restriction."
   ]
  },
  {
   "cell_type": "code",
   "execution_count": 7,
   "metadata": {
    "collapsed": false
   },
   "outputs": [
    {
     "data": {
      "text/plain": [
       "[(u'the', 46),\n",
       " (u'and', 24),\n",
       " (u'in', 18),\n",
       " (u'of', 17),\n",
       " (u'a', 13),\n",
       " (u'data', 11),\n",
       " (u'for', 11),\n",
       " (u'code', 10),\n",
       " (u'clusters', 9),\n",
       " (u'to', 9),\n",
       " (u'is', 8),\n",
       " (u'on', 7),\n",
       " (u'this', 7),\n",
       " (u'with', 7),\n",
       " (u'your', 7),\n",
       " (u'com', 6),\n",
       " (u'https', 6),\n",
       " (u's', 6),\n",
       " (u'x', 6),\n",
       " (u'as', 5),\n",
       " (u'from', 5),\n",
       " (u'iterations', 5),\n",
       " (u'kmeans_data', 5),\n",
       " (u'point', 5),\n",
       " (u'regression', 5),\n",
       " (u'txt', 5),\n",
       " (u'dl', 4),\n",
       " (u'dropbox', 4),\n",
       " (u'each', 4),\n",
       " (u'example', 4),\n",
       " (u'following', 4),\n",
       " (u'linear', 4),\n",
       " (u'model', 4),\n",
       " (u'one', 4),\n",
       " (u'provided', 4),\n",
       " (u'set', 4),\n",
       " (u'using', 4),\n",
       " (u'words', 4),\n",
       " (u'www', 4),\n",
       " (u'after', 3),\n",
       " (u'an', 3),\n",
       " (u'available', 3),\n",
       " (u'count', 3),\n",
       " (u'document', 3),\n",
       " (u'evaluation', 3),\n",
       " (u'findings', 3),\n",
       " (u'import', 3),\n",
       " (u'it', 3),\n",
       " (u'lambda', 3),\n",
       " (u'lazy', 3),\n",
       " (u'list', 3),\n",
       " (u'notebook', 3),\n",
       " (u'or', 3),\n",
       " (u'parsedData', 3),\n",
       " (u'plot', 3),\n",
       " (u'plots', 3),\n",
       " (u'report', 3),\n",
       " (u'results', 3),\n",
       " (u'sc', 3),\n",
       " (u'training', 3),\n",
       " (u'any', 2),\n",
       " (u'array', 2),\n",
       " (u'at', 2),\n",
       " (u'be', 2),\n",
       " (u'between', 2),\n",
       " (u'blanks', 2),\n",
       " (u'center', 2),\n",
       " (u'cluster', 2),\n",
       " (u'clustering', 2),\n",
       " (u'd', 2),\n",
       " (u'decreasing', 2),\n",
       " (u'differences', 2),\n",
       " (u'docs', 2),\n",
       " (u'error', 2),\n",
       " (u'follows', 2),\n",
       " (u'found', 2),\n",
       " (u'frequency', 2),\n",
       " (u'google', 2),\n",
       " (u'here', 2),\n",
       " (u'homework', 2),\n",
       " (u'how', 2),\n",
       " (u'ipynb', 2),\n",
       " (u'languages', 2),\n",
       " (u'line', 2),\n",
       " (u'load', 2),\n",
       " (u'map', 2),\n",
       " (u'myModelPath', 2),\n",
       " (u'order', 2),\n",
       " (u'per', 2),\n",
       " (u'points', 2),\n",
       " (u'provide', 2),\n",
       " (u'q85t0ytb9apggnh', 2),\n",
       " (u'repeat', 2),\n",
       " (u'run', 2),\n",
       " (u'runs', 2),\n",
       " (u'snippet', 2),\n",
       " (u'sqrt', 2),\n",
       " (u'team', 2),\n",
       " (u'testing', 2),\n",
       " (u'that', 2),\n",
       " (u'train', 2),\n",
       " (u'up', 2),\n",
       " (u'usp', 2),\n",
       " (u'vector', 2),\n",
       " (u'via', 2),\n",
       " (u'word', 2),\n",
       " (u'y', 2),\n",
       " (u'above', 1),\n",
       " (u'algorithms', 1),\n",
       " (u'all', 1),\n",
       " (u'answer', 1),\n",
       " (u'appears', 1),\n",
       " (u'applications', 1),\n",
       " (u'are', 1),\n",
       " (u'assignment', 1),\n",
       " (u'assignments', 1),\n",
       " (u'atzqkc0p1eajuz6', 1),\n",
       " (u'back', 1),\n",
       " (u'based', 1),\n",
       " (u'begin', 1),\n",
       " (u'bringing', 1),\n",
       " (u'by', 1),\n",
       " (u'can', 1),\n",
       " (u'carefully', 1),\n",
       " (u'case', 1),\n",
       " (u'cell', 1),\n",
       " (u'centers', 1),\n",
       " (u'centric', 1),\n",
       " (u'column', 1),\n",
       " (u'comment', 1),\n",
       " (u'completing', 1),\n",
       " (u'computational', 1),\n",
       " (u'compute', 1),\n",
       " (u'computing', 1),\n",
       " (u'consists', 1),\n",
       " (u'creating', 1),\n",
       " (u'dataset', 1),\n",
       " (u'def', 1),\n",
       " (u'descent', 1),\n",
       " (u'develop', 1),\n",
       " (u'different', 1),\n",
       " (u'distributed', 1),\n",
       " (u'do', 1),\n",
       " (u'documents', 1),\n",
       " (u'done', 1),\n",
       " (u'driver', 1),\n",
       " (u'edit', 1),\n",
       " (u'either', 1),\n",
       " (u'element', 1),\n",
       " (u'evaluate', 1),\n",
       " (u'exercise', 1),\n",
       " (u'experiements', 1),\n",
       " (u'experiment', 1),\n",
       " (u'experiments', 1),\n",
       " (u'find', 1),\n",
       " (u'first', 1),\n",
       " (u'float', 1),\n",
       " (u'follow', 1),\n",
       " (u'form', 1),\n",
       " (u'forms', 1),\n",
       " (u'forward', 1),\n",
       " (u'framework', 1),\n",
       " (u'fun', 1),\n",
       " (u'generation', 1),\n",
       " (u'get', 1),\n",
       " (u'give', 1),\n",
       " (u'going', 1),\n",
       " (u'good', 1),\n",
       " (u'group', 1),\n",
       " (u'had', 1),\n",
       " (u'homegrown', 1),\n",
       " (u'homeworks', 1),\n",
       " (u'hundred', 1),\n",
       " (u'hyper', 1),\n",
       " (u'implementation', 1),\n",
       " (u'initializationMode', 1),\n",
       " (u'instance', 1),\n",
       " (u'instructions', 1),\n",
       " (u'interfaces', 1),\n",
       " (u'intuitoive', 1),\n",
       " (u'inverse', 1),\n",
       " (u'iteration', 1),\n",
       " (u'la', 1),\n",
       " (u'labeled', 1),\n",
       " (u'length', 1),\n",
       " (u'letters', 1),\n",
       " (u'links', 1),\n",
       " (u'located', 1),\n",
       " (u'lower', 1),\n",
       " (u'made', 1),\n",
       " (u'management', 1),\n",
       " (u'manner', 1),\n",
       " (u'massive', 1),\n",
       " (u'math', 1),\n",
       " (u'maxIterations', 1),\n",
       " (u'measure', 1),\n",
       " (u'mllib', 1),\n",
       " (u'modify', 1),\n",
       " (u'more', 1),\n",
       " (u'norm', 1),\n",
       " (u'not', 1),\n",
       " (u'number', 1),\n",
       " (u'numpy', 1),\n",
       " (u'occurence', 1),\n",
       " (u'often', 1),\n",
       " (u'other', 1),\n",
       " (u'output', 1),\n",
       " (u'parameters', 1),\n",
       " (u'parse', 1),\n",
       " (u'please', 1),\n",
       " (u'predict', 1),\n",
       " (u'print', 1),\n",
       " (u'program', 1),\n",
       " (u'progress', 1),\n",
       " (u'pyspark', 1),\n",
       " (u'questions', 1),\n",
       " (u'random', 1),\n",
       " (u'reduce', 1),\n",
       " (u'regularization', 1),\n",
       " (u'resource', 1),\n",
       " (u'resulting', 1),\n",
       " (u'return', 1),\n",
       " (u'sameModel', 1),\n",
       " (u'save', 1),\n",
       " (u'savings', 1),\n",
       " (u'send_form', 1),\n",
       " (u'separate', 1),\n",
       " (u'server', 1),\n",
       " (u'sets', 1),\n",
       " (u'sharing', 1),\n",
       " (u'show', 1),\n",
       " (u'single', 1),\n",
       " (u'sort', 1),\n",
       " (u'sorted', 1),\n",
       " (u'split', 1),\n",
       " (u'spreadsheets', 1),\n",
       " (u'str', 1),\n",
       " (u'submissions', 1),\n",
       " (u'submit', 1),\n",
       " (u'such', 1),\n",
       " (u'sum', 1),\n",
       " (u'tab', 1),\n",
       " (u'text', 1),\n",
       " (u'textFile', 1),\n",
       " (u'thru', 1),\n",
       " (u'tokens', 1),\n",
       " (u'tune', 1),\n",
       " (u'use', 1),\n",
       " (u'viewform', 1),\n",
       " (u'weeks', 1),\n",
       " (u'weight', 1),\n",
       " (u'weighted', 1),\n",
       " (u'where', 1),\n",
       " (u'work', 1),\n",
       " (u'write', 1),\n",
       " (u'z', 1)]"
      ]
     },
     "execution_count": 7,
     "metadata": {},
     "output_type": "execute_result"
    }
   ],
   "source": [
    "import operator\n",
    "import re\n",
    "import string\n",
    "\n",
    "# Construct an RDD for the word count\n",
    "\n",
    "word_count_rdd = sc.textFile(input_file) \\\n",
    "    .flatMap(lambda x: re.findall('\\w+', x)) \\\n",
    "    .filter(lambda x: x[0] in string.ascii_lowercase) \\\n",
    "    .map(lambda x: (x, 1)) \\\n",
    "    .reduceByKey(operator.add) \\\n",
    "    .sortBy(lambda x: (-1 * x[1], x[0]))\n",
    "\n",
    "# Take all tuples\n",
    "    \n",
    "word_count_rdd.collect()"
   ]
  },
  {
   "cell_type": "markdown",
   "metadata": {},
   "source": [
    "# HW 10.2: KMeans a la MLLib"
   ]
  },
  {
   "cell_type": "markdown",
   "metadata": {},
   "source": [
    "## Explore sample data"
   ]
  },
  {
   "cell_type": "markdown",
   "metadata": {},
   "source": [
    "> NOTE: kmeans_data.txt is available here https://www.dropbox.com/s/q85t0ytb9apggnh/kmeans_data.txt?dl=0"
   ]
  },
  {
   "cell_type": "markdown",
   "metadata": {},
   "source": [
    "First we need to retrieve the data."
   ]
  },
  {
   "cell_type": "code",
   "execution_count": 8,
   "metadata": {
    "collapsed": true
   },
   "outputs": [],
   "source": [
    "input_file = 'kmeans_data.txt'\n",
    "\n",
    "if not os.path.isfile(input_file):\n",
    "    !curl -Ls https://www.dropbox.com/s/q85t0ytb9apggnh/kmeans_data.txt > $input_file\n",
    "    !hdfs dfs -copyFromLocal $input_file"
   ]
  },
  {
   "cell_type": "markdown",
   "metadata": {},
   "source": [
    "Let's take a quick look at the data."
   ]
  },
  {
   "cell_type": "code",
   "execution_count": 9,
   "metadata": {
    "collapsed": false
   },
   "outputs": [
    {
     "name": "stdout",
     "output_type": "stream",
     "text": [
      "0.0 0.0 0.0\r\n",
      "0.1 0.1 0.1\r\n",
      "0.2 0.2 0.2\r\n",
      "9.0 9.0 9.0\r\n",
      "9.1 9.1 9.1\r\n",
      "9.2 9.2 9.2\r\n"
     ]
    }
   ],
   "source": [
    "!head kmeans_data.txt"
   ]
  },
  {
   "cell_type": "markdown",
   "metadata": {},
   "source": [
    "If we were to run a k-means algorithm with $k = 2$, it wound find the two centers at `(0.1, 0.1, 0.1)` and `(9.1, 9.1, 9.1)`."
   ]
  },
  {
   "cell_type": "markdown",
   "metadata": {},
   "source": [
    "## Run MLLib k-means on sample data"
   ]
  },
  {
   "cell_type": "markdown",
   "metadata": {},
   "source": [
    "> Run this code snippet."
   ]
  },
  {
   "cell_type": "code",
   "execution_count": 10,
   "metadata": {
    "collapsed": false
   },
   "outputs": [],
   "source": [
    "from pyspark.mllib.clustering import KMeans, KMeansModel\n",
    "from numpy import array\n",
    "from math import sqrt\n",
    "\n",
    "# Load and parse the data\n",
    "# NOTE  kmeans_data.txt is available here\n",
    "#          https://www.dropbox.com/s/q85t0ytb9apggnh/kmeans_data.txt?dl=0\n",
    "data = sc.textFile(\"kmeans_data.txt\")\n",
    "parsedData = data.map(lambda line: array([float(x) for x in line.split(' ')]))\n",
    "\n",
    "# Build the model (cluster the data)\n",
    "clusters = KMeans.train(parsedData, 2, maxIterations=10, initializationMode=\"random\")"
   ]
  },
  {
   "cell_type": "markdown",
   "metadata": {},
   "source": [
    "## Evaluate MLLib k-means clusters from sample data"
   ]
  },
  {
   "cell_type": "markdown",
   "metadata": {},
   "source": [
    "> List the clusters that you find."
   ]
  },
  {
   "cell_type": "markdown",
   "metadata": {},
   "source": [
    "Cluster centers are available as an attribute on the model."
   ]
  },
  {
   "cell_type": "code",
   "execution_count": 11,
   "metadata": {
    "collapsed": false
   },
   "outputs": [
    {
     "data": {
      "text/plain": [
       "[array([ 9.1,  9.1,  9.1]), array([ 0.1,  0.1,  0.1])]"
      ]
     },
     "execution_count": 11,
     "metadata": {},
     "output_type": "execute_result"
    }
   ],
   "source": [
    "clusters.centers"
   ]
  },
  {
   "cell_type": "markdown",
   "metadata": {},
   "source": [
    "> Compute the Within Set Sum of Squared Errors for the found clusters."
   ]
  },
  {
   "cell_type": "markdown",
   "metadata": {},
   "source": [
    "The provided code includes a snippet for computing the within-set sum of squared errors for the clusters. We'll simplify it by passing the error function directly rather than through a lambda function and use the add function from the `operator` module instead of declaring a lambda function."
   ]
  },
  {
   "cell_type": "code",
   "execution_count": 12,
   "metadata": {
    "collapsed": false
   },
   "outputs": [
    {
     "name": "stdout",
     "output_type": "stream",
     "text": [
      "Within Set Sum of Squared Error = 0.692820323028\n"
     ]
    }
   ],
   "source": [
    "import operator\n",
    "\n",
    "# Evaluate clustering by computing Within Set Sum of Squared Errors\n",
    "def error(point):\n",
    "    center = clusters.centers[clusters.predict(point)]\n",
    "    return sqrt(sum([x**2 for x in (point - center)]))\n",
    "\n",
    "WSSSE = parsedData.map(error).reduce(operator.add)\n",
    "print \"Within Set Sum of Squared Error =\", WSSSE"
   ]
  },
  {
   "cell_type": "markdown",
   "metadata": {},
   "source": [
    "> Comment on your findings."
   ]
  },
  {
   "cell_type": "markdown",
   "metadata": {},
   "source": [
    "We see that it's chosen the two anticipated centers from the data set, and that the sum of squared error is straightforward to compute as an RDD."
   ]
  },
  {
   "cell_type": "markdown",
   "metadata": {},
   "source": [
    "# HW 10.3"
   ]
  },
  {
   "cell_type": "markdown",
   "metadata": {},
   "source": [
    "## Generate random data"
   ]
  },
  {
   "cell_type": "markdown",
   "metadata": {},
   "source": [
    "> Download the following KMeans notebook:\n",
    "\n",
    "> https://www.dropbox.com/s/3nsthvp8g2rrrdh/EM-Kmeans.ipynb\n",
    "\n",
    "> Generate 3 clusters with 100 (one hundred) data points per cluster (using the code provided)."
   ]
  },
  {
   "cell_type": "markdown",
   "metadata": {},
   "source": [
    "Use the provided code and change the size from 1000 to 100."
   ]
  },
  {
   "cell_type": "code",
   "execution_count": 13,
   "metadata": {
    "collapsed": false
   },
   "outputs": [],
   "source": [
    "import numpy as np\n",
    "\n",
    "size1 = size2 = size3 = 100\n",
    "\n",
    "samples1 = np.random.multivariate_normal([4, 0], [[1, 0],[0, 1]], size1)\n",
    "samples2 = np.random.multivariate_normal([6, 6], [[1, 0],[0, 1]], size2)\n",
    "samples3 = np.random.multivariate_normal([0, 4], [[1, 0],[0, 1]], size3)\n",
    "\n",
    "data = np.vstack([samples1,samples2,samples3])\n",
    "\n",
    "# Randomize data\n",
    "data = data[np.random.permutation(size1+size2+size3),]"
   ]
  },
  {
   "cell_type": "markdown",
   "metadata": {},
   "source": [
    "Let's also make sure the data is available in Hadoop for some of the sample code."
   ]
  },
  {
   "cell_type": "code",
   "execution_count": 14,
   "metadata": {
    "collapsed": false
   },
   "outputs": [
    {
     "name": "stdout",
     "output_type": "stream",
     "text": [
      "Deleted data.csv\r\n"
     ]
    }
   ],
   "source": [
    "np.savetxt('data.csv',data,delimiter = ',')\n",
    "\n",
    "!hdfs dfs -rm -f -skipTrash data.csv\n",
    "!hdfs dfs -copyFromLocal data.csv"
   ]
  },
  {
   "cell_type": "markdown",
   "metadata": {},
   "source": [
    "## Explore random data"
   ]
  },
  {
   "cell_type": "markdown",
   "metadata": {},
   "source": [
    "> Plot the data."
   ]
  },
  {
   "cell_type": "markdown",
   "metadata": {},
   "source": [
    "Update the provided code to plot the data using a reusable function."
   ]
  },
  {
   "cell_type": "code",
   "execution_count": 15,
   "metadata": {
    "collapsed": false
   },
   "outputs": [
    {
     "data": {
      "image/png": "[encoded data removed]",
      "text/plain": [
       "<matplotlib.figure.Figure at 0x7ff808ff3b10>"
      ]
     },
     "metadata": {},
     "output_type": "display_data"
    }
   ],
   "source": [
    "%matplotlib inline\n",
    "\n",
    "import pylab\n",
    "\n",
    "def plot_clusters(title, cluster1, cluster2, cluster3, means = None):\n",
    "    pylab.plot(cluster1[:, 0], cluster1[:, 1], '*', color = 'red')\n",
    "    pylab.plot(cluster2[:, 0], cluster2[:, 1], 'o', color = 'blue')\n",
    "    pylab.plot(cluster3[:, 0], cluster3[:, 1], '+', color = 'green')\n",
    "    \n",
    "    if means is not None:\n",
    "        pylab.plot(means[0][0], means[0][1],'*',markersize =10,color = 'red')\n",
    "        pylab.plot(means[1][0], means[1][1],'*',markersize =10,color = 'red')\n",
    "        pylab.plot(means[2][0], means[2][1],'*',markersize =10,color = 'red')\n",
    "    \n",
    "    pylab.title(title)\n",
    "    pylab.show()\n",
    "    \n",
    "    if means is not None:\n",
    "        display(pandas.DataFrame(means, columns = ['x', 'y']))\n",
    "\n",
    "plot_clusters('True Clusters', samples1, samples2, samples3)"
   ]
  },
  {
   "cell_type": "markdown",
   "metadata": {},
   "source": [
    "## Run MLLib k-means on random data"
   ]
  },
  {
   "cell_type": "markdown",
   "metadata": {},
   "source": [
    "> Then run MLlib's Kmean implementation on this data  and report your results as follows:\n",
    "\n",
    "> * Plot the resulting clusters after 1 iteration, 10 iterations, after 20 iterations, after 100 iterations.\n",
    "> * In each plot please report the Within Set Sum of Squared Errors for the found clusters. Comment on the progress of this measure as the KMEans algorithms runs for more iterations"
   ]
  },
  {
   "cell_type": "markdown",
   "metadata": {},
   "source": [
    "First, we'll see what the clusters are after 1 iteration, 10 iterations, 20 iterations, and 100 iterations."
   ]
  },
  {
   "cell_type": "code",
   "execution_count": 16,
   "metadata": {
    "collapsed": false
   },
   "outputs": [
    {
     "data": {
      "image/png": "[encoded data removed]",
      "text/plain": [
       "<matplotlib.figure.Figure at 0x7ff7ffd7da10>"
      ]
     },
     "metadata": {},
     "output_type": "display_data"
    },
    {
     "data": {
      "text/html": [
       "<div>\n",
       "<table border=\"1\" class=\"dataframe\">\n",
       "  <thead>\n",
       "    <tr style=\"text-align: right;\">\n",
       "      <th></th>\n",
       "      <th>x</th>\n",
       "      <th>y</th>\n",
       "    </tr>\n",
       "  </thead>\n",
       "  <tbody>\n",
       "    <tr>\n",
       "      <th>0</th>\n",
       "      <td>4.005114</td>\n",
       "      <td>-1.054960</td>\n",
       "    </tr>\n",
       "    <tr>\n",
       "      <th>1</th>\n",
       "      <td>0.038093</td>\n",
       "      <td>3.879592</td>\n",
       "    </tr>\n",
       "    <tr>\n",
       "      <th>2</th>\n",
       "      <td>5.261067</td>\n",
       "      <td>4.143618</td>\n",
       "    </tr>\n",
       "  </tbody>\n",
       "</table>\n",
       "</div>"
      ],
      "text/plain": [
       "          x         y\n",
       "0  4.005114 -1.054960\n",
       "1  0.038093  3.879592\n",
       "2  5.261067  4.143618"
      ]
     },
     "metadata": {},
     "output_type": "display_data"
    },
    {
     "data": {
      "image/png": "[encoded data removed]",
      "text/plain": [
       "<matplotlib.figure.Figure at 0x7ff7fe2729d0>"
      ]
     },
     "metadata": {},
     "output_type": "display_data"
    },
    {
     "data": {
      "text/html": [
       "<div>\n",
       "<table border=\"1\" class=\"dataframe\">\n",
       "  <thead>\n",
       "    <tr style=\"text-align: right;\">\n",
       "      <th></th>\n",
       "      <th>x</th>\n",
       "      <th>y</th>\n",
       "    </tr>\n",
       "  </thead>\n",
       "  <tbody>\n",
       "    <tr>\n",
       "      <th>0</th>\n",
       "      <td>4.087475</td>\n",
       "      <td>-0.228881</td>\n",
       "    </tr>\n",
       "    <tr>\n",
       "      <th>1</th>\n",
       "      <td>0.101434</td>\n",
       "      <td>3.838797</td>\n",
       "    </tr>\n",
       "    <tr>\n",
       "      <th>2</th>\n",
       "      <td>5.907331</td>\n",
       "      <td>6.024320</td>\n",
       "    </tr>\n",
       "  </tbody>\n",
       "</table>\n",
       "</div>"
      ],
      "text/plain": [
       "          x         y\n",
       "0  4.087475 -0.228881\n",
       "1  0.101434  3.838797\n",
       "2  5.907331  6.024320"
      ]
     },
     "metadata": {},
     "output_type": "display_data"
    },
    {
     "data": {
      "image/png": "[encoded data removed]",
      "text/plain": [
       "<matplotlib.figure.Figure at 0x7ff7fe272990>"
      ]
     },
     "metadata": {},
     "output_type": "display_data"
    },
    {
     "data": {
      "text/html": [
       "<div>\n",
       "<table border=\"1\" class=\"dataframe\">\n",
       "  <thead>\n",
       "    <tr style=\"text-align: right;\">\n",
       "      <th></th>\n",
       "      <th>x</th>\n",
       "      <th>y</th>\n",
       "    </tr>\n",
       "  </thead>\n",
       "  <tbody>\n",
       "    <tr>\n",
       "      <th>0</th>\n",
       "      <td>0.135199</td>\n",
       "      <td>3.835222</td>\n",
       "    </tr>\n",
       "    <tr>\n",
       "      <th>1</th>\n",
       "      <td>4.087475</td>\n",
       "      <td>-0.228881</td>\n",
       "    </tr>\n",
       "    <tr>\n",
       "      <th>2</th>\n",
       "      <td>5.930612</td>\n",
       "      <td>6.049858</td>\n",
       "    </tr>\n",
       "  </tbody>\n",
       "</table>\n",
       "</div>"
      ],
      "text/plain": [
       "          x         y\n",
       "0  0.135199  3.835222\n",
       "1  4.087475 -0.228881\n",
       "2  5.930612  6.049858"
      ]
     },
     "metadata": {},
     "output_type": "display_data"
    },
    {
     "data": {
      "image/png": "[encoded data removed]",
      "text/plain": [
       "<matplotlib.figure.Figure at 0x7ff7fe19e410>"
      ]
     },
     "metadata": {},
     "output_type": "display_data"
    },
    {
     "data": {
      "text/html": [
       "<div>\n",
       "<table border=\"1\" class=\"dataframe\">\n",
       "  <thead>\n",
       "    <tr style=\"text-align: right;\">\n",
       "      <th></th>\n",
       "      <th>x</th>\n",
       "      <th>y</th>\n",
       "    </tr>\n",
       "  </thead>\n",
       "  <tbody>\n",
       "    <tr>\n",
       "      <th>0</th>\n",
       "      <td>0.135199</td>\n",
       "      <td>3.835222</td>\n",
       "    </tr>\n",
       "    <tr>\n",
       "      <th>1</th>\n",
       "      <td>5.930612</td>\n",
       "      <td>6.049858</td>\n",
       "    </tr>\n",
       "    <tr>\n",
       "      <th>2</th>\n",
       "      <td>4.087475</td>\n",
       "      <td>-0.228881</td>\n",
       "    </tr>\n",
       "  </tbody>\n",
       "</table>\n",
       "</div>"
      ],
      "text/plain": [
       "          x         y\n",
       "0  0.135199  3.835222\n",
       "1  5.930612  6.049858\n",
       "2  4.087475 -0.228881"
      ]
     },
     "metadata": {},
     "output_type": "display_data"
    }
   ],
   "source": [
    "import functools\n",
    "from IPython.display import display\n",
    "import numpy\n",
    "import operator\n",
    "import pandas\n",
    "\n",
    "# Create functions to filter the RDD\n",
    "\n",
    "def in_cluster(cluster_id, point):\n",
    "    return clusters.predict(point) == cluster_id\n",
    "\n",
    "def get_cluster(cluster_id):\n",
    "    in_my_cluster = functools.partial(in_cluster, cluster_id)\n",
    "    return numpy.array(data_rdd.filter(in_my_cluster).collect())\n",
    "\n",
    "# Run the iterations\n",
    "\n",
    "data_rdd = sc.parallelize(data)\n",
    "\n",
    "for i in [1, 10, 20, 100]:\n",
    "    clusters = KMeans.train(data_rdd, 3, maxIterations=i, initializationMode='random')\n",
    "    WSSSE = data_rdd.map(error).reduce(operator.add)\n",
    "\n",
    "    plot_clusters(\n",
    "        'Iterations: ' + str(i) + ' (WSSSE = ' + str(WSSSE) + ')',\n",
    "        get_cluster(0), get_cluster(1), get_cluster(2), clusters.centers)"
   ]
  },
  {
   "cell_type": "markdown",
   "metadata": {},
   "source": [
    "## Evaluate MLLib k-means clusters from random data"
   ]
  },
  {
   "cell_type": "markdown",
   "metadata": {},
   "source": [
    "Depending on which random point we start with, we may wind up with the correct clusters right at the start or we may be slightly off. More iterations ultimately stabilizes the Within Set Sum of Squared Errors to the values we find for the true clusters."
   ]
  },
  {
   "cell_type": "markdown",
   "metadata": {},
   "source": [
    "# HW 10.4"
   ]
  },
  {
   "cell_type": "markdown",
   "metadata": {},
   "source": [
    "## Run home-grown k-means on random data"
   ]
  },
  {
   "cell_type": "markdown",
   "metadata": {},
   "source": [
    "> Using the KMeans code (homegrown code) provided repeat the experiments in HW10.3."
   ]
  },
  {
   "cell_type": "markdown",
   "metadata": {},
   "source": [
    "Below is the homegrown code from the provided notebook."
   ]
  },
  {
   "cell_type": "code",
   "execution_count": 17,
   "metadata": {
    "collapsed": false
   },
   "outputs": [
    {
     "data": {
      "image/png": "[encoded data removed]",
      "text/plain": [
       "<matplotlib.figure.Figure at 0x7ff7fe2bd9d0>"
      ]
     },
     "metadata": {},
     "output_type": "display_data"
    },
    {
     "data": {
      "text/html": [
       "<div>\n",
       "<table border=\"1\" class=\"dataframe\">\n",
       "  <thead>\n",
       "    <tr style=\"text-align: right;\">\n",
       "      <th></th>\n",
       "      <th>x</th>\n",
       "      <th>y</th>\n",
       "    </tr>\n",
       "  </thead>\n",
       "  <tbody>\n",
       "    <tr>\n",
       "      <th>0</th>\n",
       "      <td>1.157413</td>\n",
       "      <td>0.336773</td>\n",
       "    </tr>\n",
       "    <tr>\n",
       "      <th>1</th>\n",
       "      <td>3.751103</td>\n",
       "      <td>2.651675</td>\n",
       "    </tr>\n",
       "    <tr>\n",
       "      <th>2</th>\n",
       "      <td>2.801927</td>\n",
       "      <td>5.904107</td>\n",
       "    </tr>\n",
       "  </tbody>\n",
       "</table>\n",
       "</div>"
      ],
      "text/plain": [
       "          x         y\n",
       "0  1.157413  0.336773\n",
       "1  3.751103  2.651675\n",
       "2  2.801927  5.904107"
      ]
     },
     "metadata": {},
     "output_type": "display_data"
    },
    {
     "data": {
      "image/png": "[encoded data removed]",
      "text/plain": [
       "<matplotlib.figure.Figure at 0x7ff7fe0bd990>"
      ]
     },
     "metadata": {},
     "output_type": "display_data"
    },
    {
     "data": {
      "text/html": [
       "<div>\n",
       "<table border=\"1\" class=\"dataframe\">\n",
       "  <thead>\n",
       "    <tr style=\"text-align: right;\">\n",
       "      <th></th>\n",
       "      <th>x</th>\n",
       "      <th>y</th>\n",
       "    </tr>\n",
       "  </thead>\n",
       "  <tbody>\n",
       "    <tr>\n",
       "      <th>0</th>\n",
       "      <td>1.758122</td>\n",
       "      <td>0.938206</td>\n",
       "    </tr>\n",
       "    <tr>\n",
       "      <th>1</th>\n",
       "      <td>4.544708</td>\n",
       "      <td>1.317371</td>\n",
       "    </tr>\n",
       "    <tr>\n",
       "      <th>2</th>\n",
       "      <td>3.728683</td>\n",
       "      <td>5.592289</td>\n",
       "    </tr>\n",
       "  </tbody>\n",
       "</table>\n",
       "</div>"
      ],
      "text/plain": [
       "          x         y\n",
       "0  1.758122  0.938206\n",
       "1  4.544708  1.317371\n",
       "2  3.728683  5.592289"
      ]
     },
     "metadata": {},
     "output_type": "display_data"
    },
    {
     "data": {
      "image/png": "[encoded data removed]",
      "text/plain": [
       "<matplotlib.figure.Figure at 0x7ff7fe005f10>"
      ]
     },
     "metadata": {},
     "output_type": "display_data"
    },
    {
     "data": {
      "text/html": [
       "<div>\n",
       "<table border=\"1\" class=\"dataframe\">\n",
       "  <thead>\n",
       "    <tr style=\"text-align: right;\">\n",
       "      <th></th>\n",
       "      <th>x</th>\n",
       "      <th>y</th>\n",
       "    </tr>\n",
       "  </thead>\n",
       "  <tbody>\n",
       "    <tr>\n",
       "      <th>0</th>\n",
       "      <td>0.464404</td>\n",
       "      <td>2.539969</td>\n",
       "    </tr>\n",
       "    <tr>\n",
       "      <th>1</th>\n",
       "      <td>4.439559</td>\n",
       "      <td>-0.154440</td>\n",
       "    </tr>\n",
       "    <tr>\n",
       "      <th>2</th>\n",
       "      <td>4.421927</td>\n",
       "      <td>5.665869</td>\n",
       "    </tr>\n",
       "  </tbody>\n",
       "</table>\n",
       "</div>"
      ],
      "text/plain": [
       "          x         y\n",
       "0  0.464404  2.539969\n",
       "1  4.439559 -0.154440\n",
       "2  4.421927  5.665869"
      ]
     },
     "metadata": {},
     "output_type": "display_data"
    },
    {
     "data": {
      "image/png": "[encoded data removed]",
      "text/plain": [
       "<matplotlib.figure.Figure at 0x7ff7fdfde350>"
      ]
     },
     "metadata": {},
     "output_type": "display_data"
    },
    {
     "data": {
      "text/html": [
       "<div>\n",
       "<table border=\"1\" class=\"dataframe\">\n",
       "  <thead>\n",
       "    <tr style=\"text-align: right;\">\n",
       "      <th></th>\n",
       "      <th>x</th>\n",
       "      <th>y</th>\n",
       "    </tr>\n",
       "  </thead>\n",
       "  <tbody>\n",
       "    <tr>\n",
       "      <th>0</th>\n",
       "      <td>0.095591</td>\n",
       "      <td>3.797765</td>\n",
       "    </tr>\n",
       "    <tr>\n",
       "      <th>1</th>\n",
       "      <td>4.111723</td>\n",
       "      <td>-0.233883</td>\n",
       "    </tr>\n",
       "    <tr>\n",
       "      <th>2</th>\n",
       "      <td>5.872511</td>\n",
       "      <td>6.008753</td>\n",
       "    </tr>\n",
       "  </tbody>\n",
       "</table>\n",
       "</div>"
      ],
      "text/plain": [
       "          x         y\n",
       "0  0.095591  3.797765\n",
       "1  4.111723 -0.233883\n",
       "2  5.872511  6.008753"
      ]
     },
     "metadata": {},
     "output_type": "display_data"
    },
    {
     "data": {
      "image/png": "[encoded data removed]",
      "text/plain": [
       "<matplotlib.figure.Figure at 0x7ff7fde33a90>"
      ]
     },
     "metadata": {},
     "output_type": "display_data"
    },
    {
     "data": {
      "text/html": [
       "<div>\n",
       "<table border=\"1\" class=\"dataframe\">\n",
       "  <thead>\n",
       "    <tr style=\"text-align: right;\">\n",
       "      <th></th>\n",
       "      <th>x</th>\n",
       "      <th>y</th>\n",
       "    </tr>\n",
       "  </thead>\n",
       "  <tbody>\n",
       "    <tr>\n",
       "      <th>0</th>\n",
       "      <td>0.101434</td>\n",
       "      <td>3.838797</td>\n",
       "    </tr>\n",
       "    <tr>\n",
       "      <th>1</th>\n",
       "      <td>4.087475</td>\n",
       "      <td>-0.228881</td>\n",
       "    </tr>\n",
       "    <tr>\n",
       "      <th>2</th>\n",
       "      <td>5.907331</td>\n",
       "      <td>6.024320</td>\n",
       "    </tr>\n",
       "  </tbody>\n",
       "</table>\n",
       "</div>"
      ],
      "text/plain": [
       "          x         y\n",
       "0  0.101434  3.838797\n",
       "1  4.087475 -0.228881\n",
       "2  5.907331  6.024320"
      ]
     },
     "metadata": {},
     "output_type": "display_data"
    }
   ],
   "source": [
    "import numpy as np\n",
    "\n",
    "#Calculate which class each data point belongs to\n",
    "def nearest_centroid(line):\n",
    "    x = np.array([float(f) for f in line.split(',')])\n",
    "    closest_centroid_idx = np.sum((x - centroids)**2, axis=1).argmin()\n",
    "    return (closest_centroid_idx,(x,1))\n",
    "\n",
    "K = 3\n",
    "# Initialization: initialization of parameter is fixed to show an example\n",
    "centroids = np.array([[0.0,0.0],[2.0,2.0],[0.0,7.0]])\n",
    "\n",
    "D = sc.textFile(\"data.csv\").cache()\n",
    "\n",
    "for i in range(10):  \n",
    "    res = D.map(nearest_centroid).reduceByKey(np.add).collect()\n",
    "    res = sorted(res, key = lambda x : x[0])  #sort based on clusted ID\n",
    "    centroids_new = np.array([x[1][0]/x[1][1] for x in res])  #divide by cluster size\n",
    "    if np.sum(np.absolute(centroids_new-centroids))<0.01:\n",
    "        break\n",
    "\n",
    "    centroids = centroids_new\n",
    "    plot_clusters('Iteration ' + str(i + 1), samples1, samples2, samples3, centroids)"
   ]
  },
  {
   "cell_type": "markdown",
   "metadata": {},
   "source": [
    "## Evaluate home-grown k-means clusters from random data"
   ]
  },
  {
   "cell_type": "markdown",
   "metadata": {},
   "source": [
    "> Comment on any differences between the results in HW10.3 and HW10.4. Explain."
   ]
  },
  {
   "cell_type": "markdown",
   "metadata": {},
   "source": [
    "First, revisit the results from HW 10.3 and 10.4."
   ]
  },
  {
   "cell_type": "code",
   "execution_count": 18,
   "metadata": {
    "collapsed": false
   },
   "outputs": [
    {
     "data": {
      "text/html": [
       "<div>\n",
       "<table border=\"1\" class=\"dataframe\">\n",
       "  <thead>\n",
       "    <tr style=\"text-align: right;\">\n",
       "      <th></th>\n",
       "      <th>x</th>\n",
       "      <th>y</th>\n",
       "    </tr>\n",
       "  </thead>\n",
       "  <tbody>\n",
       "    <tr>\n",
       "      <th>0</th>\n",
       "      <td>0.135199</td>\n",
       "      <td>3.835222</td>\n",
       "    </tr>\n",
       "    <tr>\n",
       "      <th>1</th>\n",
       "      <td>5.930612</td>\n",
       "      <td>6.049858</td>\n",
       "    </tr>\n",
       "    <tr>\n",
       "      <th>2</th>\n",
       "      <td>4.087475</td>\n",
       "      <td>-0.228881</td>\n",
       "    </tr>\n",
       "  </tbody>\n",
       "</table>\n",
       "</div>"
      ],
      "text/plain": [
       "          x         y\n",
       "0  0.135199  3.835222\n",
       "1  5.930612  6.049858\n",
       "2  4.087475 -0.228881"
      ]
     },
     "metadata": {},
     "output_type": "display_data"
    },
    {
     "data": {
      "text/html": [
       "<div>\n",
       "<table border=\"1\" class=\"dataframe\">\n",
       "  <thead>\n",
       "    <tr style=\"text-align: right;\">\n",
       "      <th></th>\n",
       "      <th>x</th>\n",
       "      <th>y</th>\n",
       "    </tr>\n",
       "  </thead>\n",
       "  <tbody>\n",
       "    <tr>\n",
       "      <th>0</th>\n",
       "      <td>0.101434</td>\n",
       "      <td>3.838797</td>\n",
       "    </tr>\n",
       "    <tr>\n",
       "      <th>1</th>\n",
       "      <td>4.087475</td>\n",
       "      <td>-0.228881</td>\n",
       "    </tr>\n",
       "    <tr>\n",
       "      <th>2</th>\n",
       "      <td>5.907331</td>\n",
       "      <td>6.024320</td>\n",
       "    </tr>\n",
       "  </tbody>\n",
       "</table>\n",
       "</div>"
      ],
      "text/plain": [
       "          x         y\n",
       "0  0.101434  3.838797\n",
       "1  4.087475 -0.228881\n",
       "2  5.907331  6.024320"
      ]
     },
     "metadata": {},
     "output_type": "display_data"
    }
   ],
   "source": [
    "display(pandas.DataFrame(clusters.centers, columns = ['x', 'y']))\n",
    "display(pandas.DataFrame(centroids, columns = ['x', 'y']))"
   ]
  },
  {
   "cell_type": "markdown",
   "metadata": {},
   "source": [
    "The centroids are very similar, but if we re-run the algorithm several times, there can be a slight difference because of the randomized initialization for the initial centers in the Spark example. This is because the k-means algorithm is essentially minimizing the Within Set Sum of Squared Errors, but the function is not necessarily convex.\n",
    "\n",
    "If both the homegrown solution and the Spark solution were to use similar initial centers, chances are the resulting clusters would be identical. In testing, running the built-in k-means training algorithm did often converge to the same centers."
   ]
  },
  {
   "cell_type": "markdown",
   "metadata": {},
   "source": [
    "# HW 10.5 (OPTIONAL)"
   ]
  },
  {
   "cell_type": "markdown",
   "metadata": {},
   "source": [
    "## Run weighted k-means on random data"
   ]
  },
  {
   "cell_type": "markdown",
   "metadata": {},
   "source": [
    "> Using the KMeans code provided modify it to do a weighted KMeans and repeat the experiements in HW10.3.\n",
    "\n",
    "> NOTE: Weight each example as follows using the inverse vector length (Euclidean norm):\n",
    "\n",
    "> $weight(x) = \\Large{\\frac{1}{\\lVert x \\rVert}}$\n",
    "\n",
    "> where $\\lVert x \\rVert = \\sqrt{x \\cdot x} = \\sqrt{x_1^2 + x_2^2}$\n",
    "\n",
    "> Here $x$ is vector made up of $x_1$ and $x_2$."
   ]
  },
  {
   "cell_type": "markdown",
   "metadata": {},
   "source": [
    "This is essentially identical to the original, but we add an additional `map` step that converts the unweighted point into a weighted point."
   ]
  },
  {
   "cell_type": "code",
   "execution_count": 19,
   "metadata": {
    "collapsed": false
   },
   "outputs": [
    {
     "data": {
      "image/png": "[encoded data removed]",
      "text/plain": [
       "<matplotlib.figure.Figure at 0x7ff809065b10>"
      ]
     },
     "metadata": {},
     "output_type": "display_data"
    },
    {
     "data": {
      "text/html": [
       "<div>\n",
       "<table border=\"1\" class=\"dataframe\">\n",
       "  <thead>\n",
       "    <tr style=\"text-align: right;\">\n",
       "      <th></th>\n",
       "      <th>x</th>\n",
       "      <th>y</th>\n",
       "    </tr>\n",
       "  </thead>\n",
       "  <tbody>\n",
       "    <tr>\n",
       "      <th>0</th>\n",
       "      <td>0.998337</td>\n",
       "      <td>0.456937</td>\n",
       "    </tr>\n",
       "    <tr>\n",
       "      <th>1</th>\n",
       "      <td>3.041399</td>\n",
       "      <td>2.179363</td>\n",
       "    </tr>\n",
       "    <tr>\n",
       "      <th>2</th>\n",
       "      <td>1.895198</td>\n",
       "      <td>5.520879</td>\n",
       "    </tr>\n",
       "  </tbody>\n",
       "</table>\n",
       "</div>"
      ],
      "text/plain": [
       "          x         y\n",
       "0  0.998337  0.456937\n",
       "1  3.041399  2.179363\n",
       "2  1.895198  5.520879"
      ]
     },
     "metadata": {},
     "output_type": "display_data"
    },
    {
     "data": {
      "image/png": "[encoded data removed]",
      "text/plain": [
       "<matplotlib.figure.Figure at 0x7ff7fdc5c3d0>"
      ]
     },
     "metadata": {},
     "output_type": "display_data"
    },
    {
     "data": {
      "text/html": [
       "<div>\n",
       "<table border=\"1\" class=\"dataframe\">\n",
       "  <thead>\n",
       "    <tr style=\"text-align: right;\">\n",
       "      <th></th>\n",
       "      <th>x</th>\n",
       "      <th>y</th>\n",
       "    </tr>\n",
       "  </thead>\n",
       "  <tbody>\n",
       "    <tr>\n",
       "      <th>0</th>\n",
       "      <td>1.306932</td>\n",
       "      <td>0.792014</td>\n",
       "    </tr>\n",
       "    <tr>\n",
       "      <th>1</th>\n",
       "      <td>4.209057</td>\n",
       "      <td>0.677781</td>\n",
       "    </tr>\n",
       "    <tr>\n",
       "      <th>2</th>\n",
       "      <td>2.219993</td>\n",
       "      <td>4.914950</td>\n",
       "    </tr>\n",
       "  </tbody>\n",
       "</table>\n",
       "</div>"
      ],
      "text/plain": [
       "          x         y\n",
       "0  1.306932  0.792014\n",
       "1  4.209057  0.677781\n",
       "2  2.219993  4.914950"
      ]
     },
     "metadata": {},
     "output_type": "display_data"
    },
    {
     "data": {
      "image/png": "[encoded data removed]",
      "text/plain": [
       "<matplotlib.figure.Figure at 0x7ff7fdba2fd0>"
      ]
     },
     "metadata": {},
     "output_type": "display_data"
    },
    {
     "data": {
      "text/html": [
       "<div>\n",
       "<table border=\"1\" class=\"dataframe\">\n",
       "  <thead>\n",
       "    <tr style=\"text-align: right;\">\n",
       "      <th></th>\n",
       "      <th>x</th>\n",
       "      <th>y</th>\n",
       "    </tr>\n",
       "  </thead>\n",
       "  <tbody>\n",
       "    <tr>\n",
       "      <th>0</th>\n",
       "      <td>0.679977</td>\n",
       "      <td>1.603153</td>\n",
       "    </tr>\n",
       "    <tr>\n",
       "      <th>1</th>\n",
       "      <td>4.240160</td>\n",
       "      <td>-0.115584</td>\n",
       "    </tr>\n",
       "    <tr>\n",
       "      <th>2</th>\n",
       "      <td>2.458926</td>\n",
       "      <td>4.906040</td>\n",
       "    </tr>\n",
       "  </tbody>\n",
       "</table>\n",
       "</div>"
      ],
      "text/plain": [
       "          x         y\n",
       "0  0.679977  1.603153\n",
       "1  4.240160 -0.115584\n",
       "2  2.458926  4.906040"
      ]
     },
     "metadata": {},
     "output_type": "display_data"
    },
    {
     "data": {
      "image/png": "[encoded data removed]",
      "text/plain": [
       "<matplotlib.figure.Figure at 0x7ff7fdba2590>"
      ]
     },
     "metadata": {},
     "output_type": "display_data"
    },
    {
     "data": {
      "text/html": [
       "<div>\n",
       "<table border=\"1\" class=\"dataframe\">\n",
       "  <thead>\n",
       "    <tr style=\"text-align: right;\">\n",
       "      <th></th>\n",
       "      <th>x</th>\n",
       "      <th>y</th>\n",
       "    </tr>\n",
       "  </thead>\n",
       "  <tbody>\n",
       "    <tr>\n",
       "      <th>0</th>\n",
       "      <td>-0.004247</td>\n",
       "      <td>2.729104</td>\n",
       "    </tr>\n",
       "    <tr>\n",
       "      <th>1</th>\n",
       "      <td>3.930989</td>\n",
       "      <td>-0.242673</td>\n",
       "    </tr>\n",
       "    <tr>\n",
       "      <th>2</th>\n",
       "      <td>3.210248</td>\n",
       "      <td>5.190894</td>\n",
       "    </tr>\n",
       "  </tbody>\n",
       "</table>\n",
       "</div>"
      ],
      "text/plain": [
       "          x         y\n",
       "0 -0.004247  2.729104\n",
       "1  3.930989 -0.242673\n",
       "2  3.210248  5.190894"
      ]
     },
     "metadata": {},
     "output_type": "display_data"
    },
    {
     "data": {
      "image/png": "[encoded data removed]",
      "text/plain": [
       "<matplotlib.figure.Figure at 0x7ff7fdb3c890>"
      ]
     },
     "metadata": {},
     "output_type": "display_data"
    },
    {
     "data": {
      "text/html": [
       "<div>\n",
       "<table border=\"1\" class=\"dataframe\">\n",
       "  <thead>\n",
       "    <tr style=\"text-align: right;\">\n",
       "      <th></th>\n",
       "      <th>x</th>\n",
       "      <th>y</th>\n",
       "    </tr>\n",
       "  </thead>\n",
       "  <tbody>\n",
       "    <tr>\n",
       "      <th>0</th>\n",
       "      <td>-0.028589</td>\n",
       "      <td>3.547227</td>\n",
       "    </tr>\n",
       "    <tr>\n",
       "      <th>1</th>\n",
       "      <td>3.789782</td>\n",
       "      <td>-0.222206</td>\n",
       "    </tr>\n",
       "    <tr>\n",
       "      <th>2</th>\n",
       "      <td>5.220993</td>\n",
       "      <td>5.687007</td>\n",
       "    </tr>\n",
       "  </tbody>\n",
       "</table>\n",
       "</div>"
      ],
      "text/plain": [
       "          x         y\n",
       "0 -0.028589  3.547227\n",
       "1  3.789782 -0.222206\n",
       "2  5.220993  5.687007"
      ]
     },
     "metadata": {},
     "output_type": "display_data"
    },
    {
     "data": {
      "image/png": "[encoded data removed]",
      "text/plain": [
       "<matplotlib.figure.Figure at 0x7ff7fdc9d050>"
      ]
     },
     "metadata": {},
     "output_type": "display_data"
    },
    {
     "data": {
      "text/html": [
       "<div>\n",
       "<table border=\"1\" class=\"dataframe\">\n",
       "  <thead>\n",
       "    <tr style=\"text-align: right;\">\n",
       "      <th></th>\n",
       "      <th>x</th>\n",
       "      <th>y</th>\n",
       "    </tr>\n",
       "  </thead>\n",
       "  <tbody>\n",
       "    <tr>\n",
       "      <th>0</th>\n",
       "      <td>0.090574</td>\n",
       "      <td>3.603314</td>\n",
       "    </tr>\n",
       "    <tr>\n",
       "      <th>1</th>\n",
       "      <td>3.789782</td>\n",
       "      <td>-0.222206</td>\n",
       "    </tr>\n",
       "    <tr>\n",
       "      <th>2</th>\n",
       "      <td>5.777480</td>\n",
       "      <td>5.896972</td>\n",
       "    </tr>\n",
       "  </tbody>\n",
       "</table>\n",
       "</div>"
      ],
      "text/plain": [
       "          x         y\n",
       "0  0.090574  3.603314\n",
       "1  3.789782 -0.222206\n",
       "2  5.777480  5.896972"
      ]
     },
     "metadata": {},
     "output_type": "display_data"
    }
   ],
   "source": [
    "from numpy.linalg import norm\n",
    "\n",
    "def weighted_point(value):\n",
    "    cluster_id = value[0]\n",
    "\n",
    "    point = value[1][0]\n",
    "    new_weight = 1.0 / norm(point)\n",
    "\n",
    "    return cluster_id, (point * new_weight, new_weight)\n",
    "\n",
    "# Initialization: initialization of parameter is fixed to show an example\n",
    "centroids = np.array([[0.0,0.0],[2.0,2.0],[0.0,7.0]])\n",
    "\n",
    "D = sc.textFile(\"data.csv\").cache()\n",
    "\n",
    "for i in range(10):\n",
    "    res = D.map(nearest_centroid).map(weighted_point).reduceByKey(np.add).collect()\n",
    "    res = sorted(res, key = lambda x : x[0])  #sort based on clusted ID\n",
    "    centroids_new = np.array([x[1][0]/x[1][1] for x in res])  #divide by cluster size\n",
    "    if np.sum(np.absolute(centroids_new-centroids))<0.01:\n",
    "        break\n",
    "\n",
    "    centroids = centroids_new\n",
    "    plot_clusters('Iteration ' + str(i + 1), samples1, samples2, samples3, centroids)"
   ]
  },
  {
   "cell_type": "markdown",
   "metadata": {},
   "source": [
    "## Evaluate weighted k-means clusters from random data"
   ]
  },
  {
   "cell_type": "markdown",
   "metadata": {},
   "source": [
    "> Comment on any differences between the results in HW10.3 and HW10.5. Explain."
   ]
  },
  {
   "cell_type": "markdown",
   "metadata": {},
   "source": [
    "First, revisit the results from HW 10.3 and 10.5."
   ]
  },
  {
   "cell_type": "code",
   "execution_count": 20,
   "metadata": {
    "collapsed": false
   },
   "outputs": [
    {
     "data": {
      "text/html": [
       "<div>\n",
       "<table border=\"1\" class=\"dataframe\">\n",
       "  <thead>\n",
       "    <tr style=\"text-align: right;\">\n",
       "      <th></th>\n",
       "      <th>x</th>\n",
       "      <th>y</th>\n",
       "    </tr>\n",
       "  </thead>\n",
       "  <tbody>\n",
       "    <tr>\n",
       "      <th>0</th>\n",
       "      <td>0.135199</td>\n",
       "      <td>3.835222</td>\n",
       "    </tr>\n",
       "    <tr>\n",
       "      <th>1</th>\n",
       "      <td>5.930612</td>\n",
       "      <td>6.049858</td>\n",
       "    </tr>\n",
       "    <tr>\n",
       "      <th>2</th>\n",
       "      <td>4.087475</td>\n",
       "      <td>-0.228881</td>\n",
       "    </tr>\n",
       "  </tbody>\n",
       "</table>\n",
       "</div>"
      ],
      "text/plain": [
       "          x         y\n",
       "0  0.135199  3.835222\n",
       "1  5.930612  6.049858\n",
       "2  4.087475 -0.228881"
      ]
     },
     "metadata": {},
     "output_type": "display_data"
    },
    {
     "data": {
      "text/html": [
       "<div>\n",
       "<table border=\"1\" class=\"dataframe\">\n",
       "  <thead>\n",
       "    <tr style=\"text-align: right;\">\n",
       "      <th></th>\n",
       "      <th>x</th>\n",
       "      <th>y</th>\n",
       "    </tr>\n",
       "  </thead>\n",
       "  <tbody>\n",
       "    <tr>\n",
       "      <th>0</th>\n",
       "      <td>0.090574</td>\n",
       "      <td>3.603314</td>\n",
       "    </tr>\n",
       "    <tr>\n",
       "      <th>1</th>\n",
       "      <td>3.789782</td>\n",
       "      <td>-0.222206</td>\n",
       "    </tr>\n",
       "    <tr>\n",
       "      <th>2</th>\n",
       "      <td>5.777480</td>\n",
       "      <td>5.896972</td>\n",
       "    </tr>\n",
       "  </tbody>\n",
       "</table>\n",
       "</div>"
      ],
      "text/plain": [
       "          x         y\n",
       "0  0.090574  3.603314\n",
       "1  3.789782 -0.222206\n",
       "2  5.777480  5.896972"
      ]
     },
     "metadata": {},
     "output_type": "display_data"
    }
   ],
   "source": [
    "display(pandas.DataFrame(clusters.centers, columns = ['x', 'y']))\n",
    "display(pandas.DataFrame(centroids, columns = ['x', 'y']))"
   ]
  },
  {
   "cell_type": "markdown",
   "metadata": {},
   "source": [
    "The centroids are very similar, so it's likely that the small differences are due to a combination of the randomization in the MLLib algorithm and the weighting of the points for the clustering algorithm."
   ]
  },
  {
   "cell_type": "markdown",
   "metadata": {},
   "source": [
    "# HW 10.6: Linear Regression (OPTIONAL)"
   ]
  },
  {
   "cell_type": "markdown",
   "metadata": {},
   "source": [
    "## HW 10.6.1"
   ]
  },
  {
   "cell_type": "markdown",
   "metadata": {},
   "source": [
    "### Generate regression data"
   ]
  },
  {
   "cell_type": "markdown",
   "metadata": {},
   "source": [
    "> Using the following linear regression notebook:\n",
    "\n",
    "> https://www.dropbox.com/s/atzqkc0p1eajuz6/LinearRegression-Notebook-Challenge.ipynb\n",
    "\n",
    "> Generate 2 sets of data with 100 data points using the data generation code provided and plot each in separate plots. Call one the training set and the other the testing set."
   ]
  },
  {
   "cell_type": "markdown",
   "metadata": {},
   "source": [
    "Here we have the code from the notebook responsible for generating data."
   ]
  },
  {
   "cell_type": "code",
   "execution_count": 21,
   "metadata": {
    "collapsed": true
   },
   "outputs": [],
   "source": [
    "import numpy as np\n",
    "import csv\n",
    "\n",
    "def data_generate(fileName, w=[0,0], size=100):\n",
    "    np.random.seed(0)\n",
    "    x = np.random.uniform(-4, 4, size)\n",
    "    noise = np.random.normal(0, 2, size)\n",
    "    y = (x * w[0] + w[1] + noise)\n",
    "    data = zip(y, x)\n",
    "    with open(fileName,'wb') as f:\n",
    "        writer = csv.writer(f)\n",
    "        for row in data:\n",
    "            writer.writerow(row)\n",
    "    return True"
   ]
  },
  {
   "cell_type": "markdown",
   "metadata": {},
   "source": [
    "Here we have the code from the notebook responsible for plotting the data."
   ]
  },
  {
   "cell_type": "code",
   "execution_count": 22,
   "metadata": {
    "collapsed": true
   },
   "outputs": [],
   "source": [
    "import matplotlib.pyplot as plt\n",
    "\n",
    "def dataPlot(file, w):\n",
    "    with open(file, 'r') as f:\n",
    "        reader = csv.reader(f)\n",
    "        for row in reader:\n",
    "            plt.plot(float(row[1]), float(row[0]),'o'+'r')\n",
    "    plt.xlabel(\"x\")\n",
    "    plt.ylabel(\"y\")\n",
    "    x = [-4, 4]\n",
    "    y = [(i * w[0] + w[1]) for i in x]\n",
    "    plt.plot(x,y, linewidth=2.0)\n",
    "    plt.grid()\n",
    "    plt.show()"
   ]
  },
  {
   "cell_type": "markdown",
   "metadata": {},
   "source": [
    "We can now use it in order to create our data sets and plot the data."
   ]
  },
  {
   "cell_type": "code",
   "execution_count": 23,
   "metadata": {
    "collapsed": false
   },
   "outputs": [
    {
     "data": {
      "image/png": "[encoded data removed]",
      "text/plain": [
       "<matplotlib.figure.Figure at 0x7ff7fdd19550>"
      ]
     },
     "metadata": {},
     "output_type": "display_data"
    },
    {
     "name": "stdout",
     "output_type": "stream",
     "text": [
      "Deleted train.csv\r\n"
     ]
    },
    {
     "data": {
      "image/png": "[encoded data removed]",
      "text/plain": [
       "<matplotlib.figure.Figure at 0x7ff7fdcd2ed0>"
      ]
     },
     "metadata": {},
     "output_type": "display_data"
    },
    {
     "name": "stdout",
     "output_type": "stream",
     "text": [
      "Deleted test.csv\r\n"
     ]
    }
   ],
   "source": [
    "w = [8,-2]\n",
    "\n",
    "data_generate('train.csv', w, 100)\n",
    "dataPlot('train.csv', w)\n",
    "\n",
    "!hdfs dfs -rm -f -skipTrash train.csv\n",
    "!hdfs dfs -copyFromLocal train.csv\n",
    "\n",
    "data_generate('test.csv', w, 100)\n",
    "dataPlot('test.csv', w)\n",
    "\n",
    "!hdfs dfs -rm -f -skipTrash test.csv\n",
    "!hdfs dfs -copyFromLocal test.csv"
   ]
  },
  {
   "cell_type": "markdown",
   "metadata": {},
   "source": [
    "> Using MLLib's LinearRegressionWithSGD train up a linear regression model with the training dataset and evaluate with the testing set. What a good number of iterations for training the linear regression model? Justify with plots and words."
   ]
  },
  {
   "cell_type": "code",
   "execution_count": 31,
   "metadata": {
    "collapsed": false
   },
   "outputs": [
    {
     "ename": "KeyboardInterrupt",
     "evalue": "",
     "output_type": "error",
     "traceback": [
      "\u001b[1;31m---------------------------------------------------------------------------\u001b[0m",
      "\u001b[1;31mKeyboardInterrupt\u001b[0m                         Traceback (most recent call last)",
      "\u001b[1;32m<ipython-input-31-abd49b955abd>\u001b[0m in \u001b[0;36m<module>\u001b[1;34m()\u001b[0m\n\u001b[0;32m      8\u001b[0m \u001b[1;33m\u001b[0m\u001b[0m\n\u001b[0;32m      9\u001b[0m \u001b[0mtrain_rdd\u001b[0m \u001b[1;33m=\u001b[0m \u001b[0msc\u001b[0m\u001b[1;33m.\u001b[0m\u001b[0mtextFile\u001b[0m\u001b[1;33m(\u001b[0m\u001b[1;34m'train.csv'\u001b[0m\u001b[1;33m)\u001b[0m\u001b[1;33m.\u001b[0m\u001b[0mmap\u001b[0m\u001b[1;33m(\u001b[0m\u001b[0mparsePoint\u001b[0m\u001b[1;33m)\u001b[0m\u001b[1;33m\u001b[0m\u001b[0m\n\u001b[1;32m---> 10\u001b[1;33m \u001b[0mmodel\u001b[0m \u001b[1;33m=\u001b[0m \u001b[0mLinearRegressionWithSGD\u001b[0m\u001b[1;33m.\u001b[0m\u001b[0mtrain\u001b[0m\u001b[1;33m(\u001b[0m\u001b[0mtrain_rdd\u001b[0m\u001b[1;33m,\u001b[0m \u001b[0miterations\u001b[0m \u001b[1;33m=\u001b[0m \u001b[1;36m2\u001b[0m\u001b[1;33m,\u001b[0m \u001b[0mintercept\u001b[0m \u001b[1;33m=\u001b[0m \u001b[0mTrue\u001b[0m\u001b[1;33m)\u001b[0m\u001b[1;33m\u001b[0m\u001b[0m\n\u001b[0m",
      "\u001b[1;32m/usr/hdp/current/spark-client/python/pyspark/mllib/regression.py\u001b[0m in \u001b[0;36mtrain\u001b[1;34m(cls, data, iterations, step, miniBatchFraction, initialWeights, regParam, regType, intercept, validateData, convergenceTol)\u001b[0m\n\u001b[0;32m    284\u001b[0m                                  float(convergenceTol))\n\u001b[0;32m    285\u001b[0m \u001b[1;33m\u001b[0m\u001b[0m\n\u001b[1;32m--> 286\u001b[1;33m         \u001b[1;32mreturn\u001b[0m \u001b[0m_regression_train_wrapper\u001b[0m\u001b[1;33m(\u001b[0m\u001b[0mtrain\u001b[0m\u001b[1;33m,\u001b[0m \u001b[0mLinearRegressionModel\u001b[0m\u001b[1;33m,\u001b[0m \u001b[0mdata\u001b[0m\u001b[1;33m,\u001b[0m \u001b[0minitialWeights\u001b[0m\u001b[1;33m)\u001b[0m\u001b[1;33m\u001b[0m\u001b[0m\n\u001b[0m\u001b[0;32m    287\u001b[0m \u001b[1;33m\u001b[0m\u001b[0m\n\u001b[0;32m    288\u001b[0m \u001b[1;33m\u001b[0m\u001b[0m\n",
      "\u001b[1;32m/usr/hdp/current/spark-client/python/pyspark/mllib/regression.py\u001b[0m in \u001b[0;36m_regression_train_wrapper\u001b[1;34m(train_func, modelClass, data, initial_weights)\u001b[0m\n\u001b[0;32m    212\u001b[0m         \u001b[1;32mreturn\u001b[0m \u001b[0mmodelClass\u001b[0m\u001b[1;33m(\u001b[0m\u001b[0mweights\u001b[0m\u001b[1;33m,\u001b[0m \u001b[0mintercept\u001b[0m\u001b[1;33m,\u001b[0m \u001b[0mnumFeatures\u001b[0m\u001b[1;33m,\u001b[0m \u001b[0mnumClasses\u001b[0m\u001b[1;33m)\u001b[0m\u001b[1;33m\u001b[0m\u001b[0m\n\u001b[0;32m    213\u001b[0m     \u001b[1;32melse\u001b[0m\u001b[1;33m:\u001b[0m\u001b[1;33m\u001b[0m\u001b[0m\n\u001b[1;32m--> 214\u001b[1;33m         \u001b[0mweights\u001b[0m\u001b[1;33m,\u001b[0m \u001b[0mintercept\u001b[0m \u001b[1;33m=\u001b[0m \u001b[0mtrain_func\u001b[0m\u001b[1;33m(\u001b[0m\u001b[0mdata\u001b[0m\u001b[1;33m,\u001b[0m \u001b[0m_convert_to_vector\u001b[0m\u001b[1;33m(\u001b[0m\u001b[0minitial_weights\u001b[0m\u001b[1;33m)\u001b[0m\u001b[1;33m)\u001b[0m\u001b[1;33m\u001b[0m\u001b[0m\n\u001b[0m\u001b[0;32m    215\u001b[0m         \u001b[1;32mreturn\u001b[0m \u001b[0mmodelClass\u001b[0m\u001b[1;33m(\u001b[0m\u001b[0mweights\u001b[0m\u001b[1;33m,\u001b[0m \u001b[0mintercept\u001b[0m\u001b[1;33m)\u001b[0m\u001b[1;33m\u001b[0m\u001b[0m\n\u001b[0;32m    216\u001b[0m \u001b[1;33m\u001b[0m\u001b[0m\n",
      "\u001b[1;32m/usr/hdp/current/spark-client/python/pyspark/mllib/regression.py\u001b[0m in \u001b[0;36mtrain\u001b[1;34m(rdd, i)\u001b[0m\n\u001b[0;32m    282\u001b[0m                                  \u001b[0mfloat\u001b[0m\u001b[1;33m(\u001b[0m\u001b[0mstep\u001b[0m\u001b[1;33m)\u001b[0m\u001b[1;33m,\u001b[0m \u001b[0mfloat\u001b[0m\u001b[1;33m(\u001b[0m\u001b[0mminiBatchFraction\u001b[0m\u001b[1;33m)\u001b[0m\u001b[1;33m,\u001b[0m \u001b[0mi\u001b[0m\u001b[1;33m,\u001b[0m \u001b[0mfloat\u001b[0m\u001b[1;33m(\u001b[0m\u001b[0mregParam\u001b[0m\u001b[1;33m)\u001b[0m\u001b[1;33m,\u001b[0m\u001b[1;33m\u001b[0m\u001b[0m\n\u001b[0;32m    283\u001b[0m                                  \u001b[0mregType\u001b[0m\u001b[1;33m,\u001b[0m \u001b[0mbool\u001b[0m\u001b[1;33m(\u001b[0m\u001b[0mintercept\u001b[0m\u001b[1;33m)\u001b[0m\u001b[1;33m,\u001b[0m \u001b[0mbool\u001b[0m\u001b[1;33m(\u001b[0m\u001b[0mvalidateData\u001b[0m\u001b[1;33m)\u001b[0m\u001b[1;33m,\u001b[0m\u001b[1;33m\u001b[0m\u001b[0m\n\u001b[1;32m--> 284\u001b[1;33m                                  float(convergenceTol))\n\u001b[0m\u001b[0;32m    285\u001b[0m \u001b[1;33m\u001b[0m\u001b[0m\n\u001b[0;32m    286\u001b[0m         \u001b[1;32mreturn\u001b[0m \u001b[0m_regression_train_wrapper\u001b[0m\u001b[1;33m(\u001b[0m\u001b[0mtrain\u001b[0m\u001b[1;33m,\u001b[0m \u001b[0mLinearRegressionModel\u001b[0m\u001b[1;33m,\u001b[0m \u001b[0mdata\u001b[0m\u001b[1;33m,\u001b[0m \u001b[0minitialWeights\u001b[0m\u001b[1;33m)\u001b[0m\u001b[1;33m\u001b[0m\u001b[0m\n",
      "\u001b[1;32m/usr/hdp/current/spark-client/python/pyspark/mllib/common.py\u001b[0m in \u001b[0;36mcallMLlibFunc\u001b[1;34m(name, *args)\u001b[0m\n\u001b[0;32m    128\u001b[0m     \u001b[0msc\u001b[0m \u001b[1;33m=\u001b[0m \u001b[0mSparkContext\u001b[0m\u001b[1;33m.\u001b[0m\u001b[0mgetOrCreate\u001b[0m\u001b[1;33m(\u001b[0m\u001b[1;33m)\u001b[0m\u001b[1;33m\u001b[0m\u001b[0m\n\u001b[0;32m    129\u001b[0m     \u001b[0mapi\u001b[0m \u001b[1;33m=\u001b[0m \u001b[0mgetattr\u001b[0m\u001b[1;33m(\u001b[0m\u001b[0msc\u001b[0m\u001b[1;33m.\u001b[0m\u001b[0m_jvm\u001b[0m\u001b[1;33m.\u001b[0m\u001b[0mPythonMLLibAPI\u001b[0m\u001b[1;33m(\u001b[0m\u001b[1;33m)\u001b[0m\u001b[1;33m,\u001b[0m \u001b[0mname\u001b[0m\u001b[1;33m)\u001b[0m\u001b[1;33m\u001b[0m\u001b[0m\n\u001b[1;32m--> 130\u001b[1;33m     \u001b[1;32mreturn\u001b[0m \u001b[0mcallJavaFunc\u001b[0m\u001b[1;33m(\u001b[0m\u001b[0msc\u001b[0m\u001b[1;33m,\u001b[0m \u001b[0mapi\u001b[0m\u001b[1;33m,\u001b[0m \u001b[1;33m*\u001b[0m\u001b[0margs\u001b[0m\u001b[1;33m)\u001b[0m\u001b[1;33m\u001b[0m\u001b[0m\n\u001b[0m\u001b[0;32m    131\u001b[0m \u001b[1;33m\u001b[0m\u001b[0m\n\u001b[0;32m    132\u001b[0m \u001b[1;33m\u001b[0m\u001b[0m\n",
      "\u001b[1;32m/usr/hdp/current/spark-client/python/pyspark/mllib/common.py\u001b[0m in \u001b[0;36mcallJavaFunc\u001b[1;34m(sc, func, *args)\u001b[0m\n\u001b[0;32m    121\u001b[0m     \u001b[1;34m\"\"\" Call Java Function \"\"\"\u001b[0m\u001b[1;33m\u001b[0m\u001b[0m\n\u001b[0;32m    122\u001b[0m     \u001b[0margs\u001b[0m \u001b[1;33m=\u001b[0m \u001b[1;33m[\u001b[0m\u001b[0m_py2java\u001b[0m\u001b[1;33m(\u001b[0m\u001b[0msc\u001b[0m\u001b[1;33m,\u001b[0m \u001b[0ma\u001b[0m\u001b[1;33m)\u001b[0m \u001b[1;32mfor\u001b[0m \u001b[0ma\u001b[0m \u001b[1;32min\u001b[0m \u001b[0margs\u001b[0m\u001b[1;33m]\u001b[0m\u001b[1;33m\u001b[0m\u001b[0m\n\u001b[1;32m--> 123\u001b[1;33m     \u001b[1;32mreturn\u001b[0m \u001b[0m_java2py\u001b[0m\u001b[1;33m(\u001b[0m\u001b[0msc\u001b[0m\u001b[1;33m,\u001b[0m \u001b[0mfunc\u001b[0m\u001b[1;33m(\u001b[0m\u001b[1;33m*\u001b[0m\u001b[0margs\u001b[0m\u001b[1;33m)\u001b[0m\u001b[1;33m)\u001b[0m\u001b[1;33m\u001b[0m\u001b[0m\n\u001b[0m\u001b[0;32m    124\u001b[0m \u001b[1;33m\u001b[0m\u001b[0m\n\u001b[0;32m    125\u001b[0m \u001b[1;33m\u001b[0m\u001b[0m\n",
      "\u001b[1;32m/usr/hdp/current/spark-client/python/lib/py4j-0.9-src.zip/py4j/java_gateway.py\u001b[0m in \u001b[0;36m__call__\u001b[1;34m(self, *args)\u001b[0m\n\u001b[0;32m    809\u001b[0m             \u001b[0mproto\u001b[0m\u001b[1;33m.\u001b[0m\u001b[0mEND_COMMAND_PART\u001b[0m\u001b[1;33m\u001b[0m\u001b[0m\n\u001b[0;32m    810\u001b[0m \u001b[1;33m\u001b[0m\u001b[0m\n\u001b[1;32m--> 811\u001b[1;33m         \u001b[0manswer\u001b[0m \u001b[1;33m=\u001b[0m \u001b[0mself\u001b[0m\u001b[1;33m.\u001b[0m\u001b[0mgateway_client\u001b[0m\u001b[1;33m.\u001b[0m\u001b[0msend_command\u001b[0m\u001b[1;33m(\u001b[0m\u001b[0mcommand\u001b[0m\u001b[1;33m)\u001b[0m\u001b[1;33m\u001b[0m\u001b[0m\n\u001b[0m\u001b[0;32m    812\u001b[0m         return_value = get_return_value(\n\u001b[0;32m    813\u001b[0m             answer, self.gateway_client, self.target_id, self.name)\n",
      "\u001b[1;32m/usr/hdp/current/spark-client/python/lib/py4j-0.9-src.zip/py4j/java_gateway.py\u001b[0m in \u001b[0;36msend_command\u001b[1;34m(self, command, retry)\u001b[0m\n\u001b[0;32m    624\u001b[0m         \u001b[0mconnection\u001b[0m \u001b[1;33m=\u001b[0m \u001b[0mself\u001b[0m\u001b[1;33m.\u001b[0m\u001b[0m_get_connection\u001b[0m\u001b[1;33m(\u001b[0m\u001b[1;33m)\u001b[0m\u001b[1;33m\u001b[0m\u001b[0m\n\u001b[0;32m    625\u001b[0m         \u001b[1;32mtry\u001b[0m\u001b[1;33m:\u001b[0m\u001b[1;33m\u001b[0m\u001b[0m\n\u001b[1;32m--> 626\u001b[1;33m             \u001b[0mresponse\u001b[0m \u001b[1;33m=\u001b[0m \u001b[0mconnection\u001b[0m\u001b[1;33m.\u001b[0m\u001b[0msend_command\u001b[0m\u001b[1;33m(\u001b[0m\u001b[0mcommand\u001b[0m\u001b[1;33m)\u001b[0m\u001b[1;33m\u001b[0m\u001b[0m\n\u001b[0m\u001b[0;32m    627\u001b[0m             \u001b[0mself\u001b[0m\u001b[1;33m.\u001b[0m\u001b[0m_give_back_connection\u001b[0m\u001b[1;33m(\u001b[0m\u001b[0mconnection\u001b[0m\u001b[1;33m)\u001b[0m\u001b[1;33m\u001b[0m\u001b[0m\n\u001b[0;32m    628\u001b[0m         \u001b[1;32mexcept\u001b[0m \u001b[0mPy4JNetworkError\u001b[0m\u001b[1;33m:\u001b[0m\u001b[1;33m\u001b[0m\u001b[0m\n",
      "\u001b[1;32m/usr/hdp/current/spark-client/python/lib/py4j-0.9-src.zip/py4j/java_gateway.py\u001b[0m in \u001b[0;36msend_command\u001b[1;34m(self, command)\u001b[0m\n\u001b[0;32m    738\u001b[0m         \u001b[1;32mtry\u001b[0m\u001b[1;33m:\u001b[0m\u001b[1;33m\u001b[0m\u001b[0m\n\u001b[0;32m    739\u001b[0m             \u001b[0mself\u001b[0m\u001b[1;33m.\u001b[0m\u001b[0msocket\u001b[0m\u001b[1;33m.\u001b[0m\u001b[0msendall\u001b[0m\u001b[1;33m(\u001b[0m\u001b[0mcommand\u001b[0m\u001b[1;33m.\u001b[0m\u001b[0mencode\u001b[0m\u001b[1;33m(\u001b[0m\u001b[1;34m\"utf-8\"\u001b[0m\u001b[1;33m)\u001b[0m\u001b[1;33m)\u001b[0m\u001b[1;33m\u001b[0m\u001b[0m\n\u001b[1;32m--> 740\u001b[1;33m             \u001b[0manswer\u001b[0m \u001b[1;33m=\u001b[0m \u001b[0msmart_decode\u001b[0m\u001b[1;33m(\u001b[0m\u001b[0mself\u001b[0m\u001b[1;33m.\u001b[0m\u001b[0mstream\u001b[0m\u001b[1;33m.\u001b[0m\u001b[0mreadline\u001b[0m\u001b[1;33m(\u001b[0m\u001b[1;33m)\u001b[0m\u001b[1;33m[\u001b[0m\u001b[1;33m:\u001b[0m\u001b[1;33m-\u001b[0m\u001b[1;36m1\u001b[0m\u001b[1;33m]\u001b[0m\u001b[1;33m)\u001b[0m\u001b[1;33m\u001b[0m\u001b[0m\n\u001b[0m\u001b[0;32m    741\u001b[0m             \u001b[0mlogger\u001b[0m\u001b[1;33m.\u001b[0m\u001b[0mdebug\u001b[0m\u001b[1;33m(\u001b[0m\u001b[1;34m\"Answer received: {0}\"\u001b[0m\u001b[1;33m.\u001b[0m\u001b[0mformat\u001b[0m\u001b[1;33m(\u001b[0m\u001b[0manswer\u001b[0m\u001b[1;33m)\u001b[0m\u001b[1;33m)\u001b[0m\u001b[1;33m\u001b[0m\u001b[0m\n\u001b[0;32m    742\u001b[0m             \u001b[1;31m# Happens when a the other end is dead. There might be an empty\u001b[0m\u001b[1;33m\u001b[0m\u001b[1;33m\u001b[0m\u001b[0m\n",
      "\u001b[1;32m/usr/lib/python2.7/socket.pyc\u001b[0m in \u001b[0;36mreadline\u001b[1;34m(self, size)\u001b[0m\n\u001b[0;32m    428\u001b[0m                     \u001b[1;32mtry\u001b[0m\u001b[1;33m:\u001b[0m\u001b[1;33m\u001b[0m\u001b[0m\n\u001b[0;32m    429\u001b[0m                         \u001b[1;32mwhile\u001b[0m \u001b[0mdata\u001b[0m \u001b[1;33m!=\u001b[0m \u001b[1;34m\"\\n\"\u001b[0m\u001b[1;33m:\u001b[0m\u001b[1;33m\u001b[0m\u001b[0m\n\u001b[1;32m--> 430\u001b[1;33m                             \u001b[0mdata\u001b[0m \u001b[1;33m=\u001b[0m \u001b[0mrecv\u001b[0m\u001b[1;33m(\u001b[0m\u001b[1;36m1\u001b[0m\u001b[1;33m)\u001b[0m\u001b[1;33m\u001b[0m\u001b[0m\n\u001b[0m\u001b[0;32m    431\u001b[0m                             \u001b[1;32mif\u001b[0m \u001b[1;32mnot\u001b[0m \u001b[0mdata\u001b[0m\u001b[1;33m:\u001b[0m\u001b[1;33m\u001b[0m\u001b[0m\n\u001b[0;32m    432\u001b[0m                                 \u001b[1;32mbreak\u001b[0m\u001b[1;33m\u001b[0m\u001b[0m\n",
      "\u001b[1;31mKeyboardInterrupt\u001b[0m: "
     ]
    }
   ],
   "source": [
    "from pyspark.mllib.regression import LabeledPoint, LinearRegressionWithSGD, LinearRegressionModel\n",
    "\n",
    "# Point parsing from http://spark.apache.org/docs/latest/mllib-linear-methods.html\n",
    "\n",
    "def parsePoint(line):\n",
    "    values = [float(x) for x in line.split(',')]\n",
    "    return LabeledPoint(values[0], values[1:])\n",
    "\n",
    "train_rdd = sc.textFile('train.csv').map(parsePoint)\n",
    "model = LinearRegressionWithSGD.train(train_rdd, iterations = 2, intercept = True)"
   ]
  },
  {
   "cell_type": "markdown",
   "metadata": {},
   "source": [
    "<span style=\"color: crimson; font-size: 3em; font-weight: bold\">TODO</span>"
   ]
  },
  {
   "cell_type": "markdown",
   "metadata": {},
   "source": [
    "## HW 10.6.2"
   ]
  },
  {
   "cell_type": "markdown",
   "metadata": {},
   "source": [
    "> In the notebook provide, in the cell labeled \"Gradient descent (regularization)\", fill in the blanks and get this code to work for LASS0 and RIDGE linear regression."
   ]
  },
  {
   "cell_type": "markdown",
   "metadata": {},
   "source": [
    "<span style=\"color: crimson; font-size: 3em; font-weight: bold\">TODO</span>"
   ]
  },
  {
   "cell_type": "markdown",
   "metadata": {},
   "source": [
    "> Using the data from 10.6.1 tune the hyper parameters of your LASS0 and RIDGE regression. Report your findings with words and plots."
   ]
  },
  {
   "cell_type": "markdown",
   "metadata": {},
   "source": [
    "<span style=\"color: crimson; font-size: 3em; font-weight: bold\">TODO</span>"
   ]
  }
 ],
 "metadata": {
  "kernelspec": {
   "display_name": "Python 2",
   "language": "python",
   "name": "python2"
  },
  "language_info": {
   "codemirror_mode": {
    "name": "ipython",
    "version": 2
   },
   "file_extension": ".py",
   "mimetype": "text/x-python",
   "name": "python",
   "nbconvert_exporter": "python",
   "pygments_lexer": "ipython2",
   "version": "2.7.6"
  },
  "toc": {
   "toc_cell": false,
   "toc_number_sections": false,
   "toc_threshold": 4,
   "toc_window_display": false
  }
 },
 "nbformat": 4,
 "nbformat_minor": 0
}
