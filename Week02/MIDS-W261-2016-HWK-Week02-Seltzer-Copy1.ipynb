{
 "cells": [
  {
   "cell_type": "markdown",
   "metadata": {},
   "source": [
    "# DATASCI W261: Machine Learning at Scale\n",
    "## Assignment Week 2\n",
    "Miki Seltzer (miki.seltzer@berkeley.edu)<br>\n",
    "W261-2, Spring 2016<br>\n",
    "Submission: "
   ]
  },
  {
   "cell_type": "markdown",
   "metadata": {
    "collapsed": true
   },
   "source": [
    "### HW2.0:\n",
    "\n",
    "#### What is a race condition in the context of parallel computation? Give an example.\n",
    "A race condition is when a section of code is executed by multiple processes, and the order in which the processes execute will impact the final result.\n",
    "\n",
    "![Race condition example](race_conditions.png)\n",
    "Source: https://en.wikipedia.org/wiki/Race_condition#Example\n",
    "\n",
    "#### What is MapReduce?\n",
    "MapReduce can refer to multiple concepts:\n",
    "- **Programming model:** Processes are split into a \"mapping\" phase, and a \"reducing\" phase. In the map phase, a certain function is mapped on to each value in a data set, and then in the reduce phase, the result of the map phase is aggregated. \n",
    "- **Execution framework:** This framework coordinates running processes written with the above model in mind.\n",
    "- **Software implementation:** MapReduce is the name of Google's proprietary implementation of this programming model, while Apache Hadoop is the open-source implementation.\n",
    "\n",
    "#### How does it differ from Hadoop?\n",
    "Hadoop is the open-source implementation of Google's MapReduce. Hadoop consists of two parts: distributed storage of data, and distributed processing of data. HDFS is the storage part, and MapReduce is the processing part.\n",
    "\n",
    "#### Which programming paradigm is Hadoop based on? Explain and give a simple example in code and show the code running.\n",
    "Hadoop is based on the MapReduce paradigm. The classic example of the MapReduce programming paradigm is word count. In the map phase of word count, each word in a document is assigned a count of 1. In the reduce phase, the counts for each unique word are summed to yield the final count of each word."
   ]
  },
  {
   "cell_type": "code",
   "execution_count": 20,
   "metadata": {
    "collapsed": false
   },
   "outputs": [
    {
     "name": "stdout",
     "output_type": "stream",
     "text": [
      "MAP PHASE\n",
      "['hello', 1]\n",
      "['this', 1]\n",
      "['is', 1]\n",
      "['a', 1]\n",
      "['test', 1]\n",
      "['to', 1]\n",
      "['test', 1]\n",
      "['word', 1]\n",
      "['count', 1]\n",
      "['test', 1]\n",
      "['should', 1]\n",
      "['have', 1]\n",
      "['a', 1]\n",
      "['count', 1]\n",
      "['of', 1]\n",
      "['three', 1]\n",
      "\n",
      "REDUCE PHASE\n",
      "['a', 1] (intermediate step)\n",
      "['a', 2] FINAL SUM\n",
      "['count', 1] (intermediate step)\n",
      "['count', 2] FINAL SUM\n",
      "['have', 1] FINAL SUM\n",
      "['hello', 1] FINAL SUM\n",
      "['is', 1] FINAL SUM\n",
      "['of', 1] FINAL SUM\n",
      "['should', 1] FINAL SUM\n",
      "['test', 1] (intermediate step)\n",
      "['test', 2] (intermediate step)\n",
      "['test', 3] FINAL SUM\n",
      "['this', 1] FINAL SUM\n",
      "['three', 1] FINAL SUM\n",
      "['to', 1] FINAL SUM\n",
      "['word', 1] FINAL SUM\n"
     ]
    }
   ],
   "source": [
    "def hw2_0():\n",
    "    doc = \"Hello this is a test to test word count test should have a count of three\".lower()\n",
    "    key_vals = []\n",
    "    \n",
    "    print \"MAP PHASE\"\n",
    "    for word in doc.split():\n",
    "        print [word, 1]\n",
    "        key_vals.append([word, 1])\n",
    "    \n",
    "    print \"\\nREDUCE PHASE\"\n",
    "    key_vals = sorted(key_vals)\n",
    "    \n",
    "    current_word = None\n",
    "    current_count = 0\n",
    "    \n",
    "    for pair in key_vals:\n",
    "        if current_word == pair[0]:\n",
    "            print [current_word, current_count], \"(intermediate step)\"\n",
    "            current_count += pair[1]\n",
    "        else:\n",
    "            if current_word:\n",
    "                print [current_word, current_count], \"FINAL SUM\"\n",
    "            current_word = pair[0]\n",
    "            current_count = pair[1]\n",
    "\n",
    "    print [current_word, current_count], \"FINAL SUM\"\n",
    "    \n",
    "hw2_0()"
   ]
  },
  {
   "cell_type": "markdown",
   "metadata": {},
   "source": [
    "### HW2.1: Sort in Hadoop MapReduce\n",
    "**Given as input: Records of the form `<integer, “NA”>`, where integer is any integer, and “NA” is just the empty string.**<br>\n",
    "**Output: Sorted key value pairs of the form `<integer, “NA”>`; what happens if you have multiple reducers? Do you need additional steps? Explain.**\n",
    "\n",
    "If there are multiple reducers, then a straightforward MapReduce process will yield outputs that are sorted within each reducer, but not sorted across all reducers. In order to output a sort across all reducers, an extra step needs to be implemented that will intelligently send keys to reducers so that the result from all reducers will yield a complete sort. For example, let's say our keys ranged from 0-300. If we had 3 reducers, we could send all keys in the range [0,100) to reducer 1, [100, 200) to reducer 2, and [200, 300] to reducer 3. Thus, the output of each reducer will yield documents that are completely sorted. We would need to balance the keys sent to each reducer to ensure that the load is still balanced between all reducers, which will require some calculations."
   ]
  },
  {
   "cell_type": "markdown",
   "metadata": {},
   "source": [
    "#### Write code to generate N  random records of the form `<integer, “NA”>`. Let N = 10,000."
   ]
  },
  {
   "cell_type": "markdown",
   "metadata": {},
   "source": [
    "We are going to need the Hadoop Streaming jar file, so let's download it here so that we know which one to use"
   ]
  },
  {
   "cell_type": "code",
   "execution_count": 22,
   "metadata": {
    "collapsed": false
   },
   "outputs": [
    {
     "name": "stdout",
     "output_type": "stream",
     "text": [
      "--2016-01-21 18:37:45--  http://central.maven.org/maven2/org/apache/hadoop/hadoop-streaming/2.7.1/hadoop-streaming-2.7.1.jar\n",
      "Resolving central.maven.org... 23.235.47.209\n",
      "Connecting to central.maven.org|23.235.47.209|:80... connected.\n",
      "HTTP request sent, awaiting response... 200 OK\n",
      "Length: 105736 (103K) [application/java-archive]\n",
      "Saving to: “hadoop-streaming-2.7.1.jar”\n",
      "\n",
      "100%[======================================>] 105,736     --.-K/s   in 0.1s    \n",
      "\n",
      "2016-01-21 18:38:00 (1.06 MB/s) - “hadoop-streaming-2.7.1.jar” saved [105736/105736]\n",
      "\n"
     ]
    }
   ],
   "source": [
    "!wget http://central.maven.org/maven2/org/apache/hadoop/hadoop-streaming/2.7.1/hadoop-streaming-2.7.1.jar"
   ]
  },
  {
   "cell_type": "code",
   "execution_count": 1,
   "metadata": {
    "collapsed": false
   },
   "outputs": [],
   "source": [
    "import random\n",
    "\n",
    "with open(\"random.txt\", \"w\") as myfile:\n",
    "    for i in range(10000):\n",
    "        myfile.write(\"{:d},{:s}\\n\".format(random.randint(0, 100000), \"NA\"))"
   ]
  },
  {
   "cell_type": "markdown",
   "metadata": {},
   "source": [
    "#### Write the Python Hadoop streaming map-reduce job to perform this sort."
   ]
  },
  {
   "cell_type": "code",
   "execution_count": 44,
   "metadata": {
    "collapsed": false
   },
   "outputs": [
    {
     "name": "stdout",
     "output_type": "stream",
     "text": [
      "Overwriting mapper.py\n"
     ]
    }
   ],
   "source": [
    "%%writefile mapper.py\n",
    "#!/usr/bin/python\n",
    "## mapper.py\n",
    "## Author: Miki Seltzer\n",
    "## Description: mapper code for HW2.1\n",
    "\n",
    "import sys\n",
    "\n",
    "# Our input comes from STDIN (standard input)\n",
    "for line in sys.stdin:\n",
    "    # In this case, we do not need to map the input to anything\n",
    "    key, value = line.strip().split(',')\n",
    "    print \"%010d\\t%s\" % (int(key), value)"
   ]
  },
  {
   "cell_type": "code",
   "execution_count": 45,
   "metadata": {
    "collapsed": false
   },
   "outputs": [
    {
     "name": "stdout",
     "output_type": "stream",
     "text": [
      "Overwriting reducer.py\n"
     ]
    }
   ],
   "source": [
    "%%writefile reducer.py\n",
    "#!/usr/bin/python\n",
    "## reducer.py\n",
    "## Author: Miki Seltzer\n",
    "## Description: reducer code for HW2.1\n",
    "\n",
    "from operator import itemgetter\n",
    "import sys\n",
    "\n",
    "for line in sys.stdin:\n",
    "    # In this case, we do not need to reduce anything\n",
    "    key, value = line.strip().split('\\t')\n",
    "    print \"%d\\t%s\" % (int(key), value)"
   ]
  },
  {
   "cell_type": "code",
   "execution_count": 1,
   "metadata": {
    "collapsed": true
   },
   "outputs": [],
   "source": [
    "# Make HDFS directory and put random.txt there\n",
    "!hdfs dfs -mkdir /user/miki/week02\n",
    "!hdfs dfs -put random.txt /user/miki/week02"
   ]
  },
  {
   "cell_type": "code",
   "execution_count": 49,
   "metadata": {
    "collapsed": false
   },
   "outputs": [
    {
     "name": "stdout",
     "output_type": "stream",
     "text": [
      "16/01/22 12:59:13 INFO fs.TrashPolicyDefault: Namenode trash configuration: Deletion interval = 0 minutes, Emptier interval = 0 minutes.\n",
      "Deleted /user/miki/week02/hw2_1_output\n",
      "packageJobJar: [] [/usr/jars/hadoop-streaming-2.6.0-cdh5.5.0.jar] /tmp/streamjob4129142604574616452.jar tmpDir=null\n",
      "16/01/22 12:59:16 INFO client.RMProxy: Connecting to ResourceManager at /0.0.0.0:8032\n",
      "16/01/22 12:59:17 INFO client.RMProxy: Connecting to ResourceManager at /0.0.0.0:8032\n",
      "16/01/22 12:59:17 INFO mapred.FileInputFormat: Total input paths to process : 1\n",
      "16/01/22 12:59:17 INFO mapreduce.JobSubmitter: number of splits:2\n",
      "16/01/22 12:59:17 INFO Configuration.deprecation: mapred.reduce.tasks is deprecated. Instead, use mapreduce.job.reduces\n",
      "16/01/22 12:59:17 INFO mapreduce.JobSubmitter: Submitting tokens for job: job_1453405632837_0022\n",
      "16/01/22 12:59:18 INFO impl.YarnClientImpl: Submitted application application_1453405632837_0022\n",
      "16/01/22 12:59:18 INFO mapreduce.Job: The url to track the job: http://quickstart.cloudera:8088/proxy/application_1453405632837_0022/\n",
      "16/01/22 12:59:18 INFO mapreduce.Job: Running job: job_1453405632837_0022\n",
      "16/01/22 12:59:25 INFO mapreduce.Job: Job job_1453405632837_0022 running in uber mode : false\n",
      "16/01/22 12:59:25 INFO mapreduce.Job:  map 0% reduce 0%\n",
      "16/01/22 12:59:32 INFO mapreduce.Job:  map 50% reduce 0%\n",
      "16/01/22 12:59:33 INFO mapreduce.Job:  map 100% reduce 0%\n",
      "16/01/22 12:59:44 INFO mapreduce.Job:  map 100% reduce 25%\n",
      "16/01/22 12:59:46 INFO mapreduce.Job:  map 100% reduce 50%\n",
      "16/01/22 12:59:48 INFO mapreduce.Job:  map 100% reduce 75%\n",
      "16/01/22 12:59:49 INFO mapreduce.Job:  map 100% reduce 100%\n",
      "16/01/22 12:59:49 INFO mapreduce.Job: Job job_1453405632837_0022 completed successfully\n",
      "16/01/22 12:59:49 INFO mapreduce.Job: Counters: 49\n",
      "\tFile System Counters\n",
      "\t\tFILE: Number of bytes read=160024\n",
      "\t\tFILE: Number of bytes written=1002568\n",
      "\t\tFILE: Number of read operations=0\n",
      "\t\tFILE: Number of large read operations=0\n",
      "\t\tFILE: Number of write operations=0\n",
      "\t\tHDFS: Number of bytes read=93193\n",
      "\t\tHDFS: Number of bytes written=88875\n",
      "\t\tHDFS: Number of read operations=18\n",
      "\t\tHDFS: Number of large read operations=0\n",
      "\t\tHDFS: Number of write operations=8\n",
      "\tJob Counters \n",
      "\t\tLaunched map tasks=2\n",
      "\t\tLaunched reduce tasks=4\n",
      "\t\tData-local map tasks=2\n",
      "\t\tTotal time spent by all maps in occupied slots (ms)=11193\n",
      "\t\tTotal time spent by all reduces in occupied slots (ms)=43568\n",
      "\t\tTotal time spent by all map tasks (ms)=11193\n",
      "\t\tTotal time spent by all reduce tasks (ms)=43568\n",
      "\t\tTotal vcore-seconds taken by all map tasks=11193\n",
      "\t\tTotal vcore-seconds taken by all reduce tasks=43568\n",
      "\t\tTotal megabyte-seconds taken by all map tasks=11461632\n",
      "\t\tTotal megabyte-seconds taken by all reduce tasks=44613632\n",
      "\tMap-Reduce Framework\n",
      "\t\tMap input records=10000\n",
      "\t\tMap output records=10000\n",
      "\t\tMap output bytes=140000\n",
      "\t\tMap output materialized bytes=160048\n",
      "\t\tInput split bytes=222\n",
      "\t\tCombine input records=0\n",
      "\t\tCombine output records=0\n",
      "\t\tReduce input groups=9533\n",
      "\t\tReduce shuffle bytes=160048\n",
      "\t\tReduce input records=10000\n",
      "\t\tReduce output records=10000\n",
      "\t\tSpilled Records=20000\n",
      "\t\tShuffled Maps =8\n",
      "\t\tFailed Shuffles=0\n",
      "\t\tMerged Map outputs=8\n",
      "\t\tGC time elapsed (ms)=441\n",
      "\t\tCPU time spent (ms)=7330\n",
      "\t\tPhysical memory (bytes) snapshot=1214963712\n",
      "\t\tVirtual memory (bytes) snapshot=9382010880\n",
      "\t\tTotal committed heap usage (bytes)=1192230912\n",
      "\tShuffle Errors\n",
      "\t\tBAD_ID=0\n",
      "\t\tCONNECTION=0\n",
      "\t\tIO_ERROR=0\n",
      "\t\tWRONG_LENGTH=0\n",
      "\t\tWRONG_MAP=0\n",
      "\t\tWRONG_REDUCE=0\n",
      "\tFile Input Format Counters \n",
      "\t\tBytes Read=92971\n",
      "\tFile Output Format Counters \n",
      "\t\tBytes Written=88875\n",
      "16/01/22 12:59:49 INFO streaming.StreamJob: Output directory: /user/miki/week02/hw2_1_output\n"
     ]
    }
   ],
   "source": [
    "# Change permissions on mapper and reducer\n",
    "!chmod +x mapper.py\n",
    "!chmod +x reducer.py\n",
    "\n",
    "# If output folder already exists, delete it\n",
    "!hdfs dfs -rm -r /user/miki/week02/hw2_1_output\n",
    "\n",
    "# Run job\n",
    "!hadoop jar hadoop-streaming-2.7.1.jar \\\n",
    "-D mapred.reduce.tasks=4 \\\n",
    "-mapper /home/cloudera/Documents/W261-Fall2016/Week02/mapper.py \\\n",
    "-reducer /home/cloudera/Documents/W261-Fall2016/Week02/reducer.py \\\n",
    "-input /user/miki/week02/random.txt \\\n",
    "-output /user/miki/week02/hw2_1_output"
   ]
  },
  {
   "cell_type": "code",
   "execution_count": 52,
   "metadata": {
    "collapsed": false
   },
   "outputs": [],
   "source": [
    "!hdfs dfs -cat /user/miki/week02/hw2_1_output/part-00000"
   ]
  },
  {
   "cell_type": "markdown",
   "metadata": {},
   "source": [
    "### HW2.2: Using the Enron data from HW1 and Hadoop MapReduce streaming, write mapper/reducer pair that  will determine the number of occurrences of a single, user-specified word. \n",
    "\n",
    "Examine the word “assistance” and report your results. To do so, make sure that mapper.py counts all occurrences of a single word, and reducer.py collates the counts of the single word."
   ]
  },
  {
   "cell_type": "markdown",
   "metadata": {},
   "source": [
    "#### Load enronemail_1h.txt into HDFS"
   ]
  },
  {
   "cell_type": "code",
   "execution_count": 47,
   "metadata": {
    "collapsed": false
   },
   "outputs": [],
   "source": [
    "!hdfs dfs -put enronemail_1h.txt /user/miki/week02"
   ]
  },
  {
   "cell_type": "code",
   "execution_count": 93,
   "metadata": {
    "collapsed": false
   },
   "outputs": [
    {
     "name": "stdout",
     "output_type": "stream",
     "text": [
      "Overwriting mapper.py\n"
     ]
    }
   ],
   "source": [
    "%%writefile mapper.py\n",
    "#!/usr/bin/python\n",
    "## mapper.py\n",
    "## Author: Miki Seltzer\n",
    "## Description: mapper code for HW2.2\n",
    "\n",
    "import sys\n",
    "import string\n",
    "import re\n",
    "\n",
    "# Keyword from user input\n",
    "keyword = sys.argv[1]\n",
    "\n",
    "# Our input comes from STDIN (standard input)\n",
    "for line in sys.stdin:\n",
    "    \n",
    "    # Strip white space from line, then split into fields\n",
    "    # Replace commas with spaces (we are using commas as a delimiter as well)\n",
    "    # Remove remaining punctuation from subject and body\n",
    "    # Concatenate, then split subject and body by spaces\n",
    "    # Some records are malformed -- if there is a 4th field, use it\n",
    "    fields = line.strip().split('\\t')\n",
    "    subj = fields[2].replace(',', ' ')\n",
    "    subj = subj.translate(string.maketrans(\"\",\"\"), string.punctuation)\n",
    "    if len(fields) == 4:\n",
    "        body = fields[3].replace(',', ' ')\n",
    "        body = body.translate(string.maketrans(\"\",\"\"), string.punctuation)\n",
    "    else:\n",
    "        body = \"\"\n",
    "    words = subj + \" \" + body\n",
    "    words = words.split()\n",
    "    \n",
    "    # Loop through words\n",
    "    # If word is keyword, write to file\n",
    "    # key = word\n",
    "    # value = 1\n",
    "    for word in words:\n",
    "        if keyword == word:\n",
    "            print \"%s\\t%s\" % (word, 1)"
   ]
  },
  {
   "cell_type": "code",
   "execution_count": 94,
   "metadata": {
    "collapsed": false
   },
   "outputs": [
    {
     "name": "stdout",
     "output_type": "stream",
     "text": [
      "Overwriting reducer.py\n"
     ]
    }
   ],
   "source": [
    "%%writefile reducer.py\n",
    "#!/usr/bin/python\n",
    "## reducer.py\n",
    "## Author: Miki Seltzer\n",
    "## Description: reducer code for HW2.2\n",
    "\n",
    "from operator import itemgetter\n",
    "import sys\n",
    "\n",
    "# Initialize some variables\n",
    "# We know that the words will be sorted\n",
    "# We need to keep track of state\n",
    "prev_word = None\n",
    "prev_count = 0\n",
    "word = None\n",
    "\n",
    "for line in sys.stdin:\n",
    "    # Strip and split line from mapper\n",
    "    word, count = line.strip().split('\\t', 1)\n",
    "    \n",
    "    # If possible, turn count into an int (it's read as a string)\n",
    "    try:\n",
    "        count = int(count)\n",
    "    except ValueError:\n",
    "        # We couldn't make count into an int, so move on\n",
    "        continue\n",
    "        \n",
    "    # Since the words will be sorted, all counts for a word will be grouped\n",
    "    if prev_word == word:\n",
    "        # If prev_word is word, then we haven't changed words\n",
    "        # Just update prev_count\n",
    "        prev_count += count\n",
    "    else:\n",
    "        # We've encountered a new word!\n",
    "        # This might be the first word, though\n",
    "        if prev_word:\n",
    "            # We need to print the last word we were on\n",
    "            print \"%s\\t%s\" % (prev_word, prev_count)\n",
    "        \n",
    "        # Now we need to initialize our variables for the new word and count\n",
    "        prev_word = word\n",
    "        prev_count = count\n",
    "\n",
    "# We have reached the end of the file, so print the last word and count\n",
    "if prev_word == word:\n",
    "    print \"%s\\t%s\" % (prev_word, prev_count)"
   ]
  },
  {
   "cell_type": "markdown",
   "metadata": {},
   "source": [
    "#### Run Hadoop streaming command"
   ]
  },
  {
   "cell_type": "code",
   "execution_count": 95,
   "metadata": {
    "collapsed": false
   },
   "outputs": [
    {
     "name": "stdout",
     "output_type": "stream",
     "text": [
      "16/01/22 13:59:07 INFO fs.TrashPolicyDefault: Namenode trash configuration: Deletion interval = 0 minutes, Emptier interval = 0 minutes.\n",
      "Deleted /user/miki/week02/hw2_2_output\n",
      "packageJobJar: [] [/usr/jars/hadoop-streaming-2.6.0-cdh5.5.0.jar] /tmp/streamjob2515332195244567054.jar tmpDir=null\n",
      "16/01/22 13:59:10 INFO client.RMProxy: Connecting to ResourceManager at /0.0.0.0:8032\n",
      "16/01/22 13:59:10 INFO client.RMProxy: Connecting to ResourceManager at /0.0.0.0:8032\n",
      "16/01/22 13:59:10 INFO mapred.FileInputFormat: Total input paths to process : 1\n",
      "16/01/22 13:59:10 INFO mapreduce.JobSubmitter: number of splits:2\n",
      "16/01/22 13:59:11 INFO mapreduce.JobSubmitter: Submitting tokens for job: job_1453405632837_0027\n",
      "16/01/22 13:59:11 INFO impl.YarnClientImpl: Submitted application application_1453405632837_0027\n",
      "16/01/22 13:59:11 INFO mapreduce.Job: The url to track the job: http://quickstart.cloudera:8088/proxy/application_1453405632837_0027/\n",
      "16/01/22 13:59:11 INFO mapreduce.Job: Running job: job_1453405632837_0027\n",
      "16/01/22 13:59:18 INFO mapreduce.Job: Job job_1453405632837_0027 running in uber mode : false\n",
      "16/01/22 13:59:18 INFO mapreduce.Job:  map 0% reduce 0%\n",
      "16/01/22 13:59:25 INFO mapreduce.Job:  map 50% reduce 0%\n",
      "16/01/22 13:59:26 INFO mapreduce.Job:  map 100% reduce 0%\n",
      "16/01/22 13:59:32 INFO mapreduce.Job:  map 100% reduce 100%\n",
      "16/01/22 13:59:32 INFO mapreduce.Job: Job job_1453405632837_0027 completed successfully\n",
      "16/01/22 13:59:32 INFO mapreduce.Job: Counters: 49\n",
      "\tFile System Counters\n",
      "\t\tFILE: Number of bytes read=156\n",
      "\t\tFILE: Number of bytes written=341606\n",
      "\t\tFILE: Number of read operations=0\n",
      "\t\tFILE: Number of large read operations=0\n",
      "\t\tFILE: Number of write operations=0\n",
      "\t\tHDFS: Number of bytes read=216503\n",
      "\t\tHDFS: Number of bytes written=14\n",
      "\t\tHDFS: Number of read operations=9\n",
      "\t\tHDFS: Number of large read operations=0\n",
      "\t\tHDFS: Number of write operations=2\n",
      "\tJob Counters \n",
      "\t\tLaunched map tasks=2\n",
      "\t\tLaunched reduce tasks=1\n",
      "\t\tData-local map tasks=2\n",
      "\t\tTotal time spent by all maps in occupied slots (ms)=10277\n",
      "\t\tTotal time spent by all reduces in occupied slots (ms)=4092\n",
      "\t\tTotal time spent by all map tasks (ms)=10277\n",
      "\t\tTotal time spent by all reduce tasks (ms)=4092\n",
      "\t\tTotal vcore-seconds taken by all map tasks=10277\n",
      "\t\tTotal vcore-seconds taken by all reduce tasks=4092\n",
      "\t\tTotal megabyte-seconds taken by all map tasks=10523648\n",
      "\t\tTotal megabyte-seconds taken by all reduce tasks=4190208\n",
      "\tMap-Reduce Framework\n",
      "\t\tMap input records=100\n",
      "\t\tMap output records=10\n",
      "\t\tMap output bytes=130\n",
      "\t\tMap output materialized bytes=162\n",
      "\t\tInput split bytes=236\n",
      "\t\tCombine input records=0\n",
      "\t\tCombine output records=0\n",
      "\t\tReduce input groups=1\n",
      "\t\tReduce shuffle bytes=162\n",
      "\t\tReduce input records=10\n",
      "\t\tReduce output records=1\n",
      "\t\tSpilled Records=20\n",
      "\t\tShuffled Maps =2\n",
      "\t\tFailed Shuffles=0\n",
      "\t\tMerged Map outputs=2\n",
      "\t\tGC time elapsed (ms)=135\n",
      "\t\tCPU time spent (ms)=2100\n",
      "\t\tPhysical memory (bytes) snapshot=723128320\n",
      "\t\tVirtual memory (bytes) snapshot=4702228480\n",
      "\t\tTotal committed heap usage (bytes)=693633024\n",
      "\tShuffle Errors\n",
      "\t\tBAD_ID=0\n",
      "\t\tCONNECTION=0\n",
      "\t\tIO_ERROR=0\n",
      "\t\tWRONG_LENGTH=0\n",
      "\t\tWRONG_MAP=0\n",
      "\t\tWRONG_REDUCE=0\n",
      "\tFile Input Format Counters \n",
      "\t\tBytes Read=216267\n",
      "\tFile Output Format Counters \n",
      "\t\tBytes Written=14\n",
      "16/01/22 13:59:32 INFO streaming.StreamJob: Output directory: /user/miki/week02/hw2_2_output\n"
     ]
    }
   ],
   "source": [
    "# Change permissions on mapper and reducer\n",
    "!chmod +x mapper.py\n",
    "!chmod +x reducer.py\n",
    "\n",
    "# Delete output folder if it exists\n",
    "!hdfs dfs -rm -r /user/miki/week02/hw2_2_output\n",
    "\n",
    "# Run job\n",
    "!hadoop jar hadoop-streaming-2.7.1.jar \\\n",
    "-mapper '/home/cloudera/Documents/W261-Fall2016/Week02/mapper.py assistance' \\\n",
    "-reducer /home/cloudera/Documents/W261-Fall2016/Week02/reducer.py \\\n",
    "-input /user/miki/week02/enronemail_1h.txt \\\n",
    "-output /user/miki/week02/hw2_2_output"
   ]
  },
  {
   "cell_type": "markdown",
   "metadata": {},
   "source": [
    "#### Look at output of job"
   ]
  },
  {
   "cell_type": "code",
   "execution_count": 96,
   "metadata": {
    "collapsed": false
   },
   "outputs": [
    {
     "name": "stdout",
     "output_type": "stream",
     "text": [
      "assistance\t10\r\n"
     ]
    }
   ],
   "source": [
    "!hdfs dfs -cat /user/miki/week02/hw2_2_output/part-00000"
   ]
  },
  {
   "cell_type": "markdown",
   "metadata": {},
   "source": [
    "### HW2.2.1: Using Hadoop MapReduce and your wordcount job (from HW2.2) determine the top-10 occurring tokens (most frequent tokens)"
   ]
  },
  {
   "cell_type": "code",
   "execution_count": null,
   "metadata": {
    "collapsed": true
   },
   "outputs": [],
   "source": [
    "##############################\n",
    "#\n",
    "#    DO THIS!!!!!!!\n",
    "#\n",
    "##############################"
   ]
  },
  {
   "cell_type": "markdown",
   "metadata": {},
   "source": [
    "### HW2.3: Multinomial NAIVE BAYES with NO Smoothing\n",
    "Using the Enron data from HW1 and Hadoop MapReduce, write  a mapper/reducer job(s) that will both learn Naive Bayes classifier and classify the Enron email messages using the learnt Naive Bayes classifier. Use all white-space delimited tokens as independent input variables (assume spaces, fullstops, commas as delimiters). \n",
    "\n",
    "Note: for multinomial Naive Bayes, the Pr(X=“assistance”|Y=SPAM) is calculated as follows:\n",
    "\n",
    "$$\n",
    "\\frac{\\text{number of times \"assistance\" occurs in SPAM labeled documents}}{\\text{the number of words in documents labeled SPAM}}\n",
    "$$"
   ]
  },
  {
   "cell_type": "markdown",
   "metadata": {},
   "source": [
    "#### Mapper/Reducer for fitting NB\n",
    "\n",
    "Mapper:\n",
    "- Input: training documents\n",
    "- Output: (word, 1, 0) if word was in spam, otherwise (word, 0, 1)\n",
    "  - Special words: \\*alldocs, \\*docs and \\*words\n",
    "  \n",
    "Reducer:\n",
    "- Input: (word, 1, 0) or (word, 0, 1)\n",
    "- Output: (word, spam count, ham count)"
   ]
  },
  {
   "cell_type": "code",
   "execution_count": 39,
   "metadata": {
    "collapsed": false
   },
   "outputs": [
    {
     "name": "stdout",
     "output_type": "stream",
     "text": [
      "Overwriting mapper.py\n"
     ]
    }
   ],
   "source": [
    "%%writefile mapper.py\n",
    "#!/usr/bin/python\n",
    "## mapper.py\n",
    "## Author: Miki Seltzer\n",
    "## Description: mapper code for HW2.3\n",
    "\n",
    "import sys\n",
    "import string\n",
    "import re\n",
    "\n",
    "counts = {\n",
    "    '*words':{\n",
    "        '1':0,\n",
    "        '0':0\n",
    "    },\n",
    "    '*docs':{\n",
    "        '1':0,\n",
    "        '0':0\n",
    "    }\n",
    "}\n",
    "total_docs = 0\n",
    "\n",
    "# Our input comes from STDIN (standard input)\n",
    "for line in sys.stdin:\n",
    "    \n",
    "    # Strip white space from line, then split into fields\n",
    "    # Replace commas with spaces (we are using commas as a delimiter as well)\n",
    "    # Remove remaining punctuation from subject and body\n",
    "    # Concatenate, then split subject and body by spaces\n",
    "    # Some records are malformed -- if there is a 4th field, use it\n",
    "    fields = line.strip().split('\\t')\n",
    "    \n",
    "    # Keep track of document counts\n",
    "    spam = fields[1]\n",
    "    counts['*docs'][spam] += 1\n",
    "    total_docs += 1\n",
    "    \n",
    "    subj = fields[2].replace(',', ' ')\n",
    "    subj = subj.translate(string.maketrans(\"\",\"\"), string.punctuation)\n",
    "    if len(fields) == 4:\n",
    "        body = fields[3].replace(',', ' ')\n",
    "        body = body.translate(string.maketrans(\"\",\"\"), string.punctuation)\n",
    "    else:\n",
    "        body = \"\"\n",
    "    words = subj + \" \" + body\n",
    "    words = words.split()\n",
    "    \n",
    "    # Loop through words\n",
    "    # If word is not trivial, write to file\n",
    "    # key = word\n",
    "    # value = 1\n",
    "    for word in words:\n",
    "        if len(word) > 0 and repr(word)[1] != '\\\\':\n",
    "            if spam == '1':\n",
    "                print \"%s\\t%s\\t%s\" % (word, 1, 0)\n",
    "            elif spam == '0':\n",
    "                print \"%s\\t%s\\t%s\" % (word, 0, 1)\n",
    "            counts['*words'][spam] += 1\n",
    "\n",
    "# At the end, output document and word counts\n",
    "for item in counts:\n",
    "    print \"%s\\t%s\\t%s\" % (item, counts[item]['1'], counts[item]['0'])\n",
    "print \"%s\\t%s\\t%s\" % ('*alldocs', total_docs, total_docs)\n"
   ]
  },
  {
   "cell_type": "code",
   "execution_count": 40,
   "metadata": {
    "collapsed": false
   },
   "outputs": [
    {
     "name": "stdout",
     "output_type": "stream",
     "text": [
      "Overwriting reducer.py\n"
     ]
    }
   ],
   "source": [
    "%%writefile reducer.py\n",
    "#!/usr/bin/python\n",
    "## reducer.py\n",
    "## Author: Miki Seltzer\n",
    "## Description: reducer code for HW2.3\n",
    "\n",
    "from operator import itemgetter\n",
    "import sys\n",
    "import math\n",
    "\n",
    "# Initialize some variables\n",
    "# We know that the words will be sorted\n",
    "# We need to keep track of state\n",
    "prev_word = None\n",
    "prev_spam_count = 0\n",
    "prev_ham_count = 0\n",
    "word = None\n",
    "\n",
    "for line in sys.stdin:\n",
    "    # Split line into fields\n",
    "    fields = line.strip().split('\\t')\n",
    "    word = fields[0]\n",
    "    spam_count = fields[1]\n",
    "    ham_count = fields[2]\n",
    "    \n",
    "    # If possible, turn count into an int (it's read as a string)\n",
    "    try:\n",
    "        spam_count = int(spam_count)\n",
    "        ham_count = int(ham_count)\n",
    "    except ValueError:\n",
    "        # We couldn't make count into an int, so move on\n",
    "        continue\n",
    "        \n",
    "    if prev_word == word:\n",
    "        # We have not moved to a new word\n",
    "        # Just update the count of this word\n",
    "        prev_spam_count += spam_count\n",
    "        prev_ham_count += ham_count\n",
    "        \n",
    "    else:\n",
    "        # We have encountered a new word!\n",
    "        # If this is the first word, we don't need to print anything\n",
    "        if prev_word: \n",
    "            # Write the previous word to file\n",
    "            print '%s\\t%s\\t%s' % (prev_word, prev_spam_count, prev_ham_count)\n",
    "            \n",
    "        # Now we need to initialize our variables\n",
    "        prev_word = word\n",
    "        prev_spam_count = spam_count\n",
    "        prev_ham_count = ham_count\n",
    "\n",
    "# We've reached the end of the file\n",
    "# Print the last word and counts\n",
    "print '%s\\t%s\\t%s' % (prev_word, prev_spam_count, prev_ham_count)"
   ]
  },
  {
   "cell_type": "code",
   "execution_count": 41,
   "metadata": {
    "collapsed": false
   },
   "outputs": [
    {
     "name": "stdout",
     "output_type": "stream",
     "text": [
      "16/01/23 02:24:29 INFO fs.TrashPolicyDefault: Namenode trash configuration: Deletion interval = 0 minutes, Emptier interval = 0 minutes.\n",
      "Deleted /user/miki/week02/hw2_3_output_fit\n",
      "packageJobJar: [] [/usr/jars/hadoop-streaming-2.6.0-cdh5.5.0.jar] /tmp/streamjob1294460146102016869.jar tmpDir=null\n",
      "16/01/23 02:24:33 INFO client.RMProxy: Connecting to ResourceManager at /0.0.0.0:8032\n",
      "16/01/23 02:24:33 INFO client.RMProxy: Connecting to ResourceManager at /0.0.0.0:8032\n",
      "16/01/23 02:24:33 INFO mapred.FileInputFormat: Total input paths to process : 1\n",
      "16/01/23 02:24:33 INFO mapreduce.JobSubmitter: number of splits:2\n",
      "16/01/23 02:24:34 INFO mapreduce.JobSubmitter: Submitting tokens for job: job_1453405632837_0143\n",
      "16/01/23 02:24:34 INFO impl.YarnClientImpl: Submitted application application_1453405632837_0143\n",
      "16/01/23 02:24:34 INFO mapreduce.Job: The url to track the job: http://quickstart.cloudera:8088/proxy/application_1453405632837_0143/\n",
      "16/01/23 02:24:34 INFO mapreduce.Job: Running job: job_1453405632837_0143\n",
      "16/01/23 02:24:41 INFO mapreduce.Job: Job job_1453405632837_0143 running in uber mode : false\n",
      "16/01/23 02:24:41 INFO mapreduce.Job:  map 0% reduce 0%\n",
      "16/01/23 02:24:49 INFO mapreduce.Job:  map 50% reduce 0%\n",
      "16/01/23 02:24:50 INFO mapreduce.Job:  map 100% reduce 0%\n",
      "16/01/23 02:24:57 INFO mapreduce.Job:  map 100% reduce 100%\n",
      "16/01/23 02:24:57 INFO mapreduce.Job: Job job_1453405632837_0143 completed successfully\n",
      "16/01/23 02:24:57 INFO mapreduce.Job: Counters: 49\n",
      "\tFile System Counters\n",
      "\t\tFILE: Number of bytes read=373606\n",
      "\t\tFILE: Number of bytes written=1088485\n",
      "\t\tFILE: Number of read operations=0\n",
      "\t\tFILE: Number of large read operations=0\n",
      "\t\tFILE: Number of write operations=0\n",
      "\t\tHDFS: Number of bytes read=216503\n",
      "\t\tHDFS: Number of bytes written=68226\n",
      "\t\tHDFS: Number of read operations=9\n",
      "\t\tHDFS: Number of large read operations=0\n",
      "\t\tHDFS: Number of write operations=2\n",
      "\tJob Counters \n",
      "\t\tLaunched map tasks=2\n",
      "\t\tLaunched reduce tasks=1\n",
      "\t\tData-local map tasks=2\n",
      "\t\tTotal time spent by all maps in occupied slots (ms)=11715\n",
      "\t\tTotal time spent by all reduces in occupied slots (ms)=4813\n",
      "\t\tTotal time spent by all map tasks (ms)=11715\n",
      "\t\tTotal time spent by all reduce tasks (ms)=4813\n",
      "\t\tTotal vcore-seconds taken by all map tasks=11715\n",
      "\t\tTotal vcore-seconds taken by all reduce tasks=4813\n",
      "\t\tTotal megabyte-seconds taken by all map tasks=11996160\n",
      "\t\tTotal megabyte-seconds taken by all reduce tasks=4928512\n",
      "\tMap-Reduce Framework\n",
      "\t\tMap input records=100\n",
      "\t\tMap output records=31567\n",
      "\t\tMap output bytes=310466\n",
      "\t\tMap output materialized bytes=373612\n",
      "\t\tInput split bytes=236\n",
      "\t\tCombine input records=0\n",
      "\t\tCombine output records=0\n",
      "\t\tReduce input groups=5710\n",
      "\t\tReduce shuffle bytes=373612\n",
      "\t\tReduce input records=31567\n",
      "\t\tReduce output records=5710\n",
      "\t\tSpilled Records=63134\n",
      "\t\tShuffled Maps =2\n",
      "\t\tFailed Shuffles=0\n",
      "\t\tMerged Map outputs=2\n",
      "\t\tGC time elapsed (ms)=149\n",
      "\t\tCPU time spent (ms)=3890\n",
      "\t\tPhysical memory (bytes) snapshot=737927168\n",
      "\t\tVirtual memory (bytes) snapshot=4685791232\n",
      "\t\tTotal committed heap usage (bytes)=693633024\n",
      "\tShuffle Errors\n",
      "\t\tBAD_ID=0\n",
      "\t\tCONNECTION=0\n",
      "\t\tIO_ERROR=0\n",
      "\t\tWRONG_LENGTH=0\n",
      "\t\tWRONG_MAP=0\n",
      "\t\tWRONG_REDUCE=0\n",
      "\tFile Input Format Counters \n",
      "\t\tBytes Read=216267\n",
      "\tFile Output Format Counters \n",
      "\t\tBytes Written=68226\n",
      "16/01/23 02:24:57 INFO streaming.StreamJob: Output directory: /user/miki/week02/hw2_3_output_fit\n"
     ]
    }
   ],
   "source": [
    "# Change permissions on mapper and reducer\n",
    "!chmod +x mapper.py\n",
    "!chmod +x reducer.py\n",
    "\n",
    "# Delete output folder if it exists\n",
    "!hdfs dfs -rm -r /user/miki/week02/hw2_3_output_fit\n",
    "\n",
    "# Run job\n",
    "!hadoop jar hadoop-streaming-2.7.1.jar \\\n",
    "-input /user/miki/week02/enronemail_1h.txt \\\n",
    "-output /user/miki/week02/hw2_3_output_fit \\\n",
    "-mapper /home/cloudera/Documents/W261-Fall2016/Week02/mapper.py \\\n",
    "-reducer /home/cloudera/Documents/W261-Fall2016/Week02/reducer.py \n"
   ]
  },
  {
   "cell_type": "code",
   "execution_count": 43,
   "metadata": {
    "collapsed": false
   },
   "outputs": [],
   "source": [
    "#!hdfs dfs -cat /user/miki/week02/hw2_3_output_fit/part-00000"
   ]
  },
  {
   "cell_type": "markdown",
   "metadata": {},
   "source": [
    "#### Mapper/Reducer #1 for predicting NB\n",
    "\n",
    "Mapper:\n",
    "- Input from fit: (word, spam count, ham count)\n",
    "- Output: (word, spam count, ham count)\n",
    "- Input testing document: (document ID, cat, subj, body)\n",
    "- Output: (word, cat, document ID)\n",
    "\n",
    "Reducer:\n",
    "- Input: (word, spam count, ham count)\n",
    "- Input: (word, cat, document ID)\n",
    "- Output: (document ID, cat, word, spam count, ham count)"
   ]
  },
  {
   "cell_type": "code",
   "execution_count": 148,
   "metadata": {
    "collapsed": false
   },
   "outputs": [
    {
     "name": "stdout",
     "output_type": "stream",
     "text": [
      "Overwriting mapper.py\n"
     ]
    }
   ],
   "source": [
    "%%writefile mapper.py\n",
    "#!/usr/bin/python\n",
    "## mapper.py\n",
    "## Author: Miki Seltzer\n",
    "## Description: mapper code for HW2.3\n",
    "\n",
    "import sys\n",
    "import string\n",
    "import re\n",
    "\n",
    "# Our input comes from STDIN (standard input)\n",
    "for line in sys.stdin:\n",
    "    \n",
    "    # Strip white space from line, then split into fields    \n",
    "    fields = line.strip().split('\\t')\n",
    "    \n",
    "    # If first field matches pattern of document ID, tokenize words\n",
    "    pattern = re.compile('^\\d{4}.\\d{4}-\\d{2}-\\d{2}\\.\\w+')\n",
    "    if pattern.match(fields[0]):\n",
    "        # Keep track of document counts\n",
    "        doc_id = fields[0]\n",
    "        spam = fields[1]\n",
    "\n",
    "        # We are always going to need the doc/word counts for each document\n",
    "        print '%s^%s^%s' % ('*alldocs', spam, doc_id)\n",
    "        print '%s^%s^%s' % ('*docs', spam, doc_id)\n",
    "        print '%s^%s^%s' % ('*words', spam, doc_id)\n",
    "        \n",
    "        # Replace commas with spaces (we are using commas as a delimiter as well)\n",
    "        # Remove remaining punctuation from subject and body\n",
    "        # Concatenate, then split subject and body by spaces\n",
    "        # Some records are malformed -- if there is a 4th field, use it\n",
    "        subj = fields[2].replace(',', ' ')\n",
    "        subj = subj.translate(string.maketrans(\"\",\"\"), string.punctuation)\n",
    "        if len(fields) == 4:\n",
    "            body = fields[3].replace(',', ' ')\n",
    "            body = body.translate(string.maketrans(\"\",\"\"), string.punctuation)\n",
    "        else:\n",
    "            body = \"\"\n",
    "        words = subj + \" \" + body\n",
    "        words = words.split()\n",
    "\n",
    "        # Loop through words\n",
    "        # If word is not trivial, write to file\n",
    "        # key = word\n",
    "        # value = doc_id\n",
    "        for word in words:\n",
    "            if len(word) > 0 and repr(word)[1] != '\\\\':\n",
    "                print '%s^%s^%s' % (word, spam, doc_id)\n",
    "    else:\n",
    "        # Now we know that the record is the\n",
    "        # output of the previous MapReduce job\n",
    "        word = fields[0]\n",
    "        spam_count = fields[1]\n",
    "        ham_count = fields[2]\n",
    "        print '%s^%s^%s' % (word, '*' + spam_count, ham_count)\n"
   ]
  },
  {
   "cell_type": "code",
   "execution_count": 149,
   "metadata": {
    "collapsed": false
   },
   "outputs": [
    {
     "name": "stdout",
     "output_type": "stream",
     "text": [
      "Overwriting reducer.py\n"
     ]
    }
   ],
   "source": [
    "%%writefile reducer.py\n",
    "#!/usr/bin/python\n",
    "## reducer.py\n",
    "## Author: Miki Seltzer\n",
    "## Description: reducer code for HW2.3\n",
    "\n",
    "from operator import itemgetter\n",
    "import sys\n",
    "import math\n",
    "import re\n",
    "\n",
    "# Initialize some variables\n",
    "spam_count = 0\n",
    "ham_count = 0\n",
    "\n",
    "for line in sys.stdin:\n",
    "    # Strip and split line\n",
    "    key, value = line.strip().split('\\t')\n",
    "    word, field1 = key.split('^')\n",
    "\n",
    "    # If field1 starts with a *, we know that it is the spam and ham counts\n",
    "    if field1[0] == '*':\n",
    "        # This record will be of the form (word field1=*spam_count value=ham_count)\n",
    "        try:\n",
    "            spam_count = int(field1.replace('*',''))\n",
    "            ham_count = int(value)\n",
    "        except ValueError:\n",
    "            continue\n",
    "    \n",
    "    else:\n",
    "        # Now we know that it is a doc_id record\n",
    "        # This record will be of the form (word field1=cat value=doc_id)\n",
    "        pattern = re.compile('^\\d{4}.\\d{4}-\\d{2}-\\d{2}\\.\\w+')\n",
    "        if pattern.match(value):\n",
    "            doc_id = value\n",
    "        print '%s\\t%s\\t%s\\t%s\\t%s' % (doc_id, field1, word, spam_count, ham_count)"
   ]
  },
  {
   "cell_type": "code",
   "execution_count": 150,
   "metadata": {
    "collapsed": false
   },
   "outputs": [
    {
     "name": "stdout",
     "output_type": "stream",
     "text": [
      "16/01/23 09:16:47 INFO fs.TrashPolicyDefault: Namenode trash configuration: Deletion interval = 0 minutes, Emptier interval = 0 minutes.\n",
      "Deleted /user/miki/week02/hw2_3_output_predict1\n",
      "packageJobJar: [] [/usr/jars/hadoop-streaming-2.6.0-cdh5.5.0.jar] /tmp/streamjob8552654983851536121.jar tmpDir=null\n",
      "16/01/23 09:16:50 INFO client.RMProxy: Connecting to ResourceManager at /0.0.0.0:8032\n",
      "16/01/23 09:16:50 INFO client.RMProxy: Connecting to ResourceManager at /0.0.0.0:8032\n",
      "16/01/23 09:16:51 INFO mapred.FileInputFormat: Total input paths to process : 2\n",
      "16/01/23 09:16:51 INFO mapreduce.JobSubmitter: number of splits:3\n",
      "16/01/23 09:16:51 INFO mapreduce.JobSubmitter: Submitting tokens for job: job_1453405632837_0175\n",
      "16/01/23 09:16:51 INFO impl.YarnClientImpl: Submitted application application_1453405632837_0175\n",
      "16/01/23 09:16:51 INFO mapreduce.Job: The url to track the job: http://quickstart.cloudera:8088/proxy/application_1453405632837_0175/\n",
      "16/01/23 09:16:51 INFO mapreduce.Job: Running job: job_1453405632837_0175\n",
      "16/01/23 09:16:58 INFO mapreduce.Job: Job job_1453405632837_0175 running in uber mode : false\n",
      "16/01/23 09:16:58 INFO mapreduce.Job:  map 0% reduce 0%\n",
      "16/01/23 09:17:09 INFO mapreduce.Job:  map 67% reduce 0%\n",
      "16/01/23 09:17:11 INFO mapreduce.Job:  map 100% reduce 0%\n",
      "16/01/23 09:17:16 INFO mapreduce.Job:  map 100% reduce 100%\n",
      "16/01/23 09:17:16 INFO mapreduce.Job: Job job_1453405632837_0175 completed successfully\n",
      "16/01/23 09:17:16 INFO mapreduce.Job: Counters: 49\n",
      "\tFile System Counters\n",
      "\t\tFILE: Number of bytes read=1153594\n",
      "\t\tFILE: Number of bytes written=2764889\n",
      "\t\tFILE: Number of read operations=0\n",
      "\t\tFILE: Number of large read operations=0\n",
      "\t\tFILE: Number of write operations=0\n",
      "\t\tHDFS: Number of bytes read=293049\n",
      "\t\tHDFS: Number of bytes written=1180670\n",
      "\t\tHDFS: Number of read operations=12\n",
      "\t\tHDFS: Number of large read operations=0\n",
      "\t\tHDFS: Number of write operations=2\n",
      "\tJob Counters \n",
      "\t\tLaunched map tasks=3\n",
      "\t\tLaunched reduce tasks=1\n",
      "\t\tData-local map tasks=3\n",
      "\t\tTotal time spent by all maps in occupied slots (ms)=21841\n",
      "\t\tTotal time spent by all reduces in occupied slots (ms)=4621\n",
      "\t\tTotal time spent by all map tasks (ms)=21841\n",
      "\t\tTotal time spent by all reduce tasks (ms)=4621\n",
      "\t\tTotal vcore-seconds taken by all map tasks=21841\n",
      "\t\tTotal vcore-seconds taken by all reduce tasks=4621\n",
      "\t\tTotal megabyte-seconds taken by all map tasks=22365184\n",
      "\t\tTotal megabyte-seconds taken by all reduce tasks=4731904\n",
      "\tMap-Reduce Framework\n",
      "\t\tMap input records=5810\n",
      "\t\tMap output records=37571\n",
      "\t\tMap output bytes=1078446\n",
      "\t\tMap output materialized bytes=1153606\n",
      "\t\tInput split bytes=364\n",
      "\t\tCombine input records=0\n",
      "\t\tCombine output records=0\n",
      "\t\tReduce input groups=12441\n",
      "\t\tReduce shuffle bytes=1153606\n",
      "\t\tReduce input records=37571\n",
      "\t\tReduce output records=31861\n",
      "\t\tSpilled Records=75142\n",
      "\t\tShuffled Maps =3\n",
      "\t\tFailed Shuffles=0\n",
      "\t\tMerged Map outputs=3\n",
      "\t\tGC time elapsed (ms)=186\n",
      "\t\tCPU time spent (ms)=4870\n",
      "\t\tPhysical memory (bytes) snapshot=991035392\n",
      "\t\tVirtual memory (bytes) snapshot=6254219264\n",
      "\t\tTotal committed heap usage (bytes)=828375040\n",
      "\tShuffle Errors\n",
      "\t\tBAD_ID=0\n",
      "\t\tCONNECTION=0\n",
      "\t\tIO_ERROR=0\n",
      "\t\tWRONG_LENGTH=0\n",
      "\t\tWRONG_MAP=0\n",
      "\t\tWRONG_REDUCE=0\n",
      "\tFile Input Format Counters \n",
      "\t\tBytes Read=292685\n",
      "\tFile Output Format Counters \n",
      "\t\tBytes Written=1180670\n",
      "16/01/23 09:17:16 INFO streaming.StreamJob: Output directory: /user/miki/week02/hw2_3_output_predict1\n"
     ]
    }
   ],
   "source": [
    "# Change permissions on mapper and reducer\n",
    "!chmod +x mapper.py\n",
    "!chmod +x reducer.py\n",
    "\n",
    "# Delete output folder if it exists\n",
    "!hdfs dfs -rm -r /user/miki/week02/hw2_3_output_predict1\n",
    "\n",
    "# Run job\n",
    "!hadoop jar hadoop-streaming-2.7.1.jar \\\n",
    "-D stream.map.output.field.separator=^ \\\n",
    "-D stream.num.map.output.key.fields=2 \\\n",
    "-D mapreduce.map.output.key.field.separator=^ \\\n",
    "-D mapreduce.partition.keypartitioner.options=-k1,1 \\\n",
    "-input /user/miki/week02/enronemail_1h.txt \\\n",
    "-input /user/miki/week02/hw2_3_output_fit \\\n",
    "-output /user/miki/week02/hw2_3_output_predict1 \\\n",
    "-mapper /home/cloudera/Documents/W261-Fall2016/Week02/mapper.py \\\n",
    "-reducer /home/cloudera/Documents/W261-Fall2016/Week02/reducer.py \n"
   ]
  },
  {
   "cell_type": "code",
   "execution_count": 152,
   "metadata": {
    "collapsed": false
   },
   "outputs": [],
   "source": [
    "#!hdfs dfs -cat /user/miki/week02/hw2_3_output_predict1/part-00000"
   ]
  },
  {
   "cell_type": "markdown",
   "metadata": {},
   "source": [
    "#### Mapper/Reducer #2 for predicting NB\n",
    "\n",
    "Mapper:\n",
    "- Input from predict1: (doc_id, cat, word, spam count, ham count)\n",
    "- Output: identity\n",
    "\n",
    "Reducer:\n",
    "- Input: (doc_id, cat, word, spam count, ham count)\n",
    "- Output: (doc_id, cat, prediction)"
   ]
  },
  {
   "cell_type": "code",
   "execution_count": 164,
   "metadata": {
    "collapsed": false
   },
   "outputs": [
    {
     "name": "stdout",
     "output_type": "stream",
     "text": [
      "Overwriting mapper.py\n"
     ]
    }
   ],
   "source": [
    "%%writefile mapper.py\n",
    "#!/usr/bin/python\n",
    "## mapper.py\n",
    "## Author: Miki Seltzer\n",
    "## Description: mapper code for HW2.3\n",
    "\n",
    "import sys\n",
    "import string\n",
    "import re\n",
    "\n",
    "# Our input comes from STDIN (standard input)\n",
    "for line in sys.stdin:\n",
    "    \n",
    "    # Replace delimiter\n",
    "    line = line.replace('\\n', '')\n",
    "    fields = line.split('\\t')\n",
    "    print '%s^%s^%s^%s^%s' % (fields[0], fields[1], fields[2], fields[3], fields[4])"
   ]
  },
  {
   "cell_type": "code",
   "execution_count": 221,
   "metadata": {
    "collapsed": false
   },
   "outputs": [
    {
     "name": "stdout",
     "output_type": "stream",
     "text": [
      "Overwriting reducer.py\n"
     ]
    }
   ],
   "source": [
    "%%writefile reducer.py\n",
    "#!/usr/bin/python\n",
    "## reducer.py\n",
    "## Author: Miki Seltzer\n",
    "## Description: reducer code for HW2.3\n",
    "\n",
    "from operator import itemgetter\n",
    "import sys\n",
    "import math\n",
    "import re\n",
    "\n",
    "# Initialize some variables\n",
    "prev_doc = None\n",
    "prev_spam = None\n",
    "prev_spam_count = 0\n",
    "prev_ham_count = 0\n",
    "prev_word = None\n",
    "\n",
    "docs_total = 0\n",
    "docs = {'1':0, '0':0}\n",
    "words_total = 0\n",
    "words = {'1':0, '0':0}\n",
    "log_prior = {'1':0, '0':0}\n",
    "log_posterior = {'1':0, '0':0}\n",
    "log_likelihood = {'1':0, '0':0}\n",
    "log_evidence = 0\n",
    "\n",
    "##### MAKE NUM_ERRORS A DICTIONARY\n",
    "# Need to keep track of errors for each class\n",
    "num_errors = 0.0\n",
    "num_total = 0.0\n",
    "num_correct = 0.0\n",
    "\n",
    "for line in sys.stdin:\n",
    "    # Strip and split line\n",
    "    # Assign variables\n",
    "    line = line.replace('\\n', '')\n",
    "    key, value = line.strip().split('\\t')\n",
    "    doc, spam, word = key.split('^')\n",
    "    spam_count, ham_count = value.split('^')\n",
    "    \n",
    "    try:\n",
    "        spam_count = float(spam_count)\n",
    "        ham_count = float(ham_count)\n",
    "    except ValueError:\n",
    "        continue\n",
    "\n",
    "    # Let's calculate some log_probs!\n",
    "    if prev_doc == doc:\n",
    "        # We haven't changed documents\n",
    "        if prev_word == word:\n",
    "            # We haven't changed words, so just increment\n",
    "            prev_spam_count += spam_count\n",
    "            prev_ham_count += ham_count\n",
    "            #print \"update counts\"\n",
    "            \n",
    "        else:\n",
    "            # We are at a new word\n",
    "            # We need to check if we are at a keyword\n",
    "            if prev_word == '*alldocs': \n",
    "                # We are at a record where we need to output total docs\n",
    "                docs_total = prev_spam_count\n",
    "                #print \"total docs:\", docs_total\n",
    "            \n",
    "            elif prev_word == '*docs': \n",
    "                # We are at a record where we need to output unique docs per class\n",
    "                docs['1'] = prev_spam_count\n",
    "                docs['0'] = prev_ham_count\n",
    "                for item in log_prior:\n",
    "                    log_prior[item] = math.log(docs[item] / docs_total)\n",
    "                    \n",
    "                    # We will update the posterior after each word\n",
    "                    # Initialize it to the prior\n",
    "                    log_posterior[item] = math.log(docs[item] / docs_total)\n",
    "                #print \"log prior:\", log_prior\n",
    "\n",
    "            elif prev_word == '*words':\n",
    "                # We are at a record where we need to output words per class\n",
    "                words['1'] = prev_spam_count\n",
    "                words['0'] = prev_ham_count\n",
    "                words_total = prev_spam_count + prev_ham_count\n",
    "                #print \"word count:\", words\n",
    "\n",
    "            elif prev_word:\n",
    "                # We are at a new normal word, and need to calculate stuff\n",
    "                try:\n",
    "                    log_likelihood['1'] = math.log(prev_spam_count / words['1'])\n",
    "                    #print word, \"log likelihood spam for\", word, log_likelihood['1']\n",
    "                    \n",
    "                except:\n",
    "                    #print \"error calculating log likelihood spam for\", word\n",
    "                    num_errors += 1\n",
    "                    \n",
    "                try:\n",
    "                    log_likelihood['0'] = math.log(prev_ham_count / words['0'])\n",
    "                    #print word, \"log likelihood ham for\", word, log_likelihood['0']\n",
    "                    \n",
    "                except:\n",
    "                    #print \"error calculating log likelihood ham for\", word\n",
    "                    num_errors += 1\n",
    "                    \n",
    "                # Calculate evidence\n",
    "                log_evidence = math.log((prev_spam_count + prev_ham_count)/words_total)\n",
    "                for item in log_posterior:\n",
    "                    log_posterior[item] += log_likelihood[item] - log_evidence\n",
    "                #print \"updated log posterior:\", log_posterior\n",
    "                \n",
    "                \n",
    "            prev_word = word\n",
    "            prev_spam_count = spam_count\n",
    "            prev_ham_count = ham_count\n",
    "            \n",
    "    else:\n",
    "        # We are done with one document, and need to output our predictions\n",
    "        if prev_doc:\n",
    "            # We know that we're not on the very first record\n",
    "            if log_posterior['1'] > log_posterior['0']: prediction = '1'\n",
    "            else: prediction = '0'\n",
    "            num_total += 1\n",
    "            if prev_spam == prediction: num_correct += 1\n",
    "            print '%s\\t%s\\t%s\\t%s\\t%s' % (prev_doc, prev_spam, prediction, \n",
    "                                          log_posterior['1'],\n",
    "                                          log_posterior['0'])\n",
    "        \n",
    "        prev_doc = doc\n",
    "        prev_spam = spam\n",
    "        prev_word = word\n",
    "        prev_spam_count = spam_count\n",
    "        prev_ham_count = ham_count\n",
    "\n",
    "# Output our final prediction\n",
    "if log_posterior['1'] > log_posterior['0']: prediction = '1'\n",
    "else: prediction = '0'\n",
    "num_total += 1\n",
    "if prev_spam == prediction: num_correct += 1\n",
    "print '%s\\t%s\\t%s\\t%s\\t%s' % (prev_doc, prev_spam, prediction, \n",
    "                              log_posterior['1'],\n",
    "                              log_posterior['0'])\n",
    "print '\\n'\n",
    "print \"Number of documents:\", num_total\n",
    "print \"Number correct predictions:\", num_correct\n",
    "print \"Error rate:\", 1 - num_correct / num_total"
   ]
  },
  {
   "cell_type": "code",
   "execution_count": 222,
   "metadata": {
    "collapsed": false
   },
   "outputs": [
    {
     "name": "stdout",
     "output_type": "stream",
     "text": [
      "16/01/23 12:00:16 INFO fs.TrashPolicyDefault: Namenode trash configuration: Deletion interval = 0 minutes, Emptier interval = 0 minutes.\n",
      "Deleted /user/miki/week02/hw2_3_output_predict2\n",
      "packageJobJar: [] [/usr/jars/hadoop-streaming-2.6.0-cdh5.5.0.jar] /tmp/streamjob2504384993510058722.jar tmpDir=null\n",
      "16/01/23 12:00:20 INFO client.RMProxy: Connecting to ResourceManager at /0.0.0.0:8032\n",
      "16/01/23 12:00:20 INFO client.RMProxy: Connecting to ResourceManager at /0.0.0.0:8032\n",
      "16/01/23 12:00:21 INFO mapred.FileInputFormat: Total input paths to process : 1\n",
      "16/01/23 12:00:21 INFO mapreduce.JobSubmitter: number of splits:2\n",
      "16/01/23 12:00:21 INFO mapreduce.JobSubmitter: Submitting tokens for job: job_1453405632837_0201\n",
      "16/01/23 12:00:22 INFO impl.YarnClientImpl: Submitted application application_1453405632837_0201\n",
      "16/01/23 12:00:22 INFO mapreduce.Job: The url to track the job: http://quickstart.cloudera:8088/proxy/application_1453405632837_0201/\n",
      "16/01/23 12:00:22 INFO mapreduce.Job: Running job: job_1453405632837_0201\n",
      "16/01/23 12:00:28 INFO mapreduce.Job: Job job_1453405632837_0201 running in uber mode : false\n",
      "16/01/23 12:00:28 INFO mapreduce.Job:  map 0% reduce 0%\n",
      "16/01/23 12:00:36 INFO mapreduce.Job:  map 50% reduce 0%\n",
      "16/01/23 12:00:37 INFO mapreduce.Job:  map 100% reduce 0%\n",
      "16/01/23 12:00:43 INFO mapreduce.Job:  map 100% reduce 100%\n",
      "16/01/23 12:00:44 INFO mapreduce.Job: Job job_1453405632837_0201 completed successfully\n",
      "16/01/23 12:00:44 INFO mapreduce.Job: Counters: 49\n",
      "\tFile System Counters\n",
      "\t\tFILE: Number of bytes read=1244398\n",
      "\t\tFILE: Number of bytes written=2831887\n",
      "\t\tFILE: Number of read operations=0\n",
      "\t\tFILE: Number of large read operations=0\n",
      "\t\tFILE: Number of write operations=0\n",
      "\t\tHDFS: Number of bytes read=1185032\n",
      "\t\tHDFS: Number of bytes written=5541\n",
      "\t\tHDFS: Number of read operations=9\n",
      "\t\tHDFS: Number of large read operations=0\n",
      "\t\tHDFS: Number of write operations=2\n",
      "\tJob Counters \n",
      "\t\tLaunched map tasks=2\n",
      "\t\tLaunched reduce tasks=1\n",
      "\t\tData-local map tasks=2\n",
      "\t\tTotal time spent by all maps in occupied slots (ms)=11673\n",
      "\t\tTotal time spent by all reduces in occupied slots (ms)=4516\n",
      "\t\tTotal time spent by all map tasks (ms)=11673\n",
      "\t\tTotal time spent by all reduce tasks (ms)=4516\n",
      "\t\tTotal vcore-seconds taken by all map tasks=11673\n",
      "\t\tTotal vcore-seconds taken by all reduce tasks=4516\n",
      "\t\tTotal megabyte-seconds taken by all map tasks=11953152\n",
      "\t\tTotal megabyte-seconds taken by all reduce tasks=4624384\n",
      "\tMap-Reduce Framework\n",
      "\t\tMap input records=31861\n",
      "\t\tMap output records=31861\n",
      "\t\tMap output bytes=1180670\n",
      "\t\tMap output materialized bytes=1244404\n",
      "\t\tInput split bytes=266\n",
      "\t\tCombine input records=0\n",
      "\t\tCombine output records=0\n",
      "\t\tReduce input groups=15638\n",
      "\t\tReduce shuffle bytes=1244404\n",
      "\t\tReduce input records=31861\n",
      "\t\tReduce output records=105\n",
      "\t\tSpilled Records=63722\n",
      "\t\tShuffled Maps =2\n",
      "\t\tFailed Shuffles=0\n",
      "\t\tMerged Map outputs=2\n",
      "\t\tGC time elapsed (ms)=157\n",
      "\t\tCPU time spent (ms)=4090\n",
      "\t\tPhysical memory (bytes) snapshot=712200192\n",
      "\t\tVirtual memory (bytes) snapshot=4683845632\n",
      "\t\tTotal committed heap usage (bytes)=645398528\n",
      "\tShuffle Errors\n",
      "\t\tBAD_ID=0\n",
      "\t\tCONNECTION=0\n",
      "\t\tIO_ERROR=0\n",
      "\t\tWRONG_LENGTH=0\n",
      "\t\tWRONG_MAP=0\n",
      "\t\tWRONG_REDUCE=0\n",
      "\tFile Input Format Counters \n",
      "\t\tBytes Read=1184766\n",
      "\tFile Output Format Counters \n",
      "\t\tBytes Written=5541\n",
      "16/01/23 12:00:44 INFO streaming.StreamJob: Output directory: /user/miki/week02/hw2_3_output_predict2\n"
     ]
    }
   ],
   "source": [
    "# Change permissions on mapper and reducer\n",
    "!chmod +x mapper.py\n",
    "!chmod +x reducer.py\n",
    "\n",
    "# Delete output folder if it exists\n",
    "!hdfs dfs -rm -r /user/miki/week02/hw2_3_output_predict2\n",
    "\n",
    "# Run job\n",
    "!hadoop jar hadoop-streaming-2.7.1.jar \\\n",
    "-D stream.map.output.field.separator=^ \\\n",
    "-D stream.num.map.output.key.fields=3 \\\n",
    "-D mapreduce.map.output.key.field.separator=^ \\\n",
    "-D mapreduce.partition.keypartitioner.options=-k1,2 \\\n",
    "-input /user/miki/week02/hw2_3_output_predict1/part* \\\n",
    "-output /user/miki/week02/hw2_3_output_predict2 \\\n",
    "-mapper /home/cloudera/Documents/W261-Fall2016/Week02/mapper.py \\\n",
    "-reducer /home/cloudera/Documents/W261-Fall2016/Week02/reducer.py "
   ]
  },
  {
   "cell_type": "code",
   "execution_count": 85,
   "metadata": {
    "collapsed": false
   },
   "outputs": [],
   "source": [
    "#!hdfs dfs -cat /user/miki/week02/hw2_3_output_predict2/part-00000"
   ]
  },
  {
   "cell_type": "code",
   "execution_count": 2,
   "metadata": {
    "collapsed": true
   },
   "outputs": [],
   "source": [
    "# Copy files from HDFS\n",
    "#!hdfs dfs -put FILEONHDFS workingdirectory"
   ]
  },
  {
   "cell_type": "markdown",
   "metadata": {},
   "source": [
    "#### Pretty print results"
   ]
  },
  {
   "cell_type": "code",
   "execution_count": 131,
   "metadata": {
    "collapsed": false
   },
   "outputs": [],
   "source": [
    "def print_results(thefile):\n",
    "    # Read in data from text file\n",
    "    with open(thefile, 'r') as myfile:\n",
    "        # Initialize\n",
    "        total = 0.0\n",
    "        incorrect = 0.0\n",
    "        \n",
    "        # Print header\n",
    "        table = '{:28s}{:^12s}{:^12s}{:15f}{:15f}'.format\n",
    "        print '{:28s}{:^12s}{:^12s}{:>15s}{:>15s}'.format('Document', \n",
    "                                                      'Truth', \n",
    "                                                      'Predicted', \n",
    "                                                      'Log Prob Spam', \n",
    "                                                      'Log Prob Ham')\n",
    "        print '----------------------------------------------------------------------------------'\n",
    "        for line in myfile:\n",
    "            fields = line.split()\n",
    "\n",
    "            # Only look at records that have a doc_id as the first field\n",
    "            pattern = re.compile('^\\d{4}.\\d{4}-\\d{2}-\\d{2}\\.\\w+')\n",
    "            try:\n",
    "                key = fields[0]\n",
    "            except:\n",
    "                continue\n",
    "            if pattern.match(fields[0]):\n",
    "                print table(fields[0], fields[1], fields[2], float(fields[3]), float(fields[4]))\n",
    "                total += 1\n",
    "                if fields[1] != fields[2]: incorrect += 1\n",
    "            \n",
    "        print '----------------------------------------------------------------------------------'\n",
    "        print 'Total Documents: {:.0f}'.format(total)\n",
    "        print 'Error rate:      {:.0%}'.format(incorrect / total)"
   ]
  },
  {
   "cell_type": "code",
   "execution_count": 132,
   "metadata": {
    "collapsed": false
   },
   "outputs": [
    {
     "name": "stdout",
     "output_type": "stream",
     "text": [
      "Document                       Truth     Predicted    Log Prob Spam   Log Prob Ham\n",
      "----------------------------------------------------------------------------------\n",
      "0001.1999-12-10.farmer           0           1             0.297533      -0.571138\n",
      "0001.1999-12-10.kaminski         0           0             0.113204       1.263854\n",
      "0001.2000-01-17.beck             0           1           169.543130      90.312397\n",
      "0001.2000-06-06.lokay            0           1            78.647446      63.775913\n",
      "0001.2001-02-07.kitchen          0           0            -4.911744      19.358109\n",
      "0001.2001-04-02.williams         0           1            92.726948      25.197349\n",
      "0002.1999-12-13.farmer           0           1           165.428879      79.788727\n",
      "0002.2001-02-07.kitchen          0           1            34.682100       9.458434\n",
      "0002.2001-05-25.SA_and_HP        1           0            16.525785      44.258024\n",
      "0002.2003-12-18.GP               1           0            37.218578     113.654014\n",
      "0002.2004-08-01.BG               1           0            10.359233      40.708809\n",
      "0003.1999-12-10.kaminski         0           0             9.594514      15.038510\n",
      "0003.1999-12-14.farmer           0           0            -2.072302       2.346136\n",
      "0003.2000-01-17.beck             0           0             5.753512      45.493647\n",
      "0003.2001-02-08.kitchen          0           0            47.026771      51.044210\n",
      "0003.2003-12-18.GP               1           0            12.222788     101.829090\n",
      "0003.2004-08-01.BG               1           0            21.929859      83.862356\n",
      "0004.1999-12-10.kaminski         0           1            98.706189      46.228732\n",
      "0004.1999-12-14.farmer           0           1            99.267376      39.216443\n",
      "0004.2001-04-02.williams         0           1            36.650696       9.170073\n",
      "0004.2001-06-12.SA_and_HP        1           1            10.714340       6.612371\n",
      "0004.2004-08-01.BG               1           0            19.698144     117.314735\n",
      "0005.1999-12-12.kaminski         0           1            97.884492      40.040452\n",
      "0005.1999-12-14.farmer           0           1           106.527054      37.852514\n",
      "0005.2000-06-06.lokay            0           1            65.435980      15.876519\n",
      "0005.2001-02-08.kitchen          0           1            75.405690      37.755108\n",
      "0005.2001-06-23.SA_and_HP        1           0             5.675386      17.169814\n",
      "0005.2003-12-18.GP               1           0           137.811244     585.083912\n",
      "0006.1999-12-13.kaminski         0           1            50.796916      12.396519\n",
      "0006.2001-02-08.kitchen          0           1           307.973750     208.350288\n",
      "0006.2001-04-03.williams         0           1            11.741806       5.576597\n",
      "0006.2001-06-25.SA_and_HP        1           0             5.206772      40.793749\n",
      "0006.2003-12-18.GP               1           0            29.683275     182.588413\n",
      "0006.2004-08-01.BG               1           0            29.484037     157.852749\n",
      "0007.1999-12-13.kaminski         0           1            42.375500      33.748469\n",
      "0007.1999-12-14.farmer           0           1            50.949368      23.468937\n",
      "0007.2000-01-17.beck             0           0            47.585593     111.094115\n",
      "0007.2001-02-09.kitchen          0           0            54.995573      59.485634\n",
      "0007.2003-12-18.GP               1           0            41.350935     186.887074\n",
      "0007.2004-08-01.BG               1           0            35.895096      43.467413\n",
      "0008.2001-02-09.kitchen          0           1           430.726317     178.002115\n",
      "0008.2001-06-12.SA_and_HP        1           1            10.714340       6.612371\n",
      "0008.2001-06-25.SA_and_HP        1           0            98.922135     257.145056\n",
      "0008.2003-12-18.GP               1           0            23.825689      95.580787\n",
      "0008.2004-08-01.BG               1           0           131.756706     623.022493\n",
      "0009.1999-12-13.kaminski         0           1           183.403687      94.085382\n",
      "0009.1999-12-14.farmer           0           0            21.073379      21.480520\n",
      "0009.2000-06-07.lokay            0           1           251.479199      99.605024\n",
      "0009.2001-02-09.kitchen          0           1           227.173434     179.309532\n",
      "0009.2001-06-26.SA_and_HP        1           0            27.689723      62.565594\n",
      "0009.2003-12-18.GP               1           0            30.065567     140.522387\n",
      "0010.1999-12-14.farmer           0           1           161.833022      67.713970\n",
      "0010.1999-12-14.kaminski         0           1            31.032440       8.703255\n",
      "0010.2001-02-09.kitchen          0           0            87.666375     125.937308\n",
      "0010.2001-06-28.SA_and_HP        1           0            83.751099     151.941823\n",
      "0010.2003-12-18.GP               1           0            -0.221600       4.553930\n",
      "0010.2004-08-01.BG               1           0            59.758481     239.214923\n",
      "0011.1999-12-14.farmer           0           1            92.476555      39.585890\n",
      "0011.2001-06-28.SA_and_HP        1           0            83.751099     153.200284\n",
      "0011.2001-06-29.SA_and_HP        1           0           220.064909     665.257365\n",
      "0011.2003-12-18.GP               1           0            13.412127      47.827917\n",
      "0011.2004-08-01.BG               1           0            19.509863      84.053123\n",
      "0012.1999-12-14.farmer           0           1           107.203682      93.089153\n",
      "0012.1999-12-14.kaminski         0           1            46.178881      30.500406\n",
      "0012.2000-01-17.beck             0           0            46.242140     108.777824\n",
      "0012.2000-06-08.lokay            0           1            75.739098      10.266182\n",
      "0012.2001-02-09.kitchen          0           1            59.091855      17.145792\n",
      "0012.2003-12-19.GP               1           0             4.873335       5.138224\n",
      "0013.1999-12-14.farmer           0           0            28.400256      52.515739\n",
      "0013.1999-12-14.kaminski         0           0            -1.030738      27.415913\n",
      "0013.2001-04-03.williams         0           1            39.639722      17.610258\n",
      "0013.2001-06-30.SA_and_HP        1           0           322.877334    1044.352043\n",
      "0013.2004-08-01.BG               1           0            32.304849     191.594256\n",
      "0014.1999-12-14.kaminski         0           1            36.927928      31.354386\n",
      "0014.1999-12-15.farmer           0           1            78.348405      43.391680\n",
      "0014.2001-02-12.kitchen          0           1           129.507016      57.273421\n",
      "0014.2001-07-04.SA_and_HP        1           0            57.765348     221.253192\n",
      "0014.2003-12-19.GP               1           0             1.816043      17.807242\n",
      "0014.2004-08-01.BG               1           0            22.009261     128.520068\n",
      "0015.1999-12-14.kaminski         0           1            91.120479      26.442760\n",
      "0015.1999-12-15.farmer           0           1            53.239082      32.474802\n",
      "0015.2000-06-09.lokay            0           1            10.507099       3.939048\n",
      "0015.2001-02-12.kitchen          0           1           132.372831     113.198895\n",
      "0015.2001-07-05.SA_and_HP        1           0            15.943050      37.204861\n",
      "0015.2003-12-19.GP               1           0            29.575397      79.441687\n",
      "0016.1999-12-15.farmer           0           0            10.011971      16.009952\n",
      "0016.2001-02-12.kitchen          0           1            69.427852      47.251661\n",
      "0016.2001-07-05.SA_and_HP        1           0            15.943050      37.204861\n",
      "0016.2001-07-06.SA_and_HP        1           0           229.412500     479.196990\n",
      "0016.2003-12-19.GP               1           0            29.888072     180.170192\n",
      "0016.2004-08-01.BG               1           0            11.557660      19.830415\n",
      "0017.1999-12-14.kaminski         0           1            32.005039       4.462523\n",
      "0017.2000-01-17.beck             0           0            59.925473     109.646428\n",
      "0017.2001-04-03.williams         0           1            18.990595       8.863565\n",
      "0017.2003-12-18.GP               1           0             4.690239      20.735471\n",
      "0017.2004-08-01.BG               1           0            45.880404     320.673291\n",
      "0017.2004-08-02.BG               1           0            36.261569     179.747119\n",
      "0018.1999-12-14.kaminski         0           1            50.450996      12.128321\n",
      "0018.2001-07-13.SA_and_HP        1           0            52.297081     169.461804\n",
      "0018.2003-12-18.GP               1           0            51.729651     266.331989\n",
      "----------------------------------------------------------------------------------\n",
      "Total Documents: 100\n",
      "Error rate:      83%\n"
     ]
    }
   ],
   "source": [
    "# Print results\n",
    "print_results('predict2_output.txt')"
   ]
  },
  {
   "cell_type": "markdown",
   "metadata": {},
   "source": [
    "#### Histogram of posterior probabilities\n",
    "\n",
    "Plot a histogram of the log posterior probabilities (i.e., log(Pr(Class|Doc))) for each class over the training set. Summarize what you see."
   ]
  },
  {
   "cell_type": "code",
   "execution_count": 58,
   "metadata": {
    "collapsed": false,
    "scrolled": true
   },
   "outputs": [
    {
     "data": {
      "text/plain": [
       "<matplotlib.text.Text at 0xcd85a90>"
      ]
     },
     "execution_count": 58,
     "metadata": {},
     "output_type": "execute_result"
    },
    {
     "data": {
      "image/png": "[encoded data removed]",
      "text/plain": [
       "<matplotlib.figure.Figure at 0xbfa8208>"
      ]
     },
     "metadata": {},
     "output_type": "display_data"
    }
   ],
   "source": [
    "# This tells matplotlib not to try opening a new window for each plot.\n",
    "%matplotlib inline\n",
    "\n",
    "# Import libraries for plotting and analysis\n",
    "import matplotlib.pyplot as plt\n",
    "import numpy as np\n",
    "import re\n",
    "\n",
    "# Initialize data structures\n",
    "doc, Y, prediction, log_prob_spam, log_prob_ham = [], [], [], [], []\n",
    "\n",
    "# Read in data from text file\n",
    "with open('predict2_output.txt', 'r') as myfile:\n",
    "    for line in myfile:\n",
    "        fields = line.split()\n",
    "\n",
    "        # Only look at records that have a doc_id as the first field\n",
    "        pattern = re.compile('^\\d{4}.\\d{4}-\\d{2}-\\d{2}\\.\\w+')\n",
    "        try:\n",
    "            key = fields[0]\n",
    "        except:\n",
    "            continue\n",
    "        if pattern.match(fields[0]):\n",
    "            doc.append(fields[0])\n",
    "            Y.append(fields[1])\n",
    "            prediction.append(fields[2])\n",
    "            log_prob_spam.append(fields[3])\n",
    "            log_prob_ham.append(fields[4])\n",
    "\n",
    "# Convert to numpy arrays\n",
    "doc = np.array(doc)\n",
    "Y = np.array(Y)\n",
    "prediction = np.array(prediction)\n",
    "log_prob_spam = np.array(log_prob_spam).astype(np.float)\n",
    "log_prob_ham = np.array(log_prob_ham).astype(np.float)\n",
    "\n",
    "num_bins = 30\n",
    "plt.figure(figsize=(12, 4))\n",
    "\n",
    "# Print spam histogram\n",
    "plt.subplot(1, 2, 1)\n",
    "plt.hist(log_prob_spam, num_bins, normed=1, facecolor='green', alpha=0.5)\n",
    "plt.xlabel('Spam Probability')\n",
    "plt.ylabel('Probability')\n",
    "plt.title(r'Histogram of Spam Probabilities')\n",
    "\n",
    "# Print ham histogram\n",
    "plt.subplot(1, 2, 2)\n",
    "plt.hist(log_prob_ham, num_bins, normed=1, facecolor='green', alpha=0.5)\n",
    "plt.xlabel('Ham Probability')\n",
    "plt.ylabel('Probability')\n",
    "plt.title(r'Histogram of Ham Probabilities')"
   ]
  },
  {
   "cell_type": "markdown",
   "metadata": {},
   "source": [
    "### HW2.4: Repeat HW2.3 with the following modification: use Laplace plus-one smoothing."
   ]
  },
  {
   "cell_type": "markdown",
   "metadata": {},
   "source": [
    "#### Compare the misclassifcation error rates for 2.3 versus 2.4 and explain the differences."
   ]
  },
  {
   "cell_type": "markdown",
   "metadata": {},
   "source": [
    "### HW2.5: Repeat HW2.4. This time when modeling and classification ignore tokens with a frequency of less than three (3) in the training set. "
   ]
  },
  {
   "cell_type": "markdown",
   "metadata": {},
   "source": [
    "#### How does it affect the misclassifcation error of learnt naive multinomial Bayesian Classifier on the training dataset?"
   ]
  },
  {
   "cell_type": "markdown",
   "metadata": {},
   "source": [
    "### HW2.6: Benchmark your code with the Python SciKit-Learn implementation of the multinomial Naive Bayes algorithm"
   ]
  },
  {
   "cell_type": "markdown",
   "metadata": {},
   "source": [
    "- Run the Multinomial Naive Bayes algorithm (using default settings) from SciKit-Learn over the same training data used in HW2.5 and report the misclassification error (please note some data preparation might be needed to get the Multinomial Naive Bayes algorithm from SkiKit-Learn to run over this dataset)\n",
    "- Prepare a table to present your results, where rows correspond to approach used (SkiKit-Learn versus your Hadoop implementation) and the column presents the training misclassification error"
   ]
  },
  {
   "cell_type": "code",
   "execution_count": 59,
   "metadata": {
    "collapsed": true
   },
   "outputs": [],
   "source": [
    "# General libraries\n",
    "from __future__ import division\n",
    "\n",
    "# SK-learn libraries for learning\n",
    "from sklearn.pipeline import Pipeline\n",
    "from sklearn.naive_bayes import MultinomialNB\n",
    "from sklearn.naive_bayes import BernoulliNB\n",
    "\n",
    "# SK-learn libraries for feature extraction from text.\n",
    "from sklearn.feature_extraction.text import *"
   ]
  },
  {
   "cell_type": "code",
   "execution_count": 62,
   "metadata": {
    "collapsed": false
   },
   "outputs": [
    {
     "name": "stdout",
     "output_type": "stream",
     "text": [
      "(100L,) (100L,)\n"
     ]
    }
   ],
   "source": [
    "# Read data in and create data and label arrays\n",
    "ids, X, Y = [], [], []\n",
    "\n",
    "with open('enronemail_1h.txt', 'r') as myfile:\n",
    "    for line in myfile:\n",
    "        fields = line.split(\"\\t\")\n",
    "        \n",
    "        # Some records are malformed, so make sure that we take the right fields\n",
    "        subj, body = \"\", \"\"\n",
    "        \n",
    "        if len(fields) >= 3:\n",
    "            subj = fields[2]\n",
    "        if len(fields) >= 4:\n",
    "            body = fields[3]\n",
    "\n",
    "        text = subj + \" \" + body\n",
    "        text = text.replace(\"\\n\", \"\")\n",
    "        X.append(text)\n",
    "        Y.append(fields[1])\n",
    "        ids.append(fields[0])\n",
    "\n",
    "# Convert these to numpy arrays\n",
    "X = np.array(X)\n",
    "Y = np.array(Y)\n",
    "\n",
    "# Check that the shapes look correct\n",
    "print X.shape, Y.shape"
   ]
  },
  {
   "cell_type": "code",
   "execution_count": 84,
   "metadata": {
    "collapsed": false
   },
   "outputs": [
    {
     "name": "stdout",
     "output_type": "stream",
     "text": [
      "Method                    Error\n",
      "--------------------------------\n",
      "SK-learn MultinomialNB       0%\n",
      "HW2.4 (+1 smoothing)        83%\n",
      "HW2.5 (drop words <3)       83%\n",
      "HW2.3 (no smoothing)        83%\n"
     ]
    }
   ],
   "source": [
    "def hw2_6():\n",
    "    train_errors = {}\n",
    "    \n",
    "    ##### MULTINOMIAL NB\n",
    "    # Create Pipeline to get feature vectors and train\n",
    "    # Use CountVectorizer to get feature arrays\n",
    "    # Classify using Multinomial NB\n",
    "    mnb_pipe = Pipeline([('vect', CountVectorizer()),\n",
    "                         ('clf', MultinomialNB()),\n",
    "                        ])\n",
    "\n",
    "    # Fit training data and labels\n",
    "    mnb_pipe.fit(X, Y)\n",
    "\n",
    "    # Print training error\n",
    "    mnb_predictions = mnb_pipe.predict(X)\n",
    "    train_errors[\"SK-learn MultinomialNB\"] = sum(mnb_predictions != Y) / Y.size\n",
    "    \n",
    "    \n",
    "    ##### CLASSIFIER in HW2.3\n",
    "    # Read output from results\n",
    "    \n",
    "    incorrect = 0.0\n",
    "    total = 0.0\n",
    "\n",
    "    # Read in data from text file\n",
    "    with open('predict2_output.txt', 'r') as myfile:\n",
    "        for line in myfile:\n",
    "            fields = line.split()\n",
    "\n",
    "            # Only look at records that have a doc_id as the first field\n",
    "            pattern = re.compile('^\\d{4}.\\d{4}-\\d{2}-\\d{2}\\.\\w+')\n",
    "            try:\n",
    "                key = fields[0]\n",
    "            except:\n",
    "                continue\n",
    "            if pattern.match(fields[0]):\n",
    "                total += 1\n",
    "                if fields[1] != fields[2]: incorrect += 1\n",
    "    \n",
    "    train_errors[\"HW2.3 (no smoothing)\"] = incorrect/total\n",
    "    \n",
    "    \n",
    "    ##### CLASSIFIER in HW2.4\n",
    "    # Read output from results\n",
    "    \n",
    "    incorrect = 0.0\n",
    "    total = 0.0\n",
    "\n",
    "    # Read in data from text file\n",
    "    with open('', 'r') as myfile:\n",
    "        for line in myfile:\n",
    "            fields = line.split()\n",
    "\n",
    "            # Only look at records that have a doc_id as the first field\n",
    "            pattern = re.compile('^\\d{4}.\\d{4}-\\d{2}-\\d{2}\\.\\w+')\n",
    "            try:\n",
    "                key = fields[0]\n",
    "            except:\n",
    "                continue\n",
    "            if pattern.match(fields[0]):\n",
    "                total += 1\n",
    "                if fields[1] != fields[2]: incorrect += 1\n",
    "    \n",
    "    train_errors[\"HW2.4 (+1 smoothing)\"] = incorrect/total\n",
    "    \n",
    "    ##### CLASSIFIER in HW2.5\n",
    "    # Read output from results\n",
    "    \n",
    "    incorrect = 0.0\n",
    "    total = 0.0\n",
    "\n",
    "    # Read in data from text file\n",
    "    with open('', 'r') as myfile:\n",
    "        for line in myfile:\n",
    "            fields = line.split()\n",
    "\n",
    "            # Only look at records that have a doc_id as the first field\n",
    "            pattern = re.compile('^\\d{4}.\\d{4}-\\d{2}-\\d{2}\\.\\w+')\n",
    "            try:\n",
    "                key = fields[0]\n",
    "            except:\n",
    "                continue\n",
    "            if pattern.match(fields[0]):\n",
    "                total += 1\n",
    "                if fields[1] != fields[2]: incorrect += 1\n",
    "    \n",
    "    train_errors[\"HW2.5 (drop words <3)\"] = incorrect/total\n",
    "    \n",
    "    ##### TABLE OF TRAINING ERRORS\n",
    "    print \"{:<25s}{:>6s}\".format(\"Method\", \"Error\")\n",
    "    print \"--------------------------------\"\n",
    "    for method in train_errors:\n",
    "        print \"{:<25s}{:>6.0%}\".format(method, train_errors[method])\n",
    "    \n",
    "hw2_6()"
   ]
  },
  {
   "cell_type": "markdown",
   "metadata": {},
   "source": [
    "#### Explain/justify any differences in terms of training error rates over the dataset in HW2.5 between your Multinomial Naive Bayes implementation (in Map Reduce) versus the Multinomial Naive Bayes implementation in SciKit-Learn"
   ]
  }
 ],
 "metadata": {
  "kernelspec": {
   "display_name": "Python 2",
   "language": "python",
   "name": "python2"
  },
  "language_info": {
   "codemirror_mode": {
    "name": "ipython",
    "version": 2
   },
   "file_extension": ".py",
   "mimetype": "text/x-python",
   "name": "python",
   "nbconvert_exporter": "python",
   "pygments_lexer": "ipython2",
   "version": "2.7.9"
  }
 },
 "nbformat": 4,
 "nbformat_minor": 0
}
