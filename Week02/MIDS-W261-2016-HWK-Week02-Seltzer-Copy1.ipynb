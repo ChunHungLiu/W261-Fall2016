{
 "cells": [
  {
   "cell_type": "markdown",
   "metadata": {},
   "source": [
    "# DATASCI W261: Machine Learning at Scale\n",
    "## Assignment Week 2\n",
    "Miki Seltzer (miki.seltzer@berkeley.edu)<br>\n",
    "W261-2, Spring 2016<br>\n",
    "Submission: "
   ]
  },
  {
   "cell_type": "markdown",
   "metadata": {
    "collapsed": true
   },
   "source": [
    "### HW2.0:\n",
    "\n",
    "#### What is a race condition in the context of parallel computation? Give an example.\n",
    "A race condition is when a section of code is executed by multiple processes, and the order in which the processes execute will impact the final result.\n",
    "\n",
    "![Race condition example](race_conditions.png)\n",
    "Source: https://en.wikipedia.org/wiki/Race_condition#Example\n",
    "\n",
    "#### What is MapReduce?\n",
    "MapReduce can refer to multiple concepts:\n",
    "- **Programming model:** Processes are split into a \"mapping\" phase, and a \"reducing\" phase. In the map phase, a certain function is mapped on to each value in a data set, and then in the reduce phase, the result of the map phase is aggregated. \n",
    "- **Execution framework:** This framework coordinates running processes written with the above model in mind.\n",
    "- **Software implementation:** MapReduce is the name of Google's proprietary implementation of this programming model, while Apache Hadoop is the open-source implementation.\n",
    "\n",
    "#### How does it differ from Hadoop?\n",
    "Hadoop is the open-source implementation of Google's MapReduce. Hadoop consists of two parts: distributed storage of data, and distributed processing of data. HDFS is the storage part, and MapReduce is the processing part.\n",
    "\n",
    "#### Which programming paradigm is Hadoop based on? Explain and give a simple example in code and show the code running.\n",
    "Hadoop is based on the MapReduce paradigm. The classic example of the MapReduce programming paradigm is word count. In the map phase of word count, each word in a document is assigned a count of 1. In the reduce phase, the counts for each unique word are summed to yield the final count of each word."
   ]
  },
  {
   "cell_type": "code",
   "execution_count": 20,
   "metadata": {
    "collapsed": false
   },
   "outputs": [
    {
     "name": "stdout",
     "output_type": "stream",
     "text": [
      "MAP PHASE\n",
      "['hello', 1]\n",
      "['this', 1]\n",
      "['is', 1]\n",
      "['a', 1]\n",
      "['test', 1]\n",
      "['to', 1]\n",
      "['test', 1]\n",
      "['word', 1]\n",
      "['count', 1]\n",
      "['test', 1]\n",
      "['should', 1]\n",
      "['have', 1]\n",
      "['a', 1]\n",
      "['count', 1]\n",
      "['of', 1]\n",
      "['three', 1]\n",
      "\n",
      "REDUCE PHASE\n",
      "['a', 1] (intermediate step)\n",
      "['a', 2] FINAL SUM\n",
      "['count', 1] (intermediate step)\n",
      "['count', 2] FINAL SUM\n",
      "['have', 1] FINAL SUM\n",
      "['hello', 1] FINAL SUM\n",
      "['is', 1] FINAL SUM\n",
      "['of', 1] FINAL SUM\n",
      "['should', 1] FINAL SUM\n",
      "['test', 1] (intermediate step)\n",
      "['test', 2] (intermediate step)\n",
      "['test', 3] FINAL SUM\n",
      "['this', 1] FINAL SUM\n",
      "['three', 1] FINAL SUM\n",
      "['to', 1] FINAL SUM\n",
      "['word', 1] FINAL SUM\n"
     ]
    }
   ],
   "source": [
    "def hw2_0():\n",
    "    doc = \"Hello this is a test to test word count test should have a count of three\".lower()\n",
    "    key_vals = []\n",
    "    \n",
    "    print \"MAP PHASE\"\n",
    "    for word in doc.split():\n",
    "        print [word, 1]\n",
    "        key_vals.append([word, 1])\n",
    "    \n",
    "    print \"\\nREDUCE PHASE\"\n",
    "    key_vals = sorted(key_vals)\n",
    "    \n",
    "    current_word = None\n",
    "    current_count = 0\n",
    "    \n",
    "    for pair in key_vals:\n",
    "        if current_word == pair[0]:\n",
    "            print [current_word, current_count], \"(intermediate step)\"\n",
    "            current_count += pair[1]\n",
    "        else:\n",
    "            if current_word:\n",
    "                print [current_word, current_count], \"FINAL SUM\"\n",
    "            current_word = pair[0]\n",
    "            current_count = pair[1]\n",
    "\n",
    "    print [current_word, current_count], \"FINAL SUM\"\n",
    "    \n",
    "hw2_0()"
   ]
  },
  {
   "cell_type": "markdown",
   "metadata": {},
   "source": [
    "### HW2.1: Sort in Hadoop MapReduce\n",
    "**Given as input: Records of the form `<integer, “NA”>`, where integer is any integer, and “NA” is just the empty string.**<br>\n",
    "**Output: Sorted key value pairs of the form `<integer, “NA”>`; what happens if you have multiple reducers? Do you need additional steps? Explain.**\n",
    "\n",
    "If there are multiple reducers, then a straightforward MapReduce process will yield outputs that are sorted within each reducer, but not sorted across all reducers. The easy, not-scalable solution is to force the job to have only one reducer.\n",
    "\n",
    "In order to output a sort across more than one reducer, an extra step needs to be implemented that will intelligently send keys to reducers so that the result from all reducers will yield a complete sort. For example, let's say our keys ranged from 0-300. If we had 3 reducers, we could send all keys in the range [0,100) to reducer 1, [100, 200) to reducer 2, and [200, 300] to reducer 3. Thus, the output of each reducer will yield documents that are completely sorted. We would need to balance the keys sent to each reducer to ensure that the load is still balanced between all reducers, which will require some calculations.\n",
    "\n",
    "In this homework, the data set is relatively small, so we can get away with specifying one reducer."
   ]
  },
  {
   "cell_type": "markdown",
   "metadata": {},
   "source": [
    "#### Write code to generate N  random records of the form `<integer, “NA”>`. Let N = 10,000."
   ]
  },
  {
   "cell_type": "markdown",
   "metadata": {},
   "source": [
    "We are going to need the Hadoop Streaming jar file, so let's download it here so that we know which one to use"
   ]
  },
  {
   "cell_type": "code",
   "execution_count": 22,
   "metadata": {
    "collapsed": false
   },
   "outputs": [
    {
     "name": "stdout",
     "output_type": "stream",
     "text": [
      "--2016-01-21 18:37:45--  http://central.maven.org/maven2/org/apache/hadoop/hadoop-streaming/2.7.1/hadoop-streaming-2.7.1.jar\n",
      "Resolving central.maven.org... 23.235.47.209\n",
      "Connecting to central.maven.org|23.235.47.209|:80... connected.\n",
      "HTTP request sent, awaiting response... 200 OK\n",
      "Length: 105736 (103K) [application/java-archive]\n",
      "Saving to: “hadoop-streaming-2.7.1.jar”\n",
      "\n",
      "100%[======================================>] 105,736     --.-K/s   in 0.1s    \n",
      "\n",
      "2016-01-21 18:38:00 (1.06 MB/s) - “hadoop-streaming-2.7.1.jar” saved [105736/105736]\n",
      "\n"
     ]
    }
   ],
   "source": [
    "!wget http://central.maven.org/maven2/org/apache/hadoop/hadoop-streaming/2.7.1/hadoop-streaming-2.7.1.jar"
   ]
  },
  {
   "cell_type": "code",
   "execution_count": 1,
   "metadata": {
    "collapsed": false
   },
   "outputs": [],
   "source": [
    "import random\n",
    "\n",
    "with open(\"random.txt\", \"w\") as myfile:\n",
    "    for i in range(10000):\n",
    "        myfile.write(\"{:d},{:s}\\n\".format(random.randint(0, 100000), \"NA\"))"
   ]
  },
  {
   "cell_type": "markdown",
   "metadata": {},
   "source": [
    "#### Write the Python Hadoop streaming map-reduce job to perform this sort."
   ]
  },
  {
   "cell_type": "code",
   "execution_count": 585,
   "metadata": {
    "collapsed": false
   },
   "outputs": [
    {
     "name": "stdout",
     "output_type": "stream",
     "text": [
      "Overwriting mapper.py\n"
     ]
    }
   ],
   "source": [
    "%%writefile mapper.py\n",
    "#!/usr/bin/python\n",
    "## mapper.py\n",
    "## Author: Miki Seltzer\n",
    "## Description: mapper code for HW2.1\n",
    "\n",
    "import sys\n",
    "\n",
    "# Our input comes from STDIN (standard input)\n",
    "for line in sys.stdin:\n",
    "    # In this case, we do not need to map the input to anything\n",
    "    key, value = line.strip().split(',')\n",
    "    print '%s\\t%s' % (int(key), value)\n",
    "    #print \"%010d\\t%s\" % (int(key), value)"
   ]
  },
  {
   "cell_type": "code",
   "execution_count": 586,
   "metadata": {
    "collapsed": false
   },
   "outputs": [
    {
     "name": "stdout",
     "output_type": "stream",
     "text": [
      "Overwriting reducer.py\n"
     ]
    }
   ],
   "source": [
    "%%writefile reducer.py\n",
    "#!/usr/bin/python\n",
    "## reducer.py\n",
    "## Author: Miki Seltzer\n",
    "## Description: reducer code for HW2.1\n",
    "\n",
    "from operator import itemgetter\n",
    "import sys\n",
    "\n",
    "for line in sys.stdin:\n",
    "    # In this case, we do not need to reduce anything\n",
    "    key, value = line.strip().split('\\t')\n",
    "    print \"%d\\t%s\" % (int(key), value)"
   ]
  },
  {
   "cell_type": "code",
   "execution_count": 1,
   "metadata": {
    "collapsed": true
   },
   "outputs": [],
   "source": [
    "# Make HDFS directory and put random.txt there\n",
    "!hdfs dfs -mkdir /user/miki/week02\n",
    "!hdfs dfs -put random.txt /user/miki/week02"
   ]
  },
  {
   "cell_type": "code",
   "execution_count": 587,
   "metadata": {
    "collapsed": false
   },
   "outputs": [
    {
     "name": "stdout",
     "output_type": "stream",
     "text": [
      "Deleted /user/miki/week02/hw2_1_output\n",
      "packageJobJar: [] [/usr/jars/hadoop-streaming-2.6.0-cdh5.5.0.jar] /tmp/streamjob8737190638885217239.jar tmpDir=null\n"
     ]
    }
   ],
   "source": [
    "# Change permissions on mapper and reducer\n",
    "!chmod +x mapper.py\n",
    "!chmod +x reducer.py\n",
    "\n",
    "# If output folder already exists, delete it\n",
    "!hdfs dfs -rm -r /user/miki/week02/hw2_1_output\n",
    "\n",
    "# Run job\n",
    "!hadoop jar hadoop-streaming-2.7.1.jar \\\n",
    "-D mapred.reduce.tasks=1 \\\n",
    "-D mapred.output.key.comparator.class=org.apache.hadoop.mapred.lib.KeyFieldBasedComparator \\\n",
    "-D mapred.text.key.comparator.options=-n \\\n",
    "-mapper /home/cloudera/Documents/W261-Fall2016/Week02/mapper.py \\\n",
    "-reducer /home/cloudera/Documents/W261-Fall2016/Week02/reducer.py \\\n",
    "-input /user/miki/week02/random.txt \\\n",
    "-output /user/miki/week02/hw2_1_output"
   ]
  },
  {
   "cell_type": "markdown",
   "metadata": {},
   "source": [
    "#### List smallest 10 integers"
   ]
  },
  {
   "cell_type": "code",
   "execution_count": 589,
   "metadata": {
    "collapsed": false,
    "scrolled": true
   },
   "outputs": [
    {
     "name": "stdout",
     "output_type": "stream",
     "text": [
      "19\tNA\r\n",
      "19\tNA\r\n",
      "24\tNA\r\n",
      "28\tNA\r\n",
      "28\tNA\r\n",
      "40\tNA\r\n",
      "41\tNA\r\n",
      "50\tNA\r\n",
      "63\tNA\r\n",
      "70\tNA\r\n",
      "cat: Unable to write to output stream.\r\n"
     ]
    }
   ],
   "source": [
    "!hdfs dfs -cat /user/miki/week02/hw2_1_output/part-00000 | head"
   ]
  },
  {
   "cell_type": "markdown",
   "metadata": {},
   "source": [
    "#### List largest 10 integers"
   ]
  },
  {
   "cell_type": "code",
   "execution_count": 590,
   "metadata": {
    "collapsed": false
   },
   "outputs": [
    {
     "name": "stdout",
     "output_type": "stream",
     "text": [
      "99914\tNA\r\n",
      "99920\tNA\r\n",
      "99924\tNA\r\n",
      "99948\tNA\r\n",
      "99972\tNA\r\n",
      "99975\tNA\r\n",
      "99983\tNA\r\n",
      "99983\tNA\r\n",
      "99988\tNA\r\n",
      "99991\tNA\r\n"
     ]
    }
   ],
   "source": [
    "!hdfs dfs -cat /user/miki/week02/hw2_1_output/part-00000 | tail"
   ]
  },
  {
   "cell_type": "markdown",
   "metadata": {},
   "source": [
    "### HW2.2: Using the Enron data from HW1 and Hadoop MapReduce streaming, write mapper/reducer pair that  will determine the number of occurrences of a single, user-specified word. \n",
    "\n",
    "Examine the word “assistance” and report your results. To do so, make sure that mapper.py counts all occurrences of a single word, and reducer.py collates the counts of the single word."
   ]
  },
  {
   "cell_type": "markdown",
   "metadata": {},
   "source": [
    "#### Load enronemail_1h.txt into HDFS"
   ]
  },
  {
   "cell_type": "code",
   "execution_count": 47,
   "metadata": {
    "collapsed": false
   },
   "outputs": [],
   "source": [
    "!hdfs dfs -put enronemail_1h.txt /user/miki/week02"
   ]
  },
  {
   "cell_type": "code",
   "execution_count": 598,
   "metadata": {
    "collapsed": false
   },
   "outputs": [
    {
     "name": "stdout",
     "output_type": "stream",
     "text": [
      "Overwriting mapper.py\n"
     ]
    }
   ],
   "source": [
    "%%writefile mapper.py\n",
    "#!/usr/bin/python\n",
    "## mapper.py\n",
    "## Author: Miki Seltzer\n",
    "## Description: mapper code for HW2.2\n",
    "\n",
    "import sys\n",
    "import string\n",
    "import re\n",
    "\n",
    "\n",
    "# Our input comes from STDIN (standard input)\n",
    "for line in sys.stdin:\n",
    "    \n",
    "    # Strip white space from line, then split into fields\n",
    "    # Replace commas with spaces (we are using commas as a delimiter as well)\n",
    "    # Remove remaining punctuation from subject and body\n",
    "    # Concatenate, then split subject and body by spaces\n",
    "    # Some records are malformed -- if there is a 4th field, use it\n",
    "    fields = line.strip().split('\\t')\n",
    "    subj = fields[2].replace(',', ' ')\n",
    "    subj = subj.translate(string.maketrans(\"\",\"\"), string.punctuation)\n",
    "    if len(fields) == 4:\n",
    "        body = fields[3].replace(',', ' ')\n",
    "        body = body.translate(string.maketrans(\"\",\"\"), string.punctuation)\n",
    "    else:\n",
    "        body = \"\"\n",
    "    words = subj + \" \" + body\n",
    "    words = words.split()\n",
    "    \n",
    "    # Loop through words and print\n",
    "    # key = word\n",
    "    # value = 1\n",
    "    for word in words:\n",
    "        if repr(word)[1] != '\\\\':\n",
    "            print \"%s\\t%s\" % (word, 1)"
   ]
  },
  {
   "cell_type": "code",
   "execution_count": 599,
   "metadata": {
    "collapsed": false
   },
   "outputs": [
    {
     "name": "stdout",
     "output_type": "stream",
     "text": [
      "Overwriting reducer.py\n"
     ]
    }
   ],
   "source": [
    "%%writefile reducer.py\n",
    "#!/usr/bin/python\n",
    "## reducer.py\n",
    "## Author: Miki Seltzer\n",
    "## Description: reducer code for HW2.2\n",
    "\n",
    "from operator import itemgetter\n",
    "import sys\n",
    "\n",
    "# Initialize some variables\n",
    "# We know that the words will be sorted\n",
    "# We need to keep track of state\n",
    "prev_word = None\n",
    "prev_count = 0\n",
    "word = None\n",
    "\n",
    "for line in sys.stdin:\n",
    "    # Strip and split line from mapper\n",
    "    word, count = line.strip().split('\\t', 1)\n",
    "    \n",
    "    # If possible, turn count into an int (it's read as a string)\n",
    "    try:\n",
    "        count = int(count)\n",
    "    except ValueError:\n",
    "        # We couldn't make count into an int, so move on\n",
    "        continue\n",
    "        \n",
    "    # Since the words will be sorted, all counts for a word will be grouped\n",
    "    if prev_word == word:\n",
    "        # If prev_word is word, then we haven't changed words\n",
    "        # Just update prev_count\n",
    "        prev_count += count\n",
    "    else:\n",
    "        # We've encountered a new word!\n",
    "        # This might be the first word, though\n",
    "        if prev_word:\n",
    "            # We need to print the last word we were on\n",
    "            print \"%s\\t%s\" % (prev_word, prev_count)\n",
    "        \n",
    "        # Now we need to initialize our variables for the new word and count\n",
    "        prev_word = word\n",
    "        prev_count = count\n",
    "\n",
    "# We have reached the end of the file, so print the last word and count\n",
    "if prev_word == word:\n",
    "    print \"%s\\t%s\" % (prev_word, prev_count)"
   ]
  },
  {
   "cell_type": "markdown",
   "metadata": {},
   "source": [
    "#### Run Hadoop streaming command"
   ]
  },
  {
   "cell_type": "code",
   "execution_count": 600,
   "metadata": {
    "collapsed": false
   },
   "outputs": [
    {
     "name": "stdout",
     "output_type": "stream",
     "text": [
      "Deleted /user/miki/week02/hw2_2_output\n",
      "packageJobJar: [] [/usr/jars/hadoop-streaming-2.6.0-cdh5.5.0.jar] /tmp/streamjob8884629908694985028.jar tmpDir=null\n"
     ]
    }
   ],
   "source": [
    "# Change permissions on mapper and reducer\n",
    "!chmod +x mapper.py\n",
    "!chmod +x reducer.py\n",
    "\n",
    "# Delete output folder if it exists\n",
    "!hdfs dfs -rm -r /user/miki/week02/hw2_2_output\n",
    "\n",
    "# Run job\n",
    "!hadoop jar hadoop-streaming-2.7.1.jar \\\n",
    "-mapper /home/cloudera/Documents/W261-Fall2016/Week02/mapper.py \\\n",
    "-reducer /home/cloudera/Documents/W261-Fall2016/Week02/reducer.py \\\n",
    "-input /user/miki/week02/enronemail_1h.txt \\\n",
    "-output /user/miki/week02/hw2_2_output"
   ]
  },
  {
   "cell_type": "markdown",
   "metadata": {},
   "source": [
    "#### Examine the word 'assistance'"
   ]
  },
  {
   "cell_type": "code",
   "execution_count": 602,
   "metadata": {
    "collapsed": false
   },
   "outputs": [],
   "source": [
    "!hdfs dfs -copyToLocal /user/miki/week02/hw2_2_output/part-00000 hw2_2_output.txt"
   ]
  },
  {
   "cell_type": "code",
   "execution_count": 603,
   "metadata": {
    "collapsed": false
   },
   "outputs": [
    {
     "name": "stdout",
     "output_type": "stream",
     "text": [
      "assistance\t10\n",
      "\n"
     ]
    }
   ],
   "source": [
    "with open('hw2_2_output.txt', 'r') as myfile:\n",
    "    for line in myfile:\n",
    "        if line.split('\\t')[0] == \"assistance\":\n",
    "            print line"
   ]
  },
  {
   "cell_type": "markdown",
   "metadata": {},
   "source": [
    "### HW2.2.1: Using Hadoop MapReduce and your wordcount job (from HW2.2) determine the top-10 occurring tokens (most frequent tokens)"
   ]
  },
  {
   "cell_type": "code",
   "execution_count": 608,
   "metadata": {
    "collapsed": false
   },
   "outputs": [
    {
     "name": "stdout",
     "output_type": "stream",
     "text": [
      "Overwriting mapper.py\n"
     ]
    }
   ],
   "source": [
    "%%writefile mapper.py\n",
    "#!/usr/bin/python\n",
    "## mapper.py\n",
    "## Author: Miki Seltzer\n",
    "## Description: mapper code for HW2.2.1\n",
    "\n",
    "import sys\n",
    "import string\n",
    "import re\n",
    "\n",
    "# Our input comes from STDIN (standard input)\n",
    "for line in sys.stdin:\n",
    "    fields = line.replace('\\n', '').split('\\t')\n",
    "    print '%s\\t%s' % (fields[1], fields[0])"
   ]
  },
  {
   "cell_type": "code",
   "execution_count": 615,
   "metadata": {
    "collapsed": false
   },
   "outputs": [
    {
     "name": "stdout",
     "output_type": "stream",
     "text": [
      "Overwriting reducer.py\n"
     ]
    }
   ],
   "source": [
    "%%writefile reducer.py\n",
    "#!/usr/bin/python\n",
    "## reducer.py\n",
    "## Author: Miki Seltzer\n",
    "## Description: reducer code for HW2.2.1\n",
    "\n",
    "from operator import itemgetter\n",
    "import sys\n",
    "\n",
    "for line in sys.stdin:\n",
    "    print line.replace('\\n', '')"
   ]
  },
  {
   "cell_type": "markdown",
   "metadata": {},
   "source": [
    "#### Run Hadoop streaming command\n",
    "\n",
    "We need to specify in this case, that we are only using one reducer, and that we want to sort the keys (mapper switches the key and value, so the key is word counts) based numerical value, in descending order"
   ]
  },
  {
   "cell_type": "code",
   "execution_count": 616,
   "metadata": {
    "collapsed": false
   },
   "outputs": [
    {
     "name": "stdout",
     "output_type": "stream",
     "text": [
      "Deleted /user/miki/week02/hw2_2_1_output\n",
      "packageJobJar: [] [/usr/jars/hadoop-streaming-2.6.0-cdh5.5.0.jar] /tmp/streamjob8105521411227684302.jar tmpDir=null\n"
     ]
    }
   ],
   "source": [
    "# Change permissions on mapper and reducer\n",
    "!chmod +x mapper.py\n",
    "!chmod +x reducer.py\n",
    "\n",
    "# Delete output folder if it exists\n",
    "!hdfs dfs -rm -r /user/miki/week02/hw2_2_1_output\n",
    "\n",
    "# Run job\n",
    "!hadoop jar hadoop-streaming-2.7.1.jar \\\n",
    "-D mapred.reduce.tasks=1 \\\n",
    "-D mapred.output.key.comparator.class=org.apache.hadoop.mapred.lib.KeyFieldBasedComparator \\\n",
    "-D mapred.text.key.comparator.options=-nr \\\n",
    "-mapper /home/cloudera/Documents/W261-Fall2016/Week02/mapper.py \\\n",
    "-reducer /home/cloudera/Documents/W261-Fall2016/Week02/reducer.py \\\n",
    "-input /user/miki/week02/hw2_2_output \\\n",
    "-output /user/miki/week02/hw2_2_1_output"
   ]
  },
  {
   "cell_type": "code",
   "execution_count": 617,
   "metadata": {
    "collapsed": false
   },
   "outputs": [
    {
     "name": "stdout",
     "output_type": "stream",
     "text": [
      "1246\tthe\r\n",
      "961\tto\r\n",
      "662\tand\r\n",
      "560\tof\r\n",
      "529\ta\r\n",
      "427\tyou\r\n",
      "415\tin\r\n",
      "391\tyour\r\n",
      "373\tfor\r\n",
      "260\tthis\r\n",
      "cat: Unable to write to output stream.\r\n"
     ]
    }
   ],
   "source": [
    "!hdfs dfs -cat /user/miki/week02/hw2_2_1_output/part-00000 | head"
   ]
  },
  {
   "cell_type": "markdown",
   "metadata": {},
   "source": [
    "### HW2.3: Multinomial NAIVE BAYES with NO Smoothing\n",
    "Using the Enron data from HW1 and Hadoop MapReduce, write  a mapper/reducer job(s) that will both learn Naive Bayes classifier and classify the Enron email messages using the learnt Naive Bayes classifier. Use all white-space delimited tokens as independent input variables (assume spaces, fullstops, commas as delimiters). \n",
    "\n",
    "Note: for multinomial Naive Bayes, the Pr(X=“assistance”|Y=SPAM) is calculated as follows:\n",
    "\n",
    "$$\n",
    "\\frac{\\text{number of times \"assistance\" occurs in SPAM labeled documents}}{\\text{the number of words in documents labeled SPAM}}\n",
    "$$"
   ]
  },
  {
   "cell_type": "markdown",
   "metadata": {},
   "source": [
    "#### Mapper/Reducer for fitting NB\n",
    "\n",
    "Mapper:\n",
    "- Input: training documents\n",
    "- Output: (word, 1, 0) if word was in spam, otherwise (word, 0, 1)\n",
    "  - Special words: \\*alldocs, \\*docs and \\*words\n",
    "  \n",
    "Reducer:\n",
    "- Input: (word, 1, 0) or (word, 0, 1)\n",
    "- Output: (word, spam count, ham count)"
   ]
  },
  {
   "cell_type": "code",
   "execution_count": 460,
   "metadata": {
    "collapsed": false
   },
   "outputs": [
    {
     "name": "stdout",
     "output_type": "stream",
     "text": [
      "Overwriting mapper.py\n"
     ]
    }
   ],
   "source": [
    "%%writefile mapper.py\n",
    "#!/usr/bin/python\n",
    "## mapper.py\n",
    "## Author: Miki Seltzer\n",
    "## Description: mapper code for HW2.3\n",
    "\n",
    "import sys\n",
    "import string\n",
    "import re\n",
    "\n",
    "counts = {\n",
    "    '*words':{\n",
    "        '1':0,\n",
    "        '0':0\n",
    "    },\n",
    "    '*docs':{\n",
    "        '1':0,\n",
    "        '0':0\n",
    "    }\n",
    "}\n",
    "total_docs = 0\n",
    "\n",
    "# Our input comes from STDIN (standard input)\n",
    "for line in sys.stdin:\n",
    "    \n",
    "    # Strip white space from line, then split into fields\n",
    "    # Replace commas with spaces (we are using commas as a delimiter as well)\n",
    "    # Remove remaining punctuation from subject and body\n",
    "    # Concatenate, then split subject and body by spaces\n",
    "    # Some records are malformed -- if there is a 4th field, use it\n",
    "    fields = line.strip().split('\\t')\n",
    "    \n",
    "    # Keep track of document counts\n",
    "    spam = fields[1]\n",
    "    counts['*docs'][spam] += 1\n",
    "    total_docs += 1\n",
    "    \n",
    "    subj = fields[2].replace(',', ' ')\n",
    "    subj = subj.translate(string.maketrans(\"\",\"\"), string.punctuation)\n",
    "    if len(fields) == 4:\n",
    "        body = fields[3].replace(',', ' ')\n",
    "        body = body.translate(string.maketrans(\"\",\"\"), string.punctuation)\n",
    "    else:\n",
    "        body = \"\"\n",
    "    words = subj + \" \" + body\n",
    "    words = words.split()\n",
    "    \n",
    "    # Loop through words\n",
    "    # If word is not trivial, write to file\n",
    "    # key = word\n",
    "    # value = 1\n",
    "    for word in words:\n",
    "        if len(word) > 0 and repr(word)[1] != '\\\\':\n",
    "            if spam == '1':\n",
    "                print \"%s\\t%s\\t%s\" % (word, 1, 0)\n",
    "            elif spam == '0':\n",
    "                print \"%s\\t%s\\t%s\" % (word, 0, 1)\n",
    "            counts['*words'][spam] += 1\n",
    "\n",
    "# At the end, output document and word counts\n",
    "for item in counts:\n",
    "    print \"%s\\t%s\\t%s\" % (item, counts[item]['1'], counts[item]['0'])\n",
    "print \"%s\\t%s\\t%s\" % ('*alldocs', total_docs, total_docs)\n"
   ]
  },
  {
   "cell_type": "code",
   "execution_count": 461,
   "metadata": {
    "collapsed": false
   },
   "outputs": [
    {
     "name": "stdout",
     "output_type": "stream",
     "text": [
      "Overwriting reducer.py\n"
     ]
    }
   ],
   "source": [
    "%%writefile reducer.py\n",
    "#!/usr/bin/python\n",
    "## reducer.py\n",
    "## Author: Miki Seltzer\n",
    "## Description: reducer code for HW2.3\n",
    "\n",
    "from operator import itemgetter\n",
    "import sys\n",
    "import math\n",
    "\n",
    "# Initialize some variables\n",
    "# We know that the words will be sorted\n",
    "# We need to keep track of state\n",
    "prev_word = None\n",
    "prev_spam_count = 0\n",
    "prev_ham_count = 0\n",
    "word = None\n",
    "\n",
    "for line in sys.stdin:\n",
    "    # Split line into fields\n",
    "    fields = line.strip().split('\\t')\n",
    "    word = fields[0]\n",
    "    spam_count = fields[1]\n",
    "    ham_count = fields[2]\n",
    "    \n",
    "    # If possible, turn count into an int (it's read as a string)\n",
    "    try:\n",
    "        spam_count = int(spam_count)\n",
    "        ham_count = int(ham_count)\n",
    "    except ValueError:\n",
    "        # We couldn't make count into an int, so move on\n",
    "        continue\n",
    "        \n",
    "    if prev_word == word:\n",
    "        # We have not moved to a new word\n",
    "        # Just update the count of this word\n",
    "        prev_spam_count += spam_count\n",
    "        prev_ham_count += ham_count\n",
    "        \n",
    "    else:\n",
    "        # We have encountered a new word!\n",
    "        # If this is the first word, we don't need to print anything\n",
    "        if prev_word: \n",
    "            # Write the previous word to file\n",
    "            print '%s\\t%s\\t%s' % (prev_word, prev_spam_count, prev_ham_count)\n",
    "            \n",
    "        # Now we need to initialize our variables\n",
    "        prev_word = word\n",
    "        prev_spam_count = spam_count\n",
    "        prev_ham_count = ham_count\n",
    "\n",
    "# We've reached the end of the file\n",
    "# Print the last word and counts\n",
    "print '%s\\t%s\\t%s' % (prev_word, prev_spam_count, prev_ham_count)"
   ]
  },
  {
   "cell_type": "code",
   "execution_count": 462,
   "metadata": {
    "collapsed": false
   },
   "outputs": [
    {
     "name": "stdout",
     "output_type": "stream",
     "text": [
      "Deleted /user/miki/week02/hw2_3_output_fit\n",
      "packageJobJar: [] [/usr/jars/hadoop-streaming-2.6.0-cdh5.5.0.jar] /tmp/streamjob7354054932591241196.jar tmpDir=null\n"
     ]
    }
   ],
   "source": [
    "# Change permissions on mapper and reducer\n",
    "!chmod +x mapper.py\n",
    "!chmod +x reducer.py\n",
    "\n",
    "# Delete output folder if it exists\n",
    "!hdfs dfs -rm -r /user/miki/week02/hw2_3_output_fit\n",
    "\n",
    "# Run job\n",
    "!hadoop jar hadoop-streaming-2.7.1.jar \\\n",
    "-input /user/miki/week02/enronemail_1h.txt \\\n",
    "-output /user/miki/week02/hw2_3_output_fit \\\n",
    "-mapper /home/cloudera/Documents/W261-Fall2016/Week02/mapper.py \\\n",
    "-reducer /home/cloudera/Documents/W261-Fall2016/Week02/reducer.py \n"
   ]
  },
  {
   "cell_type": "code",
   "execution_count": 464,
   "metadata": {
    "collapsed": false
   },
   "outputs": [],
   "source": [
    "#!hdfs dfs -cat /user/miki/week02/hw2_3_output_fit/part-00000"
   ]
  },
  {
   "cell_type": "markdown",
   "metadata": {},
   "source": [
    "#### Mapper/Reducer #1 for predicting NB\n",
    "\n",
    "Mapper:\n",
    "- Input from fit: (word, spam count, ham count)\n",
    "- Output: (word, spam count, ham count)\n",
    "- Input testing document: (document ID, cat, subj, body)\n",
    "- Output: (word, cat, document ID)\n",
    "\n",
    "Reducer:\n",
    "- Input: (word, spam count, ham count)\n",
    "- Input: (word, cat, document ID)\n",
    "- Output: (document ID, cat, word, spam count, ham count)"
   ]
  },
  {
   "cell_type": "code",
   "execution_count": 465,
   "metadata": {
    "collapsed": false
   },
   "outputs": [
    {
     "name": "stdout",
     "output_type": "stream",
     "text": [
      "Overwriting mapper.py\n"
     ]
    }
   ],
   "source": [
    "%%writefile mapper.py\n",
    "#!/usr/bin/python\n",
    "## mapper.py\n",
    "## Author: Miki Seltzer\n",
    "## Description: mapper code for HW2.3\n",
    "\n",
    "import sys\n",
    "import string\n",
    "import re\n",
    "\n",
    "# Our input comes from STDIN (standard input)\n",
    "for line in sys.stdin:\n",
    "    \n",
    "    # Strip white space from line, then split into fields    \n",
    "    fields = line.strip().split('\\t')\n",
    "    \n",
    "    # If first field matches pattern of document ID, tokenize words\n",
    "    pattern = re.compile('^\\d{4}.\\d{4}-\\d{2}-\\d{2}\\.\\w+')\n",
    "    if pattern.match(fields[0]):\n",
    "        # Keep track of document counts\n",
    "        doc_id = fields[0]\n",
    "        spam = fields[1]\n",
    "\n",
    "        # We are always going to need the doc/word counts for each document\n",
    "        print '%s^%s^%s' % ('*alldocs', spam, doc_id)\n",
    "        print '%s^%s^%s' % ('*docs', spam, doc_id)\n",
    "        print '%s^%s^%s' % ('*words', spam, doc_id)\n",
    "        \n",
    "        # Replace commas with spaces (we are using commas as a delimiter as well)\n",
    "        # Remove remaining punctuation from subject and body\n",
    "        # Concatenate, then split subject and body by spaces\n",
    "        # Some records are malformed -- if there is a 4th field, use it\n",
    "        subj = fields[2].replace(',', ' ')\n",
    "        subj = subj.translate(string.maketrans(\"\",\"\"), string.punctuation)\n",
    "        if len(fields) == 4:\n",
    "            body = fields[3].replace(',', ' ')\n",
    "            body = body.translate(string.maketrans(\"\",\"\"), string.punctuation)\n",
    "        else:\n",
    "            body = \"\"\n",
    "        words = subj + \" \" + body\n",
    "        words = words.split()\n",
    "\n",
    "        # Loop through words\n",
    "        # If word is not trivial, write to file\n",
    "        # key = word\n",
    "        # value = doc_id\n",
    "        for word in words:\n",
    "            if len(word) > 0 and repr(word)[1] != '\\\\':\n",
    "                print '%s^%s^%s' % (word, spam, doc_id)\n",
    "    else:\n",
    "        # Now we know that the record is the\n",
    "        # output of the previous MapReduce job\n",
    "        word = fields[0]\n",
    "        spam_count = fields[1]\n",
    "        ham_count = fields[2]\n",
    "        print '%s^%s^%s' % (word, '*' + spam_count, ham_count)\n"
   ]
  },
  {
   "cell_type": "code",
   "execution_count": 466,
   "metadata": {
    "collapsed": false
   },
   "outputs": [
    {
     "name": "stdout",
     "output_type": "stream",
     "text": [
      "Overwriting reducer.py\n"
     ]
    }
   ],
   "source": [
    "%%writefile reducer.py\n",
    "#!/usr/bin/python\n",
    "## reducer.py\n",
    "## Author: Miki Seltzer\n",
    "## Description: reducer code for HW2.3\n",
    "\n",
    "from operator import itemgetter\n",
    "import sys\n",
    "import math\n",
    "import re\n",
    "\n",
    "# Initialize some variables\n",
    "spam_count = 0\n",
    "ham_count = 0\n",
    "\n",
    "for line in sys.stdin:\n",
    "    # Strip and split line\n",
    "    key, value = line.strip().split('\\t')\n",
    "    word, field1 = key.split('^')\n",
    "\n",
    "    # If field1 starts with a *, we know that it is the spam and ham counts\n",
    "    if field1[0] == '*':\n",
    "        # This record will be of the form (word field1=*spam_count value=ham_count)\n",
    "        try:\n",
    "            spam_count = int(field1.replace('*',''))\n",
    "            ham_count = int(value)\n",
    "        except ValueError:\n",
    "            continue\n",
    "    \n",
    "    else:\n",
    "        # Now we know that it is a doc_id record\n",
    "        # This record will be of the form (word field1=cat value=doc_id)\n",
    "        pattern = re.compile('^\\d{4}.\\d{4}-\\d{2}-\\d{2}\\.\\w+')\n",
    "        if pattern.match(value):\n",
    "            doc_id = value\n",
    "        print '%s\\t%s\\t%s\\t%s\\t%s' % (doc_id, field1, word, spam_count, ham_count)"
   ]
  },
  {
   "cell_type": "code",
   "execution_count": 467,
   "metadata": {
    "collapsed": false
   },
   "outputs": [
    {
     "name": "stdout",
     "output_type": "stream",
     "text": [
      "Deleted /user/miki/week02/hw2_3_output_predict1\n",
      "packageJobJar: [] [/usr/jars/hadoop-streaming-2.6.0-cdh5.5.0.jar] /tmp/streamjob6214512506397240495.jar tmpDir=null\n"
     ]
    }
   ],
   "source": [
    "# Change permissions on mapper and reducer\n",
    "!chmod +x mapper.py\n",
    "!chmod +x reducer.py\n",
    "\n",
    "# Delete output folder if it exists\n",
    "!hdfs dfs -rm -r /user/miki/week02/hw2_3_output_predict1\n",
    "\n",
    "# Run job\n",
    "!hadoop jar hadoop-streaming-2.7.1.jar \\\n",
    "-D stream.map.output.field.separator=^ \\\n",
    "-D stream.num.map.output.key.fields=2 \\\n",
    "-D mapreduce.map.output.key.field.separator=^ \\\n",
    "-D mapreduce.partition.keypartitioner.options=-k1,1 \\\n",
    "-input /user/miki/week02/enronemail_1h.txt \\\n",
    "-input /user/miki/week02/hw2_3_output_fit \\\n",
    "-output /user/miki/week02/hw2_3_output_predict1 \\\n",
    "-mapper /home/cloudera/Documents/W261-Fall2016/Week02/mapper.py \\\n",
    "-reducer /home/cloudera/Documents/W261-Fall2016/Week02/reducer.py \n"
   ]
  },
  {
   "cell_type": "code",
   "execution_count": 469,
   "metadata": {
    "collapsed": false
   },
   "outputs": [],
   "source": [
    "#!hdfs dfs -cat /user/miki/week02/hw2_3_output_predict1/part-00000"
   ]
  },
  {
   "cell_type": "markdown",
   "metadata": {},
   "source": [
    "#### Mapper/Reducer #2 for predicting NB\n",
    "\n",
    "Mapper:\n",
    "- Input from predict1: (doc_id, cat, word, spam count, ham count)\n",
    "- Output: identity\n",
    "\n",
    "Reducer:\n",
    "- Input: (doc_id, cat, word, spam count, ham count)\n",
    "- Output: (doc_id, cat, prediction, spam log prob, ham log prob)"
   ]
  },
  {
   "cell_type": "code",
   "execution_count": 470,
   "metadata": {
    "collapsed": false
   },
   "outputs": [
    {
     "name": "stdout",
     "output_type": "stream",
     "text": [
      "Overwriting mapper.py\n"
     ]
    }
   ],
   "source": [
    "%%writefile mapper.py\n",
    "#!/usr/bin/python\n",
    "## mapper.py\n",
    "## Author: Miki Seltzer\n",
    "## Description: mapper code for HW2.3\n",
    "\n",
    "import sys\n",
    "import string\n",
    "import re\n",
    "\n",
    "# Our input comes from STDIN (standard input)\n",
    "for line in sys.stdin:\n",
    "    \n",
    "    # Replace delimiter\n",
    "    line = line.replace('\\n', '')\n",
    "    fields = line.split('\\t')\n",
    "    print '%s^%s^%s^%s^%s' % (fields[0], fields[1], fields[2], fields[3], fields[4])"
   ]
  },
  {
   "cell_type": "code",
   "execution_count": 477,
   "metadata": {
    "collapsed": false
   },
   "outputs": [
    {
     "name": "stdout",
     "output_type": "stream",
     "text": [
      "Overwriting reducer.py\n"
     ]
    }
   ],
   "source": [
    "%%writefile reducer.py\n",
    "#!/usr/bin/python\n",
    "## reducer.py\n",
    "## Author: Miki Seltzer\n",
    "## Description: reducer code for HW2.3\n",
    "\n",
    "from operator import itemgetter\n",
    "import sys\n",
    "import math\n",
    "import re\n",
    "import decimal\n",
    "\n",
    "# Initialize some variables\n",
    "doc = None\n",
    "spam = None\n",
    "count = 1\n",
    "class_count = {'1':0, '0':0}\n",
    "word = None\n",
    "\n",
    "prev_doc = None\n",
    "prev_spam = None\n",
    "prev_count = 1\n",
    "prev_class_count = {'1':0, '0':0}\n",
    "prev_word = None\n",
    "\n",
    "docs_total = 0\n",
    "docs = {'1':0, '0':0}\n",
    "words_total = 0\n",
    "words = {'1':0, '0':0}\n",
    "log_prior = {'1':0, '0':0}\n",
    "log_posterior = {'1':0, '0':0}\n",
    "log_likelihood = {'1':0, '0':0}\n",
    "\n",
    "classes = {'1':'spam', '0':'ham'}\n",
    "num_errors = {'1':0, '0':0}\n",
    "num_total = 0.0\n",
    "num_correct = 0.0\n",
    "\n",
    "print_debug = False\n",
    "\n",
    "# Create a function to update the posterior\n",
    "# since we need to do it in multiple locations.\n",
    "# We don't want to duplicate code\n",
    "def update_posterior():\n",
    "    # Calculate evidence\n",
    "    if print_debug:\n",
    "        print \"times word occured:\", prev_count\n",
    "\n",
    "    for item in classes:\n",
    "        if prev_class_count[item] > 0:\n",
    "            log_likelihood[item] = math.log(prev_class_count[item] / words[item])\n",
    "            log_posterior[item] += prev_count * log_likelihood[item]\n",
    "            if print_debug:\n",
    "                print \"updated log posterior:\", log_posterior[item]\n",
    "\n",
    "        else:\n",
    "            if print_debug:\n",
    "                print \"did not update log posterior for:\", classes[item], log_posterior[item]\n",
    "            num_errors[item] += 1\n",
    "        print '\\n'\n",
    "\n",
    "\n",
    "def make_prediction(): \n",
    "    global num_total, num_correct\n",
    "    \n",
    "    # We can compare non-normalized posterior probabilities\n",
    "    num_total += 1\n",
    "    if log_posterior['1'] > log_posterior['0']: prediction = '1'\n",
    "    else: prediction = '0'\n",
    "\n",
    "    # Count correct guesses\n",
    "    if prev_spam == prediction:\n",
    "        num_correct += 1\n",
    "        \n",
    "    # Remember we need to normalize the posteriors\n",
    "    print '%s\\t%s\\t%s\\t%s\\t%s\\n' % (prev_doc, prev_spam, prediction, \n",
    "                                    log_posterior['1'],\n",
    "                                    log_posterior['0'])\n",
    "for line in sys.stdin:\n",
    "    # Strip and split line\n",
    "    # Assign variables\n",
    "    line = line.replace('\\n', '')\n",
    "    #doc, spam, word, count['1'], count['0'] = line.split('\\t')\n",
    "    key, value = line.strip().split('\\t')\n",
    "    doc, spam, word = key.split('^')\n",
    "    class_count['1'], class_count['0'] = value.split('^')    \n",
    "\n",
    "    # Keep this in a try/except statement so we don't fail\n",
    "    try:\n",
    "        for item in classes:\n",
    "            class_count[item] = float(class_count[item])\n",
    "    except ValueError:\n",
    "        continue\n",
    "\n",
    "    # Let's calculate some probabilities\n",
    "    if prev_doc == doc:\n",
    "        # We haven't changed documents\n",
    "        if prev_word == word:\n",
    "            # We haven't changed words, so just increment\n",
    "            prev_count += 1\n",
    "\n",
    "        else:\n",
    "            # We are at a new word\n",
    "            # We need to check if we are at a keyword\n",
    "            if print_debug: print '\\n', prev_word, '\\n'\n",
    "            if prev_word == '*alldocs': \n",
    "                # We are at a record where we need to output total docs\n",
    "                docs_total = prev_class_count['1']\n",
    "                if print_debug: print \"total docs:\", docs_total\n",
    "\n",
    "            elif prev_word == '*docs': \n",
    "                # We are at a record where we need to output unique docs per class\n",
    "                for item in classes:\n",
    "                    docs[item] = prev_class_count[item]\n",
    "                for item in classes:\n",
    "                    if print_debug: print \"prior\", item, docs[item], '/', docs_total\n",
    "                    log_prior[item] = math.log(docs[item] / docs_total)\n",
    "\n",
    "                    # We will update the posterior after each word\n",
    "                    # Initialize it to the prior\n",
    "                    log_posterior[item] = math.log(docs[item] / docs_total)\n",
    "                if print_debug: \n",
    "                    print \"log prior:\", log_prior\n",
    "                    print 'log posterior initial', log_posterior\n",
    "\n",
    "            elif prev_word == '*words':\n",
    "                # We are at a record where we need to output words per class\n",
    "                for item in classes:\n",
    "                    words[item] = prev_class_count[item]\n",
    "                words_total = sum(prev_class_count.values())\n",
    "                if print_debug: print \"word class_count:\", words\n",
    "\n",
    "            elif prev_word:\n",
    "                # We are at a new normal word, and need to calculate stuff\n",
    "                update_posterior()\n",
    "\n",
    "            prev_word = word\n",
    "            prev_count = 1\n",
    "            for item in classes:\n",
    "                prev_class_count[item] = class_count[item]\n",
    "\n",
    "    else:\n",
    "        # We are done with one document. We need to: \n",
    "        # - process the last word\n",
    "        # - output our predictions\n",
    "        if prev_doc:\n",
    "            if print_debug: print '\\n', prev_word, '\\n'\n",
    "            # We are at a new normal word, and need to calculate stuff\n",
    "            update_posterior()\n",
    "\n",
    "            # Now we can calculate the prediction\n",
    "            make_prediction()\n",
    "            if print_debug: print num_correct, \"out of\", num_total\n",
    "\n",
    "        prev_doc = doc\n",
    "        prev_spam = spam\n",
    "        prev_word = word\n",
    "        for item in classes:\n",
    "            prev_class_count[item] = class_count[item]\n",
    "        log_likelihood = {'1':0, '0':0}\n",
    "        if print_debug: print \"reset log likelihood\"\n",
    "\n",
    "# Output our final prediction\n",
    "if print_debug: print '\\n', prev_word, '\\n'\n",
    "update_posterior()\n",
    "make_prediction()\n",
    "\n",
    "print \"Number of documents\\t%d\" % (num_total)\n",
    "print \"Number correct predictions\\t%d\" % (num_correct)\n",
    "print \"Error rate\\t%s\" % (100 - 100 * num_correct / num_total) + \"%\"\n",
    "print \"Number of zero probability spam\\t%d\" % (num_errors['1'])\n",
    "print \"Number of zero probability ham\\t%d\" % (num_errors['0'])"
   ]
  },
  {
   "cell_type": "code",
   "execution_count": 479,
   "metadata": {
    "collapsed": false
   },
   "outputs": [
    {
     "name": "stdout",
     "output_type": "stream",
     "text": [
      "Deleted /user/miki/week02/hw2_3_output_predict2\n",
      "packageJobJar: [] [/usr/jars/hadoop-streaming-2.6.0-cdh5.5.0.jar] /tmp/streamjob3289947013893169905.jar tmpDir=null\n"
     ]
    }
   ],
   "source": [
    "# Change permissions on mapper and reducer\n",
    "!chmod +x mapper.py\n",
    "!chmod +x reducer.py\n",
    "\n",
    "# Delete output folder if it exists\n",
    "!hdfs dfs -rm -r /user/miki/week02/hw2_3_output_predict2\n",
    "\n",
    "# Run job\n",
    "!hadoop jar hadoop-streaming-2.7.1.jar \\\n",
    "-D stream.map.output.field.separator=^ \\\n",
    "-D stream.num.map.output.key.fields=3 \\\n",
    "-D mapreduce.map.output.key.field.separator=^ \\\n",
    "-D mapreduce.partition.keypartitioner.options=-k1,2 \\\n",
    "-input /user/miki/week02/hw2_3_output_predict1/part* \\\n",
    "-output /user/miki/week02/hw2_3_output_predict2 \\\n",
    "-mapper /home/cloudera/Documents/W261-Fall2016/Week02/mapper.py \\\n",
    "-reducer /home/cloudera/Documents/W261-Fall2016/Week02/reducer.py "
   ]
  },
  {
   "cell_type": "code",
   "execution_count": 282,
   "metadata": {
    "collapsed": false
   },
   "outputs": [],
   "source": [
    "#!hdfs dfs -cat /user/miki/week02/hw2_3_output_predict2/part-00000"
   ]
  },
  {
   "cell_type": "code",
   "execution_count": 480,
   "metadata": {
    "collapsed": false
   },
   "outputs": [],
   "source": [
    "# Copy files from HDFS\n",
    "!rm hw2_3_output_predict2.txt\n",
    "!hdfs dfs -copyToLocal /user/miki/week02/hw2_3_output_predict2/part-00000 \\\n",
    "hw2_3_output_predict2.txt"
   ]
  },
  {
   "cell_type": "markdown",
   "metadata": {},
   "source": [
    "#### Pretty print results"
   ]
  },
  {
   "cell_type": "code",
   "execution_count": 481,
   "metadata": {
    "collapsed": false
   },
   "outputs": [],
   "source": [
    "import re\n",
    "\n",
    "def print_results(thefile):\n",
    "    # Read in data from text file\n",
    "    with open(thefile, 'r') as myfile:\n",
    "        # Initialize\n",
    "        total = 0.0\n",
    "        incorrect = 0.0\n",
    "        \n",
    "        summary_lines = []\n",
    "        \n",
    "        # Print header\n",
    "        table = '{:28s}{:^12s}{:^12s}{:15f}{:15f}'.format\n",
    "        print '{:28s}{:^12s}{:^12s}{:>15s}{:>15s}'.format('Document', \n",
    "                                                      'Truth', \n",
    "                                                      'Predicted', \n",
    "                                                      'Log Prob Spam', \n",
    "                                                      'Log Prob Ham')\n",
    "        print '----------------------------------------------------------------------------------'\n",
    "        for line in myfile:\n",
    "            fields = line.split()\n",
    "\n",
    "            # Only look at records that have a doc_id as the first field\n",
    "            pattern = re.compile('^\\d{4}.\\d{4}-\\d{2}-\\d{2}\\.\\w+')\n",
    "            try:\n",
    "                key = fields[0]\n",
    "            except:\n",
    "                continue\n",
    "            if pattern.match(fields[0]):\n",
    "                print table(fields[0], fields[1], fields[2], float(fields[3]), float(fields[4]))\n",
    "                total += 1\n",
    "                if fields[1] != fields[2]: incorrect += 1\n",
    "            else:\n",
    "                summary_lines.append(line)\n",
    "            \n",
    "        print '----------------------------------------------------------------------------------'\n",
    "\n",
    "        for item in summary_lines:\n",
    "            fields = item.replace('\\n', '').split('\\t')\n",
    "            print '{:32s}{:>12s}'.format(fields[0], fields[1])"
   ]
  },
  {
   "cell_type": "code",
   "execution_count": 482,
   "metadata": {
    "collapsed": false
   },
   "outputs": [
    {
     "name": "stdout",
     "output_type": "stream",
     "text": [
      "Document                       Truth     Predicted    Log Prob Spam   Log Prob Ham\n",
      "----------------------------------------------------------------------------------\n",
      "0001.1999-12-10.farmer           0           0           -27.223704     -45.201972\n",
      "0001.1999-12-10.kaminski         0           0           -21.705678     -29.284981\n",
      "0001.2000-01-17.beck             0           0         -2027.574715   -3341.077344\n",
      "0001.2000-06-06.lokay            0           0         -2408.462070   -3526.273656\n",
      "0001.2001-02-07.kitchen          0           0          -188.581053    -296.797358\n",
      "0001.2001-04-02.williams         0           0         -1035.677594   -1334.948366\n",
      "0002.1999-12-13.farmer           0           0         -1686.225756   -2684.579651\n",
      "0002.2001-02-07.kitchen          0           0          -315.594474    -441.700059\n",
      "0002.2001-05-25.SA_and_HP        1           1          -580.752342    -353.068194\n",
      "0002.2003-12-18.GP               1           1         -1270.960024    -587.635757\n",
      "0002.2004-08-01.BG               1           1          -842.706686    -624.512970\n",
      "0003.1999-12-10.kaminski         0           0          -224.926610    -386.040537\n",
      "0003.1999-12-14.farmer           0           0           -26.936022     -78.152547\n",
      "0003.2000-01-17.beck             0           0          -828.699870   -1207.578678\n",
      "0003.2001-02-08.kitchen          0           0          -785.846344   -1206.780507\n",
      "0003.2003-12-18.GP               1           1          -850.351820    -541.212934\n",
      "0003.2004-08-01.BG               1           1          -777.647834    -362.225685\n",
      "0004.1999-12-10.kaminski         0           0          -496.565661   -1090.317286\n",
      "0004.1999-12-14.farmer           0           0          -464.929609    -937.767809\n",
      "0004.2001-04-02.williams         0           0          -491.538072    -638.140105\n",
      "0004.2001-06-12.SA_and_HP        1           1          -877.744435    -692.562451\n",
      "0004.2004-08-01.BG               1           1          -763.165365    -391.054711\n",
      "0005.1999-12-12.kaminski         0           0          -282.128811    -756.536217\n",
      "0005.1999-12-14.farmer           0           0          -412.744033    -961.752679\n",
      "0005.2000-06-06.lokay            0           0          -208.993533    -413.005686\n",
      "0005.2001-02-08.kitchen          0           0          -433.434017    -809.806584\n",
      "0005.2001-06-23.SA_and_HP        1           1          -189.504203    -103.419392\n",
      "0005.2003-12-18.GP               1           1         -7502.210444   -3863.250000\n",
      "0006.1999-12-13.kaminski         0           0          -324.618478    -489.864863\n",
      "0006.2001-02-08.kitchen          0           0         -6493.236175   -9478.893225\n",
      "0006.2001-04-03.williams         0           0          -202.196004    -299.745379\n",
      "0006.2001-06-25.SA_and_HP        1           1          -378.538145    -206.744805\n",
      "0006.2003-12-18.GP               1           1         -1121.775578    -369.055299\n",
      "0006.2004-08-01.BG               1           1         -1057.013400    -491.253328\n",
      "0007.1999-12-13.kaminski         0           0         -1100.204240   -1435.592153\n",
      "0007.1999-12-14.farmer           0           0          -353.213228    -673.184638\n",
      "0007.2000-01-17.beck             0           0         -1809.112630   -2673.868345\n",
      "0007.2001-02-09.kitchen          0           0         -1075.471936   -1641.988845\n",
      "0007.2003-12-18.GP               1           1         -1235.461261    -539.886249\n",
      "0007.2004-08-01.BG               1           1         -1476.865340    -441.387021\n",
      "0008.2001-02-09.kitchen          0           0         -1580.309177   -3926.085101\n",
      "0008.2001-06-12.SA_and_HP        1           1          -877.744435    -692.562451\n",
      "0008.2001-06-25.SA_and_HP        1           1         -4209.757676   -2540.868711\n",
      "0008.2003-12-18.GP               1           1         -1009.088985    -634.580216\n",
      "0008.2004-08-01.BG               1           1         -5865.653555   -3217.213545\n",
      "0009.1999-12-13.kaminski         0           0         -2310.136650   -5293.259576\n",
      "0009.1999-12-14.farmer           0           0          -261.809907    -485.699382\n",
      "0009.2000-06-07.lokay            0           0         -1499.777438   -2656.290633\n",
      "0009.2001-02-09.kitchen          0           0         -3683.032445   -5457.875614\n",
      "0009.2001-06-26.SA_and_HP        1           1         -1267.354338    -708.393527\n",
      "0009.2003-12-18.GP               1           1          -763.745092    -258.534476\n",
      "0010.1999-12-14.farmer           0           0          -463.473769   -1198.577025\n",
      "0010.1999-12-14.kaminski         0           0          -115.204400    -200.984122\n",
      "0010.2001-02-09.kitchen          0           0         -1972.462926   -2892.573319\n",
      "0010.2001-06-28.SA_and_HP        1           1         -3348.753849   -2159.443255\n",
      "0010.2003-12-18.GP               1           1           -55.844271     -16.517443\n",
      "0010.2004-08-01.BG               1           1         -2303.713694    -827.702682\n",
      "0011.1999-12-14.farmer           0           0         -1266.380332   -1875.449588\n",
      "0011.2001-06-28.SA_and_HP        1           1         -3341.017541   -2159.443255\n",
      "0011.2001-06-29.SA_and_HP        1           1        -15600.612139  -10932.672977\n",
      "0011.2003-12-18.GP               1           1          -517.764478    -257.133974\n",
      "0011.2004-08-01.BG               1           1          -676.375628    -386.974722\n",
      "0012.1999-12-14.farmer           0           0         -2072.479247   -3038.816953\n",
      "0012.1999-12-14.kaminski         0           0          -504.648933    -845.566647\n",
      "0012.2000-01-17.beck             0           0         -1816.481693   -2662.786350\n",
      "0012.2000-06-08.lokay            0           0          -645.337105    -902.722519\n",
      "0012.2001-02-09.kitchen          0           0          -323.716664    -476.959635\n",
      "0012.2003-12-19.GP               1           1          -152.639505     -87.038714\n",
      "0013.1999-12-14.farmer           0           0         -1320.302176   -1758.007755\n",
      "0013.1999-12-14.kaminski         0           0          -753.961067   -1110.137081\n",
      "0013.2001-04-03.williams         0           0          -511.634573    -652.272744\n",
      "0013.2001-06-30.SA_and_HP        1           1        -28156.916028  -21065.293495\n",
      "0013.2004-08-01.BG               1           1         -1516.322536    -894.873427\n",
      "0014.1999-12-14.kaminski         0           0         -1132.316882   -1607.441023\n",
      "0014.1999-12-15.farmer           0           0          -540.180032   -1041.309841\n",
      "0014.2001-02-12.kitchen          0           0          -632.761768   -1298.850507\n",
      "0014.2001-07-04.SA_and_HP        1           1         -3468.402191   -2494.431521\n",
      "0014.2003-12-19.GP               1           1          -161.514030     -90.996079\n",
      "0014.2004-08-01.BG               1           1          -802.301047    -387.090964\n",
      "0015.1999-12-14.kaminski         0           0          -270.886140    -556.269139\n",
      "0015.1999-12-15.farmer           0           0          -301.497498    -692.971449\n",
      "0015.2000-06-09.lokay            0           0           -96.550897    -130.104971\n",
      "0015.2001-02-12.kitchen          0           0         -3343.624550   -4914.445404\n",
      "0015.2001-07-05.SA_and_HP        1           1          -881.529547    -619.815217\n",
      "0015.2003-12-19.GP               1           1         -1279.611075    -675.298063\n",
      "0016.1999-12-15.farmer           0           0          -574.502792    -699.497159\n",
      "0016.2001-02-12.kitchen          0           0          -615.962425   -1130.276565\n",
      "0016.2001-07-05.SA_and_HP        1           1          -881.529547    -619.815217\n",
      "0016.2001-07-06.SA_and_HP        1           1        -16461.822596  -11388.220176\n",
      "0016.2003-12-19.GP               1           1          -785.179398    -261.432228\n",
      "0016.2004-08-01.BG               1           1          -656.976627    -432.325796\n",
      "0017.1999-12-14.kaminski         0           0          -271.176275    -377.984890\n",
      "0017.2000-01-17.beck             0           0         -1816.481693   -2673.886861\n",
      "0017.2001-04-03.williams         0           0          -361.297922    -433.805570\n",
      "0017.2003-12-18.GP               1           1          -211.328721    -153.773322\n",
      "0017.2004-08-01.BG               1           1          -912.600138     -57.466116\n",
      "0017.2004-08-02.BG               1           1         -2525.094375   -1668.607904\n",
      "0018.1999-12-14.kaminski         0           0          -816.412774    -983.657215\n",
      "0018.2001-07-13.SA_and_HP        1           1         -3280.399856   -2270.309704\n",
      "0018.2003-12-18.GP               1           1         -3420.208484   -2282.324255\n",
      "----------------------------------------------------------------------------------\n",
      "Number of documents                      100\n",
      "Number correct predictions               100\n",
      "Error rate                              0.0%\n",
      "Number of zero probability spam         2927\n",
      "Number of zero probability ham          3993\n"
     ]
    }
   ],
   "source": [
    "# Print results\n",
    "print_results('hw2_3_output_predict2.txt')"
   ]
  },
  {
   "cell_type": "markdown",
   "metadata": {},
   "source": [
    "#### Histogram of posterior probabilities\n",
    "\n",
    "Plot a histogram of the log posterior probabilities (i.e., log(Pr(Class|Doc))) for each class over the training set. Summarize what you see."
   ]
  },
  {
   "cell_type": "code",
   "execution_count": 547,
   "metadata": {
    "collapsed": false,
    "scrolled": true
   },
   "outputs": [
    {
     "data": {
      "image/png": "[encoded data removed]",
      "text/plain": [
       "<matplotlib.figure.Figure at 0x7f2973549e90>"
      ]
     },
     "metadata": {},
     "output_type": "display_data"
    }
   ],
   "source": [
    "# This tells matplotlib not to try opening a new window for each plot.\n",
    "%matplotlib inline\n",
    "\n",
    "# Import libraries for plotting and analysis\n",
    "import matplotlib.pyplot as plt\n",
    "import numpy as np\n",
    "import re\n",
    "from decimal import *\n",
    "\n",
    "# Initialize data structures\n",
    "doc, Y, prediction, log_prob_spam, log_prob_ham = [], [], [], [], []\n",
    "classes = [\"Spam\", \"Ham\"]\n",
    "\n",
    "# Read in data from text file\n",
    "with open('hw2_3_output_predict2.txt', 'r') as myfile:\n",
    "    for line in myfile:\n",
    "        fields = line.split()\n",
    "\n",
    "        # Only look at records that have a doc_id as the first field\n",
    "        pattern = re.compile('^\\d{4}.\\d{4}-\\d{2}-\\d{2}\\.\\w+')\n",
    "        try:\n",
    "            key = fields[0]\n",
    "        except:\n",
    "            continue\n",
    "        if pattern.match(fields[0]):\n",
    "            doc.append(fields[0])\n",
    "            Y.append(fields[1])\n",
    "            prediction.append(fields[2])\n",
    "            log_prob_spam.append(fields[3])\n",
    "            log_prob_ham.append(fields[4])\n",
    "\n",
    "# Convert to numpy arrays\n",
    "doc = np.array(doc)\n",
    "Y = np.array(Y)\n",
    "prediction = np.array(prediction)\n",
    "log_prob_spam = np.array(log_prob_spam).astype(float)\n",
    "log_prob_ham = np.array(log_prob_ham).astype(float)\n",
    "log_probs = np.column_stack((log_prob_spam, log_prob_ham))\n",
    "\n",
    "# These numbers are SO SMALL we need to work with Decimal type\n",
    "norm_probs = {0:[], 1:[]}\n",
    "for i in log_probs:\n",
    "    spam = Decimal(i[0]).exp() / (Decimal(i[0]).exp() + Decimal(i[1]).exp())\n",
    "    ham = Decimal(i[1]).exp() / (Decimal(i[0]).exp() + Decimal(i[1]).exp())\n",
    "    norm_probs[0].append(float(spam))\n",
    "    norm_probs[1].append(float(ham))\n",
    "\n",
    "num_bins = 30\n",
    "plt.figure(figsize=(12, 8))\n",
    "\n",
    "# Plot histograms\n",
    "for i in range(2):\n",
    "    plt.subplot(2, 2, i + 1)\n",
    "    plt.hist(norm_probs[i], num_bins, facecolor='green', alpha=0.5)\n",
    "    plt.xlabel(classes[i] + ' Probability')\n",
    "    plt.ylabel('Probability')\n",
    "    plt.title(r'Histogram of ' + classes[i] + ' Probabilities')\n",
    "\n",
    "# For good measure, plot log probs\n",
    "for i in range(2):\n",
    "    plt.subplot(2, 2, i + 3)\n",
    "    plt.hist(log_probs[:,i], num_bins, facecolor='grey', alpha=0.5)\n",
    "    plt.xlabel(classes[i] + ' Log Probability')\n",
    "    plt.ylabel('Probability')\n",
    "    plt.title(r'Histogram of ' + classes[i] + ' Log Probabilities')\n"
   ]
  },
  {
   "cell_type": "markdown",
   "metadata": {},
   "source": [
    "#### Histogram summary\n",
    "\n",
    "The histogram of normalized probabilities are either very close to 0, or very close to 1. This is likely due to the assumption that the features are conditionally independent given the class."
   ]
  },
  {
   "cell_type": "markdown",
   "metadata": {},
   "source": [
    "### HW2.4: Repeat HW2.3 with the following modification: use Laplace plus-one smoothing."
   ]
  },
  {
   "cell_type": "markdown",
   "metadata": {},
   "source": [
    "#### Mapper/Reducer #1 for fitting NB\n",
    "\n",
    "Mapper:\n",
    "- Input: training documents\n",
    "- Output: (word, 1, 0) if word was in spam, otherwise (word, 0, 1)\n",
    "  - Special words: \\*alldocs, \\*docs, \\*vocab and \\*words\n",
    "  \n",
    "Reducer:\n",
    "- Input: (word, 1, 0) or (word, 0, 1)\n",
    "- Output: (word, spam count, ham count)"
   ]
  },
  {
   "cell_type": "code",
   "execution_count": 399,
   "metadata": {
    "collapsed": false
   },
   "outputs": [
    {
     "name": "stdout",
     "output_type": "stream",
     "text": [
      "Overwriting mapper.py\n"
     ]
    }
   ],
   "source": [
    "%%writefile mapper.py\n",
    "#!/usr/bin/python\n",
    "## mapper.py\n",
    "## Author: Miki Seltzer\n",
    "## Description: mapper code for HW2.4\n",
    "\n",
    "import sys\n",
    "import string\n",
    "import re\n",
    "\n",
    "counts = {\n",
    "    '*words':{\n",
    "        '1':0,\n",
    "        '0':0\n",
    "    },\n",
    "    '*docs':{\n",
    "        '1':0,\n",
    "        '0':0\n",
    "    }\n",
    "}\n",
    "total_docs = 0\n",
    "\n",
    "# Our input comes from STDIN (standard input)\n",
    "for line in sys.stdin:\n",
    "    \n",
    "    # Strip white space from line, then split into fields\n",
    "    # Replace commas with spaces (we are using commas as a delimiter as well)\n",
    "    # Remove remaining punctuation from subject and body\n",
    "    # Concatenate, then split subject and body by spaces\n",
    "    # Some records are malformed -- if there is a 4th field, use it\n",
    "    fields = line.strip().split('\\t')\n",
    "    \n",
    "    # Keep track of document counts\n",
    "    spam = fields[1]\n",
    "    counts['*docs'][spam] += 1\n",
    "    total_docs += 1\n",
    "    \n",
    "    subj = fields[2].replace(',', ' ')\n",
    "    subj = subj.translate(string.maketrans(\"\",\"\"), string.punctuation)\n",
    "    if len(fields) == 4:\n",
    "        body = fields[3].replace(',', ' ')\n",
    "        body = body.translate(string.maketrans(\"\",\"\"), string.punctuation)\n",
    "    else:\n",
    "        body = \"\"\n",
    "    words = subj + \" \" + body\n",
    "    words = words.split()\n",
    "    \n",
    "    # Loop through words\n",
    "    # If word is not trivial, write to file\n",
    "    # key = word\n",
    "    # value = 1\n",
    "    for word in words:\n",
    "        if len(word) > 0 and repr(word)[1] != '\\\\':\n",
    "            if spam == '1':\n",
    "                print \"%s\\t%s\\t%s\" % (word, 1, 0)\n",
    "            elif spam == '0':\n",
    "                print \"%s\\t%s\\t%s\" % (word, 0, 1)\n",
    "            counts['*words'][spam] += 1\n",
    "\n",
    "# At the end, output document and word counts\n",
    "for item in counts:\n",
    "    print \"%s\\t%s\\t%s\" % (item, counts[item]['1'], counts[item]['0'])\n",
    "print \"%s\\t%s\\t%s\" % ('*alldocs', total_docs, total_docs)"
   ]
  },
  {
   "cell_type": "code",
   "execution_count": 408,
   "metadata": {
    "collapsed": false
   },
   "outputs": [
    {
     "name": "stdout",
     "output_type": "stream",
     "text": [
      "Overwriting reducer.py\n"
     ]
    }
   ],
   "source": [
    "%%writefile reducer.py\n",
    "#!/usr/bin/python\n",
    "## reducer.py\n",
    "## Author: Miki Seltzer\n",
    "## Description: reducer code for HW2.4\n",
    "\n",
    "from operator import itemgetter\n",
    "import sys\n",
    "import math\n",
    "\n",
    "# Initialize some variables\n",
    "# We know that the words will be sorted\n",
    "# We need to keep track of state\n",
    "prev_word = None\n",
    "prev_spam_count = 0\n",
    "prev_ham_count = 0\n",
    "word = None\n",
    "vocab_size = 0\n",
    "\n",
    "for line in sys.stdin:\n",
    "    # Split line into fields\n",
    "    fields = line.strip().split('\\t')\n",
    "    word = fields[0]\n",
    "    spam_count = fields[1]\n",
    "    ham_count = fields[2]\n",
    "    \n",
    "    # If possible, turn count into an int (it's read as a string)\n",
    "    try:\n",
    "        spam_count = int(spam_count)\n",
    "        ham_count = int(ham_count)\n",
    "    except ValueError:\n",
    "        # We couldn't make count into an int, so move on\n",
    "        continue\n",
    "        \n",
    "    if prev_word == word:\n",
    "        # We have not moved to a new word\n",
    "        # Just update the count of this word\n",
    "        prev_spam_count += spam_count\n",
    "        prev_ham_count += ham_count\n",
    "        \n",
    "    else:\n",
    "        # We have encountered a new word!\n",
    "        # If this is the first word, we don't need to print anything\n",
    "        if prev_word: \n",
    "            # Write the previous word to file\n",
    "            print '%s\\t%s\\t%s' % (prev_word, prev_spam_count, prev_ham_count)\n",
    "            if prev_word[0] != '*': vocab_size += 1\n",
    "            \n",
    "        # Now we need to initialize our variables\n",
    "        prev_word = word\n",
    "        prev_spam_count = spam_count\n",
    "        prev_ham_count = ham_count\n",
    "\n",
    "# We've reached the end of the file\n",
    "# Print the last word and counts\n",
    "print '%s\\t%s\\t%s' % (prev_word, prev_spam_count, prev_ham_count)\n",
    "if prev_word[0] != '*': vocab_size += 1\n",
    "    \n",
    "# Print the vocab size for this set of words\n",
    "print '%s\\t%s\\t%s' % ('*vocab', vocab_size, vocab_size)"
   ]
  },
  {
   "cell_type": "code",
   "execution_count": 411,
   "metadata": {
    "collapsed": false
   },
   "outputs": [
    {
     "name": "stdout",
     "output_type": "stream",
     "text": [
      "Deleted /user/miki/week02/hw2_4_output_fit1\n",
      "packageJobJar: [] [/usr/jars/hadoop-streaming-2.6.0-cdh5.5.0.jar] /tmp/streamjob5743295591766583947.jar tmpDir=null\n"
     ]
    }
   ],
   "source": [
    "# Change permissions on mapper and reducer\n",
    "!chmod +x mapper.py\n",
    "!chmod +x reducer.py\n",
    "\n",
    "# Delete output folder if it exists\n",
    "!hdfs dfs -rm -r /user/miki/week02/hw2_4_output_fit1\n",
    "\n",
    "# Run job\n",
    "!hadoop jar hadoop-streaming-2.7.1.jar \\\n",
    "-input /user/miki/week02/enronemail_1h.txt \\\n",
    "-output /user/miki/week02/hw2_4_output_fit1 \\\n",
    "-mapper /home/cloudera/Documents/W261-Fall2016/Week02/mapper.py \\\n",
    "-reducer /home/cloudera/Documents/W261-Fall2016/Week02/reducer.py "
   ]
  },
  {
   "cell_type": "markdown",
   "metadata": {},
   "source": [
    "#### Note:\n",
    "\n",
    "We are working with a file that is small in size, and so there is only one reducer involved. If there were multiple reducers involved, we would need to run another reducer to sum the values of \\*vocab, since we need unique counts."
   ]
  },
  {
   "cell_type": "code",
   "execution_count": 386,
   "metadata": {
    "collapsed": false
   },
   "outputs": [],
   "source": [
    "#!hdfs dfs -cat /user/miki/week02/hw2_4_output_fit1/part-00000"
   ]
  },
  {
   "cell_type": "markdown",
   "metadata": {},
   "source": [
    "#### Mapper/Reducer #1 for predicting NB\n",
    "\n",
    "Mapper:\n",
    "- Input from fit: (word, spam count, ham count)\n",
    "- Output: (word, spam count, ham count)\n",
    "- Input testing document: (document ID, cat, subj, body)\n",
    "- Output: (word, cat, document ID)\n",
    "\n",
    "Reducer:\n",
    "- Input: (word, spam count, ham count)\n",
    "- Input: (word, cat, document ID)\n",
    "- Output: (document ID, cat, word, spam count, ham count)"
   ]
  },
  {
   "cell_type": "code",
   "execution_count": 430,
   "metadata": {
    "collapsed": false
   },
   "outputs": [
    {
     "name": "stdout",
     "output_type": "stream",
     "text": [
      "Overwriting mapper.py\n"
     ]
    }
   ],
   "source": [
    "%%writefile mapper.py\n",
    "#!/usr/bin/python\n",
    "## mapper.py\n",
    "## Author: Miki Seltzer\n",
    "## Description: mapper code for HW2.4\n",
    "\n",
    "import sys\n",
    "import string\n",
    "import re\n",
    "\n",
    "# Our input comes from STDIN (standard input)\n",
    "for line in sys.stdin:\n",
    "    \n",
    "    # Strip white space from line, then split into fields    \n",
    "    fields = line.strip().split('\\t')\n",
    "    \n",
    "    # If first field matches pattern of document ID, tokenize words\n",
    "    pattern = re.compile('^\\d{4}.\\d{4}-\\d{2}-\\d{2}\\.\\w+')\n",
    "    if pattern.match(fields[0]):\n",
    "        # Keep track of document counts\n",
    "        doc_id = fields[0]\n",
    "        spam = fields[1]\n",
    "\n",
    "        # We are always going to need the doc/word counts for each document\n",
    "        print '%s^%s^%s' % ('*alldocs', spam, doc_id)\n",
    "        print '%s^%s^%s' % ('*docs', spam, doc_id)\n",
    "        print '%s^%s^%s' % ('*words', spam, doc_id)\n",
    "        print '%s^%s^%s' % ('*vocab', spam, doc_id)\n",
    "        \n",
    "        # Replace commas with spaces (we are using commas as a delimiter as well)\n",
    "        # Remove remaining punctuation from subject and body\n",
    "        # Concatenate, then split subject and body by spaces\n",
    "        # Some records are malformed -- if there is a 4th field, use it\n",
    "        subj = fields[2].replace(',', ' ')\n",
    "        subj = subj.translate(string.maketrans(\"\",\"\"), string.punctuation)\n",
    "        if len(fields) == 4:\n",
    "            body = fields[3].replace(',', ' ')\n",
    "            body = body.translate(string.maketrans(\"\",\"\"), string.punctuation)\n",
    "        else:\n",
    "            body = \"\"\n",
    "        words = subj + \" \" + body\n",
    "        words = words.split()\n",
    "\n",
    "        # Loop through words\n",
    "        # If word is not trivial, write to file\n",
    "        # key = word\n",
    "        # value = doc_id\n",
    "        for word in words:\n",
    "            if len(word) > 0 and repr(word)[1] != '\\\\':\n",
    "                print '%s^%s^%s' % (word, spam, doc_id)\n",
    "    else:\n",
    "        # Now we know that the record is the\n",
    "        #   output of the previous MapReduce job\n",
    "        #   not the doc we are classifying\n",
    "        # We append the spam_count with a * so that it comes first\n",
    "        # We need the overall spam/ham word counts with each word in the doc\n",
    "        word = fields[0]\n",
    "        spam_count = fields[1]\n",
    "        ham_count = fields[2]\n",
    "        print '%s^%s^%s' % (word, '*' + spam_count, ham_count)\n"
   ]
  },
  {
   "cell_type": "code",
   "execution_count": 431,
   "metadata": {
    "collapsed": false
   },
   "outputs": [
    {
     "name": "stdout",
     "output_type": "stream",
     "text": [
      "Overwriting reducer.py\n"
     ]
    }
   ],
   "source": [
    "%%writefile reducer.py\n",
    "#!/usr/bin/python\n",
    "## reducer.py\n",
    "## Author: Miki Seltzer\n",
    "## Description: reducer code for HW2.4\n",
    "\n",
    "from operator import itemgetter\n",
    "import sys\n",
    "import math\n",
    "import re\n",
    "\n",
    "# Initialize some variables\n",
    "spam_count = 0\n",
    "ham_count = 0\n",
    "\n",
    "for line in sys.stdin:\n",
    "    # Strip and split line\n",
    "    key, value = line.strip().split('\\t')\n",
    "    word, field1 = key.split('^')\n",
    "\n",
    "    # If field1 starts with a *, we know that it is the spam and ham counts\n",
    "    if field1[0] == '*':\n",
    "        # This record will be of the form (word field1=*spam_count value=ham_count)\n",
    "        try:\n",
    "            spam_count = int(field1.replace('*',''))\n",
    "            ham_count = int(value)\n",
    "        except ValueError:\n",
    "            continue\n",
    "    \n",
    "    else:\n",
    "        # Now we know that it is a doc_id record\n",
    "        # This record will be of the form (word field1=cat value=doc_id)\n",
    "        pattern = re.compile('^\\d{4}.\\d{4}-\\d{2}-\\d{2}\\.\\w+')\n",
    "        if pattern.match(value):\n",
    "            doc_id = value\n",
    "        print '%s\\t%s\\t%s\\t%s\\t%s' % (doc_id, field1, word, spam_count, ham_count)"
   ]
  },
  {
   "cell_type": "code",
   "execution_count": 432,
   "metadata": {
    "collapsed": false
   },
   "outputs": [
    {
     "name": "stdout",
     "output_type": "stream",
     "text": [
      "Deleted /user/miki/week02/hw2_4_output_predict1\n",
      "packageJobJar: [] [/usr/jars/hadoop-streaming-2.6.0-cdh5.5.0.jar] /tmp/streamjob4524769482412452532.jar tmpDir=null\n"
     ]
    }
   ],
   "source": [
    "# Change permissions on mapper and reducer\n",
    "!chmod +x mapper.py\n",
    "!chmod +x reducer.py\n",
    "\n",
    "# Delete output folder if it exists\n",
    "!hdfs dfs -rm -r /user/miki/week02/hw2_4_output_predict1\n",
    "\n",
    "# Run job\n",
    "!hadoop jar hadoop-streaming-2.7.1.jar \\\n",
    "-D stream.map.output.field.separator=^ \\\n",
    "-D stream.num.map.output.key.fields=2 \\\n",
    "-D mapreduce.map.output.key.field.separator=^ \\\n",
    "-D mapreduce.partition.keypartitioner.options=-k1,1 \\\n",
    "-input /user/miki/week02/enronemail_1h.txt \\\n",
    "-input /user/miki/week02/hw2_4_output_fit1 \\\n",
    "-output /user/miki/week02/hw2_4_output_predict1 \\\n",
    "-mapper /home/cloudera/Documents/W261-Fall2016/Week02/mapper.py \\\n",
    "-reducer /home/cloudera/Documents/W261-Fall2016/Week02/reducer.py "
   ]
  },
  {
   "cell_type": "code",
   "execution_count": 423,
   "metadata": {
    "collapsed": false
   },
   "outputs": [],
   "source": [
    "#!hdfs dfs -cat /user/miki/week02/hw2_4_output_predict1/part-00000"
   ]
  },
  {
   "cell_type": "markdown",
   "metadata": {},
   "source": [
    "#### Mapper/Reducer #2 for predicting NB\n",
    "\n",
    "Mapper:\n",
    "- Input from predict1: (doc_id, cat, word, spam count, ham count)\n",
    "- Output: identity\n",
    "\n",
    "Reducer:\n",
    "- Input: (doc_id, cat, word, spam count, ham count)\n",
    "- Output: (doc_id, cat, prediction, spam log prob, ham log prob)"
   ]
  },
  {
   "cell_type": "code",
   "execution_count": 542,
   "metadata": {
    "collapsed": false
   },
   "outputs": [
    {
     "name": "stdout",
     "output_type": "stream",
     "text": [
      "Overwriting mapper.py\n"
     ]
    }
   ],
   "source": [
    "%%writefile mapper.py\n",
    "#!/usr/bin/python\n",
    "## mapper.py\n",
    "## Author: Miki Seltzer\n",
    "## Description: mapper code for HW2.4\n",
    "\n",
    "import sys\n",
    "import string\n",
    "import re\n",
    "\n",
    "# Our input comes from STDIN (standard input)\n",
    "for line in sys.stdin:\n",
    "    \n",
    "    # Replace delimiter\n",
    "    line = line.replace('\\n', '')\n",
    "    fields = line.split('\\t')\n",
    "    print '%s^%s^%s^%s^%s' % (fields[0], fields[1], fields[2], fields[3], fields[4])"
   ]
  },
  {
   "cell_type": "code",
   "execution_count": 543,
   "metadata": {
    "collapsed": false
   },
   "outputs": [
    {
     "name": "stdout",
     "output_type": "stream",
     "text": [
      "Overwriting reducer.py\n"
     ]
    }
   ],
   "source": [
    "%%writefile reducer.py\n",
    "#!/usr/bin/python\n",
    "## reducer.py\n",
    "## Author: Miki Seltzer\n",
    "## Description: reducer code for HW2.4\n",
    "\n",
    "from operator import itemgetter\n",
    "import sys\n",
    "import math\n",
    "import re\n",
    "\n",
    "# Initialize some variables\n",
    "doc = None\n",
    "spam = None\n",
    "count = 1\n",
    "class_count = {'1':0, '0':0}\n",
    "word = None\n",
    "\n",
    "prev_doc = None\n",
    "prev_spam = None\n",
    "prev_count = 1\n",
    "prev_class_count = {'1':0, '0':0}\n",
    "prev_word = None\n",
    "\n",
    "vocab = 0\n",
    "docs_total = 0\n",
    "docs = {'1':0, '0':0}\n",
    "words_total = 0\n",
    "words = {'1':0, '0':0}\n",
    "log_prior = {'1':0, '0':0}\n",
    "log_posterior = {'1':0, '0':0}\n",
    "log_likelihood = {'1':0, '0':0}\n",
    "\n",
    "classes = {'1':'spam', '0':'ham'}\n",
    "num_errors = {'1':0, '0':0}\n",
    "num_total = 0.0\n",
    "num_correct = 0.0\n",
    "\n",
    "print_debug = False\n",
    "\n",
    "# Create a function to update the posterior\n",
    "# since we need to do it in multiple locations.\n",
    "# We don't want to duplicate code\n",
    "def update_posterior():\n",
    "    for item in classes:\n",
    "        # This is where we incorporate smoothing\n",
    "        log_likelihood[item] = math.log((1 + prev_class_count[item]) / (vocab + words[item]))\n",
    "        log_posterior[item] += prev_count * log_likelihood[item]\n",
    "        if print_debug:\n",
    "            print \"updated log posterior:\", log_posterior[item]\n",
    "            print '\\n'\n",
    "\n",
    "def make_prediction(): \n",
    "    global num_total, num_correct\n",
    "    \n",
    "    # We can compare non-normalized posterior probabilities\n",
    "    num_total += 1\n",
    "    if log_posterior['1'] > log_posterior['0']: prediction = '1'\n",
    "    else: prediction = '0'\n",
    "\n",
    "    # Count correct guesses\n",
    "    if prev_spam == prediction:\n",
    "        num_correct += 1\n",
    "        \n",
    "    # Remember we need to normalize the posteriors\n",
    "    print '%s\\t%s\\t%s\\t%s\\t%s\\n' % (prev_doc, prev_spam, prediction, \n",
    "                                    log_posterior['1'],\n",
    "                                    log_posterior['0'])\n",
    "\n",
    "for line in sys.stdin:\n",
    "    # Strip and split line\n",
    "    # Assign variables\n",
    "    line = line.replace('\\n', '')\n",
    "    #doc, spam, word, count['1'], count['0'] = line.split('\\t')\n",
    "    key, value = line.strip().split('\\t')\n",
    "    doc, spam, word = key.split('^')\n",
    "    class_count['1'], class_count['0'] = value.split('^')    \n",
    "\n",
    "    # Keep this in a try/except statement so we don't fail\n",
    "    try:\n",
    "        for item in classes:\n",
    "            class_count[item] = float(class_count[item])\n",
    "    except ValueError:\n",
    "        continue\n",
    "\n",
    "    # Let's calculate some probabilities\n",
    "    if prev_doc == doc:\n",
    "        # We haven't changed documents\n",
    "        if prev_word == word:\n",
    "            # We haven't changed words, so just increment\n",
    "            prev_count += 1\n",
    "\n",
    "        else:\n",
    "            # We are at a new word\n",
    "            # We need to check if we are at a keyword\n",
    "            if print_debug: print '\\n', prev_word, '\\n'\n",
    "            if prev_word == '*alldocs': \n",
    "                # We are at a record where we need to output total docs\n",
    "                docs_total = prev_class_count['1']\n",
    "                if print_debug: print \"total docs:\", docs_total\n",
    "\n",
    "            elif prev_word == '*docs': \n",
    "                # We are at a record where we need to output unique docs per class\n",
    "                for item in classes:\n",
    "                    docs[item] = prev_class_count[item]\n",
    "                for item in classes:\n",
    "                    if print_debug: print \"prior\", item, docs[item], '/', docs_total\n",
    "                    log_prior[item] = math.log(docs[item] / docs_total)\n",
    "\n",
    "                    # We will update the posterior after each word\n",
    "                    # Initialize it to the prior\n",
    "                    log_posterior[item] = math.log(docs[item] / docs_total)\n",
    "                if print_debug: \n",
    "                    print \"log prior:\", log_prior\n",
    "                    print 'log posterior initial', log_posterior\n",
    "\n",
    "            elif prev_word == '*words':\n",
    "                # We are at a record where we need to output words per class\n",
    "                for item in classes:\n",
    "                    words[item] = prev_class_count[item]\n",
    "                words_total = sum(prev_class_count.values())\n",
    "                if print_debug: print \"word class_count:\", words\n",
    "                                \n",
    "            elif prev_word == '*vocab':\n",
    "                # We are at a record where we need to output the vocab size\n",
    "                vocab = prev_class_count['1']\n",
    "                if print_debug: print \"vocab size:\", vocab\n",
    "\n",
    "            elif prev_word:\n",
    "                # We are at a new normal word, and need to calculate stuff\n",
    "                update_posterior()\n",
    "\n",
    "            prev_word = word\n",
    "            prev_count = 1\n",
    "            for item in classes:\n",
    "                prev_class_count[item] = class_count[item]\n",
    "\n",
    "    else:\n",
    "        # We are done with one document. We need to: \n",
    "        # - process the last word\n",
    "        # - output our predictions\n",
    "        if prev_doc:\n",
    "            if print_debug: print '\\n', prev_word, '\\n'\n",
    "            # We are at a new normal word, and need to calculate stuff\n",
    "            update_posterior()\n",
    "\n",
    "            # Now we can calculate the prediction\n",
    "            make_prediction()\n",
    "            if print_debug: print num_correct, \"out of\", num_total\n",
    "\n",
    "        prev_doc = doc\n",
    "        prev_spam = spam\n",
    "        prev_word = word\n",
    "        for item in classes:\n",
    "            prev_class_count[item] = class_count[item]\n",
    "        log_likelihood = {'1':0, '0':0}\n",
    "        if print_debug: print \"reset log likelihood\"\n",
    "\n",
    "# Output our final prediction\n",
    "if print_debug: print '\\n', prev_word, '\\n'\n",
    "update_posterior()\n",
    "make_prediction()\n",
    "\n",
    "print \"Number of documents\\t%d\" % (num_total)\n",
    "print \"Number correct predictions\\t%d\" % (num_correct)\n",
    "print \"Error rate\\t%s\" % (100 - 100 * num_correct / num_total) + \"%\"\n",
    "print \"Number of zero probability spam\\t%d\" % (num_errors['1'])\n",
    "print \"Number of zero probability ham\\t%d\" % (num_errors['0'])"
   ]
  },
  {
   "cell_type": "code",
   "execution_count": 544,
   "metadata": {
    "collapsed": false
   },
   "outputs": [
    {
     "name": "stdout",
     "output_type": "stream",
     "text": [
      "Deleted /user/miki/week02/hw2_4_output_predict2\n",
      "packageJobJar: [] [/usr/jars/hadoop-streaming-2.6.0-cdh5.5.0.jar] /tmp/streamjob5652509028914698936.jar tmpDir=null\n"
     ]
    }
   ],
   "source": [
    "# Change permissions on mapper and reducer\n",
    "!chmod +x mapper.py\n",
    "!chmod +x reducer.py\n",
    "\n",
    "# Delete output folder if it exists\n",
    "!hdfs dfs -rm -r /user/miki/week02/hw2_4_output_predict2\n",
    "\n",
    "# Run job\n",
    "!hadoop jar hadoop-streaming-2.7.1.jar \\\n",
    "-D stream.map.output.field.separator=^ \\\n",
    "-D stream.num.map.output.key.fields=3 \\\n",
    "-D mapreduce.map.output.key.field.separator=^ \\\n",
    "-D mapreduce.partition.keypartitioner.options=-k1,2 \\\n",
    "-input /user/miki/week02/hw2_4_output_predict1/part* \\\n",
    "-output /user/miki/week02/hw2_4_output_predict2 \\\n",
    "-mapper /home/cloudera/Documents/W261-Fall2016/Week02/mapper.py \\\n",
    "-reducer /home/cloudera/Documents/W261-Fall2016/Week02/reducer.py "
   ]
  },
  {
   "cell_type": "code",
   "execution_count": 449,
   "metadata": {
    "collapsed": false
   },
   "outputs": [],
   "source": [
    "#!hdfs dfs -cat /user/miki/week02/hw2_4_output_predict2/part-00000"
   ]
  },
  {
   "cell_type": "code",
   "execution_count": 548,
   "metadata": {
    "collapsed": false
   },
   "outputs": [],
   "source": [
    "# Copy files from HDFS\n",
    "!rm hw2_4_output_predict2.txt\n",
    "!hdfs dfs -copyToLocal /user/miki/week02/hw2_4_output_predict2/part-00000 \\\n",
    "hw2_4_output_predict2.txt"
   ]
  },
  {
   "cell_type": "code",
   "execution_count": 549,
   "metadata": {
    "collapsed": false
   },
   "outputs": [
    {
     "name": "stdout",
     "output_type": "stream",
     "text": [
      "Document                       Truth     Predicted    Log Prob Spam   Log Prob Ham\n",
      "----------------------------------------------------------------------------------\n",
      "0001.1999-12-10.farmer           0           0           -47.096765     -44.164126\n",
      "0001.1999-12-10.kaminski         0           0           -32.156825     -29.786564\n",
      "0001.2000-01-17.beck             0           0         -3784.543066   -3423.100066\n",
      "0001.2000-06-06.lokay            0           0         -4047.517444   -3618.247343\n",
      "0001.2001-02-07.kitchen          0           0          -350.817691    -305.204350\n",
      "0001.2001-04-02.williams         0           0         -1412.267544   -1366.134284\n",
      "0002.1999-12-13.farmer           0           0         -3090.293822   -2744.595250\n",
      "0002.2001-02-07.kitchen          0           0          -463.594975    -449.426584\n",
      "0002.2001-05-25.SA_and_HP        1           1          -586.481375    -641.071290\n",
      "0002.2003-12-18.GP               1           1         -1275.748087   -1394.091408\n",
      "0002.2004-08-01.BG               1           1          -860.309319    -907.779546\n",
      "0003.1999-12-10.kaminski         0           0          -452.480037    -397.681776\n",
      "0003.1999-12-14.farmer           0           0           -96.936725     -79.499120\n",
      "0003.2000-01-17.beck             0           0         -1431.977521   -1252.126044\n",
      "0003.2001-02-08.kitchen          0           0         -1391.704554   -1236.584250\n",
      "0003.2003-12-18.GP               1           1          -852.797406    -902.747828\n",
      "0003.2004-08-01.BG               1           1          -775.448304    -827.257869\n",
      "0004.1999-12-10.kaminski         0           0         -1246.147942   -1111.517481\n",
      "0004.1999-12-14.farmer           0           0         -1168.620929    -963.821410\n",
      "0004.2001-04-02.williams         0           0          -691.095815    -652.266266\n",
      "0004.2001-06-12.SA_and_HP        1           1          -898.638296    -980.374079\n",
      "0004.2004-08-01.BG               1           1          -758.462183    -795.951176\n",
      "0005.1999-12-12.kaminski         0           0          -871.501155    -761.976720\n",
      "0005.1999-12-14.farmer           0           0         -1161.153698    -987.019881\n",
      "0005.2000-06-06.lokay            0           0          -438.747606    -418.195956\n",
      "0005.2001-02-08.kitchen          0           0          -902.491520    -818.309950\n",
      "0005.2001-06-23.SA_and_HP        1           1          -190.569898    -204.737506\n",
      "0005.2003-12-18.GP               1           1         -7527.282811   -8158.436311\n",
      "0006.1999-12-13.kaminski         0           0          -526.208783    -501.295549\n",
      "0006.2001-02-08.kitchen          0           0        -10503.704784   -9733.282329\n",
      "0006.2001-04-03.williams         0           0          -319.021016    -307.460195\n",
      "0006.2001-06-25.SA_and_HP        1           1          -378.248492    -400.785328\n",
      "0006.2003-12-18.GP               1           1         -1110.810083   -1171.909737\n",
      "0006.2004-08-01.BG               1           1         -1055.996294   -1120.005294\n",
      "0007.1999-12-13.kaminski         0           0         -1611.814471   -1485.356904\n",
      "0007.1999-12-14.farmer           0           0          -767.010586    -688.742967\n",
      "0007.2000-01-17.beck             0           0         -3389.086555   -2781.252237\n",
      "0007.2001-02-09.kitchen          0           0         -1844.945341   -1685.560090\n",
      "0007.2003-12-18.GP               1           1         -1230.804021   -1311.215089\n",
      "0007.2004-08-01.BG               1           1         -1485.845578   -1708.500012\n",
      "0008.2001-02-09.kitchen          0           0         -4355.581851   -3960.847446\n",
      "0008.2001-06-12.SA_and_HP        1           1          -898.638296    -980.374079\n",
      "0008.2001-06-25.SA_and_HP        1           1         -4268.105142   -4789.807228\n",
      "0008.2003-12-18.GP               1           1         -1022.156895   -1121.098367\n",
      "0008.2004-08-01.BG               1           1         -5895.448539   -6238.196192\n",
      "0009.1999-12-13.kaminski         0           0         -6707.589422   -5469.442816\n",
      "0009.1999-12-14.farmer           0           0          -556.226457    -493.593332\n",
      "0009.2000-06-07.lokay            0           0         -3047.743764   -2710.014008\n",
      "0009.2001-02-09.kitchen          0           0         -6245.594556   -5625.149880\n",
      "0009.2001-06-26.SA_and_HP        1           1         -1274.983361   -1373.878167\n",
      "0009.2003-12-18.GP               1           1          -763.278173    -827.327975\n",
      "0010.1999-12-14.farmer           0           0         -1439.705855   -1209.422935\n",
      "0010.1999-12-14.kaminski         0           0          -229.416123    -206.100618\n",
      "0010.2001-02-09.kitchen          0           0         -3385.397900   -2990.799981\n",
      "0010.2001-06-28.SA_and_HP        1           1         -3428.365713   -3787.734531\n",
      "0010.2003-12-18.GP               1           1           -54.763330     -55.892351\n",
      "0010.2004-08-01.BG               1           1         -2309.449714   -2560.674214\n",
      "0011.1999-12-14.farmer           0           0         -2108.964180   -1934.461528\n",
      "0011.2001-06-28.SA_and_HP        1           1         -3420.476004   -3777.885077\n",
      "0011.2001-06-29.SA_and_HP        1           1        -15936.841140  -17662.757436\n",
      "0011.2003-12-18.GP               1           1          -517.903783    -567.896690\n",
      "0011.2004-08-01.BG               1           1          -678.856381    -725.082640\n",
      "0012.1999-12-14.farmer           0           0         -3487.399042   -3144.038712\n",
      "0012.1999-12-14.kaminski         0           0         -1097.215774    -874.951567\n",
      "0012.2000-01-17.beck             0           0         -3376.301141   -2771.554111\n",
      "0012.2000-06-08.lokay            0           0          -945.071018    -922.095641\n",
      "0012.2001-02-09.kitchen          0           0          -523.187540    -488.020239\n",
      "0012.2003-12-19.GP               1           1          -153.515906    -167.281786\n",
      "0013.1999-12-14.farmer           0           0         -1990.463197   -1827.707479\n",
      "0013.1999-12-14.kaminski         0           0         -1417.199826   -1162.282418\n",
      "0013.2001-04-03.williams         0           0          -692.586549    -666.766301\n",
      "0013.2001-06-30.SA_and_HP        1           1        -28818.183422  -32105.395138\n",
      "0013.2004-08-01.BG               1           1         -1523.925605   -1608.254332\n",
      "0014.1999-12-14.kaminski         0           0         -1948.708306   -1674.710318\n",
      "0014.1999-12-15.farmer           0           0         -1205.033605   -1063.916039\n",
      "0014.2001-02-12.kitchen          0           0         -1459.489600   -1314.368698\n",
      "0014.2001-07-04.SA_and_HP        1           1         -3521.663602   -3825.287747\n",
      "0014.2003-12-19.GP               1           1          -161.897718    -172.075311\n",
      "0014.2004-08-01.BG               1           1          -793.790635    -832.114748\n",
      "0015.1999-12-14.kaminski         0           0          -611.024331    -562.914386\n",
      "0015.1999-12-15.farmer           0           0          -829.321220    -708.060652\n",
      "0015.2000-06-09.lokay            0           0          -139.255164    -133.122161\n",
      "0015.2001-02-12.kitchen          0           0         -5533.128403   -5066.199224\n",
      "0015.2001-07-05.SA_and_HP        1           1          -901.185494    -976.602830\n",
      "0015.2003-12-19.GP               1           1         -1291.857294   -1414.805011\n",
      "0016.1999-12-15.farmer           0           0          -773.861025    -718.206678\n",
      "0016.2001-02-12.kitchen          0           0         -1306.745075   -1149.695470\n",
      "0016.2001-07-05.SA_and_HP        1           1          -901.185494    -976.602830\n",
      "0016.2001-07-06.SA_and_HP        1           1        -16874.972196  -18993.152454\n",
      "0016.2003-12-19.GP               1           1          -783.725827    -849.343110\n",
      "0016.2004-08-01.BG               1           1          -667.666867    -732.269631\n",
      "0017.1999-12-14.kaminski         0           0          -400.837238    -387.900527\n",
      "0017.2000-01-17.beck             0           0         -3386.388074   -2781.809030\n",
      "0017.2001-04-03.williams         0           0          -459.413592    -445.240552\n",
      "0017.2003-12-18.GP               1           1          -214.070194    -227.980890\n",
      "0017.2004-08-01.BG               1           1          -879.800880    -925.945486\n",
      "0017.2004-08-02.BG               1           1         -2545.282175   -2693.269015\n",
      "0018.1999-12-14.kaminski         0           0         -1031.281775   -1015.621419\n",
      "0018.2001-07-13.SA_and_HP        1           1         -3344.611784   -3583.298677\n",
      "0018.2003-12-18.GP               1           1         -3468.281340   -3690.761405\n",
      "----------------------------------------------------------------------------------\n",
      "Number of documents                      100\n",
      "Number correct predictions               100\n",
      "Error rate                              0.0%\n",
      "Number of zero probability spam            0\n",
      "Number of zero probability ham             0\n"
     ]
    }
   ],
   "source": [
    "print_results('hw2_4_output_predict2.txt')"
   ]
  },
  {
   "cell_type": "markdown",
   "metadata": {},
   "source": [
    "#### Compare the misclassifcation error rates for 2.3 versus 2.4 and explain the differences.\n",
    "\n",
    "Both error rates for 2.3 and 2.4 are zero. In 2.3, if we run into a zero probability issue, the word is completely ignored for that class's prediction. However, since we are training and testing on the same data set, we likely are missing any significant differences in the two models."
   ]
  },
  {
   "cell_type": "markdown",
   "metadata": {},
   "source": [
    "### HW2.5: Repeat HW2.4. This time when modeling and classification ignore tokens with a frequency of less than three (3) in the training set. "
   ]
  },
  {
   "cell_type": "markdown",
   "metadata": {},
   "source": [
    "#### Mapper/Reducer #1 for fitting NB\n",
    "\n",
    "Mapper:\n",
    "- Input: training documents\n",
    "- Output: (word, 1, 0) if word was in spam, otherwise (word, 0, 1)\n",
    "  - Special words: \\*alldocs, \\*docs, \\*vocab and \\*words\n",
    "  \n",
    "Reducer:\n",
    "- Input: (word, 1, 0) or (word, 0, 1)\n",
    "- Output: (word, spam count, ham count)"
   ]
  },
  {
   "cell_type": "code",
   "execution_count": 550,
   "metadata": {
    "collapsed": false
   },
   "outputs": [
    {
     "name": "stdout",
     "output_type": "stream",
     "text": [
      "Overwriting mapper.py\n"
     ]
    }
   ],
   "source": [
    "%%writefile mapper.py\n",
    "#!/usr/bin/python\n",
    "## mapper.py\n",
    "## Author: Miki Seltzer\n",
    "## Description: mapper code for HW2.5\n",
    "\n",
    "import sys\n",
    "import string\n",
    "import re\n",
    "\n",
    "counts = {\n",
    "    '*words':{\n",
    "        '1':0,\n",
    "        '0':0\n",
    "    },\n",
    "    '*docs':{\n",
    "        '1':0,\n",
    "        '0':0\n",
    "    }\n",
    "}\n",
    "total_docs = 0\n",
    "\n",
    "# Our input comes from STDIN (standard input)\n",
    "for line in sys.stdin:\n",
    "    \n",
    "    # Strip white space from line, then split into fields\n",
    "    # Replace commas with spaces (we are using commas as a delimiter as well)\n",
    "    # Remove remaining punctuation from subject and body\n",
    "    # Concatenate, then split subject and body by spaces\n",
    "    # Some records are malformed -- if there is a 4th field, use it\n",
    "    fields = line.strip().split('\\t')\n",
    "    \n",
    "    # Keep track of document counts\n",
    "    spam = fields[1]\n",
    "    counts['*docs'][spam] += 1\n",
    "    total_docs += 1\n",
    "    \n",
    "    subj = fields[2].replace(',', ' ')\n",
    "    subj = subj.translate(string.maketrans(\"\",\"\"), string.punctuation)\n",
    "    if len(fields) == 4:\n",
    "        body = fields[3].replace(',', ' ')\n",
    "        body = body.translate(string.maketrans(\"\",\"\"), string.punctuation)\n",
    "    else:\n",
    "        body = \"\"\n",
    "    words = subj + \" \" + body\n",
    "    words = words.split()\n",
    "    \n",
    "    # Loop through words\n",
    "    # If word is not trivial, write to file\n",
    "    # key = word\n",
    "    # value = 1\n",
    "    for word in words:\n",
    "        if len(word) > 0 and repr(word)[1] != '\\\\':\n",
    "            if spam == '1':\n",
    "                print \"%s\\t%s\\t%s\" % (word, 1, 0)\n",
    "            elif spam == '0':\n",
    "                print \"%s\\t%s\\t%s\" % (word, 0, 1)\n",
    "            counts['*words'][spam] += 1\n",
    "\n",
    "# At the end, output document and word counts\n",
    "for item in counts:\n",
    "    print \"%s\\t%s\\t%s\" % (item, counts[item]['1'], counts[item]['0'])\n",
    "print \"%s\\t%s\\t%s\" % ('*alldocs', total_docs, total_docs)"
   ]
  },
  {
   "cell_type": "code",
   "execution_count": 551,
   "metadata": {
    "collapsed": false
   },
   "outputs": [
    {
     "name": "stdout",
     "output_type": "stream",
     "text": [
      "Overwriting reducer.py\n"
     ]
    }
   ],
   "source": [
    "%%writefile reducer.py\n",
    "#!/usr/bin/python\n",
    "## reducer.py\n",
    "## Author: Miki Seltzer\n",
    "## Description: reducer code for HW2.5\n",
    "\n",
    "from operator import itemgetter\n",
    "import sys\n",
    "import math\n",
    "\n",
    "# Initialize some variables\n",
    "# We know that the words will be sorted\n",
    "# We need to keep track of state\n",
    "prev_word = None\n",
    "prev_spam_count = 0\n",
    "prev_ham_count = 0\n",
    "word = None\n",
    "vocab_size = 0\n",
    "\n",
    "for line in sys.stdin:\n",
    "    # Split line into fields\n",
    "    fields = line.strip().split('\\t')\n",
    "    word = fields[0]\n",
    "    spam_count = fields[1]\n",
    "    ham_count = fields[2]\n",
    "    \n",
    "    # If possible, turn count into an int (it's read as a string)\n",
    "    try:\n",
    "        spam_count = int(spam_count)\n",
    "        ham_count = int(ham_count)\n",
    "    except ValueError:\n",
    "        # We couldn't make count into an int, so move on\n",
    "        continue\n",
    "        \n",
    "    if prev_word == word:\n",
    "        # We have not moved to a new word\n",
    "        # Just update the count of this word\n",
    "        prev_spam_count += spam_count\n",
    "        prev_ham_count += ham_count\n",
    "        \n",
    "    else:\n",
    "        # We have encountered a new word!\n",
    "        # If this is the first word, we don't need to print anything\n",
    "        # Also only print the word and increment if total occurences is >= 3\n",
    "        if prev_word and prev_spam_count + prev_ham_count >= 3: \n",
    "            # Write the previous word to file\n",
    "            print '%s\\t%s\\t%s' % (prev_word, prev_spam_count, prev_ham_count)\n",
    "            if prev_word[0] != '*': vocab_size += 1\n",
    "            \n",
    "        # Now we need to initialize our variables\n",
    "        prev_word = word\n",
    "        prev_spam_count = spam_count\n",
    "        prev_ham_count = ham_count\n",
    "\n",
    "# We've reached the end of the file\n",
    "# Print the last word and counts\n",
    "print '%s\\t%s\\t%s' % (prev_word, prev_spam_count, prev_ham_count)\n",
    "if prev_word[0] != '*': vocab_size += 1\n",
    "    \n",
    "# Print the vocab size for this set of words\n",
    "print '%s\\t%s\\t%s' % ('*vocab', vocab_size, vocab_size)"
   ]
  },
  {
   "cell_type": "code",
   "execution_count": 552,
   "metadata": {
    "collapsed": false
   },
   "outputs": [
    {
     "name": "stdout",
     "output_type": "stream",
     "text": [
      "rm: `/user/miki/week02/hw2_5_output_fit1': No such file or directory\n",
      "packageJobJar: [] [/usr/jars/hadoop-streaming-2.6.0-cdh5.5.0.jar] /tmp/streamjob2782948487555149227.jar tmpDir=null\n"
     ]
    }
   ],
   "source": [
    "# Change permissions on mapper and reducer\n",
    "!chmod +x mapper.py\n",
    "!chmod +x reducer.py\n",
    "\n",
    "# Delete output folder if it exists\n",
    "!hdfs dfs -rm -r /user/miki/week02/hw2_5_output_fit1\n",
    "\n",
    "# Run job\n",
    "!hadoop jar hadoop-streaming-2.7.1.jar \\\n",
    "-input /user/miki/week02/enronemail_1h.txt \\\n",
    "-output /user/miki/week02/hw2_5_output_fit1 \\\n",
    "-mapper /home/cloudera/Documents/W261-Fall2016/Week02/mapper.py \\\n",
    "-reducer /home/cloudera/Documents/W261-Fall2016/Week02/reducer.py "
   ]
  },
  {
   "cell_type": "markdown",
   "metadata": {},
   "source": [
    "#### Note:\n",
    "\n",
    "We are working with a file that is small in size, and so there is only one reducer involved. If there were multiple reducers involved, we would need to run another reducer to sum the values of \\*vocab, since we need unique counts."
   ]
  },
  {
   "cell_type": "code",
   "execution_count": 386,
   "metadata": {
    "collapsed": false
   },
   "outputs": [],
   "source": [
    "#!hdfs dfs -cat /user/miki/week02/hw2_5_output_fit1/part-00000"
   ]
  },
  {
   "cell_type": "markdown",
   "metadata": {},
   "source": [
    "#### Mapper/Reducer #1 for predicting NB\n",
    "\n",
    "Mapper:\n",
    "- Input from fit: (word, spam count, ham count)\n",
    "- Output: (word, spam count, ham count)\n",
    "- Input testing document: (document ID, cat, subj, body)\n",
    "- Output: (word, cat, document ID)\n",
    "\n",
    "Reducer:\n",
    "- Input: (word, spam count, ham count)\n",
    "- Input: (word, cat, document ID)\n",
    "- Output: (document ID, cat, word, spam count, ham count)"
   ]
  },
  {
   "cell_type": "code",
   "execution_count": 553,
   "metadata": {
    "collapsed": false
   },
   "outputs": [
    {
     "name": "stdout",
     "output_type": "stream",
     "text": [
      "Overwriting mapper.py\n"
     ]
    }
   ],
   "source": [
    "%%writefile mapper.py\n",
    "#!/usr/bin/python\n",
    "## mapper.py\n",
    "## Author: Miki Seltzer\n",
    "## Description: mapper code for HW2.5\n",
    "\n",
    "import sys\n",
    "import string\n",
    "import re\n",
    "\n",
    "# Our input comes from STDIN (standard input)\n",
    "for line in sys.stdin:\n",
    "    \n",
    "    # Strip white space from line, then split into fields    \n",
    "    fields = line.strip().split('\\t')\n",
    "    \n",
    "    # If first field matches pattern of document ID, tokenize words\n",
    "    pattern = re.compile('^\\d{4}.\\d{4}-\\d{2}-\\d{2}\\.\\w+')\n",
    "    if pattern.match(fields[0]):\n",
    "        # Keep track of document counts\n",
    "        doc_id = fields[0]\n",
    "        spam = fields[1]\n",
    "\n",
    "        # We are always going to need the doc/word counts for each document\n",
    "        print '%s^%s^%s' % ('*alldocs', spam, doc_id)\n",
    "        print '%s^%s^%s' % ('*docs', spam, doc_id)\n",
    "        print '%s^%s^%s' % ('*words', spam, doc_id)\n",
    "        print '%s^%s^%s' % ('*vocab', spam, doc_id)\n",
    "        \n",
    "        # Replace commas with spaces (we are using commas as a delimiter as well)\n",
    "        # Remove remaining punctuation from subject and body\n",
    "        # Concatenate, then split subject and body by spaces\n",
    "        # Some records are malformed -- if there is a 4th field, use it\n",
    "        subj = fields[2].replace(',', ' ')\n",
    "        subj = subj.translate(string.maketrans(\"\",\"\"), string.punctuation)\n",
    "        if len(fields) == 4:\n",
    "            body = fields[3].replace(',', ' ')\n",
    "            body = body.translate(string.maketrans(\"\",\"\"), string.punctuation)\n",
    "        else:\n",
    "            body = \"\"\n",
    "        words = subj + \" \" + body\n",
    "        words = words.split()\n",
    "\n",
    "        # Loop through words\n",
    "        # If word is not trivial, write to file\n",
    "        # key = word\n",
    "        # value = doc_id\n",
    "        for word in words:\n",
    "            if len(word) > 0 and repr(word)[1] != '\\\\':\n",
    "                print '%s^%s^%s' % (word, spam, doc_id)\n",
    "    else:\n",
    "        # Now we know that the record is the\n",
    "        #   output of the previous MapReduce job\n",
    "        #   not the doc we are classifying\n",
    "        # We append the spam_count with a * so that it comes first\n",
    "        # We need the overall spam/ham word counts with each word in the doc\n",
    "        word = fields[0]\n",
    "        spam_count = fields[1]\n",
    "        ham_count = fields[2]\n",
    "        print '%s^%s^%s' % (word, '*' + spam_count, ham_count)\n"
   ]
  },
  {
   "cell_type": "code",
   "execution_count": 554,
   "metadata": {
    "collapsed": false
   },
   "outputs": [
    {
     "name": "stdout",
     "output_type": "stream",
     "text": [
      "Overwriting reducer.py\n"
     ]
    }
   ],
   "source": [
    "%%writefile reducer.py\n",
    "#!/usr/bin/python\n",
    "## reducer.py\n",
    "## Author: Miki Seltzer\n",
    "## Description: reducer code for HW2.5\n",
    "\n",
    "from operator import itemgetter\n",
    "import sys\n",
    "import math\n",
    "import re\n",
    "\n",
    "# Initialize some variables\n",
    "spam_count = 0\n",
    "ham_count = 0\n",
    "\n",
    "for line in sys.stdin:\n",
    "    # Strip and split line\n",
    "    key, value = line.strip().split('\\t')\n",
    "    word, field1 = key.split('^')\n",
    "\n",
    "    # If field1 starts with a *, we know that it is the spam and ham counts\n",
    "    if field1[0] == '*':\n",
    "        # This record will be of the form (word field1=*spam_count value=ham_count)\n",
    "        try:\n",
    "            spam_count = int(field1.replace('*',''))\n",
    "            ham_count = int(value)\n",
    "        except ValueError:\n",
    "            continue\n",
    "    \n",
    "    else:\n",
    "        # Now we know that it is a doc_id record\n",
    "        # This record will be of the form (word field1=cat value=doc_id)\n",
    "        pattern = re.compile('^\\d{4}.\\d{4}-\\d{2}-\\d{2}\\.\\w+')\n",
    "        if pattern.match(value):\n",
    "            doc_id = value\n",
    "        print '%s\\t%s\\t%s\\t%s\\t%s' % (doc_id, field1, word, spam_count, ham_count)"
   ]
  },
  {
   "cell_type": "code",
   "execution_count": 555,
   "metadata": {
    "collapsed": false
   },
   "outputs": [
    {
     "name": "stdout",
     "output_type": "stream",
     "text": [
      "rm: `/user/miki/week02/hw2_5_output_predict1': No such file or directory\n",
      "packageJobJar: [] [/usr/jars/hadoop-streaming-2.6.0-cdh5.5.0.jar] /tmp/streamjob2643183505328283945.jar tmpDir=null\n"
     ]
    }
   ],
   "source": [
    "# Change permissions on mapper and reducer\n",
    "!chmod +x mapper.py\n",
    "!chmod +x reducer.py\n",
    "\n",
    "# Delete output folder if it exists\n",
    "!hdfs dfs -rm -r /user/miki/week02/hw2_5_output_predict1\n",
    "\n",
    "# Run job\n",
    "!hadoop jar hadoop-streaming-2.7.1.jar \\\n",
    "-D stream.map.output.field.separator=^ \\\n",
    "-D stream.num.map.output.key.fields=2 \\\n",
    "-D mapreduce.map.output.key.field.separator=^ \\\n",
    "-D mapreduce.partition.keypartitioner.options=-k1,1 \\\n",
    "-input /user/miki/week02/enronemail_1h.txt \\\n",
    "-input /user/miki/week02/hw2_5_output_fit1 \\\n",
    "-output /user/miki/week02/hw2_5_output_predict1 \\\n",
    "-mapper /home/cloudera/Documents/W261-Fall2016/Week02/mapper.py \\\n",
    "-reducer /home/cloudera/Documents/W261-Fall2016/Week02/reducer.py "
   ]
  },
  {
   "cell_type": "code",
   "execution_count": 423,
   "metadata": {
    "collapsed": false
   },
   "outputs": [],
   "source": [
    "#!hdfs dfs -cat /user/miki/week02/hw2_5_output_predict1/part-00000"
   ]
  },
  {
   "cell_type": "markdown",
   "metadata": {},
   "source": [
    "#### Mapper/Reducer #2 for predicting NB\n",
    "\n",
    "Mapper:\n",
    "- Input from predict1: (doc_id, cat, word, spam count, ham count)\n",
    "- Output: identity\n",
    "\n",
    "Reducer:\n",
    "- Input: (doc_id, cat, word, spam count, ham count)\n",
    "- Output: (doc_id, cat, prediction, spam log prob, ham log prob)"
   ]
  },
  {
   "cell_type": "code",
   "execution_count": 556,
   "metadata": {
    "collapsed": false
   },
   "outputs": [
    {
     "name": "stdout",
     "output_type": "stream",
     "text": [
      "Overwriting mapper.py\n"
     ]
    }
   ],
   "source": [
    "%%writefile mapper.py\n",
    "#!/usr/bin/python\n",
    "## mapper.py\n",
    "## Author: Miki Seltzer\n",
    "## Description: mapper code for HW2.5\n",
    "\n",
    "import sys\n",
    "import string\n",
    "import re\n",
    "\n",
    "# Our input comes from STDIN (standard input)\n",
    "for line in sys.stdin:\n",
    "    \n",
    "    # Replace delimiter\n",
    "    line = line.replace('\\n', '')\n",
    "    fields = line.split('\\t')\n",
    "    print '%s^%s^%s^%s^%s' % (fields[0], fields[1], fields[2], fields[3], fields[4])"
   ]
  },
  {
   "cell_type": "code",
   "execution_count": 557,
   "metadata": {
    "collapsed": false
   },
   "outputs": [
    {
     "name": "stdout",
     "output_type": "stream",
     "text": [
      "Overwriting reducer.py\n"
     ]
    }
   ],
   "source": [
    "%%writefile reducer.py\n",
    "#!/usr/bin/python\n",
    "## reducer.py\n",
    "## Author: Miki Seltzer\n",
    "## Description: reducer code for HW2.5\n",
    "\n",
    "from operator import itemgetter\n",
    "import sys\n",
    "import math\n",
    "import re\n",
    "\n",
    "# Initialize some variables\n",
    "doc = None\n",
    "spam = None\n",
    "count = 1\n",
    "class_count = {'1':0, '0':0}\n",
    "word = None\n",
    "\n",
    "prev_doc = None\n",
    "prev_spam = None\n",
    "prev_count = 1\n",
    "prev_class_count = {'1':0, '0':0}\n",
    "prev_word = None\n",
    "\n",
    "vocab = 0\n",
    "docs_total = 0\n",
    "docs = {'1':0, '0':0}\n",
    "words_total = 0\n",
    "words = {'1':0, '0':0}\n",
    "log_prior = {'1':0, '0':0}\n",
    "log_posterior = {'1':0, '0':0}\n",
    "log_likelihood = {'1':0, '0':0}\n",
    "\n",
    "classes = {'1':'spam', '0':'ham'}\n",
    "num_errors = {'1':0, '0':0}\n",
    "num_total = 0.0\n",
    "num_correct = 0.0\n",
    "\n",
    "print_debug = False\n",
    "\n",
    "# Create a function to update the posterior\n",
    "# since we need to do it in multiple locations.\n",
    "# We don't want to duplicate code\n",
    "def update_posterior():\n",
    "    for item in classes:\n",
    "        # This is where we incorporate smoothing\n",
    "        log_likelihood[item] = math.log((1 + prev_class_count[item]) / (vocab + words[item]))\n",
    "        log_posterior[item] += prev_count * log_likelihood[item]\n",
    "        if print_debug:\n",
    "            print \"updated log posterior:\", log_posterior[item]\n",
    "            print '\\n'\n",
    "\n",
    "def make_prediction(): \n",
    "    global num_total, num_correct\n",
    "    \n",
    "    # We can compare non-normalized posterior probabilities\n",
    "    num_total += 1\n",
    "    if log_posterior['1'] > log_posterior['0']: prediction = '1'\n",
    "    else: prediction = '0'\n",
    "\n",
    "    # Count correct guesses\n",
    "    if prev_spam == prediction:\n",
    "        num_correct += 1\n",
    "        \n",
    "    # Remember we need to normalize the posteriors\n",
    "    print '%s\\t%s\\t%s\\t%s\\t%s\\n' % (prev_doc, prev_spam, prediction, \n",
    "                                    log_posterior['1'],\n",
    "                                    log_posterior['0'])\n",
    "\n",
    "for line in sys.stdin:\n",
    "    # Strip and split line\n",
    "    # Assign variables\n",
    "    line = line.replace('\\n', '')\n",
    "    #doc, spam, word, count['1'], count['0'] = line.split('\\t')\n",
    "    key, value = line.strip().split('\\t')\n",
    "    doc, spam, word = key.split('^')\n",
    "    class_count['1'], class_count['0'] = value.split('^')    \n",
    "\n",
    "    # Keep this in a try/except statement so we don't fail\n",
    "    try:\n",
    "        for item in classes:\n",
    "            class_count[item] = float(class_count[item])\n",
    "    except ValueError:\n",
    "        continue\n",
    "\n",
    "    # Let's calculate some probabilities\n",
    "    if prev_doc == doc:\n",
    "        # We haven't changed documents\n",
    "        if prev_word == word:\n",
    "            # We haven't changed words, so just increment\n",
    "            prev_count += 1\n",
    "\n",
    "        else:\n",
    "            # We are at a new word\n",
    "            # We need to check if we are at a keyword\n",
    "            if print_debug: print '\\n', prev_word, '\\n'\n",
    "            if prev_word == '*alldocs': \n",
    "                # We are at a record where we need to output total docs\n",
    "                docs_total = prev_class_count['1']\n",
    "                if print_debug: print \"total docs:\", docs_total\n",
    "\n",
    "            elif prev_word == '*docs': \n",
    "                # We are at a record where we need to output unique docs per class\n",
    "                for item in classes:\n",
    "                    docs[item] = prev_class_count[item]\n",
    "                for item in classes:\n",
    "                    if print_debug: print \"prior\", item, docs[item], '/', docs_total\n",
    "                    log_prior[item] = math.log(docs[item] / docs_total)\n",
    "\n",
    "                    # We will update the posterior after each word\n",
    "                    # Initialize it to the prior\n",
    "                    log_posterior[item] = math.log(docs[item] / docs_total)\n",
    "                if print_debug: \n",
    "                    print \"log prior:\", log_prior\n",
    "                    print 'log posterior initial', log_posterior\n",
    "\n",
    "            elif prev_word == '*words':\n",
    "                # We are at a record where we need to output words per class\n",
    "                for item in classes:\n",
    "                    words[item] = prev_class_count[item]\n",
    "                words_total = sum(prev_class_count.values())\n",
    "                if print_debug: print \"word class_count:\", words\n",
    "                                \n",
    "            elif prev_word == '*vocab':\n",
    "                # We are at a record where we need to output the vocab size\n",
    "                vocab = prev_class_count['1']\n",
    "                if print_debug: print \"vocab size:\", vocab\n",
    "\n",
    "            elif prev_word:\n",
    "                # We are at a new normal word, and need to calculate stuff\n",
    "                update_posterior()\n",
    "\n",
    "            prev_word = word\n",
    "            prev_count = 1\n",
    "            for item in classes:\n",
    "                prev_class_count[item] = class_count[item]\n",
    "\n",
    "    else:\n",
    "        # We are done with one document. We need to: \n",
    "        # - process the last word\n",
    "        # - output our predictions\n",
    "        if prev_doc:\n",
    "            if print_debug: print '\\n', prev_word, '\\n'\n",
    "            # We are at a new normal word, and need to calculate stuff\n",
    "            update_posterior()\n",
    "\n",
    "            # Now we can calculate the prediction\n",
    "            make_prediction()\n",
    "            if print_debug: print num_correct, \"out of\", num_total\n",
    "\n",
    "        prev_doc = doc\n",
    "        prev_spam = spam\n",
    "        prev_word = word\n",
    "        for item in classes:\n",
    "            prev_class_count[item] = class_count[item]\n",
    "        log_likelihood = {'1':0, '0':0}\n",
    "        if print_debug: print \"reset log likelihood\"\n",
    "\n",
    "# Output our final prediction\n",
    "if print_debug: print '\\n', prev_word, '\\n'\n",
    "update_posterior()\n",
    "make_prediction()\n",
    "\n",
    "print \"Number of documents\\t%d\" % (num_total)\n",
    "print \"Number correct predictions\\t%d\" % (num_correct)\n",
    "print \"Error rate\\t%s\" % (100 - 100 * num_correct / num_total) + \"%\"\n",
    "print \"Number of zero probability spam\\t%d\" % (num_errors['1'])\n",
    "print \"Number of zero probability ham\\t%d\" % (num_errors['0'])"
   ]
  },
  {
   "cell_type": "code",
   "execution_count": 558,
   "metadata": {
    "collapsed": false
   },
   "outputs": [
    {
     "name": "stdout",
     "output_type": "stream",
     "text": [
      "rm: `/user/miki/week02/hw2_5_output_predict2': No such file or directory\n",
      "packageJobJar: [] [/usr/jars/hadoop-streaming-2.6.0-cdh5.5.0.jar] /tmp/streamjob4882416490496642420.jar tmpDir=null\n"
     ]
    }
   ],
   "source": [
    "# Change permissions on mapper and reducer\n",
    "!chmod +x mapper.py\n",
    "!chmod +x reducer.py\n",
    "\n",
    "# Delete output folder if it exists\n",
    "!hdfs dfs -rm -r /user/miki/week02/hw2_5_output_predict2\n",
    "\n",
    "# Run job\n",
    "!hadoop jar hadoop-streaming-2.7.1.jar \\\n",
    "-D stream.map.output.field.separator=^ \\\n",
    "-D stream.num.map.output.key.fields=3 \\\n",
    "-D mapreduce.map.output.key.field.separator=^ \\\n",
    "-D mapreduce.partition.keypartitioner.options=-k1,2 \\\n",
    "-input /user/miki/week02/hw2_5_output_predict1/part* \\\n",
    "-output /user/miki/week02/hw2_5_output_predict2 \\\n",
    "-mapper /home/cloudera/Documents/W261-Fall2016/Week02/mapper.py \\\n",
    "-reducer /home/cloudera/Documents/W261-Fall2016/Week02/reducer.py "
   ]
  },
  {
   "cell_type": "code",
   "execution_count": 449,
   "metadata": {
    "collapsed": false
   },
   "outputs": [],
   "source": [
    "#!hdfs dfs -cat /user/miki/week02/hw2_4_output_predict2/part-00000"
   ]
  },
  {
   "cell_type": "code",
   "execution_count": 559,
   "metadata": {
    "collapsed": false
   },
   "outputs": [
    {
     "name": "stdout",
     "output_type": "stream",
     "text": [
      "rm: cannot remove `hw2_5_output_predict2.txt': No such file or directory\r\n"
     ]
    }
   ],
   "source": [
    "# Copy files from HDFS\n",
    "!rm hw2_5_output_predict2.txt\n",
    "!hdfs dfs -copyToLocal /user/miki/week02/hw2_5_output_predict2/part-00000 \\\n",
    "hw2_5_output_predict2.txt"
   ]
  },
  {
   "cell_type": "code",
   "execution_count": 560,
   "metadata": {
    "collapsed": false
   },
   "outputs": [
    {
     "name": "stdout",
     "output_type": "stream",
     "text": [
      "Document                       Truth     Predicted    Log Prob Spam   Log Prob Ham\n",
      "----------------------------------------------------------------------------------\n",
      "0001.1999-12-10.farmer           0           0           -44.424640     -42.613368\n",
      "0001.1999-12-10.kaminski         0           0           -31.452532     -27.260891\n",
      "0001.2000-01-17.beck             0           0         -3598.936015   -3274.082617\n",
      "0001.2000-06-06.lokay            0           0         -3875.694850   -3453.212023\n",
      "0001.2001-02-07.kitchen          0           0          -335.955246    -296.184093\n",
      "0001.2001-04-02.williams         0           0         -1341.716585   -1306.951502\n",
      "0002.1999-12-13.farmer           0           0         -2920.512866   -2632.211214\n",
      "0002.2001-02-07.kitchen          0           0          -442.933630    -429.812761\n",
      "0002.2001-05-25.SA_and_HP        1           1          -557.808327    -603.814689\n",
      "0002.2003-12-18.GP               1           1         -1204.417793   -1306.522525\n",
      "0002.2004-08-01.BG               1           1          -835.613746    -859.399974\n",
      "0003.1999-12-10.kaminski         0           0          -434.300198    -382.087869\n",
      "0003.1999-12-14.farmer           0           0           -95.175993     -77.208533\n",
      "0003.2000-01-17.beck             0           0         -1379.905343   -1201.880769\n",
      "0003.2001-02-08.kitchen          0           0         -1323.000068   -1190.590384\n",
      "0003.2003-12-18.GP               1           1          -821.815748    -852.632599\n",
      "0003.2004-08-01.BG               1           1          -737.808892    -770.468459\n",
      "0004.1999-12-10.kaminski         0           0         -1160.276052   -1056.478168\n",
      "0004.1999-12-14.farmer           0           0         -1112.765453    -931.258646\n",
      "0004.2001-04-02.williams         0           0          -656.483733    -621.575841\n",
      "0004.2001-06-12.SA_and_HP        1           1          -875.415235    -938.920257\n",
      "0004.2004-08-01.BG               1           1          -710.704854    -725.537945\n",
      "0005.1999-12-12.kaminski         0           0          -815.819945    -722.819487\n",
      "0005.1999-12-14.farmer           0           0         -1125.633166    -934.918951\n",
      "0005.2000-06-06.lokay            0           0          -403.459322    -395.599011\n",
      "0005.2001-02-08.kitchen          0           0          -846.763217    -789.866214\n",
      "0005.2001-06-23.SA_and_HP        1           1          -184.955797    -190.508349\n",
      "0005.2003-12-18.GP               1           1         -7228.083454   -7613.494918\n",
      "0006.1999-12-13.kaminski         0           0          -498.333505    -475.940658\n",
      "0006.2001-02-08.kitchen          0           0        -10033.359305   -9300.740920\n",
      "0006.2001-04-03.williams         0           0          -297.426675    -296.371846\n",
      "0006.2001-06-25.SA_and_HP        1           1          -358.436560    -373.939080\n",
      "0006.2003-12-18.GP               1           1         -1050.879077   -1076.660308\n",
      "0006.2004-08-01.BG               1           1         -1004.798750   -1019.975163\n",
      "0007.1999-12-13.kaminski         0           0         -1540.752163   -1431.276776\n",
      "0007.1999-12-14.farmer           0           0          -721.798885    -660.155784\n",
      "0007.2000-01-17.beck             0           0         -3311.282016   -2682.726591\n",
      "0007.2001-02-09.kitchen          0           0         -1758.827907   -1614.740056\n",
      "0007.2003-12-18.GP               1           1         -1182.059129   -1193.319263\n",
      "0007.2004-08-01.BG               1           1         -1424.873267   -1624.217221\n",
      "0008.2001-02-09.kitchen          0           0         -4041.394059   -3764.164598\n",
      "0008.2001-06-12.SA_and_HP        1           1          -875.415235    -938.920257\n",
      "0008.2001-06-25.SA_and_HP        1           1         -4065.914107   -4535.992688\n",
      "0008.2003-12-18.GP               1           1          -965.834962   -1054.462410\n",
      "0008.2004-08-01.BG               1           1         -5613.892996   -5764.696265\n",
      "0009.1999-12-13.kaminski         0           0         -6498.349486   -5279.299185\n",
      "0009.1999-12-14.farmer           0           0          -528.331486    -469.267517\n",
      "0009.2000-06-07.lokay            0           0         -2898.471607   -2600.749354\n",
      "0009.2001-02-09.kitchen          0           0         -5962.670288   -5398.636652\n",
      "0009.2001-06-26.SA_and_HP        1           1         -1213.824073   -1287.577931\n",
      "0009.2003-12-18.GP               1           1          -730.287374    -743.059058\n",
      "0010.1999-12-14.farmer           0           0         -1335.012059   -1151.571769\n",
      "0010.1999-12-14.kaminski         0           0          -216.279935    -195.318687\n",
      "0010.2001-02-09.kitchen          0           0         -3224.382789   -2885.254294\n",
      "0010.2001-06-28.SA_and_HP        1           1         -3328.419593   -3611.098895\n",
      "0010.2003-12-18.GP               1           0           -51.116624     -50.529014\n",
      "0010.2004-08-01.BG               1           1         -2207.539609   -2411.879233\n",
      "0011.1999-12-14.farmer           0           0         -2024.401813   -1857.150668\n",
      "0011.2001-06-28.SA_and_HP        1           1         -3320.705958   -3601.478500\n",
      "0011.2001-06-29.SA_and_HP        1           1        -15328.604186  -16862.477569\n",
      "0011.2003-12-18.GP               1           1          -492.070730    -533.478831\n",
      "0011.2004-08-01.BG               1           1          -655.543123    -674.458708\n",
      "0012.1999-12-14.farmer           0           0         -3334.555392   -3008.349057\n",
      "0012.1999-12-14.kaminski         0           0         -1056.490082    -843.793004\n",
      "0012.2000-01-17.beck             0           0         -3299.876648   -2676.958826\n",
      "0012.2000-06-08.lokay            0           0          -894.996749    -877.669050\n",
      "0012.2001-02-09.kitchen          0           0          -495.757675    -466.407578\n",
      "0012.2003-12-19.GP               1           1          -150.399908    -157.325333\n",
      "0013.1999-12-14.farmer           0           0         -1903.460494   -1757.662326\n",
      "0013.1999-12-14.kaminski         0           0         -1371.297888   -1125.764257\n",
      "0013.2001-04-03.williams         0           0          -654.372571    -639.232189\n",
      "0013.2001-06-30.SA_and_HP        1           1        -27830.855180  -30674.764534\n",
      "0013.2004-08-01.BG               1           1         -1452.708756   -1497.310172\n",
      "0014.1999-12-14.kaminski         0           0         -1883.609416   -1609.104483\n",
      "0014.1999-12-15.farmer           0           0         -1145.060046   -1037.009348\n",
      "0014.2001-02-12.kitchen          0           0         -1365.168002   -1252.619726\n",
      "0014.2001-07-04.SA_and_HP        1           1         -3389.997853   -3622.513565\n",
      "0014.2003-12-19.GP               1           1          -155.268988    -160.070641\n",
      "0014.2004-08-01.BG               1           1          -750.181112    -754.083771\n",
      "0015.1999-12-14.kaminski         0           0          -570.957454    -524.335361\n",
      "0015.1999-12-15.farmer           0           0          -792.414609    -697.051165\n",
      "0015.2000-06-09.lokay            0           0          -133.201724    -127.517282\n",
      "0015.2001-02-12.kitchen          0           0         -5299.632245   -4851.380603\n",
      "0015.2001-07-05.SA_and_HP        1           1          -873.814252    -942.811729\n",
      "0015.2003-12-19.GP               1           1         -1242.483622   -1328.421822\n",
      "0016.1999-12-15.farmer           0           0          -743.657300    -690.008458\n",
      "0016.2001-02-12.kitchen          0           0         -1237.519292   -1104.917834\n",
      "0016.2001-07-05.SA_and_HP        1           1          -873.814252    -942.811729\n",
      "0016.2001-07-06.SA_and_HP        1           1        -16330.267756  -18189.205604\n",
      "0016.2003-12-19.GP               1           1          -753.579285    -761.725704\n",
      "0016.2004-08-01.BG               1           1          -652.008959    -691.922618\n",
      "0017.1999-12-14.kaminski         0           0          -385.138107    -372.492804\n",
      "0017.2000-01-17.beck             0           0         -3310.886121   -2684.787462\n",
      "0017.2001-04-03.williams         0           0          -437.647386    -427.120973\n",
      "0017.2003-12-18.GP               1           1          -201.116384    -215.062958\n",
      "0017.2004-08-01.BG               1           0          -830.829440    -802.159866\n",
      "0017.2004-08-02.BG               1           1         -2450.745605   -2536.370610\n",
      "0018.1999-12-14.kaminski         0           0          -978.129008    -976.182721\n",
      "0018.2001-07-13.SA_and_HP        1           1         -3220.289039   -3388.497833\n",
      "0018.2003-12-18.GP               1           1         -3347.252559   -3474.140743\n",
      "----------------------------------------------------------------------------------\n",
      "Number of documents                      100\n",
      "Number correct predictions                98\n",
      "Error rate                              2.0%\n",
      "Number of zero probability spam            0\n",
      "Number of zero probability ham             0\n"
     ]
    }
   ],
   "source": [
    "print_results('hw2_5_output_predict2.txt')"
   ]
  },
  {
   "cell_type": "markdown",
   "metadata": {},
   "source": [
    "#### How does it affect the misclassifcation error of learnt naive multinomial Bayesian Classifier on the training dataset?\n",
    "\n",
    "Excluding words that occur fewer than three times increases our error rate to 2%. This is because we are excluding information from our model, so there is more chance for the model to make a mistake. However, including all of the information can be considered a form of overfitting, so removing these rarely-occurring words may make the model more robust."
   ]
  },
  {
   "cell_type": "markdown",
   "metadata": {},
   "source": [
    "### HW2.6: Benchmark your code with the Python SciKit-Learn implementation of the multinomial Naive Bayes algorithm"
   ]
  },
  {
   "cell_type": "markdown",
   "metadata": {},
   "source": [
    "- Run the Multinomial Naive Bayes algorithm (using default settings) from SciKit-Learn over the same training data used in HW2.5 and report the misclassification error (please note some data preparation might be needed to get the Multinomial Naive Bayes algorithm from SkiKit-Learn to run over this dataset)\n",
    "- Prepare a table to present your results, where rows correspond to approach used (SciKit-Learn versus your Hadoop implementation) and the column presents the training misclassification error"
   ]
  },
  {
   "cell_type": "code",
   "execution_count": 561,
   "metadata": {
    "collapsed": true
   },
   "outputs": [],
   "source": [
    "# General libraries\n",
    "from __future__ import division\n",
    "\n",
    "# SK-learn libraries for learning\n",
    "from sklearn.pipeline import Pipeline\n",
    "from sklearn.naive_bayes import MultinomialNB\n",
    "from sklearn.naive_bayes import BernoulliNB\n",
    "\n",
    "# SK-learn libraries for feature extraction from text.\n",
    "from sklearn.feature_extraction.text import *"
   ]
  },
  {
   "cell_type": "code",
   "execution_count": 562,
   "metadata": {
    "collapsed": false
   },
   "outputs": [
    {
     "name": "stdout",
     "output_type": "stream",
     "text": [
      "(100,) (100,)\n"
     ]
    }
   ],
   "source": [
    "# Read data in and create data and label arrays\n",
    "ids, X, Y = [], [], []\n",
    "\n",
    "with open('enronemail_1h.txt', 'r') as myfile:\n",
    "    for line in myfile:\n",
    "        fields = line.split(\"\\t\")\n",
    "        \n",
    "        # Some records are malformed, so make sure that we take the right fields\n",
    "        subj, body = \"\", \"\"\n",
    "        \n",
    "        if len(fields) >= 3:\n",
    "            subj = fields[2]\n",
    "        if len(fields) >= 4:\n",
    "            body = fields[3]\n",
    "\n",
    "        text = subj + \" \" + body\n",
    "        text = text.replace(\"\\n\", \"\")\n",
    "        X.append(text)\n",
    "        Y.append(fields[1])\n",
    "        ids.append(fields[0])\n",
    "\n",
    "# Convert these to numpy arrays\n",
    "X = np.array(X)\n",
    "Y = np.array(Y)\n",
    "\n",
    "# Check that the shapes look correct\n",
    "print X.shape, Y.shape"
   ]
  },
  {
   "cell_type": "code",
   "execution_count": 621,
   "metadata": {
    "collapsed": false
   },
   "outputs": [
    {
     "name": "stdout",
     "output_type": "stream",
     "text": [
      "[-0.5798185  -0.82098055]\n",
      "Method                    Error\n",
      "--------------------------------\n",
      "SK-learn with alpha=1        0%\n",
      "SK-learn with min_df=3       4%\n",
      "HW2.3 (no smoothing)         0%\n",
      "HW2.4 (+1 smoothing)         0%\n",
      "HW2.5 (drop words <3)        2%\n"
     ]
    }
   ],
   "source": [
    "def hw2_6():\n",
    "    train_errors = []\n",
    "    \n",
    "    ##### MULTINOMIAL NB\n",
    "    # Create Pipeline to get feature vectors and train\n",
    "    # Use CountVectorizer to get feature arrays\n",
    "    # Classify using Multinomial NB\n",
    "    mnb_pipe = Pipeline([('vect', CountVectorizer()),\n",
    "                         ('clf', MultinomialNB()),\n",
    "                        ])\n",
    "\n",
    "    # Fit training data and labels\n",
    "    mnb_pipe.fit(X, Y)\n",
    "\n",
    "    # Print training error\n",
    "    mnb_predictions = mnb_pipe.predict(X)\n",
    "    train_errors.append([\"SK-learn with alpha=1\",sum(mnb_predictions != Y) / Y.size])\n",
    "    \n",
    "    ##### MULTINOMIAL NB WITH MIN_DF\n",
    "    # This should exclude words that do not meet a minimum frequency\n",
    "    \n",
    "    mnb_pipe.set_params(vect__min_df=3, clf__fit_prior=True)\n",
    "    \n",
    "    # Fit training data and labels\n",
    "    mnb_pipe.fit(X, Y)\n",
    "    \n",
    "    # Print training error\n",
    "    mnb_predictions = mnb_pipe.predict(X)\n",
    "    train_errors.append([\"SK-learn with min_df=3\",sum(mnb_predictions != Y) / Y.size])\n",
    "    \n",
    "    \n",
    "    ##### CLASSIFIER in HW2.3\n",
    "    # Read output from results\n",
    "    \n",
    "    incorrect = 0.0\n",
    "    total = 0.0\n",
    "\n",
    "    # Read in data from text file\n",
    "    with open('hw2_3_output_predict2.txt', 'r') as myfile:\n",
    "        for line in myfile:\n",
    "            fields = line.split()\n",
    "\n",
    "            # Only look at records that have a doc_id as the first field\n",
    "            pattern = re.compile('^\\d{4}.\\d{4}-\\d{2}-\\d{2}\\.\\w+')\n",
    "            try:\n",
    "                key = fields[0]\n",
    "            except:\n",
    "                continue\n",
    "            if pattern.match(fields[0]):\n",
    "                total += 1\n",
    "                if fields[1] != fields[2]: incorrect += 1\n",
    "    \n",
    "    train_errors.append([\"HW2.3 (no smoothing)\",incorrect/total])\n",
    "    \n",
    "    \n",
    "    ##### CLASSIFIER in HW2.4\n",
    "    # Read output from results\n",
    "    \n",
    "    incorrect = 0.0\n",
    "    total = 0.0\n",
    "\n",
    "    # Read in data from text file\n",
    "    with open('hw2_4_output_predict2.txt', 'r') as myfile:\n",
    "        for line in myfile:\n",
    "            fields = line.split()\n",
    "\n",
    "            # Only look at records that have a doc_id as the first field\n",
    "            pattern = re.compile('^\\d{4}.\\d{4}-\\d{2}-\\d{2}\\.\\w+')\n",
    "            try:\n",
    "                key = fields[0]\n",
    "            except:\n",
    "                continue\n",
    "            if pattern.match(fields[0]):\n",
    "                total += 1\n",
    "                if fields[1] != fields[2]: incorrect += 1\n",
    "    \n",
    "    train_errors.append([\"HW2.4 (+1 smoothing)\",incorrect/total])\n",
    "    \n",
    "    ##### CLASSIFIER in HW2.5\n",
    "    # Read output from results\n",
    "    \n",
    "    incorrect = 0.0\n",
    "    total = 0.0\n",
    "\n",
    "    # Read in data from text file\n",
    "    with open('hw2_5_output_predict2.txt', 'r') as myfile:\n",
    "        for line in myfile:\n",
    "            fields = line.split()\n",
    "\n",
    "            # Only look at records that have a doc_id as the first field\n",
    "            pattern = re.compile('^\\d{4}.\\d{4}-\\d{2}-\\d{2}\\.\\w+')\n",
    "            try:\n",
    "                key = fields[0]\n",
    "            except:\n",
    "                continue\n",
    "            if pattern.match(fields[0]):\n",
    "                total += 1\n",
    "                if fields[1] != fields[2]: incorrect += 1\n",
    "    \n",
    "    train_errors.append([\"HW2.5 (drop words <3)\",incorrect/total])\n",
    "    \n",
    "    ##### TABLE OF TRAINING ERRORS\n",
    "    print \"{:<25s}{:>6s}\".format(\"Method\", \"Error\")\n",
    "    print \"--------------------------------\"\n",
    "    for method in train_errors:\n",
    "        print \"{:<25s}{:>6.0%}\".format(method[0], method[1])\n",
    "    \n",
    "hw2_6()"
   ]
  },
  {
   "cell_type": "markdown",
   "metadata": {},
   "source": [
    "#### Explain/justify any differences in terms of training error rates over the dataset in HW2.5 between your Multinomial Naive Bayes implementation (in Map Reduce) versus the Multinomial Naive Bayes implementation in SciKit-Learn\n",
    "\n",
    "We can compare the default SK-learn MultinomialNB classifier with alpha=1 to ours in question 2.4 (Laplace +1 smoothing). In both of these classifiers, the error rate is 0%.\n",
    "\n",
    "We can also compare the SK-learn classifier with min_df=3 to our classifier in question 2.5. In this case, the SK-learn classifier has a 4% error rate, while ours has a 2% error rate. There may be difference in the way that the words are tokenized (in SK-learn, I used CountVectorizer with min_df=3).\n",
    "\n",
    "By default, SK-learn does not fit a prior probability, but instead uses a uniform prior probability."
   ]
  }
 ],
 "metadata": {
  "kernelspec": {
   "display_name": "Python 2",
   "language": "python",
   "name": "python2"
  },
  "language_info": {
   "codemirror_mode": {
    "name": "ipython",
    "version": 2
   },
   "file_extension": ".py",
   "mimetype": "text/x-python",
   "name": "python",
   "nbconvert_exporter": "python",
   "pygments_lexer": "ipython2",
   "version": "2.7.11"
  }
 },
 "nbformat": 4,
 "nbformat_minor": 0
}
