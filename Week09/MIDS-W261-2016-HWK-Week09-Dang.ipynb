{
 "cells": [
  {
   "cell_type": "markdown",
   "metadata": {},
   "source": [
    "* **Student**: Minhchau Dang\n",
    "* **Email Address**: minhchau.dang@berkeley.edu\n",
    "* **Course**: 2016-0111 DATASCI W261: Machine Learning at Scale\n",
    "* **Section**: Spring 2016, Section 2\n",
    "* **Assignment**: Homework 9, Week 9\n",
    "* **Submission Date**: March 19, 2016"
   ]
  },
  {
   "cell_type": "code",
   "execution_count": null,
   "metadata": {
    "collapsed": false
   },
   "outputs": [
    {
     "data": {
      "application/javascript": [
       "require(['base/js/utils'], function(utils) {\n",
       "    utils.load_extensions('usability/ruler/main');\n",
       "    utils.load_extensions('usability/toc2/main');\n",
       "    utils.load_extensions('usability/toggle_all_line_numbers/main');\n",
       "    utils.load_extensions('autosaveclasses');\n",
       "});"
      ],
      "text/plain": [
       "<IPython.core.display.Javascript object>"
      ]
     },
     "metadata": {},
     "output_type": "display_data"
    }
   ],
   "source": [
    "%%javascript\n",
    "require(['base/js/utils'], function(utils) {\n",
    "    utils.load_extensions('usability/ruler/main');\n",
    "    utils.load_extensions('usability/toc2/main');\n",
    "    utils.load_extensions('usability/toggle_all_line_numbers/main');\n",
    "    utils.load_extensions('autosaveclasses');\n",
    "});"
   ]
  },
  {
   "cell_type": "markdown",
   "metadata": {},
   "source": [
    "# Specify Hadoop Settings"
   ]
  },
  {
   "cell_type": "code",
   "execution_count": null,
   "metadata": {
    "collapsed": true
   },
   "outputs": [],
   "source": [
    "hdfs_base_folder = '/user/ubuntu'\n",
    "mapper_count = 2\n",
    "reducer_count = 1"
   ]
  },
  {
   "cell_type": "markdown",
   "metadata": {},
   "source": [
    "# Code Legibility Utilities"
   ]
  },
  {
   "cell_type": "markdown",
   "metadata": {},
   "source": [
    "## Data acquisition utilities"
   ]
  },
  {
   "cell_type": "markdown",
   "metadata": {},
   "source": [
    "### File management utilities"
   ]
  },
  {
   "cell_type": "markdown",
   "metadata": {},
   "source": [
    "Different runner types have keep their files in different locations. These utility methods allow us to get some uniformity in the scripts since it will return the actual paths needed by different runner types."
   ]
  },
  {
   "cell_type": "code",
   "execution_count": null,
   "metadata": {
    "collapsed": false
   },
   "outputs": [],
   "source": [
    "import os\n",
    "import subprocess\n",
    "\n",
    "\"\"\"\n",
    "Returns whether the given file path corresponds to something on the file system used by\n",
    "the given runner.\n",
    "\"\"\"\n",
    "def file_exists(runner_type, name):\n",
    "    if runner_type in ['inline', 'local']:\n",
    "        return os.path.isfile(name)\n",
    "\n",
    "    status = subprocess.call([\n",
    "        'hdfs', 'dfs', '-test', '-f', hdfs_base_folder + '/' + name\n",
    "    ])\n",
    "\n",
    "    return status == 0\n",
    "\n",
    "\"\"\"\n",
    "Returns whether the given file path corresponds to something on the file system used by\n",
    "the given runner.\n",
    "\"\"\"\n",
    "def folder_exists(runner_type, name):\n",
    "    if runner_type in ['inline', 'local']:\n",
    "        return os.path.isdir(name)\n",
    "\n",
    "    status = subprocess.call([\n",
    "        'hdfs', 'dfs', '-test', '-d', hdfs_base_folder + '/' + name\n",
    "    ])\n",
    "\n",
    "    return status == 0\n",
    "\n",
    "\"\"\"\n",
    "Removes the folder located at the given path. Note that it does a recursive remove, so it\n",
    "doesn't throw an error if it's a file (it will still delete it).\n",
    "\"\"\"\n",
    "def remove_folder(runner_type, folder_name):\n",
    "    if runner_type in ['inline', 'local']:\n",
    "        !rm -rf $folder_name\n",
    "    else:\n",
    "        !hdfs dfs -rm -r -f -skipTrash $hdfs_base_folder/$folder_name\n",
    "\n",
    "\"\"\"\n",
    "Returns an appropriate file path to pass to a runner as an input/output folder.\n",
    "\"\"\"\n",
    "def get_mrjob_path(runner_type, folder_name):\n",
    "    if folder_name is None or folder_name == '':\n",
    "        return ''\n",
    "\n",
    "    if runner_type in ['inline', 'local']:\n",
    "        return folder_name\n",
    "\n",
    "    return 'hdfs://' + hdfs_base_folder + '/' + folder_name"
   ]
  },
  {
   "cell_type": "markdown",
   "metadata": {},
   "source": [
    "### File download utilities"
   ]
  },
  {
   "cell_type": "markdown",
   "metadata": {},
   "source": [
    "Since the URLs for the files tend to be very long, first we create some utility methods which make it more clear what we're doing when we're downloading data from either Dropbox or Amazon S3."
   ]
  },
  {
   "cell_type": "code",
   "execution_count": null,
   "metadata": {
    "collapsed": true
   },
   "outputs": [],
   "source": [
    "\"\"\"\n",
    "Utility method to split the file to make sure that multiple mapper tasks (and hopefully\n",
    "multiple reducer tasks) get created for our jobs in Hadoop.\n",
    "\"\"\"\n",
    "def split_for_hdfs(file_name, target_folder):\n",
    "    if folder_exists('hadoop', target_folder):\n",
    "        return\n",
    "\n",
    "    !mkdir -p /run/shm/$target_folder\n",
    "    !split $file_name -l 100000 /run/shm/$target_folder/\n",
    "\n",
    "    !hdfs dfs -mkdir -p $target_folder\n",
    "    !hdfs dfs -copyFromLocal /run/shm/$target_folder/* $hdfs_base_folder/$target_folder\n",
    "\n",
    "    !rm -rf /run/shm/$target_folder\n",
    "\n",
    "\"\"\"\n",
    "Utility method which downloads a Dropbox file from the folder for this assignment.\n",
    "\"\"\"\n",
    "def get_dropbox_file(dropbox_folder_name, folder_name, file_name):\n",
    "    !mkdir -p input/$folder_name\n",
    "    target_file_path = 'input/%s/%s' % (folder_name, file_name)\n",
    "\n",
    "    if os.path.isfile(target_file_path):\n",
    "        return target_file_path\n",
    "\n",
    "    dropbox_url = 'https://www.dropbox.com/sh/'\n",
    "    !curl -Ls $dropbox_url/$dropbox_folder_name/$file_name > $target_file_path\n",
    "\n",
    "    return target_file_path\n",
    "\n",
    "\"\"\"\n",
    "Utility method which downloads a file from an S3 bucket for this assignment.\n",
    "\"\"\"\n",
    "def get_s3_file(folder_name, file_name):\n",
    "    !mkdir -p input/$folder_name\n",
    "    target_file_path = 'input/%s/%s' % (folder_name, file_name)\n",
    "\n",
    "    if os.path.isfile(target_file_path):\n",
    "        return target_file_path\n",
    "\n",
    "    !aws s3 --region us-west-2 cp \\\n",
    "        s3://ucb-mids-mls-networks/$folder_name/$file_name \\\n",
    "        $target_file_path\n",
    "\n",
    "    return target_file_path"
   ]
  },
  {
   "cell_type": "markdown",
   "metadata": {},
   "source": [
    "### Content retrieval utilities"
   ]
  },
  {
   "cell_type": "markdown",
   "metadata": {},
   "source": [
    "We also sometimes need to `grep` a file or `wc -l` the output. The following functions allow us to do so in a runner-agnostic way within the code itself by handling the runner-specific logic here."
   ]
  },
  {
   "cell_type": "code",
   "execution_count": null,
   "metadata": {
    "collapsed": false
   },
   "outputs": [],
   "source": [
    "\"\"\"\n",
    "Pipes the standard output for the cat command to the given command and returns the result.\n",
    "\"\"\"\n",
    "def pipe_cat_output(runner_type, path, command = 'cat'):\n",
    "    if file_exists(runner_type, path):\n",
    "        cat_path = path\n",
    "    elif folder_exists(runner_type, path):\n",
    "        cat_path = path + '/*'\n",
    "    else:\n",
    "        return None\n",
    "\n",
    "    if runner_type in ['inline', 'local']:\n",
    "        result = !cat $cat_path | $command\n",
    "    else:\n",
    "        result = !hdfs dfs -cat $hdfs_base_folder/$cat_path | $command\n",
    "\n",
    "    return '\\n'.join(result)\n",
    "\n",
    "\"\"\"\n",
    "Returns the total number of lines in all files contained in the specified folder.\n",
    "\"\"\"\n",
    "def get_line_count(runner_type, folder_name):\n",
    "    return int(pipe_cat_output(runner_type, folder_name, 'wc -l'))\n",
    "\n",
    "\"\"\"\n",
    "Returns the lines in the specified folder starting with the specified key. This can be\n",
    "parsed by the runner to yield the original key and value.\n",
    "\"\"\"\n",
    "def get_lines_with_key(runner_type, folder_name, key):\n",
    "    return pipe_cat_output(runner_type, folder_name, 'grep \"^' + key + '\"')"
   ]
  },
  {
   "cell_type": "markdown",
   "metadata": {},
   "source": [
    "## Dangling node identification utilities"
   ]
  },
  {
   "cell_type": "markdown",
   "metadata": {},
   "source": [
    "Some of the PageRank tasks in the homework require that have the dangling nodes included as input when processing the graph, but they are often missing. The following jobs perform a join between the in-degree node table and the out-degree node table to allow us to fix that."
   ]
  },
  {
   "cell_type": "markdown",
   "metadata": {},
   "source": [
    "### Create MRJob to tag tables for join"
   ]
  },
  {
   "cell_type": "markdown",
   "metadata": {},
   "source": [
    "First, we need to tag the different tables so that as we process the input, we know what table we are interacting with."
   ]
  },
  {
   "cell_type": "code",
   "execution_count": null,
   "metadata": {
    "collapsed": false
   },
   "outputs": [],
   "source": [
    "from mrjob.job import MRJob\n",
    "from mrjob.protocol import ReprProtocol\n",
    "from mrjob.step import MRStep\n",
    "import sys\n",
    "\n",
    "class TagWithTableNameJob(MRJob):\n",
    "\n",
    "    OUTPUT_PROTOCOL = ReprProtocol\n",
    "\n",
    "    def configure_options(self):\n",
    "        super(TagWithTableNameJob, self).configure_options()\n",
    "        self.add_passthrough_option('--mapper-count', default=1)\n",
    "        self.add_passthrough_option('--table-name')\n",
    "\n",
    "    \"\"\"\n",
    "    Add the table name as part of the value.\n",
    "    \"\"\"\n",
    "    def mapper(self, _, line):\n",
    "        name, value = line.split('\\t', 1)\n",
    "        yield name, (self.options.table_name, eval(value))\n",
    "\n",
    "    \"\"\"\n",
    "    Set the mapper count options to make sure that MRJob creates enough mapper tasks.\n",
    "    \"\"\"\n",
    "    def steps(self):\n",
    "        step = MRStep(\n",
    "            mapper = self.mapper,\n",
    "            jobconf = {\n",
    "                'mapreduce.job.maps': self.options.mapper_count\n",
    "            })\n",
    "\n",
    "        return [step]\n",
    "\n",
    "if __name__ == '__main__' and sys.argv[0].find('ipykernel') == -1:\n",
    "    job = TagWithTableNameJob()\n",
    "    job.run()"
   ]
  },
  {
   "cell_type": "markdown",
   "metadata": {},
   "source": [
    "Add a utility function to make it easy to call."
   ]
  },
  {
   "cell_type": "code",
   "execution_count": null,
   "metadata": {
    "collapsed": false
   },
   "outputs": [],
   "source": [
    "def tag_with_table_name_job(runner_type, graph_file, table_name):\n",
    "    if graph_file is None:\n",
    "        return None\n",
    "\n",
    "    table_file = graph_file + '.table'\n",
    "\n",
    "    remove_folder(runner_type, table_file)\n",
    "\n",
    "    mrjob_graph_file = get_mrjob_path(runner_type, graph_file)\n",
    "    mrjob_table_file = get_mrjob_path(runner_type, table_file)\n",
    "\n",
    "    !python TagWithTableNameJob.py \\\n",
    "        -r $runner_type \\\n",
    "        --strict-protocols \\\n",
    "        --no-bootstrap-mrjob \\\n",
    "        --no-output \\\n",
    "        --table-name $table_name \\\n",
    "        --output-dir $mrjob_table_file \\\n",
    "        --mapper-count $mapper_count \\\n",
    "        $mrjob_graph_file \\\n",
    "        2> /dev/null\n",
    "\n",
    "    return table_file"
   ]
  },
  {
   "cell_type": "markdown",
   "metadata": {},
   "source": [
    "### Create MRJob to add dangling nodes"
   ]
  },
  {
   "cell_type": "markdown",
   "metadata": {},
   "source": [
    "Dangling node identification is effectively a full outer join in the sense that we will emit the key as long as it appears in either table, but we only emit the values from the left table (we drop any values from the right table)."
   ]
  },
  {
   "cell_type": "code",
   "execution_count": null,
   "metadata": {
    "collapsed": true
   },
   "outputs": [],
   "source": [
    "from mrjob.job import MRJob\n",
    "from mrjob.step import MRStep\n",
    "from mrjob.protocol import ReprProtocol\n",
    "import sys\n",
    "\n",
    "class AddDanglingNodesJob(MRJob):\n",
    "\n",
    "    INPUT_PROTOCOL = ReprProtocol\n",
    "    INTERNAL_PROTOCOL = ReprProtocol\n",
    "    OUTPUT_PROTOCOL = ReprProtocol\n",
    "\n",
    "    def configure_options(self):\n",
    "        super(AddDanglingNodesJob, self).configure_options()\n",
    "        self.add_passthrough_option('--left-table')\n",
    "        self.add_passthrough_option('--right-table')\n",
    "\n",
    "        self.add_passthrough_option('--mapper-count', type='int', default=1)\n",
    "        self.add_passthrough_option('--reducer-count', type='int', default=1)\n",
    "\n",
    "    \"\"\"\n",
    "    If you are joining with yourself, that means we didn't have a file which gives you\n",
    "    degrees for the other table. In this case, we will emit our neighbors in order to\n",
    "    effectively derive the other table.\n",
    "    \"\"\"\n",
    "    def mapper_init(self):\n",
    "        self.derive_right_table = self.options.left_table == self.options.right_table\n",
    "\n",
    "    \"\"\"\n",
    "    We are only interested in generating what the left table will be. Therefore, we will\n",
    "    emit the full entries of the left table, but only an empty value for the right table.\n",
    "    \"\"\"\n",
    "    def mapper(self, name, table_row):\n",
    "        table_name, neighbors = table_row\n",
    "\n",
    "        if self.options.left_table == table_name:\n",
    "            yield name, neighbors\n",
    "        else:\n",
    "            yield name, {}\n",
    "\n",
    "        # If we have to derive the right table, we'll emit each of our neighbors.\n",
    "\n",
    "        if self.derive_right_table:\n",
    "            for neighbor_name, degree in neighbors.iteritems():\n",
    "                yield neighbor_name, {}\n",
    "\n",
    "    \"\"\"\n",
    "    Emit the left table row if found, and emit the blank entry if only right table entries\n",
    "    were found (dangling node).\n",
    "    \"\"\"\n",
    "    def reducer(self, name, all_neighbors):\n",
    "        emit_neighbors = {}\n",
    "\n",
    "        for neighbors in all_neighbors:\n",
    "            if len(neighbors) != 0:\n",
    "                emit_neighbors = neighbors\n",
    "\n",
    "        yield name, emit_neighbors\n",
    "\n",
    "    \"\"\"\n",
    "    Configure the reducer as a combiner and set the mapper and reducer count options to\n",
    "    make sure that MRJob creates enough mapper/reducer tasks.\n",
    "    \"\"\"\n",
    "    def steps(self):\n",
    "        step = MRStep(\n",
    "            mapper_init = self.mapper_init, mapper = self.mapper,\n",
    "            combiner = self.reducer, reducer = self.reducer,\n",
    "            jobconf = {\n",
    "                'mapreduce.job.maps': self.options.mapper_count,\n",
    "                'mapreduce.job.reduces': self.options.reducer_count\n",
    "            })\n",
    "\n",
    "        return [step]\n",
    "\n",
    "if __name__ == '__main__' and sys.argv[0].find('ipykernel') == -1:\n",
    "    job = AddDanglingNodesJob()\n",
    "    job.run()"
   ]
  },
  {
   "cell_type": "markdown",
   "metadata": {},
   "source": [
    "Add a utility function to make it easy to call."
   ]
  },
  {
   "cell_type": "code",
   "execution_count": null,
   "metadata": {
    "collapsed": false
   },
   "outputs": [],
   "source": [
    "def add_dangling_nodes_job(runner_type, out_nodes_graph, in_nodes_graph):\n",
    "\n",
    "    # Tag the tables so that we can perform the join\n",
    "\n",
    "    if out_nodes_graph is None:\n",
    "        print 'Failed to create a tagged graph for', out_nodes_graph\n",
    "        return\n",
    "\n",
    "    out_nodes_table = tag_with_table_name_job(runner_type, out_nodes_graph, 'out')\n",
    "\n",
    "    if out_nodes_table is None:\n",
    "        print 'Failed to create a tagged graph for', out_nodes_graph\n",
    "        return\n",
    "\n",
    "    in_nodes_table = tag_with_table_name_job(runner_type, in_nodes_graph, 'in')\n",
    "\n",
    "    if in_nodes_table is None and in_nodes_graph is not None:\n",
    "        print 'Failed to create a tagged graph for', in_nodes_graph\n",
    "        return\n",
    "\n",
    "    # If we are missing one of the tables, we'll join the table with itself\n",
    "\n",
    "    left_table = 'out'\n",
    "    right_table = 'in'\n",
    "\n",
    "    if in_nodes_graph is None:\n",
    "        right_table = 'out'\n",
    "        in_nodes_table = ''\n",
    "\n",
    "    # Now we run the job with all the tables we've created\n",
    "\n",
    "    new_nodes_graph = out_nodes_graph + '.all'\n",
    "    remove_folder(runner_type, new_nodes_graph)\n",
    "\n",
    "    mrjob_out_nodes_table = get_mrjob_path(runner_type, out_nodes_table)\n",
    "    mrjob_in_nodes_table = get_mrjob_path(runner_type, in_nodes_table)\n",
    "    mrjob_new_nodes_graph = get_mrjob_path(runner_type, new_nodes_graph)\n",
    "\n",
    "    !python AddDanglingNodesJob.py \\\n",
    "        -r $runner_type \\\n",
    "        --strict-protocols \\\n",
    "        --no-bootstrap-mrjob \\\n",
    "        --no-output \\\n",
    "        --left-table $left_table \\\n",
    "        --right-table $right_table \\\n",
    "        --mapper-count $mapper_count \\\n",
    "        --reducer-count $reducer_count \\\n",
    "        --output-dir $mrjob_new_nodes_graph \\\n",
    "        $mrjob_out_nodes_table $mrjob_in_nodes_table \\\n",
    "        2> /dev/null\n",
    "\n",
    "    return new_nodes_graph"
   ]
  },
  {
   "cell_type": "markdown",
   "metadata": {},
   "source": [
    "# HW 9.0: Short answer questions"
   ]
  },
  {
   "cell_type": "markdown",
   "metadata": {},
   "source": [
    "## HW 9.0a"
   ]
  },
  {
   "cell_type": "markdown",
   "metadata": {},
   "source": [
    "> What is PageRank and what is it used for in the context of web search?"
   ]
  },
  {
   "cell_type": "markdown",
   "metadata": {},
   "source": []
  },
  {
   "cell_type": "markdown",
   "metadata": {},
   "source": [
    "## HW 9.0b"
   ]
  },
  {
   "cell_type": "markdown",
   "metadata": {},
   "source": [
    "> What modifications have to be made to the webgraph in order to leverage the machinery of Markov Chains to\n",
    "compute the steady stade distibuton?"
   ]
  },
  {
   "cell_type": "markdown",
   "metadata": {},
   "source": []
  },
  {
   "cell_type": "markdown",
   "metadata": {},
   "source": [
    "## HW 9.0c"
   ]
  },
  {
   "cell_type": "markdown",
   "metadata": {},
   "source": [
    "> OPTIONAL: In topic-specific pagerank, how can we insure that the irreducible property is satified? (HINT: see HW9.4)"
   ]
  },
  {
   "cell_type": "markdown",
   "metadata": {},
   "source": []
  },
  {
   "cell_type": "markdown",
   "metadata": {},
   "source": [
    "# HW 9.1: MRJob implementation of basic PageRank"
   ]
  },
  {
   "cell_type": "markdown",
   "metadata": {},
   "source": [
    "## Create PageRank MRJob"
   ]
  },
  {
   "cell_type": "markdown",
   "metadata": {},
   "source": [
    "> Write a basic MRJob implementation of the iterative PageRank algorithm\n",
    "that takes sparse adjacency lists as input (as explored in HW 7).\n",
    "\n",
    "> Make sure that you implementation utilizes teleportation (1-damping/the number of nodes in the network),\n",
    "and further, distributes the mass of dangling nodes with each iteration\n",
    "so that the output of each iteration is correctly normalized (sums to 1).\n",
    "\n",
    "> [NOTE: The PageRank algorithm assumes that a random surfer (walker), starting from a random web page,\n",
    "chooses the next page to which it will move by clicking at random, with probability $d$,\n",
    "one of the hyperlinks in the current page. This probability is represented by a so-called\n",
    "'damping factor' $d$, where $d \\in (0, 1)$. Otherwise, with probability $(1 − d)$, the surfer\n",
    "jumps to any web page in the network. If a page is a dangling end, meaning it has no\n",
    "outgoing hyperlinks, the random surfer selects an arbitrary web page from a uniform\n",
    "distribution and \"teleports\" to that page]"
   ]
  },
  {
   "cell_type": "markdown",
   "metadata": {},
   "source": [
    "### Implement PageRank algorithm"
   ]
  },
  {
   "cell_type": "markdown",
   "metadata": {},
   "source": [
    "First, we want a job that will perform a single iteration of the page rank computation where it will determine the updated page rank based on the rank contribution from all incoming nodes and from random teleport. We also include the known dangling mass from the previous iteration of the algorithm (or, the uniform number of dangling nodes."
   ]
  },
  {
   "cell_type": "code",
   "execution_count": null,
   "metadata": {
    "collapsed": true
   },
   "outputs": [],
   "source": [
    "from __future__ import division\n",
    "from mrjob.job import MRJob\n",
    "from mrjob.protocol import ReprProtocol\n",
    "from mrjob.step import MRStep\n",
    "import sys\n",
    "\n",
    "class PageRankSingleIterationJob(MRJob):\n",
    "\n",
    "    INPUT_PROTOCOL = ReprProtocol\n",
    "    INTERNAL_PROTOCOL = ReprProtocol\n",
    "    OUTPUT_PROTOCOL = ReprProtocol\n",
    "\n",
    "    def configure_options(self):\n",
    "        super(PageRankSingleIterationJob, self).configure_options()\n",
    "        self.add_passthrough_option('--node-count', type='int')\n",
    "        self.add_passthrough_option('--damping-factor', type='float', default=0.85)\n",
    "        self.add_passthrough_option('--dangling-mass', type='float', default=0.0)\n",
    "\n",
    "        self.add_passthrough_option('--mapper-count', type='int', default=1)\n",
    "        self.add_passthrough_option('--reducer-count', type='int', default=1)\n",
    "\n",
    "    \"\"\"\n",
    "    Distribute the mass to your neighbors, making sure to emit your own information so\n",
    "    that is available in the next iteration.\n",
    "    \"\"\"\n",
    "    def mapper(self, key, node_data):\n",
    "\n",
    "        # Handle initial state where you only have a dictionary. Give everyone a uniform\n",
    "        # probability in this case.\n",
    "\n",
    "        if isinstance(node_data, dict):\n",
    "            old_page_rank = 1.0 / self.options.node_count\n",
    "            older_page_rank = 0.0\n",
    "            neighbors = node_data\n",
    "        else:\n",
    "            old_page_rank, older_page_rank, neighbors = node_data\n",
    "\n",
    "        # Emit yourself with a page rank contribution of zero, but with your neighbors\n",
    "        # and your old page rank. This allows information to persist between iterations.\n",
    "\n",
    "        yield key, (0.0, old_page_rank, neighbors)\n",
    "\n",
    "        # If you have no neighbors, then you are part of the dangling probability mass.\n",
    "\n",
    "        neighbor_count = len(neighbors)\n",
    "\n",
    "        if neighbor_count == 0:\n",
    "            return\n",
    "\n",
    "        distributed_mass = old_page_rank / neighbor_count\n",
    "\n",
    "        # Otherwise, redistribute your probability mass to your neighbors.\n",
    "\n",
    "        for neighbor_name in neighbors.iterkeys():\n",
    "            yield neighbor_name, (distributed_mass, 0.0, None)\n",
    "\n",
    "    \"\"\"\n",
    "    Combine the contributions from each node to reduce network usage.\n",
    "    \"\"\"\n",
    "    def combiner(self, key, all_node_data):\n",
    "        emit_contributed_mass = 0.0\n",
    "        emit_original_rank = 0.0\n",
    "        emit_neighbors = None\n",
    "\n",
    "        for contributed_mass, original_rank, neighbors in all_node_data:\n",
    "            emit_contributed_mass += contributed_mass\n",
    "            emit_original_rank += original_rank\n",
    "\n",
    "            if neighbors is not None:\n",
    "                emit_neighbors = neighbors\n",
    "\n",
    "        yield key, (emit_contributed_mass, emit_original_rank, emit_neighbors)\n",
    "\n",
    "    \"\"\"\n",
    "    Combine the mass from all neighbors. Include mass coming from teleportation, which is\n",
    "    both from regular nodes (which dedicate part of their mass to teleportation) and from\n",
    "    dangling nodes (which dedicate all of their mass to teleportation).\n",
    "    \"\"\"\n",
    "    def reducer(self, key, all_node_data):\n",
    "        emit_original_rank = 0.0\n",
    "        incoming_rank = 0.0\n",
    "\n",
    "        emit_neighbors = {}\n",
    "\n",
    "        # Compute the base page rank from incoming nodes.\n",
    "\n",
    "        for contributed_mass, original_rank, neighbors in all_node_data:\n",
    "            incoming_rank += contributed_mass * self.options.damping_factor\n",
    "            emit_original_rank += original_rank\n",
    "\n",
    "            if neighbors is not None:\n",
    "                emit_neighbors = neighbors\n",
    "\n",
    "        # Compute the contribution from the dangling mass and the teleport factor.\n",
    "\n",
    "        if self.options.damping_factor != 1.0:\n",
    "            dangling_bonus = self.options.dangling_mass * self.options.damping_factor\n",
    "            teleport_bonus = (1 - self.options.damping_factor)\n",
    "            normalized_bonus = (dangling_bonus + teleport_bonus) / self.options.node_count\n",
    "        else:\n",
    "            normalized_bonus = 0.0\n",
    "\n",
    "        # The final page rank is the sum of the base page rank and the normalized bonus.\n",
    "\n",
    "        emit_page_rank = incoming_rank + normalized_bonus\n",
    "\n",
    "        yield key, (emit_page_rank, emit_original_rank, emit_neighbors)\n",
    "\n",
    "    \"\"\"\n",
    "    Set the mapper and reducer count options to make sure that MRJob creates enough\n",
    "    mapper/reducer tasks.\n",
    "    \"\"\"\n",
    "    def steps(self):\n",
    "        step = MRStep(\n",
    "            mapper = self.mapper, combiner = self.combiner, reducer = self.reducer,\n",
    "            jobconf = {\n",
    "                'mapreduce.job.maps': self.options.mapper_count,\n",
    "                'mapreduce.job.reduces': self.options.reducer_count\n",
    "            })\n",
    "\n",
    "        return [step]\n",
    "\n",
    "if __name__ == '__main__' and sys.argv[0].find('ipykernel') == -1:\n",
    "    job = PageRankSingleIterationJob()\n",
    "    job.run()"
   ]
  },
  {
   "cell_type": "markdown",
   "metadata": {},
   "source": [
    "Add a utility function to make it easy to call."
   ]
  },
  {
   "cell_type": "code",
   "execution_count": null,
   "metadata": {
    "collapsed": false
   },
   "outputs": [],
   "source": [
    "def page_rank_single_iteration_job(\n",
    "    runner_type, graph_file, output_folder, node_count, damping_factor, dangling_mass):\n",
    "\n",
    "    mrjob_graph_file = get_mrjob_path(runner_type, graph_file)\n",
    "    mrjob_output_folder = get_mrjob_path(runner_type, output_folder)\n",
    "\n",
    "    !python PageRankSingleIterationJob.py \\\n",
    "        -r $runner_type \\\n",
    "        --strict-protocols \\\n",
    "        --no-bootstrap-mrjob \\\n",
    "        --no-output \\\n",
    "        --node-count $node_count \\\n",
    "        --damping-factor $damping_factor \\\n",
    "        --dangling-mass $dangling_mass \\\n",
    "        --mapper-count $mapper_count \\\n",
    "        --reducer-count $reducer_count \\\n",
    "        --output-dir $mrjob_output_folder \\\n",
    "        $mrjob_graph_file \\\n",
    "        2> /dev/null"
   ]
  },
  {
   "cell_type": "markdown",
   "metadata": {},
   "source": [
    "### Implement post-job computations."
   ]
  },
  {
   "cell_type": "markdown",
   "metadata": {},
   "source": [
    "Next, we need to compute the probability mass associated with dangling nodes so that we can properly update our page rank computation, factoring in teleportation. Additionally, we want to check for convergence."
   ]
  },
  {
   "cell_type": "code",
   "execution_count": null,
   "metadata": {
    "collapsed": false
   },
   "outputs": [],
   "source": [
    "from __future__ import division\n",
    "from mrjob.job import MRJob\n",
    "from mrjob.protocol import RawProtocol, ReprProtocol\n",
    "from mrjob.step import MRStep\n",
    "import sys\n",
    "\n",
    "class CheckPageRankConvergenceJob(MRJob):\n",
    "\n",
    "    INPUT_PROTOCOL = ReprProtocol\n",
    "    INTERNAL_PROTOCOL = ReprProtocol\n",
    "    OUTPUT_PROTOCOL = RawProtocol\n",
    "\n",
    "    def configure_options(self):\n",
    "        super(CheckPageRankConvergenceJob, self).configure_options()\n",
    "        self.add_passthrough_option('--node-count', type='int')\n",
    "        self.add_passthrough_option('--mapper-count', type='int', default=1)\n",
    "\n",
    "    \"\"\"\n",
    "    Emit the probability mass from nodes that have no outgoing links as well as the\n",
    "    change in rank.\n",
    "    \"\"\"\n",
    "    def mapper(self, key, node_data):\n",
    "        new_page_rank, old_page_rank, neighbors = node_data\n",
    "\n",
    "        if len(neighbors) == 0:\n",
    "            yield 'dangling_mass', new_page_rank\n",
    "\n",
    "        yield 'squared_rank_change', (new_page_rank - old_page_rank) ** 2\n",
    "\n",
    "    \"\"\"\n",
    "    Combine the probability mass or the squared rank change.\n",
    "    \"\"\"\n",
    "    def combiner(self, key, values):\n",
    "        yield key, sum(values)\n",
    "\n",
    "    \"\"\"\n",
    "    Combine the probability mass or the squared rank change.\n",
    "    \"\"\"\n",
    "    def reducer(self, key, values):\n",
    "        yield key, str(sum(values))\n",
    "\n",
    "    \"\"\"\n",
    "    Combine the probability mass or the squared rank change.\n",
    "    \"\"\"\n",
    "    def reducer(self, key, values):\n",
    "        yield key, str(sum(values))\n",
    "\n",
    "    \"\"\"\n",
    "    Set the mapper and reducer count options to make sure that MRJob creates enough\n",
    "    mapper/reducer tasks.\n",
    "    \"\"\"\n",
    "    def steps(self):\n",
    "        step = MRStep(\n",
    "            mapper = self.mapper, combiner = self.combiner, reducer = self.reducer,\n",
    "            jobconf = {\n",
    "                'mapreduce.job.maps': self.options.mapper_count,\n",
    "                'mapreduce.job.reduces': 2\n",
    "            })\n",
    "\n",
    "        return [step]\n",
    "\n",
    "if __name__ == '__main__' and sys.argv[0].find('ipykernel') == -1:\n",
    "    job = CheckPageRankConvergenceJob()\n",
    "    job.run()"
   ]
  },
  {
   "cell_type": "markdown",
   "metadata": {},
   "source": [
    "Add a utility function to make it easy to call."
   ]
  },
  {
   "cell_type": "code",
   "execution_count": null,
   "metadata": {
    "collapsed": true
   },
   "outputs": [],
   "source": [
    "def check_page_rank_convergence_job(runner_type, graph_file, node_count):\n",
    "    if graph_file.find('input/') == 0:\n",
    "        output_folder = 'output/' + graph_file[6:] + '.dangling_mass'\n",
    "    elif graph_file.find('output/') == 0:\n",
    "        output_folder = graph_file + '.dangling_mass'\n",
    "    else:\n",
    "        output_folder = 'output/' + graph_file + '.dangling_mass'\n",
    "\n",
    "    remove_folder(runner_type, output_folder)\n",
    "\n",
    "    mrjob_output_folder = get_mrjob_path(runner_type, output_folder)\n",
    "    mrjob_graph_file = get_mrjob_path(runner_type, graph_file)\n",
    "\n",
    "    !python CheckPageRankConvergenceJob.py \\\n",
    "        -r $runner_type \\\n",
    "        --strict-protocols \\\n",
    "        --no-bootstrap-mrjob \\\n",
    "        --no-output \\\n",
    "        --node-count $node_count \\\n",
    "        --mapper-count $mapper_count \\\n",
    "        --output-dir $mrjob_output_folder \\\n",
    "        $mrjob_graph_file \\\n",
    "        2> /dev/null\n",
    "\n",
    "    # There are two lines in the output, and they summarize the result of the PageRank\n",
    "    # iteration. Transform them into key-value pairs and return them as a dictionary.\n",
    "\n",
    "    job_output = pipe_cat_output(runner_type, output_folder)\n",
    "\n",
    "    convergence_summary = {}\n",
    "\n",
    "    for line in job_output.strip().split('\\n'):\n",
    "        key, value = line.split('\\t', 1)\n",
    "        convergence_summary[key] = float(value)\n",
    "\n",
    "    return convergence_summary"
   ]
  },
  {
   "cell_type": "markdown",
   "metadata": {},
   "source": [
    "## Create PageRank driver"
   ]
  },
  {
   "cell_type": "markdown",
   "metadata": {},
   "source": [
    "Next, provide a driver function which will run a specified number of iterations of the PageRank algorithm, starting from giving all nodes uniform weight, or until the PageRank algorithm converged."
   ]
  },
  {
   "cell_type": "code",
   "execution_count": null,
   "metadata": {
    "collapsed": true
   },
   "outputs": [],
   "source": [
    "from datetime import datetime\n",
    "import sys\n",
    "\n",
    "def run_page_rank(\n",
    "    runner_type, graph_file, output_base_folder, all_node_count, dangling_node_count,\n",
    "    damping_factor = 0.85, iteration_count = 100, converge_threshold = 0.001,\n",
    "    show_progress = True, show_final_status = True):\n",
    "\n",
    "    # Prepare initial iteration\n",
    "\n",
    "    remove_folder(runner_type, output_base_folder)\n",
    "\n",
    "    iteration_id = 0\n",
    "    dangling_mass = dangling_node_count / all_node_count\n",
    "\n",
    "    # Iterate until convergence, or until the number of iterations have completed\n",
    "\n",
    "    converged = False\n",
    "\n",
    "    while iteration_id < iteration_count and not converged:\n",
    "        iteration_id += 1\n",
    "\n",
    "        if show_progress:\n",
    "            now = datetime.today()\n",
    "            print now, 'Running PageRank iteration', iteration_id\n",
    "\n",
    "        next_graph_file = '%s/%03d' % (output_base_folder, iteration_id)\n",
    "\n",
    "        page_rank_single_iteration_job(\n",
    "            runner_type, graph_file, next_graph_file, all_node_count, damping_factor,\n",
    "            dangling_mass)\n",
    "\n",
    "        if show_progress:\n",
    "            now = datetime.today()\n",
    "            print now, 'Running convergence check for iteration', iteration_id\n",
    "\n",
    "        convergence_summary = check_page_rank_convergence_job(\n",
    "            runner_type, next_graph_file, all_node_count)\n",
    "\n",
    "        rank_change = convergence_summary['squared_rank_change'] ** 0.5\n",
    "        converged = rank_change <= converge_threshold\n",
    "\n",
    "        # Prepare for the next iteration\n",
    "\n",
    "        dangling_mass = convergence_summary['dangling_mass']\n",
    "        graph_file = next_graph_file\n",
    "\n",
    "    if show_final_status:\n",
    "        now = datetime.today()\n",
    "\n",
    "        print\n",
    "\n",
    "        if converged:\n",
    "            print now, 'PageRank converged after', iteration_id, 'iterations'\n",
    "        else:\n",
    "            print now, 'PageRank did not converge after', iteration_id, 'iterations'\n",
    "            print now, 'PageRank scores moved by', rank_change, 'in last iteration'\n",
    "\n",
    "    # Return the path to the last graph file so that we can examine it.\n",
    "\n",
    "    return graph_file"
   ]
  },
  {
   "cell_type": "markdown",
   "metadata": {},
   "source": [
    "## Acquire PageRank test data"
   ]
  },
  {
   "cell_type": "markdown",
   "metadata": {},
   "source": [
    "> As you build your code, use the test data\n",
    "\n",
    "> * [s3://ucb-mids-mls-networks/PageRank-test.txt](http://s3-us-west-2.amazonaws.com/ucb-mids-mls-networks/PageRank-test.txt) (S3)\n",
    "> * https://www.dropbox.com/sh/2c0k5adwz36lkcw/AADxzBgNxNF5Q6-eanjnK64qa/PageRank-test.txt (Dropbox)\n",
    "\n",
    "> with teleportation parameter $(1-d)$ set to 0.15 (where $d$, the damping factor is set to 0.85)."
   ]
  },
  {
   "cell_type": "code",
   "execution_count": null,
   "metadata": {
    "collapsed": false
   },
   "outputs": [],
   "source": [
    "test_out = get_dropbox_file(\n",
    "    '2c0k5adwz36lkcw/AADxzBgNxNF5Q6-eanjnK64qa', 'test', 'PageRank-test.txt')"
   ]
  },
  {
   "cell_type": "markdown",
   "metadata": {},
   "source": [
    "It's easier to perform the page rank computation if we add all the dangling nodes to the graph."
   ]
  },
  {
   "cell_type": "code",
   "execution_count": null,
   "metadata": {
    "collapsed": false
   },
   "outputs": [],
   "source": [
    "test_all = add_dangling_nodes_job('inline', test_out, None)"
   ]
  },
  {
   "cell_type": "markdown",
   "metadata": {},
   "source": [
    "## Run PageRank on test data"
   ]
  },
  {
   "cell_type": "markdown",
   "metadata": {},
   "source": [
    "As a convenience for this smaller test graph, provide a method which runs page rank and returns the results as a dictionary."
   ]
  },
  {
   "cell_type": "code",
   "execution_count": null,
   "metadata": {
    "collapsed": false
   },
   "outputs": [],
   "source": [
    "def get_page_ranks(\n",
    "    runner_type, graph_file, output_base_folder, all_node_count, dangling_node_count,\n",
    "    damping_factor = 0.85, show_final_status = False):\n",
    "\n",
    "    result_graph_file = run_page_rank(\n",
    "        runner_type, graph_file, output_base_folder, all_node_count, dangling_node_count,\n",
    "        damping_factor, 50, 0.001, False, show_final_status)\n",
    "\n",
    "    output = pipe_cat_output(runner_type, result_graph_file)\n",
    "\n",
    "    graph = {}\n",
    "\n",
    "    for line in output.split('\\n'):\n",
    "        key, result = line.split('\\t', 1)\n",
    "\n",
    "        name = eval(key)\n",
    "\n",
    "        value = eval(result)\n",
    "        page_rank = value[0]\n",
    "        neighbors = value[2]\n",
    "\n",
    "        graph[name] = (page_rank, neighbors)\n",
    "\n",
    "    return graph"
   ]
  },
  {
   "cell_type": "markdown",
   "metadata": {},
   "source": [
    "First, we compute the number of dangling nodes."
   ]
  },
  {
   "cell_type": "code",
   "execution_count": null,
   "metadata": {
    "collapsed": false
   },
   "outputs": [],
   "source": [
    "test_out_node_count = get_line_count('inline', test_out)\n",
    "test_all_node_count = get_line_count('inline', test_all)\n",
    "test_dangling_node_count = test_all_node_count - test_out_node_count"
   ]
  },
  {
   "cell_type": "markdown",
   "metadata": {},
   "source": [
    "Next, we run the page rank computation and iterate until convergence."
   ]
  },
  {
   "cell_type": "code",
   "execution_count": null,
   "metadata": {
    "collapsed": false
   },
   "outputs": [
    {
     "name": "stdout",
     "output_type": "stream",
     "text": [
      "\n",
      "2016-03-14 02:34:39.083008 PageRank converged after 36 iterations\n",
      "CPU times: user 316 ms, sys: 844 ms, total: 1.16 s\n",
      "Wall time: 34.9 s\n"
     ]
    }
   ],
   "source": [
    "import functools\n",
    "\n",
    "# Since we'll be calling this in the next question, create an alias for it.\n",
    "\n",
    "get_test_page_ranks = functools.partial(\n",
    "    get_page_ranks, 'inline', test_all, 'output/test', test_all_node_count,\n",
    "    test_dangling_node_count)\n",
    "\n",
    "# Run PageRank and time how long it takes to converge on the small test graph.\n",
    "\n",
    "%time test_page_ranks = get_test_page_ranks(0.85, True)"
   ]
  },
  {
   "cell_type": "markdown",
   "metadata": {},
   "source": [
    "## Cross-check PageRank test data result"
   ]
  },
  {
   "cell_type": "markdown",
   "metadata": {},
   "source": [
    "> Crosscheck your work with the true result, displayed in the first image\n",
    "in the Wikipedia article:\n",
    "\n",
    "> https://en.wikipedia.org/wiki/PageRank\n",
    "\n",
    "> Here for reference are the corresponding PageRank probabilities:\n",
    "\n",
    "> ```\n",
    "A,0.033\n",
    "B,0.384\n",
    "C,0.343\n",
    "D,0.039\n",
    "E,0.081\n",
    "F,0.039\n",
    "G,0.016\n",
    "H,0.016\n",
    "I,0.016\n",
    "J,0.016\n",
    "K,0.016\n",
    "```"
   ]
  },
  {
   "cell_type": "code",
   "execution_count": null,
   "metadata": {
    "collapsed": false
   },
   "outputs": [
    {
     "name": "stdout",
     "output_type": "stream",
     "text": [
      "A,0.033\n",
      "B,0.384\n",
      "C,0.343\n",
      "D,0.039\n",
      "E,0.081\n",
      "F,0.039\n",
      "G,0.016\n",
      "H,0.016\n",
      "I,0.016\n",
      "J,0.016\n",
      "K,0.016\n"
     ]
    }
   ],
   "source": [
    "for name, value in sorted(test_page_ranks.items()):\n",
    "    page_rank, neighbors = value\n",
    "    print '%s,%0.3f' % (name, page_rank)"
   ]
  },
  {
   "cell_type": "markdown",
   "metadata": {},
   "source": [
    "# HW 9.2: Exploring PageRank teleportation and network plots"
   ]
  },
  {
   "cell_type": "markdown",
   "metadata": {},
   "source": [
    "> In order to overcome  problems such as disconnected components, the damping factor (a typical value for $d$ is 0.85) can be varied.\n",
    "Using the graph in HW9.1, plot the test graph (using networkx, https://networkx.github.io/) for several values of the damping factor,\n",
    "so that each nodes radius is proportional to its PageRank score."
   ]
  },
  {
   "cell_type": "markdown",
   "metadata": {},
   "source": [
    "## Utility to plot a PageRank graph"
   ]
  },
  {
   "cell_type": "code",
   "execution_count": null,
   "metadata": {
    "collapsed": true
   },
   "outputs": [],
   "source": [
    "%matplotlib inline"
   ]
  },
  {
   "cell_type": "code",
   "execution_count": null,
   "metadata": {
    "collapsed": false
   },
   "outputs": [],
   "source": [
    "import matplotlib\n",
    "import networkx\n",
    "\n",
    "def plot_damping_factor(subplot, damping_factor, page_ranks):\n",
    "\n",
    "    # Build up edges and create a graph\n",
    "\n",
    "    graph = networkx.MultiDiGraph()\n",
    "\n",
    "    for name, value in page_ranks.iteritems():\n",
    "        page_rank, neighbors = value\n",
    "        graph.add_edges_from([\n",
    "            (name, neighbor_name) for neighbor_name in neighbors.iterkeys()\n",
    "        ])\n",
    "\n",
    "    # Compute node sizes and labels based on page rank values. Use square roots of the\n",
    "    # page rank as the radius scale factor to avoid being misleading about area.\n",
    "\n",
    "    node_sizes = [\n",
    "        (page_ranks[node_id][0] ** 0.5) * 10000\n",
    "            for node_id in graph.nodes()\n",
    "    ]\n",
    "\n",
    "    node_labels = {\n",
    "        node_id: node_id + '\\n' + ('%0.01f' % (page_ranks[node_id][0] * 100)) + '%'\n",
    "            for node_id in graph.nodes()\n",
    "    }\n",
    "\n",
    "    # Create a circular layout for consistency unless we have too many nodes for the\n",
    "    # circle to make sense.\n",
    "\n",
    "    if len(node_labels) <= 20:\n",
    "        node_positions = networkx.circular_layout(graph)\n",
    "    else:\n",
    "        node_positions = networkx.fruchterman_reingold_layout(graph)\n",
    "\n",
    "    # Plot the graph\n",
    "\n",
    "    networkx.draw_networkx(\n",
    "        graph,\n",
    "        ax = subplot,\n",
    "        style = 'dashed',\n",
    "        node_color = '0.9',\n",
    "        pos = node_positions,\n",
    "        node_size = node_sizes,\n",
    "        labels = node_labels)\n",
    "\n",
    "    subplot.axis('off')\n",
    "    subplot.set_title('damping factor: ' + str(damping_factor))"
   ]
  },
  {
   "cell_type": "markdown",
   "metadata": {},
   "source": [
    "## Run PageRank with various damping factors"
   ]
  },
  {
   "cell_type": "markdown",
   "metadata": {},
   "source": [
    "> In particular you should\n",
    "do this for the following damping factors: [0,0.25,0.5,0.75, 0.85, 1]."
   ]
  },
  {
   "cell_type": "markdown",
   "metadata": {},
   "source": [
    "First, we'll compute the resulting page rank weights."
   ]
  },
  {
   "cell_type": "code",
   "execution_count": null,
   "metadata": {
    "collapsed": true
   },
   "outputs": [],
   "source": [
    "damping_factors = [0.0, 0.25, 0.5, 0.75, 0.85, 1.0]\n",
    "\n",
    "graphs = {\n",
    "    damping_factor: get_test_page_ranks(damping_factor)\n",
    "        for damping_factor in damping_factors\n",
    "}"
   ]
  },
  {
   "cell_type": "markdown",
   "metadata": {},
   "source": [
    "## Plot networkx graph for various damping factors"
   ]
  },
  {
   "cell_type": "markdown",
   "metadata": {},
   "source": [
    "With that, we can plot the graphs."
   ]
  },
  {
   "cell_type": "code",
   "execution_count": null,
   "metadata": {
    "collapsed": false
   },
   "outputs": [
    {
     "data": {
      "image/png": "[encoded data removed]",
      "text/plain": []
     },
     "metadata": {},
     "output_type": "display_data"
    }
   ],
   "source": [
    "import math\n",
    "\n",
    "graph_id = 0\n",
    "\n",
    "grid_cols = 2\n",
    "grid_rows = math.ceil(len(damping_factors) / grid_cols)\n",
    "\n",
    "fig = matplotlib.pyplot.figure(figsize = (16, 8 * grid_rows))\n",
    "\n",
    "for damping_factor, page_ranks in sorted(graphs.iteritems()):\n",
    "    graph_id += 1\n",
    "    subplot = fig.add_subplot(grid_rows, grid_cols, graph_id)\n",
    "    plot_damping_factor(subplot, damping_factor, page_ranks)"
   ]
  },
  {
   "cell_type": "markdown",
   "metadata": {},
   "source": [
    "# HW 9.3: Applying PageRank to the Wikipedia hyperlinks network"
   ]
  },
  {
   "cell_type": "markdown",
   "metadata": {},
   "source": [
    "## Acquire Wikipedia hyperlinks network"
   ]
  },
  {
   "cell_type": "markdown",
   "metadata": {},
   "source": [
    "We will need both the `-out` and the `-in` degree node files."
   ]
  },
  {
   "cell_type": "code",
   "execution_count": null,
   "metadata": {
    "collapsed": false
   },
   "outputs": [],
   "source": [
    "wikipedia_out = get_s3_file('wikipedia', 'all-pages-indexed-out.txt')\n",
    "wikipedia_in = get_s3_file('wikipedia', 'all-pages-indexed-in.txt')"
   ]
  },
  {
   "cell_type": "markdown",
   "metadata": {},
   "source": [
    "## Recognize dangling nodes in Wikipedia hyperlinks network"
   ]
  },
  {
   "cell_type": "markdown",
   "metadata": {},
   "source": [
    "Split both of the files and place them inside of HDFS so that we can run a Hadoop job."
   ]
  },
  {
   "cell_type": "code",
   "execution_count": null,
   "metadata": {
    "collapsed": true
   },
   "outputs": [],
   "source": [
    "split_for_hdfs(wikipedia_out)\n",
    "split_for_hdfs(wikipedia_in)"
   ]
  },
  {
   "cell_type": "markdown",
   "metadata": {},
   "source": [
    "## Create job to sort by PageRank"
   ]
  },
  {
   "cell_type": "code",
   "execution_count": null,
   "metadata": {
    "collapsed": true
   },
   "outputs": [],
   "source": []
  },
  {
   "cell_type": "markdown",
   "metadata": {},
   "source": [
    "## Run PageRank for 5 iterations"
   ]
  },
  {
   "cell_type": "markdown",
   "metadata": {},
   "source": [
    "> Run your PageRank implementation on the Wikipedia dataset for 5 iterations.\n",
    "\n",
    "> [s3://ucb-mids-mls-networks/wikipedia/](http://s3-us-west-2.amazonaws.com/ucb-mids-mls-networks/wikipedia/)\n",
    "\n",
    "> Display the top 100 ranked nodes with $d = 0.85$, corresponding to teleportation factor $(1-d) = 0.15$."
   ]
  },
  {
   "cell_type": "code",
   "execution_count": null,
   "metadata": {
    "collapsed": true
   },
   "outputs": [],
   "source": []
  },
  {
   "cell_type": "markdown",
   "metadata": {},
   "source": [
    "## Run PageRank for 10 iterations"
   ]
  },
  {
   "cell_type": "markdown",
   "metadata": {},
   "source": [
    "> Run your PageRank implementation on the Wikipedia dataset for 10 iterations,\n",
    "and display the top 100 ranked nodes with $d = 0.85$, corresponding to teleportation factor $(1-d) = 0.15$."
   ]
  },
  {
   "cell_type": "code",
   "execution_count": null,
   "metadata": {
    "collapsed": true
   },
   "outputs": [],
   "source": []
  },
  {
   "cell_type": "markdown",
   "metadata": {},
   "source": [
    "## Compare top 100 for different iterations"
   ]
  },
  {
   "cell_type": "markdown",
   "metadata": {},
   "source": [
    "> Have the top 100 ranked pages changed? Comment on your findings."
   ]
  },
  {
   "cell_type": "code",
   "execution_count": null,
   "metadata": {
    "collapsed": true
   },
   "outputs": [],
   "source": []
  },
  {
   "cell_type": "markdown",
   "metadata": {},
   "source": [
    "## Plot networkx graph for top 100 ranked pages"
   ]
  },
  {
   "cell_type": "markdown",
   "metadata": {},
   "source": [
    "> Plot the pagerank values for the top 100 pages resulting from the 50 iterations run. Then plot the pagerank values for the same 100 pages that resulted from the 10 iterations run."
   ]
  },
  {
   "cell_type": "code",
   "execution_count": null,
   "metadata": {
    "collapsed": true
   },
   "outputs": [],
   "source": []
  },
  {
   "cell_type": "markdown",
   "metadata": {},
   "source": [
    "# HW 9.4: Topic-specific PageRank implementation using MRJob"
   ]
  },
  {
   "cell_type": "markdown",
   "metadata": {},
   "source": [
    "## Create Topic-specific PageRank MRJob"
   ]
  },
  {
   "cell_type": "markdown",
   "metadata": {},
   "source": [
    "> Modify your PageRank implementation to produce a topic specific PageRank implementation,\n",
    "as described in:\n",
    "\n",
    "> http://www-cs-students.stanford.edu/~taherh/papers/topic-sensitive-pagerank.pdf\n",
    "\n",
    "> Note in this article that there is a special caveat to ensure that the transition matrix is irreducible.\n",
    "This caveat lies in footnote 3 on page 3:\n",
    "\n",
    "> >\tA minor caveat: to ensure that M is irreducible when p\n",
    "\tcontains any 0 entries, nodes not reachable from nonzero\n",
    "\tnodes in p should be removed. In practice this is not problematic.\n",
    "\n",
    "> and must be adhered to for convergence to be guaranteed."
   ]
  },
  {
   "cell_type": "code",
   "execution_count": null,
   "metadata": {
    "collapsed": true
   },
   "outputs": [],
   "source": []
  },
  {
   "cell_type": "markdown",
   "metadata": {},
   "source": [
    "## Acquire Topic-specific PageRank test data"
   ]
  },
  {
   "cell_type": "markdown",
   "metadata": {},
   "source": [
    "> Run topic specific PageRank on the following randomly generated network of 100 nodes:\n",
    "\n",
    "> * [s3://ucb-mids-mls-networks/randNet.txt](http://s3-us-west-2.amazonaws.com/ucb-mids-mls-networks/randNet.txt) (S3)\n",
    "> * https://www.dropbox.com/sh/2c0k5adwz36lkcw/AACEBW8MKuzl2L-tH_FmuG9ba/randNet.txt (Dropbox)\n",
    "\n",
    "> which are organized into ten topics, as described in the file:\n",
    "\n",
    "> * [s3://ucb-mids-mls-networks/randNet_topics.txt](http://s3-us-west-2.amazonaws.com/ucb-mids-mls-networks/randNet_topics.txt) (S3)\n",
    "> * https://www.dropbox.com/sh/2c0k5adwz36lkcw/AACTOoH1Oi03JxjOaW-Cy4N8a/randNet_topics.txt (Dropbox)\n",
    "\n",
    "> Since there are 10 topics, your result should be 11 PageRank vectors\n",
    "(one for the vanilla PageRank implementation in 9.1, and one for each topic\n",
    "with the topic specific implementation). Print out the top ten ranking nodes\n",
    "and their topics for each of the 11 versions, and comment on your result.\n",
    "Assume a teleportation factor of 0.15 in all your analyses."
   ]
  },
  {
   "cell_type": "code",
   "execution_count": null,
   "metadata": {
    "collapsed": false
   },
   "outputs": [],
   "source": [
    "randnet_out = get_dropbox_file(\n",
    "    '2c0k5adwz36lkcw/AACEBW8MKuzl2L-tH_FmuG9ba', 'randNet', 'randNet.txt')\n",
    "randnet_topics = get_dropbox_file(\n",
    "    '2c0k5adwz36lkcw/AACTOoH1Oi03JxjOaW-Cy4N8a', 'randNet', 'randNet_topics.txt')"
   ]
  },
  {
   "cell_type": "markdown",
   "metadata": {},
   "source": [
    "## Run Topic-specific PageRank on test data"
   ]
  },
  {
   "cell_type": "code",
   "execution_count": null,
   "metadata": {
    "collapsed": true
   },
   "outputs": [],
   "source": []
  },
  {
   "cell_type": "markdown",
   "metadata": {},
   "source": [
    "> One final and important comment here:  please consider the\n",
    "requirements for irreducibility with topic-specific PageRank.\n",
    "In particular, the literature ensures irreducibility by requiring that\n",
    "nodes not reachable from in-topic nodes be removed from the network.\n",
    "\n",
    "> This is not a small task, especially as it it must be performed\n",
    "separately for each of the (10) topics.\n",
    "\n",
    "> So, instead of using this method for irreducibility,\n",
    "please comment on why the literature's method is difficult to implement,\n",
    "and what what extra computation it will require.\n",
    "Then for your code, please use the alternative,\n",
    "non-uniform damping vector:\n",
    "\n",
    "> vji = beta*(1/|Tj|); if node i lies in topic Tj\n",
    "\n",
    "> vji = (1-beta)*(1/(N - |Tj|)); if node i lies outside of topic Tj\n",
    "\n",
    "> for beta in (0,1) close to 1.\n",
    "\n",
    "> With this approach, you will not have to delete any nodes.\n",
    "If beta > 0.5, PageRank is topic-sensitive,\n",
    "and if beta < 0.5, the PageRank is anti-topic-sensitive.\n",
    "For any value of beta irreducibility should hold,\n",
    "so please try beta=0.99, and perhaps some other values locally,\n",
    "on the smaller networks."
   ]
  },
  {
   "cell_type": "markdown",
   "metadata": {},
   "source": [
    "# HW 9.5: Applying topic-specific PageRank to Wikipedia"
   ]
  },
  {
   "cell_type": "markdown",
   "metadata": {},
   "source": [
    "> Here you will apply your topic-specific PageRank implementation to Wikipedia,\n",
    "defining topics (very arbitrarily) for each page by the length (number of characters) of the name of the article mod 10,\n",
    "so that there are 10 topics. Once again, print out the top ten ranking nodes\n",
    "and their topics for each of the 11 versions, and comment on your result.\n",
    "Assume a teleportation factor of 0.15 in all your analyses.\n"
   ]
  },
  {
   "cell_type": "code",
   "execution_count": null,
   "metadata": {
    "collapsed": true
   },
   "outputs": [],
   "source": []
  },
  {
   "cell_type": "markdown",
   "metadata": {},
   "source": [
    "# HW 9.6: TextRank (OPTIONAL)"
   ]
  },
  {
   "cell_type": "markdown",
   "metadata": {},
   "source": [
    "> What is TextRank. Describe the main steps in the algorithm. Why does TextRank work?\n",
    "Implement TextRank in MrJob for keyword phrases (not just unigrams) extraction using co-occurrence based similarity measure with with sizes of N = 2 and 3. And evaluate your code using the following example using precision, recall, and FBeta (Beta=1):\n",
    "\n",
    "> ```\n",
    "\"Compatibility of systems of linear constraints over the set of natural numbers\n",
    "Criteria of compatibility of a system of linear Diophantine equations, strict\n",
    "inequations, and nonstrict inequations are considered. Upper bounds for\n",
    "components of a minimal set of solutions and algorithms of construction of\n",
    "minimal generating sets of solutions for all types of systems are given.\n",
    "These criteria and the corresponding algorithms for constructing a minimal\n",
    "supporting set of solutions can be used in solving all the considered types of\n",
    "systems and systems of mixed types.\"\n",
    "```\n",
    "\n",
    "> The extracted keywords should in the following set:\n",
    "\n",
    "> ```\n",
    "linear constraints, linear diophantine equations, natural numbers, non-strict inequations, strict inequations, upper bounds\n",
    "```"
   ]
  },
  {
   "cell_type": "code",
   "execution_count": null,
   "metadata": {
    "collapsed": true
   },
   "outputs": [],
   "source": []
  }
 ],
 "metadata": {
  "kernelspec": {
   "display_name": "Python 2",
   "language": "python",
   "name": "python2"
  },
  "language_info": {
   "codemirror_mode": {
    "name": "ipython",
    "version": 2
   },
   "file_extension": ".py",
   "mimetype": "text/x-python",
   "name": "python",
   "nbconvert_exporter": "python",
   "pygments_lexer": "ipython2",
   "version": "2.7.11"
  },
  "toc": {
   "toc_cell": false,
   "toc_number_sections": false,
   "toc_threshold": 4,
   "toc_window_display": true
  },
  "toc_position": {
   "left": "1384.86px",
   "right": "20px",
   "top": "115.969px",
   "width": "235px"
  }
 },
 "nbformat": 4,
 "nbformat_minor": 0
}
