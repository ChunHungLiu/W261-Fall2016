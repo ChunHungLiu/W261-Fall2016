{
 "cells": [
  {
   "cell_type": "markdown",
   "metadata": {},
   "source": [
    "* **Student**: Minhchau Dang\n",
    "* **Email Address**: minhchau.dang@berkeley.edu\n",
    "* **Course**: 2016-0111 DATASCI W261: Machine Learning at Scale\n",
    "* **Section**: Spring 2016, Section 2\n",
    "* **Assignment**: Homework 9, Week 9\n",
    "* **Submission Date**: March 19, 2016"
   ]
  },
  {
   "cell_type": "code",
   "execution_count": null,
   "metadata": {
    "collapsed": false
   },
   "outputs": [
    {
     "data": {
      "application/javascript": [
       "require(['base/js/utils'], function(utils) {\n",
       "    utils.load_extensions('usability/ruler/main');\n",
       "    utils.load_extensions('usability/toc2/main');\n",
       "    utils.load_extensions('usability/toggle_all_line_numbers/main');\n",
       "    utils.load_extensions('autosaveclasses');\n",
       "});"
      ],
      "text/plain": [
       "<IPython.core.display.Javascript object>"
      ]
     },
     "metadata": {},
     "output_type": "display_data"
    }
   ],
   "source": [
    "%%javascript\n",
    "require(['base/js/utils'], function(utils) {\n",
    "    utils.load_extensions('usability/ruler/main');\n",
    "    utils.load_extensions('usability/toc2/main');\n",
    "    utils.load_extensions('usability/toggle_all_line_numbers/main');\n",
    "    utils.load_extensions('autosaveclasses');\n",
    "});"
   ]
  },
  {
   "cell_type": "markdown",
   "metadata": {},
   "source": [
    "# Specify Hadoop Settings"
   ]
  },
  {
   "cell_type": "code",
   "execution_count": null,
   "metadata": {
    "collapsed": true
   },
   "outputs": [],
   "source": [
    "hdfs_base_folder = '/user/ubuntu'\n",
    "mapper_count = 32\n",
    "reducer_count = 32"
   ]
  },
  {
   "cell_type": "markdown",
   "metadata": {},
   "source": [
    "# Code Legibility Utilities"
   ]
  },
  {
   "cell_type": "markdown",
   "metadata": {},
   "source": [
    "## Data acquisition utilities"
   ]
  },
  {
   "cell_type": "markdown",
   "metadata": {},
   "source": [
    "### File management utilities"
   ]
  },
  {
   "cell_type": "markdown",
   "metadata": {},
   "source": [
    "Different runner types have keep their files in different locations. These utility methods allow us to get some uniformity in the scripts since it will return the actual paths needed by different runner types."
   ]
  },
  {
   "cell_type": "code",
   "execution_count": null,
   "metadata": {
    "collapsed": false
   },
   "outputs": [],
   "source": [
    "import os\n",
    "import subprocess\n",
    "\n",
    "\"\"\"\n",
    "Returns whether the given file path corresponds to something on the file system used by\n",
    "the given runner.\n",
    "\"\"\"\n",
    "def file_exists(runner_type, name):\n",
    "    if runner_type in ['inline', 'local']:\n",
    "        return os.path.isfile(name)\n",
    "\n",
    "    status = subprocess.call([\n",
    "        'hdfs', 'dfs', '-test', '-f', hdfs_base_folder + '/' + name\n",
    "    ])\n",
    "\n",
    "    return status == 0\n",
    "\n",
    "\"\"\"\n",
    "Returns whether the given file path corresponds to something on the file system used by\n",
    "the given runner.\n",
    "\"\"\"\n",
    "def folder_exists(runner_type, name):\n",
    "    if runner_type in ['inline', 'local']:\n",
    "        return os.path.isdir(name)\n",
    "\n",
    "    status = subprocess.call([\n",
    "        'hdfs', 'dfs', '-test', '-d', hdfs_base_folder + '/' + name\n",
    "    ])\n",
    "\n",
    "    return status == 0\n",
    "\n",
    "\"\"\"\n",
    "Removes the folder located at the given path. Note that it does a recursive remove, so it\n",
    "doesn't throw an error if it's a file (it will still delete it).\n",
    "\"\"\"\n",
    "def remove_folder(runner_type, folder_name):\n",
    "    if runner_type in ['inline', 'local']:\n",
    "        !rm -rf $folder_name\n",
    "    else:\n",
    "        !hdfs dfs -rm -r -f -skipTrash $hdfs_base_folder/$folder_name\n",
    "\n",
    "\"\"\"\n",
    "Returns an appropriate file path to pass to a runner as an input/output folder.\n",
    "\"\"\"\n",
    "def get_mrjob_path(runner_type, folder_name):\n",
    "    if folder_name is None or folder_name == '':\n",
    "        return ''\n",
    "\n",
    "    if runner_type in ['inline', 'local']:\n",
    "        return folder_name\n",
    "\n",
    "    return 'hdfs://' + hdfs_base_folder + '/' + folder_name"
   ]
  },
  {
   "cell_type": "markdown",
   "metadata": {},
   "source": [
    "### File download utilities"
   ]
  },
  {
   "cell_type": "markdown",
   "metadata": {},
   "source": [
    "Since the URLs for the files tend to be very long, first we create some utility methods which make it more clear what we're doing when we're downloading data from either Dropbox or Amazon S3."
   ]
  },
  {
   "cell_type": "code",
   "execution_count": null,
   "metadata": {
    "collapsed": true
   },
   "outputs": [],
   "source": [
    "\"\"\"\n",
    "Utility method to split the file to make sure that multiple mapper tasks (and hopefully\n",
    "multiple reducer tasks) get created for our jobs in Hadoop.\n",
    "\"\"\"\n",
    "def split_for_hdfs(file_name, target_folder = None):\n",
    "    if target_folder is None:\n",
    "        target_folder = file_name\n",
    "\n",
    "    if folder_exists('hadoop', target_folder):\n",
    "        return\n",
    "\n",
    "    !mkdir -p /run/shm/$target_folder\n",
    "    !split $file_name -l 100000 /run/shm/$target_folder/\n",
    "\n",
    "    !hdfs dfs -mkdir -p $target_folder\n",
    "    !hdfs dfs -copyFromLocal /run/shm/$target_folder/* $hdfs_base_folder/$target_folder\n",
    "\n",
    "    !rm -rf /run/shm/$target_folder\n",
    "\n",
    "\"\"\"\n",
    "Utility method which downloads a Dropbox file from the folder for this assignment.\n",
    "\"\"\"\n",
    "def get_dropbox_file(dropbox_folder_name, folder_name, file_name):\n",
    "    !mkdir -p input/$folder_name\n",
    "    target_file_path = 'input/%s/%s' % (folder_name, file_name)\n",
    "\n",
    "    if os.path.isfile(target_file_path):\n",
    "        return target_file_path\n",
    "\n",
    "    dropbox_url = 'https://www.dropbox.com/sh'\n",
    "    !curl -Ls $dropbox_url/$dropbox_folder_name/$file_name > $target_file_path\n",
    "\n",
    "    return target_file_path\n",
    "\n",
    "\"\"\"\n",
    "Utility method which downloads a file from an S3 bucket for this assignment.\n",
    "\"\"\"\n",
    "def get_s3_file(folder_name, file_name):\n",
    "    !mkdir -p input/$folder_name\n",
    "    target_file_path = 'input/%s/%s' % (folder_name, file_name)\n",
    "\n",
    "    if os.path.isfile(target_file_path):\n",
    "        return target_file_path\n",
    "\n",
    "    !aws s3 --region us-west-2 cp \\\n",
    "        s3://ucb-mids-mls-networks/$folder_name/$file_name \\\n",
    "        $target_file_path\n",
    "\n",
    "    return target_file_path"
   ]
  },
  {
   "cell_type": "markdown",
   "metadata": {},
   "source": [
    "### Content retrieval utilities"
   ]
  },
  {
   "cell_type": "markdown",
   "metadata": {},
   "source": [
    "We also sometimes need to `grep` a file or `wc -l` the output. The following functions allow us to do so in a runner-agnostic way within the code itself by handling the runner-specific logic here."
   ]
  },
  {
   "cell_type": "code",
   "execution_count": null,
   "metadata": {
    "collapsed": false
   },
   "outputs": [],
   "source": [
    "\"\"\"\n",
    "Pipes the standard output for the cat command to the given command and returns the result.\n",
    "\"\"\"\n",
    "def pipe_cat_output(runner_type, path, command = 'cat'):\n",
    "    if file_exists(runner_type, path):\n",
    "        cat_path = path\n",
    "    elif folder_exists(runner_type, path):\n",
    "        cat_path = path + '/*'\n",
    "    else:\n",
    "        return None\n",
    "\n",
    "    if runner_type in ['inline', 'local']:\n",
    "        result = !cat $cat_path | $command\n",
    "    else:\n",
    "        result = !hdfs dfs -cat $hdfs_base_folder/$cat_path | $command\n",
    "\n",
    "    return '\\n'.join(result)\n",
    "\n",
    "\"\"\"\n",
    "Returns the total number of lines in all files contained in the specified folder.\n",
    "\"\"\"\n",
    "def get_line_count(runner_type, folder_name):\n",
    "    return int(pipe_cat_output(runner_type, folder_name, 'wc -l'))\n",
    "\n",
    "\"\"\"\n",
    "Returns the lines in the specified folder starting with the specified key. This can be\n",
    "parsed by the runner to yield the original key and value.\n",
    "\"\"\"\n",
    "def get_lines_with_key(runner_type, folder_name, key):\n",
    "    return pipe_cat_output(runner_type, folder_name, 'grep \"^' + key + '\"')"
   ]
  },
  {
   "cell_type": "markdown",
   "metadata": {},
   "source": [
    "## Dangling node identification utilities"
   ]
  },
  {
   "cell_type": "markdown",
   "metadata": {},
   "source": [
    "Some of the PageRank tasks in the homework require that have the dangling nodes included as input when processing the graph, but they are often missing. The following jobs perform a join between the in-degree node table and the out-degree node table to allow us to fix that."
   ]
  },
  {
   "cell_type": "markdown",
   "metadata": {},
   "source": [
    "### Create MRJob to tag tables for join"
   ]
  },
  {
   "cell_type": "markdown",
   "metadata": {},
   "source": [
    "First, we need to tag the different tables so that as we process the input, we know what table we are interacting with."
   ]
  },
  {
   "cell_type": "code",
   "execution_count": null,
   "metadata": {
    "collapsed": false
   },
   "outputs": [],
   "source": [
    "from mrjob.job import MRJob\n",
    "from mrjob.protocol import ReprProtocol\n",
    "from mrjob.step import MRStep\n",
    "import sys\n",
    "\n",
    "class TagWithTableNameJob(MRJob):\n",
    "\n",
    "    OUTPUT_PROTOCOL = ReprProtocol\n",
    "\n",
    "    def configure_options(self):\n",
    "        super(TagWithTableNameJob, self).configure_options()\n",
    "        self.add_passthrough_option('--mapper-count', default=1)\n",
    "        self.add_passthrough_option('--table-name')\n",
    "\n",
    "    \"\"\"\n",
    "    Add the table name as part of the value.\n",
    "    \"\"\"\n",
    "    def mapper(self, _, line):\n",
    "        name, value = line.split('\\t', 1)\n",
    "        yield name, (self.options.table_name, eval(value))\n",
    "\n",
    "    \"\"\"\n",
    "    Set the mapper count options to make sure that MRJob creates enough mapper tasks.\n",
    "    \"\"\"\n",
    "    def steps(self):\n",
    "        step = MRStep(\n",
    "            mapper = self.mapper,\n",
    "            jobconf = {\n",
    "                'mapreduce.job.maps': self.options.mapper_count\n",
    "            })\n",
    "\n",
    "        return [step]\n",
    "\n",
    "if __name__ == '__main__' and sys.argv[0].find('ipykernel') == -1:\n",
    "    job = TagWithTableNameJob()\n",
    "    job.run()"
   ]
  },
  {
   "cell_type": "markdown",
   "metadata": {},
   "source": [
    "Add a utility function to make it easy to call."
   ]
  },
  {
   "cell_type": "code",
   "execution_count": null,
   "metadata": {
    "collapsed": false
   },
   "outputs": [],
   "source": [
    "def tag_with_table_name_job(runner_type, graph_file, table_name):\n",
    "    if graph_file is None:\n",
    "        return None\n",
    "\n",
    "    table_file = graph_file + '.table'\n",
    "\n",
    "    remove_folder(runner_type, table_file)\n",
    "\n",
    "    mrjob_graph_file = get_mrjob_path(runner_type, graph_file)\n",
    "    mrjob_table_file = get_mrjob_path(runner_type, table_file)\n",
    "\n",
    "    !python TagWithTableNameJob.py \\\n",
    "        -r $runner_type \\\n",
    "        --strict-protocols \\\n",
    "        --no-bootstrap-mrjob \\\n",
    "        --no-output \\\n",
    "        --table-name $table_name \\\n",
    "        --output-dir $mrjob_table_file \\\n",
    "        --mapper-count $mapper_count \\\n",
    "        $mrjob_graph_file \\\n",
    "        2> /dev/null\n",
    "\n",
    "    return table_file"
   ]
  },
  {
   "cell_type": "markdown",
   "metadata": {},
   "source": [
    "### Create MRJob to add dangling nodes"
   ]
  },
  {
   "cell_type": "markdown",
   "metadata": {},
   "source": [
    "Dangling node identification is effectively a full outer join in the sense that we will emit the key as long as it appears in either table, but we only emit the values from the left table (we drop any values from the right table)."
   ]
  },
  {
   "cell_type": "code",
   "execution_count": null,
   "metadata": {
    "collapsed": true
   },
   "outputs": [],
   "source": [
    "from mrjob.job import MRJob\n",
    "from mrjob.step import MRStep\n",
    "from mrjob.protocol import ReprProtocol\n",
    "import sys\n",
    "\n",
    "class AddDanglingNodesJob(MRJob):\n",
    "\n",
    "    INPUT_PROTOCOL = ReprProtocol\n",
    "    INTERNAL_PROTOCOL = ReprProtocol\n",
    "    OUTPUT_PROTOCOL = ReprProtocol\n",
    "\n",
    "    def configure_options(self):\n",
    "        super(AddDanglingNodesJob, self).configure_options()\n",
    "        self.add_passthrough_option('--left-table')\n",
    "        self.add_passthrough_option('--right-table')\n",
    "\n",
    "        self.add_passthrough_option('--mapper-count', type='int', default=1)\n",
    "        self.add_passthrough_option('--reducer-count', type='int', default=1)\n",
    "\n",
    "    \"\"\"\n",
    "    If you are joining with yourself, that means we didn't have a file which gives you\n",
    "    degrees for the other table. In this case, we will emit our neighbors in order to\n",
    "    effectively derive the other table.\n",
    "    \"\"\"\n",
    "    def mapper_init(self):\n",
    "        self.derive_right_table = self.options.left_table == self.options.right_table\n",
    "\n",
    "    \"\"\"\n",
    "    We are only interested in generating what the left table will be. Therefore, we will\n",
    "    emit the full entries of the left table, but only an empty value for the right table.\n",
    "    \"\"\"\n",
    "    def mapper(self, name, table_row):\n",
    "        table_name, neighbors = table_row\n",
    "\n",
    "        if self.options.left_table == table_name:\n",
    "            yield name, neighbors\n",
    "        else:\n",
    "            yield name, {}\n",
    "\n",
    "        # If we have to derive the right table, we'll emit each of our neighbors.\n",
    "\n",
    "        if self.derive_right_table:\n",
    "            for neighbor_name, degree in neighbors.iteritems():\n",
    "                yield neighbor_name, {}\n",
    "\n",
    "    \"\"\"\n",
    "    Emit the left table row if found, and emit the blank entry if only right table entries\n",
    "    were found (dangling node).\n",
    "    \"\"\"\n",
    "    def reducer(self, name, all_neighbors):\n",
    "        emit_neighbors = {}\n",
    "\n",
    "        for neighbors in all_neighbors:\n",
    "            if len(neighbors) != 0:\n",
    "                emit_neighbors = neighbors\n",
    "\n",
    "        yield name, emit_neighbors\n",
    "\n",
    "    \"\"\"\n",
    "    Configure the reducer as a combiner and set the mapper and reducer count options to\n",
    "    make sure that MRJob creates enough mapper/reducer tasks.\n",
    "    \"\"\"\n",
    "    def steps(self):\n",
    "        step = MRStep(\n",
    "            mapper_init = self.mapper_init, mapper = self.mapper,\n",
    "            combiner = self.reducer, reducer = self.reducer,\n",
    "            jobconf = {\n",
    "                'mapreduce.job.maps': self.options.mapper_count,\n",
    "                'mapreduce.job.reduces': self.options.reducer_count\n",
    "            })\n",
    "\n",
    "        return [step]\n",
    "\n",
    "if __name__ == '__main__' and sys.argv[0].find('ipykernel') == -1:\n",
    "    job = AddDanglingNodesJob()\n",
    "    job.run()"
   ]
  },
  {
   "cell_type": "markdown",
   "metadata": {},
   "source": [
    "Add a utility function to make it easy to call."
   ]
  },
  {
   "cell_type": "code",
   "execution_count": null,
   "metadata": {
    "collapsed": false
   },
   "outputs": [],
   "source": [
    "def add_dangling_nodes_job(runner_type, out_nodes_graph, in_nodes_graph):\n",
    "\n",
    "    # Tag the tables so that we can perform the join\n",
    "\n",
    "    if out_nodes_graph is None:\n",
    "        print 'Failed to create a tagged graph for', out_nodes_graph\n",
    "        return\n",
    "\n",
    "    out_nodes_table = tag_with_table_name_job(runner_type, out_nodes_graph, 'out')\n",
    "\n",
    "    if out_nodes_table is None:\n",
    "        print 'Failed to create a tagged graph for', out_nodes_graph\n",
    "        return\n",
    "\n",
    "    in_nodes_table = tag_with_table_name_job(runner_type, in_nodes_graph, 'in')\n",
    "\n",
    "    if in_nodes_table is None and in_nodes_graph is not None:\n",
    "        print 'Failed to create a tagged graph for', in_nodes_graph\n",
    "        return\n",
    "\n",
    "    # If we are missing one of the tables, we'll join the table with itself\n",
    "\n",
    "    left_table = 'out'\n",
    "    right_table = 'in'\n",
    "\n",
    "    if in_nodes_graph is None:\n",
    "        right_table = 'out'\n",
    "        in_nodes_table = ''\n",
    "\n",
    "    # Now we run the job with all the tables we've created\n",
    "\n",
    "    new_nodes_graph = out_nodes_graph + '.all'\n",
    "    remove_folder(runner_type, new_nodes_graph)\n",
    "\n",
    "    mrjob_out_nodes_table = get_mrjob_path(runner_type, out_nodes_table)\n",
    "    mrjob_in_nodes_table = get_mrjob_path(runner_type, in_nodes_table)\n",
    "    mrjob_new_nodes_graph = get_mrjob_path(runner_type, new_nodes_graph)\n",
    "\n",
    "    !python AddDanglingNodesJob.py \\\n",
    "        -r $runner_type \\\n",
    "        --strict-protocols \\\n",
    "        --no-bootstrap-mrjob \\\n",
    "        --no-output \\\n",
    "        --left-table $left_table \\\n",
    "        --right-table $right_table \\\n",
    "        --mapper-count $mapper_count \\\n",
    "        --reducer-count $reducer_count \\\n",
    "        --output-dir $mrjob_new_nodes_graph \\\n",
    "        $mrjob_out_nodes_table $mrjob_in_nodes_table \\\n",
    "        2> /dev/null\n",
    "\n",
    "    return new_nodes_graph"
   ]
  },
  {
   "cell_type": "markdown",
   "metadata": {},
   "source": [
    "# HW 9.0: Short answer questions"
   ]
  },
  {
   "cell_type": "markdown",
   "metadata": {},
   "source": [
    "## HW 9.0a"
   ]
  },
  {
   "cell_type": "markdown",
   "metadata": {},
   "source": [
    "> What is PageRank and what is it used for in the context of web search?"
   ]
  },
  {
   "cell_type": "markdown",
   "metadata": {},
   "source": []
  },
  {
   "cell_type": "markdown",
   "metadata": {},
   "source": [
    "## HW 9.0b"
   ]
  },
  {
   "cell_type": "markdown",
   "metadata": {},
   "source": [
    "> What modifications have to be made to the webgraph in order to leverage the machinery of Markov Chains to\n",
    "compute the steady stade distibuton?"
   ]
  },
  {
   "cell_type": "markdown",
   "metadata": {},
   "source": []
  },
  {
   "cell_type": "markdown",
   "metadata": {},
   "source": [
    "## HW 9.0c"
   ]
  },
  {
   "cell_type": "markdown",
   "metadata": {},
   "source": [
    "> OPTIONAL: In topic-specific pagerank, how can we insure that the irreducible property is satified? (HINT: see HW9.4)"
   ]
  },
  {
   "cell_type": "markdown",
   "metadata": {},
   "source": []
  },
  {
   "cell_type": "markdown",
   "metadata": {},
   "source": [
    "# HW 9.1: MRJob implementation of basic PageRank"
   ]
  },
  {
   "cell_type": "markdown",
   "metadata": {},
   "source": [
    "## Create PageRank MRJob"
   ]
  },
  {
   "cell_type": "markdown",
   "metadata": {},
   "source": [
    "> Write a basic MRJob implementation of the iterative PageRank algorithm\n",
    "that takes sparse adjacency lists as input (as explored in HW 7).\n",
    "\n",
    "> Make sure that you implementation utilizes teleportation (1-damping/the number of nodes in the network),\n",
    "and further, distributes the mass of dangling nodes with each iteration\n",
    "so that the output of each iteration is correctly normalized (sums to 1).\n",
    "\n",
    "> [NOTE: The PageRank algorithm assumes that a random surfer (walker), starting from a random web page,\n",
    "chooses the next page to which it will move by clicking at random, with probability $d$,\n",
    "one of the hyperlinks in the current page. This probability is represented by a so-called\n",
    "'damping factor' $d$, where $d \\in (0, 1)$. Otherwise, with probability $(1 − d)$, the surfer\n",
    "jumps to any web page in the network. If a page is a dangling end, meaning it has no\n",
    "outgoing hyperlinks, the random surfer selects an arbitrary web page from a uniform\n",
    "distribution and \"teleports\" to that page]"
   ]
  },
  {
   "cell_type": "markdown",
   "metadata": {},
   "source": [
    "### Implement PageRank algorithm"
   ]
  },
  {
   "cell_type": "markdown",
   "metadata": {},
   "source": [
    "First, we want a job that will perform a single iteration of the page rank computation where it will determine the updated page rank based on the rank contribution from all incoming nodes and from random teleport. We also include the known dangling mass from the previous iteration of the algorithm (or, the uniform number of dangling nodes."
   ]
  },
  {
   "cell_type": "code",
   "execution_count": null,
   "metadata": {
    "collapsed": true
   },
   "outputs": [],
   "source": [
    "from __future__ import division\n",
    "from mrjob.job import MRJob\n",
    "from mrjob.protocol import ReprProtocol\n",
    "from mrjob.step import MRStep\n",
    "import sys\n",
    "\n",
    "class PageRankSingleIterationJob(MRJob):\n",
    "\n",
    "    INPUT_PROTOCOL = ReprProtocol\n",
    "    INTERNAL_PROTOCOL = ReprProtocol\n",
    "    OUTPUT_PROTOCOL = ReprProtocol\n",
    "\n",
    "    def configure_options(self):\n",
    "        super(PageRankSingleIterationJob, self).configure_options()\n",
    "        self.add_passthrough_option('--node-count', type='int')\n",
    "        self.add_passthrough_option('--damping-factor', type='float', default=0.85)\n",
    "        self.add_passthrough_option('--dangling-mass', type='float', default=0.0)\n",
    "\n",
    "        self.add_passthrough_option('--mapper-count', type='int', default=1)\n",
    "        self.add_passthrough_option('--reducer-count', type='int', default=1)\n",
    "\n",
    "    \"\"\"\n",
    "    Distribute the mass to your neighbors, making sure to emit your own information so\n",
    "    that is available in the next iteration.\n",
    "    \"\"\"\n",
    "    def mapper(self, key, node_data):\n",
    "\n",
    "        # Handle initial state where you only have a dictionary. Give everyone a uniform\n",
    "        # probability in this case.\n",
    "\n",
    "        if isinstance(node_data, dict):\n",
    "            old_page_rank = 1.0 / self.options.node_count\n",
    "            older_page_rank = 0.0\n",
    "            neighbors = node_data\n",
    "        else:\n",
    "            old_page_rank, older_page_rank, neighbors = node_data\n",
    "\n",
    "        # Emit yourself with a page rank contribution of zero, but with your neighbors\n",
    "        # and your old page rank. This allows information to persist between iterations.\n",
    "\n",
    "        yield key, (0.0, old_page_rank, neighbors)\n",
    "\n",
    "        # If you have no neighbors, then you are part of the dangling probability mass.\n",
    "\n",
    "        neighbor_count = len(neighbors)\n",
    "\n",
    "        if neighbor_count == 0:\n",
    "            return\n",
    "\n",
    "        distributed_mass = old_page_rank / neighbor_count\n",
    "\n",
    "        # Otherwise, redistribute your probability mass to your neighbors.\n",
    "\n",
    "        for neighbor_name in neighbors.iterkeys():\n",
    "            yield neighbor_name, (distributed_mass, 0.0, None)\n",
    "\n",
    "    \"\"\"\n",
    "    Combine the contributions from each node to reduce network usage.\n",
    "    \"\"\"\n",
    "    def combiner(self, key, all_node_data):\n",
    "        emit_contributed_mass = 0.0\n",
    "        emit_original_rank = 0.0\n",
    "        emit_neighbors = None\n",
    "\n",
    "        for contributed_mass, original_rank, neighbors in all_node_data:\n",
    "            emit_contributed_mass += contributed_mass\n",
    "            emit_original_rank += original_rank\n",
    "\n",
    "            if neighbors is not None:\n",
    "                emit_neighbors = neighbors\n",
    "\n",
    "        yield key, (emit_contributed_mass, emit_original_rank, emit_neighbors)\n",
    "\n",
    "    \"\"\"\n",
    "    Combine the mass from all neighbors. Include mass coming from teleportation, which is\n",
    "    both from regular nodes (which dedicate part of their mass to teleportation) and from\n",
    "    dangling nodes (which dedicate all of their mass to teleportation).\n",
    "    \"\"\"\n",
    "    def reducer(self, key, all_node_data):\n",
    "        emit_original_rank = 0.0\n",
    "        incoming_rank = 0.0\n",
    "\n",
    "        emit_neighbors = {}\n",
    "\n",
    "        # Compute the base page rank from incoming nodes.\n",
    "\n",
    "        for contributed_mass, original_rank, neighbors in all_node_data:\n",
    "            incoming_rank += contributed_mass * self.options.damping_factor\n",
    "            emit_original_rank += original_rank\n",
    "\n",
    "            if neighbors is not None:\n",
    "                emit_neighbors = neighbors\n",
    "\n",
    "        # Compute the contribution from the dangling mass and the teleport factor.\n",
    "\n",
    "        if self.options.damping_factor != 1.0:\n",
    "            dangling_bonus = self.options.dangling_mass * self.options.damping_factor\n",
    "            teleport_bonus = (1 - self.options.damping_factor)\n",
    "            normalized_bonus = (dangling_bonus + teleport_bonus) / self.options.node_count\n",
    "        else:\n",
    "            normalized_bonus = 0.0\n",
    "\n",
    "        # The final page rank is the sum of the base page rank and the normalized bonus.\n",
    "\n",
    "        emit_page_rank = incoming_rank + normalized_bonus\n",
    "\n",
    "        yield key, (emit_page_rank, emit_original_rank, emit_neighbors)\n",
    "\n",
    "    \"\"\"\n",
    "    Set the mapper and reducer count options to make sure that MRJob creates enough\n",
    "    mapper/reducer tasks.\n",
    "    \"\"\"\n",
    "    def steps(self):\n",
    "        step = MRStep(\n",
    "            mapper = self.mapper, combiner = self.combiner, reducer = self.reducer,\n",
    "            jobconf = {\n",
    "                'mapreduce.job.maps': self.options.mapper_count,\n",
    "                'mapreduce.job.reduces': self.options.reducer_count\n",
    "            })\n",
    "\n",
    "        return [step]\n",
    "\n",
    "if __name__ == '__main__' and sys.argv[0].find('ipykernel') == -1:\n",
    "    job = PageRankSingleIterationJob()\n",
    "    job.run()"
   ]
  },
  {
   "cell_type": "markdown",
   "metadata": {},
   "source": [
    "Add a utility function to make it easy to call."
   ]
  },
  {
   "cell_type": "code",
   "execution_count": null,
   "metadata": {
    "collapsed": false
   },
   "outputs": [],
   "source": [
    "def page_rank_single_iteration_job(\n",
    "    runner_type, graph_file, output_folder, node_count, damping_factor, dangling_mass):\n",
    "\n",
    "    mrjob_graph_file = get_mrjob_path(runner_type, graph_file)\n",
    "    mrjob_output_folder = get_mrjob_path(runner_type, output_folder)\n",
    "\n",
    "    !python PageRankSingleIterationJob.py \\\n",
    "        -r $runner_type \\\n",
    "        --strict-protocols \\\n",
    "        --no-bootstrap-mrjob \\\n",
    "        --no-output \\\n",
    "        --node-count $node_count \\\n",
    "        --damping-factor $damping_factor \\\n",
    "        --dangling-mass $dangling_mass \\\n",
    "        --mapper-count $mapper_count \\\n",
    "        --reducer-count $reducer_count \\\n",
    "        --output-dir $mrjob_output_folder \\\n",
    "        $mrjob_graph_file \\\n",
    "        2> /dev/null"
   ]
  },
  {
   "cell_type": "markdown",
   "metadata": {},
   "source": [
    "### Implement post-job computations"
   ]
  },
  {
   "cell_type": "markdown",
   "metadata": {},
   "source": [
    "Next, we need to compute the probability mass associated with dangling nodes so that we can properly update our page rank computation, factoring in teleportation. Additionally, we want to check for convergence."
   ]
  },
  {
   "cell_type": "code",
   "execution_count": null,
   "metadata": {
    "collapsed": false
   },
   "outputs": [],
   "source": [
    "from __future__ import division\n",
    "from mrjob.job import MRJob\n",
    "from mrjob.protocol import RawProtocol, ReprProtocol\n",
    "from mrjob.step import MRStep\n",
    "import sys\n",
    "\n",
    "class CheckPageRankConvergenceJob(MRJob):\n",
    "\n",
    "    INPUT_PROTOCOL = ReprProtocol\n",
    "    INTERNAL_PROTOCOL = ReprProtocol\n",
    "    OUTPUT_PROTOCOL = RawProtocol\n",
    "\n",
    "    def configure_options(self):\n",
    "        super(CheckPageRankConvergenceJob, self).configure_options()\n",
    "        self.add_passthrough_option('--node-count', type='int')\n",
    "        self.add_passthrough_option('--mapper-count', type='int', default=1)\n",
    "\n",
    "    \"\"\"\n",
    "    Emit the probability mass from nodes that have no outgoing links as well as the\n",
    "    change in rank.\n",
    "    \"\"\"\n",
    "    def mapper(self, key, node_data):\n",
    "        new_page_rank, old_page_rank, neighbors = node_data\n",
    "\n",
    "        if len(neighbors) == 0:\n",
    "            yield 'dangling_mass', new_page_rank\n",
    "\n",
    "        yield 'squared_rank_change', (new_page_rank - old_page_rank) ** 2\n",
    "\n",
    "    \"\"\"\n",
    "    Combine the probability mass or the squared rank change.\n",
    "    \"\"\"\n",
    "    def combiner(self, key, values):\n",
    "        yield key, sum(values)\n",
    "\n",
    "    \"\"\"\n",
    "    Combine the probability mass or the squared rank change.\n",
    "    \"\"\"\n",
    "    def reducer(self, key, values):\n",
    "        yield key, str(sum(values))\n",
    "\n",
    "    \"\"\"\n",
    "    Combine the probability mass or the squared rank change.\n",
    "    \"\"\"\n",
    "    def reducer(self, key, values):\n",
    "        yield key, str(sum(values))\n",
    "\n",
    "    \"\"\"\n",
    "    Set the mapper and reducer count options to make sure that MRJob creates enough\n",
    "    mapper/reducer tasks.\n",
    "    \"\"\"\n",
    "    def steps(self):\n",
    "        step = MRStep(\n",
    "            mapper = self.mapper, combiner = self.combiner, reducer = self.reducer,\n",
    "            jobconf = {\n",
    "                'mapreduce.job.maps': self.options.mapper_count,\n",
    "                'mapreduce.job.reduces': 2\n",
    "            })\n",
    "\n",
    "        return [step]\n",
    "\n",
    "if __name__ == '__main__' and sys.argv[0].find('ipykernel') == -1:\n",
    "    job = CheckPageRankConvergenceJob()\n",
    "    job.run()"
   ]
  },
  {
   "cell_type": "markdown",
   "metadata": {},
   "source": [
    "Add a utility function to make it easy to call."
   ]
  },
  {
   "cell_type": "code",
   "execution_count": null,
   "metadata": {
    "collapsed": true
   },
   "outputs": [],
   "source": [
    "def check_page_rank_convergence_job(\n",
    "    runner_type, graph_file, node_count, load_only = False):\n",
    "\n",
    "    if graph_file.find('input/') == 0:\n",
    "        output_folder = 'output/' + graph_file[6:] + '.dangling_mass'\n",
    "    elif graph_file.find('output/') == 0:\n",
    "        output_folder = graph_file + '.dangling_mass'\n",
    "    else:\n",
    "        output_folder = 'output/' + graph_file + '.dangling_mass'\n",
    "\n",
    "    if not load_only:\n",
    "        remove_folder(runner_type, output_folder)\n",
    "\n",
    "        mrjob_output_folder = get_mrjob_path(runner_type, output_folder)\n",
    "        mrjob_graph_file = get_mrjob_path(runner_type, graph_file)\n",
    "\n",
    "        !python CheckPageRankConvergenceJob.py \\\n",
    "            -r $runner_type \\\n",
    "            --strict-protocols \\\n",
    "            --no-bootstrap-mrjob \\\n",
    "            --no-output \\\n",
    "            --node-count $node_count \\\n",
    "            --mapper-count $mapper_count \\\n",
    "            --output-dir $mrjob_output_folder \\\n",
    "            $mrjob_graph_file \\\n",
    "            2> /dev/null\n",
    "\n",
    "    # There are two lines in the output, and they summarize the result of the PageRank\n",
    "    # iteration. Transform them into key-value pairs and return them as a dictionary.\n",
    "\n",
    "    job_output = pipe_cat_output(runner_type, output_folder)\n",
    "\n",
    "    convergence_summary = {}\n",
    "\n",
    "    for line in job_output.strip().split('\\n'):\n",
    "        key, value = line.split('\\t', 1)\n",
    "        convergence_summary[key] = float(value)\n",
    "\n",
    "    return convergence_summary"
   ]
  },
  {
   "cell_type": "markdown",
   "metadata": {},
   "source": [
    "## Create PageRank driver"
   ]
  },
  {
   "cell_type": "markdown",
   "metadata": {},
   "source": [
    "Next, provide a driver function which will run a specified number of iterations of the PageRank algorithm, starting from giving all nodes uniform weight, or until the PageRank algorithm converged."
   ]
  },
  {
   "cell_type": "code",
   "execution_count": null,
   "metadata": {
    "collapsed": true
   },
   "outputs": [],
   "source": [
    "from datetime import datetime\n",
    "import sys\n",
    "\n",
    "def run_page_rank(\n",
    "    runner_type, graph_file, output_base_folder, all_node_count, dangling_node_count,\n",
    "    damping_factor = 0.85, iteration_count = 100, converge_threshold = 0.001,\n",
    "    show_progress = True, show_final_status = True, resume = False):\n",
    "\n",
    "    # Prepare initial iteration\n",
    "\n",
    "    iteration_id = 0\n",
    "    dangling_mass = dangling_node_count / all_node_count\n",
    "    converged = False\n",
    "\n",
    "    if not resume:\n",
    "        remove_folder(runner_type, output_base_folder)\n",
    "\n",
    "    next_graph_file = '%s/%03d' % (output_base_folder, 1)\n",
    "\n",
    "    while folder_exists(runner_type, next_graph_file):\n",
    "        iteration_id += 1\n",
    "        graph_file = next_graph_file\n",
    "        next_graph_file = '%s/%03d' % (output_base_folder, iteration_id + 1)\n",
    "\n",
    "    # If we are resuming, check to see if we already converged\n",
    "\n",
    "    if iteration_id != 0:\n",
    "        convergence_summary = check_page_rank_convergence_job(\n",
    "            runner_type, graph_file, all_node_count, True)\n",
    "\n",
    "        rank_change = convergence_summary['squared_rank_change'] ** 0.5\n",
    "        converged = rank_change <= converge_threshold\n",
    "        dangling_mass = convergence_summary['dangling_mass']\n",
    "\n",
    "    # Iterate until convergence, or until the number of iterations have completed\n",
    "\n",
    "    while iteration_id < iteration_count and not converged:\n",
    "        iteration_id += 1\n",
    "\n",
    "        if show_progress:\n",
    "            now = datetime.today()\n",
    "            print now, 'Running PageRank iteration', iteration_id\n",
    "\n",
    "        next_graph_file = '%s/%03d' % (output_base_folder, iteration_id)\n",
    "\n",
    "        page_rank_single_iteration_job(\n",
    "            runner_type, graph_file, next_graph_file, all_node_count, damping_factor,\n",
    "            dangling_mass)\n",
    "\n",
    "        if show_progress:\n",
    "            now = datetime.today()\n",
    "            print now, 'Running convergence check for iteration', iteration_id\n",
    "\n",
    "        convergence_summary = check_page_rank_convergence_job(\n",
    "            runner_type, next_graph_file, all_node_count)\n",
    "\n",
    "        rank_change = convergence_summary['squared_rank_change'] ** 0.5\n",
    "        converged = rank_change <= converge_threshold\n",
    "\n",
    "        # Prepare for the next iteration\n",
    "\n",
    "        dangling_mass = convergence_summary['dangling_mass']\n",
    "        graph_file = next_graph_file\n",
    "\n",
    "    if show_final_status:\n",
    "        now = datetime.today()\n",
    "\n",
    "        print\n",
    "\n",
    "        if converged:\n",
    "            print now, 'PageRank converged after', iteration_id, 'iterations'\n",
    "        else:\n",
    "            print now, 'PageRank did not converge after', iteration_id, 'iterations'\n",
    "            print now, 'PageRank scores moved by', rank_change, 'in last iteration'\n",
    "\n",
    "    # Return the path to the last graph file so that we can examine it.\n",
    "\n",
    "    return graph_file"
   ]
  },
  {
   "cell_type": "markdown",
   "metadata": {},
   "source": [
    "## Acquire PageRank test data"
   ]
  },
  {
   "cell_type": "markdown",
   "metadata": {},
   "source": [
    "> As you build your code, use the test data\n",
    "\n",
    "> * [s3://ucb-mids-mls-networks/PageRank-test.txt](http://s3-us-west-2.amazonaws.com/ucb-mids-mls-networks/PageRank-test.txt) (S3)\n",
    "> * https://www.dropbox.com/sh/2c0k5adwz36lkcw/AADxzBgNxNF5Q6-eanjnK64qa/PageRank-test.txt (Dropbox)\n",
    "\n",
    "> with teleportation parameter $(1-d)$ set to 0.15 (where $d$, the damping factor is set to 0.85)."
   ]
  },
  {
   "cell_type": "code",
   "execution_count": null,
   "metadata": {
    "collapsed": false
   },
   "outputs": [],
   "source": [
    "test_out = get_dropbox_file(\n",
    "    '2c0k5adwz36lkcw/AADxzBgNxNF5Q6-eanjnK64qa', 'test', 'PageRank-test.txt')"
   ]
  },
  {
   "cell_type": "markdown",
   "metadata": {},
   "source": [
    "It's easier to perform the page rank computation if we add all the dangling nodes to the graph."
   ]
  },
  {
   "cell_type": "code",
   "execution_count": null,
   "metadata": {
    "collapsed": false
   },
   "outputs": [],
   "source": [
    "test_all = add_dangling_nodes_job('inline', test_out, None)"
   ]
  },
  {
   "cell_type": "markdown",
   "metadata": {},
   "source": [
    "## Run PageRank on test data"
   ]
  },
  {
   "cell_type": "markdown",
   "metadata": {},
   "source": [
    "As a convenience for this smaller test graph, provide a method which runs page rank and returns the results as a dictionary."
   ]
  },
  {
   "cell_type": "code",
   "execution_count": null,
   "metadata": {
    "collapsed": false
   },
   "outputs": [],
   "source": [
    "def get_page_ranks(\n",
    "    runner_type, graph_file, output_base_folder, all_node_count, dangling_node_count,\n",
    "    damping_factor = 0.85, show_final_status = False, resume = False):\n",
    "\n",
    "    result_graph_file = run_page_rank(\n",
    "        runner_type, graph_file, output_base_folder, all_node_count, dangling_node_count,\n",
    "        damping_factor, 50, 0.001, False, show_final_status, resume)\n",
    "\n",
    "    output = pipe_cat_output(runner_type, result_graph_file)\n",
    "\n",
    "    graph = {}\n",
    "\n",
    "    for line in output.split('\\n'):\n",
    "        key, result = line.split('\\t', 1)\n",
    "\n",
    "        name = eval(key)\n",
    "\n",
    "        value = eval(result)\n",
    "        page_rank = value[0]\n",
    "        neighbors = value[2]\n",
    "\n",
    "        graph[name] = (page_rank, neighbors)\n",
    "\n",
    "    return graph"
   ]
  },
  {
   "cell_type": "markdown",
   "metadata": {},
   "source": [
    "First, we compute the number of dangling nodes."
   ]
  },
  {
   "cell_type": "code",
   "execution_count": null,
   "metadata": {
    "collapsed": false
   },
   "outputs": [],
   "source": [
    "test_out_node_count = get_line_count('inline', test_out)\n",
    "test_all_node_count = get_line_count('inline', test_all)\n",
    "test_dangling_node_count = test_all_node_count - test_out_node_count"
   ]
  },
  {
   "cell_type": "markdown",
   "metadata": {},
   "source": [
    "Next, we run the page rank computation and iterate until convergence."
   ]
  },
  {
   "cell_type": "code",
   "execution_count": null,
   "metadata": {
    "collapsed": false
   },
   "outputs": [
    {
     "name": "stdout",
     "output_type": "stream",
     "text": [
      "\n",
      "2016-03-15 05:09:29.792409 PageRank converged after 36 iterations\n",
      "CPU times: user 409 ms, sys: 208 ms, total: 617 ms\n",
      "Wall time: 24.4 s\n"
     ]
    }
   ],
   "source": [
    "import functools\n",
    "\n",
    "# Since we'll be calling this in the next question, create an alias for it.\n",
    "\n",
    "get_test_page_ranks = functools.partial(\n",
    "    get_page_ranks, 'inline', test_all, 'output/test', test_all_node_count,\n",
    "    test_dangling_node_count)\n",
    "\n",
    "# Run PageRank and time how long it takes to converge on the small test graph.\n",
    "\n",
    "%time test_page_ranks = get_test_page_ranks(0.85, True)"
   ]
  },
  {
   "cell_type": "markdown",
   "metadata": {},
   "source": [
    "## Cross-check PageRank test data result"
   ]
  },
  {
   "cell_type": "markdown",
   "metadata": {},
   "source": [
    "> Crosscheck your work with the true result, displayed in the first image\n",
    "in the Wikipedia article:\n",
    "\n",
    "> https://en.wikipedia.org/wiki/PageRank\n",
    "\n",
    "> Here for reference are the corresponding PageRank probabilities:\n",
    "\n",
    "> ```\n",
    "A,0.033\n",
    "B,0.384\n",
    "C,0.343\n",
    "D,0.039\n",
    "E,0.081\n",
    "F,0.039\n",
    "G,0.016\n",
    "H,0.016\n",
    "I,0.016\n",
    "J,0.016\n",
    "K,0.016\n",
    "```"
   ]
  },
  {
   "cell_type": "code",
   "execution_count": null,
   "metadata": {
    "collapsed": false
   },
   "outputs": [
    {
     "name": "stdout",
     "output_type": "stream",
     "text": [
      "A,0.033\n",
      "B,0.384\n",
      "C,0.343\n",
      "D,0.039\n",
      "E,0.081\n",
      "F,0.039\n",
      "G,0.016\n",
      "H,0.016\n",
      "I,0.016\n",
      "J,0.016\n",
      "K,0.016\n"
     ]
    }
   ],
   "source": [
    "for name, value in sorted(test_page_ranks.items()):\n",
    "    page_rank, neighbors = value\n",
    "    print '%s,%0.3f' % (name, page_rank)"
   ]
  },
  {
   "cell_type": "markdown",
   "metadata": {},
   "source": [
    "# HW 9.2: Exploring PageRank teleportation and network plots"
   ]
  },
  {
   "cell_type": "markdown",
   "metadata": {},
   "source": [
    "> In order to overcome  problems such as disconnected components, the damping factor (a typical value for $d$ is 0.85) can be varied.\n",
    "Using the graph in HW9.1, plot the test graph (using networkx, https://networkx.github.io/) for several values of the damping factor,\n",
    "so that each nodes radius is proportional to its PageRank score."
   ]
  },
  {
   "cell_type": "markdown",
   "metadata": {},
   "source": [
    "## Utility to plot a PageRank graph"
   ]
  },
  {
   "cell_type": "code",
   "execution_count": null,
   "metadata": {
    "collapsed": false
   },
   "outputs": [],
   "source": [
    "%matplotlib inline"
   ]
  },
  {
   "cell_type": "code",
   "execution_count": null,
   "metadata": {
    "collapsed": false
   },
   "outputs": [],
   "source": [
    "import matplotlib\n",
    "import networkx\n",
    "\n",
    "def plot_page_rank(subplot, title, page_ranks):\n",
    "\n",
    "    # Build up edges and create a graph\n",
    "\n",
    "    graph = networkx.MultiDiGraph()\n",
    "\n",
    "    for name, value in page_ranks.iteritems():\n",
    "        page_rank, neighbors = value\n",
    "        graph.add_edges_from([\n",
    "            (name, neighbor_name) for neighbor_name in neighbors.iterkeys()\n",
    "                if neighbor_name in page_ranks\n",
    "        ])\n",
    "\n",
    "    # Compute node sizes and labels based on page rank values. Use square roots of the\n",
    "    # page rank as the radius scale factor to avoid being misleading about area.\n",
    "\n",
    "    node_sizes = [\n",
    "        (page_ranks[node_id][0] ** 0.5) * 10000\n",
    "            for node_id in graph.nodes()\n",
    "    ]\n",
    "\n",
    "    # Create a circular layout for consistency unless we have too many nodes for the\n",
    "    # circle to make sense.\n",
    "\n",
    "    if len(node_sizes) <= 20:\n",
    "        node_labels = {\n",
    "            node_id: node_id + '\\n' + ('%0.01f' % (page_ranks[node_id][0] * 100)) + '%'\n",
    "                for node_id in graph.nodes()\n",
    "        }\n",
    "\n",
    "        node_positions = networkx.circular_layout(graph)\n",
    "    else:\n",
    "        node_labels = { node_id: '' for node_id in graph.nodes() }\n",
    "\n",
    "        node_positions = networkx.fruchterman_reingold_layout(graph)\n",
    "\n",
    "    # Plot the graph\n",
    "\n",
    "    networkx.draw_networkx(\n",
    "        graph,\n",
    "        ax = subplot,\n",
    "        style = 'dotted',\n",
    "        arrows = False,\n",
    "        node_color = '0.9',\n",
    "        pos = node_positions,\n",
    "        node_size = node_sizes,\n",
    "        labels = node_labels)\n",
    "\n",
    "    subplot.axis('off')\n",
    "    subplot.set_title(title)"
   ]
  },
  {
   "cell_type": "markdown",
   "metadata": {},
   "source": [
    "## Run PageRank with various damping factors"
   ]
  },
  {
   "cell_type": "markdown",
   "metadata": {},
   "source": [
    "> In particular you should\n",
    "do this for the following damping factors: [0,0.25,0.5,0.75, 0.85, 1]."
   ]
  },
  {
   "cell_type": "markdown",
   "metadata": {},
   "source": [
    "First, we'll compute the resulting page rank weights."
   ]
  },
  {
   "cell_type": "code",
   "execution_count": null,
   "metadata": {
    "collapsed": true
   },
   "outputs": [],
   "source": [
    "damping_factors = [0.0, 0.25, 0.5, 0.75, 0.85, 1.0]\n",
    "\n",
    "graphs = {\n",
    "    damping_factor: get_test_page_ranks(damping_factor)\n",
    "        for damping_factor in damping_factors\n",
    "}"
   ]
  },
  {
   "cell_type": "markdown",
   "metadata": {},
   "source": [
    "## Plot networkx graph for various damping factors"
   ]
  },
  {
   "cell_type": "markdown",
   "metadata": {},
   "source": [
    "With that, we can plot the graphs."
   ]
  },
  {
   "cell_type": "code",
   "execution_count": null,
   "metadata": {
    "collapsed": false
   },
   "outputs": [
    {
     "data": {
      "image/png": "[encoded data removed]",
      "text/plain": [
      ]
     },
     "metadata": {},
     "output_type": "display_data"
    }
   ],
   "source": [
    "import math\n",
    "\n",
    "graph_id = 0\n",
    "\n",
    "grid_cols = 2\n",
    "grid_rows = math.ceil(len(damping_factors) / grid_cols)\n",
    "\n",
    "fig = matplotlib.pyplot.figure(figsize = (16, 8 * grid_rows))\n",
    "\n",
    "for damping_factor, page_ranks in sorted(graphs.iteritems()):\n",
    "    graph_id += 1\n",
    "    subplot = fig.add_subplot(grid_rows, grid_cols, graph_id)\n",
    "    plot_page_rank(subplot, 'damping factor: ' + str(damping_factor), page_ranks)"
   ]
  },
  {
   "cell_type": "markdown",
   "metadata": {},
   "source": [
    "# HW 9.3: Applying PageRank to the Wikipedia hyperlinks network"
   ]
  },
  {
   "cell_type": "markdown",
   "metadata": {},
   "source": [
    "## Acquire Wikipedia hyperlinks network"
   ]
  },
  {
   "cell_type": "markdown",
   "metadata": {},
   "source": [
    "We will need both the `-out` and the `-in` degree node files."
   ]
  },
  {
   "cell_type": "code",
   "execution_count": null,
   "metadata": {
    "collapsed": false
   },
   "outputs": [],
   "source": [
    "wikipedia_out = get_s3_file('wikipedia', 'all-pages-indexed-out.txt')\n",
    "wikipedia_in = get_s3_file('wikipedia', 'all-pages-indexed-in.txt')\n",
    "wikipedia_in = get_s3_file('wikipedia', 'indices.txt')"
   ]
  },
  {
   "cell_type": "markdown",
   "metadata": {},
   "source": [
    "Split the files so that Hadoop knows to create enough mapper tasks."
   ]
  },
  {
   "cell_type": "code",
   "execution_count": null,
   "metadata": {
    "collapsed": false
   },
   "outputs": [],
   "source": [
    "split_for_hdfs(wikipedia_out)\n",
    "split_for_hdfs(wikipedia_in)"
   ]
  },
  {
   "cell_type": "markdown",
   "metadata": {},
   "source": [
    "It's easier to perform the page rank computation if we add all the dangling nodes to the graph."
   ]
  },
  {
   "cell_type": "code",
   "execution_count": null,
   "metadata": {
    "collapsed": false
   },
   "outputs": [
    {
     "name": "stdout",
     "output_type": "stream",
     "text": [
      "CPU times: user 10.2 s, sys: 1.52 s, total: 11.7 s\n",
      "Wall time: 11min 5s\n"
     ]
    }
   ],
   "source": [
    "%time wikipedia_all = add_dangling_nodes_job('hadoop', wikipedia_out, wikipedia_in)"
   ]
  },
  {
   "cell_type": "markdown",
   "metadata": {},
   "source": [
    "## Create job to sort by PageRank"
   ]
  },
  {
   "cell_type": "code",
   "execution_count": null,
   "metadata": {
    "collapsed": true
   },
   "outputs": [],
   "source": [
    "import heapq\n",
    "import math\n",
    "from mrjob.job import MRJob\n",
    "from mrjob.step import MRStep\n",
    "from mrjob.protocol import ReprProtocol\n",
    "import sys\n",
    "\n",
    "class PageRankTopNJob(MRJob):\n",
    "\n",
    "    INPUT_PROTOCOL = ReprProtocol\n",
    "    INTERNAL_PROTOCOL = ReprProtocol\n",
    "    OUTPUT_PROTOCOL = ReprProtocol\n",
    "\n",
    "    \"\"\"\n",
    "    Allow configuration of the N used for the top-N job.\n",
    "    \"\"\"\n",
    "    def configure_options(self):\n",
    "        super(PageRankTopNJob, self).configure_options()\n",
    "        self.add_passthrough_option('--n', default=100, type='int')\n",
    "        self.add_passthrough_option('--mapper-count', default=1, type='int')\n",
    "\n",
    "    \"\"\"\n",
    "    Initialize our priority queue to an empty list.\n",
    "    \"\"\"\n",
    "    def mapper_init(self):\n",
    "        self.top_n = []\n",
    "\n",
    "    \"\"\"\n",
    "    Buffer the top N results on the mapper side so that we can emit them during the final\n",
    "    stage to reduce the amount of network traffic. Allows single reducer approach to work\n",
    "    for larger networks like the Wikipedia graph.\n",
    "    \"\"\"\n",
    "    def mapper(self, key, node_data):\n",
    "        old_page_rank, older_page_rank, neighbors = node_data\n",
    "\n",
    "        # Use log page rank in case we decide to switch over to Hadoop sort rather\n",
    "        # than an in-memory sort for the reducer.\n",
    "\n",
    "        log_page_rank = math.log(old_page_rank)\n",
    "        heap_value = (log_page_rank, key, old_page_rank, older_page_rank, neighbors)\n",
    "\n",
    "        if len(self.top_n) == self.options.n:\n",
    "            heapq.heappushpop(self.top_n, heap_value)\n",
    "        else:\n",
    "            heapq.heappush(self.top_n, heap_value)\n",
    "\n",
    "    \"\"\"\n",
    "    Emit each of the items to the None key so that we can perform a reducer-side sort.\n",
    "    \"\"\"\n",
    "    def mapper_final(self):\n",
    "        for item in self.top_n:\n",
    "            yield None, item\n",
    "\n",
    "    \"\"\"\n",
    "    Reducer which accumulates the top N and then emits them.\n",
    "    \"\"\"\n",
    "    def reducer(self, _, all_items):\n",
    "        top_n = []\n",
    "\n",
    "        for item in all_items:\n",
    "            if len(top_n) == self.options.n:\n",
    "                heapq.heappushpop(top_n, item)\n",
    "            else:\n",
    "                heapq.heappush(top_n, item)\n",
    "\n",
    "        for item in heapq.nlargest(self.options.n, top_n):\n",
    "            key = item[1]\n",
    "            node_data = item[2:]\n",
    "\n",
    "            yield key, node_data\n",
    "\n",
    "    \"\"\"\n",
    "    Set the mapper and reducer count options to make sure that MRJob creates enough\n",
    "    mapper/reducer tasks.\n",
    "    \"\"\"\n",
    "    def steps(self):\n",
    "        step = MRStep(\n",
    "            mapper_init = self.mapper_init, mapper = self.mapper,\n",
    "            mapper_final = self.mapper_final, reducer = self.reducer,\n",
    "            jobconf = {\n",
    "                'mapreduce.job.maps': self.options.mapper_count,\n",
    "                'mapreduce.job.reduces': 1\n",
    "            })\n",
    "\n",
    "        return [step]\n",
    "\n",
    "if __name__ == '__main__' and sys.argv[0].find('ipykernel') == -1:\n",
    "    job = PageRankTopNJob()\n",
    "    job.run()"
   ]
  },
  {
   "cell_type": "markdown",
   "metadata": {},
   "source": [
    "Add a utility function to make it easy to call."
   ]
  },
  {
   "cell_type": "code",
   "execution_count": null,
   "metadata": {
    "collapsed": true
   },
   "outputs": [],
   "source": [
    "def page_rank_top_n_job(runner_type, graph_file, n):\n",
    "    output_folder = graph_file + '.top' + str(n)\n",
    "\n",
    "    remove_folder(runner_type, output_folder)\n",
    "\n",
    "    mrjob_graph_file = get_mrjob_path(runner_type, graph_file)\n",
    "    mrjob_output_folder = get_mrjob_path(runner_type, output_folder)\n",
    "\n",
    "    !python PageRankTopNJob.py \\\n",
    "        -r $runner_type \\\n",
    "        --strict-protocols \\\n",
    "        --no-bootstrap-mrjob \\\n",
    "        --no-output \\\n",
    "        --n $n \\\n",
    "        --mapper-count $mapper_count \\\n",
    "        --output-dir $mrjob_output_folder \\\n",
    "        $mrjob_graph_file \\\n",
    "        2> /dev/null\n",
    "\n",
    "    output = pipe_cat_output(runner_type, output_folder)\n",
    "\n",
    "    topn_graph = {}\n",
    "\n",
    "    for line in output.split('\\n'):\n",
    "        key, result = line.split('\\t', 1)\n",
    "\n",
    "        name = eval(key)\n",
    "\n",
    "        value = eval(result)\n",
    "        page_rank = value[0]\n",
    "        neighbors = value[2]\n",
    "\n",
    "        topn_graph[name] = (page_rank, neighbors)\n",
    "\n",
    "    return topn_graph"
   ]
  },
  {
   "cell_type": "markdown",
   "metadata": {},
   "source": [
    "Also provide a utility function that can print it in a nice table."
   ]
  },
  {
   "cell_type": "code",
   "execution_count": null,
   "metadata": {
    "collapsed": true
   },
   "outputs": [],
   "source": [
    "import pandas\n",
    "pandas.set_option('display.precision', 4)\n",
    "pandas.set_option('display.max_rows', 200)\n",
    "\n",
    "\"\"\"\n",
    "Prints the nodes in the page rank graph by joining on the given indices file. Essentially\n",
    "this is a hash join but done outside of MapReduce.\n",
    "\"\"\"\n",
    "def get_page_rank_table(page_rank_graph):\n",
    "    node_names = {}\n",
    "\n",
    "    with open('input/wikipedia/indices.txt') as indices_file:\n",
    "        for line in indices_file:\n",
    "            node_name, node_id, rest = line.split('\\t', 2)\n",
    "\n",
    "            if node_id in page_rank_graph:\n",
    "                node_names[node_id] = node_name\n",
    "\n",
    "    page_rank_list = [\n",
    "        (key, node_names[key], value[0])\n",
    "            for key, value in page_rank_graph.iteritems()\n",
    "    ]\n",
    "\n",
    "    sorted_page_rank_list = sorted(page_rank_list, key = lambda x: x[2], reverse = True)\n",
    "\n",
    "    return pandas.DataFrame(\n",
    "        sorted_page_rank_list,\n",
    "        columns = ['NodeId', 'NodeName', 'PageRank'])"
   ]
  },
  {
   "cell_type": "markdown",
   "metadata": {},
   "source": [
    "## Prepare Wikipedia for PageRank"
   ]
  },
  {
   "cell_type": "markdown",
   "metadata": {},
   "source": [
    "### Run PageRank for 5 iterations"
   ]
  },
  {
   "cell_type": "markdown",
   "metadata": {
    "collapsed": true
   },
   "source": [
    "First, we compute the number of dangling nodes."
   ]
  },
  {
   "cell_type": "code",
   "execution_count": null,
   "metadata": {
    "collapsed": true
   },
   "outputs": [],
   "source": [
    "wikipedia_out_node_count = get_line_count('hadoop', wikipedia_out)\n",
    "wikipedia_all_node_count = get_line_count('hadoop', wikipedia_all)\n",
    "wikipedia_dangling_node_count = wikipedia_all_node_count - wikipedia_out_node_count"
   ]
  },
  {
   "cell_type": "markdown",
   "metadata": {},
   "source": [
    "Then, we create a utility function which will run PageRank on the Wikipedia data set using the Hadoop runner."
   ]
  },
  {
   "cell_type": "code",
   "execution_count": null,
   "metadata": {
    "collapsed": true
   },
   "outputs": [],
   "source": [
    "run_wikipedia_page_ranks = functools.partial(\n",
    "    run_page_rank, 'hadoop', wikipedia_all, 'output/wikipedia',\n",
    "    wikipedia_all_node_count, wikipedia_dangling_node_count, 0.85)"
   ]
  },
  {
   "cell_type": "markdown",
   "metadata": {},
   "source": [
    "## Check PageRank after 5 iterations"
   ]
  },
  {
   "cell_type": "markdown",
   "metadata": {},
   "source": [
    "> Run your PageRank implementation on the Wikipedia dataset for 5 iterations.\n",
    "\n",
    "> [s3://ucb-mids-mls-networks/wikipedia/](http://s3-us-west-2.amazonaws.com/ucb-mids-mls-networks/wikipedia/)\n",
    "\n",
    "> Display the top 100 ranked nodes with $d = 0.85$, corresponding to teleportation factor $(1-d) = 0.15$."
   ]
  },
  {
   "cell_type": "markdown",
   "metadata": {},
   "source": [
    "### Run PageRank for 5 iterations"
   ]
  },
  {
   "cell_type": "code",
   "execution_count": null,
   "metadata": {
    "collapsed": false
   },
   "outputs": [
    {
     "name": "stdout",
     "output_type": "stream",
     "text": [
      "2016-03-15 06:35:52.298975 Running PageRank iteration 3\n",
      "2016-03-15 07:00:15.229310 Running convergence check for iteration 3\n",
      "2016-03-15 07:04:51.012614 Running PageRank iteration 4\n",
      "2016-03-15 07:27:51.682574 Running convergence check for iteration 4\n",
      "2016-03-15 07:31:57.421949 Running PageRank iteration 5\n",
      "2016-03-15 07:55:59.715481 Running convergence check for iteration 5\n",
      "CPU times: user 1min 10s, sys: 11.8 s, total: 1min 22s\n",
      "Wall time: 1h 25min 4s\n"
     ]
    }
   ],
   "source": [
    "%time unsorted_wikipedia_page_ranks_05 = \\\n",
    "    run_wikipedia_page_ranks(5, 0, True, False, True)"
   ]
  },
  {
   "cell_type": "markdown",
   "metadata": {},
   "source": [
    "### Check top 100 after 5 iterations"
   ]
  },
  {
   "cell_type": "code",
   "execution_count": null,
   "metadata": {
    "collapsed": false
   },
   "outputs": [
    {
     "name": "stdout",
     "output_type": "stream",
     "text": [
      "Deleted /user/ubuntu/output/wikipedia/005.top100\n",
      "CPU times: user 2.35 s, sys: 167 ms, total: 2.52 s\n",
      "Wall time: 2min 37s\n"
     ]
    }
   ],
   "source": [
    "%time top100_wikipedia_page_ranks_05 = \\\n",
    "    page_rank_top_n_job('hadoop', unsorted_wikipedia_page_ranks_05, 100)"
   ]
  },
  {
   "cell_type": "code",
   "execution_count": null,
   "metadata": {
    "collapsed": false
   },
   "outputs": [
    {
     "data": {
      "text/html": [
       "<div>\n",
       "<table border=\"1\" class=\"dataframe\">\n",
       "  <thead>\n",
       "    <tr style=\"text-align: right;\">\n",
       "      <th></th>\n",
       "      <th>NodeId</th>\n",
       "      <th>NodeName</th>\n",
       "      <th>PageRank</th>\n",
       "    </tr>\n",
       "  </thead>\n",
       "  <tbody>\n",
       "    <tr>\n",
       "      <th>0</th>\n",
       "      <td>13455888</td>\n",
       "      <td>United States</td>\n",
       "      <td>0.0015</td>\n",
       "    </tr>\n",
       "    <tr>\n",
       "      <th>1</th>\n",
       "      <td>1184351</td>\n",
       "      <td>Animal</td>\n",
       "      <td>0.0007</td>\n",
       "    </tr>\n",
       "    <tr>\n",
       "      <th>2</th>\n",
       "      <td>4695850</td>\n",
       "      <td>France</td>\n",
       "      <td>0.0006</td>\n",
       "    </tr>\n",
       "    <tr>\n",
       "      <th>3</th>\n",
       "      <td>5051368</td>\n",
       "      <td>Germany</td>\n",
       "      <td>0.0006</td>\n",
       "    </tr>\n",
       "    <tr>\n",
       "      <th>4</th>\n",
       "      <td>1384888</td>\n",
       "      <td>Arthropod</td>\n",
       "      <td>0.0005</td>\n",
       "    </tr>\n",
       "    <tr>\n",
       "      <th>5</th>\n",
       "      <td>7902219</td>\n",
       "      <td>List of sovereign states</td>\n",
       "      <td>0.0005</td>\n",
       "    </tr>\n",
       "    <tr>\n",
       "      <th>6</th>\n",
       "      <td>6113490</td>\n",
       "      <td>Insect</td>\n",
       "      <td>0.0005</td>\n",
       "    </tr>\n",
       "    <tr>\n",
       "      <th>7</th>\n",
       "      <td>2437837</td>\n",
       "      <td>Canada</td>\n",
       "      <td>0.0004</td>\n",
       "    </tr>\n",
       "    <tr>\n",
       "      <th>8</th>\n",
       "      <td>6076759</td>\n",
       "      <td>India</td>\n",
       "      <td>0.0004</td>\n",
       "    </tr>\n",
       "    <tr>\n",
       "      <th>9</th>\n",
       "      <td>13425865</td>\n",
       "      <td>United Kingdom</td>\n",
       "      <td>0.0004</td>\n",
       "    </tr>\n",
       "    <tr>\n",
       "      <th>10</th>\n",
       "      <td>4196067</td>\n",
       "      <td>England</td>\n",
       "      <td>0.0004</td>\n",
       "    </tr>\n",
       "    <tr>\n",
       "      <th>11</th>\n",
       "      <td>6172466</td>\n",
       "      <td>Iran</td>\n",
       "      <td>0.0004</td>\n",
       "    </tr>\n",
       "    <tr>\n",
       "      <th>12</th>\n",
       "      <td>14112583</td>\n",
       "      <td>World War II</td>\n",
       "      <td>0.0004</td>\n",
       "    </tr>\n",
       "    <tr>\n",
       "      <th>13</th>\n",
       "      <td>10390714</td>\n",
       "      <td>Poland</td>\n",
       "      <td>0.0004</td>\n",
       "    </tr>\n",
       "    <tr>\n",
       "      <th>14</th>\n",
       "      <td>15164193</td>\n",
       "      <td>village</td>\n",
       "      <td>0.0004</td>\n",
       "    </tr>\n",
       "    <tr>\n",
       "      <th>15</th>\n",
       "      <td>3191491</td>\n",
       "      <td>Countries of the world</td>\n",
       "      <td>0.0003</td>\n",
       "    </tr>\n",
       "    <tr>\n",
       "      <th>16</th>\n",
       "      <td>7835160</td>\n",
       "      <td>List of countries</td>\n",
       "      <td>0.0003</td>\n",
       "    </tr>\n",
       "    <tr>\n",
       "      <th>17</th>\n",
       "      <td>6416278</td>\n",
       "      <td>Japan</td>\n",
       "      <td>0.0003</td>\n",
       "    </tr>\n",
       "    <tr>\n",
       "      <th>18</th>\n",
       "      <td>6237129</td>\n",
       "      <td>Italy</td>\n",
       "      <td>0.0003</td>\n",
       "    </tr>\n",
       "    <tr>\n",
       "      <th>19</th>\n",
       "      <td>1516699</td>\n",
       "      <td>Australia</td>\n",
       "      <td>0.0003</td>\n",
       "    </tr>\n",
       "    <tr>\n",
       "      <th>20</th>\n",
       "      <td>13725487</td>\n",
       "      <td>Voivodeships of Poland</td>\n",
       "      <td>0.0003</td>\n",
       "    </tr>\n",
       "    <tr>\n",
       "      <th>21</th>\n",
       "      <td>7576704</td>\n",
       "      <td>Lepidoptera</td>\n",
       "      <td>0.0003</td>\n",
       "    </tr>\n",
       "    <tr>\n",
       "      <th>22</th>\n",
       "      <td>9276255</td>\n",
       "      <td>National Register of Historic Places</td>\n",
       "      <td>0.0003</td>\n",
       "    </tr>\n",
       "    <tr>\n",
       "      <th>23</th>\n",
       "      <td>10469541</td>\n",
       "      <td>Powiat</td>\n",
       "      <td>0.0003</td>\n",
       "    </tr>\n",
       "    <tr>\n",
       "      <th>24</th>\n",
       "      <td>5154210</td>\n",
       "      <td>Gmina</td>\n",
       "      <td>0.0003</td>\n",
       "    </tr>\n",
       "    <tr>\n",
       "      <th>25</th>\n",
       "      <td>7990491</td>\n",
       "      <td>London</td>\n",
       "      <td>0.0003</td>\n",
       "    </tr>\n",
       "    <tr>\n",
       "      <th>26</th>\n",
       "      <td>12836211</td>\n",
       "      <td>The New York Times</td>\n",
       "      <td>0.0003</td>\n",
       "    </tr>\n",
       "    <tr>\n",
       "      <th>27</th>\n",
       "      <td>4198751</td>\n",
       "      <td>English language</td>\n",
       "      <td>0.0003</td>\n",
       "    </tr>\n",
       "    <tr>\n",
       "      <th>28</th>\n",
       "      <td>2797855</td>\n",
       "      <td>China</td>\n",
       "      <td>0.0003</td>\n",
       "    </tr>\n",
       "    <tr>\n",
       "      <th>29</th>\n",
       "      <td>11253108</td>\n",
       "      <td>Russia</td>\n",
       "      <td>0.0003</td>\n",
       "    </tr>\n",
       "    <tr>\n",
       "      <th>30</th>\n",
       "      <td>3603527</td>\n",
       "      <td>Departments of France</td>\n",
       "      <td>0.0003</td>\n",
       "    </tr>\n",
       "    <tr>\n",
       "      <th>31</th>\n",
       "      <td>3069099</td>\n",
       "      <td>Communes of France</td>\n",
       "      <td>0.0003</td>\n",
       "    </tr>\n",
       "    <tr>\n",
       "      <th>32</th>\n",
       "      <td>9386580</td>\n",
       "      <td>New York City</td>\n",
       "      <td>0.0003</td>\n",
       "    </tr>\n",
       "    <tr>\n",
       "      <th>33</th>\n",
       "      <td>12074312</td>\n",
       "      <td>Spain</td>\n",
       "      <td>0.0003</td>\n",
       "    </tr>\n",
       "    <tr>\n",
       "      <th>34</th>\n",
       "      <td>14881689</td>\n",
       "      <td>moth</td>\n",
       "      <td>0.0003</td>\n",
       "    </tr>\n",
       "    <tr>\n",
       "      <th>35</th>\n",
       "      <td>2155467</td>\n",
       "      <td>Brazil</td>\n",
       "      <td>0.0002</td>\n",
       "    </tr>\n",
       "    <tr>\n",
       "      <th>36</th>\n",
       "      <td>1441065</td>\n",
       "      <td>Association football</td>\n",
       "      <td>0.0002</td>\n",
       "    </tr>\n",
       "    <tr>\n",
       "      <th>37</th>\n",
       "      <td>14503460</td>\n",
       "      <td>association football</td>\n",
       "      <td>0.0002</td>\n",
       "    </tr>\n",
       "    <tr>\n",
       "      <th>38</th>\n",
       "      <td>3191268</td>\n",
       "      <td>Counties of Iran</td>\n",
       "      <td>0.0002</td>\n",
       "    </tr>\n",
       "    <tr>\n",
       "      <th>39</th>\n",
       "      <td>10566120</td>\n",
       "      <td>Provinces of Iran</td>\n",
       "      <td>0.0002</td>\n",
       "    </tr>\n",
       "    <tr>\n",
       "      <th>40</th>\n",
       "      <td>2396749</td>\n",
       "      <td>California</td>\n",
       "      <td>0.0002</td>\n",
       "    </tr>\n",
       "    <tr>\n",
       "      <th>41</th>\n",
       "      <td>11147327</td>\n",
       "      <td>Romania</td>\n",
       "      <td>0.0002</td>\n",
       "    </tr>\n",
       "    <tr>\n",
       "      <th>42</th>\n",
       "      <td>2614581</td>\n",
       "      <td>Central European Time</td>\n",
       "      <td>0.0002</td>\n",
       "    </tr>\n",
       "    <tr>\n",
       "      <th>43</th>\n",
       "      <td>1637982</td>\n",
       "      <td>Bakhsh</td>\n",
       "      <td>0.0002</td>\n",
       "    </tr>\n",
       "    <tr>\n",
       "      <th>44</th>\n",
       "      <td>11245362</td>\n",
       "      <td>Rural Districts of Iran</td>\n",
       "      <td>0.0002</td>\n",
       "    </tr>\n",
       "    <tr>\n",
       "      <th>45</th>\n",
       "      <td>12430985</td>\n",
       "      <td>Sweden</td>\n",
       "      <td>0.0002</td>\n",
       "    </tr>\n",
       "    <tr>\n",
       "      <th>46</th>\n",
       "      <td>9355455</td>\n",
       "      <td>Netherlands</td>\n",
       "      <td>0.0002</td>\n",
       "    </tr>\n",
       "    <tr>\n",
       "      <th>47</th>\n",
       "      <td>10527224</td>\n",
       "      <td>Private Use Areas</td>\n",
       "      <td>0.0002</td>\n",
       "    </tr>\n",
       "    <tr>\n",
       "      <th>48</th>\n",
       "      <td>6172167</td>\n",
       "      <td>Iran Standard Time</td>\n",
       "      <td>0.0002</td>\n",
       "    </tr>\n",
       "    <tr>\n",
       "      <th>49</th>\n",
       "      <td>2614578</td>\n",
       "      <td>Central European Summer Time</td>\n",
       "      <td>0.0002</td>\n",
       "    </tr>\n",
       "    <tr>\n",
       "      <th>50</th>\n",
       "      <td>981395</td>\n",
       "      <td>AllMusic</td>\n",
       "      <td>0.0002</td>\n",
       "    </tr>\n",
       "    <tr>\n",
       "      <th>51</th>\n",
       "      <td>14112408</td>\n",
       "      <td>World War I</td>\n",
       "      <td>0.0002</td>\n",
       "    </tr>\n",
       "    <tr>\n",
       "      <th>52</th>\n",
       "      <td>8697871</td>\n",
       "      <td>Mexico</td>\n",
       "      <td>0.0002</td>\n",
       "    </tr>\n",
       "    <tr>\n",
       "      <th>53</th>\n",
       "      <td>9391762</td>\n",
       "      <td>New York</td>\n",
       "      <td>0.0002</td>\n",
       "    </tr>\n",
       "    <tr>\n",
       "      <th>54</th>\n",
       "      <td>6171937</td>\n",
       "      <td>Iran Daylight Time</td>\n",
       "      <td>0.0002</td>\n",
       "    </tr>\n",
       "    <tr>\n",
       "      <th>55</th>\n",
       "      <td>5490435</td>\n",
       "      <td>Hangul</td>\n",
       "      <td>0.0002</td>\n",
       "    </tr>\n",
       "    <tr>\n",
       "      <th>56</th>\n",
       "      <td>14725161</td>\n",
       "      <td>gene</td>\n",
       "      <td>0.0002</td>\n",
       "    </tr>\n",
       "    <tr>\n",
       "      <th>57</th>\n",
       "      <td>11582765</td>\n",
       "      <td>Scotland</td>\n",
       "      <td>0.0002</td>\n",
       "    </tr>\n",
       "    <tr>\n",
       "      <th>58</th>\n",
       "      <td>9562547</td>\n",
       "      <td>Norway</td>\n",
       "      <td>0.0002</td>\n",
       "    </tr>\n",
       "    <tr>\n",
       "      <th>59</th>\n",
       "      <td>994890</td>\n",
       "      <td>Allmusic</td>\n",
       "      <td>0.0002</td>\n",
       "    </tr>\n",
       "    <tr>\n",
       "      <th>60</th>\n",
       "      <td>12067030</td>\n",
       "      <td>Soviet Union</td>\n",
       "      <td>0.0002</td>\n",
       "    </tr>\n",
       "    <tr>\n",
       "      <th>61</th>\n",
       "      <td>10345830</td>\n",
       "      <td>Plant</td>\n",
       "      <td>0.0002</td>\n",
       "    </tr>\n",
       "    <tr>\n",
       "      <th>62</th>\n",
       "      <td>9394907</td>\n",
       "      <td>New Zealand</td>\n",
       "      <td>0.0002</td>\n",
       "    </tr>\n",
       "    <tr>\n",
       "      <th>63</th>\n",
       "      <td>13280859</td>\n",
       "      <td>Turkey</td>\n",
       "      <td>0.0002</td>\n",
       "    </tr>\n",
       "    <tr>\n",
       "      <th>64</th>\n",
       "      <td>9997298</td>\n",
       "      <td>Paris</td>\n",
       "      <td>0.0002</td>\n",
       "    </tr>\n",
       "    <tr>\n",
       "      <th>65</th>\n",
       "      <td>4978429</td>\n",
       "      <td>Geographic Names Information System</td>\n",
       "      <td>0.0002</td>\n",
       "    </tr>\n",
       "    <tr>\n",
       "      <th>66</th>\n",
       "      <td>12447593</td>\n",
       "      <td>Switzerland</td>\n",
       "      <td>0.0002</td>\n",
       "    </tr>\n",
       "    <tr>\n",
       "      <th>67</th>\n",
       "      <td>8019937</td>\n",
       "      <td>Los Angeles</td>\n",
       "      <td>0.0002</td>\n",
       "    </tr>\n",
       "    <tr>\n",
       "      <th>68</th>\n",
       "      <td>11148415</td>\n",
       "      <td>Romanize</td>\n",
       "      <td>0.0002</td>\n",
       "    </tr>\n",
       "    <tr>\n",
       "      <th>69</th>\n",
       "      <td>13432150</td>\n",
       "      <td>United States Census Bureau</td>\n",
       "      <td>0.0001</td>\n",
       "    </tr>\n",
       "    <tr>\n",
       "      <th>70</th>\n",
       "      <td>4344962</td>\n",
       "      <td>Europe</td>\n",
       "      <td>0.0001</td>\n",
       "    </tr>\n",
       "    <tr>\n",
       "      <th>71</th>\n",
       "      <td>1175360</td>\n",
       "      <td>Angiosperms</td>\n",
       "      <td>0.0001</td>\n",
       "    </tr>\n",
       "    <tr>\n",
       "      <th>72</th>\n",
       "      <td>4624519</td>\n",
       "      <td>Flowering plant</td>\n",
       "      <td>0.0001</td>\n",
       "    </tr>\n",
       "    <tr>\n",
       "      <th>73</th>\n",
       "      <td>12038331</td>\n",
       "      <td>South Africa</td>\n",
       "      <td>0.0001</td>\n",
       "    </tr>\n",
       "    <tr>\n",
       "      <th>74</th>\n",
       "      <td>14565507</td>\n",
       "      <td>census</td>\n",
       "      <td>0.0001</td>\n",
       "    </tr>\n",
       "    <tr>\n",
       "      <th>75</th>\n",
       "      <td>14981725</td>\n",
       "      <td>protein</td>\n",
       "      <td>0.0001</td>\n",
       "    </tr>\n",
       "    <tr>\n",
       "      <th>76</th>\n",
       "      <td>1523975</td>\n",
       "      <td>Austria</td>\n",
       "      <td>0.0001</td>\n",
       "    </tr>\n",
       "    <tr>\n",
       "      <th>77</th>\n",
       "      <td>13328060</td>\n",
       "      <td>U.S. state</td>\n",
       "      <td>0.0001</td>\n",
       "    </tr>\n",
       "    <tr>\n",
       "      <th>78</th>\n",
       "      <td>2826544</td>\n",
       "      <td>Chordate</td>\n",
       "      <td>0.0001</td>\n",
       "    </tr>\n",
       "    <tr>\n",
       "      <th>79</th>\n",
       "      <td>10399499</td>\n",
       "      <td>Political divisions of the United States</td>\n",
       "      <td>0.0001</td>\n",
       "    </tr>\n",
       "    <tr>\n",
       "      <th>80</th>\n",
       "      <td>1332806</td>\n",
       "      <td>Argentina</td>\n",
       "      <td>0.0001</td>\n",
       "    </tr>\n",
       "    <tr>\n",
       "      <th>81</th>\n",
       "      <td>14963657</td>\n",
       "      <td>population density</td>\n",
       "      <td>0.0001</td>\n",
       "    </tr>\n",
       "    <tr>\n",
       "      <th>82</th>\n",
       "      <td>1813634</td>\n",
       "      <td>Belgium</td>\n",
       "      <td>0.0001</td>\n",
       "    </tr>\n",
       "    <tr>\n",
       "      <th>83</th>\n",
       "      <td>2578813</td>\n",
       "      <td>Catholic Church</td>\n",
       "      <td>0.0001</td>\n",
       "    </tr>\n",
       "    <tr>\n",
       "      <th>84</th>\n",
       "      <td>1575979</td>\n",
       "      <td>BBC</td>\n",
       "      <td>0.0001</td>\n",
       "    </tr>\n",
       "    <tr>\n",
       "      <th>85</th>\n",
       "      <td>2778099</td>\n",
       "      <td>Chicago</td>\n",
       "      <td>0.0001</td>\n",
       "    </tr>\n",
       "    <tr>\n",
       "      <th>86</th>\n",
       "      <td>9924814</td>\n",
       "      <td>Pakistan</td>\n",
       "      <td>0.0001</td>\n",
       "    </tr>\n",
       "    <tr>\n",
       "      <th>87</th>\n",
       "      <td>13853369</td>\n",
       "      <td>Washington, D.C.</td>\n",
       "      <td>0.0001</td>\n",
       "    </tr>\n",
       "    <tr>\n",
       "      <th>88</th>\n",
       "      <td>4568647</td>\n",
       "      <td>Finland</td>\n",
       "      <td>0.0001</td>\n",
       "    </tr>\n",
       "    <tr>\n",
       "      <th>89</th>\n",
       "      <td>14727077</td>\n",
       "      <td>genus</td>\n",
       "      <td>0.0001</td>\n",
       "    </tr>\n",
       "    <tr>\n",
       "      <th>90</th>\n",
       "      <td>3328327</td>\n",
       "      <td>Czech Republic</td>\n",
       "      <td>0.0001</td>\n",
       "    </tr>\n",
       "    <tr>\n",
       "      <th>91</th>\n",
       "      <td>15070394</td>\n",
       "      <td>species</td>\n",
       "      <td>0.0001</td>\n",
       "    </tr>\n",
       "    <tr>\n",
       "      <th>92</th>\n",
       "      <td>3973000</td>\n",
       "      <td>Eastern European Time</td>\n",
       "      <td>0.0001</td>\n",
       "    </tr>\n",
       "    <tr>\n",
       "      <th>93</th>\n",
       "      <td>9742161</td>\n",
       "      <td>Ontario</td>\n",
       "      <td>0.0001</td>\n",
       "    </tr>\n",
       "    <tr>\n",
       "      <th>94</th>\n",
       "      <td>14709489</td>\n",
       "      <td>football (soccer)</td>\n",
       "      <td>0.0001</td>\n",
       "    </tr>\n",
       "    <tr>\n",
       "      <th>95</th>\n",
       "      <td>10246542</td>\n",
       "      <td>Philippines</td>\n",
       "      <td>0.0001</td>\n",
       "    </tr>\n",
       "    <tr>\n",
       "      <th>96</th>\n",
       "      <td>3591832</td>\n",
       "      <td>Denmark</td>\n",
       "      <td>0.0001</td>\n",
       "    </tr>\n",
       "    <tr>\n",
       "      <th>97</th>\n",
       "      <td>4320007</td>\n",
       "      <td>Eudicots</td>\n",
       "      <td>0.0001</td>\n",
       "    </tr>\n",
       "    <tr>\n",
       "      <th>98</th>\n",
       "      <td>5908108</td>\n",
       "      <td>Hungary</td>\n",
       "      <td>0.0001</td>\n",
       "    </tr>\n",
       "    <tr>\n",
       "      <th>99</th>\n",
       "      <td>5274313</td>\n",
       "      <td>Greece</td>\n",
       "      <td>0.0001</td>\n",
       "    </tr>\n",
       "  </tbody>\n",
       "</table>\n",
       "</div>"
      ],
      "text/plain": [
       "      NodeId                                  NodeName  PageRank\n",
       "0   13455888                             United States    0.0015\n",
       "1    1184351                                    Animal    0.0007\n",
       "2    4695850                                    France    0.0006\n",
       "3    5051368                                   Germany    0.0006\n",
       "4    1384888                                 Arthropod    0.0005\n",
       "5    7902219                  List of sovereign states    0.0005\n",
       "6    6113490                                    Insect    0.0005\n",
       "7    2437837                                    Canada    0.0004\n",
       "8    6076759                                     India    0.0004\n",
       "9   13425865                            United Kingdom    0.0004\n",
       "10   4196067                                   England    0.0004\n",
       "11   6172466                                      Iran    0.0004\n",
       "12  14112583                              World War II    0.0004\n",
       "13  10390714                                    Poland    0.0004\n",
       "14  15164193                                   village    0.0004\n",
       "15   3191491                    Countries of the world    0.0003\n",
       "16   7835160                         List of countries    0.0003\n",
       "17   6416278                                     Japan    0.0003\n",
       "18   6237129                                     Italy    0.0003\n",
       "19   1516699                                 Australia    0.0003\n",
       "20  13725487                    Voivodeships of Poland    0.0003\n",
       "21   7576704                               Lepidoptera    0.0003\n",
       "22   9276255      National Register of Historic Places    0.0003\n",
       "23  10469541                                    Powiat    0.0003\n",
       "24   5154210                                     Gmina    0.0003\n",
       "25   7990491                                    London    0.0003\n",
       "26  12836211                        The New York Times    0.0003\n",
       "27   4198751                          English language    0.0003\n",
       "28   2797855                                     China    0.0003\n",
       "29  11253108                                    Russia    0.0003\n",
       "30   3603527                     Departments of France    0.0003\n",
       "31   3069099                        Communes of France    0.0003\n",
       "32   9386580                             New York City    0.0003\n",
       "33  12074312                                     Spain    0.0003\n",
       "34  14881689                                      moth    0.0003\n",
       "35   2155467                                    Brazil    0.0002\n",
       "36   1441065                      Association football    0.0002\n",
       "37  14503460                      association football    0.0002\n",
       "38   3191268                          Counties of Iran    0.0002\n",
       "39  10566120                         Provinces of Iran    0.0002\n",
       "40   2396749                                California    0.0002\n",
       "41  11147327                                   Romania    0.0002\n",
       "42   2614581                     Central European Time    0.0002\n",
       "43   1637982                                    Bakhsh    0.0002\n",
       "44  11245362                   Rural Districts of Iran    0.0002\n",
       "45  12430985                                    Sweden    0.0002\n",
       "46   9355455                               Netherlands    0.0002\n",
       "47  10527224                         Private Use Areas    0.0002\n",
       "48   6172167                        Iran Standard Time    0.0002\n",
       "49   2614578              Central European Summer Time    0.0002\n",
       "50    981395                                  AllMusic    0.0002\n",
       "51  14112408                               World War I    0.0002\n",
       "52   8697871                                    Mexico    0.0002\n",
       "53   9391762                                  New York    0.0002\n",
       "54   6171937                        Iran Daylight Time    0.0002\n",
       "55   5490435                                    Hangul    0.0002\n",
       "56  14725161                                      gene    0.0002\n",
       "57  11582765                                  Scotland    0.0002\n",
       "58   9562547                                    Norway    0.0002\n",
       "59    994890                                  Allmusic    0.0002\n",
       "60  12067030                              Soviet Union    0.0002\n",
       "61  10345830                                     Plant    0.0002\n",
       "62   9394907                               New Zealand    0.0002\n",
       "63  13280859                                    Turkey    0.0002\n",
       "64   9997298                                     Paris    0.0002\n",
       "65   4978429       Geographic Names Information System    0.0002\n",
       "66  12447593                               Switzerland    0.0002\n",
       "67   8019937                               Los Angeles    0.0002\n",
       "68  11148415                                  Romanize    0.0002\n",
       "69  13432150               United States Census Bureau    0.0001\n",
       "70   4344962                                    Europe    0.0001\n",
       "71   1175360                               Angiosperms    0.0001\n",
       "72   4624519                           Flowering plant    0.0001\n",
       "73  12038331                              South Africa    0.0001\n",
       "74  14565507                                    census    0.0001\n",
       "75  14981725                                   protein    0.0001\n",
       "76   1523975                                   Austria    0.0001\n",
       "77  13328060                                U.S. state    0.0001\n",
       "78   2826544                                  Chordate    0.0001\n",
       "79  10399499  Political divisions of the United States    0.0001\n",
       "80   1332806                                 Argentina    0.0001\n",
       "81  14963657                        population density    0.0001\n",
       "82   1813634                                   Belgium    0.0001\n",
       "83   2578813                           Catholic Church    0.0001\n",
       "84   1575979                                       BBC    0.0001\n",
       "85   2778099                                   Chicago    0.0001\n",
       "86   9924814                                  Pakistan    0.0001\n",
       "87  13853369                          Washington, D.C.    0.0001\n",
       "88   4568647                                   Finland    0.0001\n",
       "89  14727077                                     genus    0.0001\n",
       "90   3328327                            Czech Republic    0.0001\n",
       "91  15070394                                   species    0.0001\n",
       "92   3973000                     Eastern European Time    0.0001\n",
       "93   9742161                                   Ontario    0.0001\n",
       "94  14709489                         football (soccer)    0.0001\n",
       "95  10246542                               Philippines    0.0001\n",
       "96   3591832                                   Denmark    0.0001\n",
       "97   4320007                                  Eudicots    0.0001\n",
       "98   5908108                                   Hungary    0.0001\n",
       "99   5274313                                    Greece    0.0001"
      ]
     },
     "execution_count": null,
     "metadata": {},
     "output_type": "execute_result"
    }
   ],
   "source": [
    "wikipedia_df_05 = get_page_rank_table(top100_wikipedia_page_ranks_05)\n",
    "wikipedia_df_05.to_csv('top100_wikipedia_page_ranks_05.csv')\n",
    "wikipedia_df_05"
   ]
  },
  {
   "cell_type": "markdown",
   "metadata": {},
   "source": [
    "## Check PageRank after 10 iterations"
   ]
  },
  {
   "cell_type": "markdown",
   "metadata": {},
   "source": [
    "> Run your PageRank implementation on the Wikipedia dataset for 10 iterations,\n",
    "and display the top 100 ranked nodes with $d = 0.85$, corresponding to teleportation factor $(1-d) = 0.15$."
   ]
  },
  {
   "cell_type": "markdown",
   "metadata": {},
   "source": [
    "### Run PageRank for 10 iterations"
   ]
  },
  {
   "cell_type": "code",
   "execution_count": null,
   "metadata": {
    "collapsed": false
   },
   "outputs": [
    {
     "name": "stdout",
     "output_type": "stream",
     "text": [
      "2016-03-15 08:19:25.593177 Running PageRank iteration 6\n",
      "2016-03-15 08:37:10.350500 Running convergence check for iteration 6\n",
      "2016-03-15 08:40:24.715343 Running PageRank iteration 7\n",
      "2016-03-15 08:57:09.767643 Running convergence check for iteration 7\n",
      "2016-03-15 09:00:46.333433 Running PageRank iteration 8\n",
      "2016-03-15 09:18:32.381305 Running convergence check for iteration 8\n",
      "2016-03-15 09:22:03.980942 Running PageRank iteration 9\n",
      "2016-03-15 09:39:52.245350 Running convergence check for iteration 9\n",
      "2016-03-15 09:43:28.774334 Running PageRank iteration 10\n",
      "2016-03-15 10:00:14.413423 Running convergence check for iteration 10\n",
      "CPU times: user 1min 28s, sys: 10.9 s, total: 1min 39s\n",
      "Wall time: 1h 44min 32s\n"
     ]
    }
   ],
   "source": [
    "%time unsorted_wikipedia_page_ranks_10 = \\\n",
    "    run_wikipedia_page_ranks(10, 0, True, False, True)"
   ]
  },
  {
   "cell_type": "markdown",
   "metadata": {},
   "source": [
    "### Check top 100 after 5 iterations"
   ]
  },
  {
   "cell_type": "code",
   "execution_count": null,
   "metadata": {
    "collapsed": false
   },
   "outputs": [
    {
     "name": "stdout",
     "output_type": "stream",
     "text": [
      "CPU times: user 2.18 s, sys: 395 ms, total: 2.58 s\n",
      "Wall time: 2min 23s\n"
     ]
    }
   ],
   "source": [
    "%time top100_wikipedia_page_ranks_10 = \\\n",
    "    page_rank_top_n_job('hadoop', unsorted_wikipedia_page_ranks_10, 100)"
   ]
  },
  {
   "cell_type": "code",
   "execution_count": null,
   "metadata": {
    "collapsed": false
   },
   "outputs": [
    {
     "data": {
      "text/html": [
       "<div>\n",
       "<table border=\"1\" class=\"dataframe\">\n",
       "  <thead>\n",
       "    <tr style=\"text-align: right;\">\n",
       "      <th></th>\n",
       "      <th>NodeId</th>\n",
       "      <th>NodeName</th>\n",
       "      <th>PageRank</th>\n",
       "    </tr>\n",
       "  </thead>\n",
       "  <tbody>\n",
       "    <tr>\n",
       "      <th>0</th>\n",
       "      <td>13455888</td>\n",
       "      <td>United States</td>\n",
       "      <td>0.0015</td>\n",
       "    </tr>\n",
       "    <tr>\n",
       "      <th>1</th>\n",
       "      <td>1184351</td>\n",
       "      <td>Animal</td>\n",
       "      <td>0.0007</td>\n",
       "    </tr>\n",
       "    <tr>\n",
       "      <th>2</th>\n",
       "      <td>4695850</td>\n",
       "      <td>France</td>\n",
       "      <td>0.0006</td>\n",
       "    </tr>\n",
       "    <tr>\n",
       "      <th>3</th>\n",
       "      <td>5051368</td>\n",
       "      <td>Germany</td>\n",
       "      <td>0.0006</td>\n",
       "    </tr>\n",
       "    <tr>\n",
       "      <th>4</th>\n",
       "      <td>1384888</td>\n",
       "      <td>Arthropod</td>\n",
       "      <td>0.0005</td>\n",
       "    </tr>\n",
       "    <tr>\n",
       "      <th>5</th>\n",
       "      <td>2437837</td>\n",
       "      <td>Canada</td>\n",
       "      <td>0.0004</td>\n",
       "    </tr>\n",
       "    <tr>\n",
       "      <th>6</th>\n",
       "      <td>6113490</td>\n",
       "      <td>Insect</td>\n",
       "      <td>0.0004</td>\n",
       "    </tr>\n",
       "    <tr>\n",
       "      <th>7</th>\n",
       "      <td>7902219</td>\n",
       "      <td>List of sovereign states</td>\n",
       "      <td>0.0004</td>\n",
       "    </tr>\n",
       "    <tr>\n",
       "      <th>8</th>\n",
       "      <td>13425865</td>\n",
       "      <td>United Kingdom</td>\n",
       "      <td>0.0004</td>\n",
       "    </tr>\n",
       "    <tr>\n",
       "      <th>9</th>\n",
       "      <td>6076759</td>\n",
       "      <td>India</td>\n",
       "      <td>0.0004</td>\n",
       "    </tr>\n",
       "    <tr>\n",
       "      <th>10</th>\n",
       "      <td>4196067</td>\n",
       "      <td>England</td>\n",
       "      <td>0.0004</td>\n",
       "    </tr>\n",
       "    <tr>\n",
       "      <th>11</th>\n",
       "      <td>6172466</td>\n",
       "      <td>Iran</td>\n",
       "      <td>0.0004</td>\n",
       "    </tr>\n",
       "    <tr>\n",
       "      <th>12</th>\n",
       "      <td>14112583</td>\n",
       "      <td>World War II</td>\n",
       "      <td>0.0004</td>\n",
       "    </tr>\n",
       "    <tr>\n",
       "      <th>13</th>\n",
       "      <td>10390714</td>\n",
       "      <td>Poland</td>\n",
       "      <td>0.0004</td>\n",
       "    </tr>\n",
       "    <tr>\n",
       "      <th>14</th>\n",
       "      <td>15164193</td>\n",
       "      <td>village</td>\n",
       "      <td>0.0003</td>\n",
       "    </tr>\n",
       "    <tr>\n",
       "      <th>15</th>\n",
       "      <td>3191491</td>\n",
       "      <td>Countries of the world</td>\n",
       "      <td>0.0003</td>\n",
       "    </tr>\n",
       "    <tr>\n",
       "      <th>16</th>\n",
       "      <td>6416278</td>\n",
       "      <td>Japan</td>\n",
       "      <td>0.0003</td>\n",
       "    </tr>\n",
       "    <tr>\n",
       "      <th>17</th>\n",
       "      <td>6237129</td>\n",
       "      <td>Italy</td>\n",
       "      <td>0.0003</td>\n",
       "    </tr>\n",
       "    <tr>\n",
       "      <th>18</th>\n",
       "      <td>7835160</td>\n",
       "      <td>List of countries</td>\n",
       "      <td>0.0003</td>\n",
       "    </tr>\n",
       "    <tr>\n",
       "      <th>19</th>\n",
       "      <td>1516699</td>\n",
       "      <td>Australia</td>\n",
       "      <td>0.0003</td>\n",
       "    </tr>\n",
       "    <tr>\n",
       "      <th>20</th>\n",
       "      <td>13725487</td>\n",
       "      <td>Voivodeships of Poland</td>\n",
       "      <td>0.0003</td>\n",
       "    </tr>\n",
       "    <tr>\n",
       "      <th>21</th>\n",
       "      <td>9276255</td>\n",
       "      <td>National Register of Historic Places</td>\n",
       "      <td>0.0003</td>\n",
       "    </tr>\n",
       "    <tr>\n",
       "      <th>22</th>\n",
       "      <td>7576704</td>\n",
       "      <td>Lepidoptera</td>\n",
       "      <td>0.0003</td>\n",
       "    </tr>\n",
       "    <tr>\n",
       "      <th>23</th>\n",
       "      <td>10469541</td>\n",
       "      <td>Powiat</td>\n",
       "      <td>0.0003</td>\n",
       "    </tr>\n",
       "    <tr>\n",
       "      <th>24</th>\n",
       "      <td>5154210</td>\n",
       "      <td>Gmina</td>\n",
       "      <td>0.0003</td>\n",
       "    </tr>\n",
       "    <tr>\n",
       "      <th>25</th>\n",
       "      <td>12836211</td>\n",
       "      <td>The New York Times</td>\n",
       "      <td>0.0003</td>\n",
       "    </tr>\n",
       "    <tr>\n",
       "      <th>26</th>\n",
       "      <td>7990491</td>\n",
       "      <td>London</td>\n",
       "      <td>0.0003</td>\n",
       "    </tr>\n",
       "    <tr>\n",
       "      <th>27</th>\n",
       "      <td>4198751</td>\n",
       "      <td>English language</td>\n",
       "      <td>0.0003</td>\n",
       "    </tr>\n",
       "    <tr>\n",
       "      <th>28</th>\n",
       "      <td>2797855</td>\n",
       "      <td>China</td>\n",
       "      <td>0.0003</td>\n",
       "    </tr>\n",
       "    <tr>\n",
       "      <th>29</th>\n",
       "      <td>11253108</td>\n",
       "      <td>Russia</td>\n",
       "      <td>0.0003</td>\n",
       "    </tr>\n",
       "    <tr>\n",
       "      <th>30</th>\n",
       "      <td>9386580</td>\n",
       "      <td>New York City</td>\n",
       "      <td>0.0003</td>\n",
       "    </tr>\n",
       "    <tr>\n",
       "      <th>31</th>\n",
       "      <td>3603527</td>\n",
       "      <td>Departments of France</td>\n",
       "      <td>0.0003</td>\n",
       "    </tr>\n",
       "    <tr>\n",
       "      <th>32</th>\n",
       "      <td>12074312</td>\n",
       "      <td>Spain</td>\n",
       "      <td>0.0003</td>\n",
       "    </tr>\n",
       "    <tr>\n",
       "      <th>33</th>\n",
       "      <td>3069099</td>\n",
       "      <td>Communes of France</td>\n",
       "      <td>0.0002</td>\n",
       "    </tr>\n",
       "    <tr>\n",
       "      <th>34</th>\n",
       "      <td>14881689</td>\n",
       "      <td>moth</td>\n",
       "      <td>0.0002</td>\n",
       "    </tr>\n",
       "    <tr>\n",
       "      <th>35</th>\n",
       "      <td>2155467</td>\n",
       "      <td>Brazil</td>\n",
       "      <td>0.0002</td>\n",
       "    </tr>\n",
       "    <tr>\n",
       "      <th>36</th>\n",
       "      <td>1441065</td>\n",
       "      <td>Association football</td>\n",
       "      <td>0.0002</td>\n",
       "    </tr>\n",
       "    <tr>\n",
       "      <th>37</th>\n",
       "      <td>14503460</td>\n",
       "      <td>association football</td>\n",
       "      <td>0.0002</td>\n",
       "    </tr>\n",
       "    <tr>\n",
       "      <th>38</th>\n",
       "      <td>2396749</td>\n",
       "      <td>California</td>\n",
       "      <td>0.0002</td>\n",
       "    </tr>\n",
       "    <tr>\n",
       "      <th>39</th>\n",
       "      <td>3191268</td>\n",
       "      <td>Counties of Iran</td>\n",
       "      <td>0.0002</td>\n",
       "    </tr>\n",
       "    <tr>\n",
       "      <th>40</th>\n",
       "      <td>10566120</td>\n",
       "      <td>Provinces of Iran</td>\n",
       "      <td>0.0002</td>\n",
       "    </tr>\n",
       "    <tr>\n",
       "      <th>41</th>\n",
       "      <td>2614581</td>\n",
       "      <td>Central European Time</td>\n",
       "      <td>0.0002</td>\n",
       "    </tr>\n",
       "    <tr>\n",
       "      <th>42</th>\n",
       "      <td>11147327</td>\n",
       "      <td>Romania</td>\n",
       "      <td>0.0002</td>\n",
       "    </tr>\n",
       "    <tr>\n",
       "      <th>43</th>\n",
       "      <td>1637982</td>\n",
       "      <td>Bakhsh</td>\n",
       "      <td>0.0002</td>\n",
       "    </tr>\n",
       "    <tr>\n",
       "      <th>44</th>\n",
       "      <td>12430985</td>\n",
       "      <td>Sweden</td>\n",
       "      <td>0.0002</td>\n",
       "    </tr>\n",
       "    <tr>\n",
       "      <th>45</th>\n",
       "      <td>11245362</td>\n",
       "      <td>Rural Districts of Iran</td>\n",
       "      <td>0.0002</td>\n",
       "    </tr>\n",
       "    <tr>\n",
       "      <th>46</th>\n",
       "      <td>9355455</td>\n",
       "      <td>Netherlands</td>\n",
       "      <td>0.0002</td>\n",
       "    </tr>\n",
       "    <tr>\n",
       "      <th>47</th>\n",
       "      <td>10527224</td>\n",
       "      <td>Private Use Areas</td>\n",
       "      <td>0.0002</td>\n",
       "    </tr>\n",
       "    <tr>\n",
       "      <th>48</th>\n",
       "      <td>14112408</td>\n",
       "      <td>World War I</td>\n",
       "      <td>0.0002</td>\n",
       "    </tr>\n",
       "    <tr>\n",
       "      <th>49</th>\n",
       "      <td>2614578</td>\n",
       "      <td>Central European Summer Time</td>\n",
       "      <td>0.0002</td>\n",
       "    </tr>\n",
       "    <tr>\n",
       "      <th>50</th>\n",
       "      <td>9391762</td>\n",
       "      <td>New York</td>\n",
       "      <td>0.0002</td>\n",
       "    </tr>\n",
       "    <tr>\n",
       "      <th>51</th>\n",
       "      <td>8697871</td>\n",
       "      <td>Mexico</td>\n",
       "      <td>0.0002</td>\n",
       "    </tr>\n",
       "    <tr>\n",
       "      <th>52</th>\n",
       "      <td>6172167</td>\n",
       "      <td>Iran Standard Time</td>\n",
       "      <td>0.0002</td>\n",
       "    </tr>\n",
       "    <tr>\n",
       "      <th>53</th>\n",
       "      <td>981395</td>\n",
       "      <td>AllMusic</td>\n",
       "      <td>0.0002</td>\n",
       "    </tr>\n",
       "    <tr>\n",
       "      <th>54</th>\n",
       "      <td>6171937</td>\n",
       "      <td>Iran Daylight Time</td>\n",
       "      <td>0.0002</td>\n",
       "    </tr>\n",
       "    <tr>\n",
       "      <th>55</th>\n",
       "      <td>5490435</td>\n",
       "      <td>Hangul</td>\n",
       "      <td>0.0002</td>\n",
       "    </tr>\n",
       "    <tr>\n",
       "      <th>56</th>\n",
       "      <td>11582765</td>\n",
       "      <td>Scotland</td>\n",
       "      <td>0.0002</td>\n",
       "    </tr>\n",
       "    <tr>\n",
       "      <th>57</th>\n",
       "      <td>14725161</td>\n",
       "      <td>gene</td>\n",
       "      <td>0.0002</td>\n",
       "    </tr>\n",
       "    <tr>\n",
       "      <th>58</th>\n",
       "      <td>12067030</td>\n",
       "      <td>Soviet Union</td>\n",
       "      <td>0.0002</td>\n",
       "    </tr>\n",
       "    <tr>\n",
       "      <th>59</th>\n",
       "      <td>9562547</td>\n",
       "      <td>Norway</td>\n",
       "      <td>0.0002</td>\n",
       "    </tr>\n",
       "    <tr>\n",
       "      <th>60</th>\n",
       "      <td>994890</td>\n",
       "      <td>Allmusic</td>\n",
       "      <td>0.0002</td>\n",
       "    </tr>\n",
       "    <tr>\n",
       "      <th>61</th>\n",
       "      <td>9997298</td>\n",
       "      <td>Paris</td>\n",
       "      <td>0.0002</td>\n",
       "    </tr>\n",
       "    <tr>\n",
       "      <th>62</th>\n",
       "      <td>9394907</td>\n",
       "      <td>New Zealand</td>\n",
       "      <td>0.0002</td>\n",
       "    </tr>\n",
       "    <tr>\n",
       "      <th>63</th>\n",
       "      <td>13280859</td>\n",
       "      <td>Turkey</td>\n",
       "      <td>0.0002</td>\n",
       "    </tr>\n",
       "    <tr>\n",
       "      <th>64</th>\n",
       "      <td>10345830</td>\n",
       "      <td>Plant</td>\n",
       "      <td>0.0002</td>\n",
       "    </tr>\n",
       "    <tr>\n",
       "      <th>65</th>\n",
       "      <td>4978429</td>\n",
       "      <td>Geographic Names Information System</td>\n",
       "      <td>0.0002</td>\n",
       "    </tr>\n",
       "    <tr>\n",
       "      <th>66</th>\n",
       "      <td>12447593</td>\n",
       "      <td>Switzerland</td>\n",
       "      <td>0.0002</td>\n",
       "    </tr>\n",
       "    <tr>\n",
       "      <th>67</th>\n",
       "      <td>8019937</td>\n",
       "      <td>Los Angeles</td>\n",
       "      <td>0.0002</td>\n",
       "    </tr>\n",
       "    <tr>\n",
       "      <th>68</th>\n",
       "      <td>11148415</td>\n",
       "      <td>Romanize</td>\n",
       "      <td>0.0001</td>\n",
       "    </tr>\n",
       "    <tr>\n",
       "      <th>69</th>\n",
       "      <td>13432150</td>\n",
       "      <td>United States Census Bureau</td>\n",
       "      <td>0.0001</td>\n",
       "    </tr>\n",
       "    <tr>\n",
       "      <th>70</th>\n",
       "      <td>4344962</td>\n",
       "      <td>Europe</td>\n",
       "      <td>0.0001</td>\n",
       "    </tr>\n",
       "    <tr>\n",
       "      <th>71</th>\n",
       "      <td>1175360</td>\n",
       "      <td>Angiosperms</td>\n",
       "      <td>0.0001</td>\n",
       "    </tr>\n",
       "    <tr>\n",
       "      <th>72</th>\n",
       "      <td>12038331</td>\n",
       "      <td>South Africa</td>\n",
       "      <td>0.0001</td>\n",
       "    </tr>\n",
       "    <tr>\n",
       "      <th>73</th>\n",
       "      <td>14565507</td>\n",
       "      <td>census</td>\n",
       "      <td>0.0001</td>\n",
       "    </tr>\n",
       "    <tr>\n",
       "      <th>74</th>\n",
       "      <td>4624519</td>\n",
       "      <td>Flowering plant</td>\n",
       "      <td>0.0001</td>\n",
       "    </tr>\n",
       "    <tr>\n",
       "      <th>75</th>\n",
       "      <td>1523975</td>\n",
       "      <td>Austria</td>\n",
       "      <td>0.0001</td>\n",
       "    </tr>\n",
       "    <tr>\n",
       "      <th>76</th>\n",
       "      <td>14981725</td>\n",
       "      <td>protein</td>\n",
       "      <td>0.0001</td>\n",
       "    </tr>\n",
       "    <tr>\n",
       "      <th>77</th>\n",
       "      <td>13328060</td>\n",
       "      <td>U.S. state</td>\n",
       "      <td>0.0001</td>\n",
       "    </tr>\n",
       "    <tr>\n",
       "      <th>78</th>\n",
       "      <td>1332806</td>\n",
       "      <td>Argentina</td>\n",
       "      <td>0.0001</td>\n",
       "    </tr>\n",
       "    <tr>\n",
       "      <th>79</th>\n",
       "      <td>10399499</td>\n",
       "      <td>Political divisions of the United States</td>\n",
       "      <td>0.0001</td>\n",
       "    </tr>\n",
       "    <tr>\n",
       "      <th>80</th>\n",
       "      <td>14963657</td>\n",
       "      <td>population density</td>\n",
       "      <td>0.0001</td>\n",
       "    </tr>\n",
       "    <tr>\n",
       "      <th>81</th>\n",
       "      <td>2578813</td>\n",
       "      <td>Catholic Church</td>\n",
       "      <td>0.0001</td>\n",
       "    </tr>\n",
       "    <tr>\n",
       "      <th>82</th>\n",
       "      <td>2826544</td>\n",
       "      <td>Chordate</td>\n",
       "      <td>0.0001</td>\n",
       "    </tr>\n",
       "    <tr>\n",
       "      <th>83</th>\n",
       "      <td>1575979</td>\n",
       "      <td>BBC</td>\n",
       "      <td>0.0001</td>\n",
       "    </tr>\n",
       "    <tr>\n",
       "      <th>84</th>\n",
       "      <td>1813634</td>\n",
       "      <td>Belgium</td>\n",
       "      <td>0.0001</td>\n",
       "    </tr>\n",
       "    <tr>\n",
       "      <th>85</th>\n",
       "      <td>2778099</td>\n",
       "      <td>Chicago</td>\n",
       "      <td>0.0001</td>\n",
       "    </tr>\n",
       "    <tr>\n",
       "      <th>86</th>\n",
       "      <td>13853369</td>\n",
       "      <td>Washington, D.C.</td>\n",
       "      <td>0.0001</td>\n",
       "    </tr>\n",
       "    <tr>\n",
       "      <th>87</th>\n",
       "      <td>9924814</td>\n",
       "      <td>Pakistan</td>\n",
       "      <td>0.0001</td>\n",
       "    </tr>\n",
       "    <tr>\n",
       "      <th>88</th>\n",
       "      <td>4568647</td>\n",
       "      <td>Finland</td>\n",
       "      <td>0.0001</td>\n",
       "    </tr>\n",
       "    <tr>\n",
       "      <th>89</th>\n",
       "      <td>12785678</td>\n",
       "      <td>The Guardian</td>\n",
       "      <td>0.0001</td>\n",
       "    </tr>\n",
       "    <tr>\n",
       "      <th>90</th>\n",
       "      <td>7467127</td>\n",
       "      <td>Latin</td>\n",
       "      <td>0.0001</td>\n",
       "    </tr>\n",
       "    <tr>\n",
       "      <th>91</th>\n",
       "      <td>9742161</td>\n",
       "      <td>Ontario</td>\n",
       "      <td>0.0001</td>\n",
       "    </tr>\n",
       "    <tr>\n",
       "      <th>92</th>\n",
       "      <td>3328327</td>\n",
       "      <td>Czech Republic</td>\n",
       "      <td>0.0001</td>\n",
       "    </tr>\n",
       "    <tr>\n",
       "      <th>93</th>\n",
       "      <td>10246542</td>\n",
       "      <td>Philippines</td>\n",
       "      <td>0.0001</td>\n",
       "    </tr>\n",
       "    <tr>\n",
       "      <th>94</th>\n",
       "      <td>3591832</td>\n",
       "      <td>Denmark</td>\n",
       "      <td>0.0001</td>\n",
       "    </tr>\n",
       "    <tr>\n",
       "      <th>95</th>\n",
       "      <td>5274313</td>\n",
       "      <td>Greece</td>\n",
       "      <td>0.0001</td>\n",
       "    </tr>\n",
       "    <tr>\n",
       "      <th>96</th>\n",
       "      <td>14727077</td>\n",
       "      <td>genus</td>\n",
       "      <td>0.0001</td>\n",
       "    </tr>\n",
       "    <tr>\n",
       "      <th>97</th>\n",
       "      <td>14709489</td>\n",
       "      <td>football (soccer)</td>\n",
       "      <td>0.0001</td>\n",
       "    </tr>\n",
       "    <tr>\n",
       "      <th>98</th>\n",
       "      <td>5908108</td>\n",
       "      <td>Hungary</td>\n",
       "      <td>0.0001</td>\n",
       "    </tr>\n",
       "    <tr>\n",
       "      <th>99</th>\n",
       "      <td>3973000</td>\n",
       "      <td>Eastern European Time</td>\n",
       "      <td>0.0001</td>\n",
       "    </tr>\n",
       "  </tbody>\n",
       "</table>\n",
       "</div>"
      ],
      "text/plain": [
       "      NodeId                                  NodeName  PageRank\n",
       "0   13455888                             United States    0.0015\n",
       "1    1184351                                    Animal    0.0007\n",
       "2    4695850                                    France    0.0006\n",
       "3    5051368                                   Germany    0.0006\n",
       "4    1384888                                 Arthropod    0.0005\n",
       "5    2437837                                    Canada    0.0004\n",
       "6    6113490                                    Insect    0.0004\n",
       "7    7902219                  List of sovereign states    0.0004\n",
       "8   13425865                            United Kingdom    0.0004\n",
       "9    6076759                                     India    0.0004\n",
       "10   4196067                                   England    0.0004\n",
       "11   6172466                                      Iran    0.0004\n",
       "12  14112583                              World War II    0.0004\n",
       "13  10390714                                    Poland    0.0004\n",
       "14  15164193                                   village    0.0003\n",
       "15   3191491                    Countries of the world    0.0003\n",
       "16   6416278                                     Japan    0.0003\n",
       "17   6237129                                     Italy    0.0003\n",
       "18   7835160                         List of countries    0.0003\n",
       "19   1516699                                 Australia    0.0003\n",
       "20  13725487                    Voivodeships of Poland    0.0003\n",
       "21   9276255      National Register of Historic Places    0.0003\n",
       "22   7576704                               Lepidoptera    0.0003\n",
       "23  10469541                                    Powiat    0.0003\n",
       "24   5154210                                     Gmina    0.0003\n",
       "25  12836211                        The New York Times    0.0003\n",
       "26   7990491                                    London    0.0003\n",
       "27   4198751                          English language    0.0003\n",
       "28   2797855                                     China    0.0003\n",
       "29  11253108                                    Russia    0.0003\n",
       "30   9386580                             New York City    0.0003\n",
       "31   3603527                     Departments of France    0.0003\n",
       "32  12074312                                     Spain    0.0003\n",
       "33   3069099                        Communes of France    0.0002\n",
       "34  14881689                                      moth    0.0002\n",
       "35   2155467                                    Brazil    0.0002\n",
       "36   1441065                      Association football    0.0002\n",
       "37  14503460                      association football    0.0002\n",
       "38   2396749                                California    0.0002\n",
       "39   3191268                          Counties of Iran    0.0002\n",
       "40  10566120                         Provinces of Iran    0.0002\n",
       "41   2614581                     Central European Time    0.0002\n",
       "42  11147327                                   Romania    0.0002\n",
       "43   1637982                                    Bakhsh    0.0002\n",
       "44  12430985                                    Sweden    0.0002\n",
       "45  11245362                   Rural Districts of Iran    0.0002\n",
       "46   9355455                               Netherlands    0.0002\n",
       "47  10527224                         Private Use Areas    0.0002\n",
       "48  14112408                               World War I    0.0002\n",
       "49   2614578              Central European Summer Time    0.0002\n",
       "50   9391762                                  New York    0.0002\n",
       "51   8697871                                    Mexico    0.0002\n",
       "52   6172167                        Iran Standard Time    0.0002\n",
       "53    981395                                  AllMusic    0.0002\n",
       "54   6171937                        Iran Daylight Time    0.0002\n",
       "55   5490435                                    Hangul    0.0002\n",
       "56  11582765                                  Scotland    0.0002\n",
       "57  14725161                                      gene    0.0002\n",
       "58  12067030                              Soviet Union    0.0002\n",
       "59   9562547                                    Norway    0.0002\n",
       "60    994890                                  Allmusic    0.0002\n",
       "61   9997298                                     Paris    0.0002\n",
       "62   9394907                               New Zealand    0.0002\n",
       "63  13280859                                    Turkey    0.0002\n",
       "64  10345830                                     Plant    0.0002\n",
       "65   4978429       Geographic Names Information System    0.0002\n",
       "66  12447593                               Switzerland    0.0002\n",
       "67   8019937                               Los Angeles    0.0002\n",
       "68  11148415                                  Romanize    0.0001\n",
       "69  13432150               United States Census Bureau    0.0001\n",
       "70   4344962                                    Europe    0.0001\n",
       "71   1175360                               Angiosperms    0.0001\n",
       "72  12038331                              South Africa    0.0001\n",
       "73  14565507                                    census    0.0001\n",
       "74   4624519                           Flowering plant    0.0001\n",
       "75   1523975                                   Austria    0.0001\n",
       "76  14981725                                   protein    0.0001\n",
       "77  13328060                                U.S. state    0.0001\n",
       "78   1332806                                 Argentina    0.0001\n",
       "79  10399499  Political divisions of the United States    0.0001\n",
       "80  14963657                        population density    0.0001\n",
       "81   2578813                           Catholic Church    0.0001\n",
       "82   2826544                                  Chordate    0.0001\n",
       "83   1575979                                       BBC    0.0001\n",
       "84   1813634                                   Belgium    0.0001\n",
       "85   2778099                                   Chicago    0.0001\n",
       "86  13853369                          Washington, D.C.    0.0001\n",
       "87   9924814                                  Pakistan    0.0001\n",
       "88   4568647                                   Finland    0.0001\n",
       "89  12785678                              The Guardian    0.0001\n",
       "90   7467127                                     Latin    0.0001\n",
       "91   9742161                                   Ontario    0.0001\n",
       "92   3328327                            Czech Republic    0.0001\n",
       "93  10246542                               Philippines    0.0001\n",
       "94   3591832                                   Denmark    0.0001\n",
       "95   5274313                                    Greece    0.0001\n",
       "96  14727077                                     genus    0.0001\n",
       "97  14709489                         football (soccer)    0.0001\n",
       "98   5908108                                   Hungary    0.0001\n",
       "99   3973000                     Eastern European Time    0.0001"
      ]
     },
     "execution_count": null,
     "metadata": {},
     "output_type": "execute_result"
    }
   ],
   "source": [
    "wikipedia_df_10 = get_page_rank_table(top100_wikipedia_page_ranks_10)\n",
    "wikipedia_df_10.to_csv('top100_wikipedia_page_ranks_10.csv')\n",
    "wikipedia_df_10"
   ]
  },
  {
   "cell_type": "markdown",
   "metadata": {},
   "source": [
    "## Compare top 100 for different iterations"
   ]
  },
  {
   "cell_type": "markdown",
   "metadata": {},
   "source": [
    "> Have the top 100 ranked pages changed? Comment on your findings."
   ]
  },
  {
   "cell_type": "markdown",
   "metadata": {},
   "source": [
    "### Overlap check"
   ]
  },
  {
   "cell_type": "markdown",
   "metadata": {},
   "source": [
    "Find the set intersection to check for the number of nodes that overlap."
   ]
  },
  {
   "cell_type": "code",
   "execution_count": null,
   "metadata": {
    "collapsed": false
   },
   "outputs": [
    {
     "name": "stdout",
     "output_type": "stream",
     "text": [
      "intersection: 98 nodes\n"
     ]
    }
   ],
   "source": [
    "top100_nodes_05 = set(top100_wikipedia_page_ranks_05.keys())\n",
    "top100_nodes_10 = set(top100_wikipedia_page_ranks_10.keys())\n",
    "\n",
    "intersection = top100_nodes_05 & top100_nodes_10\n",
    "print 'intersection:', len(intersection), 'nodes'"
   ]
  },
  {
   "cell_type": "markdown",
   "metadata": {},
   "source": [
    "From the size of the intersection, we can see that the top 100 are consistently the same pages after the first 10 iterations (there is a 98% overlap) and that any position changes in the top 100 are probably switches between the pages."
   ]
  },
  {
   "cell_type": "markdown",
   "metadata": {},
   "source": [
    "### Distance check"
   ]
  },
  {
   "cell_type": "markdown",
   "metadata": {},
   "source": [
    "We can also check the Levenshtein distance between the two rankings to see how much the rankings themselves have changed."
   ]
  },
  {
   "cell_type": "code",
   "execution_count": null,
   "metadata": {
    "collapsed": false
   },
   "outputs": [
    {
     "data": {
      "text/plain": [
       "48"
      ]
     },
     "execution_count": null,
     "metadata": {},
     "output_type": "execute_result"
    }
   ],
   "source": [
    "# Borrowed under Creative Commons\n",
    "# http://hetland.org/coding/python/levenshtein.py\n",
    "\n",
    "def levenshtein(a,b):\n",
    "    \"Calculates the Levenshtein distance between a and b.\"\n",
    "    n, m = len(a), len(b)\n",
    "    if n > m:\n",
    "        # Make sure n <= m, to use O(min(n,m)) space\n",
    "        a,b = b,a\n",
    "        n,m = m,n\n",
    "\n",
    "    current = range(n+1)\n",
    "    for i in range(1,m+1):\n",
    "        previous, current = current, [i]+[0]*n\n",
    "        for j in range(1,n+1):\n",
    "            add, delete = previous[j]+1, current[j-1]+1\n",
    "            change = previous[j-1]\n",
    "            if a[j-1] != b[i-1]:\n",
    "                change = change + 1\n",
    "            current[j] = min(add, delete, change)\n",
    "\n",
    "    return current[n]\n",
    "\n",
    "levenshtein(wikipedia_df_05['NodeId'].tolist(), wikipedia_df_10['NodeId'].tolist())"
   ]
  },
  {
   "cell_type": "markdown",
   "metadata": {},
   "source": [
    "The Levenshtein distance is 48, indicating that the similarity between the two rankings is only 52%. Therefore, while there is substantial overlap, the two are not as similar as the overlap suggests, suggesting that there is a lot of times where pages switch ranks."
   ]
  },
  {
   "cell_type": "markdown",
   "metadata": {},
   "source": [
    "### Plotted rank values"
   ]
  },
  {
   "cell_type": "markdown",
   "metadata": {},
   "source": [
    "Finally, we can compare the plotted raw values for the page ranks."
   ]
  },
  {
   "cell_type": "code",
   "execution_count": null,
   "metadata": {
    "collapsed": false
   },
   "outputs": [
    {
     "data": {
      "image/png": "[encoded data removed]",
      "text/plain": [
      ]
     },
     "metadata": {},
     "output_type": "display_data"
    },
    {
     "data": {
      "image/png": "[encoded data removed]",
      "text/plain": [
      ]
     },
     "metadata": {},
     "output_type": "display_data"
    }
   ],
   "source": [
    "import numpy\n",
    "\n",
    "top100_comparison_df = pandas.concat(\n",
    "    [wikipedia_df_05['PageRank'], wikipedia_df_10['PageRank']],\n",
    "    axis = 1, keys = ['5 Iterations', '10 Iterations'])\n",
    "\n",
    "# Plot both plots on separate plots.\n",
    "\n",
    "subplots = top100_comparison_df.plot(\n",
    "    figsize = (16, 5), layout = (1, 2),\n",
    "    logy = True, kind = 'line', subplots = True)\n",
    "\n",
    "subplots[0][0].set_title('Top 100 PageRank Scores\\nAfter 5 Iterations')\n",
    "subplots[0][0].set_xlabel('Top 100 Position')\n",
    "subplots[0][0].set_ylabel('PageRank Score (log scale)')\n",
    "\n",
    "subplots[0][1].set_title('Top 100 PageRank Scores\\nAfter 10 Iterations')\n",
    "subplots[0][1].set_xlabel('Top 100 Position')\n",
    "subplots[0][1].set_ylabel('PageRank Score (log scale)')\n",
    "\n",
    "# Plot both plots on the same plot, but with log scale to make small differences\n",
    "# more visible.\n",
    "\n",
    "subplot = top100_comparison_df.plot(\n",
    "    figsize = (16, 5),\n",
    "    logy = True, kind = 'line')\n",
    "\n",
    "subplot.set_title('Top 100 PageRank Scores\\nAfter 5 and 10 Iterations')\n",
    "subplot.set_xlabel('Top 100 Position')\n",
    "subplot.set_ylabel('PageRank Score (log scale)');"
   ]
  },
  {
   "cell_type": "markdown",
   "metadata": {},
   "source": [
    "This shows that if we look at the log of the page rank values independent of the pages, the two line plots very nearly overlap with each other."
   ]
  },
  {
   "cell_type": "markdown",
   "metadata": {},
   "source": [
    "## Plot networkx graph for top 100 ranked pages"
   ]
  },
  {
   "cell_type": "markdown",
   "metadata": {},
   "source": [
    "> Plot the pagerank values for the top 100 pages resulting from the 5 iterations run. Then plot the pagerank values for the same 100 pages that resulted from the 10 iterations run."
   ]
  },
  {
   "cell_type": "code",
   "execution_count": null,
   "metadata": {
    "collapsed": false
   },
   "outputs": [
    {
     "data": {
      "image/png": "[encoded data removed]",
      "text/plain": [
      ]
     },
     "metadata": {},
     "output_type": "display_data"
    }
   ],
   "source": [
    "import math\n",
    "\n",
    "fig = matplotlib.pyplot.figure(figsize = (16, 12))\n",
    "\n",
    "subplot = fig.add_subplot(2, 1, 1)\n",
    "plot_page_rank(subplot, 'Top 100 after 5 Iterations', top100_wikipedia_page_ranks_05)\n",
    "\n",
    "subplot = fig.add_subplot(2, 1, 2)\n",
    "plot_page_rank(subplot, 'Top 100 after 10 Iterations', top100_wikipedia_page_ranks_10)"
   ]
  },
  {
   "cell_type": "markdown",
   "metadata": {},
   "source": [
    "# HW 9.4: Topic-specific PageRank implementation using MRJob"
   ]
  },
  {
   "cell_type": "markdown",
   "metadata": {},
   "source": [
    "## Create Topic-specific PageRank MRJob"
   ]
  },
  {
   "cell_type": "markdown",
   "metadata": {},
   "source": [
    "> Modify your PageRank implementation to produce a topic specific PageRank implementation,\n",
    "as described in:\n",
    "\n",
    "> http://www-cs-students.stanford.edu/~taherh/papers/topic-sensitive-pagerank.pdf\n",
    "\n",
    "> Note in this article that there is a special caveat to ensure that the transition matrix is irreducible.\n",
    "This caveat lies in footnote 3 on page 3:\n",
    "\n",
    "> >\tA minor caveat: to ensure that M is irreducible when p\n",
    "\tcontains any 0 entries, nodes not reachable from nonzero\n",
    "\tnodes in p should be removed. In practice this is not problematic.\n",
    "\n",
    "> and must be adhered to for convergence to be guaranteed."
   ]
  },
  {
   "cell_type": "code",
   "execution_count": null,
   "metadata": {
    "collapsed": true
   },
   "outputs": [],
   "source": []
  },
  {
   "cell_type": "markdown",
   "metadata": {},
   "source": [
    "## Acquire Topic-specific PageRank test data"
   ]
  },
  {
   "cell_type": "markdown",
   "metadata": {},
   "source": [
    "> Run topic specific PageRank on the following randomly generated network of 100 nodes:\n",
    "\n",
    "> * [s3://ucb-mids-mls-networks/randNet.txt](http://s3-us-west-2.amazonaws.com/ucb-mids-mls-networks/randNet.txt) (S3)\n",
    "> * https://www.dropbox.com/sh/2c0k5adwz36lkcw/AACEBW8MKuzl2L-tH_FmuG9ba/randNet.txt (Dropbox)\n",
    "\n",
    "> which are organized into ten topics, as described in the file:\n",
    "\n",
    "> * [s3://ucb-mids-mls-networks/randNet_topics.txt](http://s3-us-west-2.amazonaws.com/ucb-mids-mls-networks/randNet_topics.txt) (S3)\n",
    "> * https://www.dropbox.com/sh/2c0k5adwz36lkcw/AACTOoH1Oi03JxjOaW-Cy4N8a/randNet_topics.txt (Dropbox)\n",
    "\n",
    "> Since there are 10 topics, your result should be 11 PageRank vectors\n",
    "(one for the vanilla PageRank implementation in 9.1, and one for each topic\n",
    "with the topic specific implementation). Print out the top ten ranking nodes\n",
    "and their topics for each of the 11 versions, and comment on your result.\n",
    "Assume a teleportation factor of 0.15 in all your analyses."
   ]
  },
  {
   "cell_type": "code",
   "execution_count": null,
   "metadata": {
    "collapsed": false
   },
   "outputs": [],
   "source": [
    "randnet_out = get_dropbox_file(\n",
    "    '2c0k5adwz36lkcw/AACEBW8MKuzl2L-tH_FmuG9ba', 'randNet', 'randNet.txt')\n",
    "randnet_topics = get_dropbox_file(\n",
    "    '2c0k5adwz36lkcw/AACTOoH1Oi03JxjOaW-Cy4N8a', 'randNet', 'randNet_topics.txt')"
   ]
  },
  {
   "cell_type": "markdown",
   "metadata": {},
   "source": [
    "## Run Topic-specific PageRank on test data"
   ]
  },
  {
   "cell_type": "code",
   "execution_count": null,
   "metadata": {
    "collapsed": true
   },
   "outputs": [],
   "source": []
  },
  {
   "cell_type": "markdown",
   "metadata": {},
   "source": [
    "> One final and important comment here:  please consider the\n",
    "requirements for irreducibility with topic-specific PageRank.\n",
    "In particular, the literature ensures irreducibility by requiring that\n",
    "nodes not reachable from in-topic nodes be removed from the network.\n",
    "\n",
    "> This is not a small task, especially as it it must be performed\n",
    "separately for each of the (10) topics.\n",
    "\n",
    "> So, instead of using this method for irreducibility,\n",
    "please comment on why the literature's method is difficult to implement,\n",
    "and what what extra computation it will require.\n",
    "Then for your code, please use the alternative,\n",
    "non-uniform damping vector:\n",
    "\n",
    "> vji = beta*(1/|Tj|); if node i lies in topic Tj\n",
    "\n",
    "> vji = (1-beta)*(1/(N - |Tj|)); if node i lies outside of topic Tj\n",
    "\n",
    "> for beta in (0,1) close to 1.\n",
    "\n",
    "> With this approach, you will not have to delete any nodes.\n",
    "If beta > 0.5, PageRank is topic-sensitive,\n",
    "and if beta < 0.5, the PageRank is anti-topic-sensitive.\n",
    "For any value of beta irreducibility should hold,\n",
    "so please try beta=0.99, and perhaps some other values locally,\n",
    "on the smaller networks."
   ]
  },
  {
   "cell_type": "markdown",
   "metadata": {},
   "source": [
    "# HW 9.5: Applying topic-specific PageRank to Wikipedia"
   ]
  },
  {
   "cell_type": "markdown",
   "metadata": {},
   "source": [
    "> Here you will apply your topic-specific PageRank implementation to Wikipedia,\n",
    "defining topics (very arbitrarily) for each page by the length (number of characters) of the name of the article mod 10,\n",
    "so that there are 10 topics. Once again, print out the top ten ranking nodes\n",
    "and their topics for each of the 11 versions, and comment on your result.\n",
    "Assume a teleportation factor of 0.15 in all your analyses.\n"
   ]
  },
  {
   "cell_type": "code",
   "execution_count": null,
   "metadata": {
    "collapsed": true
   },
   "outputs": [],
   "source": []
  },
  {
   "cell_type": "markdown",
   "metadata": {},
   "source": [
    "# HW 9.6: TextRank (OPTIONAL)"
   ]
  },
  {
   "cell_type": "markdown",
   "metadata": {},
   "source": [
    "> What is TextRank. Describe the main steps in the algorithm. Why does TextRank work?\n",
    "Implement TextRank in MrJob for keyword phrases (not just unigrams) extraction using co-occurrence based similarity measure with with sizes of N = 2 and 3. And evaluate your code using the following example using precision, recall, and FBeta (Beta=1):\n",
    "\n",
    "> ```\n",
    "\"Compatibility of systems of linear constraints over the set of natural numbers\n",
    "Criteria of compatibility of a system of linear Diophantine equations, strict\n",
    "inequations, and nonstrict inequations are considered. Upper bounds for\n",
    "components of a minimal set of solutions and algorithms of construction of\n",
    "minimal generating sets of solutions for all types of systems are given.\n",
    "These criteria and the corresponding algorithms for constructing a minimal\n",
    "supporting set of solutions can be used in solving all the considered types of\n",
    "systems and systems of mixed types.\"\n",
    "```\n",
    "\n",
    "> The extracted keywords should in the following set:\n",
    "\n",
    "> ```\n",
    "linear constraints, linear diophantine equations, natural numbers, non-strict inequations, strict inequations, upper bounds\n",
    "```"
   ]
  },
  {
   "cell_type": "code",
   "execution_count": null,
   "metadata": {
    "collapsed": true
   },
   "outputs": [],
   "source": []
  }
 ],
 "metadata": {
  "kernelspec": {
   "display_name": "Python 2",
   "language": "python",
   "name": "python2"
  },
  "language_info": {
   "codemirror_mode": {
    "name": "ipython",
    "version": 2
   },
   "file_extension": ".py",
   "mimetype": "text/x-python",
   "name": "python",
   "nbconvert_exporter": "python",
   "pygments_lexer": "ipython2",
   "version": "2.7.6"
  },
  "toc": {
   "toc_cell": false,
   "toc_number_sections": false,
   "toc_threshold": 4,
   "toc_window_display": true
  },
  "toc_position": {
   "left": "1384.86px",
   "right": "20px",
   "top": "115.969px",
   "width": "235px"
  }
 },
 "nbformat": 4,
 "nbformat_minor": 0
}
