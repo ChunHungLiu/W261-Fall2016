{
 "cells": [
  {
   "cell_type": "code",
   "execution_count": 1,
   "metadata": {
    "collapsed": true
   },
   "outputs": [],
   "source": [
    "# We will need these so we can reload modules as we modify them\n",
    "%load_ext autoreload\n",
    "%autoreload 2"
   ]
  },
  {
   "cell_type": "code",
   "execution_count": 37,
   "metadata": {
    "collapsed": false
   },
   "outputs": [],
   "source": [
    "# Utilize last week's HW to count the number of nodes in the graph\n",
    "from MRJob_Explore import explore\n",
    "\n",
    "def countNodes(filename):\n",
    "\n",
    "    mr_job = explore(args=[filename, '--no-strict-protocols', '--exploreType', 'nodes'])\n",
    "\n",
    "    output = []\n",
    "    \n",
    "    with mr_job.make_runner() as runner:\n",
    "        runner.run()\n",
    "        \n",
    "        for line in runner.stream_output():\n",
    "            out = mr_job.parse_output_line(line)\n",
    "            print 'Number of nodes =', '{:,d}'.format(out[1])\n",
    "    \n",
    "    return out[1]"
   ]
  },
  {
   "cell_type": "code",
   "execution_count": 63,
   "metadata": {
    "collapsed": false
   },
   "outputs": [
    {
     "name": "stdout",
     "output_type": "stream",
     "text": [
      "Overwriting PageRank_Iterate.py\n"
     ]
    }
   ],
   "source": [
    "%%writefile PageRank_Iterate.py\n",
    "from __future__ import division\n",
    "from mrjob.job import MRJob\n",
    "from mrjob.step import MRStep\n",
    "from mrjob.protocol import JSONProtocol\n",
    "\n",
    "class iterate(MRJob):\n",
    "    \n",
    "    \n",
    "    \"\"\"\n",
    "    Configurations\n",
    "    \"\"\"\n",
    "    \n",
    "    def configure_options(self):\n",
    "        super(iterate, self).configure_options()\n",
    "        self.add_passthrough_option('--numNodes', default=1)\n",
    "    \n",
    "    \"\"\"\n",
    "    Mapper: Distribute PageRank mass to all neighbors\n",
    "    - Do not account for teleportation yet\n",
    "    \"\"\"\n",
    "    \n",
    "    INPUT_PROTOCOL = JSONProtocol\n",
    "    \n",
    "    #------------------\n",
    "    # Mapper:\n",
    "    # - Find the number of neighbors for the node\n",
    "    # - Distribute current PageRank among all neighbors\n",
    "    # - If there are no neighbors, keep track of dangling mass\n",
    "    \n",
    "    def mapper_dist(self, key, value):\n",
    "        \n",
    "        # Divide the current PageRank by the number of neighbors\n",
    "        \n",
    "        numNeighbors = len(value[0])\n",
    "        PageRank = value[1]\n",
    "        \n",
    "        # If there are neighbors, distribute the PageRank to each neighbors\n",
    "        \n",
    "        if numNeighbors > 0:\n",
    "            for neighbor in value[0]:\n",
    "                yield neighbor, PageRank / numNeighbors\n",
    "                \n",
    "        # If there are no neighbors, we need to account for this dangling node\n",
    "        \n",
    "        else:\n",
    "            with open('danglingMass.txt', 'w') as f:\n",
    "                f.write()'*dangling', PageRank\n",
    "        \n",
    "        # Maintain the graph structure\n",
    "        \n",
    "        yield key, value[0]\n",
    "     \n",
    "    #------------------\n",
    "    # Reducer:\n",
    "    # - For each node, accumulate PageRank distributed from other nodes\n",
    "    # - Maintain graph structure\n",
    "    \n",
    "    def reducer_dist(self, key, values):\n",
    "        \n",
    "        new_PageRank = 0.0\n",
    "        neighbors = {}\n",
    "        \n",
    "        for val in values:\n",
    "            if type(val) == type(0.0):\n",
    "                new_PageRank += val\n",
    "            elif type(val) == type({}):\n",
    "                neighbors = val\n",
    "        \n",
    "        yield key, (neighbors, new_PageRank)\n",
    "\n",
    "        \n",
    "    \n",
    "            \n",
    "    \"\"\"\n",
    "    Multi-step pipeline\n",
    "    \"\"\"\n",
    "    def steps(self):\n",
    "        return [\n",
    "            MRStep(mapper=self.mapper_dist,\n",
    "                  reducer=self.reducer_dist)\n",
    "            ]\n",
    "\n",
    "if __name__ == '__main__':\n",
    "    iterate.run()"
   ]
  },
  {
   "cell_type": "code",
   "execution_count": 64,
   "metadata": {
    "collapsed": false
   },
   "outputs": [],
   "source": [
    "from PageRank_Iterate import iterate\n",
    "\n",
    "def iteratePR(filename, n, runner, outputDir):\n",
    "    \n",
    "    if runner == 'local':\n",
    "        mr_job = iterate(args=[filename, '--no-strict-protocols', '--numNodes=' + str(n), \n",
    "                               '--file', 'danglingMass.txt'])\n",
    "        \n",
    "    elif runner == 'hadoop':\n",
    "        !hdfs dfs -rm -r {outputDir}\n",
    "        mr_job = iterate(args=[filename, '--no-strict-protocols', '-r', 'hadoop', '--hadoop-home', '/usr/',\n",
    "                               '--output-dir', outputDir, '--numNodes=' + str(n), '--file', 'danglingMass.txt'])\n",
    "        \n",
    "    elif runner == 'emr':\n",
    "        !aws s3 rm --quiet {outputDir}\n",
    "        mr_job = iterate(args=[filename, '--no-strict-protocols', '--no-output', '--numNodes=' + str(n),\n",
    "                               '-r', 'emr', '--emr-job-flow-id', clusterId, '--output-dir', outputDir,\n",
    "                               '--file', 'danglingMass.txt'])\n",
    "        \n",
    "\n",
    "    with mr_job.make_runner() as runner:\n",
    "        runner.run()\n",
    "\n",
    "        if runner != 'emr':\n",
    "            for line in runner.stream_output():\n",
    "                print mr_job.parse_output_line(line)"
   ]
  },
  {
   "cell_type": "code",
   "execution_count": 66,
   "metadata": {
    "collapsed": false
   },
   "outputs": [
    {
     "name": "stdout",
     "output_type": "stream",
     "text": [
      "Number of nodes = 11\n",
      "rm: `/user/miki/week09/iterate': No such file or directory\n",
      "('*dangling', [{}, 0.09090909090909091])\n",
      "('A', [{}, 0.045454545454545456])\n",
      "('B', [{'C': 1}, 0.3484848484848485])\n",
      "('C', [{'B': 1}, 0.09090909090909091])\n",
      "('D', [{'A': 1, 'B': 1}, 0.030303030303030304])\n",
      "('E', [{'B': 1, 'D': 1, 'F': 1}, 0.36363636363636365])\n",
      "('F', [{'B': 1, 'E': 1}, 0.030303030303030304])\n",
      "('G', [{'B': 1, 'E': 1}, 0.0])\n",
      "('H', [{'B': 1, 'E': 1}, 0.0])\n",
      "('I', [{'B': 1, 'E': 1}, 0.0])\n",
      "('J', [{'E': 1}, 0.0])\n",
      "('K', [{'E': 1}, 0.0])\n"
     ]
    }
   ],
   "source": [
    "n = countNodes('PageRank-test.txt')\n",
    "\n",
    "iteratePR('PageRank-testInitialized.txt', n, 'hadoop', '/user/miki/week09/iterate')"
   ]
  },
  {
   "cell_type": "code",
   "execution_count": null,
   "metadata": {
    "collapsed": true
   },
   "outputs": [],
   "source": []
  },
  {
   "cell_type": "code",
   "execution_count": null,
   "metadata": {
    "collapsed": true
   },
   "outputs": [],
   "source": []
  },
  {
   "cell_type": "code",
   "execution_count": 12,
   "metadata": {
    "collapsed": false
   },
   "outputs": [
    {
     "name": "stdout",
     "output_type": "stream",
     "text": [
      "Overwriting PageRank_TopN.py\n"
     ]
    }
   ],
   "source": [
    "%%writefile PageRank_TopN.py\n",
    "from __future__ import division\n",
    "from mrjob.job import MRJob\n",
    "from mrjob.step import MRStep\n",
    "from mrjob.protocol import JSONProtocol\n",
    "\n",
    "class topN(MRJob):\n",
    "    \n",
    "    #------------------\n",
    "    # Configurations:\n",
    "    \n",
    "    def configure_options(self):\n",
    "        super(topN, self).configure_options()\n",
    "        self.add_passthrough_option('--top', default=10, type='int')\n",
    "\n",
    "    \n",
    "    INPUT_PROTOCOL = JSONProtocol\n",
    "    \n",
    "    #------------------\n",
    "    # Mapper:\n",
    "    # - Throw out graph structure\n",
    "    # - Use PageRank as key\n",
    "    \n",
    "    def mapper(self, key, value):\n",
    "        yield value[1], key\n",
    "        \n",
    "    #------------------\n",
    "    # Reducer:\n",
    "    # - Take top N values\n",
    "    \n",
    "    def reducer_init(self):\n",
    "        self.seen = 0\n",
    "    \n",
    "    def reducer(self, key, values):\n",
    "        n = self.options.top\n",
    "        \n",
    "        for val in values:\n",
    "            if self.seen < n:\n",
    "                yield key, val\n",
    "                self.seen += 1\n",
    "                \n",
    "    #------------------\n",
    "    # Pipeline:\n",
    "    \n",
    "    def steps(self):\n",
    "        return [MRStep(mapper=self.mapper,\n",
    "                       reducer_init=self.reducer_init,\n",
    "                       reducer=self.reducer,\n",
    "                       jobconf={'mapred.output.key.comparator.class':'org.apache.hadoop.mapred.lib.KeyFieldBasedComparator',\n",
    "                                'mapred.text.key.partitioner.options':'-k1,1',\n",
    "                                'stream.num.map.output.key.fields':1,\n",
    "                                'mapred.text.key.comparator.options':'-k1,1nr',\n",
    "                                'mapred.reduce.tasks': 1\n",
    "                               })]\n",
    "\n",
    "        \n",
    "if __name__ == '__main__':\n",
    "    topN.run()"
   ]
  },
  {
   "cell_type": "code",
   "execution_count": 13,
   "metadata": {
    "collapsed": true
   },
   "outputs": [],
   "source": [
    "from PageRank_TopN import topN\n",
    "\n",
    "def topNPR(filename, n, runnerType, outputDir, printOutput):\n",
    "\n",
    "    output = []\n",
    "    \n",
    "    if runnerType == 'local':\n",
    "        mr_job = topN(args=[filename, '--no-strict-protocols', '--top=' + str(n)])\n",
    "\n",
    "    elif runnerType == 'hadoop':\n",
    "        !hdfs dfs -rm -r {outputDir}\n",
    "        mr_job = topN(args=[filename, '--no-strict-protocols', '-r', 'hadoop', '--hadoop-home', '/usr/',\n",
    "                            '--output-dir', outputDir, '--top=' + str(n)])\n",
    "\n",
    "    elif runnerType == 'emr':\n",
    "        !aws s3 rm --quiet {outputDir}\n",
    "        mr_job = topN(args=[filename, '--no-strict-protocols', '--no-output', '--top=' + str(n),\n",
    "                            '-r', 'emr', '--emr-job-flow-id', clusterId, '--output-dir', outputDir])\n",
    "\n",
    "\n",
    "    with mr_job.make_runner() as runner:\n",
    "        runner.run()\n",
    "\n",
    "        if runnerType != 'emr':\n",
    "            for line in runner.stream_output():\n",
    "                out = mr_job.parse_output_line(line)\n",
    "                output.append(out)\n",
    "                if printOutput:\n",
    "                    print out\n",
    "\n",
    "        if runnerType == 'local':\n",
    "            with open(outputDir, 'w') as f:\n",
    "                for line in output:\n",
    "                    f.writelines('\"' + str(line[0]) + '\"\\t' + str(line[1]) + '\\n' )"
   ]
  },
  {
   "cell_type": "code",
   "execution_count": 15,
   "metadata": {
    "collapsed": false
   },
   "outputs": [
    {
     "name": "stdout",
     "output_type": "stream",
     "text": [
      "Deleted /user/miki/week09/top\r\n"
     ]
    },
    {
     "name": "stderr",
     "output_type": "stream",
     "text": [
      "WARNING:mrjob.compat:Detected hadoop configuration property names that do not match hadoop version 2.6.0:\n",
      "The have been translated as follows\n",
      " mapred.text.key.comparator.options: mapreduce.partition.keycomparator.options\n",
      "mapred.text.key.partitioner.options: mapreduce.partition.keypartitioner.options\n",
      "mapred.reduce.tasks: mapreduce.job.reduces\n",
      "mapred.output.key.comparator.class: mapreduce.job.output.key.comparator.class\n"
     ]
    },
    {
     "name": "stdout",
     "output_type": "stream",
     "text": [
      "(0.2875607312797395, 'C')\n",
      "(0.2606908965689958, 'B')\n",
      "(0.11164819684447784, 'F')\n",
      "(0.11164819684447784, 'D')\n",
      "(0.09941334835962937, 'E')\n"
     ]
    }
   ],
   "source": [
    "inputFile = 'PageRank-result.txt'\n",
    "\n",
    "# Do this so JSON protocol works\n",
    "!rm {inputFile}\n",
    "!hdfs dfs -copyToLocal /user/miki/week09/result/part-00000 {inputFile}\n",
    "\n",
    "outputDir = '/user/miki/week09/top'\n",
    "\n",
    "n = 5\n",
    "\n",
    "topNPR(inputFile, n, 'hadoop', outputDir, True)"
   ]
  },
  {
   "cell_type": "code",
   "execution_count": null,
   "metadata": {
    "collapsed": true
   },
   "outputs": [],
   "source": []
  },
  {
   "cell_type": "code",
   "execution_count": null,
   "metadata": {
    "collapsed": true
   },
   "outputs": [],
   "source": []
  }
 ],
 "metadata": {
  "kernelspec": {
   "display_name": "Python 2",
   "language": "python",
   "name": "python2"
  },
  "language_info": {
   "codemirror_mode": {
    "name": "ipython",
    "version": 2
   },
   "file_extension": ".py",
   "mimetype": "text/x-python",
   "name": "python",
   "nbconvert_exporter": "python",
   "pygments_lexer": "ipython2",
   "version": "2.7.11"
  }
 },
 "nbformat": 4,
 "nbformat_minor": 0
}
