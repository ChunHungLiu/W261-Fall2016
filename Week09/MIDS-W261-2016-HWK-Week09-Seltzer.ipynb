{
 "cells": [
  {
   "cell_type": "markdown",
   "metadata": {},
   "source": [
    "# DATASCI W261: Machine Learning at Scale\n",
    "## Assignment Week 9\n",
    "Miki Seltzer (miki.seltzer@berkeley.edu)<br>\n",
    "W261-2, Spring 2016<br>\n",
    "Submission: "
   ]
  },
  {
   "cell_type": "code",
   "execution_count": 1,
   "metadata": {
    "collapsed": false
   },
   "outputs": [],
   "source": [
    "# We will need these so we can reload modules as we modify them\n",
    "%load_ext autoreload\n",
    "%autoreload 2"
   ]
  },
  {
   "cell_type": "code",
   "execution_count": 69,
   "metadata": {
    "collapsed": false
   },
   "outputs": [
    {
     "name": "stdout",
     "output_type": "stream",
     "text": [
      "using configs in /etc/mrjob.conf\n",
      "using existing scratch bucket mrjob-ac40f1afcc0b86ce\n",
      "using s3://mrjob-ac40f1afcc0b86ce/tmp/ as our scratch dir on S3\n",
      "Creating persistent job flow to run several jobs in...\n",
      "creating tmp directory /tmp/no_script.cloudera.20160315.022815.359670\n",
      "writing master bootstrap script to /tmp/no_script.cloudera.20160315.022815.359670/b.py\n",
      "Copying non-input files into s3://mrjob-ac40f1afcc0b86ce/tmp/no_script.cloudera.20160315.022815.359670/files/\n",
      "Waiting 5.0s for S3 eventual consistency\n",
      "Creating Elastic MapReduce job flow\n",
      "Job flow created with ID: j-310YU13KGHNSC\n",
      "j-310YU13KGHNSC\n"
     ]
    }
   ],
   "source": [
    "# Create job flow so that we don't need to keep spinning up clusters\n",
    "!python -m mrjob.tools.emr.create_job_flow"
   ]
  },
  {
   "cell_type": "code",
   "execution_count": 70,
   "metadata": {
    "collapsed": true
   },
   "outputs": [],
   "source": [
    "clusterId = 'j-310YU13KGHNSC'"
   ]
  },
  {
   "cell_type": "markdown",
   "metadata": {},
   "source": [
    "# HW9.0\n",
    "\n",
    "### What is PageRank and what is it used for in the context of web search?\n",
    "PageRank is a ranking algorithm used by Google. At a high level, it provides a measure of \"popularity\" of pages, due to the underlying assumption that important websites are likely to have more incoming links than unimportant websites.\n",
    "\n",
    "### What modifications have to be made to the webgraph in order to leverage the machinery of Markov Chains to compute the steady stade distibution?\n",
    "We must introduce a \"teleportation\" factor by scaling the webgraph by $\\alpha$ and adding a factor of $(1-\\alpha) * (\\text{matrix with entries }1/n)$. This results in a Markov matrix since the entries will be strictly positive (Perron-Frobenius theorem)."
   ]
  },
  {
   "cell_type": "markdown",
   "metadata": {},
   "source": [
    "# HW9.1: MRJob implementation of basic PageRank\n",
    "\n",
    "Write a basic MRJob implementation of the iterative PageRank algorithm that takes sparse adjacency lists as input (as explored in HW 7). Make sure that you implementation utilizes teleportation (1-damping/the number of nodes in the network), and further, distributes the mass of dangling nodes with each iteration so that the output of each iteration is correctly normalized (sums to 1)."
   ]
  },
  {
   "cell_type": "code",
   "execution_count": 4,
   "metadata": {
    "collapsed": true
   },
   "outputs": [],
   "source": [
    "# Utilize last week's HW to count the number of nodes in the graph\n",
    "from MRJob_Explore import explore\n",
    "\n",
    "def countNodes(filename):\n",
    "\n",
    "    mr_job = explore(args=[filename, '--no-strict-protocols', '--exploreType', 'nodes'])\n",
    "\n",
    "    output = []\n",
    "    \n",
    "    with mr_job.make_runner() as runner:\n",
    "        runner.run()\n",
    "        \n",
    "        for line in runner.stream_output():\n",
    "            out = mr_job.parse_output_line(line)\n",
    "            print 'Number of nodes =', '{:,d}'.format(out[1])\n",
    "    \n",
    "    return out[1]"
   ]
  },
  {
   "cell_type": "markdown",
   "metadata": {},
   "source": [
    "## MRJob to initialize the starting PageRank vector with a uniform distribution\n",
    "\n",
    "This job requires us to do several things:\n",
    "- Find all nodes in the graph (dangling nodes will not have an explicit neighbors list)\n",
    "- For each node, maintain graph structure and initialize PageRank to 1/n"
   ]
  },
  {
   "cell_type": "code",
   "execution_count": 5,
   "metadata": {
    "collapsed": false
   },
   "outputs": [
    {
     "name": "stdout",
     "output_type": "stream",
     "text": [
      "Overwriting PageRank_Initialize.py\n"
     ]
    }
   ],
   "source": [
    "%%writefile PageRank_Initialize.py\n",
    "from __future__ import division\n",
    "from mrjob.job import MRJob\n",
    "from mrjob.step import MRStep\n",
    "\n",
    "class initialize(MRJob):\n",
    "    \n",
    "    \"\"\"\n",
    "    Get all nodes\n",
    "    \"\"\"\n",
    "    \n",
    "    #------------------\n",
    "    # Mapper:\n",
    "    # - We need to make sure we emit a line for each node in the graph\n",
    "    # - Right now there are no lines for nodes with no neighbors\n",
    "    \n",
    "    def mapper(self, _, line):\n",
    "        \n",
    "        # Split fields\n",
    "        \n",
    "        fields = line.split('\\t')\n",
    "        key = fields[0]\n",
    "        stripe = eval(fields[1])\n",
    "        \n",
    "        # Emit the key and stripe\n",
    "        \n",
    "        yield key, stripe\n",
    "        \n",
    "        # For each neighbor, emit a 0\n",
    "        # We just do this so we catch all nodes\n",
    "        \n",
    "        for neighbor in stripe:\n",
    "            yield neighbor, 0\n",
    "            \n",
    "    #------------------\n",
    "    # Reducer:\n",
    "    # - We need to deduplicate each of our nodes\n",
    "    # - If we encounter a value that is a dictionary, these are the neighbors\n",
    "    # - If we do not encounter any dictionaries, then the node is dangling, we emit an empty neighbor list\n",
    "    \n",
    "    def reducer(self, key, values):       \n",
    "        stripe = {}\n",
    "        \n",
    "        # Loop through values for a key to see if it has neighbors\n",
    "        # If it does, we need to keep the neighbors\n",
    "        \n",
    "        for val in values:\n",
    "            if type(val) == type(stripe):\n",
    "                stripe = val\n",
    "                \n",
    "        # For each key, emit only one thing, which is the neighbor list\n",
    "        # We should now have a line for each node, even if the neighbor list is empty\n",
    "        \n",
    "        yield key, stripe\n",
    "        \n",
    "    \"\"\"\n",
    "    Normalize length\n",
    "    \"\"\"\n",
    "    \n",
    "    # Initialize total to 0\n",
    "    def mapper_norm_init(self):\n",
    "        self.total = 0.0\n",
    "    \n",
    "    # For each key we encounter, increment total\n",
    "    # We know that we will only encounter each node once\n",
    "    def mapper_norm(self, key, value):\n",
    "        yield key, value\n",
    "        self.total += 1\n",
    "        \n",
    "    # Emit the total number of nodes we saw\n",
    "    def mapper_norm_final(self):\n",
    "        yield '*', self.total\n",
    "    \n",
    "    # To combine the totals if we have multiple mappers\n",
    "    def combiner_norm(self, key, values):\n",
    "        if key == '*':\n",
    "            yield key, sum(values)\n",
    "        else:\n",
    "            for val in values:\n",
    "                yield key, val\n",
    "        \n",
    "    # Initialize the totalNodes to 0\n",
    "    def reducer_norm_init(self):\n",
    "        self.totalNodes = 0\n",
    "       \n",
    "    # If the key is '*', save the sum of the values\n",
    "    # Otherwise, yield the key, stripe, and 1/n\n",
    "    def reducer_norm(self, key, values):\n",
    "        if key == '*':\n",
    "            self.totalNodes = sum(values)\n",
    "        else:\n",
    "            for val in values:\n",
    "                yield key, (val, 1 / self.totalNodes)\n",
    "    \n",
    "    \"\"\"\n",
    "    Multi-step pipeline\n",
    "    \"\"\"\n",
    "    def steps(self):\n",
    "        return [\n",
    "            MRStep(mapper=self.mapper,\n",
    "                   reducer=self.reducer),\n",
    "            MRStep(mapper_init=self.mapper_norm_init,\n",
    "                   mapper=self.mapper_norm,\n",
    "                   mapper_final=self.mapper_norm_final,\n",
    "                   combiner=self.combiner_norm,\n",
    "                   reducer_init=self.reducer_norm_init,\n",
    "                   reducer=self.reducer_norm,\n",
    "                   jobconf={'mapred.reduce.tasks': 1})\n",
    "        ]\n",
    "\n",
    "if __name__ == '__main__':\n",
    "    initialize.run()"
   ]
  },
  {
   "cell_type": "markdown",
   "metadata": {},
   "source": [
    "## Driver for Initialization"
   ]
  },
  {
   "cell_type": "code",
   "execution_count": 6,
   "metadata": {
    "collapsed": false
   },
   "outputs": [],
   "source": [
    "from PageRank_Initialize import initialize\n",
    "\n",
    "def initializePR(filename, runnerType, outputDir, printOutput):\n",
    "    \n",
    "    if runnerType == 'local':\n",
    "        mr_job = initialize(args=[filename, '--no-strict-protocols'])\n",
    "        \n",
    "    elif runnerType == 'hadoop':\n",
    "        !hdfs dfs -rm -r {outputDir}\n",
    "        mr_job = initialize(args=[filename, '--no-strict-protocols', '-r', 'hadoop', '--hadoop-home', '/usr/',\n",
    "                                 '--output-dir', outputDir])\n",
    "        \n",
    "    elif runnerType == 'emr':\n",
    "        !aws s3 rm --quiet {outputDir}\n",
    "        mr_job = initialize(args=[filename, '--no-strict-protocols', '--no-output', \n",
    "                                  '-r', 'emr', '--emr-job-flow-id', clusterId, '--output-dir', outputDir])\n",
    "        \n",
    "\n",
    "    with mr_job.make_runner() as runner:\n",
    "        runner.run()\n",
    "\n",
    "        if printOutput:\n",
    "            for line in runner.stream_output():\n",
    "                print mr_job.parse_output_line(line)"
   ]
  },
  {
   "cell_type": "markdown",
   "metadata": {},
   "source": [
    "## Check output of initialization"
   ]
  },
  {
   "cell_type": "code",
   "execution_count": 323,
   "metadata": {
    "collapsed": false
   },
   "outputs": [
    {
     "name": "stdout",
     "output_type": "stream",
     "text": [
      "Number of nodes = 11\n",
      "Deleted /user/miki/week09/initialize\n"
     ]
    },
    {
     "name": "stderr",
     "output_type": "stream",
     "text": [
      "WARNING:mrjob.compat:Detected hadoop configuration property names that do not match hadoop version 2.6.0:\n",
      "The have been translated as follows\n",
      " mapred.reduce.tasks: mapreduce.job.reduces\n"
     ]
    },
    {
     "name": "stdout",
     "output_type": "stream",
     "text": [
      "('A', [{}, 0.09090909090909091])\n",
      "('B', [{'C': 1}, 0.09090909090909091])\n",
      "('C', [{'B': 1}, 0.09090909090909091])\n",
      "('D', [{'A': 1, 'B': 1}, 0.09090909090909091])\n",
      "('E', [{'B': 1, 'D': 1, 'F': 1}, 0.09090909090909091])\n",
      "('F', [{'B': 1, 'E': 1}, 0.09090909090909091])\n",
      "('G', [{'B': 1, 'E': 1}, 0.09090909090909091])\n",
      "('H', [{'B': 1, 'E': 1}, 0.09090909090909091])\n",
      "('I', [{'B': 1, 'E': 1}, 0.09090909090909091])\n",
      "('J', [{'E': 1}, 0.09090909090909091])\n",
      "('K', [{'E': 1}, 0.09090909090909091])\n",
      "rm: cannot remove `PageRank-testInitialized.txt': No such file or directory\r\n"
     ]
    }
   ],
   "source": [
    "inputFile = 'PageRank-test.txt'\n",
    "outputDir = '/user/miki/week09/initialize'\n",
    "n = countNodes(inputFile)\n",
    "\n",
    "initializePR(inputFile, 'hadoop', outputDir, True)\n",
    "\n",
    "# Note: we have to do this to preserve JSON protocol for reading in on next job\n",
    "!rm PageRank-testInitialized.txt\n",
    "!hdfs dfs -copyToLocal {outputDir + '/part-00000'} PageRank-testInitialized.txt"
   ]
  },
  {
   "cell_type": "markdown",
   "metadata": {},
   "source": [
    "## MRJob to iterate over the PageRank algorithm\n",
    "\n",
    "In this job we need to do the following:\n",
    "- Distribute a node's PageRank to its neighbors\n",
    "- Distribute the mass of dangling nodes, and account for teleporting\n",
    "\n",
    "#### Distribute node's PageRank to neighbors\n",
    "\n",
    "For each node we encounter, we have the current PageRank (let's call this $\\text{PR}_{\\text{old}}$), and the list of neighbors. We need to divide the PageRank by the number of neighbors, and emit this to each neighbor. If there are no neighbors, we cannot emit the PageRank anywhere, so we accumulate it to a special key, \\*dangling. Once we accumulate the distributed PageRank mass in each node, we have a preliminary PageRank for each node, which we can denote as $\\text{PR}_{\\text{int}}$.\n",
    "\n",
    "#### Distribute the mass of dangling nodes and account for teleporting\n",
    "\n",
    "We have accumulated the total PageRank mass that has not yet been distributed, because there were no neighbors to distribute the mass to. We also need to account for teleporting. Given the dangling mass, $m$, and the damping factor, $\\alpha$, and $n$ nodes, we have the following:\n",
    "\n",
    "$$\n",
    "\\text{PR}_{\\text{new}} = (1-\\alpha) \\bigg(\\frac{1}{n}\\bigg) + \\alpha\\bigg(\\frac{m}{n} + \\text{PR}_{\\text{int}}\\bigg)\n",
    "$$"
   ]
  },
  {
   "cell_type": "code",
   "execution_count": 7,
   "metadata": {
    "collapsed": false
   },
   "outputs": [
    {
     "name": "stdout",
     "output_type": "stream",
     "text": [
      "Overwriting PageRank_Iterate.py\n"
     ]
    }
   ],
   "source": [
    "%%writefile PageRank_Iterate.py\n",
    "from __future__ import division\n",
    "from mrjob.job import MRJob\n",
    "from mrjob.step import MRStep\n",
    "from mrjob.protocol import JSONProtocol\n",
    "\n",
    "class iterate(MRJob):\n",
    "\n",
    "    #------------------\n",
    "    # Configurations: \n",
    "    \n",
    "    def configure_options(self):\n",
    "        super(iterate, self).configure_options()\n",
    "        self.add_passthrough_option('--numNodes', default=1, type='int')\n",
    "        self.add_passthrough_option('--alpha', default=0.85, type='float')\n",
    "        self.add_passthrough_option('--iterations', default=1, type='int')\n",
    "    \n",
    "    INPUT_PROTOCOL = JSONProtocol\n",
    "    \n",
    "    #------------------\n",
    "    # Mapper:\n",
    "    # - Find the number of neighbors for the node\n",
    "    # - Distribute current PageRank among all neighbors\n",
    "    # - If there are no neighbors, keep track of dangling mass\n",
    "    \n",
    "    def mapper_dist(self, key, value):\n",
    "\n",
    "        # Divide the current PageRank by the number of neighbors\n",
    "        \n",
    "        numNeighbors = len(value[0])\n",
    "        PageRank = value[1]\n",
    "        \n",
    "        # If there are neighbors, distribute the PageRank to each neighbors\n",
    "        \n",
    "        if numNeighbors > 0:\n",
    "            for neighbor in value[0]:\n",
    "                yield neighbor, PageRank / numNeighbors\n",
    "                \n",
    "        # If there are no neighbors, we need to account for this dangling node\n",
    "        \n",
    "        else:\n",
    "            yield '*dangling', PageRank\n",
    "        \n",
    "        # Maintain the graph structure\n",
    "        \n",
    "        yield key, value[0]\n",
    "     \n",
    "    #------------------\n",
    "    # Reducer:\n",
    "    # - For each node, accumulate PageRank distributed from other nodes\n",
    "    # - Maintain graph structure\n",
    "    \n",
    "    def reducer_dist(self, key, values):\n",
    "        \n",
    "        new_PageRank = 0.0\n",
    "        neighbors = {}\n",
    "        \n",
    "        for val in values:\n",
    "            if type(val) == type(0.0):\n",
    "                new_PageRank += val\n",
    "            elif type(val) == type({}):\n",
    "                neighbors = val\n",
    "\n",
    "        yield key, (neighbors, new_PageRank)\n",
    "\n",
    "    #------------------\n",
    "    # Mapper: \n",
    "    # - Account for teleportation\n",
    "    # - Distribute dangling mass to all nodes\n",
    "    \n",
    "    # Below is doing it with only one reducer\n",
    "    # This isn't a good way to do it, but couldn't figure out a better way\n",
    "    \n",
    "    def mapper_dangle(self, key, value):\n",
    "        yield key, value\n",
    "        \n",
    "    def reducer_init(self):\n",
    "        self.m = 0.0\n",
    "        \n",
    "    def reducer_dangle(self, key, values):\n",
    "        \n",
    "        PageRank = 0\n",
    "        neighbors = {}\n",
    "        \n",
    "        for val in values:\n",
    "            PageRank = val[1]\n",
    "            neighbors = val[0]\n",
    "            \n",
    "        if key == '*dangling':\n",
    "            self.m = PageRank\n",
    "        else:\n",
    "            a = self.options.alpha\n",
    "            n = self.options.numNodes\n",
    "            new_PageRank = (1 - a) / n + a * (self.m / n + PageRank)\n",
    "            yield key, (neighbors, new_PageRank)\n",
    "            \n",
    "    #------------------\n",
    "    # Pipeline:\n",
    "    \n",
    "    def steps(self):\n",
    "        return ([\n",
    "            MRStep(mapper=self.mapper_dist,\n",
    "                   reducer=self.reducer_dist),\n",
    "            MRStep(mapper=self.mapper_dangle,\n",
    "                   reducer_init=self.reducer_init,\n",
    "                   reducer=self.reducer_dangle,\n",
    "                   jobconf={'mapred.reduce.tasks': 1})\n",
    "            ] * self.options.iterations)\n",
    "\n",
    "if __name__ == '__main__':\n",
    "    iterate.run()"
   ]
  },
  {
   "cell_type": "markdown",
   "metadata": {},
   "source": [
    "## Driver for Iteration"
   ]
  },
  {
   "cell_type": "code",
   "execution_count": 8,
   "metadata": {
    "collapsed": false
   },
   "outputs": [],
   "source": [
    "from PageRank_Iterate import iterate\n",
    "\n",
    "def iteratePR(filename, n, a, runnerType, outputDir, iterations, printOutput):\n",
    "\n",
    "    output = []\n",
    "\n",
    "    if runnerType == 'local':\n",
    "        mr_job = iterate(args=[filename, '--no-strict-protocols', '--numNodes=' + str(n), \n",
    "                               '--alpha=' + str(a), '--iterations=' + str(iterations)])\n",
    "\n",
    "    elif runnerType == 'hadoop':\n",
    "        !hdfs dfs -rm -r {outputDir}\n",
    "        mr_job = iterate(args=[filename, '--no-strict-protocols', '-r', 'hadoop', '--hadoop-home', '/usr/',\n",
    "                               '--output-dir', outputDir, '--numNodes=' + str(n),\n",
    "                               '--alpha=' + str(a), '--iterations=' + str(iterations)])\n",
    "\n",
    "    elif runnerType == 'emr':\n",
    "        !aws s3 rm --quiet {outputDir}\n",
    "        mr_job = iterate(args=[filename, '--no-strict-protocols', '--no-output', '--numNodes=' + str(n),\n",
    "                               '-r', 'emr', '--emr-job-flow-id', clusterId, '--output-dir', outputDir,\n",
    "                               '--alpha=' + str(a), '--iterations=' + str(iterations)])\n",
    "\n",
    "\n",
    "    with mr_job.make_runner() as runner:\n",
    "        runner.run()\n",
    "\n",
    "        if runnerType != 'emr':\n",
    "            for line in runner.stream_output():\n",
    "                out = mr_job.parse_output_line(line)\n",
    "                output.append(out)\n",
    "                if printOutput:\n",
    "                    print out"
   ]
  },
  {
   "cell_type": "markdown",
   "metadata": {},
   "source": [
    "## Check output of iteration"
   ]
  },
  {
   "cell_type": "code",
   "execution_count": 355,
   "metadata": {
    "collapsed": false
   },
   "outputs": [
    {
     "name": "stdout",
     "output_type": "stream",
     "text": [
      "('A', [{}, 0.032781494002798])\n",
      "('B', [{'C': 1}, 0.3835968127677898])\n",
      "('C', [{'B': 1}, 0.3437144165952493])\n",
      "('D', [{'A': 1, 'B': 1}, 0.03908709308143793])\n",
      "('E', [{'B': 1, 'D': 1, 'F': 1}, 0.0808856947407923])\n",
      "('F', [{'B': 1, 'E': 1}, 0.03908709308143793])\n",
      "('G', [{'B': 1, 'E': 1}, 0.016169479146098883])\n",
      "('H', [{'B': 1, 'E': 1}, 0.016169479146098883])\n",
      "('I', [{'B': 1, 'E': 1}, 0.016169479146098883])\n",
      "('J', [{'E': 1}, 0.016169479146098883])\n",
      "('K', [{'E': 1}, 0.016169479146098883])\n"
     ]
    }
   ],
   "source": [
    "inputFile = 'PageRank-testInitialized.txt'\n",
    "outputDir = 'PageRank-result.txt'\n",
    "\n",
    "k = 30\n",
    "\n",
    "iteratePR(inputFile, n, 0.85, 'local', outputDir, k, True)"
   ]
  },
  {
   "cell_type": "markdown",
   "metadata": {},
   "source": [
    "# HW9.2: Exploring PageRank teleportation and network plots\n",
    "\n",
    "In order to overcome  problems such as disconnected components, the damping factor (a typical value for d is 0.85) can be varied. Using the graph in HW1, plot the test graph (using networkx, https://networkx.github.io/) for several values of the damping parameter alpha, so that each nodes radius is proportional to its PageRank score. In particular you should\n",
    "do this for the following damping factors: [0,0.25,0.5,0.75, 0.85, 1]."
   ]
  },
  {
   "cell_type": "code",
   "execution_count": 310,
   "metadata": {
    "collapsed": false
   },
   "outputs": [],
   "source": [
    "%matplotlib inline\n",
    "import networkx as nx\n",
    "import matplotlib.pyplot as plt\n",
    "\n",
    "def createGraph(filename, damping):\n",
    "    \n",
    "    G = nx.DiGraph()\n",
    "    sizes = {}\n",
    "    labels = {}\n",
    "    \n",
    "    plt.figure(figsize=(6,4))\n",
    "    \n",
    "    # Read in nodes and PageRanks\n",
    "    with open(filename, 'r') as infile:\n",
    "        for line in infile:\n",
    "            fields = line.strip().split('\\t')\n",
    "            node = eval(fields[0])\n",
    "            stripe = eval(fields[1])\n",
    "            PageRank = stripe[1]\n",
    "            neighbors = stripe[0]\n",
    "            \n",
    "            # Add node to graph G, scale PageRank, create labels\n",
    "            G.add_node(node)\n",
    "            sizes[node] = PageRank * 15000\n",
    "            labels[node] = str(node) + '\\n' + str(round(PageRank, 3) * 100) + '%'\n",
    "            \n",
    "            # Add edges to graph G\n",
    "            for dest in neighbors:\n",
    "                G.add_edge(node, dest)\n",
    "    \n",
    "    # Create positions for nodes\n",
    "    pos = nx.circular_layout(G)\n",
    "    \n",
    "    # Create positions for labels\n",
    "    label_pos = {}\n",
    "    scale = 1.25\n",
    "    for p in pos:\n",
    "        x = pos[p][0]\n",
    "        y = pos[p][1]\n",
    "        if sizes[p] < 1200:\n",
    "            x *= scale\n",
    "            y *= scale\n",
    "        label_pos[p]= (x, y)\n",
    "        \n",
    "    # Draw graph!\n",
    "    nx.draw(G, pos, with_labels=False, arrows=True, node_size=[sizes[x] for x in G.nodes()],\n",
    "                     node_color=[1/sizes[x] for x in G.nodes()], cmap=plt.cm.gist_rainbow)\n",
    "    nx.draw_networkx_labels(G, label_pos, labels)\n",
    "    plt.title('Damping = ' + str(damping))"
   ]
  },
  {
   "cell_type": "code",
   "execution_count": 314,
   "metadata": {
    "collapsed": false
   },
   "outputs": [
    {
     "data": {
      "image/png": "[encoded data removed]",
      "text/plain": [
       "<matplotlib.figure.Figure at 0x7fc7ab677350>"
      ]
     },
     "metadata": {},
     "output_type": "display_data"
    },
    {
     "data": {
      "image/png": "[encoded data removed]",
      "text/plain": [
       "<matplotlib.figure.Figure at 0x7fc7e434ee10>"
      ]
     },
     "metadata": {},
     "output_type": "display_data"
    },
    {
     "data": {
      "image/png": "[encoded data removed]",
      "text/plain": [
       "<matplotlib.figure.Figure at 0x7fc7aa004410>"
      ]
     },
     "metadata": {},
     "output_type": "display_data"
    },
    {
     "data": {
      "image/png": "[encoded data removed]",
      "text/plain": [
       "<matplotlib.figure.Figure at 0x7fc7dc445510>"
      ]
     },
     "metadata": {},
     "output_type": "display_data"
    },
    {
     "data": {
      "image/png": "[encoded data removed]",
      "text/plain": [
       "<matplotlib.figure.Figure at 0x7fc7ae94fb50>"
      ]
     },
     "metadata": {},
     "output_type": "display_data"
    },
    {
     "data": {
      "image/png": "[encoded data removed]",
      "text/plain": [
       "<matplotlib.figure.Figure at 0x7fc7ab648510>"
      ]
     },
     "metadata": {},
     "output_type": "display_data"
    }
   ],
   "source": [
    "inputFile = 'PageRank-testInitialized.txt'\n",
    "outputDir = 'PageRank-result.txt'\n",
    "k = 30\n",
    "\n",
    "damping = [0, 0.25, 0.5, 0.75, 0.85, 1]\n",
    "\n",
    "for d in damping:\n",
    "    iteratePR(inputFile, n, d, 'local', outputDir, k, False)\n",
    "    createGraph(outputDir, d)"
   ]
  },
  {
   "cell_type": "markdown",
   "metadata": {},
   "source": [
    "# HW 9.3: Applying PageRank to the Wikipedia hyperlinks network\n",
    "\n",
    "Run your PageRank implementation on the Wikipedia dataset for 5 iterations, and display the top 100 ranked nodes (with alpha = 0.85)"
   ]
  },
  {
   "cell_type": "markdown",
   "metadata": {},
   "source": [
    "## MRJob to get top 100 nodes sorted by PageRank"
   ]
  },
  {
   "cell_type": "code",
   "execution_count": 67,
   "metadata": {
    "collapsed": false
   },
   "outputs": [
    {
     "name": "stdout",
     "output_type": "stream",
     "text": [
      "Overwriting PageRank_TopN.py\n"
     ]
    }
   ],
   "source": [
    "%%writefile PageRank_TopN.py\n",
    "from __future__ import division\n",
    "from mrjob.job import MRJob\n",
    "from mrjob.step import MRStep\n",
    "from mrjob.protocol import JSONProtocol\n",
    "from math import log, exp\n",
    "\n",
    "class topN(MRJob):\n",
    "    \n",
    "    #------------------\n",
    "    # Configurations:\n",
    "    \n",
    "    def configure_options(self):\n",
    "        super(topN, self).configure_options()\n",
    "        self.add_passthrough_option('--top', default=10, type='int')\n",
    "\n",
    "    \n",
    "    INPUT_PROTOCOL = JSONProtocol\n",
    "    \n",
    "    #------------------\n",
    "    # Mapper:\n",
    "    # - Throw out graph structure\n",
    "    # - Use PageRank as key\n",
    "    \n",
    "    def mapper(self, key, value):\n",
    "        yield log(value[1]), key\n",
    "        \n",
    "    #------------------\n",
    "    # Reducer:\n",
    "    # - Take top N values\n",
    "    \n",
    "    def reducer_init(self):\n",
    "        self.seen = 0\n",
    "    \n",
    "    def reducer(self, key, values):\n",
    "        n = self.options.top\n",
    "        \n",
    "        for val in values:\n",
    "            if self.seen < n:\n",
    "                yield exp(key), val\n",
    "                self.seen += 1\n",
    "                \n",
    "    #------------------\n",
    "    # Pipeline:\n",
    "    \n",
    "    def steps(self):\n",
    "        return [MRStep(mapper=self.mapper,\n",
    "                       reducer_init=self.reducer_init,\n",
    "                       reducer=self.reducer,\n",
    "                       jobconf={'mapred.output.key.comparator.class':'org.apache.hadoop.mapred.lib.KeyFieldBasedComparator',\n",
    "                                'mapred.text.key.partitioner.options':'-k1,1',\n",
    "                                'stream.num.map.output.key.fields':1,\n",
    "                                'mapred.text.key.comparator.options':'-k1,1nr',\n",
    "                                'mapred.reduce.tasks': 1\n",
    "                               })]\n",
    "\n",
    "        \n",
    "if __name__ == '__main__':\n",
    "    topN.run()"
   ]
  },
  {
   "cell_type": "markdown",
   "metadata": {},
   "source": [
    "## Driver for top N"
   ]
  },
  {
   "cell_type": "code",
   "execution_count": 68,
   "metadata": {
    "collapsed": true
   },
   "outputs": [],
   "source": [
    "from PageRank_TopN import topN\n",
    "\n",
    "def topNPR(filename, n, runnerType, outputDir, printOutput):\n",
    "\n",
    "    output = []\n",
    "    \n",
    "    if runnerType == 'local':\n",
    "        mr_job = topN(args=[filename, '--no-strict-protocols', '--top=' + str(n)])\n",
    "\n",
    "    elif runnerType == 'hadoop':\n",
    "        !hdfs dfs -rm -r {outputDir}\n",
    "        mr_job = topN(args=[filename, '--no-strict-protocols', '-r', 'hadoop', '--hadoop-home', '/usr/',\n",
    "                            '--output-dir', outputDir, '--top=' + str(n)])\n",
    "\n",
    "    elif runnerType == 'emr':\n",
    "        !aws s3 rm --quiet {outputDir}\n",
    "        mr_job = topN(args=[filename, '--no-strict-protocols', '--no-output', '--top=' + str(n),\n",
    "                            '-r', 'emr', '--emr-job-flow-id', clusterId, '--output-dir', outputDir])\n",
    "\n",
    "\n",
    "    with mr_job.make_runner() as runner:\n",
    "        runner.run()\n",
    "\n",
    "        if runnerType != 'emr':\n",
    "            for line in runner.stream_output():\n",
    "                out = mr_job.parse_output_line(line)\n",
    "                output.append(out)\n",
    "                if printOutput:\n",
    "                    print out"
   ]
  },
  {
   "cell_type": "markdown",
   "metadata": {},
   "source": [
    "## Initialize the Wikipedia data"
   ]
  },
  {
   "cell_type": "code",
   "execution_count": 5,
   "metadata": {
    "collapsed": false
   },
   "outputs": [],
   "source": [
    "inputFile = 's3://ucb-mids-mls-networks/wikipedia/all-pages-indexed-out.txt'\n",
    "outputDir = 's3://ms-w261-hw09/wikipedia/initialize'\n",
    "\n",
    "initializePR(inputFile, 'emr', outputDir)"
   ]
  },
  {
   "cell_type": "markdown",
   "metadata": {},
   "source": [
    "## Iterate over Wikipedia data 5 times"
   ]
  },
  {
   "cell_type": "code",
   "execution_count": 362,
   "metadata": {
    "collapsed": false
   },
   "outputs": [
    {
     "name": "stderr",
     "output_type": "stream",
     "text": [
      "WARNING:mrjob.conf:Got unexpected keyword arguments: ssh_tunnel\n"
     ]
    }
   ],
   "source": [
    "inputFile = 's3://ms-w261-hw09/wikipedia/initialize/'\n",
    "outputDir = 's3://ms-w261-hw09/wikipedia/result'\n",
    "\n",
    "n = 15192277 # We know this from last week's HW\n",
    "k = 5\n",
    "\n",
    "iteratePR(inputFile, n, 0.85, 'emr', outputDir, k, False)"
   ]
  },
  {
   "cell_type": "markdown",
   "metadata": {},
   "source": [
    "## Iterate over Wikipedia data 5 more times (10 iterations total)"
   ]
  },
  {
   "cell_type": "code",
   "execution_count": 11,
   "metadata": {
    "collapsed": false
   },
   "outputs": [
    {
     "name": "stderr",
     "output_type": "stream",
     "text": [
      "WARNING:mrjob.conf:Got unexpected keyword arguments: ssh_tunnel\n"
     ]
    }
   ],
   "source": [
    "inputFile = 's3://ms-w261-hw09/wikipedia/result/'\n",
    "outputDir = 's3://ms-w261-hw09/wikipedia/result2'\n",
    "\n",
    "n = 15192277 # We know this from last week's HW\n",
    "k = 5\n",
    "\n",
    "iteratePR(inputFile, n, 0.85, 'emr', outputDir, k, False)"
   ]
  },
  {
   "cell_type": "markdown",
   "metadata": {},
   "source": [
    "## Calculate top 100 pages after 5 iterations"
   ]
  },
  {
   "cell_type": "code",
   "execution_count": 72,
   "metadata": {
    "collapsed": false
   },
   "outputs": [
    {
     "name": "stderr",
     "output_type": "stream",
     "text": [
      "WARNING:mrjob.conf:Got unexpected keyword arguments: ssh_tunnel\n"
     ]
    }
   ],
   "source": [
    "inputFile = 's3://ms-w261-hw09/wikipedia/result/'\n",
    "outputDir = 's3://ms-w261-hw09/wikipedia/top'\n",
    "\n",
    "top = 100\n",
    "\n",
    "topNPR(inputFile, top, 'emr', outputDir, False)"
   ]
  },
  {
   "cell_type": "markdown",
   "metadata": {},
   "source": [
    "## Top 100 pages after 10 iterations"
   ]
  },
  {
   "cell_type": "code",
   "execution_count": 74,
   "metadata": {
    "collapsed": false
   },
   "outputs": [
    {
     "name": "stderr",
     "output_type": "stream",
     "text": [
      "WARNING:mrjob.conf:Got unexpected keyword arguments: ssh_tunnel\n"
     ]
    }
   ],
   "source": [
    "inputFile = 's3://ms-w261-hw09/wikipedia/result2/'\n",
    "outputDir = 's3://ms-w261-hw09/wikipedia/top2'\n",
    "\n",
    "top = 100\n",
    "\n",
    "topNPR(inputFile, top, 'emr', outputDir, False)"
   ]
  },
  {
   "cell_type": "markdown",
   "metadata": {},
   "source": [
    "## Compare top pages after 5 and 10 iterations"
   ]
  },
  {
   "cell_type": "code",
   "execution_count": 75,
   "metadata": {
    "collapsed": false
   },
   "outputs": [
    {
     "name": "stdout",
     "output_type": "stream",
     "text": [
      "download: s3://ms-w261-hw09/wikipedia/top/part-00000 to ./wikipediaTop100_5.txt\n",
      "download: s3://ms-w261-hw09/wikipedia/top2/part-00000 to ./wikipediaTop100_10.txt\n"
     ]
    }
   ],
   "source": [
    "!aws s3 cp s3://ms-w261-hw09/wikipedia/top/part-00000 wikipediaTop100_5.txt\n",
    "!aws s3 cp s3://ms-w261-hw09/wikipedia/top2/part-00000 wikipediaTop100_10.txt"
   ]
  },
  {
   "cell_type": "code",
   "execution_count": 76,
   "metadata": {
    "collapsed": false
   },
   "outputs": [],
   "source": [
    "iteration5 = []\n",
    "iteration10 = []\n",
    "allIds = set()\n",
    "pageDict = {}\n",
    "\n",
    "with open('wikipediaTop100_5.txt', 'r') as f:\n",
    "    for line in f:\n",
    "        fields = line.strip().split('\\t')\n",
    "        page = eval(fields[1])\n",
    "        PR = eval(fields[0])\n",
    "        iteration5.append([page, PR])\n",
    "        allIds.add(page)\n",
    "\n",
    "with open('wikipediaTop100_10.txt', 'r') as f:\n",
    "    for line in f:\n",
    "        fields = line.strip().split('\\t')\n",
    "        page = eval(fields[1])\n",
    "        PR = eval(fields[0])\n",
    "        iteration10.append([page, PR])\n",
    "        allIds.add(page)\n",
    "\n",
    "with open('wikipedia/indices.txt') as f:\n",
    "    for line in f:\n",
    "        fields = line.strip().split('\\t')\n",
    "        wikiId = fields[1]\n",
    "        wikiName = fields[0]\n",
    "        if wikiId in allIds:\n",
    "            pageDict[wikiId] = wikiName\n",
    "    "
   ]
  },
  {
   "cell_type": "code",
   "execution_count": 125,
   "metadata": {
    "collapsed": false
   },
   "outputs": [],
   "source": [
    "def printTop(lst, n):\n",
    "    print '       {:^40s}'.format('After '+str(n)+' iterations')\n",
    "    print '       {:15s}{:25s}'.format('PageRank', 'Page')\n",
    "    print '-'*60\n",
    "    for i in range(100):\n",
    "        print '[{:3d}]  {:<15.6f}{:25s}'.format(i + 1, lst[i][1], pageDict[lst[i][0]])\n",
    "    "
   ]
  },
  {
   "cell_type": "markdown",
   "metadata": {},
   "source": [
    "## Top pages after 5 iterations"
   ]
  },
  {
   "cell_type": "code",
   "execution_count": 126,
   "metadata": {
    "collapsed": false
   },
   "outputs": [
    {
     "name": "stdout",
     "output_type": "stream",
     "text": [
      "                  After 5 iterations           \n",
      "       PageRank       Page                     \n",
      "------------------------------------------------------------\n",
      "[  1]  0.001461       United States            \n",
      "[  2]  0.000683       Animal                   \n",
      "[  3]  0.000643       France                   \n",
      "[  4]  0.000576       Germany                  \n",
      "[  5]  0.000460       Arthropod                \n",
      "[  6]  0.000458       List of sovereign states \n",
      "[  7]  0.000455       Insect                   \n",
      "[  8]  0.000446       Canada                   \n",
      "[  9]  0.000430       India                    \n",
      "[ 10]  0.000429       United Kingdom           \n",
      "[ 11]  0.000422       England                  \n",
      "[ 12]  0.000409       Iran                     \n",
      "[ 13]  0.000382       World War II             \n",
      "[ 14]  0.000369       Poland                   \n",
      "[ 15]  0.000350       village                  \n",
      "[ 16]  0.000345       Countries of the world   \n",
      "[ 17]  0.000332       List of countries        \n",
      "[ 18]  0.000331       Japan                    \n",
      "[ 19]  0.000328       Italy                    \n",
      "[ 20]  0.000325       Australia                \n",
      "[ 21]  0.000321       Voivodeships of Poland   \n",
      "[ 22]  0.000314       Lepidoptera              \n",
      "[ 23]  0.000313       National Register of Historic Places\n",
      "[ 24]  0.000311       Powiat                   \n",
      "[ 25]  0.000305       Gmina                    \n",
      "[ 26]  0.000280       London                   \n",
      "[ 27]  0.000277       The New York Times       \n",
      "[ 28]  0.000268       English language         \n",
      "[ 29]  0.000263       China                    \n",
      "[ 30]  0.000261       Russia                   \n",
      "[ 31]  0.000260       Departments of France    \n",
      "[ 32]  0.000254       Communes of France       \n",
      "[ 33]  0.000253       New York City            \n",
      "[ 34]  0.000251       Spain                    \n",
      "[ 35]  0.000250       moth                     \n",
      "[ 36]  0.000248       Brazil                   \n",
      "[ 37]  0.000241       Association football     \n",
      "[ 38]  0.000235       association football     \n",
      "[ 39]  0.000221       Counties of Iran         \n",
      "[ 40]  0.000220       Provinces of Iran        \n",
      "[ 41]  0.000220       California               \n",
      "[ 42]  0.000215       Romania                  \n",
      "[ 43]  0.000215       Central European Time    \n",
      "[ 44]  0.000212       Bakhsh                   \n",
      "[ 45]  0.000207       Rural Districts of Iran  \n",
      "[ 46]  0.000204       Sweden                   \n",
      "[ 47]  0.000196       Netherlands              \n",
      "[ 48]  0.000193       Private Use Areas        \n",
      "[ 49]  0.000192       Iran Standard Time       \n",
      "[ 50]  0.000191       Central European Summer Time\n",
      "[ 51]  0.000190       AllMusic                 \n",
      "[ 52]  0.000189       World War I              \n",
      "[ 53]  0.000189       Mexico                   \n",
      "[ 54]  0.000186       New York                 \n",
      "[ 55]  0.000183       Iran Daylight Time       \n",
      "[ 56]  0.000180       Hangul                   \n",
      "[ 57]  0.000173       gene                     \n",
      "[ 58]  0.000172       Scotland                 \n",
      "[ 59]  0.000169       Norway                   \n",
      "[ 60]  0.000168       Allmusic                 \n",
      "[ 61]  0.000166       Soviet Union             \n",
      "[ 62]  0.000163       Plant                    \n",
      "[ 63]  0.000161       New Zealand              \n",
      "[ 64]  0.000160       Turkey                   \n",
      "[ 65]  0.000159       Paris                    \n",
      "[ 66]  0.000158       Geographic Names Information System\n",
      "[ 67]  0.000155       Switzerland              \n",
      "[ 68]  0.000152       Los Angeles              \n",
      "[ 69]  0.000151       Romanize                 \n",
      "[ 70]  0.000150       United States Census Bureau\n",
      "[ 71]  0.000146       Europe                   \n",
      "[ 72]  0.000145       Angiosperms              \n",
      "[ 73]  0.000144       Flowering plant          \n",
      "[ 74]  0.000142       South Africa             \n",
      "[ 75]  0.000141       census                   \n",
      "[ 76]  0.000138       protein                  \n",
      "[ 77]  0.000136       Austria                  \n",
      "[ 78]  0.000135       U.S. state               \n",
      "[ 79]  0.000133       Chordate                 \n",
      "[ 80]  0.000132       Political divisions of the United States\n",
      "[ 81]  0.000132       Argentina                \n",
      "[ 82]  0.000131       population density       \n",
      "[ 83]  0.000126       Belgium                  \n",
      "[ 84]  0.000126       Catholic Church          \n",
      "[ 85]  0.000125       BBC                      \n",
      "[ 86]  0.000122       Chicago                  \n",
      "[ 87]  0.000121       Pakistan                 \n",
      "[ 88]  0.000117       Washington, D.C.         \n",
      "[ 89]  0.000116       Finland                  \n",
      "[ 90]  0.000116       genus                    \n",
      "[ 91]  0.000115       Czech Republic           \n",
      "[ 92]  0.000115       species                  \n",
      "[ 93]  0.000114       Eastern European Time    \n",
      "[ 94]  0.000114       Ontario                  \n",
      "[ 95]  0.000114       football (soccer)        \n",
      "[ 96]  0.000113       Philippines              \n",
      "[ 97]  0.000113       Denmark                  \n",
      "[ 98]  0.000113       Eudicots                 \n",
      "[ 99]  0.000113       Hungary                  \n",
      "[100]  0.000113       Greece                   \n"
     ]
    }
   ],
   "source": [
    "printTop(iteration5, 5)"
   ]
  },
  {
   "cell_type": "markdown",
   "metadata": {},
   "source": [
    "## Top pages after 10 iterations"
   ]
  },
  {
   "cell_type": "code",
   "execution_count": 127,
   "metadata": {
    "collapsed": false
   },
   "outputs": [
    {
     "name": "stdout",
     "output_type": "stream",
     "text": [
      "                 After 10 iterations           \n",
      "       PageRank       Page                     \n",
      "------------------------------------------------------------\n",
      "[  1]  0.001461       United States            \n",
      "[  2]  0.000666       Animal                   \n",
      "[  3]  0.000640       France                   \n",
      "[  4]  0.000575       Germany                  \n",
      "[  5]  0.000450       Arthropod                \n",
      "[  6]  0.000447       Canada                   \n",
      "[  7]  0.000445       Insect                   \n",
      "[  8]  0.000444       List of sovereign states \n",
      "[  9]  0.000433       United Kingdom           \n",
      "[ 10]  0.000428       India                    \n",
      "[ 11]  0.000423       England                  \n",
      "[ 12]  0.000398       Iran                     \n",
      "[ 13]  0.000385       World War II             \n",
      "[ 14]  0.000363       Poland                   \n",
      "[ 15]  0.000344       village                  \n",
      "[ 16]  0.000338       Countries of the world   \n",
      "[ 17]  0.000329       Japan                    \n",
      "[ 18]  0.000329       Italy                    \n",
      "[ 19]  0.000326       List of countries        \n",
      "[ 20]  0.000325       Australia                \n",
      "[ 21]  0.000313       Voivodeships of Poland   \n",
      "[ 22]  0.000310       National Register of Historic Places\n",
      "[ 23]  0.000308       Lepidoptera              \n",
      "[ 24]  0.000304       Powiat                   \n",
      "[ 25]  0.000298       Gmina                    \n",
      "[ 26]  0.000286       The New York Times       \n",
      "[ 27]  0.000283       London                   \n",
      "[ 28]  0.000269       English language         \n",
      "[ 29]  0.000264       China                    \n",
      "[ 30]  0.000261       Russia                   \n",
      "[ 31]  0.000258       New York City            \n",
      "[ 32]  0.000255       Departments of France    \n",
      "[ 33]  0.000251       Spain                    \n",
      "[ 34]  0.000249       Communes of France       \n",
      "[ 35]  0.000245       moth                     \n",
      "[ 36]  0.000245       Brazil                   \n",
      "[ 37]  0.000239       Association football     \n",
      "[ 38]  0.000233       association football     \n",
      "[ 39]  0.000221       California               \n",
      "[ 40]  0.000215       Counties of Iran         \n",
      "[ 41]  0.000215       Provinces of Iran        \n",
      "[ 42]  0.000211       Central European Time    \n",
      "[ 43]  0.000211       Romania                  \n",
      "[ 44]  0.000207       Bakhsh                   \n",
      "[ 45]  0.000203       Sweden                   \n",
      "[ 46]  0.000203       Rural Districts of Iran  \n",
      "[ 47]  0.000197       Netherlands              \n",
      "[ 48]  0.000191       Private Use Areas        \n",
      "[ 49]  0.000191       World War I              \n",
      "[ 50]  0.000188       Central European Summer Time\n",
      "[ 51]  0.000188       New York                 \n",
      "[ 52]  0.000187       Mexico                   \n",
      "[ 53]  0.000187       Iran Standard Time       \n",
      "[ 54]  0.000185       AllMusic                 \n",
      "[ 55]  0.000179       Iran Daylight Time       \n",
      "[ 56]  0.000178       Hangul                   \n",
      "[ 57]  0.000173       Scotland                 \n",
      "[ 58]  0.000170       gene                     \n",
      "[ 59]  0.000168       Soviet Union             \n",
      "[ 60]  0.000167       Norway                   \n",
      "[ 61]  0.000165       Allmusic                 \n",
      "[ 62]  0.000161       Paris                    \n",
      "[ 63]  0.000161       New Zealand              \n",
      "[ 64]  0.000159       Turkey                   \n",
      "[ 65]  0.000158       Plant                    \n",
      "[ 66]  0.000155       Geographic Names Information System\n",
      "[ 67]  0.000155       Switzerland              \n",
      "[ 68]  0.000153       Los Angeles              \n",
      "[ 69]  0.000149       Romanize                 \n",
      "[ 70]  0.000148       United States Census Bureau\n",
      "[ 71]  0.000147       Europe                   \n",
      "[ 72]  0.000142       Angiosperms              \n",
      "[ 73]  0.000141       South Africa             \n",
      "[ 74]  0.000139       census                   \n",
      "[ 75]  0.000138       Flowering plant          \n",
      "[ 76]  0.000136       Austria                  \n",
      "[ 77]  0.000135       protein                  \n",
      "[ 78]  0.000135       U.S. state               \n",
      "[ 79]  0.000131       Argentina                \n",
      "[ 80]  0.000130       Political divisions of the United States\n",
      "[ 81]  0.000130       population density       \n",
      "[ 82]  0.000128       Catholic Church          \n",
      "[ 83]  0.000128       Chordate                 \n",
      "[ 84]  0.000127       BBC                      \n",
      "[ 85]  0.000127       Belgium                  \n",
      "[ 86]  0.000124       Chicago                  \n",
      "[ 87]  0.000121       Washington, D.C.         \n",
      "[ 88]  0.000120       Pakistan                 \n",
      "[ 89]  0.000116       Finland                  \n",
      "[ 90]  0.000114       The Guardian             \n",
      "[ 91]  0.000114       Latin                    \n",
      "[ 92]  0.000114       Ontario                  \n",
      "[ 93]  0.000114       Czech Republic           \n",
      "[ 94]  0.000113       Philippines              \n",
      "[ 95]  0.000113       Denmark                  \n",
      "[ 96]  0.000113       Greece                   \n",
      "[ 97]  0.000113       genus                    \n",
      "[ 98]  0.000112       football (soccer)        \n",
      "[ 99]  0.000112       Hungary                  \n",
      "[100]  0.000112       Eastern European Time    \n"
     ]
    }
   ],
   "source": [
    "printTop(iteration10, 10)"
   ]
  },
  {
   "cell_type": "markdown",
   "metadata": {},
   "source": [
    "## Have the top 100 ranked pages changed? Comment on your findings. \n",
    "The top 100 pages have not changed drastically between 5 and 10 iterations; the two sets have 98 pages in common."
   ]
  },
  {
   "cell_type": "code",
   "execution_count": 81,
   "metadata": {
    "collapsed": false
   },
   "outputs": [
    {
     "name": "stdout",
     "output_type": "stream",
     "text": [
      "Intersection of pages from 5 iterations and 10 iterations\n",
      "98 pages\n",
      "['Countries of the world', 'Flowering plant', 'Insect', 'Canada', 'Washington, D.C.', 'Denmark', 'Paris', 'India', 'Japan', 'Hangul', 'South Africa', 'Bakhsh', 'Pakistan', 'Allmusic', 'Australia', 'Italy', 'National Register of Historic Places', 'Iran', 'New Zealand', 'World War II', 'Chicago', 'Europe', 'Germany', 'Iran Standard Time', 'Communes of France', 'village', 'Finland', 'New York City', 'London', 'Scotland', 'Romanize', 'Political divisions of the United States', 'List of countries', 'gene', 'Mexico', 'Hungary', 'Ontario', 'Plant', 'Arthropod', 'Private Use Areas', 'United Kingdom', 'English language', 'Iran Daylight Time', 'China', 'Chordate', 'association football', 'List of sovereign states', 'Norway', 'Geographic Names Information System', 'Switzerland', 'England', 'Greece', 'Counties of Iran', 'World War I', 'United States', 'genus', 'census', 'AllMusic', 'population density', 'U.S. state', 'Powiat', 'New York', 'moth', 'France', 'protein', 'Voivodeships of Poland', 'BBC', 'Provinces of Iran', 'Romania', 'football (soccer)', 'Rural Districts of Iran', 'Poland', 'Angiosperms', 'Central European Time', 'Lepidoptera', 'Eastern European Time', 'Los Angeles', 'United States Census Bureau', 'Russia', 'Catholic Church', 'Austria', 'Belgium', 'Central European Summer Time', 'Departments of France', 'Argentina', 'Sweden', 'Philippines', 'Brazil', 'Netherlands', 'The New York Times', 'California', 'Soviet Union', 'Spain', 'Gmina', 'Animal', 'Turkey', 'Czech Republic', 'Association football']\n"
     ]
    }
   ],
   "source": [
    "set5 = set()\n",
    "set10 = set()\n",
    "\n",
    "for i in range(100):\n",
    "    set5.add(iteration5[i][0])\n",
    "    set10.add(iteration10[i][0])\n",
    "\n",
    "print 'Intersection of pages from 5 iterations and 10 iterations'\n",
    "print len(set5.intersection(set10)), 'pages'\n",
    "print [pageDict[x] for x in set5.intersection(set10)]"
   ]
  },
  {
   "cell_type": "markdown",
   "metadata": {},
   "source": [
    "## Plot the pagerank values for the top 100 pages resulting from the 5 iterations run. Then plot the pagerank values for the same 100 pages that resulted from the 10 iterations run. "
   ]
  },
  {
   "cell_type": "code",
   "execution_count": 82,
   "metadata": {
    "collapsed": false
   },
   "outputs": [
    {
     "name": "stdout",
     "output_type": "stream",
     "text": [
      "Overwriting PageRank_Matching.py\n"
     ]
    }
   ],
   "source": [
    "%%writefile PageRank_Matching.py\n",
    "from mrjob.job import MRJob\n",
    "from mrjob.step import MRStep\n",
    "from mrjob.protocol import JSONProtocol\n",
    "\n",
    "class matching(MRJob):\n",
    "    \n",
    "    #------------------\n",
    "    # Configurations:\n",
    "    \n",
    "    def configure_options(self):\n",
    "        super(matching, self).configure_options()\n",
    "        self.add_passthrough_option('--f', default='wikipediaTop100_5.txt', type='string')\n",
    "    \n",
    "    INPUT_PROTOCOL = JSONProtocol\n",
    "    \n",
    "    #------------------\n",
    "    # Mapper:\n",
    "    # - Stream through one file and only keep entries\n",
    "    #   matching indexes in the included file\n",
    "    \n",
    "    def mapper_init(self):\n",
    "        self.pages = []\n",
    "        with open(self.options.f + '.txt', 'r') as f:\n",
    "            for line in f:\n",
    "                fields = line.strip().split('\\t')\n",
    "                page = eval(fields[1])\n",
    "                self.pages.append(page)\n",
    "            \n",
    "    def mapper(self, key, value):\n",
    "        if key in self.pages:\n",
    "            yield key, value[1]\n",
    "        \n",
    "    #------------------\n",
    "    # Pipeline:\n",
    "    \n",
    "    def steps(self):\n",
    "        return [MRStep(mapper_init=self.mapper_init,\n",
    "                       mapper=self.mapper)]\n",
    "\n",
    "        \n",
    "if __name__ == '__main__':\n",
    "    matching.run()"
   ]
  },
  {
   "cell_type": "code",
   "execution_count": 83,
   "metadata": {
    "collapsed": true
   },
   "outputs": [],
   "source": [
    "from PageRank_Matching import matching\n",
    "\n",
    "def getMatches(filename, includeFile, runnerType, outputDir, printOutput):\n",
    "\n",
    "    output = []\n",
    "    myFile = includeFile.replace('.txt', '')\n",
    "    \n",
    "    if runnerType == 'local':\n",
    "        mr_job = matching(args=[filename, '--no-strict-protocols', '--file', includeFile, '--f', myFile])\n",
    "\n",
    "    elif runnerType == 'hadoop':\n",
    "        !hdfs dfs -rm -r {outputDir}\n",
    "        mr_job = matching(args=[filename, '--no-strict-protocols', '-r', 'hadoop', '--hadoop-home', '/usr/',\n",
    "                            '--output-dir', outputDir, '--file', includeFile, '--f', myFile])\n",
    "\n",
    "    elif runnerType == 'emr':\n",
    "        !aws s3 rm --quiet {outputDir}\n",
    "        mr_job = matching(args=[filename, '--no-strict-protocols', '--no-output', '--file', includeFile,\n",
    "                            '-r', 'emr', '--emr-job-flow-id', clusterId, '--output-dir', outputDir,\n",
    "                            '--f', myFile])\n",
    "\n",
    "\n",
    "    with mr_job.make_runner() as runner:\n",
    "        runner.run()\n",
    "\n",
    "        if runnerType != 'emr':\n",
    "            for line in runner.stream_output():\n",
    "                out = mr_job.parse_output_line(line)\n",
    "                output.append(out)\n",
    "                if printOutput:\n",
    "                    print out"
   ]
  },
  {
   "cell_type": "code",
   "execution_count": 84,
   "metadata": {
    "collapsed": false
   },
   "outputs": [
    {
     "name": "stderr",
     "output_type": "stream",
     "text": [
      "WARNING:mrjob.conf:Got unexpected keyword arguments: ssh_tunnel\n"
     ]
    }
   ],
   "source": [
    "getMatches('s3://ms-w261-hw09/wikipedia/result2/', \n",
    "           'wikipediaTop100_5.txt', \n",
    "           'emr', \n",
    "           's3://ms-w261-hw09/wikipedia/matching', \n",
    "           False)"
   ]
  },
  {
   "cell_type": "code",
   "execution_count": 85,
   "metadata": {
    "collapsed": false
   },
   "outputs": [],
   "source": [
    "!aws s3 cp  --recursive --quiet s3://ms-w261-hw09/wikipedia/matching/ matching/.\n",
    "!cat matching/part-* > matching.txt"
   ]
  },
  {
   "cell_type": "code",
   "execution_count": 86,
   "metadata": {
    "collapsed": false
   },
   "outputs": [],
   "source": [
    "matching = {}\n",
    "with open('matching.txt', 'r') as f:\n",
    "    for line in f:\n",
    "        fields = line.strip().split('\\t')\n",
    "        page = int(eval(fields[0]))\n",
    "        PR = eval(fields[1])\n",
    "        matching[page] = PR"
   ]
  },
  {
   "cell_type": "code",
   "execution_count": 87,
   "metadata": {
    "collapsed": false
   },
   "outputs": [],
   "source": [
    "beforeAfter = []\n",
    "for page, PR in iteration5:\n",
    "    beforeAfter.append([int(page), PR, matching[int(page)]])"
   ]
  },
  {
   "cell_type": "code",
   "execution_count": 128,
   "metadata": {
    "collapsed": false
   },
   "outputs": [
    {
     "name": "stdout",
     "output_type": "stream",
     "text": [
      "\n"
     ]
    },
    {
     "data": {
      "image/png": "[encoded data removed]",
      "text/plain": [
       "<matplotlib.figure.Figure at 0x7fba77faec50>"
      ]
     },
     "metadata": {},
     "output_type": "display_data"
    },
    {
     "data": {
      "image/png": "[encoded data removed]",
      "text/plain": [
       "<matplotlib.figure.Figure at 0x7fba76804810>"
      ]
     },
     "metadata": {},
     "output_type": "display_data"
    }
   ],
   "source": [
    "%matplotlib inline\n",
    "import numpy as np\n",
    "import matplotlib.pyplot as plt\n",
    "\n",
    "data = np.array(beforeAfter)\n",
    "\n",
    "def plotData(data, title, startRank=0):\n",
    "    plt.figure(figsize=(16,6))\n",
    "    plt.bar(startRank + np.arange(len(data)), data[:,1], width=0.3, color='#9C0046', \n",
    "            label='PageRank after 5 iterations')\n",
    "    plt.bar(startRank + np.arange(len(data)) + 0.3, data[:,2], width=0.3, color='#87ceeb', \n",
    "            label='PageRank after 10 iterations')\n",
    "    plt.title(title)\n",
    "    plt.ylabel('PageRank')\n",
    "    plt.xlabel('Rank after 5 iterations')\n",
    "    plt.legend(loc='upper right')\n",
    "    plt.xlim(startRank, startRank + len(data))\n",
    "    \n",
    "\n",
    "plotData(data[:50,:], \"PageRank of top 50 pages after 5 iterations\")\n",
    "print ''\n",
    "plotData(data[50:,:], \"PageRank of pages ranked 51-100 after 5 iterations\", 50)"
   ]
  },
  {
   "cell_type": "markdown",
   "metadata": {},
   "source": [
    "# HW 9.4: Topic-specific PageRank implementation using MRJob\n",
    "\n",
    "Modify your PageRank implementation to produce a topic specific PageRank implementation\n",
    "\n",
    "## Initialization for a topic\n",
    "\n",
    "Since this corpus is small, we will read it in locally and create a topicCount file, so we know how many nodes belong to each topic. This file, along with the topics file will be fed into the initialization MRJob.\n",
    "\n",
    "In the final reducer of the MRJob (where we normalized the initial PageRank values to be 1/n), we also initialize the weights as follows:\n",
    "\n",
    "$$\n",
    "\\text{weight}_{ij} = \n",
    "\\begin{cases}\n",
    "\\frac{\\beta}{|T_j|}\n",
    "&\\mbox{if } i \\mbox{ in topic } T_j \\\\\n",
    "\\frac{1-\\beta}{N-|T_j|}\n",
    "&\\mbox{if } i \\mbox{ not in topic } T_j \\\\\n",
    "\\end{cases}\n",
    "$$\n",
    "\n",
    "In this case, we set $\\beta = 0.99$."
   ]
  },
  {
   "cell_type": "code",
   "execution_count": 370,
   "metadata": {
    "collapsed": true
   },
   "outputs": [],
   "source": [
    "from collections import Counter\n",
    "#We need to do some aggregation of topics\n",
    "topics = Counter()\n",
    "\n",
    "with open('randNet_topics.txt', 'r') as myfile:\n",
    "    for line in myfile:\n",
    "        fields = line.strip().split('\\t')\n",
    "        topic = fields[1]\n",
    "        topics[topic] += 1\n",
    "\n",
    "with open('randNet_topicCount.txt', 'w') as outfile:\n",
    "    outfile.writelines([str(item) + '\\t' + str(topics[item]) + '\\n' for item in topics])"
   ]
  },
  {
   "cell_type": "code",
   "execution_count": 371,
   "metadata": {
    "collapsed": false
   },
   "outputs": [
    {
     "name": "stdout",
     "output_type": "stream",
     "text": [
      "Overwriting TSPageRank_Initialize.py\n"
     ]
    }
   ],
   "source": [
    "%%writefile TSPageRank_Initialize.py\n",
    "from __future__ import division\n",
    "from mrjob.job import MRJob\n",
    "from mrjob.step import MRStep\n",
    "\n",
    "class initialize(MRJob):\n",
    "        \n",
    "    #------------------\n",
    "    # Configurations: \n",
    "    \n",
    "    def configure_options(self):\n",
    "        super(initialize, self).configure_options()\n",
    "        self.add_passthrough_option('--beta', default=0.99, type='float')\n",
    "        self.add_passthrough_option('--topic', default='1', type='string')\n",
    "    \n",
    "    \"\"\"\n",
    "    Get all nodes\n",
    "    \"\"\"\n",
    "    \n",
    "    #------------------\n",
    "    # Mapper:\n",
    "    # - We need to make sure we emit a line for each node in the graph\n",
    "    # - Right now there are no lines for nodes with no neighbors\n",
    "    \n",
    "    def mapper(self, _, line):\n",
    "        \n",
    "        # Split fields\n",
    "        \n",
    "        fields = line.split('\\t')\n",
    "        key = fields[0]\n",
    "        stripe = eval(fields[1])\n",
    "        \n",
    "        # Emit the key and stripe\n",
    "        \n",
    "        yield key, stripe\n",
    "        \n",
    "        # For each neighbor, emit a 0\n",
    "        # We just do this so we catch all nodes\n",
    "        \n",
    "        for neighbor in stripe:\n",
    "            yield neighbor, 0\n",
    "            \n",
    "    #------------------\n",
    "    # Reducer:\n",
    "    # - We need to deduplicate each of our nodes\n",
    "    # - If we encounter a value that is a dictionary, these are the neighbors\n",
    "    # - If we do not encounter any dictionaries, then the node is dangling, we emit an empty neighbor list\n",
    "    \n",
    "    def reducer(self, key, values):       \n",
    "        stripe = {}\n",
    "        \n",
    "        # Loop through values for a key to see if it has neighbors\n",
    "        # If it does, we need to keep the neighbors\n",
    "        \n",
    "        for val in values:\n",
    "            if type(val) == type(stripe):\n",
    "                stripe = val\n",
    "                \n",
    "        # For each key, emit only one thing, which is the neighbor list\n",
    "        # We should now have a line for each node, even if the neighbor list is empty\n",
    "        \n",
    "        yield key, stripe\n",
    "        \n",
    "    \"\"\"\n",
    "    Initialize topic weights (v_ji)\n",
    "    Normalize length\n",
    "    \"\"\"\n",
    "    \n",
    "    #------------------\n",
    "    # Mapper:\n",
    "    # - Find total number of nodes\n",
    "    \n",
    "    # Initialize total to 0\n",
    "    def mapper_norm_init(self):\n",
    "        self.total = 0.0\n",
    "    \n",
    "    # For each key we encounter, increment total\n",
    "    # We know that we will only encounter each node once\n",
    "    def mapper_norm(self, key, value):\n",
    "        yield key, value\n",
    "        self.total += 1\n",
    "        \n",
    "    # Emit the total number of nodes we saw\n",
    "    def mapper_norm_final(self):\n",
    "        yield '*', self.total\n",
    "    \n",
    "    #------------------\n",
    "    # Combiner:\n",
    "    # - Partial sum of total nodes\n",
    "    \n",
    "    # To combine the totals if we have multiple mappers\n",
    "    def combiner_norm(self, key, values):\n",
    "        if key == '*':\n",
    "            yield key, sum(values)\n",
    "        else:\n",
    "            for val in values:\n",
    "                yield key, val\n",
    "     \n",
    "    #------------------\n",
    "    # Reducer:\n",
    "    # - Partial sum of total nodes\n",
    "    # - Calculate weight vector (v_ji) for each node\n",
    "    \n",
    "    # Initialize the totalNodes to 0\n",
    "    # Read topics and topicCount (only for topic of interest) into memory\n",
    "    def reducer_norm_init(self):\n",
    "        self.totalNodes = 0\n",
    "        self.topics = {}\n",
    "        self.topicCount = 0.0\n",
    "        \n",
    "        with open('randNet_topics.txt', 'r') as f1:\n",
    "            for line in f1:\n",
    "                fields = line.strip().split('\\t')\n",
    "                node = fields[0]\n",
    "                topic = fields[1]\n",
    "                self.topics[node] = topic\n",
    "        \n",
    "        with open('randNet_topicCount.txt', 'r') as f2:\n",
    "            for line in f2:\n",
    "                fields = line.strip().split('\\t')\n",
    "                topic = fields[0]\n",
    "                count = eval(fields[1])\n",
    "                if topic == self.options.topic:\n",
    "                    self.topicCount = count\n",
    "       \n",
    "    # If the key is '*', save the sum of the values\n",
    "    # Otherwise, yield the key, stripe, PageRank (1/n) and weight\n",
    "    def reducer_norm(self, key, values):\n",
    "        if key == '*':\n",
    "            self.totalNodes = sum(values)\n",
    "        else:\n",
    "            \n",
    "            # Is this key is in the topic of interest?\n",
    "            keyInTopic = self.topics[key] == self.options.topic\n",
    "            \n",
    "            # If the key is part of our topic, weight = beta / size of topic\n",
    "            if keyInTopic:\n",
    "                weight = self.options.beta / self.topicCount\n",
    "            \n",
    "            # Otherwise, weight = (1 - beta) / size of not-topic\n",
    "            else:\n",
    "                weight = (1 - self.options.beta) / (self.totalNodes - self.topicCount)\n",
    "                \n",
    "            for val in values:\n",
    "                yield key, (val, 1 / self.totalNodes, weight)\n",
    "    \n",
    "    \"\"\"\n",
    "    Multi-step pipeline\n",
    "    \"\"\"\n",
    "    def steps(self):\n",
    "        return [\n",
    "            MRStep(mapper=self.mapper,\n",
    "                   reducer=self.reducer),\n",
    "            MRStep(mapper_init=self.mapper_norm_init,\n",
    "                   mapper=self.mapper_norm,\n",
    "                   mapper_final=self.mapper_norm_final,\n",
    "                   combiner=self.combiner_norm,\n",
    "                   reducer_init=self.reducer_norm_init,\n",
    "                   reducer=self.reducer_norm,\n",
    "                   jobconf={'mapreduce.job.reduces': 1})\n",
    "        ]\n",
    "\n",
    "if __name__ == '__main__':\n",
    "    initialize.run()"
   ]
  },
  {
   "cell_type": "markdown",
   "metadata": {},
   "source": [
    "## Driver for initialization"
   ]
  },
  {
   "cell_type": "code",
   "execution_count": 372,
   "metadata": {
    "collapsed": true
   },
   "outputs": [],
   "source": [
    "from TSPageRank_Initialize import initialize\n",
    "\n",
    "def initializeTSPR(filename, topic, beta, runnerType, outputDir, printOutput):\n",
    "    \n",
    "    if runnerType == 'local':\n",
    "        mr_job = initialize(args=[filename, '--no-strict-protocols', '--topic', topic, '--beta=' + str(beta),\n",
    "                                 '--file', 'randNet_topics.txt', '--file', 'randNet_topicCount.txt'])\n",
    "        \n",
    "    elif runnerType == 'hadoop':\n",
    "        !hdfs dfs -rm -r {outputDir}\n",
    "        mr_job = initialize(args=[filename, '--no-strict-protocols', '-r', 'hadoop', '--hadoop-home', '/usr/',\n",
    "                                 '--output-dir', outputDir, '--topic', topic, '--beta=' + str(beta),\n",
    "                                 '--file', 'randNet_topics.txt', '--file', 'randNet_topicCount.txt'])\n",
    "        \n",
    "    elif runnerType == 'emr':\n",
    "        !aws s3 rm --quiet {outputDir}\n",
    "        mr_job = initialize(args=[filename, '--no-strict-protocols', '--no-output', \n",
    "                                  '-r', 'emr', '--emr-job-flow-id', clusterId, '--output-dir', outputDir,\n",
    "                                  '--topic', topic, '--beta=' + str(beta),\n",
    "                                  '--file', 'randNet_topics.txt', '--file', 'randNet_topicCount.txt'])\n",
    "        \n",
    "\n",
    "    with mr_job.make_runner() as runner:\n",
    "        runner.run()\n",
    "\n",
    "        if printOutput:\n",
    "            for line in runner.stream_output():\n",
    "                print mr_job.parse_output_line(line)"
   ]
  },
  {
   "cell_type": "markdown",
   "metadata": {},
   "source": [
    "## Check initialization output for topic 1"
   ]
  },
  {
   "cell_type": "code",
   "execution_count": 373,
   "metadata": {
    "collapsed": false
   },
   "outputs": [
    {
     "name": "stdout",
     "output_type": "stream",
     "text": [
      "Number of nodes = 100\n",
      "Deleted /user/miki/week09/randNet/initialize1\n"
     ]
    }
   ],
   "source": [
    "inputFile = 'randNet.txt'\n",
    "outputDir = '/user/miki/week09/randNet/initialize'\n",
    "n = countNodes(inputFile)\n",
    "topic = '1'\n",
    "\n",
    "initializeTSPR(inputFile, topic, 0.99, 'hadoop', outputDir + topic, False)\n",
    "\n",
    "# Note: we have to do this to preserve JSON protocol for reading in on next job\n",
    "# For some reason, reading input from HDFS does not work :(\n",
    "localFilename = 'randNet/initialize' + topic + '.txt'\n",
    "!rm {localFilename}\n",
    "!hdfs dfs -copyToLocal {outputDir + topic + '/part-00000'} {localFilename}"
   ]
  },
  {
   "cell_type": "code",
   "execution_count": 374,
   "metadata": {
    "collapsed": false
   },
   "outputs": [
    {
     "name": "stdout",
     "output_type": "stream",
     "text": [
      "\"1\"\t[{\"11\": 1, \"27\": 1, \"46\": 1, \"47\": 1, \"35\": 1, \"63\": 1, \"89\": 1, \"5\": 1}, 0.01, 0.00012048192771084348]\r\n",
      "\"10\"\t[{\"38\": 1, \"49\": 1, \"46\": 1, \"47\": 1, \"28\": 1, \"53\": 1, \"61\": 1, \"89\": 1, \"64\": 1, \"80\": 1}, 0.01, 0.058235294117647059]\r\n",
      "\"100\"\t[{\"10\": 1, \"39\": 1, \"48\": 1, \"33\": 1, \"51\": 1, \"53\": 1, \"52\": 1, \"67\": 1}, 0.01, 0.00012048192771084348]\r\n",
      "\"11\"\t[{\"39\": 1, \"12\": 1, \"21\": 1, \"46\": 1, \"43\": 1, \"55\": 1, \"89\": 1, \"7\": 1, \"84\": 1}, 0.01, 0.00012048192771084348]\r\n",
      "\"12\"\t[{\"26\": 1, \"59\": 1, \"16\": 1, \"33\": 1, \"29\": 1, \"99\": 1, \"88\": 1, \"2\": 1, \"100\": 1, \"95\": 1}, 0.01, 0.00012048192771084348]\r\n",
      "\"13\"\t[{\"54\": 1, \"52\": 1, \"77\": 1, \"65\": 1, \"92\": 1, \"85\": 1}, 0.01, 0.00012048192771084348]\r\n",
      "\"14\"\t[{\"11\": 1, \"34\": 1, \"3\": 1, \"64\": 1, \"65\": 1, \"91\": 1, \"86\": 1}, 0.01, 0.00012048192771084348]\r\n",
      "\"15\"\t[{\"13\": 1, \"21\": 1, \"49\": 1, \"45\": 1, \"37\": 1, \"99\": 1, \"74\": 1, \"92\": 1, \"87\": 1}, 0.01, 0.00012048192771084348]\r\n",
      "\"16\"\t[{\"24\": 1, \"10\": 1, \"58\": 1, \"57\": 1, \"65\": 1, \"9\": 1, \"85\": 1}, 0.01, 0.058235294117647059]\r\n",
      "\"17\"\t[{\"27\": 1, \"48\": 1, \"35\": 1, \"61\": 1, \"75\": 1, \"71\": 1, \"70\": 1, \"92\": 1, \"78\": 1}, 0.01, 0.00012048192771084348]\r\n"
     ]
    }
   ],
   "source": [
    "!head {localFilename}"
   ]
  },
  {
   "cell_type": "markdown",
   "metadata": {},
   "source": [
    "## Iteration for a topic\n",
    "\n",
    "This should be the same logic as the non-topic-specific version, except when we calculate the PageRank (accounting for teleporting and distributing dangling mass), we use a different weighting. Formerly, we used the following formula:\n",
    "\n",
    "$$\n",
    "\\text{PR}_{\\text{new}} = (1 - \\alpha) \\bigg(\\frac{1}{n}\\bigg) + \\alpha \\bigg(\\frac{m}{n} + \\text{PR}_{\\text{old}}\\bigg)\n",
    "$$\n",
    "\n",
    "The first $1/n$ term indicated that we could jump to any other node with uniform probability. However, we now have a different probability, which we calculated in the initialization step:\n",
    "\n",
    "$$\n",
    "\\text{PR}_{\\text{new}} = (1 - \\alpha) (\\text{weight}_{ij}) + \\alpha \\bigg(\\frac{m}{n} + \\text{PR}_{\\text{old}}\\bigg)\n",
    "$$"
   ]
  },
  {
   "cell_type": "code",
   "execution_count": 375,
   "metadata": {
    "collapsed": false
   },
   "outputs": [
    {
     "name": "stdout",
     "output_type": "stream",
     "text": [
      "Overwriting TSPageRank_Iterate.py\n"
     ]
    }
   ],
   "source": [
    "%%writefile TSPageRank_Iterate.py\n",
    "from __future__ import division\n",
    "from mrjob.job import MRJob\n",
    "from mrjob.step import MRStep\n",
    "from mrjob.protocol import JSONProtocol\n",
    "\n",
    "class iterate(MRJob):\n",
    "\n",
    "    #------------------\n",
    "    # Configurations: \n",
    "    \n",
    "    def configure_options(self):\n",
    "        super(iterate, self).configure_options()\n",
    "        self.add_passthrough_option('--numNodes', default=1, type='int')\n",
    "        self.add_passthrough_option('--alpha', default=0.85, type='float')\n",
    "        self.add_passthrough_option('--iterations', default=1, type='int')\n",
    "    \n",
    "    INPUT_PROTOCOL = JSONProtocol\n",
    "    \n",
    "    #------------------\n",
    "    # Mapper:\n",
    "    # - Find the number of neighbors for the node\n",
    "    # - Distribute current PageRank among all neighbors\n",
    "    # - If there are no neighbors, keep track of dangling mass\n",
    "    \n",
    "    def mapper_dist(self, key, value):\n",
    "\n",
    "        # Divide the current PageRank by the number of neighbors\n",
    "        \n",
    "        numNeighbors = len(value[0])\n",
    "        PageRank = value[1]\n",
    "        \n",
    "        # If there are neighbors, distribute the PageRank to each neighbors\n",
    "        \n",
    "        if numNeighbors > 0:\n",
    "            for neighbor in value[0]:\n",
    "                yield neighbor, PageRank / numNeighbors\n",
    "                \n",
    "        # If there are no neighbors, we need to account for this dangling node\n",
    "        \n",
    "        else:\n",
    "            yield '*dangling', PageRank\n",
    "        \n",
    "        # Maintain the graph structure and weights\n",
    "        \n",
    "        yield key, (value[0], value[2])\n",
    "     \n",
    "    #------------------\n",
    "    # Reducer:\n",
    "    # - For each node, accumulate PageRank distributed from other nodes\n",
    "    # - Maintain graph structure\n",
    "    \n",
    "    def reducer_dist(self, key, values):\n",
    "        \n",
    "        new_PageRank = 0.0\n",
    "        weight = 0.0\n",
    "        neighbors = {}\n",
    "        \n",
    "        for val in values:\n",
    "            if type(val) == type(0.0):\n",
    "                new_PageRank += val\n",
    "            else:\n",
    "                neighbors = val[0]\n",
    "                weight = val[1]\n",
    "                \n",
    "        \n",
    "        yield key, (neighbors, new_PageRank, weight)\n",
    "\n",
    "    #------------------\n",
    "    # Mapper: \n",
    "    # - Account for teleportation\n",
    "    # - Distribute dangling mass to all nodes\n",
    "    \n",
    "    # Below is doing it with only one reducer\n",
    "    # This isn't a good way to do it, but couldn't figure out a better way\n",
    "    \n",
    "    def mapper_dangle(self, key, value):\n",
    "        yield key, value\n",
    "        \n",
    "    def reducer_init(self):\n",
    "        self.m = 0.0\n",
    "        \n",
    "    def reducer_dangle(self, key, values):\n",
    "        \n",
    "        PageRank = 0.0\n",
    "        neighbors = {}\n",
    "        weight = 0.0\n",
    "        \n",
    "        for val in values:\n",
    "            PageRank = val[1]\n",
    "            neighbors = val[0]\n",
    "            weight = val[2]\n",
    "            \n",
    "        if key == '*dangling':\n",
    "            self.m = PageRank\n",
    "        else:\n",
    "            a = self.options.alpha\n",
    "            n = self.options.numNodes\n",
    "            new_PageRank = (1 - a) * weight + a * (self.m / n + PageRank)\n",
    "            yield key, (neighbors, new_PageRank, weight)\n",
    "            \n",
    "    #------------------\n",
    "    # Pipeline:\n",
    "    \n",
    "    def steps(self):\n",
    "        return ([\n",
    "            MRStep(mapper=self.mapper_dist,\n",
    "                   reducer=self.reducer_dist),\n",
    "            MRStep(mapper=self.mapper_dangle,\n",
    "                   reducer_init=self.reducer_init,\n",
    "                   reducer=self.reducer_dangle,\n",
    "                   jobconf={'mapreduce.job.reduces': 1})\n",
    "            ] * self.options.iterations)\n",
    "\n",
    "if __name__ == '__main__':\n",
    "    iterate.run()"
   ]
  },
  {
   "cell_type": "markdown",
   "metadata": {},
   "source": [
    "## Driver for iteration"
   ]
  },
  {
   "cell_type": "code",
   "execution_count": 376,
   "metadata": {
    "collapsed": true
   },
   "outputs": [],
   "source": [
    "from TSPageRank_Iterate import iterate\n",
    "\n",
    "def iterateTSPR(filename, n, a, runnerType, outputDir, iterations, printOutput):\n",
    "\n",
    "    output = []\n",
    "\n",
    "    if runnerType == 'local':\n",
    "        mr_job = iterate(args=[filename, '--no-strict-protocols', '--numNodes=' + str(n),\n",
    "                               '--alpha=' + str(a), '--iterations=' + str(iterations)])\n",
    "\n",
    "    elif runnerType == 'hadoop':\n",
    "        !hdfs dfs -rm -r {outputDir}\n",
    "        mr_job = iterate(args=[filename, '--no-strict-protocols', '-r', 'hadoop', '--hadoop-home', '/usr/',\n",
    "                               '--output-dir', outputDir, '--numNodes=' + str(n),\n",
    "                               '--alpha=' + str(a), '--iterations=' + str(iterations)])\n",
    "\n",
    "    elif runnerType == 'emr':\n",
    "        !aws s3 rm --quiet {outputDir}\n",
    "        mr_job = iterate(args=[filename, '--no-strict-protocols', '--no-output', '--numNodes=' + str(n),\n",
    "                               '-r', 'emr', '--emr-job-flow-id', clusterId, '--output-dir', outputDir,\n",
    "                               '--alpha=' + str(a), '--iterations=' + str(iterations)])\n",
    "\n",
    "\n",
    "    with mr_job.make_runner() as runner:\n",
    "        runner.run()\n",
    "\n",
    "        if runnerType != 'emr':\n",
    "            for line in runner.stream_output():\n",
    "                out = mr_job.parse_output_line(line)\n",
    "                output.append(out)\n",
    "                if printOutput:\n",
    "                    print out"
   ]
  },
  {
   "cell_type": "markdown",
   "metadata": {},
   "source": [
    "## Check iteration output for topic 1 (only 1 iteration)"
   ]
  },
  {
   "cell_type": "code",
   "execution_count": 377,
   "metadata": {
    "collapsed": false
   },
   "outputs": [
    {
     "name": "stdout",
     "output_type": "stream",
     "text": [
      "Deleted /user/miki/week09/randNet/result1\r\n"
     ]
    }
   ],
   "source": [
    "inputFile = 'randNet/initialize1.txt'\n",
    "outputDir = '/user/miki/week09/randNet/result1'\n",
    "\n",
    "topic = '1'\n",
    "k = 1\n",
    "\n",
    "iterateTSPR(inputFile, n, 0.85, 'hadoop', outputDir, k, False)\n",
    "\n",
    "# Note: we have to do this to preserve JSON protocol for reading in on next job\n",
    "# For some reason, reading input from HDFS does not work :(\n",
    "localFilename = 'randNet/result' + topic + '.txt'\n",
    "!rm {localFilename}\n",
    "!hdfs dfs -copyToLocal {outputDir + '/part-00000'} {localFilename}"
   ]
  },
  {
   "cell_type": "code",
   "execution_count": 378,
   "metadata": {
    "collapsed": false
   },
   "outputs": [
    {
     "name": "stdout",
     "output_type": "stream",
     "text": [
      "\"1\"\t[{\"11\": 1, \"27\": 1, \"46\": 1, \"47\": 1, \"35\": 1, \"63\": 1, \"89\": 1, \"5\": 1}, 0.0067509186095029462, 0.00012048192771084348]\r\n",
      "\"10\"\t[{\"38\": 1, \"49\": 1, \"46\": 1, \"47\": 1, \"28\": 1, \"53\": 1, \"61\": 1, \"89\": 1, \"64\": 1, \"80\": 1}, 0.017275558020410961, 0.058235294117647059]\r\n",
      "\"100\"\t[{\"10\": 1, \"39\": 1, \"48\": 1, \"33\": 1, \"51\": 1, \"53\": 1, \"52\": 1, \"67\": 1}, 0.014808841242425578, 0.00012048192771084348]\r\n",
      "\"11\"\t[{\"39\": 1, \"12\": 1, \"21\": 1, \"46\": 1, \"43\": 1, \"55\": 1, \"89\": 1, \"7\": 1, \"84\": 1}, 0.0077761031471874848, 0.00012048192771084348]\r\n",
      "\"12\"\t[{\"26\": 1, \"59\": 1, \"16\": 1, \"33\": 1, \"29\": 1, \"99\": 1, \"88\": 1, \"2\": 1, \"100\": 1, \"95\": 1}, 0.0086904027364870743, 0.00012048192771084348]\r\n",
      "\"13\"\t[{\"54\": 1, \"52\": 1, \"77\": 1, \"65\": 1, \"92\": 1, \"85\": 1}, 0.011495926379510715, 0.00012048192771084348]\r\n",
      "\"14\"\t[{\"11\": 1, \"34\": 1, \"3\": 1, \"64\": 1, \"65\": 1, \"91\": 1, \"86\": 1}, 0.0082595766181609558, 0.00012048192771084348]\r\n",
      "\"15\"\t[{\"13\": 1, \"21\": 1, \"49\": 1, \"45\": 1, \"37\": 1, \"99\": 1, \"74\": 1, \"92\": 1, \"87\": 1}, 0.014518974165058506, 0.00012048192771084348]\r\n",
      "\"16\"\t[{\"24\": 1, \"10\": 1, \"58\": 1, \"57\": 1, \"65\": 1, \"9\": 1, \"85\": 1}, 0.015960294117647059, 0.058235294117647059]\r\n",
      "\"17\"\t[{\"27\": 1, \"48\": 1, \"35\": 1, \"61\": 1, \"75\": 1, \"71\": 1, \"70\": 1, \"92\": 1, \"78\": 1}, 0.01127054759163193, 0.00012048192771084348]\r\n"
     ]
    }
   ],
   "source": [
    "!head {localFilename}"
   ]
  },
  {
   "cell_type": "markdown",
   "metadata": {},
   "source": [
    "## Find top 10 nodes for topic 1 (after only 1 iteration)"
   ]
  },
  {
   "cell_type": "code",
   "execution_count": 379,
   "metadata": {
    "collapsed": false
   },
   "outputs": [
    {
     "name": "stdout",
     "output_type": "stream",
     "text": [
      "Deleted /user/miki/week09/randNet/top1\r\n"
     ]
    },
    {
     "name": "stderr",
     "output_type": "stream",
     "text": [
      "WARNING:mrjob.compat:Detected hadoop configuration property names that do not match hadoop version 2.6.0:\n",
      "The have been translated as follows\n",
      " mapred.text.key.comparator.options: mapreduce.partition.keycomparator.options\n",
      "mapred.text.key.partitioner.options: mapreduce.partition.keypartitioner.options\n",
      "mapred.reduce.tasks: mapreduce.job.reduces\n",
      "mapred.output.key.comparator.class: mapreduce.job.output.key.comparator.class\n"
     ]
    },
    {
     "name": "stdout",
     "output_type": "stream",
     "text": [
      "(0.021090438972791913, '92')\n",
      "(0.020692116461969404, '77')\n",
      "(0.020247185004537947, '52')\n",
      "(0.0201903626602156, '32')\n",
      "(0.01805451239936534, '98')\n",
      "(0.01802519310754605, '27')\n",
      "(0.01727555802041096, '10')\n",
      "(0.017252465834818778, '46')\n",
      "(0.016453367710720652, '29')\n",
      "(0.01626282769518064, '26')\n"
     ]
    }
   ],
   "source": [
    "outputDir = '/user/miki/week09/randNet/top'\n",
    "\n",
    "top = 10\n",
    "\n",
    "topNPR(localFilename, top, 'hadoop', outputDir + topic, True)"
   ]
  },
  {
   "cell_type": "markdown",
   "metadata": {},
   "source": [
    "## Run Topic-specific PageRank for topics 1-10"
   ]
  },
  {
   "cell_type": "code",
   "execution_count": 384,
   "metadata": {
    "collapsed": true
   },
   "outputs": [],
   "source": [
    "def moveFromHadoop(source, destination):\n",
    "    # Note: we have to do this to preserve JSON protocol for reading in on next job\n",
    "    # For some reason, reading input from HDFS does not work :(   \n",
    "    !rm {destination}\n",
    "    !hdfs dfs -copyToLocal {source} {destination}\n",
    "\n",
    "    \n",
    "for i in range(10):\n",
    "    topic = str(i + 1)\n",
    "    \n",
    "    # Initialize with uniform PageRank and weight vector for topic i + 1\n",
    "    inputFile = 'randNet.txt'\n",
    "    outputDir = '/user/miki/week09/randNet/initialize'\n",
    "    n = countNodes(inputFile)\n",
    "\n",
    "    initializeTSPR(inputFile, topic, 0.99, 'hadoop', outputDir + topic, False)\n",
    "\n",
    "    localFilename = 'randNet/initialize' + topic + '.txt'\n",
    "    moveFromHadoop(outputDir + topic + '/part-00000', localFilename)\n",
    "    \n",
    "    # Iterate PageRank algorithm for 10 iterations\n",
    "    outputDir = '/user/miki/week09/randNet/result'\n",
    "\n",
    "    k = 10\n",
    "\n",
    "    iterateTSPR(localFilename, n, 0.85, 'hadoop', outputDir + topic, k, False)\n",
    "\n",
    "    localFilename = 'randNet/result' + topic + '.txt'\n",
    "    moveFromHadoop(outputDir + topic + '/part-00000', localFilename)\n",
    "    \n",
    "    # Find top 10 pages\n",
    "    outputDir = '/user/miki/week09/randNet/top'\n",
    "\n",
    "    top = 10\n",
    "\n",
    "    topNPR(localFilename, top, 'hadoop', outputDir + topic, False)\n",
    "    \n",
    "    localFilename = 'randNet/top' + topic + '.txt'\n",
    "    moveFromHadoop(outputDir + topic + '/part-00000', localFilename)\n",
    "    "
   ]
  },
  {
   "cell_type": "markdown",
   "metadata": {},
   "source": [
    "## Display top 10 nodes from each version"
   ]
  },
  {
   "cell_type": "code",
   "execution_count": 1,
   "metadata": {
    "collapsed": false
   },
   "outputs": [],
   "source": [
    "# moveFromHadoop('/user/miki/week09/randNet/top_all/part-00000', 'randNet/top_all.txt')\n",
    "\n",
    "top10s = {}\n",
    "\n",
    "for i in range(11):\n",
    "    if i == 0:\n",
    "        filename = 'top_all.txt'\n",
    "    else:\n",
    "        filename = 'top' + str(i) + '.txt'\n",
    "    \n",
    "    top = []\n",
    "    \n",
    "    with open('randNet/' + filename, 'r') as myfile:\n",
    "        for line in myfile:\n",
    "            fields = line.strip().split('\\t')\n",
    "            PageRank = eval(fields[0])\n",
    "            node = eval(fields[1])\n",
    "            top.append([node, PageRank])\n",
    "    \n",
    "    top10s[str(i)] = top"
   ]
  },
  {
   "cell_type": "code",
   "execution_count": 2,
   "metadata": {
    "collapsed": false
   },
   "outputs": [],
   "source": [
    "# Create a topic dictionary so we can display the topic of each node\n",
    "\n",
    "topicDict = {}\n",
    "\n",
    "with open('randNet_topics.txt', 'r') as myfile:\n",
    "    for line in myfile:\n",
    "        fields = line.strip().split('\\t')\n",
    "        key = fields[0]\n",
    "        topic = fields[1]\n",
    "        topicDict[key] = topic"
   ]
  },
  {
   "cell_type": "code",
   "execution_count": 3,
   "metadata": {
    "collapsed": false
   },
   "outputs": [],
   "source": [
    "# Print top 10 for each topic\n",
    "# Node, topic, PR\n",
    "\n",
    "def printTable(topicStart, topicEnd):\n",
    "    colForm = '{:<5s}{:<3s} {:<6.4f} |'.format\n",
    "    print '     ',\n",
    "    for i in range(topicStart, topicEnd):\n",
    "        if i == 0:\n",
    "            print '{:^16s}|'.format('All Topics'),\n",
    "        else:\n",
    "            print '{:^16s}|'.format('Topic ' + str(i)),\n",
    "    print ''\n",
    "\n",
    "    print '     ',\n",
    "    for i in range(topicStart, topicEnd):\n",
    "        print '{:5s}{:3s} {:^6s} |'.format('node', 'T', 'PR'),\n",
    "\n",
    "    print '\\n-----' + '------------------' * (topicEnd - topicStart)\n",
    "\n",
    "    for rank in range(10):\n",
    "        print '[{:2d}] '.format(rank + 1),\n",
    "        for i in range(topicStart, topicEnd):\n",
    "            key = top10s[str(i)][rank]\n",
    "            print colForm(key[0], topicDict[key[0]], key[1]),\n",
    "        print ''\n",
    "    print '\\n'"
   ]
  },
  {
   "cell_type": "markdown",
   "metadata": {},
   "source": [
    "## Print out the top ten ranking nodes and their topics for each of the 11 versions, and comment on your result.\n",
    "\n",
    "In the table below, the top pages for \"All Topics\" are a mix of nodes from all topics. However, in each of the topic-specific rankings, the top 10 nodes are largely part of the topic of interest. In all cases, the top 6 ranked nodes are all part of the topic of interest. A few exceptions are within topic 1, where the 7th ranked node is from topic 7, and in topic 6, where the 7th ranked node is topic 3. "
   ]
  },
  {
   "cell_type": "code",
   "execution_count": 4,
   "metadata": {
    "collapsed": false
   },
   "outputs": [
    {
     "name": "stdout",
     "output_type": "stream",
     "text": [
      "         All Topics   |     Topic 1     |     Topic 2     |     Topic 3     |     Topic 4     | \n",
      "      node T     PR   | node T     PR   | node T     PR   | node T     PR   | node T     PR   | \n",
      "-----------------------------------------------------------------------------------------------\n",
      "[ 1]  100  8   0.0163 | 32   1   0.0206 | 58   2   0.0308 | 15   3   0.0315 | 63   4   0.0262 | \n",
      "[ 2]  15   3   0.0160 | 77   1   0.0205 | 71   2   0.0297 | 70   3   0.0271 | 83   4   0.0218 | \n",
      "[ 3]  63   4   0.0160 | 52   1   0.0198 | 9    2   0.0293 | 86   3   0.0265 | 65   4   0.0206 | \n",
      "[ 4]  9    2   0.0154 | 92   1   0.0195 | 73   2   0.0289 | 91   3   0.0245 | 78   4   0.0202 | \n",
      "[ 5]  74   10  0.0147 | 10   1   0.0186 | 12   2   0.0269 | 66   3   0.0241 | 41   4   0.0199 | \n",
      "[ 6]  58   2   0.0145 | 27   1   0.0185 | 59   2   0.0258 | 2    3   0.0237 | 84   4   0.0195 | \n",
      "[ 7]  85   7   0.0145 | 85   7   0.0178 | 75   2   0.0248 | 31   3   0.0228 | 79   4   0.0184 | \n",
      "[ 8]  61   8   0.0143 | 98   1   0.0177 | 82   2   0.0229 | 40   3   0.0222 | 38   4   0.0175 | \n",
      "[ 9]  71   2   0.0141 | 46   1   0.0175 | 52   1   0.0163 | 20   3   0.0197 | 15   3   0.0168 | \n",
      "[10]  88   5   0.0139 | 74   10  0.0160 | 17   10  0.0152 | 74   10  0.0159 | 72   4   0.0167 | \n",
      "\n",
      "\n",
      "          Topic 5     |     Topic 6     |     Topic 7     |     Topic 8     |     Topic 9     | \n",
      "      node T     PR   | node T     PR   | node T     PR   | node T     PR   | node T     PR   | \n",
      "-----------------------------------------------------------------------------------------------\n",
      "[ 1]  99   5   0.0290 | 13   6   0.0346 | 85   7   0.0268 | 100  8   0.0329 | 94   9   0.0302 | \n",
      "[ 2]  90   5   0.0283 | 56   6   0.0329 | 25   7   0.0266 | 61   8   0.0279 | 14   9   0.0295 | \n",
      "[ 3]  88   5   0.0272 | 37   6   0.0318 | 28   7   0.0248 | 39   8   0.0272 | 42   9   0.0292 | \n",
      "[ 4]  51   5   0.0268 | 11   6   0.0313 | 53   7   0.0248 | 8    8   0.0272 | 21   9   0.0284 | \n",
      "[ 5]  45   5   0.0256 | 69   6   0.0301 | 35   7   0.0242 | 62   8   0.0253 | 57   9   0.0275 | \n",
      "[ 6]  5    5   0.0239 | 23   6   0.0283 | 97   7   0.0234 | 87   8   0.0253 | 96   9   0.0263 | \n",
      "[ 7]  34   5   0.0239 | 15   3   0.0172 | 47   7   0.0229 | 6    8   0.0235 | 24   9   0.0258 | \n",
      "[ 8]  4    5   0.0234 | 85   7   0.0170 | 55   7   0.0226 | 54   8   0.0229 | 63   4   0.0172 | \n",
      "[ 9]  80   5   0.0228 | 52   1   0.0166 | 30   7   0.0221 | 18   8   0.0206 | 61   8   0.0164 | \n",
      "[10]  100  8   0.0167 | 74   10  0.0155 | 50   7   0.0201 | 9    2   0.0154 | 74   10  0.0143 | \n",
      "\n",
      "\n",
      "          Topic 10    | \n",
      "      node T     PR   | \n",
      "-----------------------\n",
      "[ 1]  74   10  0.0263 | \n",
      "[ 2]  17   10  0.0236 | \n",
      "[ 3]  49   10  0.0236 | \n",
      "[ 4]  95   10  0.0206 | \n",
      "[ 5]  7    10  0.0199 | \n",
      "[ 6]  43   10  0.0194 | \n",
      "[ 7]  68   10  0.0190 | \n",
      "[ 8]  48   10  0.0190 | \n",
      "[ 9]  1    10  0.0190 | \n",
      "[10]  3    10  0.0186 | \n",
      "\n",
      "\n"
     ]
    }
   ],
   "source": [
    "printTable(0, 5)\n",
    "printTable(5, 10)\n",
    "printTable(10, 11)"
   ]
  }
 ],
 "metadata": {
  "kernelspec": {
   "display_name": "Python 2",
   "language": "python",
   "name": "python2"
  },
  "language_info": {
   "codemirror_mode": {
    "name": "ipython",
    "version": 2
   },
   "file_extension": ".py",
   "mimetype": "text/x-python",
   "name": "python",
   "nbconvert_exporter": "python",
   "pygments_lexer": "ipython2",
   "version": "2.7.11"
  }
 },
 "nbformat": 4,
 "nbformat_minor": 0
}
