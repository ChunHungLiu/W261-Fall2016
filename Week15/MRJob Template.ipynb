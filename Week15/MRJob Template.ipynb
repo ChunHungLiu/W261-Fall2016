{
 "cells": [
  {
   "cell_type": "markdown",
   "metadata": {},
   "source": [
    "# MRJob Template"
   ]
  },
  {
   "cell_type": "code",
   "execution_count": 1,
   "metadata": {
    "collapsed": true
   },
   "outputs": [],
   "source": [
    "# We will need these so we can reload modules as we modify them\n",
    "%load_ext autoreload\n",
    "%autoreload 2"
   ]
  },
  {
   "cell_type": "code",
   "execution_count": null,
   "metadata": {
    "collapsed": true
   },
   "outputs": [],
   "source": [
    "%%writefile Job.py\n",
    "from __future__ import division\n",
    "from mrjob.job import MRJob\n",
    "from mrjob.step import MRStep\n",
    "from mrjob.protocol import JSONProtocol\n",
    "\n",
    "class job(MRJob):\n",
    "\n",
    "    #------------------\n",
    "    # Configurations: \n",
    "    \n",
    "    def configure_options(self):\n",
    "        super(job, self).configure_options()\n",
    "        self.add_passthrough_option('--numNodes', default=1, type='int')\n",
    "    \n",
    "    # INPUT_PROTOCOL = JSONProtocol\n",
    "    \n",
    "    #------------------\n",
    "    # Mapper:\n",
    "    \n",
    "    def mapper(self, _, line):\n",
    "        \n",
    "        yield key, value\n",
    "     \n",
    "    #------------------\n",
    "    # Reducer:\n",
    "    \n",
    "    def reducer(self, key, values):\n",
    "\n",
    "        yield key, value\n",
    "            \n",
    "    #------------------\n",
    "    # Pipeline:\n",
    "    \n",
    "    def steps(self):\n",
    "        return ([\n",
    "            MRStep(mapper=self.mapper,\n",
    "                   reducer=self.reducer,\n",
    "                   jobconf={'mapred.reduce.tasks': 1})\n",
    "            ])\n",
    "\n",
    "if __name__ == '__main__':\n",
    "    job.run()"
   ]
  },
  {
   "cell_type": "code",
   "execution_count": null,
   "metadata": {
    "collapsed": true
   },
   "outputs": [],
   "source": [
    "from Job import job\n",
    "\n",
    "mr_job = job(args=[filename, '--no-strict-protocols', '--numNodes=' + str(n)])\n",
    "\n",
    "# If running on hadoop, include these arguments as well:\n",
    "# '-r', 'hadoop', '--hadoop-home', '/usr/', '--output-dir', outputDir\n",
    "\n",
    "with mr_job.make_runner() as runner:\n",
    "    runner.run()\n",
    "\n",
    "    for line in runner.stream_output():\n",
    "        print mr_job.parse_output_line(line)"
   ]
  }
 ],
 "metadata": {
  "kernelspec": {
   "display_name": "Python 2",
   "language": "python",
   "name": "python2"
  },
  "language_info": {
   "codemirror_mode": {
    "name": "ipython",
    "version": 2
   },
   "file_extension": ".py",
   "mimetype": "text/x-python",
   "name": "python",
   "nbconvert_exporter": "python",
   "pygments_lexer": "ipython2",
   "version": "2.7.11"
  }
 },
 "nbformat": 4,
 "nbformat_minor": 0
}
