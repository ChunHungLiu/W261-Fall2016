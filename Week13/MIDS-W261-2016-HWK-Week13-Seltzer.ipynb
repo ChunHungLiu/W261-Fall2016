{
 "cells": [
  {
   "cell_type": "markdown",
   "metadata": {},
   "source": [
    "# DATASCI W261: Machine Learning at Scale\n",
    "## Assignment Week 13\n",
    "Miki Seltzer (miki.seltzer@berkeley.edu)<br>\n",
    "W261-2, Spring 2016<br>\n",
    "Submission: "
   ]
  },
  {
   "cell_type": "code",
   "execution_count": 1,
   "metadata": {
    "collapsed": false,
    "scrolled": true
   },
   "outputs": [
    {
     "name": "stdout",
     "output_type": "stream",
     "text": [
      "Welcome to\n",
      "      ____              __\n",
      "     / __/__  ___ _____/ /__\n",
      "    _\\ \\/ _ \\/ _ `/ __/  '_/\n",
      "   /__ / .__/\\_,_/_/ /_/\\_\\   version 1.5.0-cdh5.5.0\n",
      "      /_/\n",
      "\n",
      "Using Python version 2.7.11 (default, Dec  6 2015 18:08:32)\n",
      "SparkContext available as sc, HiveContext available as sqlContext.\n"
     ]
    }
   ],
   "source": [
    "# If running locally, start PySpark\n",
    "import os\n",
    "import sys\n",
    "spark_home = os.environ.get('SPARK_HOME', None)\n",
    "\n",
    "if not spark_home:\n",
    "    raise ValueError('SPARK_HOME enviroment variable is not set')\n",
    "sys.path.insert(0,os.path.join(spark_home,'python'))\n",
    "sys.path.insert(0,os.path.join(spark_home,'python/lib/py4j-0.8.2.1-src.zip'))\n",
    "execfile(os.path.join(spark_home,'python/pyspark/shell.py'))"
   ]
  },
  {
   "cell_type": "markdown",
   "metadata": {},
   "source": [
    "# HW 13.1: Spark implementation of basic PageRank\n",
    "\n",
    "## Write a basic Spark implementation of the iterative PageRank algorithm that takes sparse adjacency lists as input.\n",
    "- Make sure that your implementation utilizes teleportation (1-damping/the number of nodes in the network), and further, distributes the mass of dangling nodes with each iteration so that the output of each iteration is correctly normalized (sums to 1).\n",
    "- In your Spark solution, please use broadcast variables and caching to make sure your code is as efficient as possible."
   ]
  },
  {
   "cell_type": "code",
   "execution_count": 20,
   "metadata": {
    "collapsed": false
   },
   "outputs": [],
   "source": [
    "# If local:\n",
    "# Use the test data set and put in HDFS to read using Spark\n",
    "!hdfs dfs -copyFromLocal PageRank-test.txt /user/miki/week13/"
   ]
  },
  {
   "cell_type": "code",
   "execution_count": 1,
   "metadata": {
    "collapsed": false
   },
   "outputs": [
    {
     "name": "stdout",
     "output_type": "stream",
     "text": [
      "upload: ./PageRank-test.txt to s3://ms-w261-hw13/PageRank-test.txt\r\n"
     ]
    }
   ],
   "source": [
    "# If EMR:\n",
    "!aws s3 cp PageRank-test.txt s3://ms-w261-hw13/PageRank-test.txt"
   ]
  },
  {
   "cell_type": "markdown",
   "metadata": {},
   "source": [
    "### Initialize data set\n",
    "- Some nodes are dangling, and will not appear as keys in original file\n",
    "- Initialize all nodes to have uniformly distributed PageRank"
   ]
  },
  {
   "cell_type": "code",
   "execution_count": 1,
   "metadata": {
    "collapsed": false
   },
   "outputs": [],
   "source": [
    "# We need this function to merge dictionaries for each key\n",
    "def mergeDicts(x, y):\n",
    "    x.update(y)\n",
    "    return x\n",
    "\n",
    "#########\n",
    "# This function initializes the data into a PageRank-iterable form\n",
    "# Input:\n",
    "#  - filename: string, contents formatted as follows:\n",
    "#    node \\t {neighbor1:1, neighbor2:1, ...}\n",
    "#  - printDebug: print debugging string?\n",
    "# \n",
    "# Output:\n",
    "#  - writes initialized data to file appended with _initialized formatted as follows:\n",
    "#    test.txt --> test_initialized\n",
    "#    (node, [{neighbors}, PageRank])\n",
    "#  - returns number of nodes in graph\n",
    "#########\n",
    "\n",
    "def initializeData(filename, printDebug=False):\n",
    "    # Read test data\n",
    "    lines = sc.textFile(filename, use_unicode=False)\n",
    "\n",
    "    # Map lines to get key-value pairs (key = string, value = dictionary of neighbors)\n",
    "    data = lines.map(lambda x: [x.split('\\t')[0], eval(x.split('\\t')[1])])\n",
    "\n",
    "\n",
    "    # 1. flatMap: expand dictionary of neighbors to get all nodes\n",
    "    # 2. union: union with previous data to maintain original graph\n",
    "    # 3. aggregateByKey: to merge empty dictionaries and neighbor dictionaries\n",
    "    # 4. map: to get into PageRank format of (node, [neighbors, PageRank])\n",
    "    expandedData = (data\n",
    "                    .flatMap(lambda x: [[node, {}] for node in x[1]])\n",
    "                    .union(data)\n",
    "                    .reduceByKey(lambda x, y: mergeDicts(x, y))\n",
    "                    .map(lambda x: (x[0], [x[1], 1.0]))\n",
    "                    .cache()\n",
    "                   )\n",
    "\n",
    "    # Broadcast the number of nodes\n",
    "    numNodes = sc.broadcast(expandedData.count())\n",
    "\n",
    "    # map to normalize expandedData with the number of nodes (PageRanks should sum to 1!)\n",
    "    initializedData = (expandedData\n",
    "                      .map(lambda x: (x[0], [x[1][0], x[1][1] / numNodes.value]))\n",
    "                      .cache()\n",
    "                      )\n",
    "    \n",
    "    # Write initializedData to HDFS\n",
    "    initializedFilename = filename.replace('.txt', '_initialized')\n",
    "    initializedData.saveAsTextFile(initializedFilename)\n",
    "\n",
    "    if printDebug:\n",
    "        # Validate initializedData\n",
    "        print 'Format of initializedData'\n",
    "        print '(node, [{neighbors}, PageRank])'\n",
    "        print '\\nExamples'\n",
    "        for node in initializedData.take(2):\n",
    "            print node\n",
    "\n",
    "        # Validate that PageRanks sum to 1\n",
    "        print '\\nValidate that sum of PageRanks is 1'\n",
    "        print initializedData.map(lambda x: x[1][1]).sum()\n"
   ]
  },
  {
   "cell_type": "code",
   "execution_count": 4,
   "metadata": {
    "collapsed": false
   },
   "outputs": [
    {
     "name": "stdout",
     "output_type": "stream",
     "text": [
      "Format of initializedData\n",
      "(node, [{neighbors}, PageRank])\n",
      "\n",
      "Examples\n",
      "('A', [{}, 0.09090909090909091])\n",
      "('I', [{'B': 1, 'E': 1}, 0.09090909090909091])\n",
      "\n",
      "Validate that sum of PageRanks is 1\n",
      "1.0\n"
     ]
    }
   ],
   "source": [
    "# Run function on test data\n",
    "initializeData('/user/miki/week13/PageRank-test.txt', printDebug=True)"
   ]
  },
  {
   "cell_type": "markdown",
   "metadata": {},
   "source": [
    "###  Iterate PageRank algorithm\n",
    "We need to do the following:\n",
    "- Distribute a node's PageRank to its neighbors\n",
    "- Distribute the mass of dangling nodes and account for teleporting"
   ]
  },
  {
   "cell_type": "code",
   "execution_count": 2,
   "metadata": {
    "collapsed": false
   },
   "outputs": [],
   "source": [
    "import time\n",
    "\n",
    "# Function to cache and partition RDDs\n",
    "# Adapted from http://stackoverflow.com/questions/31659404/spark-iteration-time-increasing-exponentially-when-using-join\n",
    "def procRDD(rdd, cache=True, part=False, hashp=False, npart=16):\n",
    "    rdd = rdd if not part else rdd.repartition(npart)\n",
    "    rdd = rdd if not hashp else rdd.partitionBy(npart)\n",
    "    return rdd if not cache else rdd.cache()\n",
    "\n",
    "# Function to distribute PageRank equally to neighbors\n",
    "def distributePR(node):\n",
    "    # node is formatted (node, [{neighbors}, PageRank])\n",
    "    neighbors = node[1][0]\n",
    "    PR = node[1][1]\n",
    "    \n",
    "    # If there are neighbors, distribute PageRank\n",
    "    if len(neighbors) > 0:\n",
    "        return [(neighbor, PR / len(neighbors)) for neighbor in neighbors]\n",
    "    \n",
    "    # Else, collect PageRank into dangling mass\n",
    "    else:\n",
    "        return [('*dangling', PR)]\n",
    "\n",
    "# Function to calculate final PageRank with teleportation and dangling mass\n",
    "def finalPageRank(node, m, a, n):\n",
    "    # node is formatted (node, [{neighbors}, PageRank])\n",
    "    nodeName = node[0]\n",
    "    neighbors = node[1][0]\n",
    "    if node[1][1]:\n",
    "        PR = node[1][1]\n",
    "    else:\n",
    "        PR = 0\n",
    "    \n",
    "    # Calculate new PageRank\n",
    "    newPageRank = a / n + (1 - a) * (m / n + PR) \n",
    "    \n",
    "    return (nodeName, [neighbors, newPageRank])\n",
    "\n",
    "    \n",
    "#########\n",
    "# This function iterates the initialized data for a set number of iterations\n",
    "# Input:\n",
    "#  - filename of initialized data from above function\n",
    "#  - iterations: number of iterations to run PageRank algorithm, default 1\n",
    "#  - a (alpha): teleportation factor, default 0.15\n",
    "# \n",
    "# Output:\n",
    "#  - writes data to file appended with _final formatted as follows:\n",
    "#    test_initialized --> test_final\n",
    "#    (node, [{neighbors}, PageRank])\n",
    "#########\n",
    "\n",
    "def iteratePageRankOptimized(filename, outfile, iterations=1, alpha=0.15, printFinal=False, \n",
    "                             cache=True, part=True, hashp=True, npart=16):\n",
    "\n",
    "    times = []\n",
    "    \n",
    "    # Read in and parse file\n",
    "    # 1. textFile: read in data from text file\n",
    "    # 2. map: evaluate each line to get it into tuple form\n",
    "    data = (sc\n",
    "            .textFile(filename)\n",
    "            .map(lambda x: eval(x))\n",
    "            .cache()\n",
    "           )\n",
    "\n",
    "    # Graph structure only\n",
    "    # 1. map: Include only the node and the graph structure\n",
    "    graph = procRDD(data\n",
    "                    .map(lambda x: (x[0], x[1][0])),\n",
    "                    cache, part, hashp, npart\n",
    "                   )\n",
    "    \n",
    "    # Broadcast variables\n",
    "    numNodes = sc.broadcast(data.count())\n",
    "    a = sc.broadcast(alpha)\n",
    "\n",
    "    print 'Progress: ',\n",
    "    \n",
    "    for i in range(iterations):\n",
    "        time1 = time.time()\n",
    "\n",
    "        # Distribute PageRank\n",
    "        # 1. flatMap: distribute PR to each neighbor node\n",
    "        # 2. reduceByKey: sum PR for each node\n",
    "        # 3. fullOuterJoin: join to maintain graph structure. Need fullOuter because:\n",
    "        #    - Dangling mass is not in graph structure\n",
    "        #    - Nodes with no incoming links are only in graph structure\n",
    "        # 4. map: reverse joined values to maintain format of initialized data\n",
    "        newPR = procRDD(data\n",
    "                        .flatMap(distributePR)\n",
    "                        .reduceByKey(lambda x, y: x + y)\n",
    "                        .fullOuterJoin(graph, npart)\n",
    "                        .map(lambda x: (x[0], [x[1][1], x[1][0]])),\n",
    "                        cache, part, hashp, npart\n",
    "                       )\n",
    "\n",
    "        # Collect dangling mass\n",
    "        # 1. filter: only keep dangling mass key\n",
    "        # 2. map: identify mass (discard dummy node name and graph structure)\n",
    "        # 3. sum: accumulate all mass\n",
    "        dangling = (newPR\n",
    "                    .filter(lambda x: x[0] == '*dangling')\n",
    "                    .map(lambda x: x[1][1])\n",
    "                    .sum()\n",
    "                   )\n",
    "\n",
    "        # Distribute dangling mass to all nodes and account for teleportation\n",
    "        data = procRDD(newPR\n",
    "                       .filter(lambda x: x[0] != '*dangling')\n",
    "                       .map(lambda x: finalPageRank(x, dangling, a.value, numNodes.value)),\n",
    "                       cache, part, hashp, npart\n",
    "                      )\n",
    "\n",
    "        time2 = time.time()\n",
    "        times.append(time2 - time1)\n",
    "        \n",
    "        print i + 1,\n",
    "        \n",
    "    if printFinal:\n",
    "        print '\\n\\nFinal PageRanks:'\n",
    "        for node in data.sortByKey().collect():\n",
    "            print '{:4s}{:.3f}'.format(node[0], node[1][1])\n",
    "    \n",
    "    # Save to text file\n",
    "    data.saveAsTextFile(outfile)\n",
    "    \n",
    "    return times"
   ]
  },
  {
   "cell_type": "code",
   "execution_count": 3,
   "metadata": {
    "collapsed": false
   },
   "outputs": [],
   "source": [
    "%matplotlib inline\n",
    "import matplotlib.pyplot as plt\n",
    "\n",
    "def plotTimes(t):\n",
    "    plt.scatter(range(1, len(t) + 1), t, marker='o')\n",
    "    plt.plot(range(1, len(t) + 1), t)\n",
    "    plt.title('Length of time per iteration')\n",
    "    plt.xlabel('Iteration')\n",
    "    plt.ylabel('Time (sec)')\n",
    "    plt.xlim(0,len(t) + 1)\n",
    "    plt.grid(True)"
   ]
  },
  {
   "cell_type": "code",
   "execution_count": 12,
   "metadata": {
    "collapsed": false
   },
   "outputs": [
    {
     "name": "stdout",
     "output_type": "stream",
     "text": [
      "Progress:  1 2 3 4 5 6 7 8 9 10 11 12 13 14 15 16 17 18 19 20 21 22 23 24 25 26 27 28 29 30 \n",
      "\n",
      "Final PageRanks:\n",
      "A   0.033\n",
      "B   0.384\n",
      "C   0.344\n",
      "D   0.039\n",
      "E   0.081\n",
      "F   0.039\n",
      "G   0.016\n",
      "H   0.016\n",
      "I   0.016\n",
      "J   0.016\n",
      "K   0.016\n",
      "\n",
      "30 iterations took 102 seconds.\n"
     ]
    },
    {
     "data": {
      "image/png": "[encoded data removed]",
      "text/plain": [
       "<matplotlib.figure.Figure at 0x7f8b8d55d150>"
      ]
     },
     "metadata": {},
     "output_type": "display_data"
    }
   ],
   "source": [
    "# Run locally\n",
    "iter = 30\n",
    "startTime = time.time()\n",
    "plotTimes(iteratePageRankOptimized('/user/miki/week13/PageRank-test_initialized', \n",
    "                                   '/user/miki/week13/PageRank-test_final',\n",
    "                                   iterations=iter, alpha=0.15, printFinal=True))\n",
    "endTime = time.time()\n",
    "\n",
    "print '\\n{:d} iterations took {:d} seconds.'.format(iter, int(endTime - startTime))"
   ]
  },
  {
   "cell_type": "markdown",
   "metadata": {},
   "source": [
    "### EMR configurations\n",
    "- 1 master node: r3.xlarge\n",
    "- 5 worker nodes: r3.xlarge"
   ]
  },
  {
   "cell_type": "code",
   "execution_count": 5,
   "metadata": {
    "collapsed": false
   },
   "outputs": [
    {
     "name": "stdout",
     "output_type": "stream",
     "text": [
      "Initializing...\n",
      "\n",
      "Iterating...\n",
      "Progress:  1 2 3 4 5 6 7 8 9 10 11 12 13 14 15 16 17 18 19 20 21 22 23 24 25 26 27 28 29 30 \n",
      "30 iterations took 78 seconds.\n"
     ]
    },
    {
     "data": {
      "image/png": "[encoded data removed]",
      "text/plain": [
       "<matplotlib.figure.Figure at 0x7f5e74eacbd0>"
      ]
     },
     "metadata": {},
     "output_type": "display_data"
    }
   ],
   "source": [
    "############\n",
    "# Run on EMR\n",
    "############\n",
    "\n",
    "# Initialize data\n",
    "print \"Initializing...\"\n",
    "initializeData('s3://ms-w261-hw13/PageRank-test.txt', printDebug=False)\n",
    "\n",
    "# Iterate over data\n",
    "iter = 30\n",
    "print '\\nIterating...'\n",
    "startTime = time.time()\n",
    "plotTimes(iteratePageRankOptimized('s3://ms-w261-hw13/PageRank-test_initialized', \n",
    "                                   's3://ms-w261-hw13/PageRank-test_final2',\n",
    "                                   iterations=iter, alpha=0.15, printFinal=False, npart=16))\n",
    "endTime = time.time()\n",
    "print '\\n{:d} iterations took {:d} seconds.'.format(iter, int(endTime - startTime))"
   ]
  },
  {
   "cell_type": "markdown",
   "metadata": {},
   "source": [
    "# HW 13.2: Applying PageRank to the Wikipedia hyperlinks network\n",
    "### Run your Spark PageRank implementation on the Wikipedia dataset for 10 iterations, and display the top 100 ranked nodes (with damping = 0.85)."
   ]
  },
  {
   "cell_type": "code",
   "execution_count": 13,
   "metadata": {
    "collapsed": false
   },
   "outputs": [
    {
     "name": "stdout",
     "output_type": "stream",
     "text": [
      "copy: s3://ucb-mids-mls-networks/wikipedia/all-pages-indexed-out.txt to s3://ms-w261-hw13/wikipedia.txt\n"
     ]
    }
   ],
   "source": [
    "# Copy Wikipedia data to S3 bucket\n",
    "!aws s3 cp s3://ucb-mids-mls-networks/wikipedia/all-pages-indexed-out.txt s3://ms-w261-hw13/wikipedia.txt"
   ]
  },
  {
   "cell_type": "code",
   "execution_count": 6,
   "metadata": {
    "collapsed": false
   },
   "outputs": [
    {
     "name": "stdout",
     "output_type": "stream",
     "text": [
      "Initializing...\n",
      "Format of initializedData\n",
      "(node, [{neighbors}, PageRank])\n",
      "\n",
      "Examples\n",
      "('3878982', [{'13284863': 1, '4429879': 1, '14732081': 1, '4442056': 1, '15168171': 1, '14998575': 1, '14618222': 1, '14539153': 1, '8488434': 1, '14280256': 1, '15063801': 1, '14108550': 1, '14923757': 1, '6144002': 1, '14994586': 1, '14769768': 1, '10743112': 1, '14899549': 1, '15168141': 1, '578382': 1, '15014506': 1, '14136631': 1, '14539186': 1, '13320784': 2, '2396749': 1, '14552925': 1, '8115742': 1, '14855076': 1, '15086453': 1, '1051386': 1, '14923747': 1, '14779312': 1, '14675217': 1, '10156814': 1, '14539049': 1, '14539124': 1}, 6.582291778908455e-08])\n",
      "('14899290', [{}, 6.582291778908455e-08])\n",
      "\n",
      "Validate that sum of PageRanks is 1\n",
      "1.00000000001\n",
      "Initializing took 581 seconds.\n"
     ]
    }
   ],
   "source": [
    "# Initialize data\n",
    "print \"Initializing...\"\n",
    "startTime = time.time()\n",
    "initializeData('s3://ms-w261-hw13/wikipedia.txt', printDebug=True)\n",
    "endTime = time.time()\n",
    "print 'Initializing took {:d} seconds.'.format(int(endTime - startTime))"
   ]
  },
  {
   "cell_type": "code",
   "execution_count": 9,
   "metadata": {
    "collapsed": false
   },
   "outputs": [
    {
     "name": "stdout",
     "output_type": "stream",
     "text": [
      "\n",
      "Iterating...\n",
      "Progress:  1 2 3 4 5 6 7 8 9 10 \n",
      "10 iterations took 1830 seconds.\n"
     ]
    },
    {
     "data": {
      "image/png": "[encoded data removed]",
      "text/plain": [
       "<matplotlib.figure.Figure at 0x7f5e6d1d8c10>"
      ]
     },
     "metadata": {},
     "output_type": "display_data"
    }
   ],
   "source": [
    "# Iterate over data 10 times\n",
    "iter = 10\n",
    "print '\\nIterating...'\n",
    "startTime = time.time()\n",
    "plotTimes(iteratePageRankOptimized('s3://ms-w261-hw13/wikipedia_initialized', \n",
    "                                   's3://ms-w261-hw13/wikipedia_final_1_200part',\n",
    "                                   iterations=iter, alpha=0.15, printFinal=False, npart=200))\n",
    "endTime = time.time()\n",
    "print '\\n{:d} iterations took {:d} seconds.'.format(iter, int(endTime - startTime))"
   ]
  },
  {
   "cell_type": "code",
   "execution_count": 4,
   "metadata": {
    "collapsed": false
   },
   "outputs": [
    {
     "name": "stdout",
     "output_type": "stream",
     "text": [
      "\n",
      "Iterating...\n",
      "Progress:  1 2 3 4 5 6 7 8 9 10 11 12 13 14 15 16 17 18 19 20 21 22 23 24 25 26 27 28 29 30 31 32 33 34 35 36 37 38 39 40 \n",
      "40 iterations took 6657 seconds.\n"
     ]
    },
    {
     "data": {
      "image/png": "[encoded data removed]",
      "text/plain": [
       "<matplotlib.figure.Figure at 0x7fa7261e51d0>"
      ]
     },
     "metadata": {},
     "output_type": "display_data"
    }
   ],
   "source": [
    "# Iterate over data 40 additional times\n",
    "iter = 40\n",
    "print '\\nIterating...'\n",
    "startTime = time.time()\n",
    "plotTimes(iteratePageRankOptimized('s3://ms-w261-hw13/wikipedia_final_1_200part', \n",
    "                                   's3://ms-w261-hw13/wikipedia_final_50_200part',\n",
    "                                   iterations=iter, alpha=0.15, printFinal=False, npart=200))\n",
    "endTime = time.time()\n",
    "print '\\n{:d} iterations took {:d} seconds.'.format(iter, int(endTime - startTime))"
   ]
  },
  {
   "cell_type": "code",
   "execution_count": 13,
   "metadata": {
    "collapsed": false
   },
   "outputs": [],
   "source": [
    "# Find top 100 from 10 iteration set\n",
    "infile = 's3://ms-w261-hw13/wikipedia_final_1_200part'\n",
    "\n",
    "top = 100\n",
    "\n",
    "topAfter10 = (sc\n",
    "              .textFile(infile)\n",
    "              .map(lambda x: eval(x))\n",
    "              .map(lambda x: [x[1][1], x[0]])\n",
    "              .sortByKey(ascending=False)\n",
    "              .take(top)\n",
    "             )"
   ]
  },
  {
   "cell_type": "code",
   "execution_count": 15,
   "metadata": {
    "collapsed": false
   },
   "outputs": [],
   "source": [
    "# Find top 100 from 50 iteration set\n",
    "infile = 's3://ms-w261-hw13/wikipedia_final_50_200part'\n",
    "\n",
    "topAfter50 = (sc\n",
    "              .textFile(infile)\n",
    "              .map(lambda x: eval(x))\n",
    "              .map(lambda x: [x[1][1], x[0]])\n",
    "              .sortByKey(ascending=False)\n",
    "              .take(top)\n",
    "             )"
   ]
  },
  {
   "cell_type": "code",
   "execution_count": 16,
   "metadata": {
    "collapsed": true
   },
   "outputs": [],
   "source": [
    "sc.parallelize(topAfter10).saveAsTextFile('s3://ms-w261-hw13/wikipedia_top100_10')\n",
    "sc.parallelize(topAfter50).saveAsTextFile('s3://ms-w261-hw13/wikipedia_top100_50')"
   ]
  },
  {
   "cell_type": "code",
   "execution_count": null,
   "metadata": {
    "collapsed": false
   },
   "outputs": [],
   "source": [
    "# Join with page names for reading ease\n",
    "# names = (sc\n",
    "#          .textFile('s3://ucb-mids-mls-networks/wikipedia/indices.txt', use_unicode=False)\n",
    "#          .map(lambda x: x.split('\\t'))\n",
    "#          .map(lambda x: [x[1], x[0]])\n",
    "#          .cache()\n",
    "#         )\n",
    "\n",
    "topAfter10Names = (sc\n",
    "                   .parallelize(topAfter10)\n",
    "                   .join(names)\n",
    "                  )\n",
    "\n",
    "print topAfter10Names.first()"
   ]
  }
 ],
 "metadata": {
  "kernelspec": {
   "display_name": "Python 2",
   "language": "python",
   "name": "python2"
  },
  "language_info": {
   "codemirror_mode": {
    "name": "ipython",
    "version": 2
   },
   "file_extension": ".py",
   "mimetype": "text/x-python",
   "name": "python",
   "nbconvert_exporter": "python",
   "pygments_lexer": "ipython2",
   "version": "2.7.10"
  }
 },
 "nbformat": 4,
 "nbformat_minor": 0
}
