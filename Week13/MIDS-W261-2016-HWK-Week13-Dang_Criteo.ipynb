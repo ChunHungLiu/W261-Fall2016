{
 "cells": [
  {
   "cell_type": "markdown",
   "metadata": {},
   "source": [
    "* **Student**: Minhchau Dang\n",
    "* **Email Address**: minhchau.dang@berkeley.edu\n",
    "* **Course**: 2016-0111 DATASCI W261: Machine Learning at Scale\n",
    "* **Section**: Spring 2016, Section 2\n",
    "* **Assignment**: Homework 13, Week 13\n",
    "* **Submission Date**: April 21, 2016"
   ]
  },
  {
   "cell_type": "markdown",
   "metadata": {},
   "source": [
    "# Helper utilities"
   ]
  },
  {
   "cell_type": "markdown",
   "metadata": {},
   "source": [
    "## Notebook imports"
   ]
  },
  {
   "cell_type": "markdown",
   "metadata": {},
   "source": [
    "If the following cell (which imports all the Python packages used by the different drivers) doesn't run, some of the drivers and helper functions in the notebook will also fail to run. Note that you will also need `pyspark` to run the actual jobs themselves."
   ]
  },
  {
   "cell_type": "code",
   "execution_count": null,
   "metadata": {
    "collapsed": false
   },
   "outputs": [],
   "source": [
    "%matplotlib inline"
   ]
  },
  {
   "cell_type": "code",
   "execution_count": null,
   "metadata": {
    "collapsed": false
   },
   "outputs": [],
   "source": [
    "from __future__ import division\n",
    "from collections import defaultdict\n",
    "from datetime import datetime\n",
    "import functools\n",
    "import hashlib\n",
    "import matplotlib\n",
    "import matplotlib.pyplot as plt\n",
    "from math import exp, log\n",
    "import numpy\n",
    "import operator\n",
    "import os\n",
    "import pandas\n",
    "import seaborn\n",
    "import sys\n",
    "import time"
   ]
  },
  {
   "cell_type": "markdown",
   "metadata": {},
   "source": [
    "## Set Cluster Size"
   ]
  },
  {
   "cell_type": "markdown",
   "metadata": {},
   "source": [
    "Using r3.xlarge nodes, there is 23424 MB of available memory for Yarn scheduling and there are 4 cores per server.\n",
    "\n",
    "* http://www.ec2instances.info\n",
    "* http://docs.aws.amazon.com/ElasticMapReduce/latest/ReleaseGuide/emr-hadoop-task-config.html"
   ]
  },
  {
   "cell_type": "code",
   "execution_count": null,
   "metadata": {
    "collapsed": true
   },
   "outputs": [],
   "source": [
    "node_count = 9\n",
    "server_cores = 4\n",
    "yarn_memory = 23424\n",
    "executors_per_node = 1"
   ]
  },
  {
   "cell_type": "markdown",
   "metadata": {},
   "source": [
    "## Set Cluster Name"
   ]
  },
  {
   "cell_type": "code",
   "execution_count": null,
   "metadata": {
    "collapsed": true
   },
   "outputs": [],
   "source": [
    "cluster_name = 'Week13_Criteo'"
   ]
  },
  {
   "cell_type": "markdown",
   "metadata": {},
   "source": [
    "## Initialize Spark"
   ]
  },
  {
   "cell_type": "markdown",
   "metadata": {},
   "source": [
    "Use the ``findspark`` library in order to help setup the Spark context. This allows the same code to work across different versions of Spark.\n",
    "\n",
    "https://github.com/minrk/findspark"
   ]
  },
  {
   "cell_type": "code",
   "execution_count": null,
   "metadata": {
    "collapsed": false
   },
   "outputs": [],
   "source": [
    "import findspark\n",
    "findspark.init()\n",
    "\n",
    "import pyspark\n",
    "from pyspark import SparkConf, SparkContext"
   ]
  },
  {
   "cell_type": "markdown",
   "metadata": {},
   "source": [
    "Compute the configuration for our cluster."
   ]
  },
  {
   "cell_type": "code",
   "execution_count": null,
   "metadata": {
    "collapsed": false
   },
   "outputs": [
    {
     "name": "stdout",
     "output_type": "stream",
     "text": [
      "spark.app.name=Week13_Criteo\n",
      "spark.driver.extraClassPath=/etc/hadoop/conf:/usr/lib/hadoop-lzo/lib/*:/usr/share/aws/aws-java-sdk/*:/usr/share/aws/emr/emrfs/conf:/usr/share/aws/emr/emrfs/lib/*:/usr/share/aws/emr/emrfs/auxlib/*\n",
      "spark.driver.extraJavaOptions=-Dlog4j.configuration=file:///etc/spark/conf/log4j.properties -XX:+UseConcMarkSweepGC -XX:CMSInitiatingOccupancyFraction=70 -XX:MaxHeapFreeRatio=70 -XX:+CMSClassUnloadingEnabled -XX:MaxPermSize=512M -XX:OnOutOfMemoryError='kill -9 %p'\n",
      "spark.driver.extraLibraryPath=/usr/lib/hadoop/lib/native:/usr/lib/hadoop-lzo/lib/native\n",
      "spark.dynamicAllocation.enabled=False\n",
      "spark.eventLog.dir=hdfs:///var/log/spark/apps\n",
      "spark.eventLog.enabled=true\n",
      "spark.executor.cores=4\n",
      "spark.executor.extraClassPath=/etc/hadoop/conf:/usr/lib/hadoop-lzo/lib/*:/usr/share/aws/aws-java-sdk/*:/usr/share/aws/emr/emrfs/conf:/usr/share/aws/emr/emrfs/lib/*:/usr/share/aws/emr/emrfs/auxlib/*\n",
      "spark.executor.extraJavaOptions=-verbose:gc -XX:+PrintGCDetails -XX:+PrintGCDateStamps -XX:+UseConcMarkSweepGC -XX:CMSInitiatingOccupancyFraction=70 -XX:MaxHeapFreeRatio=70 -XX:+CMSClassUnloadingEnabled -XX:OnOutOfMemoryError='kill -9 %p'\n",
      "spark.executor.extraLibraryPath=/usr/lib/hadoop/lib/native:/usr/lib/hadoop-lzo/lib/native\n",
      "spark.executor.instances=9\n",
      "spark.executor.memory=21294M\n",
      "spark.history.fs.logDirectory=hdfs:///var/log/spark/apps\n",
      "spark.history.ui.port=18080\n",
      "spark.master=yarn-client\n",
      "spark.shuffle.service.enabled=true\n",
      "spark.submit.deployMode=client\n",
      "spark.yarn.historyServer.address=ip-172-31-38-17.us-west-2.compute.internal:18080\n",
      "spark.yarn.isPython=true\n"
     ]
    }
   ],
   "source": [
    "memory_per_executor = int((yarn_memory / executors_per_node) / 1.1)\n",
    "cores_per_executor = int(server_cores / executors_per_node)\n",
    "\n",
    "conf = SparkConf()\n",
    "conf.setAppName(cluster_name)\n",
    "conf.setMaster('yarn-client')\n",
    "conf.set('spark.dynamicAllocation.enabled', False)\n",
    "conf.set('spark.executor.cores', cores_per_executor)\n",
    "conf.set('spark.executor.memory', str(memory_per_executor) + 'M')\n",
    "conf.set('spark.executor.instances', executors_per_node * node_count)\n",
    "\n",
    "print conf.toDebugString()\n",
    "\n",
    "sc = SparkContext(conf=conf)"
   ]
  },
  {
   "cell_type": "markdown",
   "metadata": {},
   "source": [
    "# HW 13.4: Criteo Phase 2 baseline"
   ]
  },
  {
   "cell_type": "markdown",
   "metadata": {},
   "source": [
    "> The Criteo data for this challenge is located in the following S3/Dropbox buckets:\n",
    "\n",
    "> On Dropbox see:\n",
    "> * https://www.dropbox.com/sh/dnevke9vsk6yj3p/AABoP-Kv2SRxuK8j3TtJsSv5a?dl=0\n",
    "\n",
    "> Raw Data:  (Training, Validation and Test data)\n",
    "> * https://console.aws.amazon.com/s3/home?region=us-west-1#&bucket=criteo-dataset&prefix=rawdata/\n",
    "\n",
    "> Hashed Data: Training, Validation and Test data in hash encoded (10,000 buckets) and sparse representation\n",
    "> * https://console.aws.amazon.com/s3/home?region=us-west-1#&bucket=criteo-dataset&prefix=processeddata/"
   ]
  },
  {
   "cell_type": "markdown",
   "metadata": {},
   "source": [
    "First, we need functions that can load our data files into `LabeledPoint` objects used in logistic regression."
   ]
  },
  {
   "cell_type": "code",
   "execution_count": null,
   "metadata": {
    "collapsed": false
   },
   "outputs": [],
   "source": [
    "from pyspark.mllib.linalg import SparseVector\n",
    "from pyspark.mllib.regression import LabeledPoint\n",
    "\n",
    "# Compute the hash using the same code as the CTR assignment\n",
    "\n",
    "def hashFunction(numBuckets, rawFeats):\n",
    "    mapping = {}\n",
    "    for ind, category in rawFeats:\n",
    "        featureString = category + str(ind)\n",
    "        mapping[featureString] = int(int(hashlib.md5(featureString).hexdigest(), 16) % numBuckets)\n",
    "\n",
    "    sparseFeatures = defaultdict(float)\n",
    "    for bucket in mapping.values():\n",
    "        sparseFeatures[bucket] += 1.0\n",
    "    return dict(sparseFeatures)\n",
    "\n",
    "# Convert a tab-separated string into a LabeledPoint\n",
    "\n",
    "def hashPoint(numBuckets, data):\n",
    "    label = float(point.split('\\t')[0])\n",
    "\n",
    "    featureValues = point.split('\\t')[1:]\n",
    "    featureCount = len(featureValues)\n",
    "    features = [(featureId, x) for featureId, x in zip(numpy.arange(featureCount), featureValues)]\n",
    "\n",
    "    return LabeledPoint(label, SparseVector(numBuckets, hashFunction(numBuckets, features)))\n",
    "\n",
    "# Deserialize a LabeledPoint that was serialized as a tuple\n",
    "\n",
    "def moduloPoint(numBuckets, data):\n",
    "    label, sparse = eval(data)\n",
    "    numBuckets, indices, values = sparse\n",
    "\n",
    "    features = {}\n",
    "\n",
    "    for index, value in zip(indices, values):\n",
    "        modIndex = index % numBuckets\n",
    "\n",
    "        if modIndex in features:\n",
    "            features[modIndex] += value\n",
    "        else:\n",
    "            features[modIndex] = value\n",
    "\n",
    "    return LabeledPoint(label, SparseVector(numBuckets, features))\n",
    "\n",
    "# Load the data as a materialized RDD\n",
    "\n",
    "cachedDataSets = {}\n",
    "\n",
    "def getParsedData(numBuckets, subfolders):\n",
    "    global cachedDataSets\n",
    "\n",
    "    if 10000 % numBuckets == 0:\n",
    "        print 'Computing modulo of processed data'\n",
    "        folder = 'processeddata'\n",
    "        parseFunction = functools.partial(moduloPoint, numBuckets)\n",
    "    else:\n",
    "        print 'Computing hash of raw data'\n",
    "        folder = 'rawdata'\n",
    "        parseFunction = functools.partial(hashPoint, numBuckets)\n",
    "\n",
    "    # Build the RDDs from the S3 URLs for train, validation, test\n",
    "\n",
    "    dataRDDs = []\n",
    "\n",
    "    for subfolder in subfolders:\n",
    "        now = datetime.today()\n",
    "        print now, 'Materializing text file RDD for', subfolder\n",
    "\n",
    "        dataPath = 's3://criteo-dataset/%s/%s' % (folder, subfolder)\n",
    "\n",
    "        if dataPath in cachedDataSets:\n",
    "            folderRDD = cachedDataSets[dataPath]\n",
    "        else:\n",
    "            folderRDD = sc.textFile(dataPath).cache()\n",
    "            folderRDD.count()\n",
    "\n",
    "            cachedDataSets[dataPath] = folderRDD\n",
    "\n",
    "        now = datetime.today()\n",
    "        print now, 'Materializing parsed RDD for', subfolder\n",
    "\n",
    "        dataRDD = folderRDD.map(parseFunction).cache()\n",
    "        dataRDD.count()\n",
    "\n",
    "        dataRDDs.append(dataRDD)\n",
    "\n",
    "    return dataRDDs"
   ]
  },
  {
   "cell_type": "markdown",
   "metadata": {},
   "source": [
    "Now we load the 1000 bucket data set."
   ]
  },
  {
   "cell_type": "code",
   "execution_count": null,
   "metadata": {
    "collapsed": false
   },
   "outputs": [
    {
     "name": "stdout",
     "output_type": "stream",
     "text": [
      "Computing modulo of processed data\n",
      "2016-04-26 20:49:08.009124 Materializing text file RDD for train\n",
      "2016-04-26 20:49:53.909622 Materializing parsed RDD for train\n",
      "2016-04-26 20:57:44.647520 Materializing text file RDD for validation\n",
      "2016-04-26 20:57:52.553115 Materializing parsed RDD for validation\n",
      "2016-04-26 20:58:53.391626 Materializing text file RDD for test\n",
      "2016-04-26 20:59:00.767335 Materializing parsed RDD for test\n",
      "CPU times: user 196 ms, sys: 56 ms, total: 252 ms\n",
      "Wall time: 10min 53s\n"
     ]
    }
   ],
   "source": [
    "%time hashedRawTrainRDD, hashedRawValidationRDD, hashedRawTestRDD = \\\n",
    "    getParsedData(1000, ['train', 'validation', 'test'])"
   ]
  },
  {
   "cell_type": "markdown",
   "metadata": {},
   "source": [
    "## Train the Logistic Regression"
   ]
  },
  {
   "cell_type": "markdown",
   "metadata": {},
   "source": [
    "> Using the training dataset, validation dataset and testing dataset in the Criteo bucket perform the following experiment:\n",
    "\n",
    "> Write spark code (borrow from Phase 1 of this project) to train a logistic regression model with the following hyperparameters:\n",
    "\n",
    "> * Number of buckets for hashing: 1,000\n",
    "> * Logistic Regression: no regularization term\n",
    "> * Logistic Regression: step size = 10"
   ]
  },
  {
   "cell_type": "markdown",
   "metadata": {},
   "source": [
    "Now we perform the linear regression (100 iterations) on the materialized and cached RDD and record the elapsed time for reporting purposes."
   ]
  },
  {
   "cell_type": "code",
   "execution_count": null,
   "metadata": {
    "collapsed": false
   },
   "outputs": [
    {
     "name": "stdout",
     "output_type": "stream",
     "text": [
      "CPU times: user 2.38 s, sys: 652 ms, total: 3.03 s\n",
      "Wall time: 2min 27s\n"
     ]
    }
   ],
   "source": [
    "from pyspark.mllib.classification import LogisticRegressionWithSGD\n",
    "\n",
    "numIters = 100\n",
    "stepSize = 10.0\n",
    "regParam = 1e-6\n",
    "regType = 'none'\n",
    "includeIntercept = True\n",
    "\n",
    "%time model = LogisticRegressionWithSGD.train( \\\n",
    "    data=hashedRawTrainRDD, iterations=numIters, step=stepSize, \\\n",
    "    regParam=regParam, regType=regType, intercept=includeIntercept)"
   ]
  },
  {
   "cell_type": "markdown",
   "metadata": {},
   "source": [
    "> Report the AWS cluster configuration that you used and how long in minutes and seconds it takes to complete this job."
   ]
  },
  {
   "cell_type": "markdown",
   "metadata": {},
   "source": [
    "* **Instance Type**: [Memory Optimized](https://aws.amazon.com/ec2/instance-types/#memory-optimized)\n",
    "* **Instance Class**: r3.xlarge\n",
    "* **Cluster Size**: 1 master, 9 core\n",
    "* **Job Completion Time**: 1 minute, 48 seconds"
   ]
  },
  {
   "cell_type": "markdown",
   "metadata": {},
   "source": [
    "## Evaluate Logistic Regression"
   ]
  },
  {
   "cell_type": "markdown",
   "metadata": {},
   "source": [
    "> Report in tabular form the AUC value (https://en.wikipedia.org/wiki/Receiver_operating_characteristic) for the Training, Validation, and Testing datasets."
   ]
  },
  {
   "cell_type": "markdown",
   "metadata": {},
   "source": [
    "First, we need to compute those metrics."
   ]
  },
  {
   "cell_type": "code",
   "execution_count": null,
   "metadata": {
    "collapsed": false
   },
   "outputs": [],
   "source": [
    "from pyspark.mllib.evaluation import BinaryClassificationMetrics\n",
    "\n",
    "modelBroadcast = sc.broadcast(model)\n",
    "\n",
    "# Compute the prediction\n",
    "\n",
    "def getBoundedPrediction(features):\n",
    "    rawPrediction = features.dot(modelBroadcast.value.weights) + modelBroadcast.value.intercept\n",
    "\n",
    "    # Bound the raw prediction value\n",
    "    rawPrediction = min(rawPrediction, 20)\n",
    "    rawPrediction = max(rawPrediction, -20)\n",
    "\n",
    "    return 1.0 / (1.0 + exp(-rawPrediction))\n",
    "\n",
    "# Compute the scores and labels\n",
    "\n",
    "def getScoresAndLabels(point):\n",
    "    return getBoundedPrediction(point.features), point.label\n",
    "\n",
    "# Compute the area under the ROC curve\n",
    "\n",
    "def getAreaUnderROC(dataRDD):\n",
    "    scoresAndLabelsRDD = dataRDD.map(getScoresAndLabels)\n",
    "    metrics = BinaryClassificationMetrics(scoresAndLabelsRDD)\n",
    "    return metrics.areaUnderROC\n",
    "\n",
    "# Run code against all data sets\n",
    "\n",
    "hashedRawTrainAUC = getAreaUnderROC(hashedRawTrainRDD)\n",
    "hashedRawValidationAUC = getAreaUnderROC(hashedRawValidationRDD)\n",
    "hashedRawTestAUC = getAreaUnderROC(hashedRawTestRDD)"
   ]
  },
  {
   "cell_type": "markdown",
   "metadata": {},
   "source": [
    "Next, we'll put it into a nice table."
   ]
  },
  {
   "cell_type": "code",
   "execution_count": null,
   "metadata": {
    "collapsed": false
   },
   "outputs": [
    {
     "data": {
      "text/html": [
       "<div>\n",
       "<table border=\"1\" class=\"dataframe\">\n",
       "  <thead>\n",
       "    <tr style=\"text-align: right;\">\n",
       "      <th></th>\n",
       "      <th>0</th>\n",
       "      <th>1</th>\n",
       "    </tr>\n",
       "  </thead>\n",
       "  <tbody>\n",
       "    <tr>\n",
       "      <th>0</th>\n",
       "      <td>Train</td>\n",
       "      <td>0.737904</td>\n",
       "    </tr>\n",
       "    <tr>\n",
       "      <th>1</th>\n",
       "      <td>Validation</td>\n",
       "      <td>0.737722</td>\n",
       "    </tr>\n",
       "    <tr>\n",
       "      <th>2</th>\n",
       "      <td>Test</td>\n",
       "      <td>0.737983</td>\n",
       "    </tr>\n",
       "  </tbody>\n",
       "</table>\n",
       "</div>"
      ],
      "text/plain": [
       "            0         1\n",
       "0       Train  0.737904\n",
       "1  Validation  0.737722\n",
       "2        Test  0.737983"
      ]
     },
     "execution_count": null,
     "metadata": {},
     "output_type": "execute_result"
    }
   ],
   "source": [
    "pandas.DataFrame(data=[\n",
    "    ('Train', hashedRawTrainAUC),\n",
    "    ('Validation', hashedRawValidationAUC),\n",
    "    ('Test', hashedRawTestAUC)\n",
    "])"
   ]
  },
  {
   "cell_type": "markdown",
   "metadata": {},
   "source": [
    "> Report in tabular form  the logLossTest for the Training, Validation, and Testing datasets."
   ]
  },
  {
   "cell_type": "markdown",
   "metadata": {},
   "source": [
    "First, we need to compute this metric."
   ]
  },
  {
   "cell_type": "code",
   "execution_count": null,
   "metadata": {
    "collapsed": false
   },
   "outputs": [],
   "source": [
    "# Compute an individual log loss using the same code as the CTR assignment\n",
    "\n",
    "def computeLogLoss(scoreAndLabel):\n",
    "    prediction, label = scoreAndLabel\n",
    "\n",
    "    epsilon = 10e-12\n",
    "\n",
    "    if label == 1.0:\n",
    "        if prediction == 0.0:\n",
    "            return -log(epsilon)\n",
    "        if prediction == 1.0:\n",
    "            return -log(1.0-epsilon)\n",
    "        return -log(prediction)\n",
    "\n",
    "    if label == 0.0:\n",
    "        if prediction == 0.0:\n",
    "            return -log(1.0-epsilon)\n",
    "        if prediction == 1.0:\n",
    "            return -log(epsilon)\n",
    "\n",
    "        return -log(1.0-prediction)\n",
    "\n",
    "# Compute the average log loss using the same code as the CTR assignment\n",
    "\n",
    "def getAverageLogLoss(dataRDD):\n",
    "    scoresAndLabelsRDD = dataRDD.map(getScoresAndLabels)\n",
    "    logLossRDD = scoresAndLabelsRDD.map(computeLogLoss)\n",
    "    return logLossRDD.mean()\n",
    "\n",
    "# Run code against all data sets\n",
    "\n",
    "hashedRawTrainLogLoss = getAverageLogLoss(hashedRawTrainRDD)\n",
    "hashedRawValidationLogLoss = getAverageLogLoss(hashedRawValidationRDD)\n",
    "hashedRawTestLogLoss = getAverageLogLoss(hashedRawTestRDD)"
   ]
  },
  {
   "cell_type": "markdown",
   "metadata": {},
   "source": [
    "Next, we'll put it into a nice table."
   ]
  },
  {
   "cell_type": "code",
   "execution_count": null,
   "metadata": {
    "collapsed": false
   },
   "outputs": [
    {
     "data": {
      "text/html": [
       "<div>\n",
       "<table border=\"1\" class=\"dataframe\">\n",
       "  <thead>\n",
       "    <tr style=\"text-align: right;\">\n",
       "      <th></th>\n",
       "      <th>0</th>\n",
       "      <th>1</th>\n",
       "    </tr>\n",
       "  </thead>\n",
       "  <tbody>\n",
       "    <tr>\n",
       "      <th>0</th>\n",
       "      <td>Train</td>\n",
       "      <td>0.497478</td>\n",
       "    </tr>\n",
       "    <tr>\n",
       "      <th>1</th>\n",
       "      <td>Validation</td>\n",
       "      <td>0.497643</td>\n",
       "    </tr>\n",
       "    <tr>\n",
       "      <th>2</th>\n",
       "      <td>Test</td>\n",
       "      <td>0.497676</td>\n",
       "    </tr>\n",
       "  </tbody>\n",
       "</table>\n",
       "</div>"
      ],
      "text/plain": [
       "            0         1\n",
       "0       Train  0.497478\n",
       "1  Validation  0.497643\n",
       "2        Test  0.497676"
      ]
     },
     "execution_count": null,
     "metadata": {},
     "output_type": "execute_result"
    }
   ],
   "source": [
    "pandas.DataFrame(data=[\n",
    "    ('Train', hashedRawTrainLogLoss),\n",
    "    ('Validation', hashedRawValidationLogLoss),\n",
    "    ('Test', hashedRawTestLogLoss)\n",
    "])"
   ]
  },
  {
   "cell_type": "markdown",
   "metadata": {},
   "source": [
    "# HW 13.5: Criteo Phase 2 hyperparameter tuning"
   ]
  },
  {
   "cell_type": "markdown",
   "metadata": {},
   "source": [
    "## Unpersist old RDDs"
   ]
  },
  {
   "cell_type": "markdown",
   "metadata": {},
   "source": [
    "We can run out of memory quickly on our Spark cluster if we persist all of the RDDs we've computed so far. While we cache the data loading, we'll uncache the parsed data."
   ]
  },
  {
   "cell_type": "code",
   "execution_count": null,
   "metadata": {
    "collapsed": false
   },
   "outputs": [
    {
     "data": {
      "text/plain": [
       "PythonRDD[23] at RDD at PythonRDD.scala:43"
      ]
     },
     "execution_count": null,
     "metadata": {},
     "output_type": "execute_result"
    }
   ],
   "source": [
    "hashedRawTrainRDD.unpersist()\n",
    "hashedRawValidationRDD.unpersist()\n",
    "hashedRawTestRDD.unpersist()"
   ]
  },
  {
   "cell_type": "markdown",
   "metadata": {},
   "source": [
    "## Train the Logistic Regression"
   ]
  },
  {
   "cell_type": "markdown",
   "metadata": {},
   "source": [
    "> Using the training dataset, validation dataset and testing dataset in the Criteo bucket perform the following experiments:\n",
    "\n",
    "> Write spark code (borrow from Phase 1 of this project) to train a logistic regression model with various hyperparameters. Do a gridsearch of the hyperparameter space and determine optimal settings using the validation set.\n",
    "\n",
    "> * Number of buckets for hashing: 1,000, 10,000, .... explore different values  here\n",
    "> * Logistic Regression: regularization term: [1e-6, 1e-3]  explore other  values here also\n",
    "> * Logistic Regression: step size: explore different step sizes. Focus on a stepsize of 1 initially"
   ]
  },
  {
   "cell_type": "code",
   "execution_count": null,
   "metadata": {
    "collapsed": false
   },
   "outputs": [
    {
     "name": "stdout",
     "output_type": "stream",
     "text": [
      "Computing modulo of processed data\n",
      "2016-04-26 21:17:10.250724 Materializing text file RDD for train\n",
      "2016-04-26 21:17:10.250873 Materializing parsed RDD for train\n",
      "2016-04-26 21:25:01.334235 Materializing text file RDD for validation\n",
      "2016-04-26 21:25:01.334460 Materializing parsed RDD for validation\n",
      "2016-04-26 21:26:01.919063 {'regParam': 1e-06, 'step': 1, 'intercept': True, 'regType': 'none'}\n",
      "2016-04-26 21:28:54.904692 {'regParam': 1e-06, 'step': 1, 'intercept': True, 'regType': 'l1'}\n",
      "2016-04-26 21:32:10.657762 {'regParam': 1e-06, 'step': 1, 'intercept': True, 'regType': 'l2'}\n",
      "2016-04-26 21:35:07.979296 {'regParam': 1e-05, 'step': 1, 'intercept': True, 'regType': 'none'}\n",
      "2016-04-26 21:38:05.127164 {'regParam': 1e-05, 'step': 1, 'intercept': True, 'regType': 'l1'}\n",
      "2016-04-26 21:41:02.624933 {'regParam': 1e-05, 'step': 1, 'intercept': True, 'regType': 'l2'}\n",
      "2016-04-26 21:43:57.140942 {'regParam': 0.0001, 'step': 1, 'intercept': True, 'regType': 'none'}\n",
      "2016-04-26 21:46:53.039869 {'regParam': 0.0001, 'step': 1, 'intercept': True, 'regType': 'l1'}\n",
      "2016-04-26 21:49:50.619097 {'regParam': 0.0001, 'step': 1, 'intercept': True, 'regType': 'l2'}\n",
      "2016-04-26 21:52:47.942254 {'regParam': 0.001, 'step': 1, 'intercept': True, 'regType': 'none'}\n",
      "2016-04-26 21:55:45.493881 {'regParam': 0.001, 'step': 1, 'intercept': True, 'regType': 'l1'}\n",
      "2016-04-26 21:58:40.955342 {'regParam': 0.001, 'step': 1, 'intercept': True, 'regType': 'l2'}\n",
      "2016-04-26 22:01:35.973281 {'regParam': 0.01, 'step': 1, 'intercept': True, 'regType': 'none'}\n",
      "2016-04-26 22:04:35.285712 {'regParam': 0.01, 'step': 1, 'intercept': True, 'regType': 'l1'}\n",
      "2016-04-26 22:07:31.796658 {'regParam': 0.01, 'step': 1, 'intercept': True, 'regType': 'l2'}\n",
      "Computing modulo of processed data\n",
      "2016-04-26 22:10:29.696976 Materializing text file RDD for train\n",
      "2016-04-26 22:10:29.697139 Materializing parsed RDD for train\n",
      "2016-04-26 22:19:38.570320 {'regParam': 1e-06, 'step': 1, 'intercept': True, 'regType': 'none'}\n",
      "2016-04-26 22:22:38.008050 {'regParam': 1e-06, 'step': 1, 'intercept': True, 'regType': 'l1'}\n",
      "2016-04-26 22:31:32.567991 {'regParam': 1e-05, 'step': 1, 'intercept': True, 'regType': 'l1'}\n",
      "2016-04-26 22:34:32.278391 {'regParam': 1e-05, 'step': 1, 'intercept': True, 'regType': 'l2'}\n",
      "2016-04-26 22:37:28.573642 {'regParam': 0.0001, 'step': 1, 'intercept': True, 'regType': 'none'}\n",
      "2016-04-26 22:40:25.471550 {'regParam': 0.0001, 'step': 1, 'intercept': True, 'regType': 'l1'}\n",
      "2016-04-26 22:43:21.671355 {'regParam': 0.0001, 'step': 1, 'intercept': True, 'regType': 'l2'}\n",
      "2016-04-26 22:46:20.925260 {'regParam': 0.001, 'step': 1, 'intercept': True, 'regType': 'none'}\n",
      "2016-04-26 22:49:19.066737 {'regParam': 0.001, 'step': 1, 'intercept': True, 'regType': 'l1'}\n",
      "2016-04-26 22:52:17.584827 {'regParam': 0.001, 'step': 1, 'intercept': True, 'regType': 'l2'}\n",
      "2016-04-26 22:55:15.890188 {'regParam': 0.01, 'step': 1, 'intercept': True, 'regType': 'none'}\n",
      "2016-04-26 22:58:12.096608 {'regParam': 0.01, 'step': 1, 'intercept': True, 'regType': 'l1'}\n",
      "2016-04-26 23:01:05.520494 {'regParam': 0.01, 'step': 1, 'intercept': True, 'regType': 'l2'}\n",
      "Computing modulo of processed data\n",
      "2016-04-26 23:04:03.926038 Materializing text file RDD for train\n",
      "2016-04-26 23:04:03.926137 Materializing parsed RDD for train\n",
      "2016-04-26 23:11:59.491226 Materializing text file RDD for validation\n",
      "2016-04-26 23:11:59.491380 Materializing parsed RDD for validation\n",
      "2016-04-26 23:13:01.337660 {'regParam': 1e-06, 'step': 1, 'intercept': True, 'regType': 'none'}\n",
      "2016-04-26 23:15:55.724567 {'regParam': 1e-06, 'step': 1, 'intercept': True, 'regType': 'l1'}\n",
      "2016-04-26 23:18:52.702164 {'regParam': 1e-06, 'step': 1, 'intercept': True, 'regType': 'l2'}\n",
      "2016-04-26 23:21:47.181518 {'regParam': 1e-05, 'step': 1, 'intercept': True, 'regType': 'none'}\n",
      "2016-04-26 23:24:45.574895 {'regParam': 1e-05, 'step': 1, 'intercept': True, 'regType': 'l1'}\n",
      "2016-04-26 23:27:39.616653 {'regParam': 1e-05, 'step': 1, 'intercept': True, 'regType': 'l2'}\n",
      "2016-04-26 23:30:31.673486 {'regParam': 0.0001, 'step': 1, 'intercept': True, 'regType': 'none'}\n",
      "2016-04-26 23:33:25.337674 {'regParam': 0.0001, 'step': 1, 'intercept': True, 'regType': 'l1'}\n",
      "2016-04-26 23:36:23.023038 {'regParam': 0.0001, 'step': 1, 'intercept': True, 'regType': 'l2'}\n",
      "2016-04-26 23:39:19.568600 {'regParam': 0.001, 'step': 1, 'intercept': True, 'regType': 'none'}\n",
      "2016-04-26 23:42:13.208132 {'regParam': 0.001, 'step': 1, 'intercept': True, 'regType': 'l1'}\n",
      "2016-04-26 23:45:06.319842 {'regParam': 0.001, 'step': 1, 'intercept': True, 'regType': 'l2'}\n",
      "2016-04-26 23:48:02.381277 {'regParam': 0.01, 'step': 1, 'intercept': True, 'regType': 'none'}\n",
      "2016-04-26 23:50:58.689612 {'regParam': 0.01, 'step': 1, 'intercept': True, 'regType': 'l1'}\n",
      "2016-04-26 23:53:52.850877 {'regParam': 0.01, 'step': 1, 'intercept': True, 'regType': 'l2'}\n"
     ]
    }
   ],
   "source": [
    "from pyspark.ml.tuning import ParamGridBuilder\n",
    "\n",
    "bucketSizes = [100, 1000, 10000]\n",
    "\n",
    "# Provide a function which computes the log loss on the validation set\n",
    "# after training the model on the training set.\n",
    "\n",
    "def getModelMetrics(trainRDD, validationRDD, parameters):\n",
    "    global modelBroadcast\n",
    "\n",
    "    now = datetime.today()\n",
    "    print now, parameters\n",
    "\n",
    "    model = LogisticRegressionWithSGD.train(data=trainRDD, iterations=numIters, **parameters)\n",
    "    modelBroadcast = sc.broadcast(model)\n",
    "\n",
    "    return getAreaUnderROC(validationRDD), getAverageLogLoss(validationRDD)\n",
    "\n",
    "start = time.time()\n",
    "\n",
    "# Build up the parameter grid\n",
    "\n",
    "builder = ParamGridBuilder()\n",
    "builder.addGrid('step', [1])\n",
    "builder.addGrid('regParam', [1e-6, 1e-5, 1e-4, 1e-3, 1e-2])\n",
    "builder.addGrid('regType', ['none', 'l1', 'l2'])\n",
    "builder.addGrid('intercept', [True])\n",
    "\n",
    "# Save the best parameters and the best log loss encountered\n",
    "\n",
    "bestParameters = {}\n",
    "bestLogLoss = sys.maxint\n",
    "\n",
    "# Iterate over all desired bucket sizes and parameter combinations and\n",
    "# compute the metrics. Build up a list of all the results for later steps.\n",
    "\n",
    "modelMetrics = []\n",
    "\n",
    "for bucketSize in bucketSizes:\n",
    "    trainRDD, validationRDD = getParsedData(bucketSize, ['train', 'validation'])\n",
    "\n",
    "    for parameters in builder.build():\n",
    "        areaUnderROC, logLoss = getModelMetrics(trainRDD, validationRDD, parameters)\n",
    "        parameters['bucketSize'] = bucketSize\n",
    "        parameters['areaUnderROC'] = areaUnderROC\n",
    "        parameters['logLoss'] = logLoss\n",
    "\n",
    "        modelMetrics.append(parameters)\n",
    "\n",
    "    trainRDD.unpersist()\n",
    "    validationRDD.unpersist()\n",
    "\n",
    "end = time.time()"
   ]
  },
  {
   "cell_type": "markdown",
   "metadata": {},
   "source": [
    "> Report the AWS cluster configuration that you used and how long in minutes and seconds it takes to complete this job."
   ]
  },
  {
   "cell_type": "markdown",
   "metadata": {},
   "source": [
    "The times will be high due to the materialization of the RDDs in the middle of the iterations (required because of the high amount of memory in the sparse vector representation of the encoded features)."
   ]
  },
  {
   "cell_type": "code",
   "execution_count": null,
   "metadata": {
    "collapsed": false
   },
   "outputs": [
    {
     "name": "stdout",
     "output_type": "stream",
     "text": [
      "Wall time: 159min 37s\n"
     ]
    }
   ],
   "source": [
    "print 'Wall time:', str(int((end - start) / 60)) + 'min', str(int(end - start) % 60) + 's'"
   ]
  },
  {
   "cell_type": "markdown",
   "metadata": {
    "collapsed": true
   },
   "source": [
    "* **Instance Type**: [Memory Optimized](https://aws.amazon.com/ec2/instance-types/#memory-optimized)\n",
    "* **Instance Class**: r3.xlarge\n",
    "* **Cluster Size**: 1 master, 9 core\n",
    "* **Job Completion Time**: 159 minutes, 37 seconds"
   ]
  },
  {
   "cell_type": "markdown",
   "metadata": {},
   "source": [
    "## Evaluate the Logistic Regression"
   ]
  },
  {
   "cell_type": "markdown",
   "metadata": {},
   "source": [
    "> Report in tabular form and using heatmaps the AUC values (https://en.wikipedia.org/wiki/Receiver_operating_characteristic) for the Training, Validation, and Testing datasets.\n",
    "Report in tabular form and using heatmaps  the logLossTest for the Training, Validation, and Testing datasets.\n",
    "\n",
    "> Don't forget to put a caption on your tables (above the table) and on your heatmap figures (put caption below figures) detailing the experiment associated with each table or figure (data, algorithm used, parameters and settings explored."
   ]
  },
  {
   "cell_type": "markdown",
   "metadata": {},
   "source": [
    "First, we print out the raw dictionary so that we can perform the analysis without having to wait for the whole thing to complete again."
   ]
  },
  {
   "cell_type": "code",
   "execution_count": null,
   "metadata": {
    "collapsed": false
   },
   "outputs": [
    {
     "data": {
      "text/html": [
       "<div>\n",
       "<table border=\"1\" class=\"dataframe\">\n",
       "  <thead>\n",
       "    <tr style=\"text-align: right;\">\n",
       "      <th></th>\n",
       "      <th>areaUnderROC</th>\n",
       "      <th>bucketSize</th>\n",
       "      <th>intercept</th>\n",
       "      <th>logLoss</th>\n",
       "      <th>regParam</th>\n",
       "      <th>regType</th>\n",
       "      <th>step</th>\n",
       "    </tr>\n",
       "  </thead>\n",
       "  <tbody>\n",
       "    <tr>\n",
       "      <th>0</th>\n",
       "      <td>0.700719</td>\n",
       "      <td>100</td>\n",
       "      <td>True</td>\n",
       "      <td>0.521904</td>\n",
       "      <td>0.000001</td>\n",
       "      <td>none</td>\n",
       "      <td>1</td>\n",
       "    </tr>\n",
       "    <tr>\n",
       "      <th>1</th>\n",
       "      <td>0.700700</td>\n",
       "      <td>100</td>\n",
       "      <td>True</td>\n",
       "      <td>0.521914</td>\n",
       "      <td>0.000001</td>\n",
       "      <td>l1</td>\n",
       "      <td>1</td>\n",
       "    </tr>\n",
       "    <tr>\n",
       "      <th>2</th>\n",
       "      <td>0.700719</td>\n",
       "      <td>100</td>\n",
       "      <td>True</td>\n",
       "      <td>0.521904</td>\n",
       "      <td>0.000001</td>\n",
       "      <td>l2</td>\n",
       "      <td>1</td>\n",
       "    </tr>\n",
       "    <tr>\n",
       "      <th>3</th>\n",
       "      <td>0.700719</td>\n",
       "      <td>100</td>\n",
       "      <td>True</td>\n",
       "      <td>0.521904</td>\n",
       "      <td>0.000010</td>\n",
       "      <td>none</td>\n",
       "      <td>1</td>\n",
       "    </tr>\n",
       "    <tr>\n",
       "      <th>4</th>\n",
       "      <td>0.700522</td>\n",
       "      <td>100</td>\n",
       "      <td>True</td>\n",
       "      <td>0.521999</td>\n",
       "      <td>0.000010</td>\n",
       "      <td>l1</td>\n",
       "      <td>1</td>\n",
       "    </tr>\n",
       "    <tr>\n",
       "      <th>5</th>\n",
       "      <td>0.700718</td>\n",
       "      <td>100</td>\n",
       "      <td>True</td>\n",
       "      <td>0.521906</td>\n",
       "      <td>0.000010</td>\n",
       "      <td>l2</td>\n",
       "      <td>1</td>\n",
       "    </tr>\n",
       "    <tr>\n",
       "      <th>6</th>\n",
       "      <td>0.700719</td>\n",
       "      <td>100</td>\n",
       "      <td>True</td>\n",
       "      <td>0.521904</td>\n",
       "      <td>0.000100</td>\n",
       "      <td>none</td>\n",
       "      <td>1</td>\n",
       "    </tr>\n",
       "    <tr>\n",
       "      <th>7</th>\n",
       "      <td>0.698864</td>\n",
       "      <td>100</td>\n",
       "      <td>True</td>\n",
       "      <td>0.522801</td>\n",
       "      <td>0.000100</td>\n",
       "      <td>l1</td>\n",
       "      <td>1</td>\n",
       "    </tr>\n",
       "    <tr>\n",
       "      <th>8</th>\n",
       "      <td>0.700713</td>\n",
       "      <td>100</td>\n",
       "      <td>True</td>\n",
       "      <td>0.521918</td>\n",
       "      <td>0.000100</td>\n",
       "      <td>l2</td>\n",
       "      <td>1</td>\n",
       "    </tr>\n",
       "    <tr>\n",
       "      <th>9</th>\n",
       "      <td>0.700719</td>\n",
       "      <td>100</td>\n",
       "      <td>True</td>\n",
       "      <td>0.521904</td>\n",
       "      <td>0.001000</td>\n",
       "      <td>none</td>\n",
       "      <td>1</td>\n",
       "    </tr>\n",
       "    <tr>\n",
       "      <th>10</th>\n",
       "      <td>0.689757</td>\n",
       "      <td>100</td>\n",
       "      <td>True</td>\n",
       "      <td>0.527336</td>\n",
       "      <td>0.001000</td>\n",
       "      <td>l1</td>\n",
       "      <td>1</td>\n",
       "    </tr>\n",
       "    <tr>\n",
       "      <th>11</th>\n",
       "      <td>0.700667</td>\n",
       "      <td>100</td>\n",
       "      <td>True</td>\n",
       "      <td>0.522045</td>\n",
       "      <td>0.001000</td>\n",
       "      <td>l2</td>\n",
       "      <td>1</td>\n",
       "    </tr>\n",
       "    <tr>\n",
       "      <th>12</th>\n",
       "      <td>0.700719</td>\n",
       "      <td>100</td>\n",
       "      <td>True</td>\n",
       "      <td>0.521904</td>\n",
       "      <td>0.010000</td>\n",
       "      <td>none</td>\n",
       "      <td>1</td>\n",
       "    </tr>\n",
       "    <tr>\n",
       "      <th>13</th>\n",
       "      <td>0.647460</td>\n",
       "      <td>100</td>\n",
       "      <td>True</td>\n",
       "      <td>0.545902</td>\n",
       "      <td>0.010000</td>\n",
       "      <td>l1</td>\n",
       "      <td>1</td>\n",
       "    </tr>\n",
       "    <tr>\n",
       "      <th>14</th>\n",
       "      <td>0.700149</td>\n",
       "      <td>100</td>\n",
       "      <td>True</td>\n",
       "      <td>0.523365</td>\n",
       "      <td>0.010000</td>\n",
       "      <td>l2</td>\n",
       "      <td>1</td>\n",
       "    </tr>\n",
       "    <tr>\n",
       "      <th>15</th>\n",
       "      <td>0.700719</td>\n",
       "      <td>1000</td>\n",
       "      <td>True</td>\n",
       "      <td>0.521904</td>\n",
       "      <td>0.000001</td>\n",
       "      <td>none</td>\n",
       "      <td>1</td>\n",
       "    </tr>\n",
       "    <tr>\n",
       "      <th>16</th>\n",
       "      <td>0.700700</td>\n",
       "      <td>1000</td>\n",
       "      <td>True</td>\n",
       "      <td>0.521914</td>\n",
       "      <td>0.000001</td>\n",
       "      <td>l1</td>\n",
       "      <td>1</td>\n",
       "    </tr>\n",
       "    <tr>\n",
       "      <th>17</th>\n",
       "      <td>0.700719</td>\n",
       "      <td>1000</td>\n",
       "      <td>True</td>\n",
       "      <td>0.521904</td>\n",
       "      <td>0.000001</td>\n",
       "      <td>l2</td>\n",
       "      <td>1</td>\n",
       "    </tr>\n",
       "    <tr>\n",
       "      <th>18</th>\n",
       "      <td>0.700719</td>\n",
       "      <td>1000</td>\n",
       "      <td>True</td>\n",
       "      <td>0.521904</td>\n",
       "      <td>0.000010</td>\n",
       "      <td>none</td>\n",
       "      <td>1</td>\n",
       "    </tr>\n",
       "    <tr>\n",
       "      <th>19</th>\n",
       "      <td>0.700522</td>\n",
       "      <td>1000</td>\n",
       "      <td>True</td>\n",
       "      <td>0.521999</td>\n",
       "      <td>0.000010</td>\n",
       "      <td>l1</td>\n",
       "      <td>1</td>\n",
       "    </tr>\n",
       "    <tr>\n",
       "      <th>20</th>\n",
       "      <td>0.700718</td>\n",
       "      <td>1000</td>\n",
       "      <td>True</td>\n",
       "      <td>0.521906</td>\n",
       "      <td>0.000010</td>\n",
       "      <td>l2</td>\n",
       "      <td>1</td>\n",
       "    </tr>\n",
       "    <tr>\n",
       "      <th>21</th>\n",
       "      <td>0.700719</td>\n",
       "      <td>1000</td>\n",
       "      <td>True</td>\n",
       "      <td>0.521904</td>\n",
       "      <td>0.000100</td>\n",
       "      <td>none</td>\n",
       "      <td>1</td>\n",
       "    </tr>\n",
       "    <tr>\n",
       "      <th>22</th>\n",
       "      <td>0.698864</td>\n",
       "      <td>1000</td>\n",
       "      <td>True</td>\n",
       "      <td>0.522801</td>\n",
       "      <td>0.000100</td>\n",
       "      <td>l1</td>\n",
       "      <td>1</td>\n",
       "    </tr>\n",
       "    <tr>\n",
       "      <th>23</th>\n",
       "      <td>0.700713</td>\n",
       "      <td>1000</td>\n",
       "      <td>True</td>\n",
       "      <td>0.521918</td>\n",
       "      <td>0.000100</td>\n",
       "      <td>l2</td>\n",
       "      <td>1</td>\n",
       "    </tr>\n",
       "    <tr>\n",
       "      <th>24</th>\n",
       "      <td>0.700719</td>\n",
       "      <td>1000</td>\n",
       "      <td>True</td>\n",
       "      <td>0.521904</td>\n",
       "      <td>0.001000</td>\n",
       "      <td>none</td>\n",
       "      <td>1</td>\n",
       "    </tr>\n",
       "    <tr>\n",
       "      <th>25</th>\n",
       "      <td>0.689757</td>\n",
       "      <td>1000</td>\n",
       "      <td>True</td>\n",
       "      <td>0.527336</td>\n",
       "      <td>0.001000</td>\n",
       "      <td>l1</td>\n",
       "      <td>1</td>\n",
       "    </tr>\n",
       "    <tr>\n",
       "      <th>26</th>\n",
       "      <td>0.700667</td>\n",
       "      <td>1000</td>\n",
       "      <td>True</td>\n",
       "      <td>0.522045</td>\n",
       "      <td>0.001000</td>\n",
       "      <td>l2</td>\n",
       "      <td>1</td>\n",
       "    </tr>\n",
       "    <tr>\n",
       "      <th>27</th>\n",
       "      <td>0.700719</td>\n",
       "      <td>1000</td>\n",
       "      <td>True</td>\n",
       "      <td>0.521904</td>\n",
       "      <td>0.010000</td>\n",
       "      <td>none</td>\n",
       "      <td>1</td>\n",
       "    </tr>\n",
       "    <tr>\n",
       "      <th>28</th>\n",
       "      <td>0.647460</td>\n",
       "      <td>1000</td>\n",
       "      <td>True</td>\n",
       "      <td>0.545902</td>\n",
       "      <td>0.010000</td>\n",
       "      <td>l1</td>\n",
       "      <td>1</td>\n",
       "    </tr>\n",
       "    <tr>\n",
       "      <th>29</th>\n",
       "      <td>0.700149</td>\n",
       "      <td>1000</td>\n",
       "      <td>True</td>\n",
       "      <td>0.523365</td>\n",
       "      <td>0.010000</td>\n",
       "      <td>l2</td>\n",
       "      <td>1</td>\n",
       "    </tr>\n",
       "    <tr>\n",
       "      <th>30</th>\n",
       "      <td>0.700719</td>\n",
       "      <td>10000</td>\n",
       "      <td>True</td>\n",
       "      <td>0.521904</td>\n",
       "      <td>0.000001</td>\n",
       "      <td>none</td>\n",
       "      <td>1</td>\n",
       "    </tr>\n",
       "    <tr>\n",
       "      <th>31</th>\n",
       "      <td>0.700700</td>\n",
       "      <td>10000</td>\n",
       "      <td>True</td>\n",
       "      <td>0.521914</td>\n",
       "      <td>0.000001</td>\n",
       "      <td>l1</td>\n",
       "      <td>1</td>\n",
       "    </tr>\n",
       "    <tr>\n",
       "      <th>32</th>\n",
       "      <td>0.700719</td>\n",
       "      <td>10000</td>\n",
       "      <td>True</td>\n",
       "      <td>0.521904</td>\n",
       "      <td>0.000001</td>\n",
       "      <td>l2</td>\n",
       "      <td>1</td>\n",
       "    </tr>\n",
       "    <tr>\n",
       "      <th>33</th>\n",
       "      <td>0.700719</td>\n",
       "      <td>10000</td>\n",
       "      <td>True</td>\n",
       "      <td>0.521904</td>\n",
       "      <td>0.000010</td>\n",
       "      <td>none</td>\n",
       "      <td>1</td>\n",
       "    </tr>\n",
       "    <tr>\n",
       "      <th>34</th>\n",
       "      <td>0.700522</td>\n",
       "      <td>10000</td>\n",
       "      <td>True</td>\n",
       "      <td>0.521999</td>\n",
       "      <td>0.000010</td>\n",
       "      <td>l1</td>\n",
       "      <td>1</td>\n",
       "    </tr>\n",
       "    <tr>\n",
       "      <th>35</th>\n",
       "      <td>0.700718</td>\n",
       "      <td>10000</td>\n",
       "      <td>True</td>\n",
       "      <td>0.521906</td>\n",
       "      <td>0.000010</td>\n",
       "      <td>l2</td>\n",
       "      <td>1</td>\n",
       "    </tr>\n",
       "    <tr>\n",
       "      <th>36</th>\n",
       "      <td>0.700719</td>\n",
       "      <td>10000</td>\n",
       "      <td>True</td>\n",
       "      <td>0.521904</td>\n",
       "      <td>0.000100</td>\n",
       "      <td>none</td>\n",
       "      <td>1</td>\n",
       "    </tr>\n",
       "    <tr>\n",
       "      <th>37</th>\n",
       "      <td>0.698864</td>\n",
       "      <td>10000</td>\n",
       "      <td>True</td>\n",
       "      <td>0.522801</td>\n",
       "      <td>0.000100</td>\n",
       "      <td>l1</td>\n",
       "      <td>1</td>\n",
       "    </tr>\n",
       "    <tr>\n",
       "      <th>38</th>\n",
       "      <td>0.700713</td>\n",
       "      <td>10000</td>\n",
       "      <td>True</td>\n",
       "      <td>0.521918</td>\n",
       "      <td>0.000100</td>\n",
       "      <td>l2</td>\n",
       "      <td>1</td>\n",
       "    </tr>\n",
       "    <tr>\n",
       "      <th>39</th>\n",
       "      <td>0.700719</td>\n",
       "      <td>10000</td>\n",
       "      <td>True</td>\n",
       "      <td>0.521904</td>\n",
       "      <td>0.001000</td>\n",
       "      <td>none</td>\n",
       "      <td>1</td>\n",
       "    </tr>\n",
       "    <tr>\n",
       "      <th>40</th>\n",
       "      <td>0.689757</td>\n",
       "      <td>10000</td>\n",
       "      <td>True</td>\n",
       "      <td>0.527336</td>\n",
       "      <td>0.001000</td>\n",
       "      <td>l1</td>\n",
       "      <td>1</td>\n",
       "    </tr>\n",
       "    <tr>\n",
       "      <th>41</th>\n",
       "      <td>0.700667</td>\n",
       "      <td>10000</td>\n",
       "      <td>True</td>\n",
       "      <td>0.522045</td>\n",
       "      <td>0.001000</td>\n",
       "      <td>l2</td>\n",
       "      <td>1</td>\n",
       "    </tr>\n",
       "    <tr>\n",
       "      <th>42</th>\n",
       "      <td>0.700719</td>\n",
       "      <td>10000</td>\n",
       "      <td>True</td>\n",
       "      <td>0.521904</td>\n",
       "      <td>0.010000</td>\n",
       "      <td>none</td>\n",
       "      <td>1</td>\n",
       "    </tr>\n",
       "    <tr>\n",
       "      <th>43</th>\n",
       "      <td>0.647460</td>\n",
       "      <td>10000</td>\n",
       "      <td>True</td>\n",
       "      <td>0.545902</td>\n",
       "      <td>0.010000</td>\n",
       "      <td>l1</td>\n",
       "      <td>1</td>\n",
       "    </tr>\n",
       "    <tr>\n",
       "      <th>44</th>\n",
       "      <td>0.700149</td>\n",
       "      <td>10000</td>\n",
       "      <td>True</td>\n",
       "      <td>0.523365</td>\n",
       "      <td>0.010000</td>\n",
       "      <td>l2</td>\n",
       "      <td>1</td>\n",
       "    </tr>\n",
       "  </tbody>\n",
       "</table>\n",
       "</div>"
      ],
      "text/plain": [
       "    areaUnderROC  bucketSize intercept   logLoss  regParam regType  step\n",
       "0       0.700719         100      True  0.521904  0.000001    none     1\n",
       "1       0.700700         100      True  0.521914  0.000001      l1     1\n",
       "2       0.700719         100      True  0.521904  0.000001      l2     1\n",
       "3       0.700719         100      True  0.521904  0.000010    none     1\n",
       "4       0.700522         100      True  0.521999  0.000010      l1     1\n",
       "5       0.700718         100      True  0.521906  0.000010      l2     1\n",
       "6       0.700719         100      True  0.521904  0.000100    none     1\n",
       "7       0.698864         100      True  0.522801  0.000100      l1     1\n",
       "8       0.700713         100      True  0.521918  0.000100      l2     1\n",
       "9       0.700719         100      True  0.521904  0.001000    none     1\n",
       "10      0.689757         100      True  0.527336  0.001000      l1     1\n",
       "11      0.700667         100      True  0.522045  0.001000      l2     1\n",
       "12      0.700719         100      True  0.521904  0.010000    none     1\n",
       "13      0.647460         100      True  0.545902  0.010000      l1     1\n",
       "14      0.700149         100      True  0.523365  0.010000      l2     1\n",
       "15      0.700719        1000      True  0.521904  0.000001    none     1\n",
       "16      0.700700        1000      True  0.521914  0.000001      l1     1\n",
       "17      0.700719        1000      True  0.521904  0.000001      l2     1\n",
       "18      0.700719        1000      True  0.521904  0.000010    none     1\n",
       "19      0.700522        1000      True  0.521999  0.000010      l1     1\n",
       "20      0.700718        1000      True  0.521906  0.000010      l2     1\n",
       "21      0.700719        1000      True  0.521904  0.000100    none     1\n",
       "22      0.698864        1000      True  0.522801  0.000100      l1     1\n",
       "23      0.700713        1000      True  0.521918  0.000100      l2     1\n",
       "24      0.700719        1000      True  0.521904  0.001000    none     1\n",
       "25      0.689757        1000      True  0.527336  0.001000      l1     1\n",
       "26      0.700667        1000      True  0.522045  0.001000      l2     1\n",
       "27      0.700719        1000      True  0.521904  0.010000    none     1\n",
       "28      0.647460        1000      True  0.545902  0.010000      l1     1\n",
       "29      0.700149        1000      True  0.523365  0.010000      l2     1\n",
       "30      0.700719       10000      True  0.521904  0.000001    none     1\n",
       "31      0.700700       10000      True  0.521914  0.000001      l1     1\n",
       "32      0.700719       10000      True  0.521904  0.000001      l2     1\n",
       "33      0.700719       10000      True  0.521904  0.000010    none     1\n",
       "34      0.700522       10000      True  0.521999  0.000010      l1     1\n",
       "35      0.700718       10000      True  0.521906  0.000010      l2     1\n",
       "36      0.700719       10000      True  0.521904  0.000100    none     1\n",
       "37      0.698864       10000      True  0.522801  0.000100      l1     1\n",
       "38      0.700713       10000      True  0.521918  0.000100      l2     1\n",
       "39      0.700719       10000      True  0.521904  0.001000    none     1\n",
       "40      0.689757       10000      True  0.527336  0.001000      l1     1\n",
       "41      0.700667       10000      True  0.522045  0.001000      l2     1\n",
       "42      0.700719       10000      True  0.521904  0.010000    none     1\n",
       "43      0.647460       10000      True  0.545902  0.010000      l1     1\n",
       "44      0.700149       10000      True  0.523365  0.010000      l2     1"
      ]
     },
     "execution_count": null,
     "metadata": {},
     "output_type": "execute_result"
    }
   ],
   "source": [
    "df = pandas.DataFrame(modelMetrics)\n",
    "df"
   ]
  },
  {
   "cell_type": "code",
   "execution_count": null,
   "metadata": {
    "collapsed": false
   },
   "outputs": [
    {
     "data": {
      "image/png": "[encoded data removed]",
      "text/plain": [
      ]
     },
     "metadata": {},
     "output_type": "display_data"
    }
   ],
   "source": [
    "fig, axes = plt.subplots(2, 3, figsize=(15, 12))\n",
    "\n",
    "for i, regType in zip(range(3), ['none', 'l1', 'l2']):\n",
    "    for j, measure in zip(range(2), ['areaUnderROC', 'logLoss']):\n",
    "        pivot_df = df[df['regType'] == regType].pivot('bucketSize', 'regParam', measure)\n",
    "        seaborn.heatmap(pivot_df, ax=axes[j, i], annot=True)\n",
    "        axes[j, i].set_title(regType + ' regularization ' + measure)"
   ]
  },
  {
   "cell_type": "markdown",
   "metadata": {},
   "source": [
    "## Reflect on the Evaluation of the Logistic Regression"
   ]
  },
  {
   "cell_type": "markdown",
   "metadata": {},
   "source": [
    "> Discuss the optimal setting to solve this problem  in terms of the following:\n",
    "> * Features\n",
    "> * Learning algorithm\n",
    "> * Spark cluster\n",
    "\n",
    "> Justify your recommendations based on your experimental results and cross reference with table numbers and figure numbers. Also highlight key results with annotations, both textual and line and box based, on your tables and graphs."
   ]
  },
  {
   "cell_type": "markdown",
   "metadata": {
    "collapsed": true
   },
   "source": [
    "### Features\n",
    "\n",
    "As we can see in the heat map, increasing the number of buckets slightly improves the average log loss while increasing the complexity of the model, but it is not significant -- it shifts from approximately 0.52 for large numbers of buckets to 0.54 for smaller buckets.\n",
    "\n",
    "There is a noticeable increase between 100 and 1000 in terms of area under the ROC curve (from 0.66 to 0.70) and an only barely noticeable increase between 1000 and 1000 (when rounded, both values are at 0.70). This means that ideally, we'd choose 1000 in order to balance complexity with generizability."
   ]
  },
  {
   "cell_type": "markdown",
   "metadata": {},
   "source": [
    "### Learning Algorithm\n",
    "\n",
    "When looking at the regularization parameter type, we notice that L2 regularization is slightly better than L1 regularization in terms of consistency across regularization parameter values. This means we can have a larger regularization parameter if we choose L2 regularization. Efficiency appears to cap at around 0.001 with only a slight improvement for smaller regularization parameters."
   ]
  },
  {
   "cell_type": "markdown",
   "metadata": {},
   "source": [
    "### Spark Cluster\n",
    "\n",
    "One of the problems in this assignment was making sure we had sufficient memory to hold the training and validation data sets and so you would need to frequently unpersist the values in order to allow for the next iteration of grid search. This makes it more difficult to re-test values within the grid search without having to re-parse the data set."
   ]
  }
 ],
 "metadata": {
  "kernelspec": {
   "display_name": "Python 2",
   "language": "python",
   "name": "python2"
  },
  "language_info": {
   "codemirror_mode": {
    "name": "ipython",
    "version": 2
   },
   "file_extension": ".py",
   "mimetype": "text/x-python",
   "name": "python",
   "nbconvert_exporter": "python",
   "pygments_lexer": "ipython2",
   "version": "2.7.10"
  },
  "toc": {
   "toc_cell": false,
   "toc_number_sections": true,
   "toc_threshold": 6,
   "toc_window_display": false
  }
 },
 "nbformat": 4,
 "nbformat_minor": 0
}
