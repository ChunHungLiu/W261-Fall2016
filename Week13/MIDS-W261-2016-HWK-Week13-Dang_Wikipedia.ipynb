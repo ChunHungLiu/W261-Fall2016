{
 "cells": [
  {
   "cell_type": "markdown",
   "metadata": {},
   "source": [
    "* **Student**: Minhchau Dang\n",
    "* **Email Address**: minhchau.dang@berkeley.edu\n",
    "* **Course**: 2016-0111 DATASCI W261: Machine Learning at Scale\n",
    "* **Section**: Spring 2016, Section 2\n",
    "* **Assignment**: Homework 13, Week 13\n",
    "* **Submission Date**: April 21, 2016"
   ]
  },
  {
   "cell_type": "markdown",
   "metadata": {},
   "source": [
    "# Helper utilities"
   ]
  },
  {
   "cell_type": "markdown",
   "metadata": {},
   "source": [
    "## Notebook imports"
   ]
  },
  {
   "cell_type": "markdown",
   "metadata": {},
   "source": [
    "If the following cell (which imports all the Python packages used by the different drivers) doesn't run, some of the drivers and helper functions in the notebook will also fail to run. Note that you will also need `pyspark` to run the actual jobs themselves."
   ]
  },
  {
   "cell_type": "code",
   "execution_count": null,
   "metadata": {
    "collapsed": true
   },
   "outputs": [],
   "source": [
    "%matplotlib inline"
   ]
  },
  {
   "cell_type": "code",
   "execution_count": null,
   "metadata": {
    "collapsed": false
   },
   "outputs": [],
   "source": [
    "from __future__ import division\n",
    "from datetime import datetime\n",
    "import functools\n",
    "import matplotlib\n",
    "import matplotlib.pyplot as plt\n",
    "import numpy\n",
    "import operator\n",
    "import os\n",
    "import pandas\n",
    "import seaborn\n",
    "import time"
   ]
  },
  {
   "cell_type": "markdown",
   "metadata": {},
   "source": [
    "## File download utilities"
   ]
  },
  {
   "cell_type": "markdown",
   "metadata": {},
   "source": [
    "Since the URLs for the files tend to be very long, first we create some utility methods which make it more clear what we're doing when we're downloading data from either Dropbox or Amazon S3."
   ]
  },
  {
   "cell_type": "code",
   "execution_count": null,
   "metadata": {
    "collapsed": true
   },
   "outputs": [],
   "source": [
    "dropboxBaseURL = ' http://www.dropbox.com/sh/2c0k5adwz36lkcw'\n",
    "\n",
    "def downloadFromDropbox(filePath):\n",
    "    fileName = os.path.basename(filePath)\n",
    "\n",
    "    if os.path.isfile(fileName):\n",
    "        return\n",
    "\n",
    "    !wget -qq $dropboxBaseURL/$filePath\n",
    "    !hdfs dfs -copyFromLocal $fileName"
   ]
  },
  {
   "cell_type": "markdown",
   "metadata": {},
   "source": [
    "## Set Cluster Size"
   ]
  },
  {
   "cell_type": "markdown",
   "metadata": {},
   "source": [
    "Using r3.xlarge nodes, there is 23424 MB of available memory for Yarn scheduling and there are 4 cores per server.\n",
    "\n",
    "* http://www.ec2instances.info\n",
    "* http://docs.aws.amazon.com/ElasticMapReduce/latest/ReleaseGuide/emr-hadoop-task-config.html"
   ]
  },
  {
   "cell_type": "code",
   "execution_count": null,
   "metadata": {
    "collapsed": true
   },
   "outputs": [],
   "source": [
    "node_count = 9\n",
    "server_cores = 4\n",
    "yarn_memory = 23424\n",
    "executors_per_node = 1"
   ]
  },
  {
   "cell_type": "markdown",
   "metadata": {},
   "source": [
    "## Set Cluster Name"
   ]
  },
  {
   "cell_type": "code",
   "execution_count": null,
   "metadata": {
    "collapsed": true
   },
   "outputs": [],
   "source": [
    "cluster_name = 'Week13_Wikipedia'"
   ]
  },
  {
   "cell_type": "markdown",
   "metadata": {},
   "source": [
    "## Initialize Spark"
   ]
  },
  {
   "cell_type": "markdown",
   "metadata": {},
   "source": [
    "Use the ``findspark`` library in order to help setup the Spark context. This allows the same code to work across different versions of Spark.\n",
    "\n",
    "https://github.com/minrk/findspark"
   ]
  },
  {
   "cell_type": "code",
   "execution_count": null,
   "metadata": {
    "collapsed": false
   },
   "outputs": [],
   "source": [
    "import findspark\n",
    "findspark.init()\n",
    "\n",
    "import pyspark\n",
    "from pyspark import SparkConf, SparkContext"
   ]
  },
  {
   "cell_type": "markdown",
   "metadata": {},
   "source": [
    "Compute the configuration for our cluster."
   ]
  },
  {
   "cell_type": "code",
   "execution_count": null,
   "metadata": {
    "collapsed": false
   },
   "outputs": [
    {
     "name": "stdout",
     "output_type": "stream",
     "text": [
      "spark.app.name=Week13_Wikipedia\n",
      "spark.driver.extraClassPath=/etc/hadoop/conf:/usr/lib/hadoop-lzo/lib/*:/usr/share/aws/aws-java-sdk/*:/usr/share/aws/emr/emrfs/conf:/usr/share/aws/emr/emrfs/lib/*:/usr/share/aws/emr/emrfs/auxlib/*\n",
      "spark.driver.extraJavaOptions=-Dlog4j.configuration=file:///etc/spark/conf/log4j.properties -XX:+UseConcMarkSweepGC -XX:CMSInitiatingOccupancyFraction=70 -XX:MaxHeapFreeRatio=70 -XX:+CMSClassUnloadingEnabled -XX:MaxPermSize=512M -XX:OnOutOfMemoryError='kill -9 %p'\n",
      "spark.driver.extraLibraryPath=/usr/lib/hadoop/lib/native:/usr/lib/hadoop-lzo/lib/native\n",
      "spark.dynamicAllocation.enabled=False\n",
      "spark.eventLog.dir=hdfs:///var/log/spark/apps\n",
      "spark.eventLog.enabled=true\n",
      "spark.executor.cores=4\n",
      "spark.executor.extraClassPath=/etc/hadoop/conf:/usr/lib/hadoop-lzo/lib/*:/usr/share/aws/aws-java-sdk/*:/usr/share/aws/emr/emrfs/conf:/usr/share/aws/emr/emrfs/lib/*:/usr/share/aws/emr/emrfs/auxlib/*\n",
      "spark.executor.extraJavaOptions=-verbose:gc -XX:+PrintGCDetails -XX:+PrintGCDateStamps -XX:+UseConcMarkSweepGC -XX:CMSInitiatingOccupancyFraction=70 -XX:MaxHeapFreeRatio=70 -XX:+CMSClassUnloadingEnabled -XX:OnOutOfMemoryError='kill -9 %p'\n",
      "spark.executor.extraLibraryPath=/usr/lib/hadoop/lib/native:/usr/lib/hadoop-lzo/lib/native\n",
      "spark.executor.instances=9\n",
      "spark.executor.memory=21294M\n",
      "spark.history.fs.logDirectory=hdfs:///var/log/spark/apps\n",
      "spark.history.ui.port=18080\n",
      "spark.master=yarn-client\n",
      "spark.shuffle.service.enabled=true\n",
      "spark.submit.deployMode=client\n",
      "spark.yarn.historyServer.address=ip-172-31-38-17.us-west-2.compute.internal:18080\n",
      "spark.yarn.isPython=true\n"
     ]
    }
   ],
   "source": [
    "memory_per_executor = int((yarn_memory / executors_per_node) / 1.1)\n",
    "cores_per_executor = int(server_cores / executors_per_node)\n",
    "\n",
    "conf = SparkConf()\n",
    "conf.setAppName(cluster_name)\n",
    "conf.setMaster('yarn-client')\n",
    "conf.set('spark.dynamicAllocation.enabled', False)\n",
    "conf.set('spark.executor.cores', cores_per_executor)\n",
    "conf.set('spark.executor.memory', str(memory_per_executor) + 'M')\n",
    "conf.set('spark.executor.instances', executors_per_node * node_count)\n",
    "\n",
    "print conf.toDebugString()\n",
    "\n",
    "sc = SparkContext(conf=conf)"
   ]
  },
  {
   "cell_type": "markdown",
   "metadata": {},
   "source": [
    "# HW 13.1: Spark implementation of basic PageRank"
   ]
  },
  {
   "cell_type": "markdown",
   "metadata": {},
   "source": [
    "> Write a basic Spark implementation of the iterative PageRank algorithm\n",
    "that takes sparse adjacency lists as input.\n",
    "\n",
    "> Make sure that your implementation utilizes teleportation (1-damping/the number of nodes in the network),\n",
    "and further, distributes the mass of dangling nodes with each iteration\n",
    "so that the output of each iteration is correctly normalized (sums to 1).\n",
    "\n",
    "> [NOTE: The PageRank algorithm assumes that a random surfer (walker), starting from a random web page,\n",
    "chooses the next page to which it will move by clicking at random, with probability $d$,\n",
    "one of the hyperlinks in the current page. This probability is represented by a so-called\n",
    "'damping factor' $d$, where $d \\in (0, 1)$. Otherwise, with probability $(1 − d)$, the surfer\n",
    "jumps to any web page in the network. If a page is a dangling end, meaning it has no\n",
    "outgoing hyperlinks, the random surfer selects an arbitrary web page from a uniform\n",
    "distribution and \"teleports\" to that page]\n",
    "\n",
    "> In your Spark solution, please use broadcast variables and caching to make sure your code is as efficient as possible."
   ]
  },
  {
   "cell_type": "markdown",
   "metadata": {},
   "source": [
    "## Identify dangling nodes"
   ]
  },
  {
   "cell_type": "markdown",
   "metadata": {},
   "source": [
    "Graph files only list nodes with outgoing links, so any counts will be inaccurate unless they also have the nodes that have zero outgoing links (dangling nodes). The following code attempts to create the entire graph so that these nodes can be factored in for counting."
   ]
  },
  {
   "cell_type": "code",
   "execution_count": null,
   "metadata": {
    "collapsed": false
   },
   "outputs": [],
   "source": [
    "# Utility functions which will expand neighbors as a list and collapse pairs\n",
    "# of neighbor dictionaries into a single dictionary\n",
    "\n",
    "def getNeighborNames(x):\n",
    "    name, neighbors = x\n",
    "    return [str(neighbor) for neighbor in neighbors.iterkeys()]\n",
    "\n",
    "def asDanglingNode(x):\n",
    "    return x, {}\n",
    "\n",
    "def getTrueNeighbors(x, y):\n",
    "    if len(x) == 0:\n",
    "        return y\n",
    "    return x\n",
    "\n",
    "# Utility function which will construct a new RDD with all dangling nodes\n",
    "# added to the graph.\n",
    "\n",
    "def getCompleteAdjacencyList(leftRDD, rightRDD=None):\n",
    "    leftTableRDD = leftRDD\n",
    "\n",
    "    # Convert the right table into the left table (identifies dangling nodes)\n",
    "    # if no right table is provided. Otherwise, reuse the same format.\n",
    "\n",
    "    if rightRDD is None:\n",
    "        rightTableRDD = leftRDD.flatMap(getNeighborNames).distinct().map(asDanglingNode)\n",
    "    else:\n",
    "        rightTableRDD = rightRDD.map(lambda x: (x[0], {}))\n",
    "\n",
    "    return leftTableRDD.union(rightTableRDD) \\\n",
    "        .reduceByKey(getTrueNeighbors) \\\n",
    "        .cache()"
   ]
  },
  {
   "cell_type": "markdown",
   "metadata": {},
   "source": [
    "## Apply PageRank to adjacency list RDD"
   ]
  },
  {
   "cell_type": "markdown",
   "metadata": {},
   "source": [
    "Next, given a complete graph, we'll run the page rank algorithm. The goal is to boost performance as much as possible by caching each intermediate RDD (to avoid having to serialize it to disk), using broadcast variables and accumulators, and reducing the number of transformations."
   ]
  },
  {
   "cell_type": "code",
   "execution_count": null,
   "metadata": {
    "collapsed": false
   },
   "outputs": [],
   "source": [
    "# Perform one iteration of page rank\n",
    "\n",
    "def pageRankIteration(dataRDD, pageRankRDD, nodeCountValue, dampingFactorValue, danglingMassValue):\n",
    "\n",
    "    # Compute the bonus mass that we will add to each node (compute this\n",
    "    # in advance so that we can broadcast it during the initial map phase\n",
    "    # and avoid unnecessary transformations).\n",
    "\n",
    "    teleportMassValue = (1.0 - dampingFactorValue) / nodeCountValue\n",
    "    dampedDanglingMassValue = (danglingMassValue * dampingFactorValue) / nodeCountValue\n",
    "\n",
    "    dampingFactor = sc.broadcast(dampingFactorValue)\n",
    "    bonusMass = sc.broadcast(teleportMassValue + dampedDanglingMassValue)\n",
    "\n",
    "    # Function to distribute the probability mass\n",
    "\n",
    "    danglingMass = sc.accumulator(0.0)\n",
    "\n",
    "    def distributeProbabilityMass(x):\n",
    "        name, values = x\n",
    "        neighbors, mass = values\n",
    "\n",
    "        neighborCount = len(neighbors)\n",
    "\n",
    "        # Normally we would just indicate that we have 0.0 mass from our node,\n",
    "        # but the reality is we actually already know that we will have the\n",
    "        # guaranteed mass from the teleport and dangling nodes.\n",
    "\n",
    "        nodeData = [(name, bonusMass.value)]\n",
    "\n",
    "        if neighborCount == 0:\n",
    "            danglingMass.add(mass)\n",
    "            return nodeData\n",
    "\n",
    "        # Multiply the distributed mass by the damping factor here rather than\n",
    "        # as a separate step.\n",
    "\n",
    "        distributedMass = (mass / neighborCount) * dampingFactor.value\n",
    "\n",
    "        nodeDistributedMass = [\n",
    "            (neighbor, distributedMass)\n",
    "                 for neighbor in neighbors.iterkeys()\n",
    "        ]\n",
    "\n",
    "        return nodeData + nodeDistributedMass\n",
    "\n",
    "    # Perform one iteration of page rank\n",
    "\n",
    "    newPageRankRDD = dataRDD.join(pageRankRDD, numPartitions=dataRDD.getNumPartitions()) \\\n",
    "        .flatMap(distributeProbabilityMass) \\\n",
    "        .reduceByKey(operator.add) \\\n",
    "        .cache()\n",
    "\n",
    "    newPageRankRDD.count()\n",
    "    danglingMassValue = danglingMass.value\n",
    "\n",
    "    return danglingMassValue, newPageRankRDD\n",
    "\n",
    "# Iterate page rank for the given number of iterations\n",
    "\n",
    "def pageRank(dataRDD, pageRankRDD, danglingMassValue, iterationCount, debugIterationChanges):\n",
    "    times = []\n",
    "\n",
    "    now = datetime.today()\n",
    "    print now, 'Materializing node count'\n",
    "\n",
    "    nodeCountValue = dataRDD.count()\n",
    "\n",
    "    if pageRankRDD is None:\n",
    "        initialMassValue = 1.0 / nodeCountValue\n",
    "        initialMass = sc.broadcast(initialMassValue)\n",
    "\n",
    "        danglingMass = sc.accumulator(0.0)\n",
    "\n",
    "        def getInitialPageRank(x):\n",
    "            name, neighbors = x\n",
    "\n",
    "            if len(neighbors) == 0:\n",
    "                danglingMass.add(initialMass.value)\n",
    "\n",
    "            return name, initialMass.value\n",
    "\n",
    "        oldPageRankRDD = dataRDD.map(getInitialPageRank).cache()\n",
    "        oldPageRankRDD.count()\n",
    "\n",
    "        danglingMassValue = danglingMass.value\n",
    "    else:\n",
    "        oldPageRankRDD = pageRankRDD\n",
    "\n",
    "    now = datetime.today()\n",
    "    print now, 'Started page rank computation'\n",
    "\n",
    "    for i in range(0, iterationCount):\n",
    "        if debugIterationChanges:\n",
    "            now = datetime.today()\n",
    "            print now, 'Iteration', i + 1, 'started'\n",
    "\n",
    "        started = time.time()\n",
    "\n",
    "        danglingMassValue, newPageRankRDD = pageRankIteration(\n",
    "            dataRDD, oldPageRankRDD, nodeCountValue, 0.85, danglingMassValue)\n",
    "\n",
    "        finished = time.time()\n",
    "\n",
    "        times.append(finished - started)\n",
    "\n",
    "        # Update to the new page rank\n",
    "\n",
    "        oldPageRankRDD.unpersist()\n",
    "        oldPageRankRDD = newPageRankRDD\n",
    "\n",
    "    now = datetime.today()\n",
    "    print now, 'Finished page rank computation'\n",
    "\n",
    "    return times, danglingMassValue, newPageRankRDD"
   ]
  },
  {
   "cell_type": "markdown",
   "metadata": {},
   "source": [
    "## Acquire test network"
   ]
  },
  {
   "cell_type": "markdown",
   "metadata": {},
   "source": [
    "> As you build your code, use the test data\n",
    "\n",
    "> * s3://ucb-mids-mls-networks/PageRank-test.txt\n",
    "\n",
    "> Or under the Data Subfolder for HW7 on Dropbox with the same file name.\n",
    "\n",
    "> (On Dropbox https://www.dropbox.com/sh/2c0k5adwz36lkcw/AAAAKsjQfF9uHfv-X9mCqr9wa?dl=0)"
   ]
  },
  {
   "cell_type": "code",
   "execution_count": null,
   "metadata": {
    "collapsed": false
   },
   "outputs": [],
   "source": [
    "downloadFromDropbox('AADxzBgNxNF5Q6-eanjnK64qa/PageRank-test.txt')"
   ]
  },
  {
   "cell_type": "markdown",
   "metadata": {},
   "source": [
    "## Add test network dangling nodes"
   ]
  },
  {
   "cell_type": "markdown",
   "metadata": {},
   "source": [
    "Use ``count`` in order to materialize the RDD so that the time to load the RDDs in these stages don't affect the computation time."
   ]
  },
  {
   "cell_type": "code",
   "execution_count": null,
   "metadata": {
    "collapsed": true
   },
   "outputs": [],
   "source": [
    "def parseLine(x):\n",
    "    name, value = x.split('\\t', 1)\n",
    "    return str(name), eval(value)"
   ]
  },
  {
   "cell_type": "code",
   "execution_count": null,
   "metadata": {
    "collapsed": false
   },
   "outputs": [
    {
     "name": "stdout",
     "output_type": "stream",
     "text": [
      "10\n"
     ]
    }
   ],
   "source": [
    "testDataRDD = sc.textFile('PageRank-test.txt').map(parseLine).cache()\n",
    "print testDataRDD.count()"
   ]
  },
  {
   "cell_type": "code",
   "execution_count": null,
   "metadata": {
    "collapsed": false
   },
   "outputs": [
    {
     "name": "stdout",
     "output_type": "stream",
     "text": [
      "11\n"
     ]
    }
   ],
   "source": [
    "testCompleteAdjacencyListRDD = getCompleteAdjacencyList(testDataRDD)\n",
    "print testCompleteAdjacencyListRDD.count()"
   ]
  },
  {
   "cell_type": "markdown",
   "metadata": {},
   "source": [
    "## Execute PageRank on test network"
   ]
  },
  {
   "cell_type": "markdown",
   "metadata": {},
   "source": [
    "> With teleportation parameter set to 0.15 (1-d, where d, the damping factor is set to 0.85), and crosscheck\n",
    "your work with the true result, displayed in the first image\n",
    "in the Wikipedia article:\n",
    "\n",
    "> https://en.wikipedia.org/wiki/PageRank\n",
    "\n",
    "> and here for reference are the corresponding PageRank probabilities:\n",
    "\n",
    "> ```\n",
    "    A,0.033\n",
    "    B,0.384\n",
    "    C,0.343\n",
    "    D,0.039\n",
    "    E,0.081\n",
    "    F,0.039\n",
    "    G,0.016\n",
    "    H,0.016\n",
    "    I,0.016\n",
    "    J,0.016\n",
    "    K,0.016\n",
    "```"
   ]
  },
  {
   "cell_type": "markdown",
   "metadata": {},
   "source": [
    "### Cross-check PageRank test data result locally"
   ]
  },
  {
   "cell_type": "markdown",
   "metadata": {},
   "source": [
    "> Run this experiment locally first. Report the local configuration that you used and how long in minutes and seconds it takes to complete your job."
   ]
  },
  {
   "cell_type": "markdown",
   "metadata": {},
   "source": [
    "<span style=\"color:crimson; font-size: 3em; font-weight: bold\">TODO</span>"
   ]
  },
  {
   "cell_type": "markdown",
   "metadata": {},
   "source": [
    "### Cross-check PageRank test data result on AWS"
   ]
  },
  {
   "cell_type": "markdown",
   "metadata": {},
   "source": [
    "> Repeat this experiment on AWS. Report the AWS cluster configuration that you used and how long in minutes and seconds it takes to complete your job. (in your notebook, cat the cluster config file)"
   ]
  },
  {
   "cell_type": "code",
   "execution_count": null,
   "metadata": {
    "collapsed": false
   },
   "outputs": [
    {
     "name": "stdout",
     "output_type": "stream",
     "text": [
      "2016-04-27 01:33:58.001615 Materializing node count\n",
      "2016-04-27 01:33:58.368388 Started page rank computation\n",
      "2016-04-27 01:34:14.712285 Finished page rank computation\n",
      "CPU times: user 1.12 s, sys: 132 ms, total: 1.25 s\n",
      "Wall time: 16.7 s\n"
     ]
    }
   ],
   "source": [
    "%time testPageRankTimes, testDanglingMass, testPageRankResult = pageRank( \\\n",
    "    testCompleteAdjacencyListRDD, None, 0.0, 40, False)"
   ]
  },
  {
   "cell_type": "code",
   "execution_count": null,
   "metadata": {
    "collapsed": false
   },
   "outputs": [
    {
     "data": {
      "image/png": "[encoded data removed]",
      "text/plain": [
      ]
     },
     "metadata": {},
     "output_type": "display_data"
    }
   ],
   "source": [
    "pandas.DataFrame(testPageRankTimes, columns=['computation time (in seconds)']).plot();"
   ]
  },
  {
   "cell_type": "code",
   "execution_count": null,
   "metadata": {
    "collapsed": false
   },
   "outputs": [
    {
     "data": {
      "text/plain": [
       "[('A', '0.033'),\n",
       " ('B', '0.384'),\n",
       " ('C', '0.343'),\n",
       " ('D', '0.039'),\n",
       " ('E', '0.081'),\n",
       " ('F', '0.039'),\n",
       " ('G', '0.016'),\n",
       " ('H', '0.016'),\n",
       " ('I', '0.016'),\n",
       " ('J', '0.016'),\n",
       " ('K', '0.016')]"
      ]
     },
     "execution_count": null,
     "metadata": {},
     "output_type": "execute_result"
    }
   ],
   "source": [
    "[(x[0], '%0.3f' % x[1]) for x in testPageRankResult.sortByKey().collect()]"
   ]
  },
  {
   "cell_type": "markdown",
   "metadata": {},
   "source": [
    "# HW 13.2: Applying PageRank to the Wikipedia hyperlinks network"
   ]
  },
  {
   "cell_type": "markdown",
   "metadata": {},
   "source": [
    "> The dataset is built from the Sept. 2015 XML snapshot of English Wikipedia.\n",
    "For this directed network, a link between articles:\n",
    "\n",
    "> ```\n",
    "A -> B\n",
    "```\n",
    "\n",
    "> is defined by the existence of a hyperlink in A pointing to B.\n",
    "This network also exists in the indexed format:\n",
    "\n",
    "> * Data: s3://ucb-mids-mls-networks/wikipedia/all-pages-indexed-out.txt\n",
    "> * Data: s3://ucb-mids-mls-networks/wikipedia/all-pages-indexed-in.txt\n",
    "> * Data: s3://ucb-mids-mls-networks/wikipedia/indices.txt\n",
    "\n",
    "> but has an index with more detailed data:\n",
    "\n",
    "> ```\n",
    "(article name) \\t (index) \\t (in degree) \\t (out degree)\n",
    "```\n",
    "\n",
    "> In the dictionary, target nodes are keys, link weights are values .\n",
    "Here, a weight indicates the number of time a page links to another.\n",
    "However, for the sake of this assignment, treat this an unweighted network,\n",
    "and set all weights to 1 upon data input."
   ]
  },
  {
   "cell_type": "markdown",
   "metadata": {},
   "source": [
    "## Add Wikipedia network dangling nodes"
   ]
  },
  {
   "cell_type": "markdown",
   "metadata": {},
   "source": [
    "Use ``count`` in order to materialize the RDD so that the time to load the RDDs in these stages don't affect the computation time."
   ]
  },
  {
   "cell_type": "code",
   "execution_count": null,
   "metadata": {
    "collapsed": false
   },
   "outputs": [
    {
     "name": "stdout",
     "output_type": "stream",
     "text": [
      "5781290\n",
      "14216021\n"
     ]
    }
   ],
   "source": [
    "wikipediaOutgoingRDD = \\\n",
    "    sc.textFile('s3://ucb-mids-mls-networks/wikipedia/all-pages-indexed-out.txt') \\\n",
    "        .map(parseLine) \\\n",
    "        .cache()\n",
    "\n",
    "wikipediaIncomingRDD = \\\n",
    "    sc.textFile('s3://ucb-mids-mls-networks/wikipedia/all-pages-indexed-in.txt') \\\n",
    "        .map(parseLine) \\\n",
    "        .cache()\n",
    "\n",
    "print wikipediaOutgoingRDD.count()\n",
    "print wikipediaIncomingRDD.count()"
   ]
  },
  {
   "cell_type": "markdown",
   "metadata": {},
   "source": [
    "Since the graph is large, we'll also want to know how long it takes to fill in the missing nodes of the graph."
   ]
  },
  {
   "cell_type": "code",
   "execution_count": null,
   "metadata": {
    "collapsed": false
   },
   "outputs": [
    {
     "name": "stdout",
     "output_type": "stream",
     "text": [
      "CPU times: user 20 ms, sys: 0 ns, total: 20 ms\n",
      "Wall time: 1min\n"
     ]
    },
    {
     "data": {
      "text/plain": [
       "15192277"
      ]
     },
     "execution_count": null,
     "metadata": {},
     "output_type": "execute_result"
    }
   ],
   "source": [
    "wikipediaCompleteAdjacencyListRDD = getCompleteAdjacencyList(wikipediaOutgoingRDD, wikipediaIncomingRDD)\n",
    "%time wikipediaCompleteAdjacencyListRDD.count()"
   ]
  },
  {
   "cell_type": "markdown",
   "metadata": {},
   "source": [
    "## Execute PageRank on Wikipedia network"
   ]
  },
  {
   "cell_type": "markdown",
   "metadata": {},
   "source": [
    "### 10 Iterations - Execution"
   ]
  },
  {
   "cell_type": "markdown",
   "metadata": {},
   "source": [
    "> Run your Spark PageRank implementation on the Wikipedia dataset for 10 iterations,\n",
    "and display the top 100 ranked nodes (with alpha = 0.85)."
   ]
  },
  {
   "cell_type": "code",
   "execution_count": null,
   "metadata": {
    "collapsed": false
   },
   "outputs": [
    {
     "name": "stdout",
     "output_type": "stream",
     "text": [
      "2016-04-27 03:27:18.039019 Materializing node count\n",
      "2016-04-27 03:27:26.680220 Started page rank computation\n",
      "2016-04-27 03:27:26.680349 Iteration 1 started\n",
      "2016-04-27 03:29:19.819610 Iteration 2 started\n",
      "2016-04-27 03:31:34.740351 Iteration 3 started\n",
      "2016-04-27 03:33:48.567045 Iteration 4 started\n",
      "2016-04-27 03:36:01.903928 Iteration 5 started\n",
      "2016-04-27 03:38:17.045665 Iteration 6 started\n",
      "2016-04-27 03:40:35.360383 Iteration 7 started\n",
      "2016-04-27 03:42:53.743559 Iteration 8 started\n",
      "2016-04-27 03:45:09.378989 Iteration 9 started\n",
      "2016-04-27 03:47:26.280009 Iteration 10 started\n",
      "2016-04-27 03:49:40.076327 Finished page rank computation\n",
      "CPU times: user 488 ms, sys: 72 ms, total: 560 ms\n",
      "Wall time: 22min 22s\n"
     ]
    }
   ],
   "source": [
    "%time wikipedia10PageRankTimes, wikipedia10DanglingMass, wikipedia10PageRankResult = \\\n",
    "    pageRank(wikipediaCompleteAdjacencyListRDD, None, 0.0, 10, True)"
   ]
  },
  {
   "cell_type": "code",
   "execution_count": null,
   "metadata": {
    "collapsed": false
   },
   "outputs": [
    {
     "data": {
      "image/png": "[encoded data removed]",
      "text/plain": [
      ]
     },
     "metadata": {},
     "output_type": "display_data"
    }
   ],
   "source": [
    "pandas.DataFrame(wikipedia10PageRankTimes, columns=['computation time (in seconds)']).plot();"
   ]
  },
  {
   "cell_type": "markdown",
   "metadata": {},
   "source": [
    "### 10 Iterations - Top 100"
   ]
  },
  {
   "cell_type": "markdown",
   "metadata": {
    "collapsed": true
   },
   "source": [
    "Now we take the top 100 page rank values."
   ]
  },
  {
   "cell_type": "code",
   "execution_count": null,
   "metadata": {
    "collapsed": true
   },
   "outputs": [],
   "source": [
    "wikipedia10Top100PageRankValues = {\n",
    "    x[0]: x[1] for x in wikipedia10PageRankResult.takeOrdered(100, lambda x: -x[1])\n",
    "}"
   ]
  },
  {
   "cell_type": "markdown",
   "metadata": {},
   "source": [
    "Load the indices so that we can have something that is more human-readable."
   ]
  },
  {
   "cell_type": "code",
   "execution_count": null,
   "metadata": {
    "collapsed": true
   },
   "outputs": [],
   "source": [
    "wikipediaIndicesRDD = sc.textFile('s3://ucb-mids-mls-networks/wikipedia/indices.txt')"
   ]
  },
  {
   "cell_type": "markdown",
   "metadata": {},
   "source": [
    "Perform a hash join of the indices with the top 100 IDs, which we can achieve in a more performant way by broadcasting the tables and generating the join via a filter followed by a map."
   ]
  },
  {
   "cell_type": "code",
   "execution_count": null,
   "metadata": {
    "collapsed": false
   },
   "outputs": [
    {
     "data": {
      "text/html": [
       "<div>\n",
       "<table border=\"1\" class=\"dataframe\">\n",
       "  <thead>\n",
       "    <tr style=\"text-align: right;\">\n",
       "      <th></th>\n",
       "      <th>Page Name</th>\n",
       "      <th>PageRank</th>\n",
       "    </tr>\n",
       "  </thead>\n",
       "  <tbody>\n",
       "    <tr>\n",
       "      <th>0</th>\n",
       "      <td>United States</td>\n",
       "      <td>0.001532</td>\n",
       "    </tr>\n",
       "    <tr>\n",
       "      <th>1</th>\n",
       "      <td>Animal</td>\n",
       "      <td>0.000694</td>\n",
       "    </tr>\n",
       "    <tr>\n",
       "      <th>2</th>\n",
       "      <td>France</td>\n",
       "      <td>0.000670</td>\n",
       "    </tr>\n",
       "    <tr>\n",
       "      <th>3</th>\n",
       "      <td>Germany</td>\n",
       "      <td>0.000602</td>\n",
       "    </tr>\n",
       "    <tr>\n",
       "      <th>4</th>\n",
       "      <td>Canada</td>\n",
       "      <td>0.000468</td>\n",
       "    </tr>\n",
       "    <tr>\n",
       "      <th>5</th>\n",
       "      <td>Arthropod</td>\n",
       "      <td>0.000468</td>\n",
       "    </tr>\n",
       "    <tr>\n",
       "      <th>6</th>\n",
       "      <td>List of sovereign states</td>\n",
       "      <td>0.000467</td>\n",
       "    </tr>\n",
       "    <tr>\n",
       "      <th>7</th>\n",
       "      <td>Insect</td>\n",
       "      <td>0.000462</td>\n",
       "    </tr>\n",
       "    <tr>\n",
       "      <th>8</th>\n",
       "      <td>United Kingdom</td>\n",
       "      <td>0.000455</td>\n",
       "    </tr>\n",
       "    <tr>\n",
       "      <th>9</th>\n",
       "      <td>India</td>\n",
       "      <td>0.000447</td>\n",
       "    </tr>\n",
       "    <tr>\n",
       "      <th>10</th>\n",
       "      <td>England</td>\n",
       "      <td>0.000443</td>\n",
       "    </tr>\n",
       "    <tr>\n",
       "      <th>11</th>\n",
       "      <td>Iran</td>\n",
       "      <td>0.000417</td>\n",
       "    </tr>\n",
       "    <tr>\n",
       "      <th>12</th>\n",
       "      <td>World War II</td>\n",
       "      <td>0.000405</td>\n",
       "    </tr>\n",
       "    <tr>\n",
       "      <th>13</th>\n",
       "      <td>Poland</td>\n",
       "      <td>0.000381</td>\n",
       "    </tr>\n",
       "    <tr>\n",
       "      <th>14</th>\n",
       "      <td>village</td>\n",
       "      <td>0.000359</td>\n",
       "    </tr>\n",
       "    <tr>\n",
       "      <th>15</th>\n",
       "      <td>Countries of the world</td>\n",
       "      <td>0.000354</td>\n",
       "    </tr>\n",
       "    <tr>\n",
       "      <th>16</th>\n",
       "      <td>Japan</td>\n",
       "      <td>0.000345</td>\n",
       "    </tr>\n",
       "    <tr>\n",
       "      <th>17</th>\n",
       "      <td>Italy</td>\n",
       "      <td>0.000345</td>\n",
       "    </tr>\n",
       "    <tr>\n",
       "      <th>18</th>\n",
       "      <td>Australia</td>\n",
       "      <td>0.000341</td>\n",
       "    </tr>\n",
       "    <tr>\n",
       "      <th>19</th>\n",
       "      <td>List of countries</td>\n",
       "      <td>0.000340</td>\n",
       "    </tr>\n",
       "    <tr>\n",
       "      <th>20</th>\n",
       "      <td>Voivodeships of Poland</td>\n",
       "      <td>0.000328</td>\n",
       "    </tr>\n",
       "    <tr>\n",
       "      <th>21</th>\n",
       "      <td>National Register of Historic Places</td>\n",
       "      <td>0.000322</td>\n",
       "    </tr>\n",
       "    <tr>\n",
       "      <th>22</th>\n",
       "      <td>Lepidoptera</td>\n",
       "      <td>0.000320</td>\n",
       "    </tr>\n",
       "    <tr>\n",
       "      <th>23</th>\n",
       "      <td>Powiat</td>\n",
       "      <td>0.000318</td>\n",
       "    </tr>\n",
       "    <tr>\n",
       "      <th>24</th>\n",
       "      <td>Gmina</td>\n",
       "      <td>0.000312</td>\n",
       "    </tr>\n",
       "    <tr>\n",
       "      <th>25</th>\n",
       "      <td>The New York Times</td>\n",
       "      <td>0.000302</td>\n",
       "    </tr>\n",
       "    <tr>\n",
       "      <th>26</th>\n",
       "      <td>London</td>\n",
       "      <td>0.000298</td>\n",
       "    </tr>\n",
       "    <tr>\n",
       "      <th>27</th>\n",
       "      <td>English language</td>\n",
       "      <td>0.000283</td>\n",
       "    </tr>\n",
       "    <tr>\n",
       "      <th>28</th>\n",
       "      <td>China</td>\n",
       "      <td>0.000277</td>\n",
       "    </tr>\n",
       "    <tr>\n",
       "      <th>29</th>\n",
       "      <td>Russia</td>\n",
       "      <td>0.000274</td>\n",
       "    </tr>\n",
       "    <tr>\n",
       "      <th>30</th>\n",
       "      <td>New York City</td>\n",
       "      <td>0.000271</td>\n",
       "    </tr>\n",
       "    <tr>\n",
       "      <th>31</th>\n",
       "      <td>Departments of France</td>\n",
       "      <td>0.000266</td>\n",
       "    </tr>\n",
       "    <tr>\n",
       "      <th>32</th>\n",
       "      <td>Spain</td>\n",
       "      <td>0.000263</td>\n",
       "    </tr>\n",
       "    <tr>\n",
       "      <th>33</th>\n",
       "      <td>Communes of France</td>\n",
       "      <td>0.000260</td>\n",
       "    </tr>\n",
       "    <tr>\n",
       "      <th>34</th>\n",
       "      <td>Brazil</td>\n",
       "      <td>0.000256</td>\n",
       "    </tr>\n",
       "    <tr>\n",
       "      <th>35</th>\n",
       "      <td>moth</td>\n",
       "      <td>0.000255</td>\n",
       "    </tr>\n",
       "    <tr>\n",
       "      <th>36</th>\n",
       "      <td>Association football</td>\n",
       "      <td>0.000250</td>\n",
       "    </tr>\n",
       "    <tr>\n",
       "      <th>37</th>\n",
       "      <td>association football</td>\n",
       "      <td>0.000244</td>\n",
       "    </tr>\n",
       "    <tr>\n",
       "      <th>38</th>\n",
       "      <td>California</td>\n",
       "      <td>0.000231</td>\n",
       "    </tr>\n",
       "    <tr>\n",
       "      <th>39</th>\n",
       "      <td>Counties of Iran</td>\n",
       "      <td>0.000224</td>\n",
       "    </tr>\n",
       "    <tr>\n",
       "      <th>40</th>\n",
       "      <td>Provinces of Iran</td>\n",
       "      <td>0.000224</td>\n",
       "    </tr>\n",
       "    <tr>\n",
       "      <th>41</th>\n",
       "      <td>Central European Time</td>\n",
       "      <td>0.000221</td>\n",
       "    </tr>\n",
       "    <tr>\n",
       "      <th>42</th>\n",
       "      <td>Romania</td>\n",
       "      <td>0.000221</td>\n",
       "    </tr>\n",
       "    <tr>\n",
       "      <th>43</th>\n",
       "      <td>Bakhsh</td>\n",
       "      <td>0.000216</td>\n",
       "    </tr>\n",
       "    <tr>\n",
       "      <th>44</th>\n",
       "      <td>Sweden</td>\n",
       "      <td>0.000213</td>\n",
       "    </tr>\n",
       "    <tr>\n",
       "      <th>45</th>\n",
       "      <td>Rural Districts of Iran</td>\n",
       "      <td>0.000211</td>\n",
       "    </tr>\n",
       "    <tr>\n",
       "      <th>46</th>\n",
       "      <td>Netherlands</td>\n",
       "      <td>0.000207</td>\n",
       "    </tr>\n",
       "    <tr>\n",
       "      <th>47</th>\n",
       "      <td>World War I</td>\n",
       "      <td>0.000201</td>\n",
       "    </tr>\n",
       "    <tr>\n",
       "      <th>48</th>\n",
       "      <td>Private Use Areas</td>\n",
       "      <td>0.000198</td>\n",
       "    </tr>\n",
       "    <tr>\n",
       "      <th>49</th>\n",
       "      <td>New York</td>\n",
       "      <td>0.000197</td>\n",
       "    </tr>\n",
       "    <tr>\n",
       "      <th>50</th>\n",
       "      <td>Central European Summer Time</td>\n",
       "      <td>0.000197</td>\n",
       "    </tr>\n",
       "    <tr>\n",
       "      <th>51</th>\n",
       "      <td>Mexico</td>\n",
       "      <td>0.000196</td>\n",
       "    </tr>\n",
       "    <tr>\n",
       "      <th>52</th>\n",
       "      <td>AllMusic</td>\n",
       "      <td>0.000195</td>\n",
       "    </tr>\n",
       "    <tr>\n",
       "      <th>53</th>\n",
       "      <td>Iran Standard Time</td>\n",
       "      <td>0.000194</td>\n",
       "    </tr>\n",
       "    <tr>\n",
       "      <th>54</th>\n",
       "      <td>Iran Daylight Time</td>\n",
       "      <td>0.000186</td>\n",
       "    </tr>\n",
       "    <tr>\n",
       "      <th>55</th>\n",
       "      <td>Hangul</td>\n",
       "      <td>0.000185</td>\n",
       "    </tr>\n",
       "    <tr>\n",
       "      <th>56</th>\n",
       "      <td>Scotland</td>\n",
       "      <td>0.000182</td>\n",
       "    </tr>\n",
       "    <tr>\n",
       "      <th>57</th>\n",
       "      <td>gene</td>\n",
       "      <td>0.000177</td>\n",
       "    </tr>\n",
       "    <tr>\n",
       "      <th>58</th>\n",
       "      <td>Soviet Union</td>\n",
       "      <td>0.000176</td>\n",
       "    </tr>\n",
       "    <tr>\n",
       "      <th>59</th>\n",
       "      <td>Norway</td>\n",
       "      <td>0.000175</td>\n",
       "    </tr>\n",
       "    <tr>\n",
       "      <th>60</th>\n",
       "      <td>Allmusic</td>\n",
       "      <td>0.000173</td>\n",
       "    </tr>\n",
       "    <tr>\n",
       "      <th>61</th>\n",
       "      <td>Paris</td>\n",
       "      <td>0.000169</td>\n",
       "    </tr>\n",
       "    <tr>\n",
       "      <th>62</th>\n",
       "      <td>New Zealand</td>\n",
       "      <td>0.000168</td>\n",
       "    </tr>\n",
       "    <tr>\n",
       "      <th>63</th>\n",
       "      <td>Turkey</td>\n",
       "      <td>0.000167</td>\n",
       "    </tr>\n",
       "    <tr>\n",
       "      <th>64</th>\n",
       "      <td>Plant</td>\n",
       "      <td>0.000166</td>\n",
       "    </tr>\n",
       "    <tr>\n",
       "      <th>65</th>\n",
       "      <td>Switzerland</td>\n",
       "      <td>0.000163</td>\n",
       "    </tr>\n",
       "    <tr>\n",
       "      <th>66</th>\n",
       "      <td>Geographic Names Information System</td>\n",
       "      <td>0.000162</td>\n",
       "    </tr>\n",
       "    <tr>\n",
       "      <th>67</th>\n",
       "      <td>Los Angeles</td>\n",
       "      <td>0.000161</td>\n",
       "    </tr>\n",
       "    <tr>\n",
       "      <th>68</th>\n",
       "      <td>United States Census Bureau</td>\n",
       "      <td>0.000155</td>\n",
       "    </tr>\n",
       "    <tr>\n",
       "      <th>69</th>\n",
       "      <td>Europe</td>\n",
       "      <td>0.000155</td>\n",
       "    </tr>\n",
       "    <tr>\n",
       "      <th>70</th>\n",
       "      <td>Romanize</td>\n",
       "      <td>0.000155</td>\n",
       "    </tr>\n",
       "    <tr>\n",
       "      <th>71</th>\n",
       "      <td>Angiosperms</td>\n",
       "      <td>0.000148</td>\n",
       "    </tr>\n",
       "    <tr>\n",
       "      <th>72</th>\n",
       "      <td>South Africa</td>\n",
       "      <td>0.000148</td>\n",
       "    </tr>\n",
       "    <tr>\n",
       "      <th>73</th>\n",
       "      <td>census</td>\n",
       "      <td>0.000146</td>\n",
       "    </tr>\n",
       "    <tr>\n",
       "      <th>74</th>\n",
       "      <td>Flowering plant</td>\n",
       "      <td>0.000145</td>\n",
       "    </tr>\n",
       "    <tr>\n",
       "      <th>75</th>\n",
       "      <td>Austria</td>\n",
       "      <td>0.000143</td>\n",
       "    </tr>\n",
       "    <tr>\n",
       "      <th>76</th>\n",
       "      <td>U.S. state</td>\n",
       "      <td>0.000141</td>\n",
       "    </tr>\n",
       "    <tr>\n",
       "      <th>77</th>\n",
       "      <td>protein</td>\n",
       "      <td>0.000141</td>\n",
       "    </tr>\n",
       "    <tr>\n",
       "      <th>78</th>\n",
       "      <td>Argentina</td>\n",
       "      <td>0.000137</td>\n",
       "    </tr>\n",
       "    <tr>\n",
       "      <th>79</th>\n",
       "      <td>population density</td>\n",
       "      <td>0.000137</td>\n",
       "    </tr>\n",
       "    <tr>\n",
       "      <th>80</th>\n",
       "      <td>Political divisions of the United States</td>\n",
       "      <td>0.000136</td>\n",
       "    </tr>\n",
       "    <tr>\n",
       "      <th>81</th>\n",
       "      <td>Catholic Church</td>\n",
       "      <td>0.000136</td>\n",
       "    </tr>\n",
       "    <tr>\n",
       "      <th>82</th>\n",
       "      <td>Chordate</td>\n",
       "      <td>0.000135</td>\n",
       "    </tr>\n",
       "    <tr>\n",
       "      <th>83</th>\n",
       "      <td>BBC</td>\n",
       "      <td>0.000134</td>\n",
       "    </tr>\n",
       "    <tr>\n",
       "      <th>84</th>\n",
       "      <td>Belgium</td>\n",
       "      <td>0.000133</td>\n",
       "    </tr>\n",
       "    <tr>\n",
       "      <th>85</th>\n",
       "      <td>Chicago</td>\n",
       "      <td>0.000131</td>\n",
       "    </tr>\n",
       "    <tr>\n",
       "      <th>86</th>\n",
       "      <td>Washington, D.C.</td>\n",
       "      <td>0.000127</td>\n",
       "    </tr>\n",
       "    <tr>\n",
       "      <th>87</th>\n",
       "      <td>Pakistan</td>\n",
       "      <td>0.000126</td>\n",
       "    </tr>\n",
       "    <tr>\n",
       "      <th>88</th>\n",
       "      <td>Finland</td>\n",
       "      <td>0.000121</td>\n",
       "    </tr>\n",
       "    <tr>\n",
       "      <th>89</th>\n",
       "      <td>Latin</td>\n",
       "      <td>0.000121</td>\n",
       "    </tr>\n",
       "    <tr>\n",
       "      <th>90</th>\n",
       "      <td>The Guardian</td>\n",
       "      <td>0.000121</td>\n",
       "    </tr>\n",
       "    <tr>\n",
       "      <th>91</th>\n",
       "      <td>Ontario</td>\n",
       "      <td>0.000120</td>\n",
       "    </tr>\n",
       "    <tr>\n",
       "      <th>92</th>\n",
       "      <td>Czech Republic</td>\n",
       "      <td>0.000119</td>\n",
       "    </tr>\n",
       "    <tr>\n",
       "      <th>93</th>\n",
       "      <td>Denmark</td>\n",
       "      <td>0.000119</td>\n",
       "    </tr>\n",
       "    <tr>\n",
       "      <th>94</th>\n",
       "      <td>Philippines</td>\n",
       "      <td>0.000119</td>\n",
       "    </tr>\n",
       "    <tr>\n",
       "      <th>95</th>\n",
       "      <td>Greece</td>\n",
       "      <td>0.000119</td>\n",
       "    </tr>\n",
       "    <tr>\n",
       "      <th>96</th>\n",
       "      <td>genus</td>\n",
       "      <td>0.000118</td>\n",
       "    </tr>\n",
       "    <tr>\n",
       "      <th>97</th>\n",
       "      <td>football (soccer)</td>\n",
       "      <td>0.000118</td>\n",
       "    </tr>\n",
       "    <tr>\n",
       "      <th>98</th>\n",
       "      <td>Hungary</td>\n",
       "      <td>0.000118</td>\n",
       "    </tr>\n",
       "    <tr>\n",
       "      <th>99</th>\n",
       "      <td>Eastern European Time</td>\n",
       "      <td>0.000117</td>\n",
       "    </tr>\n",
       "  </tbody>\n",
       "</table>\n",
       "</div>"
      ],
      "text/plain": [
       "                                   Page Name  PageRank\n",
       "0                              United States  0.001532\n",
       "1                                     Animal  0.000694\n",
       "2                                     France  0.000670\n",
       "3                                    Germany  0.000602\n",
       "4                                     Canada  0.000468\n",
       "5                                  Arthropod  0.000468\n",
       "6                   List of sovereign states  0.000467\n",
       "7                                     Insect  0.000462\n",
       "8                             United Kingdom  0.000455\n",
       "9                                      India  0.000447\n",
       "10                                   England  0.000443\n",
       "11                                      Iran  0.000417\n",
       "12                              World War II  0.000405\n",
       "13                                    Poland  0.000381\n",
       "14                                   village  0.000359\n",
       "15                    Countries of the world  0.000354\n",
       "16                                     Japan  0.000345\n",
       "17                                     Italy  0.000345\n",
       "18                                 Australia  0.000341\n",
       "19                         List of countries  0.000340\n",
       "20                    Voivodeships of Poland  0.000328\n",
       "21      National Register of Historic Places  0.000322\n",
       "22                               Lepidoptera  0.000320\n",
       "23                                    Powiat  0.000318\n",
       "24                                     Gmina  0.000312\n",
       "25                        The New York Times  0.000302\n",
       "26                                    London  0.000298\n",
       "27                          English language  0.000283\n",
       "28                                     China  0.000277\n",
       "29                                    Russia  0.000274\n",
       "30                             New York City  0.000271\n",
       "31                     Departments of France  0.000266\n",
       "32                                     Spain  0.000263\n",
       "33                        Communes of France  0.000260\n",
       "34                                    Brazil  0.000256\n",
       "35                                      moth  0.000255\n",
       "36                      Association football  0.000250\n",
       "37                      association football  0.000244\n",
       "38                                California  0.000231\n",
       "39                          Counties of Iran  0.000224\n",
       "40                         Provinces of Iran  0.000224\n",
       "41                     Central European Time  0.000221\n",
       "42                                   Romania  0.000221\n",
       "43                                    Bakhsh  0.000216\n",
       "44                                    Sweden  0.000213\n",
       "45                   Rural Districts of Iran  0.000211\n",
       "46                               Netherlands  0.000207\n",
       "47                               World War I  0.000201\n",
       "48                         Private Use Areas  0.000198\n",
       "49                                  New York  0.000197\n",
       "50              Central European Summer Time  0.000197\n",
       "51                                    Mexico  0.000196\n",
       "52                                  AllMusic  0.000195\n",
       "53                        Iran Standard Time  0.000194\n",
       "54                        Iran Daylight Time  0.000186\n",
       "55                                    Hangul  0.000185\n",
       "56                                  Scotland  0.000182\n",
       "57                                      gene  0.000177\n",
       "58                              Soviet Union  0.000176\n",
       "59                                    Norway  0.000175\n",
       "60                                  Allmusic  0.000173\n",
       "61                                     Paris  0.000169\n",
       "62                               New Zealand  0.000168\n",
       "63                                    Turkey  0.000167\n",
       "64                                     Plant  0.000166\n",
       "65                               Switzerland  0.000163\n",
       "66       Geographic Names Information System  0.000162\n",
       "67                               Los Angeles  0.000161\n",
       "68               United States Census Bureau  0.000155\n",
       "69                                    Europe  0.000155\n",
       "70                                  Romanize  0.000155\n",
       "71                               Angiosperms  0.000148\n",
       "72                              South Africa  0.000148\n",
       "73                                    census  0.000146\n",
       "74                           Flowering plant  0.000145\n",
       "75                                   Austria  0.000143\n",
       "76                                U.S. state  0.000141\n",
       "77                                   protein  0.000141\n",
       "78                                 Argentina  0.000137\n",
       "79                        population density  0.000137\n",
       "80  Political divisions of the United States  0.000136\n",
       "81                           Catholic Church  0.000136\n",
       "82                                  Chordate  0.000135\n",
       "83                                       BBC  0.000134\n",
       "84                                   Belgium  0.000133\n",
       "85                                   Chicago  0.000131\n",
       "86                          Washington, D.C.  0.000127\n",
       "87                                  Pakistan  0.000126\n",
       "88                                   Finland  0.000121\n",
       "89                                     Latin  0.000121\n",
       "90                              The Guardian  0.000121\n",
       "91                                   Ontario  0.000120\n",
       "92                            Czech Republic  0.000119\n",
       "93                                   Denmark  0.000119\n",
       "94                               Philippines  0.000119\n",
       "95                                    Greece  0.000119\n",
       "96                                     genus  0.000118\n",
       "97                         football (soccer)  0.000118\n",
       "98                                   Hungary  0.000118\n",
       "99                     Eastern European Time  0.000117"
      ]
     },
     "execution_count": null,
     "metadata": {},
     "output_type": "execute_result"
    }
   ],
   "source": [
    "wikipedia10Top100PageRanks = sc.broadcast(wikipedia10Top100PageRankValues)\n",
    "\n",
    "def isTop100Index10(x):\n",
    "    pageId = x.split('\\t')[1]\n",
    "    return pageId in wikipedia10Top100PageRanks.value\n",
    "\n",
    "def getPageRank10(x):\n",
    "    pageName, pageId, values = x.split('\\t', 2)\n",
    "    return pageName, wikipedia10Top100PageRanks.value[pageId]\n",
    "\n",
    "wikipedia10Top100NamedPageRanks = wikipediaIndicesRDD \\\n",
    "    .filter(isTop100Index10) \\\n",
    "    .map(getPageRank10) \\\n",
    "    .takeOrdered(100, lambda x: -x[1])\n",
    "\n",
    "pandas.set_option('display.max_rows', 100)\n",
    "wikipedia10 = pandas.DataFrame(wikipedia10Top100NamedPageRanks, columns=['Page Name', 'PageRank'])\n",
    "wikipedia10"
   ]
  },
  {
   "cell_type": "markdown",
   "metadata": {},
   "source": [
    "### 50 Iterations - Execution"
   ]
  },
  {
   "cell_type": "markdown",
   "metadata": {},
   "source": [
    "> Run your PageRank implementation on the Wikipedia dataset for 50 iterations,\n",
    "and display the top 100 ranked nodes (with teleportation factor of 0.15). "
   ]
  },
  {
   "cell_type": "code",
   "execution_count": null,
   "metadata": {
    "collapsed": false
   },
   "outputs": [
    {
     "name": "stdout",
     "output_type": "stream",
     "text": [
      "2016-04-27 03:54:32.983718 Materializing node count\n",
      "2016-04-27 03:54:35.601690 Started page rank computation\n",
      "2016-04-27 03:54:35.601816 Iteration 1 started\n",
      "2016-04-27 03:56:50.349995 Iteration 2 started\n",
      "2016-04-27 03:59:04.181767 Iteration 3 started\n",
      "2016-04-27 04:01:20.176071 Iteration 4 started\n",
      "2016-04-27 04:03:37.391495 Iteration 5 started\n",
      "2016-04-27 04:05:54.610854 Iteration 6 started\n",
      "2016-04-27 04:08:11.098072 Iteration 7 started\n",
      "2016-04-27 04:10:27.650343 Iteration 8 started\n",
      "2016-04-27 04:12:45.086725 Iteration 9 started\n",
      "2016-04-27 04:15:01.339598 Iteration 10 started\n",
      "2016-04-27 04:17:18.761229 Iteration 11 started\n",
      "2016-04-27 04:19:37.059989 Iteration 12 started\n",
      "2016-04-27 04:21:55.917466 Iteration 13 started\n",
      "2016-04-27 04:24:14.944851 Iteration 14 started\n",
      "2016-04-27 04:26:33.017201 Iteration 15 started\n",
      "2016-04-27 04:28:50.120648 Iteration 16 started\n",
      "2016-04-27 04:31:06.779232 Iteration 17 started\n",
      "2016-04-27 04:33:22.878532 Iteration 18 started\n",
      "2016-04-27 04:35:38.428270 Iteration 19 started\n",
      "2016-04-27 04:37:53.152307 Iteration 20 started\n",
      "2016-04-27 04:40:10.375247 Iteration 21 started\n",
      "2016-04-27 04:42:26.089487 Iteration 22 started\n",
      "2016-04-27 04:44:41.437573 Iteration 23 started\n",
      "2016-04-27 04:46:57.150039 Iteration 24 started\n",
      "2016-04-27 04:49:12.196045 Iteration 25 started\n",
      "2016-04-27 04:51:25.977929 Iteration 26 started\n",
      "2016-04-27 04:53:41.139535 Iteration 27 started\n",
      "2016-04-27 04:55:54.077411 Iteration 28 started\n",
      "2016-04-27 04:58:06.071047 Iteration 29 started\n",
      "2016-04-27 05:00:19.131339 Iteration 30 started\n",
      "2016-04-27 05:02:34.256220 Iteration 31 started\n",
      "2016-04-27 05:04:48.043835 Iteration 32 started\n",
      "2016-04-27 05:07:02.054043 Iteration 33 started\n",
      "2016-04-27 05:09:15.990379 Iteration 34 started\n",
      "2016-04-27 05:11:28.349713 Iteration 35 started\n",
      "2016-04-27 05:13:42.053632 Iteration 36 started\n",
      "2016-04-27 05:15:55.429070 Iteration 37 started\n",
      "2016-04-27 05:18:08.685515 Iteration 38 started\n",
      "2016-04-27 05:20:20.377609 Iteration 39 started\n",
      "2016-04-27 05:22:35.202753 Iteration 40 started\n",
      "2016-04-27 05:24:49.347221 Finished page rank computation\n",
      "CPU times: user 1.8 s, sys: 312 ms, total: 2.11 s\n",
      "Wall time: 1h 30min 16s\n"
     ]
    }
   ],
   "source": [
    "%time wikipedia50PageRankTimes, wikipedia50DanglingMass, wikipedia50PageRankResult = \\\n",
    "    pageRank(wikipediaCompleteAdjacencyListRDD, wikipedia10PageRankResult, wikipedia10DanglingMass, 40, True)"
   ]
  },
  {
   "cell_type": "code",
   "execution_count": null,
   "metadata": {
    "collapsed": false
   },
   "outputs": [
    {
     "data": {
      "image/png": "[encoded data removed]",
      "text/plain": [
      ]
     },
     "metadata": {},
     "output_type": "display_data"
    }
   ],
   "source": [
    "pandas.DataFrame(wikipedia50PageRankTimes, columns=['computation time (in seconds)']).plot();"
   ]
  },
  {
   "cell_type": "markdown",
   "metadata": {},
   "source": [
    "### 50 Iterations - Top 100"
   ]
  },
  {
   "cell_type": "markdown",
   "metadata": {},
   "source": [
    "Now we take the top 100 page rank values."
   ]
  },
  {
   "cell_type": "code",
   "execution_count": null,
   "metadata": {
    "collapsed": true
   },
   "outputs": [],
   "source": [
    "wikipedia50Top100PageRankValues = {\n",
    "    x[0]: x[1] for x in wikipedia50PageRankResult.takeOrdered(100, lambda x: -x[1])\n",
    "}"
   ]
  },
  {
   "cell_type": "markdown",
   "metadata": {},
   "source": [
    "Perform a hash join of the indices with the top 100 IDs, which we can achieve in a more performant way by broadcasting the tables and generating the join via a filter followed by a map."
   ]
  },
  {
   "cell_type": "code",
   "execution_count": null,
   "metadata": {
    "collapsed": false
   },
   "outputs": [
    {
     "data": {
      "text/html": [
       "<div>\n",
       "<table border=\"1\" class=\"dataframe\">\n",
       "  <thead>\n",
       "    <tr style=\"text-align: right;\">\n",
       "      <th></th>\n",
       "      <th>Page Name</th>\n",
       "      <th>PageRank</th>\n",
       "    </tr>\n",
       "  </thead>\n",
       "  <tbody>\n",
       "    <tr>\n",
       "      <th>0</th>\n",
       "      <td>United States</td>\n",
       "      <td>0.001462</td>\n",
       "    </tr>\n",
       "    <tr>\n",
       "      <th>1</th>\n",
       "      <td>Animal</td>\n",
       "      <td>0.000666</td>\n",
       "    </tr>\n",
       "    <tr>\n",
       "      <th>2</th>\n",
       "      <td>France</td>\n",
       "      <td>0.000640</td>\n",
       "    </tr>\n",
       "    <tr>\n",
       "      <th>3</th>\n",
       "      <td>Germany</td>\n",
       "      <td>0.000575</td>\n",
       "    </tr>\n",
       "    <tr>\n",
       "      <th>4</th>\n",
       "      <td>Arthropod</td>\n",
       "      <td>0.000450</td>\n",
       "    </tr>\n",
       "    <tr>\n",
       "      <th>5</th>\n",
       "      <td>Canada</td>\n",
       "      <td>0.000447</td>\n",
       "    </tr>\n",
       "    <tr>\n",
       "      <th>6</th>\n",
       "      <td>Insect</td>\n",
       "      <td>0.000445</td>\n",
       "    </tr>\n",
       "    <tr>\n",
       "      <th>7</th>\n",
       "      <td>List of sovereign states</td>\n",
       "      <td>0.000444</td>\n",
       "    </tr>\n",
       "    <tr>\n",
       "      <th>8</th>\n",
       "      <td>United Kingdom</td>\n",
       "      <td>0.000433</td>\n",
       "    </tr>\n",
       "    <tr>\n",
       "      <th>9</th>\n",
       "      <td>India</td>\n",
       "      <td>0.000428</td>\n",
       "    </tr>\n",
       "    <tr>\n",
       "      <th>10</th>\n",
       "      <td>England</td>\n",
       "      <td>0.000424</td>\n",
       "    </tr>\n",
       "    <tr>\n",
       "      <th>11</th>\n",
       "      <td>Iran</td>\n",
       "      <td>0.000398</td>\n",
       "    </tr>\n",
       "    <tr>\n",
       "      <th>12</th>\n",
       "      <td>World War II</td>\n",
       "      <td>0.000386</td>\n",
       "    </tr>\n",
       "    <tr>\n",
       "      <th>13</th>\n",
       "      <td>Poland</td>\n",
       "      <td>0.000363</td>\n",
       "    </tr>\n",
       "    <tr>\n",
       "      <th>14</th>\n",
       "      <td>village</td>\n",
       "      <td>0.000344</td>\n",
       "    </tr>\n",
       "    <tr>\n",
       "      <th>15</th>\n",
       "      <td>Countries of the world</td>\n",
       "      <td>0.000338</td>\n",
       "    </tr>\n",
       "    <tr>\n",
       "      <th>16</th>\n",
       "      <td>Japan</td>\n",
       "      <td>0.000329</td>\n",
       "    </tr>\n",
       "    <tr>\n",
       "      <th>17</th>\n",
       "      <td>Italy</td>\n",
       "      <td>0.000329</td>\n",
       "    </tr>\n",
       "    <tr>\n",
       "      <th>18</th>\n",
       "      <td>List of countries</td>\n",
       "      <td>0.000326</td>\n",
       "    </tr>\n",
       "    <tr>\n",
       "      <th>19</th>\n",
       "      <td>Australia</td>\n",
       "      <td>0.000325</td>\n",
       "    </tr>\n",
       "    <tr>\n",
       "      <th>20</th>\n",
       "      <td>Voivodeships of Poland</td>\n",
       "      <td>0.000313</td>\n",
       "    </tr>\n",
       "    <tr>\n",
       "      <th>21</th>\n",
       "      <td>National Register of Historic Places</td>\n",
       "      <td>0.000310</td>\n",
       "    </tr>\n",
       "    <tr>\n",
       "      <th>22</th>\n",
       "      <td>Lepidoptera</td>\n",
       "      <td>0.000308</td>\n",
       "    </tr>\n",
       "    <tr>\n",
       "      <th>23</th>\n",
       "      <td>Powiat</td>\n",
       "      <td>0.000303</td>\n",
       "    </tr>\n",
       "    <tr>\n",
       "      <th>24</th>\n",
       "      <td>Gmina</td>\n",
       "      <td>0.000298</td>\n",
       "    </tr>\n",
       "    <tr>\n",
       "      <th>25</th>\n",
       "      <td>The New York Times</td>\n",
       "      <td>0.000286</td>\n",
       "    </tr>\n",
       "    <tr>\n",
       "      <th>26</th>\n",
       "      <td>London</td>\n",
       "      <td>0.000284</td>\n",
       "    </tr>\n",
       "    <tr>\n",
       "      <th>27</th>\n",
       "      <td>English language</td>\n",
       "      <td>0.000269</td>\n",
       "    </tr>\n",
       "    <tr>\n",
       "      <th>28</th>\n",
       "      <td>China</td>\n",
       "      <td>0.000264</td>\n",
       "    </tr>\n",
       "    <tr>\n",
       "      <th>29</th>\n",
       "      <td>Russia</td>\n",
       "      <td>0.000261</td>\n",
       "    </tr>\n",
       "    <tr>\n",
       "      <th>30</th>\n",
       "      <td>New York City</td>\n",
       "      <td>0.000258</td>\n",
       "    </tr>\n",
       "    <tr>\n",
       "      <th>31</th>\n",
       "      <td>Departments of France</td>\n",
       "      <td>0.000255</td>\n",
       "    </tr>\n",
       "    <tr>\n",
       "      <th>32</th>\n",
       "      <td>Spain</td>\n",
       "      <td>0.000251</td>\n",
       "    </tr>\n",
       "    <tr>\n",
       "      <th>33</th>\n",
       "      <td>Communes of France</td>\n",
       "      <td>0.000249</td>\n",
       "    </tr>\n",
       "    <tr>\n",
       "      <th>34</th>\n",
       "      <td>moth</td>\n",
       "      <td>0.000245</td>\n",
       "    </tr>\n",
       "    <tr>\n",
       "      <th>35</th>\n",
       "      <td>Brazil</td>\n",
       "      <td>0.000245</td>\n",
       "    </tr>\n",
       "    <tr>\n",
       "      <th>36</th>\n",
       "      <td>Association football</td>\n",
       "      <td>0.000239</td>\n",
       "    </tr>\n",
       "    <tr>\n",
       "      <th>37</th>\n",
       "      <td>association football</td>\n",
       "      <td>0.000233</td>\n",
       "    </tr>\n",
       "    <tr>\n",
       "      <th>38</th>\n",
       "      <td>California</td>\n",
       "      <td>0.000221</td>\n",
       "    </tr>\n",
       "    <tr>\n",
       "      <th>39</th>\n",
       "      <td>Counties of Iran</td>\n",
       "      <td>0.000215</td>\n",
       "    </tr>\n",
       "    <tr>\n",
       "      <th>40</th>\n",
       "      <td>Provinces of Iran</td>\n",
       "      <td>0.000215</td>\n",
       "    </tr>\n",
       "    <tr>\n",
       "      <th>41</th>\n",
       "      <td>Central European Time</td>\n",
       "      <td>0.000211</td>\n",
       "    </tr>\n",
       "    <tr>\n",
       "      <th>42</th>\n",
       "      <td>Romania</td>\n",
       "      <td>0.000211</td>\n",
       "    </tr>\n",
       "    <tr>\n",
       "      <th>43</th>\n",
       "      <td>Bakhsh</td>\n",
       "      <td>0.000207</td>\n",
       "    </tr>\n",
       "    <tr>\n",
       "      <th>44</th>\n",
       "      <td>Sweden</td>\n",
       "      <td>0.000203</td>\n",
       "    </tr>\n",
       "    <tr>\n",
       "      <th>45</th>\n",
       "      <td>Rural Districts of Iran</td>\n",
       "      <td>0.000203</td>\n",
       "    </tr>\n",
       "    <tr>\n",
       "      <th>46</th>\n",
       "      <td>Netherlands</td>\n",
       "      <td>0.000197</td>\n",
       "    </tr>\n",
       "    <tr>\n",
       "      <th>47</th>\n",
       "      <td>Private Use Areas</td>\n",
       "      <td>0.000191</td>\n",
       "    </tr>\n",
       "    <tr>\n",
       "      <th>48</th>\n",
       "      <td>World War I</td>\n",
       "      <td>0.000191</td>\n",
       "    </tr>\n",
       "    <tr>\n",
       "      <th>49</th>\n",
       "      <td>New York</td>\n",
       "      <td>0.000188</td>\n",
       "    </tr>\n",
       "    <tr>\n",
       "      <th>50</th>\n",
       "      <td>Central European Summer Time</td>\n",
       "      <td>0.000188</td>\n",
       "    </tr>\n",
       "    <tr>\n",
       "      <th>51</th>\n",
       "      <td>Mexico</td>\n",
       "      <td>0.000187</td>\n",
       "    </tr>\n",
       "    <tr>\n",
       "      <th>52</th>\n",
       "      <td>Iran Standard Time</td>\n",
       "      <td>0.000187</td>\n",
       "    </tr>\n",
       "    <tr>\n",
       "      <th>53</th>\n",
       "      <td>AllMusic</td>\n",
       "      <td>0.000185</td>\n",
       "    </tr>\n",
       "    <tr>\n",
       "      <th>54</th>\n",
       "      <td>Iran Daylight Time</td>\n",
       "      <td>0.000179</td>\n",
       "    </tr>\n",
       "    <tr>\n",
       "      <th>55</th>\n",
       "      <td>Hangul</td>\n",
       "      <td>0.000178</td>\n",
       "    </tr>\n",
       "    <tr>\n",
       "      <th>56</th>\n",
       "      <td>Scotland</td>\n",
       "      <td>0.000173</td>\n",
       "    </tr>\n",
       "    <tr>\n",
       "      <th>57</th>\n",
       "      <td>gene</td>\n",
       "      <td>0.000170</td>\n",
       "    </tr>\n",
       "    <tr>\n",
       "      <th>58</th>\n",
       "      <td>Soviet Union</td>\n",
       "      <td>0.000168</td>\n",
       "    </tr>\n",
       "    <tr>\n",
       "      <th>59</th>\n",
       "      <td>Norway</td>\n",
       "      <td>0.000167</td>\n",
       "    </tr>\n",
       "    <tr>\n",
       "      <th>60</th>\n",
       "      <td>Allmusic</td>\n",
       "      <td>0.000165</td>\n",
       "    </tr>\n",
       "    <tr>\n",
       "      <th>61</th>\n",
       "      <td>Paris</td>\n",
       "      <td>0.000161</td>\n",
       "    </tr>\n",
       "    <tr>\n",
       "      <th>62</th>\n",
       "      <td>New Zealand</td>\n",
       "      <td>0.000161</td>\n",
       "    </tr>\n",
       "    <tr>\n",
       "      <th>63</th>\n",
       "      <td>Turkey</td>\n",
       "      <td>0.000159</td>\n",
       "    </tr>\n",
       "    <tr>\n",
       "      <th>64</th>\n",
       "      <td>Plant</td>\n",
       "      <td>0.000158</td>\n",
       "    </tr>\n",
       "    <tr>\n",
       "      <th>65</th>\n",
       "      <td>Geographic Names Information System</td>\n",
       "      <td>0.000155</td>\n",
       "    </tr>\n",
       "    <tr>\n",
       "      <th>66</th>\n",
       "      <td>Switzerland</td>\n",
       "      <td>0.000155</td>\n",
       "    </tr>\n",
       "    <tr>\n",
       "      <th>67</th>\n",
       "      <td>Los Angeles</td>\n",
       "      <td>0.000153</td>\n",
       "    </tr>\n",
       "    <tr>\n",
       "      <th>68</th>\n",
       "      <td>Romanize</td>\n",
       "      <td>0.000149</td>\n",
       "    </tr>\n",
       "    <tr>\n",
       "      <th>69</th>\n",
       "      <td>United States Census Bureau</td>\n",
       "      <td>0.000148</td>\n",
       "    </tr>\n",
       "    <tr>\n",
       "      <th>70</th>\n",
       "      <td>Europe</td>\n",
       "      <td>0.000147</td>\n",
       "    </tr>\n",
       "    <tr>\n",
       "      <th>71</th>\n",
       "      <td>Angiosperms</td>\n",
       "      <td>0.000142</td>\n",
       "    </tr>\n",
       "    <tr>\n",
       "      <th>72</th>\n",
       "      <td>South Africa</td>\n",
       "      <td>0.000141</td>\n",
       "    </tr>\n",
       "    <tr>\n",
       "      <th>73</th>\n",
       "      <td>census</td>\n",
       "      <td>0.000139</td>\n",
       "    </tr>\n",
       "    <tr>\n",
       "      <th>74</th>\n",
       "      <td>Flowering plant</td>\n",
       "      <td>0.000138</td>\n",
       "    </tr>\n",
       "    <tr>\n",
       "      <th>75</th>\n",
       "      <td>Austria</td>\n",
       "      <td>0.000136</td>\n",
       "    </tr>\n",
       "    <tr>\n",
       "      <th>76</th>\n",
       "      <td>protein</td>\n",
       "      <td>0.000135</td>\n",
       "    </tr>\n",
       "    <tr>\n",
       "      <th>77</th>\n",
       "      <td>U.S. state</td>\n",
       "      <td>0.000135</td>\n",
       "    </tr>\n",
       "    <tr>\n",
       "      <th>78</th>\n",
       "      <td>Argentina</td>\n",
       "      <td>0.000131</td>\n",
       "    </tr>\n",
       "    <tr>\n",
       "      <th>79</th>\n",
       "      <td>Political divisions of the United States</td>\n",
       "      <td>0.000130</td>\n",
       "    </tr>\n",
       "    <tr>\n",
       "      <th>80</th>\n",
       "      <td>population density</td>\n",
       "      <td>0.000130</td>\n",
       "    </tr>\n",
       "    <tr>\n",
       "      <th>81</th>\n",
       "      <td>Catholic Church</td>\n",
       "      <td>0.000128</td>\n",
       "    </tr>\n",
       "    <tr>\n",
       "      <th>82</th>\n",
       "      <td>Chordate</td>\n",
       "      <td>0.000128</td>\n",
       "    </tr>\n",
       "    <tr>\n",
       "      <th>83</th>\n",
       "      <td>BBC</td>\n",
       "      <td>0.000127</td>\n",
       "    </tr>\n",
       "    <tr>\n",
       "      <th>84</th>\n",
       "      <td>Belgium</td>\n",
       "      <td>0.000127</td>\n",
       "    </tr>\n",
       "    <tr>\n",
       "      <th>85</th>\n",
       "      <td>Chicago</td>\n",
       "      <td>0.000124</td>\n",
       "    </tr>\n",
       "    <tr>\n",
       "      <th>86</th>\n",
       "      <td>Washington, D.C.</td>\n",
       "      <td>0.000121</td>\n",
       "    </tr>\n",
       "    <tr>\n",
       "      <th>87</th>\n",
       "      <td>Pakistan</td>\n",
       "      <td>0.000120</td>\n",
       "    </tr>\n",
       "    <tr>\n",
       "      <th>88</th>\n",
       "      <td>Finland</td>\n",
       "      <td>0.000116</td>\n",
       "    </tr>\n",
       "    <tr>\n",
       "      <th>89</th>\n",
       "      <td>The Guardian</td>\n",
       "      <td>0.000115</td>\n",
       "    </tr>\n",
       "    <tr>\n",
       "      <th>90</th>\n",
       "      <td>Latin</td>\n",
       "      <td>0.000115</td>\n",
       "    </tr>\n",
       "    <tr>\n",
       "      <th>91</th>\n",
       "      <td>Ontario</td>\n",
       "      <td>0.000114</td>\n",
       "    </tr>\n",
       "    <tr>\n",
       "      <th>92</th>\n",
       "      <td>Czech Republic</td>\n",
       "      <td>0.000114</td>\n",
       "    </tr>\n",
       "    <tr>\n",
       "      <th>93</th>\n",
       "      <td>Philippines</td>\n",
       "      <td>0.000113</td>\n",
       "    </tr>\n",
       "    <tr>\n",
       "      <th>94</th>\n",
       "      <td>Denmark</td>\n",
       "      <td>0.000113</td>\n",
       "    </tr>\n",
       "    <tr>\n",
       "      <th>95</th>\n",
       "      <td>Greece</td>\n",
       "      <td>0.000113</td>\n",
       "    </tr>\n",
       "    <tr>\n",
       "      <th>96</th>\n",
       "      <td>genus</td>\n",
       "      <td>0.000113</td>\n",
       "    </tr>\n",
       "    <tr>\n",
       "      <th>97</th>\n",
       "      <td>football (soccer)</td>\n",
       "      <td>0.000112</td>\n",
       "    </tr>\n",
       "    <tr>\n",
       "      <th>98</th>\n",
       "      <td>Hungary</td>\n",
       "      <td>0.000112</td>\n",
       "    </tr>\n",
       "    <tr>\n",
       "      <th>99</th>\n",
       "      <td>Eastern European Time</td>\n",
       "      <td>0.000112</td>\n",
       "    </tr>\n",
       "  </tbody>\n",
       "</table>\n",
       "</div>"
      ],
      "text/plain": [
       "                                   Page Name  PageRank\n",
       "0                              United States  0.001462\n",
       "1                                     Animal  0.000666\n",
       "2                                     France  0.000640\n",
       "3                                    Germany  0.000575\n",
       "4                                  Arthropod  0.000450\n",
       "5                                     Canada  0.000447\n",
       "6                                     Insect  0.000445\n",
       "7                   List of sovereign states  0.000444\n",
       "8                             United Kingdom  0.000433\n",
       "9                                      India  0.000428\n",
       "10                                   England  0.000424\n",
       "11                                      Iran  0.000398\n",
       "12                              World War II  0.000386\n",
       "13                                    Poland  0.000363\n",
       "14                                   village  0.000344\n",
       "15                    Countries of the world  0.000338\n",
       "16                                     Japan  0.000329\n",
       "17                                     Italy  0.000329\n",
       "18                         List of countries  0.000326\n",
       "19                                 Australia  0.000325\n",
       "20                    Voivodeships of Poland  0.000313\n",
       "21      National Register of Historic Places  0.000310\n",
       "22                               Lepidoptera  0.000308\n",
       "23                                    Powiat  0.000303\n",
       "24                                     Gmina  0.000298\n",
       "25                        The New York Times  0.000286\n",
       "26                                    London  0.000284\n",
       "27                          English language  0.000269\n",
       "28                                     China  0.000264\n",
       "29                                    Russia  0.000261\n",
       "30                             New York City  0.000258\n",
       "31                     Departments of France  0.000255\n",
       "32                                     Spain  0.000251\n",
       "33                        Communes of France  0.000249\n",
       "34                                      moth  0.000245\n",
       "35                                    Brazil  0.000245\n",
       "36                      Association football  0.000239\n",
       "37                      association football  0.000233\n",
       "38                                California  0.000221\n",
       "39                          Counties of Iran  0.000215\n",
       "40                         Provinces of Iran  0.000215\n",
       "41                     Central European Time  0.000211\n",
       "42                                   Romania  0.000211\n",
       "43                                    Bakhsh  0.000207\n",
       "44                                    Sweden  0.000203\n",
       "45                   Rural Districts of Iran  0.000203\n",
       "46                               Netherlands  0.000197\n",
       "47                         Private Use Areas  0.000191\n",
       "48                               World War I  0.000191\n",
       "49                                  New York  0.000188\n",
       "50              Central European Summer Time  0.000188\n",
       "51                                    Mexico  0.000187\n",
       "52                        Iran Standard Time  0.000187\n",
       "53                                  AllMusic  0.000185\n",
       "54                        Iran Daylight Time  0.000179\n",
       "55                                    Hangul  0.000178\n",
       "56                                  Scotland  0.000173\n",
       "57                                      gene  0.000170\n",
       "58                              Soviet Union  0.000168\n",
       "59                                    Norway  0.000167\n",
       "60                                  Allmusic  0.000165\n",
       "61                                     Paris  0.000161\n",
       "62                               New Zealand  0.000161\n",
       "63                                    Turkey  0.000159\n",
       "64                                     Plant  0.000158\n",
       "65       Geographic Names Information System  0.000155\n",
       "66                               Switzerland  0.000155\n",
       "67                               Los Angeles  0.000153\n",
       "68                                  Romanize  0.000149\n",
       "69               United States Census Bureau  0.000148\n",
       "70                                    Europe  0.000147\n",
       "71                               Angiosperms  0.000142\n",
       "72                              South Africa  0.000141\n",
       "73                                    census  0.000139\n",
       "74                           Flowering plant  0.000138\n",
       "75                                   Austria  0.000136\n",
       "76                                   protein  0.000135\n",
       "77                                U.S. state  0.000135\n",
       "78                                 Argentina  0.000131\n",
       "79  Political divisions of the United States  0.000130\n",
       "80                        population density  0.000130\n",
       "81                           Catholic Church  0.000128\n",
       "82                                  Chordate  0.000128\n",
       "83                                       BBC  0.000127\n",
       "84                                   Belgium  0.000127\n",
       "85                                   Chicago  0.000124\n",
       "86                          Washington, D.C.  0.000121\n",
       "87                                  Pakistan  0.000120\n",
       "88                                   Finland  0.000116\n",
       "89                              The Guardian  0.000115\n",
       "90                                     Latin  0.000115\n",
       "91                                   Ontario  0.000114\n",
       "92                            Czech Republic  0.000114\n",
       "93                               Philippines  0.000113\n",
       "94                                   Denmark  0.000113\n",
       "95                                    Greece  0.000113\n",
       "96                                     genus  0.000113\n",
       "97                         football (soccer)  0.000112\n",
       "98                                   Hungary  0.000112\n",
       "99                     Eastern European Time  0.000112"
      ]
     },
     "execution_count": null,
     "metadata": {},
     "output_type": "execute_result"
    }
   ],
   "source": [
    "wikipedia50Top100PageRanks = sc.broadcast(wikipedia50Top100PageRankValues)\n",
    "\n",
    "def isTop100Index50(x):\n",
    "    pageId = x.split('\\t')[1]\n",
    "    return pageId in wikipedia50Top100PageRanks.value\n",
    "\n",
    "def getPageRank50(x):\n",
    "    pageName, pageId, values = x.split('\\t', 2)\n",
    "    return pageName, wikipedia50Top100PageRanks.value[pageId]\n",
    "\n",
    "wikipedia50Top100NamedPageRanks = wikipediaIndicesRDD \\\n",
    "    .filter(isTop100Index50) \\\n",
    "    .map(getPageRank50) \\\n",
    "    .takeOrdered(100, lambda x: -x[1])\n",
    "\n",
    "pandas.set_option('display.max_rows', 100)\n",
    "wikipedia50 = pandas.DataFrame(wikipedia50Top100NamedPageRanks, columns=['Page Name', 'PageRank'])\n",
    "wikipedia50"
   ]
  },
  {
   "cell_type": "markdown",
   "metadata": {},
   "source": [
    "## Evaluate PageRank Results"
   ]
  },
  {
   "cell_type": "markdown",
   "metadata": {},
   "source": [
    "> Plot the pagerank values for the top 100 pages resulting from the 50 iterations run. Then plot the pagerank values for the same 100 pages that resulted from the 10 iterations run.  Comment on your findings."
   ]
  },
  {
   "cell_type": "code",
   "execution_count": null,
   "metadata": {
    "collapsed": false
   },
   "outputs": [
    {
     "data": {
      "text/plain": [
       "<matplotlib.axes._subplots.AxesSubplot at 0x7f86a42fcad0>"
      ]
     },
     "execution_count": null,
     "metadata": {},
     "output_type": "execute_result"
    },
    {
     "data": {
      "image/png": "[encoded data removed]",
      "text/plain": [
      ]
     },
     "metadata": {},
     "output_type": "display_data"
    }
   ],
   "source": [
    "wikipediaMerged = wikipedia10.merge( \\\n",
    "    wikipedia50, on=['Page Name'], suffixes=[' (10 iterations)', ' (50 iterations)'])\n",
    "\n",
    "fig, axes = plt.subplots(1, 2, figsize=(16, 30))\n",
    "\n",
    "seaborn.barplot(x='PageRank (10 iterations)', y='Page Name', data=wikipediaMerged, ax=axes[0])\n",
    "seaborn.barplot(x='PageRank (50 iterations)', y='Page Name', data=wikipediaMerged, ax=axes[1])"
   ]
  },
  {
   "cell_type": "markdown",
   "metadata": {},
   "source": [
    "> Have the top 100 ranked pages changed? Have the pagerank values changed? Explain."
   ]
  },
  {
   "cell_type": "code",
   "execution_count": null,
   "metadata": {
    "collapsed": false
   },
   "outputs": [
    {
     "name": "stdout",
     "output_type": "stream",
     "text": [
      "Intersection: 100 nodes\n"
     ]
    }
   ],
   "source": [
    "top100Nodes10 = [x[0] for x in wikipedia10Top100NamedPageRanks]\n",
    "top100Nodes50 = [x[0] for x in wikipedia50Top100NamedPageRanks]\n",
    "\n",
    "intersection = set(top100Nodes10) & set(top100Nodes50)\n",
    "print 'Intersection:', len(intersection), 'nodes'"
   ]
  },
  {
   "cell_type": "markdown",
   "metadata": {},
   "source": [
    "We can also check the Levenshtein distance between the two rankings to see how much the rankings themselves have changed."
   ]
  },
  {
   "cell_type": "code",
   "execution_count": null,
   "metadata": {
    "collapsed": false
   },
   "outputs": [
    {
     "name": "stdout",
     "output_type": "stream",
     "text": [
      "Levenshtein distance: 23\n"
     ]
    }
   ],
   "source": [
    "# Borrowed under Creative Commons\n",
    "# http://hetland.org/coding/python/levenshtein.py\n",
    "\n",
    "def levenshtein(a,b):\n",
    "    \"Calculates the Levenshtein distance between a and b.\"\n",
    "    n, m = len(a), len(b)\n",
    "    if n > m:\n",
    "        # Make sure n <= m, to use O(min(n,m)) space\n",
    "        a,b = b,a\n",
    "        n,m = m,n\n",
    "\n",
    "    current = range(n+1)\n",
    "    for i in range(1,m+1):\n",
    "        previous, current = current, [i]+[0]*n\n",
    "        for j in range(1,n+1):\n",
    "            add, delete = previous[j]+1, current[j-1]+1\n",
    "            change = previous[j-1]\n",
    "            if a[j-1] != b[i-1]:\n",
    "                change = change + 1\n",
    "            current[j] = min(add, delete, change)\n",
    "\n",
    "    return current[n]\n",
    "\n",
    "print 'Levenshtein distance:', levenshtein(top100Nodes10, top100Nodes50)"
   ]
  },
  {
   "cell_type": "markdown",
   "metadata": {},
   "source": [
    "This means that even though the top 100 has not changed in terms of the nodes themselves, the rankings have shifted slightly during the additional iterations. Let's identify which ones changed."
   ]
  },
  {
   "cell_type": "code",
   "execution_count": null,
   "metadata": {
    "collapsed": false
   },
   "outputs": [
    {
     "data": {
      "text/plain": [
       "[(u'Canada', u'Arthropod'),\n",
       " (u'Arthropod', u'Canada'),\n",
       " (u'List of sovereign states', u'Insect'),\n",
       " (u'Insect', u'List of sovereign states'),\n",
       " (u'Australia', u'List of countries'),\n",
       " (u'List of countries', u'Australia'),\n",
       " (u'Brazil', u'moth'),\n",
       " (u'moth', u'Brazil'),\n",
       " (u'World War I', u'Private Use Areas'),\n",
       " (u'Private Use Areas', u'World War I'),\n",
       " (u'AllMusic', u'Iran Standard Time'),\n",
       " (u'Iran Standard Time', u'AllMusic'),\n",
       " (u'Switzerland', u'Geographic Names Information System'),\n",
       " (u'Geographic Names Information System', u'Switzerland'),\n",
       " (u'United States Census Bureau', u'Romanize'),\n",
       " (u'Europe', u'United States Census Bureau'),\n",
       " (u'Romanize', u'Europe'),\n",
       " (u'U.S. state', u'protein'),\n",
       " (u'protein', u'U.S. state'),\n",
       " (u'population density', u'Political divisions of the United States'),\n",
       " (u'Political divisions of the United States', u'population density'),\n",
       " (u'Latin', u'The Guardian'),\n",
       " (u'The Guardian', u'Latin'),\n",
       " (u'Denmark', u'Philippines'),\n",
       " (u'Philippines', u'Denmark')]"
      ]
     },
     "execution_count": null,
     "metadata": {},
     "output_type": "execute_result"
    }
   ],
   "source": [
    "[(x, y) for x, y in zip(top100Nodes10, top100Nodes50) if x != y]"
   ]
  },
  {
   "cell_type": "markdown",
   "metadata": {},
   "source": [
    "Because the zip is ordered, and everything mismatched is immediately flipped, many of the top 100 are switching places back and forth as the PageRank continues to iterate, with one exception being a set of three (United States Census Bureau, Romanize, Europe) that appear to be switching places."
   ]
  }
 ],
 "metadata": {
  "kernelspec": {
   "display_name": "Python 2",
   "language": "python",
   "name": "python2"
  },
  "language_info": {
   "codemirror_mode": {
    "name": "ipython",
    "version": 2
   },
   "file_extension": ".py",
   "mimetype": "text/x-python",
   "name": "python",
   "nbconvert_exporter": "python",
   "pygments_lexer": "ipython2",
   "version": "2.7.10"
  },
  "toc": {
   "toc_cell": false,
   "toc_number_sections": true,
   "toc_threshold": 6,
   "toc_window_display": false
  }
 },
 "nbformat": 4,
 "nbformat_minor": 0
}
