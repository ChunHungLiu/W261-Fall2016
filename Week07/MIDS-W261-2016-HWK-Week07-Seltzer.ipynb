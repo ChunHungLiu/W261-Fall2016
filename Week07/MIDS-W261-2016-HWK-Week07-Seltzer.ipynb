{
 "cells": [
  {
   "cell_type": "markdown",
   "metadata": {},
   "source": [
    "# DATASCI W261: Machine Learning at Scale\n",
    "## Assignment Week 7\n",
    "Miki Seltzer (miki.seltzer@berkeley.edu)<br>\n",
    "W261-2, Spring 2016<br>\n",
    "Submission: "
   ]
  },
  {
   "cell_type": "code",
   "execution_count": 1,
   "metadata": {
    "collapsed": true
   },
   "outputs": [],
   "source": [
    "# We will need these so we can reload modules as we modify them\n",
    "%load_ext autoreload\n",
    "%autoreload 2"
   ]
  },
  {
   "cell_type": "markdown",
   "metadata": {},
   "source": [
    "# HW 7.0: Shortest path graph distances (toy networks)\n",
    "\n",
    "In this part of your assignment you will develop the base of your code for the week.\n",
    "\n",
    "Write MRJob classes to find shortest path graph distances, as described in the lectures. In addition to finding the distances, your code should also output a distance-minimizing path between the source and target. Work locally for this part of the assignment, and use both of the undirected and directed toy networks.\n",
    "\n",
    "![Toy networks](toy_graphs.png)\n",
    "\n",
    "To proof you code's function, run the following jobs\n",
    "\n",
    "- shortest path in the undirected network from node 1 to node 4\n",
    "Solution: 1,5,4 \n",
    "\n",
    "- shortest path in the directed network from node 1 to node 5\n",
    "Solution: 1,2,4,5\n",
    "\n",
    "and report your output -- make sure it is correct!"
   ]
  },
  {
   "cell_type": "markdown",
   "metadata": {},
   "source": [
    "## Initialize graph structure\n",
    "\n",
    "We have the graph encoded as an adjacency list, but we need to keep track of state in each iteration\n",
    "- shortest distance from start node\n",
    "- node state (unvisited, queued, visited)\n",
    "- path taken to get to node"
   ]
  },
  {
   "cell_type": "code",
   "execution_count": 76,
   "metadata": {
    "collapsed": false
   },
   "outputs": [
    {
     "name": "stdout",
     "output_type": "stream",
     "text": [
      "Overwriting MRJob_Initiate.py\n"
     ]
    }
   ],
   "source": [
    "%%writefile MRJob_Initiate.py\n",
    "from mrjob.job import MRJob\n",
    "from mrjob.step import MRStep\n",
    "import sys\n",
    "\n",
    "class initiate(MRJob):\n",
    "        \n",
    "    # Specify some custom options so we only have to write one MRJob class for each join\n",
    "    def configure_options(self):\n",
    "        super(initiate, self).configure_options()\n",
    "        self.add_passthrough_option('--startNode', default='1')\n",
    "        \n",
    "    def mapper(self, _, line):\n",
    "        fields = line.strip().split('\\t')\n",
    "        name = fields[0]\n",
    "        neighbors = eval(fields[1])\n",
    "        if name == self.options.startNode:\n",
    "            yield name, [neighbors, 0, 'Q', [name]]\n",
    "        else:\n",
    "            yield name, [neighbors, sys.maxint, 'U', []]\n",
    "        \n",
    "if __name__ == '__main__':\n",
    "    shortestPath.run()"
   ]
  },
  {
   "cell_type": "markdown",
   "metadata": {},
   "source": [
    "## Iterate through graph structure\n",
    "\n",
    "In each mapper iteration:\n",
    "- Expand each node that is in queued state, then mark that node as visited\n",
    "\n",
    "In each reducer iteration:\n",
    "- If any record for a node has a visited state, emit the visited record\n",
    "- When we keep track of state, if a record has a state of queued, then the node needs to be merged\n",
    "- If the record is truly unvisited, emit the unvisited node"
   ]
  },
  {
   "cell_type": "code",
   "execution_count": 115,
   "metadata": {
    "collapsed": false
   },
   "outputs": [
    {
     "name": "stdout",
     "output_type": "stream",
     "text": [
      "Overwriting MRJob_ShortestPath.py\n"
     ]
    }
   ],
   "source": [
    "%%writefile MRJob_ShortestPath.py\n",
    "from mrjob.job import MRJob\n",
    "from mrjob.step import MRStep\n",
    "import sys\n",
    "\n",
    "class shortestPath(MRJob):\n",
    "    \n",
    "    \"\"\"\n",
    "    Mapper: Iterate over each node in graph file\n",
    "    - Expand frontier if needed\n",
    "    - Update node statuses\n",
    "    \"\"\"\n",
    "    def mapper(self, _, line):\n",
    "        \n",
    "        # Split text to get our data\n",
    "        fields = line.strip().split('\\t')\n",
    "        name = fields[0]\n",
    "        value = eval(fields[1])\n",
    "        neighbors = value[0]\n",
    "        distance = int(value[1])\n",
    "        status = value[2]\n",
    "        path = value[3]\n",
    "        \n",
    "        # If this node is queued, expand the frontier\n",
    "        #  - mark current node as visited\n",
    "        #  - yield neighbor nodes into queue\n",
    "        if status == 'Q':\n",
    "            yield name, [neighbors, distance, 'V', path]\n",
    "            if neighbors:\n",
    "                for node in neighbors:\n",
    "                    temp_path = list(path)\n",
    "                    temp_path.append(node)\n",
    "                    yield node, [None, distance + 1, 'Q', temp_path]\n",
    "        else:\n",
    "            yield name, [neighbors, distance, status, path]\n",
    "        \n",
    "        \n",
    "    \"\"\"\n",
    "    Reducer: Aggregate expanded nodes\n",
    "    \"\"\"\n",
    "    def reducer(self, key, values):\n",
    "        neighbors = None\n",
    "        distance = sys.maxint\n",
    "        status = None\n",
    "        path = []\n",
    "        \n",
    "        for val in values:\n",
    "            \n",
    "            # We've hit a visited node. Break out of the loop.\n",
    "            if val[2] == 'V':\n",
    "                neighbors = val[0]\n",
    "                distance = val[1]\n",
    "                status = val[2]\n",
    "                path = val[3]\n",
    "                break\n",
    "            \n",
    "            # We've hit an unvisited node. Collect the neighbors and the status\n",
    "            # If status is already Q, do not overwrite\n",
    "            elif val[0]: \n",
    "                neighbors = val[0]\n",
    "                if status != 'Q':\n",
    "                    status = val[2]\n",
    "            \n",
    "            # We've hit a queued node. Update status and path\n",
    "            else:\n",
    "                status = val[2]\n",
    "                path = val[3]\n",
    "                \n",
    "            # Update minimum distance if necessary\n",
    "            distance = min(distance, val[1])\n",
    "            \n",
    "        yield key, [neighbors, distance, status, path]\n",
    "    \n",
    "    \"\"\"\n",
    "    Multistep pipeline definition\n",
    "    \"\"\"\n",
    "#     def steps(self):\n",
    "#         return [\n",
    "#                 MRStep()\n",
    "#             ]\n",
    "    \n",
    "if __name__ == '__main__':\n",
    "    shortestPath.run()"
   ]
  },
  {
   "cell_type": "code",
   "execution_count": 122,
   "metadata": {
    "collapsed": false
   },
   "outputs": [
    {
     "name": "stdout",
     "output_type": "stream",
     "text": [
      "Shortest path in undirected_toy.txt\n",
      "Start node = 1 and end node = 4\n",
      "['1', '5', '4']\n",
      "\n",
      "Shortest path in directed_toy.txt\n",
      "Start node = 1 and end node = 5\n",
      "['1', '2', '4', '5']\n"
     ]
    }
   ],
   "source": [
    "from MRJob_Initiate import initiate\n",
    "from MRJob_ShortestPath import shortestPath\n",
    "\n",
    "def findShortestPath(filename, startNode, endNode):\n",
    "\n",
    "    temp_filename = filename.replace('.', '_temp.')\n",
    "    \n",
    "    # Initiate graph adjacency list to track state\n",
    "    mr_job_init = initiate(args=[filename, '--no-strict-protocols', '--startNode', startNode])\n",
    "    outInit = []\n",
    "    \n",
    "    with mr_job_init.make_runner() as runner:\n",
    "        runner.run()\n",
    "        \n",
    "        for line in runner.stream_output():\n",
    "            out = mr_job_init.parse_output_line(line)\n",
    "            outInit.append(out)\n",
    "            \n",
    "        with open(temp_filename, 'w') as outfile:\n",
    "            outfile.writelines(str(x[0]) + '\\t' + str(x[1]) + '\\n' for x in outInit)\n",
    "    \n",
    "    # Iterate over the adjacency list with state until all nodes are visited\n",
    "    mr_job = shortestPath(args=[temp_filename, '--no-strict-protocols'])\n",
    "    allVisited = False\n",
    "    \n",
    "    while not allVisited:\n",
    "        output = []\n",
    "        numQueued = 0\n",
    "\n",
    "        with mr_job.make_runner() as runner: \n",
    "            # Run MRJob\n",
    "            runner.run()\n",
    "\n",
    "            # Write stream_output to file\n",
    "            for line in runner.stream_output():\n",
    "                out = mr_job.parse_output_line(line)\n",
    "                output.append(out)\n",
    "                if out[1][2] == 'Q':\n",
    "                    numQueued += 1\n",
    "        \n",
    "        # Write the new states to file\n",
    "        with open(temp_filename, 'w') as outfile:\n",
    "            outfile.writelines(str(x[0]) + '\\t' + str(x[1]) + '\\n' for x in output)\n",
    "        \n",
    "        # Are we done yet?\n",
    "        if numQueued == 0:\n",
    "            allVisited = True\n",
    "            for node in output:\n",
    "                if node[0] == endNode:\n",
    "                    print 'Start node =', startNode, 'and end node =', endNode\n",
    "                    print node[1][3]\n",
    "\n",
    "filename = 'undirected_toy.txt'\n",
    "print 'Shortest path in', filename\n",
    "findShortestPath(filename, '1', '4')\n",
    "filename = 'directed_toy.txt'\n",
    "print '\\nShortest path in', filename\n",
    "findShortestPath('directed_toy.txt', '1', '5')"
   ]
  },
  {
   "cell_type": "code",
   "execution_count": null,
   "metadata": {
    "collapsed": true
   },
   "outputs": [],
   "source": []
  }
 ],
 "metadata": {
  "kernelspec": {
   "display_name": "Python 2",
   "language": "python",
   "name": "python2"
  },
  "language_info": {
   "codemirror_mode": {
    "name": "ipython",
    "version": 2
   },
   "file_extension": ".py",
   "mimetype": "text/x-python",
   "name": "python",
   "nbconvert_exporter": "python",
   "pygments_lexer": "ipython2",
   "version": "2.7.11"
  }
 },
 "nbformat": 4,
 "nbformat_minor": 0
}
